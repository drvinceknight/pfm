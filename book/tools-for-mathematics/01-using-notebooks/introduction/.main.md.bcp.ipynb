{
 "cells": [
  {
   "cell_type": "markdown",
   "metadata": {},
   "source": [
    "(using_notebooks)=\n",
    "# Using notebooks\n",
    "\n",
    "## Introduction\n",
    "\n",
    "At the advent of Calculus two mathematicians are credited with its\n",
    "formalisation/invention:\n",
    "\n",
    "- Isaac Newton\n",
    "- Gottfried Leibniz\n",
    "\n",
    "One of the differences between the approaches taken by Newton and Leibniz is\n",
    "their notation:\n",
    "\n",
    "Newton denoted the derivative of a function $f$ as:\n",
    "\n",
    "$$Df$$\n",
    "\n",
    "and Leibniz denoted the derivative with the now more commonly used notation:\n",
    "\n",
    "$$\\frac{df}{dx}$$\n",
    "\n",
    "The mathematics itself is unchanged: what changes is the language/notation used\n",
    "to communicate it.\n",
    "\n",
    "Similarly when giving instructions through code to a computer there are a number\n",
    "of notations, more commonly called languages available.\n",
    "\n",
    "We will be using a language called [**Python**](https://www.python.org).\n",
    "\n",
    "Python was originally designed as a teaching language but it is now popular both\n",
    "in academia and in industry.\n",
    "\n",
    "```{important}\n",
    "In this chapter we will cover:\n",
    "\n",
    "- Installing the specific distribution of Python on your computer.\n",
    "- Using something called a Jupyter notebook to write and run Python code.\n",
    "- Writing descriptive notes using `markdown` and $\\LaTeX$ (pronounced Lay-tech).\n",
    "```"
   ]
  }
 ],
 "metadata": {
  "jupytext": {
   "formats": "ipynb,md:myst"
  },
  "kernelspec": {
   "display_name": "Python 3",
   "language": "python",
   "name": "python3"
  },
  "language_info": {
   "codemirror_mode": {
    "name": "ipython",
    "version": 3
   },
   "file_extension": ".py",
   "mimetype": "text/x-python",
   "name": "python",
   "nbconvert_exporter": "python",
   "pygments_lexer": "ipython3",
   "version": "3.8.3"
  }
 },
 "nbformat": 4,
 "nbformat_minor": 4
}
