{
 "cells": [
  {
   "cell_type": "markdown",
   "metadata": {},
   "source": [
    "# How to\n",
    "\n",
    "(create_a_list)=\n",
    "## Create a list\n",
    "\n",
    "To create a list which is an ordered collection of objects that **can** be\n",
    "changed we use the `[]` brackets.\n",
    "\n",
    "````{tip}\n",
    "```\n",
    "collection = [value_1, value_2, value_3, …, value_n]\n",
    "```\n",
    "````\n",
    "\n",
    "For example:"
   ]
  },
  {
   "cell_type": "code",
   "execution_count": 1,
   "metadata": {},
   "outputs": [
    {
     "data": {
      "text/plain": [
       "['Bread', 'Biscuits', 'Coffee']"
      ]
     },
     "execution_count": 1,
     "metadata": {},
     "output_type": "execute_result"
    }
   ],
   "source": [
    "basket = [\"Bread\", \"Biscuits\", \"Coffee\"]\n",
    "basket"
   ]
  },
  {
   "cell_type": "markdown",
   "metadata": {},
   "source": [
    "We can add to our list by appending to it:"
   ]
  },
  {
   "cell_type": "code",
   "execution_count": 2,
   "metadata": {},
   "outputs": [
    {
     "data": {
      "text/plain": [
       "['Bread', 'Biscuits', 'Coffee', 'Tea']"
      ]
     },
     "execution_count": 2,
     "metadata": {},
     "output_type": "execute_result"
    }
   ],
   "source": [
    "basket.append(\"Tea\")\n",
    "basket"
   ]
  },
  {
   "cell_type": "markdown",
   "metadata": {},
   "source": [
    "We can also combine lists together:"
   ]
  },
  {
   "cell_type": "code",
   "execution_count": 3,
   "metadata": {},
   "outputs": [
    {
     "data": {
      "text/plain": [
       "['Bread', 'Biscuits', 'Coffee', 'Tea', 'Toothpaste']"
      ]
     },
     "execution_count": 3,
     "metadata": {},
     "output_type": "execute_result"
    }
   ],
   "source": [
    "other_basket = [\"Toothpaste\"]\n",
    "basket = basket + other_basket\n",
    "basket"
   ]
  },
  {
   "cell_type": "markdown",
   "metadata": {},
   "source": [
    "As for tuples we can also access elements using their indices:"
   ]
  },
  {
   "cell_type": "code",
   "execution_count": 4,
   "metadata": {},
   "outputs": [
    {
     "data": {
      "text/plain": [
       "'Tea'"
      ]
     },
     "execution_count": 4,
     "metadata": {},
     "output_type": "execute_result"
    }
   ],
   "source": [
    "basket[3]"
   ]
  },
  {
   "cell_type": "markdown",
   "metadata": {},
   "source": [
    "## Define a function\n",
    "\n",
    "We define a function using the `def` keyword (short for define):\n",
    "\n",
    "````{tip}\n",
    "```\n",
    "def name(variable1, variable2, ...):\n",
    "    \"\"\"\n",
    "    A docstring between triple quotation to describe what is happening\n",
    "    \"\"\"\n",
    "    INDENTED BLOCK OF CODE\n",
    "    return output\n",
    "```\n",
    "````\n",
    "\n",
    "We can for example define $f:\\mathbb{R}\\to\\mathbb{R}$ given by $f(x) = x ^\n",
    "3$ using the following:"
   ]
  },
  {
   "cell_type": "code",
   "execution_count": 5,
   "metadata": {},
   "outputs": [],
   "source": [
    "def x_cubed(x):\n",
    "    \"\"\"\n",
    "    A function to return x ^ 3\n",
    "    \"\"\"\n",
    "    return x ** 3"
   ]
  },
  {
   "cell_type": "markdown",
   "metadata": {},
   "source": [
    "It is important to include the *docstring* as this allows us to make sure our\n",
    "code is clear. We can access that docstring using `help`:"
   ]
  },
  {
   "cell_type": "code",
   "execution_count": 6,
   "metadata": {},
   "outputs": [
    {
     "name": "stdout",
     "output_type": "stream",
     "text": [
      "Help on function x_cubed in module __main__:\n",
      "\n",
      "x_cubed(x)\n",
      "    A function to return x ^ 3\n",
      "\n"
     ]
    }
   ],
   "source": [
    "help(x_cubed)"
   ]
  },
  {
   "cell_type": "markdown",
   "metadata": {},
   "source": [
    "## Call a function\n",
    "\n",
    "Once a function is defined we call it using the `()`:\n",
    "\n",
    "````{tip}\n",
    "```\n",
    "name(variable1, variable2, ...)\n",
    "```\n",
    "````\n",
    "\n",
    "For example:"
   ]
  },
  {
   "cell_type": "code",
   "execution_count": 7,
   "metadata": {},
   "outputs": [
    {
     "data": {
      "text/plain": [
       "8"
      ]
     },
     "execution_count": 7,
     "metadata": {},
     "output_type": "execute_result"
    }
   ],
   "source": [
    "x_cubed(2)"
   ]
  },
  {
   "cell_type": "code",
   "execution_count": 8,
   "metadata": {},
   "outputs": [
    {
     "data": {
      "text/plain": [
       "125"
      ]
     },
     "execution_count": 8,
     "metadata": {},
     "output_type": "execute_result"
    }
   ],
   "source": [
    "x_cubed(5)"
   ]
  },
  {
   "cell_type": "code",
   "execution_count": 9,
   "metadata": {},
   "outputs": [
    {
     "data": {
      "text/latex": [
       "$\\displaystyle x^{3}$"
      ],
      "text/plain": [
       "x**3"
      ]
     },
     "execution_count": 9,
     "metadata": {},
     "output_type": "execute_result"
    }
   ],
   "source": [
    "import sympy as sym\n",
    "\n",
    "x = sym.Symbol(\"x\")\n",
    "x_cubed(x)"
   ]
  },
  {
   "cell_type": "markdown",
   "metadata": {},
   "source": [
    "## Conditional running of code\n",
    "\n",
    "To run code depending on whether or not a particular condition is met we use\n",
    "something called an `if` statement.\n",
    "\n",
    "\n",
    "````{tip}\n",
    "```\n",
    "if condition:\n",
    "    INDENTED BLOCK OF CODE TO RUN IF CONDITION IS TRUE\n",
    "else:\n",
    "    OTHER INDENTED BLOCK OF CODE TO RUM IF CONDITION IS NOT TRUE\n",
    "```\n",
    "````\n",
    "\n",
    "These `if` statements are most useful when combined with functions. For example\n",
    "we can define the following function:\n",
    "\n",
    "$$\n",
    "    f(x) = \\begin{cases}\n",
    "            x ^ 3&\\text{ if }x < 0\\\\\n",
    "            x ^ 2&\\text{ otherwise}\n",
    "            \\end{cases}\n",
    "$$"
   ]
  },
  {
   "cell_type": "code",
   "execution_count": 10,
   "metadata": {},
   "outputs": [],
   "source": [
    "def f(x):\n",
    "    \"\"\"\n",
    "    A function that returns x ^ 3 if x is negative.\n",
    "    Otherwise it returns x ^ 2.\n",
    "    \"\"\"\n",
    "    if x < 0:\n",
    "        return x ** 3\n",
    "    return x ** 2"
   ]
  },
  {
   "cell_type": "code",
   "execution_count": 11,
   "metadata": {},
   "outputs": [
    {
     "data": {
      "text/plain": [
       "0"
      ]
     },
     "execution_count": 11,
     "metadata": {},
     "output_type": "execute_result"
    }
   ],
   "source": [
    "f(0)"
   ]
  },
  {
   "cell_type": "code",
   "execution_count": 12,
   "metadata": {},
   "outputs": [
    {
     "data": {
      "text/plain": [
       "-1"
      ]
     },
     "execution_count": 12,
     "metadata": {},
     "output_type": "execute_result"
    }
   ],
   "source": [
    "f(-1)"
   ]
  },
  {
   "cell_type": "code",
   "execution_count": 13,
   "metadata": {},
   "outputs": [
    {
     "data": {
      "text/plain": [
       "9"
      ]
     },
     "execution_count": 13,
     "metadata": {},
     "output_type": "execute_result"
    }
   ],
   "source": [
    "f(3)"
   ]
  },
  {
   "cell_type": "markdown",
   "metadata": {},
   "source": [
    "Here is another example of a function that returns the price of a given item, if\n",
    "the item is not specific in the function then the price is free:"
   ]
  },
  {
   "cell_type": "code",
   "execution_count": 14,
   "metadata": {},
   "outputs": [],
   "source": [
    "def get_price_of_item(item):\n",
    "    \"\"\"\n",
    "    Returns the price of an item:\n",
    "\n",
    "    - 'Bread': 2\n",
    "    - 'Biscuits': 3\n",
    "    - 'Coffee': 1.80\n",
    "    - 'Tea': .50\n",
    "    - 'Toothpaste': 3.50\n",
    "\n",
    "    Other items will give a price of 0.\n",
    "    \"\"\"\n",
    "    if item == \"Bread\":\n",
    "        return 2\n",
    "    if item == \"Biscuits\":\n",
    "        return 3\n",
    "    if item == \"Coffee\":\n",
    "        return 1.80\n",
    "    if item == \"Tea\":\n",
    "        return 0.50\n",
    "    if item == \"Toothpaste\":\n",
    "        return 3.50\n",
    "    return 0"
   ]
  },
  {
   "cell_type": "code",
   "execution_count": 15,
   "metadata": {},
   "outputs": [
    {
     "data": {
      "text/plain": [
       "3.5"
      ]
     },
     "execution_count": 15,
     "metadata": {},
     "output_type": "execute_result"
    }
   ],
   "source": [
    "get_price_of_item(\"Toothpaste\")"
   ]
  },
  {
   "cell_type": "code",
   "execution_count": 16,
   "metadata": {},
   "outputs": [
    {
     "data": {
      "text/plain": [
       "3"
      ]
     },
     "execution_count": 16,
     "metadata": {},
     "output_type": "execute_result"
    }
   ],
   "source": [
    "get_price_of_item(\"Biscuits\")"
   ]
  },
  {
   "cell_type": "code",
   "execution_count": 17,
   "metadata": {},
   "outputs": [
    {
     "data": {
      "text/plain": [
       "0"
      ]
     },
     "execution_count": 17,
     "metadata": {},
     "output_type": "execute_result"
    }
   ],
   "source": [
    "get_price_of_item(\"Rollerblades\")"
   ]
  },
  {
   "cell_type": "markdown",
   "metadata": {},
   "source": [
    "(create_a_list_using_a_list_comprehension)=\n",
    "## Create a list using a list comprehension\n",
    "\n",
    "We can create a new list from an old list using a **list comprehension**. \n",
    "\n",
    "````{tip}\n",
    "```\n",
    "collection = [f(item) for item in iterable]\n",
    "```\n",
    "````\n",
    "\n",
    "This corresponds to building a set from another set in the usual mathematical\n",
    "notation:\n",
    "\n",
    "$$\n",
    "S_2 = \\{f(x)\\text{ for x in }S_1\\}\n",
    "$$\n",
    "\n",
    "If $f(x)=x - 5$ and $S_1=\\{2, 5, 10\\}$ then we would have:\n",
    "\n",
    "$$\n",
    "S_2 = \\{-3, 0, 5\\}\n",
    "$$\n",
    "\n",
    "In Python this is done as follows:\n",
    "\n",
    "\n",
    "```python\n",
    "new_list = [object for object in old_list]\n",
    "```"
   ]
  },
  {
   "cell_type": "code",
   "execution_count": 18,
   "metadata": {},
   "outputs": [
    {
     "data": {
      "text/plain": [
       "[-3, 0, 5]"
      ]
     },
     "execution_count": 18,
     "metadata": {},
     "output_type": "execute_result"
    }
   ],
   "source": [
    "s_1 = [2, 5, 10]\n",
    "s_2 = [x - 5 for x in s_1]\n",
    "s_2"
   ]
  },
  {
   "cell_type": "markdown",
   "metadata": {},
   "source": [
    "We can combine this with functions to write succinct efficient code.\n",
    "\n",
    "For example we can compute the price of a basket of goods using the following:"
   ]
  },
  {
   "cell_type": "code",
   "execution_count": 19,
   "metadata": {},
   "outputs": [
    {
     "data": {
      "text/plain": [
       "[0.5, 0.5, 3.5, 2]"
      ]
     },
     "execution_count": 19,
     "metadata": {},
     "output_type": "execute_result"
    }
   ],
   "source": [
    "basket = [\"Tea\", \"Tea\", \"Toothpaste\", \"Bread\"]\n",
    "prices = [get_price_of_item(item) for item in basket]\n",
    "prices"
   ]
  },
  {
   "cell_type": "markdown",
   "metadata": {},
   "source": [
    "## Adding items in a list\n",
    "\n",
    "We can compute the sum of items in a list using the `sum` tool:"
   ]
  },
  {
   "cell_type": "code",
   "execution_count": 20,
   "metadata": {},
   "outputs": [
    {
     "data": {
      "text/plain": [
       "6"
      ]
     },
     "execution_count": 20,
     "metadata": {},
     "output_type": "execute_result"
    }
   ],
   "source": [
    "sum([1, 2, 3])"
   ]
  },
  {
   "cell_type": "markdown",
   "metadata": {},
   "source": [
    "We can also directly use the `sum` without specifically creating the list. This\n",
    "corresponds to the following mathematical notation:\n",
    "\n",
    "$$\n",
    "    \\sum_{s\\in S}f(s)\n",
    "$$\n",
    "\n",
    "and is done using the following:\n",
    "\n",
    "\n",
    "```python\n",
    "sum(f(object) for object in old_list)\n",
    "```\n",
    "\n",
    "This gives the same result as:\n",
    "\n",
    "\n",
    "```python\n",
    "sum([f(object) for object in old_list])\n",
    "```\n",
    "\n",
    "but it is not as efficient.\n",
    "\n",
    "Here is an example of getting the total price of a basket of goods:"
   ]
  },
  {
   "cell_type": "code",
   "execution_count": 21,
   "metadata": {},
   "outputs": [
    {
     "data": {
      "text/plain": [
       "6.5"
      ]
     },
     "execution_count": 21,
     "metadata": {},
     "output_type": "execute_result"
    }
   ],
   "source": [
    "basket = [\"Tea\", \"Tea\", \"Toothpaste\", \"Bread\"]\n",
    "total_price = sum(get_price_of_item(item) for item in basket)\n",
    "total_price"
   ]
  },
  {
   "cell_type": "markdown",
   "metadata": {},
   "source": [
    "## Sample from an iterable\n",
    "\n",
    "To randomly sample from any collection of items\n",
    "we use the random library and the `choice` tool.\n",
    "\n",
    "````{tip}\n",
    "```\n",
    "random.choice(collection)\n",
    "```\n",
    "````"
   ]
  },
  {
   "cell_type": "code",
   "execution_count": 22,
   "metadata": {
    "tags": [
     "nbval-ignore-output"
    ]
   },
   "outputs": [
    {
     "data": {
      "text/plain": [
       "'Tea'"
      ]
     },
     "execution_count": 22,
     "metadata": {},
     "output_type": "execute_result"
    }
   ],
   "source": [
    "import random\n",
    "\n",
    "basket = [\"Tea\", \"Tea\", \"Toothpaste\", \"Bread\"]\n",
    "random.choice(basket)"
   ]
  },
  {
   "cell_type": "markdown",
   "metadata": {},
   "source": [
    "## Sample a random number\n",
    "\n",
    "To sample a random number between 0 and 1 we use the random library and the\n",
    "`random` tool.\n",
    "\n",
    "````{tip}\n",
    "```\n",
    "random.random()\n",
    "```\n",
    "````\n",
    "\n",
    "For example:"
   ]
  },
  {
   "cell_type": "code",
   "execution_count": 23,
   "metadata": {
    "tags": [
     "nbval-ignore-output"
    ]
   },
   "outputs": [
    {
     "data": {
      "text/plain": [
       "0.4880796961634797"
      ]
     },
     "execution_count": 23,
     "metadata": {},
     "output_type": "execute_result"
    }
   ],
   "source": [
    "import random\n",
    "\n",
    "random.random()"
   ]
  },
  {
   "cell_type": "markdown",
   "metadata": {},
   "source": [
    "## Reproduce random events\n",
    "\n",
    "The random numbers processes generated by the Python random module are what are\n",
    "called pseudo random which means that we can get a computer to reproduce them by\n",
    "**seeding** the random process.\n",
    "\n",
    "````{tip}\n",
    "```\n",
    "random.seed(int)\n",
    "```\n",
    "````"
   ]
  },
  {
   "cell_type": "code",
   "execution_count": 24,
   "metadata": {},
   "outputs": [
    {
     "data": {
      "text/plain": [
       "0.8444218515250481"
      ]
     },
     "execution_count": 24,
     "metadata": {},
     "output_type": "execute_result"
    }
   ],
   "source": [
    "import random\n",
    "\n",
    "random.seed(0)\n",
    "random.random()"
   ]
  },
  {
   "cell_type": "code",
   "execution_count": 25,
   "metadata": {},
   "outputs": [
    {
     "data": {
      "text/plain": [
       "0.7579544029403025"
      ]
     },
     "execution_count": 25,
     "metadata": {},
     "output_type": "execute_result"
    }
   ],
   "source": [
    "random.random()"
   ]
  },
  {
   "cell_type": "code",
   "execution_count": 26,
   "metadata": {},
   "outputs": [
    {
     "data": {
      "text/plain": [
       "0.8444218515250481"
      ]
     },
     "execution_count": 26,
     "metadata": {},
     "output_type": "execute_result"
    }
   ],
   "source": [
    "random.seed(0)\n",
    "random.random()"
   ]
  }
 ],
 "metadata": {
  "jupytext": {
   "formats": "ipynb,md:myst"
  },
  "kernelspec": {
   "display_name": "Python 3",
   "language": "python",
   "name": "python3"
  },
  "language_info": {
   "codemirror_mode": {
    "name": "ipython",
    "version": 3
   },
   "file_extension": ".py",
   "mimetype": "text/x-python",
   "name": "python",
   "nbconvert_exporter": "python",
   "pygments_lexer": "ipython3",
   "version": "3.8.3"
  }
 },
 "nbformat": 4,
 "nbformat_minor": 4
}
