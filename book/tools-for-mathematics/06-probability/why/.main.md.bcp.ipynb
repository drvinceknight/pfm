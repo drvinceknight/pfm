{
 "cells": [
  {
   "cell_type": "markdown",
   "metadata": {},
   "source": [
    "# Further information\n",
    "\n",
    "(difference_between_a_list_and_a_tuple)=\n",
    "## What is the difference between a Python list and a Python tuple?\n",
    "\n",
    "Two of the most used Python iterables are lists and tuples. In practice they\n",
    "have a number of similarities, they are both ordered collections of objects that\n",
    "can be used in list comprehensions as well as in other ways.\n",
    "\n",
    "- Tuples are **immutable**\n",
    "- Lists are **mutable**\n",
    "\n",
    "This means that once created tuples cannot be changed and lists can.\n",
    "\n",
    "As a general rule of thumb: if you do not need to modify your iterable then use\n",
    "a tuple as they are more computationally efficient.\n",
    "\n",
    "This blog post is a good explanation of the difference:\n",
    "<https://www.afternerd.com/blog/difference-between-list-tuple/>\n",
    "\n",
    "## Why does the sum of booleans counts the `True`s?\n",
    "\n",
    "In the tutorial and elsewhere we created a list of booleans and then take the\n",
    "sum. Here are some of the steps:"
   ]
  },
  {
   "cell_type": "code",
   "execution_count": 1,
   "metadata": {},
   "outputs": [],
   "source": [
    "samples = (\"Red\", \"Red\", \"Blue\")"
   ]
  },
  {
   "cell_type": "code",
   "execution_count": 2,
   "metadata": {},
   "outputs": [
    {
     "data": {
      "text/plain": [
       "[True, True, False]"
      ]
     },
     "execution_count": 2,
     "metadata": {},
     "output_type": "execute_result"
    }
   ],
   "source": [
    "booleans = [sample == \"Red\" for sample in samples]\n",
    "booleans"
   ]
  },
  {
   "cell_type": "markdown",
   "metadata": {},
   "source": [
    "When we take the `sum` of that list we get a numeric value:"
   ]
  },
  {
   "cell_type": "code",
   "execution_count": 3,
   "metadata": {},
   "outputs": [
    {
     "data": {
      "text/plain": [
       "2"
      ]
     },
     "execution_count": 3,
     "metadata": {},
     "output_type": "execute_result"
    }
   ],
   "source": [
    "sum(booleans)"
   ]
  },
  {
   "cell_type": "markdown",
   "metadata": {},
   "source": [
    "This has in fact counted the `True` values as 1 and the `False` values as 0."
   ]
  },
  {
   "cell_type": "code",
   "execution_count": 4,
   "metadata": {},
   "outputs": [
    {
     "data": {
      "text/plain": [
       "1"
      ]
     },
     "execution_count": 4,
     "metadata": {},
     "output_type": "execute_result"
    }
   ],
   "source": [
    "int(True)"
   ]
  },
  {
   "cell_type": "code",
   "execution_count": 5,
   "metadata": {},
   "outputs": [
    {
     "data": {
      "text/plain": [
       "0"
      ]
     },
     "execution_count": 5,
     "metadata": {},
     "output_type": "execute_result"
    }
   ],
   "source": [
    "int(False)"
   ]
  },
  {
   "cell_type": "markdown",
   "metadata": {},
   "source": [
    "## What is the difference between `print` and `return`?\n",
    "\n",
    "In functions you see we use the `return` statement. This does two things:\n",
    "\n",
    "1. Assigns a value to the function run;\n",
    "2. Ends the function.\n",
    "\n",
    "The `print` statement **only** displays the output.\n",
    "\n",
    "As an example let us create the following set:\n",
    "\n",
    "$$\n",
    "    S = \\{f(x)\\text{ for }x \\in \\{0, \\pi / 4, \\pi / 2, 3\\pi / 4\\}\\}\n",
    "$$\n",
    "\n",
    "where $f(x)= \\cos^2(x)$.\n",
    "\n",
    "\n",
    "The correct way to do this is:"
   ]
  },
  {
   "cell_type": "code",
   "execution_count": 6,
   "metadata": {},
   "outputs": [
    {
     "data": {
      "text/plain": [
       "[1, 1/2, 0, 1/2]"
      ]
     },
     "execution_count": 6,
     "metadata": {},
     "output_type": "execute_result"
    }
   ],
   "source": [
    "import sympy as sym\n",
    "\n",
    "\n",
    "def f(x):\n",
    "    \"\"\"\n",
    "    Return the square of the cosine of x\n",
    "    \"\"\"\n",
    "    return sym.cos(x) ** 2\n",
    "\n",
    "\n",
    "S = [f(x) for x in (0, sym.pi / 4, sym.pi / 2, 3 * sym.pi / 4)]\n",
    "S"
   ]
  },
  {
   "cell_type": "markdown",
   "metadata": {},
   "source": [
    "If we replaced the `return` statement in the function definition with a `print` we obtain:"
   ]
  },
  {
   "cell_type": "code",
   "execution_count": 7,
   "metadata": {},
   "outputs": [
    {
     "name": "stdout",
     "output_type": "stream",
     "text": [
      "1\n",
      "1/2\n",
      "0\n",
      "1/2\n"
     ]
    }
   ],
   "source": [
    "def f(x):\n",
    "    \"\"\"\n",
    "    Return the square of the cosine of x\n",
    "    \"\"\"\n",
    "    print(sym.cos(x) ** 2)\n",
    "\n",
    "\n",
    "S = [f(x) for x in (0, sym.pi / 4, sym.pi / 2, 3 * sym.pi / 4)]"
   ]
  },
  {
   "cell_type": "markdown",
   "metadata": {},
   "source": [
    "We see now that as the function has been run it displays the output.\n",
    "\n",
    "**However** if we look at what `S` is we see that the function has not returned\n",
    "anything:"
   ]
  },
  {
   "cell_type": "code",
   "execution_count": 8,
   "metadata": {},
   "outputs": [
    {
     "data": {
      "text/plain": [
       "[None, None, None, None]"
      ]
     },
     "execution_count": 8,
     "metadata": {},
     "output_type": "execute_result"
    }
   ],
   "source": [
    "S"
   ]
  },
  {
   "cell_type": "markdown",
   "metadata": {},
   "source": [
    "Here are some other materials on this subject:\n",
    "\n",
    "- <https://www.tutorialspoint.com/Why-would-you-use-the-return-statement-in-Python>\n",
    "- <https://pythonprinciples.com/blog/print-vs-return/>\n",
    "\n",
    "\n",
    "## How does Python sample randomness?\n",
    "\n",
    "When using the Python random module we are in fact generating a pseudo random\n",
    "process. True randomness is actually not common.\n",
    "\n",
    "Pseudo randomness is an important area of mathematics as strong algorithms that\n",
    "create unpredictable sequences of numbers are vital to cryptographic security.\n",
    "\n",
    "The specific algorithm using in Python for randomness is called the Mersenne\n",
    "twister algorithm is state of the art.\n",
    "\n",
    "You can read more about this here:\n",
    "<https://docs.python.org/3/library/random.html#module-random>.\n",
    "\n",
    "\n",
    "## What is the difference between a docstring and a comment\n",
    "\n",
    "In Python it is possible to write statements that are ignored using the `#`\n",
    "symbol. This creates something called a \"comment\". For example:"
   ]
  },
  {
   "cell_type": "code",
   "execution_count": 9,
   "metadata": {},
   "outputs": [],
   "source": [
    "# create a list to represent the tokens in a bag\n",
    "bag = [\"Red\", \"Red\", \"Blue\"]"
   ]
  },
  {
   "cell_type": "markdown",
   "metadata": {},
   "source": [
    "A docstring however is something that is \"attached\" to a function and can be\n",
    "accessed by Python.\n",
    "\n",
    "If we rewrite the function to sample the experiment of the tutorial without a\n",
    "docstring but using comments we will have:"
   ]
  },
  {
   "cell_type": "code",
   "execution_count": 10,
   "metadata": {
    "tags": [
     "style-check-ignore"
    ]
   },
   "outputs": [],
   "source": [
    "def sample_experiment(bag):\n",
    "    # Select a token\n",
    "    selected_token = pick_a_token(container=bag)\n",
    "\n",
    "    # If the token is red then the probability of selecting heads is 2/3\n",
    "    if selected_token == \"Red\":\n",
    "        probability_of_selecting_heads = 2 / 3\n",
    "    # Otherwise it is 1 / 2\n",
    "    else:\n",
    "        probability_of_selecting_heads = 1 / 2\n",
    "\n",
    "    # Select a coin according to the probability.\n",
    "    if random.random() < probability_of_selecting_heads:\n",
    "        coin = \"Heads\"\n",
    "    else:\n",
    "        coin = \"Tails\"\n",
    "\n",
    "    # Return both the selected token and the coin.\n",
    "    return selected_token, coin"
   ]
  },
  {
   "cell_type": "markdown",
   "metadata": {},
   "source": [
    "Now if we try to access the help for the function we will not get it:"
   ]
  },
  {
   "cell_type": "code",
   "execution_count": 11,
   "metadata": {},
   "outputs": [
    {
     "name": "stdout",
     "output_type": "stream",
     "text": [
      "Help on function sample_experiment in module __main__:\n",
      "\n",
      "sample_experiment(bag)\n",
      "\n"
     ]
    }
   ],
   "source": [
    "help(sample_experiment)"
   ]
  },
  {
   "cell_type": "markdown",
   "metadata": {},
   "source": [
    "Furthermore, if you look at the code with comments you will see that because of\n",
    "the choice of variable names the comments are in fact redundant.\n",
    "\n",
    "In software engineering it is generally accepted that comments indicate that\n",
    "your code is not clear and so it is preferable to write clear documentation\n",
    "explaining why something is done through docstrings."
   ]
  },
  {
   "cell_type": "code",
   "execution_count": 12,
   "metadata": {},
   "outputs": [],
   "source": [
    "def sample_experiment(bag):\n",
    "    \"\"\"\n",
    "    This samples a token from a given bag and then\n",
    "    selects a coin with a given probability.\n",
    "\n",
    "    If the sampled token is red then the probability\n",
    "    of selecting heads is 2/3 otherwise it is 1/2.\n",
    "\n",
    "    This function returns both the selected token\n",
    "    and the coin face.\n",
    "    \"\"\"\n",
    "    selected_token = pick_a_token(container=bag)\n",
    "\n",
    "    if selected_token == \"Red\":\n",
    "        probability_of_selecting_heads = 2 / 3\n",
    "    else:\n",
    "        probability_of_selecting_heads = 1 / 2\n",
    "\n",
    "    if random.random() < probability_of_selecting_heads:\n",
    "        coin = \"Heads\"\n",
    "    else:\n",
    "        coin = \"Tails\"\n",
    "    return selected_token, coin"
   ]
  },
  {
   "cell_type": "markdown",
   "metadata": {},
   "source": [
    "Here are some resources on this:\n",
    "\n",
    "- <https://blog.codinghorror.com/coding-without-comments/>\n",
    "- <https://visualstudiomagazine.com/articles/2013/07/26/why-commenting-code-is-still-bad.aspx>"
   ]
  }
 ],
 "metadata": {
  "jupytext": {
   "formats": "ipynb,md:myst"
  },
  "kernelspec": {
   "display_name": "Python 3",
   "language": "python",
   "name": "python3"
  },
  "language_info": {
   "codemirror_mode": {
    "name": "ipython",
    "version": 3
   },
   "file_extension": ".py",
   "mimetype": "text/x-python",
   "name": "python",
   "nbconvert_exporter": "python",
   "pygments_lexer": "ipython3",
   "version": "3.8.3"
  }
 },
 "nbformat": 4,
 "nbformat_minor": 4
}
