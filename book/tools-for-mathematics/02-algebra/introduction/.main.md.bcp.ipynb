{
 "cells": [
  {
   "cell_type": "markdown",
   "metadata": {},
   "source": [
    "# Algebra\n",
    "\n",
    "## Introduction\n",
    "\n",
    "As of 2020, the A-level syllabus includes Algebra which\n",
    "https://www.cambridgeinternational.org/Images/415060-2020-2022-syllabus.pdf\n",
    "describes as:\n",
    "\n",
    "> Algebra: this is an essential tool which supports and expresses mathematical\n",
    "> reasoning and provides a means to generalise across a number of contexts.\n",
    "\n",
    "In practice this often means:\n",
    "\n",
    "- Manipulating numeric expressions;\n",
    "- Manipulating symbolic expressions;\n",
    "- Solving equations.\n",
    "\n",
    "We can use a computer to carry out some of these techniques.\n",
    "\n",
    "```{important}\n",
    "In this chapter we will cover:\n",
    "\n",
    "- Manipulating numeric and symbolic expressions.\n",
    "- Solving equations.\n",
    "```"
   ]
  }
 ],
 "metadata": {
  "jupytext": {
   "formats": "ipynb,md:myst"
  },
  "kernelspec": {
   "display_name": "Python 3",
   "language": "python",
   "name": "python3"
  },
  "language_info": {
   "codemirror_mode": {
    "name": "ipython",
    "version": 3
   },
   "file_extension": ".py",
   "mimetype": "text/x-python",
   "name": "python",
   "nbconvert_exporter": "python",
   "pygments_lexer": "ipython3",
   "version": "3.8.3"
  }
 },
 "nbformat": 4,
 "nbformat_minor": 4
}
