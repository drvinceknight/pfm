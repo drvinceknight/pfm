{
 "cells": [
  {
   "cell_type": "markdown",
   "metadata": {},
   "source": [
    "# Exercises\n",
    "\n",
    "**After** completing the tutorial attempt the following exercises.\n",
    "\n",
    "**If you are not sure how to do something, have a look at the \"How To\" section.**\n",
    "\n",
    "1. Obtain the following tuples using the `range` command:\n",
    "    1. $(0, 1, 2, 3, 4, 5)$\n",
    "    2. $(2, 3, 4, 5)$\n",
    "    3. $(2, 4, 6, 8)$\n",
    "    4. $-1, 2, 5, 8$\n",
    "2. By **both** generating and directly computing obtain the **number of** the following:\n",
    "    1. All permutations of $(0, 1, 2, 3, 4, 5)$.\n",
    "    2. All permutations of $(\"A\", \"B\", \"C\")$.\n",
    "    3. Permutations of size 3 of $(0, 1, 2, 3, 4, 5)$.\n",
    "    4. Permutations of size 2 of $(0, 1, 2, 3, 4, 5, 6)$.\n",
    "    5. Combinations of size 3 of  $(0, 1, 2, 3, 4, 5)$.\n",
    "    6. Combinations of size 2 of  $(0, 1, 2, 3, 4, 5)$.\n",
    "    7. Combinations of size 5 of  $(0, 1, 2, 3, 4, 5)$.\n",
    "3. A class consists of 3 students from Ashville and 4 from Bewton. A committee of 5 students is chosen at random the class.\n",
    "    1. Find the number of committees that include 2 students from Ashville and 3 from Bewton are chosen.\n",
    "    2. In fact 2 students, from Ashville and 3 from Bewton are chosen. In order to watch a video, all 5 committee members sit in a row. In how many different orders can they sit if no two students from Bewton sit next to each other.\n",
    "4. Three letters are selected at random from the 8 letters of the word `COMPUTER`, without regard to order.\n",
    "    1. Find the number of possible selections of 3 letters.\n",
    "    2. Find the number of selections of 3 letters with the letter `P`.\n",
    "    3. Find the number of selections of 3 letters where the 3 letters form the word `TOP`."
   ]
  }
 ],
 "metadata": {
  "jupytext": {
   "formats": "ipynb,md:myst"
  },
  "kernelspec": {
   "display_name": "Python 3",
   "language": "python",
   "name": "python3"
  },
  "language_info": {
   "codemirror_mode": {
    "name": "ipython",
    "version": 3
   },
   "file_extension": ".py",
   "mimetype": "text/x-python",
   "name": "python",
   "nbconvert_exporter": "python",
   "pygments_lexer": "ipython3",
   "version": "3.8.3"
  }
 },
 "nbformat": 4,
 "nbformat_minor": 4
}
