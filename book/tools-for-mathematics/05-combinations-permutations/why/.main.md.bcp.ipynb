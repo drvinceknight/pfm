{
 "cells": [
  {
   "cell_type": "markdown",
   "metadata": {},
   "source": [
    "# Further information\n",
    "\n",
    "## How does tuple indexing work\n",
    "\n",
    "We have seen in this chapter how to access a single element in a tuple. There\n",
    "are various ways of indexing tuples:\n",
    "\n",
    "1. Indexing (what we have seen here)\n",
    "2. Negative indexing (indexing starting from the end)\n",
    "3. Slicing (selecting a number of elements)\n",
    "\n",
    "This document gives good information on this:\n",
    "<https://www.programiz.com/python-programming/tuple>\n",
    "\n",
    "## Why does `range`, `itertools.permutations` and `itertools.combinations` not directly give the elements\n",
    "\n",
    "When you run either of the three `range`, `itertools.permutations` or\n",
    "`itertools.combinations` tools this is an example of creating a **generator**.\n",
    "This allows us to create the instructions to build something without building\n",
    "it.\n",
    "\n",
    "In practice this means that we can create large sets without needing to generate\n",
    "them until we wanted to."
   ]
  }
 ],
 "metadata": {
  "jupytext": {
   "formats": "ipynb,md:myst"
  },
  "kernelspec": {
   "display_name": "Python 3",
   "language": "python",
   "name": "python3"
  },
  "language_info": {
   "codemirror_mode": {
    "name": "ipython",
    "version": 3
   },
   "file_extension": ".py",
   "mimetype": "text/x-python",
   "name": "python",
   "nbconvert_exporter": "python",
   "pygments_lexer": "ipython3",
   "version": "3.8.3"
  }
 },
 "nbformat": 4,
 "nbformat_minor": 4
}
