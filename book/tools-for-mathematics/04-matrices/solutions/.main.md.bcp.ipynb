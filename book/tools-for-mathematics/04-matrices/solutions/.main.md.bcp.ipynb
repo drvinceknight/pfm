{
 "cells": [
  {
   "cell_type": "markdown",
   "metadata": {},
   "source": [
    "# Solutions\n",
    "\n",
    "## Question 1\n",
    "\n",
    "> `1`. Obtain the determinant and the inverses of the following matrices:\n",
    "\n",
    ">   `1`. $A = \\begin{pmatrix} 1 / 5 & 1\\\\1 & 1\\end{pmatrix}$"
   ]
  },
  {
   "cell_type": "code",
   "execution_count": 1,
   "metadata": {},
   "outputs": [
    {
     "data": {
      "text/latex": [
       "$\\displaystyle - \\frac{4}{5}$"
      ],
      "text/plain": [
       "-4/5"
      ]
     },
     "execution_count": 1,
     "metadata": {},
     "output_type": "execute_result"
    }
   ],
   "source": [
    "import sympy as sym\n",
    "\n",
    "A = sym.Matrix([[sym.S(1) / 5, 1], [1, 1]])\n",
    "A.det()"
   ]
  },
  {
   "cell_type": "code",
   "execution_count": 2,
   "metadata": {},
   "outputs": [
    {
     "data": {
      "text/latex": [
       "$\\displaystyle \\left[\\begin{matrix}- \\frac{5}{4} & \\frac{5}{4}\\\\\\frac{5}{4} & - \\frac{1}{4}\\end{matrix}\\right]$"
      ],
      "text/plain": [
       "Matrix([\n",
       "[-5/4,  5/4],\n",
       "[ 5/4, -1/4]])"
      ]
     },
     "execution_count": 2,
     "metadata": {},
     "output_type": "execute_result"
    }
   ],
   "source": [
    "A.inv()"
   ]
  },
  {
   "cell_type": "markdown",
   "metadata": {},
   "source": [
    "> `2`. $B = \\begin{pmatrix} 1 / 5 & 1 & 5\\\\3 & 1 & 6 \\\\ 1 & 2 & 1\\end{pmatrix}$"
   ]
  },
  {
   "cell_type": "code",
   "execution_count": 3,
   "metadata": {},
   "outputs": [
    {
     "data": {
      "text/latex": [
       "$\\displaystyle \\frac{129}{5}$"
      ],
      "text/plain": [
       "129/5"
      ]
     },
     "execution_count": 3,
     "metadata": {},
     "output_type": "execute_result"
    }
   ],
   "source": [
    "B = sym.Matrix([[sym.S(1) / 5, 1, 5], [3, 1, 6], [1, 2, 1]])\n",
    "B.det()"
   ]
  },
  {
   "cell_type": "code",
   "execution_count": 4,
   "metadata": {},
   "outputs": [
    {
     "data": {
      "text/latex": [
       "$\\displaystyle \\left[\\begin{matrix}- \\frac{55}{129} & \\frac{15}{43} & \\frac{5}{129}\\\\\\frac{5}{43} & - \\frac{8}{43} & \\frac{23}{43}\\\\\\frac{25}{129} & \\frac{1}{43} & - \\frac{14}{129}\\end{matrix}\\right]$"
      ],
      "text/plain": [
       "Matrix([\n",
       "[-55/129, 15/43,   5/129],\n",
       "[   5/43, -8/43,   23/43],\n",
       "[ 25/129,  1/43, -14/129]])"
      ]
     },
     "execution_count": 4,
     "metadata": {},
     "output_type": "execute_result"
    }
   ],
   "source": [
    "B.inv()"
   ]
  },
  {
   "cell_type": "markdown",
   "metadata": {},
   "source": [
    "> `3`. $C = \\begin{pmatrix} 1 / 5 & 5 & 5\\\\3 & 1 & 7 \\\\ a & b & c\\end{pmatrix}$"
   ]
  },
  {
   "cell_type": "code",
   "execution_count": 5,
   "metadata": {},
   "outputs": [
    {
     "data": {
      "text/latex": [
       "$\\displaystyle 30 a + \\frac{68 b}{5} - \\frac{74 c}{5}$"
      ],
      "text/plain": [
       "30*a + 68*b/5 - 74*c/5"
      ]
     },
     "execution_count": 5,
     "metadata": {},
     "output_type": "execute_result"
    }
   ],
   "source": [
    "a, b, c = sym.Symbol(\"a\"), sym.Symbol(\"b\"), sym.Symbol(\"c\")\n",
    "C = sym.Matrix([[sym.S(1) / 5, 5, 5], [3, 1, 7], [a, b, c]])\n",
    "C.det()"
   ]
  },
  {
   "cell_type": "code",
   "execution_count": 6,
   "metadata": {},
   "outputs": [
    {
     "data": {
      "text/latex": [
       "$\\displaystyle \\left[\\begin{matrix}- \\frac{35 b - 5 c}{150 a + 68 b - 74 c} & \\frac{25 b - 25 c}{150 a + 68 b - 74 c} & - \\frac{444}{25 \\left(- \\frac{444 a}{25} - \\frac{5032 b}{625} + \\frac{5476 c}{625}\\right)}\\\\\\frac{35 a - 15 c}{150 a + 68 b - 74 c} & - \\frac{25 a - c}{150 a + 68 b - 74 c} & - \\frac{5032}{125 \\left(- \\frac{444 a}{5} - \\frac{5032 b}{125} + \\frac{5476 c}{125}\\right)}\\\\- \\frac{5 a - 15 b}{150 a + 68 b - 74 c} & \\frac{25 a - b}{150 a + 68 b - 74 c} & - \\frac{74}{25 \\left(6 a + \\frac{68 b}{25} - \\frac{74 c}{25}\\right)}\\end{matrix}\\right]$"
      ],
      "text/plain": [
       "Matrix([\n",
       "[-(35*b - 5*c)/(150*a + 68*b - 74*c), (25*b - 25*c)/(150*a + 68*b - 74*c),  -444/(25*(-444*a/25 - 5032*b/625 + 5476*c/625))],\n",
       "[(35*a - 15*c)/(150*a + 68*b - 74*c),   -(25*a - c)/(150*a + 68*b - 74*c), -5032/(125*(-444*a/5 - 5032*b/125 + 5476*c/125))],\n",
       "[-(5*a - 15*b)/(150*a + 68*b - 74*c),    (25*a - b)/(150*a + 68*b - 74*c),               -74/(25*(6*a + 68*b/25 - 74*c/25))]])"
      ]
     },
     "execution_count": 6,
     "metadata": {},
     "output_type": "execute_result"
    }
   ],
   "source": [
    "C.inv()"
   ]
  },
  {
   "cell_type": "markdown",
   "metadata": {},
   "source": [
    "## Question 2\n",
    "\n",
    "> `2`. Compute the following:\n",
    "\n",
    "> `1`. $500\\begin{pmatrix} 1 / 5 & 1\\\\1 & 1\\end{pmatrix}$"
   ]
  },
  {
   "cell_type": "code",
   "execution_count": 7,
   "metadata": {},
   "outputs": [
    {
     "data": {
      "text/latex": [
       "$\\displaystyle \\left[\\begin{matrix}100 & 500\\\\500 & 500\\end{matrix}\\right]$"
      ],
      "text/plain": [
       "Matrix([\n",
       "[100, 500],\n",
       "[500, 500]])"
      ]
     },
     "execution_count": 7,
     "metadata": {},
     "output_type": "execute_result"
    }
   ],
   "source": [
    "A = 500 * sym.Matrix([[sym.S(1) / 5, 1], [1, 1]])\n",
    "A"
   ]
  },
  {
   "cell_type": "markdown",
   "metadata": {},
   "source": [
    "> `2`. $\\pi \\begin{pmatrix} 1 / \\pi & 2\\pi\\\\3/\\pi & 1\\end{pmatrix}$"
   ]
  },
  {
   "cell_type": "code",
   "execution_count": 8,
   "metadata": {},
   "outputs": [
    {
     "data": {
      "text/latex": [
       "$\\displaystyle \\left[\\begin{matrix}1 & 2 \\pi^{2}\\\\3 & \\pi\\end{matrix}\\right]$"
      ],
      "text/plain": [
       "Matrix([\n",
       "[1, 2*pi**2],\n",
       "[3,      pi]])"
      ]
     },
     "execution_count": 8,
     "metadata": {},
     "output_type": "execute_result"
    }
   ],
   "source": [
    "B = sym.pi * sym.Matrix([[1 / sym.pi, 2 * sym.pi], [3 / sym.pi, 1]])\n",
    "B"
   ]
  },
  {
   "cell_type": "markdown",
   "metadata": {},
   "source": [
    "> `3`. $500\\begin{pmatrix} 1 / 5 & 1\\\\1 & 1\\end{pmatrix} + \\pi \\begin{pmatrix} 1 / \\pi & 2\\pi\\\\3/\\pi & 1\\end{pmatrix}$"
   ]
  },
  {
   "cell_type": "code",
   "execution_count": 9,
   "metadata": {},
   "outputs": [
    {
     "data": {
      "text/latex": [
       "$\\displaystyle \\left[\\begin{matrix}101 & 2 \\pi^{2} + 500\\\\503 & \\pi + 500\\end{matrix}\\right]$"
      ],
      "text/plain": [
       "Matrix([\n",
       "[101, 2*pi**2 + 500],\n",
       "[503,      pi + 500]])"
      ]
     },
     "execution_count": 9,
     "metadata": {},
     "output_type": "execute_result"
    }
   ],
   "source": [
    "A + B"
   ]
  },
  {
   "cell_type": "markdown",
   "metadata": {},
   "source": [
    "> `4`. $500\\begin{pmatrix} 1 / 5 & 1\\\\1 & 1\\end{pmatrix}\\begin{pmatrix} 1 / \\pi & 2\\pi\\\\3/\\pi & 1\\end{pmatrix}$"
   ]
  },
  {
   "cell_type": "code",
   "execution_count": 10,
   "metadata": {},
   "outputs": [
    {
     "data": {
      "text/latex": [
       "$\\displaystyle \\left[\\begin{matrix}1600 & 500 \\pi + 200 \\pi^{2}\\\\2000 & 500 \\pi + 1000 \\pi^{2}\\end{matrix}\\right]$"
      ],
      "text/plain": [
       "Matrix([\n",
       "[1600,  500*pi + 200*pi**2],\n",
       "[2000, 500*pi + 1000*pi**2]])"
      ]
     },
     "execution_count": 10,
     "metadata": {},
     "output_type": "execute_result"
    }
   ],
   "source": [
    "A @ B"
   ]
  },
  {
   "cell_type": "markdown",
   "metadata": {},
   "source": [
    "## Question 3\n",
    "\n",
    "> `3`. The matrix $A$ is given by $A=\\begin{pmatrix}a & 4 & 2\\\\ 1 & a & 0\\\\ 1 & 2 & 1\\end{pmatrix}$.\n",
    "\n",
    "> `1`. Find the determinant of $A$"
   ]
  },
  {
   "cell_type": "code",
   "execution_count": 11,
   "metadata": {},
   "outputs": [
    {
     "data": {
      "text/latex": [
       "$\\displaystyle a^{2} - 2 a$"
      ],
      "text/plain": [
       "a**2 - 2*a"
      ]
     },
     "execution_count": 11,
     "metadata": {},
     "output_type": "execute_result"
    }
   ],
   "source": [
    "A = sym.Matrix([[a, 4, 2], [1, a, 0], [1, 2, 1]])\n",
    "determinant = A.det()\n",
    "determinant"
   ]
  },
  {
   "cell_type": "markdown",
   "metadata": {},
   "source": [
    "> `2`. Hence find the values of $a$ for which $A$ is singular.\n",
    "\n",
    "$A$ is singular when the determinant is $0$ so we solve that equation:"
   ]
  },
  {
   "cell_type": "code",
   "execution_count": 12,
   "metadata": {},
   "outputs": [
    {
     "data": {
      "text/latex": [
       "$\\displaystyle \\left\\{0, 2\\right\\}$"
      ],
      "text/plain": [
       "FiniteSet(0, 2)"
      ]
     },
     "execution_count": 12,
     "metadata": {},
     "output_type": "execute_result"
    }
   ],
   "source": [
    "sym.solveset(determinant, a)"
   ]
  },
  {
   "cell_type": "markdown",
   "metadata": {},
   "source": [
    "> `3`. State, giving a brief reason in each case, whether the simultaneous equations\n",
    ">\n",
    "> $$\n",
    "\\begin{array}\n",
    "          a x + 4y + 2z= 3a\\\\\n",
    "           x + a  = 1\\\\\n",
    "            x + 2y + z = 3\\\\\n",
    "      \\end{array}\n",
    "$$\n",
    "> have any solutions when:\n",
    "> `1`. $a = 3$;\n",
    "\n",
    "When $a$ is 3 the determinant is none zero, and so the matrix that represents\n",
    "that linear system can be inverted.\n",
    "\n",
    "> `2`. $a = 2$\n",
    "\n",
    "When $a$ is 2 the determinant is zero and so the matrix that represents\n",
    "that linear system cannot be inverted.\n",
    "\n",
    "## Question 4\n",
    "\n",
    "> `4`. The matrix $D$ is given by $D = \\begin{pmatrix} a & 2 & 0\\\\ 3 & 1 & 2\\\\ 0 & -1 & 1\\end{pmatrix}$ where $a\\ne 2$.\n",
    "> `1`. Find $D^{-1}$."
   ]
  },
  {
   "cell_type": "code",
   "execution_count": 13,
   "metadata": {},
   "outputs": [
    {
     "data": {
      "text/latex": [
       "$\\displaystyle \\left[\\begin{matrix}- \\frac{9}{18 - 9 a} & \\frac{6}{18 - 9 a} & - \\frac{12}{18 - 9 a}\\\\\\frac{3}{6 - 3 a} & - \\frac{a}{6 - 3 a} & \\frac{2 a}{6 - 3 a}\\\\- \\frac{3}{3 a - 6} & \\frac{a}{3 a - 6} & \\frac{a - 6}{3 a - 6}\\end{matrix}\\right]$"
      ],
      "text/plain": [
       "Matrix([\n",
       "[-9/(18 - 9*a), 6/(18 - 9*a),    -12/(18 - 9*a)],\n",
       "[  3/(6 - 3*a), -a/(6 - 3*a),     2*a/(6 - 3*a)],\n",
       "[ -3/(3*a - 6),  a/(3*a - 6), (a - 6)/(3*a - 6)]])"
      ]
     },
     "execution_count": 13,
     "metadata": {},
     "output_type": "execute_result"
    }
   ],
   "source": [
    "D = sym.Matrix([[a, 2, 0], [3, 1, 2], [0, -1, 1]])\n",
    "D_inverse = D.inv()\n",
    "D_inverse"
   ]
  },
  {
   "cell_type": "markdown",
   "metadata": {},
   "source": [
    "> `2`. Hence of otherwise, solve the equations:\n",
    ">\n",
    "> $$\n",
    "    \\begin{array}\n",
    "        a x + 2y = 3\\\\\n",
    "        3x + y + 2z = 4\\\\\n",
    "        - y + z = 1\\\\\n",
    "    \\end{array}\n",
    "    $$\n",
    "\n",
    "This corresponds to calculating: $D^{-1} \\begin{pmatrix}3\\\\4\\\\1\\end{pmatrix}$"
   ]
  },
  {
   "cell_type": "code",
   "execution_count": 14,
   "metadata": {},
   "outputs": [
    {
     "data": {
      "text/latex": [
       "$\\displaystyle \\left[\\begin{matrix}- \\frac{15}{18 - 9 a}\\\\- \\frac{2 a}{6 - 3 a} + \\frac{9}{6 - 3 a}\\\\\\frac{4 a}{3 a - 6} + \\frac{a - 6}{3 a - 6} - \\frac{9}{3 a - 6}\\end{matrix}\\right]$"
      ],
      "text/plain": [
       "Matrix([\n",
       "[                                 -15/(18 - 9*a)],\n",
       "[                   -2*a/(6 - 3*a) + 9/(6 - 3*a)],\n",
       "[4*a/(3*a - 6) + (a - 6)/(3*a - 6) - 9/(3*a - 6)]])"
      ]
     },
     "execution_count": 14,
     "metadata": {},
     "output_type": "execute_result"
    }
   ],
   "source": [
    "b = sym.Matrix([[3], [4], [1]])\n",
    "D_inverse @ b"
   ]
  }
 ],
 "metadata": {
  "jupytext": {
   "formats": "ipynb,md:myst"
  },
  "kernelspec": {
   "display_name": "Python 3",
   "language": "python",
   "name": "python3"
  },
  "language_info": {
   "codemirror_mode": {
    "name": "ipython",
    "version": 3
   },
   "file_extension": ".py",
   "mimetype": "text/x-python",
   "name": "python",
   "nbconvert_exporter": "python",
   "pygments_lexer": "ipython3",
   "version": "3.8.3"
  }
 },
 "nbformat": 4,
 "nbformat_minor": 4
}
