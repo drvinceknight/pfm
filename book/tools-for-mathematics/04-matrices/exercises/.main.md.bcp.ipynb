{
 "cells": [
  {
   "cell_type": "markdown",
   "metadata": {},
   "source": [
    "# Exercises\n",
    "\n",
    "**After** completing the tutorial attempt the following exercises.\n",
    "\n",
    "**If you are not sure how to do something, have a look at the \"How To\" section.**\n",
    "\n",
    "1. Obtain the determinant and the inverses of the following matrices:\n",
    "    1. $A = \\begin{pmatrix} 1 / 5 & 1\\\\1 & 1\\end{pmatrix}$\n",
    "    2. $B = \\begin{pmatrix} 1 / 5 & 1 & 5\\\\3 & 1 & 6 \\\\ 1 & 2 & 1\\end{pmatrix}$\n",
    "    3. $C = \\begin{pmatrix} 1 / 5 & 5 & 5\\\\3 & 1 & 7 \\\\ a & b & c\\end{pmatrix}$\n",
    "2. Compute the following:\n",
    "    1. $500\\begin{pmatrix} 1 / 5 & 1\\\\1 & 1\\end{pmatrix}$\n",
    "    2. $\\pi \\begin{pmatrix} 1 / \\pi & 2\\pi\\\\3/\\pi & 1\\end{pmatrix}$\n",
    "    3. $500\\begin{pmatrix} 1 / 5 & 1\\\\1 & 1\\end{pmatrix} + \\pi \\begin{pmatrix} 1 / \\pi & 2\\pi\\\\3/\\pi & 1\\end{pmatrix}$\n",
    "    4. $500\\begin{pmatrix} 1 / 5 & 1\\\\1 & 1\\end{pmatrix}\\begin{pmatrix} 1 / \\pi & 2\\pi\\\\3/\\pi & 1\\end{pmatrix}$\n",
    "3. The matrix $A$ is given by $A=\\begin{pmatrix}a & 4 & 2\\\\ 1 & a & 0\\\\ 1 & 2 & 1\\end{pmatrix}$.\n",
    "    1. Find the determinant of $A$\n",
    "    2. Hence find the values of $a$ for which $A$ is singular.\n",
    "    3. State, giving a brief reason in each case, whether the simultaneous equations\n",
    "\n",
    "        $$\n",
    "            \\begin{array}{l}\n",
    "                a x + 4y + 2z= 3a\\\\\n",
    "                x + a y = 1\\\\\n",
    "                x + 2y + z = 3\\\\\n",
    "            \\end{array}\n",
    "        $$\n",
    "\n",
    "        have any solutions when:\n",
    "          1. $a = 3$;\n",
    "          2. $a = 2$\n",
    "4. The matrix $D$ is given by $D = \\begin{pmatrix} a & 2 & 0\\\\ 3 & 1 & 2\\\\ 0 & -1 & 1\\end{pmatrix}$ where $a\\ne 2$.\n",
    "    1. Find $D^{-1}$.\n",
    "    2. Hence of otherwise, solve the equations:\n",
    "\n",
    "    $$\n",
    "    \\begin{array}{l}\n",
    "        a x + 2y = 3\\\\\n",
    "        3x + y + 2z = 4\\\\\n",
    "        - y + z = 1\\\\\n",
    "    \\end{array}\n",
    "    $$"
   ]
  }
 ],
 "metadata": {
  "jupytext": {
   "formats": "ipynb,md:myst"
  },
  "kernelspec": {
   "display_name": "Python 3",
   "language": "python",
   "name": "python3"
  },
  "language_info": {
   "codemirror_mode": {
    "name": "ipython",
    "version": 3
   },
   "file_extension": ".py",
   "mimetype": "text/x-python",
   "name": "python",
   "nbconvert_exporter": "python",
   "pygments_lexer": "ipython3",
   "version": "3.8.3"
  }
 },
 "nbformat": 4,
 "nbformat_minor": 4
}
