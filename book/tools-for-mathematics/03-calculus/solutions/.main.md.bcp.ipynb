{
 "cells": [
  {
   "cell_type": "markdown",
   "metadata": {},
   "source": [
    "# Solutions\n",
    "\n",
    "## Question 1\n",
    "\n",
    "> 1. For each of the following functions calculate $\\frac{df}{dx}$,\n",
    ">    $\\frac{d^2f}{dx^2}$ and $\\int f(x) dx$.\n",
    "\n",
    "> $f(x) = x$"
   ]
  },
  {
   "cell_type": "code",
   "execution_count": 1,
   "metadata": {},
   "outputs": [
    {
     "data": {
      "text/latex": [
       "$\\displaystyle 1$"
      ],
      "text/plain": [
       "1"
      ]
     },
     "execution_count": 1,
     "metadata": {},
     "output_type": "execute_result"
    }
   ],
   "source": [
    "import sympy as sym\n",
    "\n",
    "x = sym.Symbol(\"x\")\n",
    "expression = x\n",
    "sym.diff(expression, x)"
   ]
  },
  {
   "cell_type": "code",
   "execution_count": 2,
   "metadata": {},
   "outputs": [
    {
     "data": {
      "text/latex": [
       "$\\displaystyle 0$"
      ],
      "text/plain": [
       "0"
      ]
     },
     "execution_count": 2,
     "metadata": {},
     "output_type": "execute_result"
    }
   ],
   "source": [
    "sym.diff(expression, x, 2)"
   ]
  },
  {
   "cell_type": "code",
   "execution_count": 3,
   "metadata": {},
   "outputs": [
    {
     "data": {
      "text/latex": [
       "$\\displaystyle \\frac{x^{2}}{2}$"
      ],
      "text/plain": [
       "x**2/2"
      ]
     },
     "execution_count": 3,
     "metadata": {},
     "output_type": "execute_result"
    }
   ],
   "source": [
    "sym.integrate(expression, x)"
   ]
  },
  {
   "cell_type": "markdown",
   "metadata": {},
   "source": [
    "> $f(x) = x ^{\\frac{1}{3}}$"
   ]
  },
  {
   "cell_type": "code",
   "execution_count": 4,
   "metadata": {},
   "outputs": [
    {
     "data": {
      "text/latex": [
       "$\\displaystyle \\frac{1}{3 x^{\\frac{2}{3}}}$"
      ],
      "text/plain": [
       "1/(3*x**(2/3))"
      ]
     },
     "execution_count": 4,
     "metadata": {},
     "output_type": "execute_result"
    }
   ],
   "source": [
    "expression = x ** (sym.S(1) / 3)\n",
    "sym.diff(expression, x)"
   ]
  },
  {
   "cell_type": "code",
   "execution_count": 5,
   "metadata": {},
   "outputs": [
    {
     "data": {
      "text/latex": [
       "$\\displaystyle - \\frac{2}{9 x^{\\frac{5}{3}}}$"
      ],
      "text/plain": [
       "-2/(9*x**(5/3))"
      ]
     },
     "execution_count": 5,
     "metadata": {},
     "output_type": "execute_result"
    }
   ],
   "source": [
    "sym.diff(expression, x, 2)"
   ]
  },
  {
   "cell_type": "code",
   "execution_count": 6,
   "metadata": {},
   "outputs": [
    {
     "data": {
      "text/latex": [
       "$\\displaystyle \\frac{3 x^{\\frac{4}{3}}}{4}$"
      ],
      "text/plain": [
       "3*x**(4/3)/4"
      ]
     },
     "execution_count": 6,
     "metadata": {},
     "output_type": "execute_result"
    }
   ],
   "source": [
    "sym.integrate(expression, x)"
   ]
  },
  {
   "cell_type": "markdown",
   "metadata": {},
   "source": [
    "> $f(x) = 2 x (x - 3) (\\sin(x) - 5)$"
   ]
  },
  {
   "cell_type": "code",
   "execution_count": 7,
   "metadata": {},
   "outputs": [
    {
     "data": {
      "text/latex": [
       "$\\displaystyle 2 x \\left(x - 3\\right) \\cos{\\left(x \\right)} + 2 x \\left(\\sin{\\left(x \\right)} - 5\\right) + \\left(x - 3\\right) \\left(2 \\sin{\\left(x \\right)} - 10\\right)$"
      ],
      "text/plain": [
       "2*x*(x - 3)*cos(x) + 2*x*(sin(x) - 5) + (x - 3)*(2*sin(x) - 10)"
      ]
     },
     "execution_count": 7,
     "metadata": {},
     "output_type": "execute_result"
    }
   ],
   "source": [
    "expression = 2 * x * (x - 3) * (sym.sin(x) - 5)\n",
    "sym.diff(expression, x)"
   ]
  },
  {
   "cell_type": "code",
   "execution_count": 8,
   "metadata": {},
   "outputs": [
    {
     "data": {
      "text/latex": [
       "$\\displaystyle 2 \\left(- x \\left(x - 3\\right) \\sin{\\left(x \\right)} + 2 x \\cos{\\left(x \\right)} + 2 \\left(x - 3\\right) \\cos{\\left(x \\right)} + 2 \\sin{\\left(x \\right)} - 10\\right)$"
      ],
      "text/plain": [
       "2*(-x*(x - 3)*sin(x) + 2*x*cos(x) + 2*(x - 3)*cos(x) + 2*sin(x) - 10)"
      ]
     },
     "execution_count": 8,
     "metadata": {},
     "output_type": "execute_result"
    }
   ],
   "source": [
    "sym.diff(expression, x, 2)"
   ]
  },
  {
   "cell_type": "code",
   "execution_count": 9,
   "metadata": {},
   "outputs": [
    {
     "data": {
      "text/latex": [
       "$\\displaystyle - \\frac{10 x^{3}}{3} - 2 x^{2} \\cos{\\left(x \\right)} + 15 x^{2} + 4 x \\sin{\\left(x \\right)} + 6 x \\cos{\\left(x \\right)} - 6 \\sin{\\left(x \\right)} + 4 \\cos{\\left(x \\right)}$"
      ],
      "text/plain": [
       "-10*x**3/3 - 2*x**2*cos(x) + 15*x**2 + 4*x*sin(x) + 6*x*cos(x) - 6*sin(x) + 4*cos(x)"
      ]
     },
     "execution_count": 9,
     "metadata": {},
     "output_type": "execute_result"
    }
   ],
   "source": [
    "sym.integrate(expression, x)"
   ]
  },
  {
   "cell_type": "markdown",
   "metadata": {},
   "source": [
    "> $f(x) = 3  x ^ 3 + 6 \\sqrt{x} + 3$"
   ]
  },
  {
   "cell_type": "code",
   "execution_count": 10,
   "metadata": {},
   "outputs": [
    {
     "data": {
      "text/latex": [
       "$\\displaystyle 9 x^{2} + \\frac{3}{\\sqrt{x}}$"
      ],
      "text/plain": [
       "9*x**2 + 3/sqrt(x)"
      ]
     },
     "execution_count": 10,
     "metadata": {},
     "output_type": "execute_result"
    }
   ],
   "source": [
    "expression = 3 * x ** 3 + 6 * sym.sqrt(x) + 3\n",
    "sym.diff(expression, x)"
   ]
  },
  {
   "cell_type": "code",
   "execution_count": 11,
   "metadata": {},
   "outputs": [
    {
     "data": {
      "text/latex": [
       "$\\displaystyle 3 \\left(6 x - \\frac{1}{2 x^{\\frac{3}{2}}}\\right)$"
      ],
      "text/plain": [
       "3*(6*x - 1/(2*x**(3/2)))"
      ]
     },
     "execution_count": 11,
     "metadata": {},
     "output_type": "execute_result"
    }
   ],
   "source": [
    "sym.diff(expression, x, 2)"
   ]
  },
  {
   "cell_type": "code",
   "execution_count": 12,
   "metadata": {},
   "outputs": [
    {
     "data": {
      "text/latex": [
       "$\\displaystyle 4 x^{\\frac{3}{2}} + \\frac{3 x^{4}}{4} + 3 x$"
      ],
      "text/plain": [
       "4*x**(3/2) + 3*x**4/4 + 3*x"
      ]
     },
     "execution_count": 12,
     "metadata": {},
     "output_type": "execute_result"
    }
   ],
   "source": [
    "sym.integrate(expression, x)"
   ]
  },
  {
   "cell_type": "markdown",
   "metadata": {},
   "source": [
    "## Question 2\n",
    "\n",
    "> `2`. Consider the function $f(x)=2x+1$. By differentiating *from first\n",
    "> principles* show that $f'(x)=2$.\n",
    "\n",
    "Using the definition of the derivative:"
   ]
  },
  {
   "cell_type": "code",
   "execution_count": 13,
   "metadata": {},
   "outputs": [
    {
     "data": {
      "text/latex": [
       "$\\displaystyle 2$"
      ],
      "text/plain": [
       "2"
      ]
     },
     "execution_count": 13,
     "metadata": {},
     "output_type": "execute_result"
    }
   ],
   "source": [
    "h = sym.Symbol(\"h\")\n",
    "expression = 2 * x + 1\n",
    "sym.limit((expression - expression.subs({x: x - h})) / h, h, 0)"
   ]
  },
  {
   "cell_type": "markdown",
   "metadata": {},
   "source": [
    "## Question 3\n",
    "\n",
    "> `3`. Consider the second derivative $f''(x)=6x+4$ of some cubic function $f(x)$.\n",
    "\n",
    ">    `1`. Find $f'(x)$\n",
    "\n",
    "We know the derivative will be the integral of the second derivative with a\n",
    "constant:"
   ]
  },
  {
   "cell_type": "code",
   "execution_count": 14,
   "metadata": {},
   "outputs": [
    {
     "data": {
      "text/latex": [
       "$\\displaystyle c_{1} + 3 x^{2} + 4 x$"
      ],
      "text/plain": [
       "c1 + 3*x**2 + 4*x"
      ]
     },
     "execution_count": 14,
     "metadata": {},
     "output_type": "execute_result"
    }
   ],
   "source": [
    "c1 = sym.Symbol(\"c1\")\n",
    "\n",
    "second_derivative = 6 * x + 4\n",
    "derivative = sym.integrate(second_derivative, x) + c1\n",
    "derivative"
   ]
  },
  {
   "cell_type": "markdown",
   "metadata": {},
   "source": [
    ">    `2`. You are given that $f(0)=10$ and $f(1)=13$, find $f(x)$.\n",
    "\n",
    "We know that the cubic will be the integral of the derivative with constant:"
   ]
  },
  {
   "cell_type": "code",
   "execution_count": 15,
   "metadata": {},
   "outputs": [
    {
     "data": {
      "text/latex": [
       "$\\displaystyle c_{1} x + c_{2} + x^{3} + 2 x^{2}$"
      ],
      "text/plain": [
       "c1*x + c2 + x**3 + 2*x**2"
      ]
     },
     "execution_count": 15,
     "metadata": {},
     "output_type": "execute_result"
    }
   ],
   "source": [
    "c2 = sym.Symbol(\"c2\")\n",
    "\n",
    "cubic = sym.integrate(derivative, x) + c2\n",
    "cubic"
   ]
  },
  {
   "cell_type": "markdown",
   "metadata": {},
   "source": [
    "We substitute $x=0$:"
   ]
  },
  {
   "cell_type": "code",
   "execution_count": 16,
   "metadata": {},
   "outputs": [
    {
     "data": {
      "text/latex": [
       "$\\displaystyle c_{2}$"
      ],
      "text/plain": [
       "c2"
      ]
     },
     "execution_count": 16,
     "metadata": {},
     "output_type": "execute_result"
    }
   ],
   "source": [
    "cubic.subs({x: 0})"
   ]
  },
  {
   "cell_type": "markdown",
   "metadata": {},
   "source": [
    "This gives $c_2=10$. We substitute that back in to our expression for the cubic:"
   ]
  },
  {
   "cell_type": "code",
   "execution_count": 17,
   "metadata": {},
   "outputs": [
    {
     "data": {
      "text/latex": [
       "$\\displaystyle c_{1} x + x^{3} + 2 x^{2} + 10$"
      ],
      "text/plain": [
       "c1*x + x**3 + 2*x**2 + 10"
      ]
     },
     "execution_count": 17,
     "metadata": {},
     "output_type": "execute_result"
    }
   ],
   "source": [
    "cubic = cubic.subs({c2: 10})\n",
    "cubic"
   ]
  },
  {
   "cell_type": "markdown",
   "metadata": {},
   "source": [
    "and now substitute $x=1$:"
   ]
  },
  {
   "cell_type": "code",
   "execution_count": 18,
   "metadata": {},
   "outputs": [
    {
     "data": {
      "text/latex": [
       "$\\displaystyle c_{1} + 13$"
      ],
      "text/plain": [
       "c1 + 13"
      ]
     },
     "execution_count": 18,
     "metadata": {},
     "output_type": "execute_result"
    }
   ],
   "source": [
    "cubic.subs({x: 1})"
   ]
  },
  {
   "cell_type": "markdown",
   "metadata": {},
   "source": [
    "which gives $c_1=0$ which we substitute back in to our expression for the cubic:"
   ]
  },
  {
   "cell_type": "code",
   "execution_count": 19,
   "metadata": {},
   "outputs": [
    {
     "data": {
      "text/latex": [
       "$\\displaystyle x^{3} + 2 x^{2} + 10$"
      ],
      "text/plain": [
       "x**3 + 2*x**2 + 10"
      ]
     },
     "execution_count": 19,
     "metadata": {},
     "output_type": "execute_result"
    }
   ],
   "source": [
    "cubic = cubic.subs({c1: 0})\n",
    "cubic"
   ]
  },
  {
   "cell_type": "markdown",
   "metadata": {},
   "source": [
    "> `3`. Find all the stationary points of $f(x)$ and determine their nature.\n",
    "\n",
    "The stationary points are the points that give $\\frac{df}{dx}=0$:"
   ]
  },
  {
   "cell_type": "code",
   "execution_count": 20,
   "metadata": {},
   "outputs": [
    {
     "data": {
      "text/latex": [
       "$\\displaystyle \\left\\{- \\frac{4}{3}, 0\\right\\}$"
      ],
      "text/plain": [
       "FiniteSet(-4/3, 0)"
      ]
     },
     "execution_count": 20,
     "metadata": {},
     "output_type": "execute_result"
    }
   ],
   "source": [
    "stationary_points = sym.solveset(sym.diff(cubic, x), x)\n",
    "stationary_points"
   ]
  },
  {
   "cell_type": "markdown",
   "metadata": {},
   "source": [
    "We determine the nature of these turning points by considering the sign of $\\frac{d^2f}{dx^2}$ at each point."
   ]
  },
  {
   "cell_type": "code",
   "execution_count": 21,
   "metadata": {},
   "outputs": [
    {
     "data": {
      "text/latex": [
       "$\\displaystyle -4$"
      ],
      "text/plain": [
       "-4"
      ]
     },
     "execution_count": 21,
     "metadata": {},
     "output_type": "execute_result"
    }
   ],
   "source": [
    "second_derivative.subs({x: -4 / sym.S(3)})"
   ]
  },
  {
   "cell_type": "markdown",
   "metadata": {},
   "source": [
    "This is negative, so it is a local maximum."
   ]
  },
  {
   "cell_type": "code",
   "execution_count": 22,
   "metadata": {},
   "outputs": [
    {
     "data": {
      "text/latex": [
       "$\\displaystyle 4$"
      ],
      "text/plain": [
       "4"
      ]
     },
     "execution_count": 22,
     "metadata": {},
     "output_type": "execute_result"
    }
   ],
   "source": [
    "second_derivative.subs({x: 0})"
   ]
  },
  {
   "cell_type": "markdown",
   "metadata": {},
   "source": [
    "This is positive, so it is a local minimum.\n",
    "\n",
    "## Question 4\n",
    "\n",
    "> `4`. Consider the function $f(x)=\\frac{2}{3}x ^ 3 + b x ^ 2 + 2 x + 3$, where\n",
    "> $b$ is some undetermined coefficient.\n",
    "\n",
    "> `1`. Find $f'(x)$ and $f''(x)$"
   ]
  },
  {
   "cell_type": "code",
   "execution_count": 23,
   "metadata": {},
   "outputs": [
    {
     "data": {
      "text/latex": [
       "$\\displaystyle 2 b x + 2 x^{2} + 2$"
      ],
      "text/plain": [
       "2*b*x + 2*x**2 + 2"
      ]
     },
     "execution_count": 23,
     "metadata": {},
     "output_type": "execute_result"
    }
   ],
   "source": [
    "b = sym.Symbol(\"b\")\n",
    "expression = sym.S(2) / 3 * x ** 3 + b * x ** 2 + 2 * x + 3\n",
    "derivative = sym.diff(expression, x)\n",
    "derivative"
   ]
  },
  {
   "cell_type": "code",
   "execution_count": 24,
   "metadata": {},
   "outputs": [],
   "source": [
    "second_derivative = sym.diff(expression, x, 2)"
   ]
  },
  {
   "cell_type": "markdown",
   "metadata": {},
   "source": [
    "> `2`. You are given that $f(x)$ has a stationary point at $x=2$. Use this\n",
    "> information to find $b$.\n",
    "\n",
    "We solve the equation that arises when substituting $x=2$ in to the derivative:"
   ]
  },
  {
   "cell_type": "code",
   "execution_count": 25,
   "metadata": {},
   "outputs": [
    {
     "data": {
      "text/latex": [
       "$\\displaystyle 4 b + 10 = 0$"
      ],
      "text/plain": [
       "Eq(4*b + 10, 0)"
      ]
     },
     "execution_count": 25,
     "metadata": {},
     "output_type": "execute_result"
    }
   ],
   "source": [
    "equation = sym.Eq(derivative.subs({x: 2}), 0)\n",
    "equation"
   ]
  },
  {
   "cell_type": "code",
   "execution_count": 26,
   "metadata": {},
   "outputs": [
    {
     "data": {
      "text/latex": [
       "$\\displaystyle \\left\\{- \\frac{5}{2}\\right\\}$"
      ],
      "text/plain": [
       "FiniteSet(-5/2)"
      ]
     },
     "execution_count": 26,
     "metadata": {},
     "output_type": "execute_result"
    }
   ],
   "source": [
    "sym.solveset(equation, b)"
   ]
  },
  {
   "cell_type": "markdown",
   "metadata": {},
   "source": [
    "> `3`. Find the coordinates of the other stationary point.\n",
    "\n",
    "We substitute this value of $b$ in to the expression:"
   ]
  },
  {
   "cell_type": "code",
   "execution_count": 27,
   "metadata": {},
   "outputs": [
    {
     "data": {
      "text/latex": [
       "$\\displaystyle \\frac{2 x^{3}}{3} - \\frac{5 x^{2}}{2} + 2 x + 3$"
      ],
      "text/plain": [
       "2*x**3/3 - 5*x**2/2 + 2*x + 3"
      ]
     },
     "execution_count": 27,
     "metadata": {},
     "output_type": "execute_result"
    }
   ],
   "source": [
    "b_value = -sym.S(5) / 2\n",
    "expression = expression.subs({b: b_value})\n",
    "expression"
   ]
  },
  {
   "cell_type": "markdown",
   "metadata": {},
   "source": [
    "and the derivative and then solve the equation:"
   ]
  },
  {
   "cell_type": "code",
   "execution_count": 28,
   "metadata": {},
   "outputs": [
    {
     "data": {
      "text/latex": [
       "$\\displaystyle \\left\\{\\frac{1}{2}, 2\\right\\}$"
      ],
      "text/plain": [
       "FiniteSet(1/2, 2)"
      ]
     },
     "execution_count": 28,
     "metadata": {},
     "output_type": "execute_result"
    }
   ],
   "source": [
    "derivative = derivative.subs({b: b_value})\n",
    "sym.solveset(derivative)"
   ]
  },
  {
   "cell_type": "markdown",
   "metadata": {},
   "source": [
    "> `4`. Determine the nature of both stationary points.\n",
    "\n",
    "\n",
    "Substituting both values in to the second derivative:"
   ]
  },
  {
   "cell_type": "code",
   "execution_count": 29,
   "metadata": {},
   "outputs": [
    {
     "data": {
      "text/latex": [
       "$\\displaystyle -3$"
      ],
      "text/plain": [
       "-3"
      ]
     },
     "execution_count": 29,
     "metadata": {},
     "output_type": "execute_result"
    }
   ],
   "source": [
    "second_derivative = second_derivative.subs({b: b_value})\n",
    "second_derivative.subs({x: sym.S(1) / 2})"
   ]
  },
  {
   "cell_type": "markdown",
   "metadata": {},
   "source": [
    "This is negative so it is a local maxima."
   ]
  },
  {
   "cell_type": "code",
   "execution_count": 30,
   "metadata": {},
   "outputs": [
    {
     "data": {
      "text/latex": [
       "$\\displaystyle 3$"
      ],
      "text/plain": [
       "3"
      ]
     },
     "execution_count": 30,
     "metadata": {},
     "output_type": "execute_result"
    }
   ],
   "source": [
    "second_derivative.subs({x: 2})"
   ]
  },
  {
   "cell_type": "markdown",
   "metadata": {},
   "source": [
    "This is positive so it is a local minima.\n",
    "\n",
    "## Question 5\n",
    "\n",
    "> `5`. Consider the functions $f(x)=-x^2+4x+4$ and $g(x)=3x^2-2x-2$.\n",
    "\n",
    "> `1`. Create a variable `turning_points` which has value the turning points of\n",
    "> $f(x)$."
   ]
  },
  {
   "cell_type": "code",
   "execution_count": 31,
   "metadata": {},
   "outputs": [],
   "source": [
    "f = -(x ** 2) + 4 * x + 4\n",
    "derivative = sym.diff(f, x)\n",
    "turning_points = sym.solveset(derivative, x)"
   ]
  },
  {
   "cell_type": "markdown",
   "metadata": {},
   "source": [
    "> `2`. Create variable `intersection_points` which has value of the points where\n",
    "> $f(x)$ and $g(x)$ intersect."
   ]
  },
  {
   "cell_type": "code",
   "execution_count": 32,
   "metadata": {},
   "outputs": [
    {
     "data": {
      "text/latex": [
       "$\\displaystyle \\left\\{\\frac{3}{4} - \\frac{\\sqrt{33}}{4}, \\frac{3}{4} + \\frac{\\sqrt{33}}{4}\\right\\}$"
      ],
      "text/plain": [
       "FiniteSet(3/4 - sqrt(33)/4, 3/4 + sqrt(33)/4)"
      ]
     },
     "execution_count": 32,
     "metadata": {},
     "output_type": "execute_result"
    }
   ],
   "source": [
    "g = 3 * x ** 2 - 2 * x - 2\n",
    "equation = sym.Eq(f, g)\n",
    "intersection_points = sym.solveset(equation, x)\n",
    "intersection_points"
   ]
  },
  {
   "cell_type": "markdown",
   "metadata": {},
   "source": [
    "> `3`. Using your answers to parts 2., calculate the area of the region between\n",
    ">  $f$ and $g$. Assign this value to a variable `area_between`.\n",
    "\n",
    "The area between $f$ and $g$ corresponds to the integral of $\\pm (f - g)$\n",
    "between the points of intersection. We here use $f - g$, if the outcome was\n",
    "negative we would take the opposite."
   ]
  },
  {
   "cell_type": "code",
   "execution_count": 33,
   "metadata": {},
   "outputs": [
    {
     "data": {
      "text/latex": [
       "$\\displaystyle \\frac{11 \\sqrt{33}}{4}$"
      ],
      "text/plain": [
       "11*sqrt(33)/4"
      ]
     },
     "execution_count": 33,
     "metadata": {},
     "output_type": "execute_result"
    }
   ],
   "source": [
    "area_between = sym.integrate(\n",
    "    f - g, (x, sym.S(3) / 4 - sym.sqrt(33) / 4, sym.S(3) / 4 + sym.sqrt(33) / 4)\n",
    ")\n",
    "sym.simplify(area_between)"
   ]
  }
 ],
 "metadata": {
  "jupytext": {
   "formats": "ipynb,md:myst"
  },
  "kernelspec": {
   "display_name": "Python 3",
   "language": "python",
   "name": "python3"
  },
  "language_info": {
   "codemirror_mode": {
    "name": "ipython",
    "version": 3
   },
   "file_extension": ".py",
   "mimetype": "text/x-python",
   "name": "python",
   "nbconvert_exporter": "python",
   "pygments_lexer": "ipython3",
   "version": "3.8.3"
  }
 },
 "nbformat": 4,
 "nbformat_minor": 4
}
