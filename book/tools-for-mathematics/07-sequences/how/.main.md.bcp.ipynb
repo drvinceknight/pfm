{
 "cells": [
  {
   "cell_type": "markdown",
   "metadata": {},
   "source": [
    "# How\n",
    "\n",
    "## Define a function using recursion\n",
    "\n",
    "It is possible to define a recursive expression using a recursive function in\n",
    "Python. This requires two things:\n",
    "\n",
    "- A recursive rule: something that relates the current term to another one;\n",
    "- A base case: a particular term that does not need the recursive rule to be\n",
    "  calculated.\n",
    "\n",
    "Consider the following mathematical expression:\n",
    "\n",
    "$$\n",
    "    \\left\\{\n",
    "    \\begin{array}{l}\n",
    "        a_1 = 1,\\\\\n",
    "        a_n = 2a_{n - 1}, n > 1,\n",
    "    \\end{array}\n",
    "    \\right.\n",
    "$$\n",
    "\n",
    "- The recursive rule is: $a_n = 2a_{n - 1}$;\n",
    "- The base case is: $a_1 = 1$.\n",
    "\n",
    "In Python this can be written as:"
   ]
  },
  {
   "cell_type": "code",
   "execution_count": 1,
   "metadata": {},
   "outputs": [],
   "source": [
    "def generate_sequence(n):\n",
    "    \"\"\"\n",
    "    Generate the sequence defined by:\n",
    "\n",
    "    a_1 = 1\n",
    "    a_n = 2 a_{n - 1}\n",
    "\n",
    "    This is done using recursion.\n",
    "    \"\"\"\n",
    "    if n == 1:\n",
    "        return 1\n",
    "    return 2 * generate_sequence(n - 1)"
   ]
  },
  {
   "cell_type": "markdown",
   "metadata": {},
   "source": [
    "Here we can get the first 7 terms:"
   ]
  },
  {
   "cell_type": "code",
   "execution_count": 2,
   "metadata": {},
   "outputs": [
    {
     "data": {
      "text/plain": [
       "[1, 2, 4, 8, 16, 32, 64]"
      ]
     },
     "execution_count": 2,
     "metadata": {},
     "output_type": "execute_result"
    }
   ],
   "source": [
    "values_of_sequence = [generate_sequence(n) for n in range(1, 8)]\n",
    "values_of_sequence"
   ]
  }
 ],
 "metadata": {
  "jupytext": {
   "formats": "ipynb,md:myst"
  },
  "kernelspec": {
   "display_name": "Python 3",
   "language": "python",
   "name": "python3"
  },
  "language_info": {
   "codemirror_mode": {
    "name": "ipython",
    "version": 3
   },
   "file_extension": ".py",
   "mimetype": "text/x-python",
   "name": "python",
   "nbconvert_exporter": "python",
   "pygments_lexer": "ipython3",
   "version": "3.8.3"
  }
 },
 "nbformat": 4,
 "nbformat_minor": 4
}
