{
 "cells": [
  {
   "cell_type": "markdown",
   "metadata": {},
   "source": [
    "# Matplotlib\n",
    "\n",
    "Visualisation of data is important in mathematics. This often starts by plotting\n",
    "a quadratic before using differentiation to find local and global optima but can\n",
    "then also be expanded to visualise a data set so as to gain further insights.\n",
    "Python has a powerful library for visualisation called `matplotlib`.\n",
    "\n",
    "Plotting plotting plotting.\n",
    "\n",
    "Tutorial: visualise Anscombe's quartet\n",
    "\n",
    "How:\n",
    "\n",
    "- scatter\n",
    "- hist\n",
    "- line\n",
    "- violonplot\n",
    "- boxplot\n",
    "- combine plots\n",
    "- save plots\n",
    "- multiple plots\n",
    "\n",
    "Why:\n",
    "\n",
    "- Extra information\n",
    "- Gallery"
   ]
  }
 ],
 "metadata": {
  "jupytext": {
   "formats": "ipynb,md:myst"
  },
  "kernelspec": {
   "display_name": "Python 3",
   "language": "python",
   "name": "python3"
  },
  "language_info": {
   "codemirror_mode": {
    "name": "ipython",
    "version": 3
   },
   "file_extension": ".py",
   "mimetype": "text/x-python",
   "name": "python",
   "nbconvert_exporter": "python",
   "pygments_lexer": "ipython3",
   "version": "3.8.3"
  }
 },
 "nbformat": 4,
 "nbformat_minor": 4
}
