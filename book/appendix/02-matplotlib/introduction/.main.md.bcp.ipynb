{
 "cells": [
  {
   "cell_type": "markdown",
   "metadata": {},
   "source": [
    "(matplotlib)=\n",
    "# Matplotlib\n",
    "\n",
    "Visualisation of data is important in mathematics. This often starts by plotting\n",
    "a quadratic before using differentiation to find local and global optima but can\n",
    "then also be expanded to visualise a data set so as to gain further insights.\n",
    "Python has a powerful library for visualisation called `matplotlib`.\n",
    "\n",
    "```{important}\n",
    "In this chapter we will cover:\n",
    "\n",
    "- How to use `matplotlib` to create different types of plots.\n",
    "- Specifically see how to use `matplotlib` to plot a given function.\n",
    "```"
   ]
  }
 ],
 "metadata": {
  "jupytext": {
   "formats": "ipynb,md:myst"
  },
  "kernelspec": {
   "display_name": "Python 3",
   "language": "python",
   "name": "python3"
  },
  "language_info": {
   "codemirror_mode": {
    "name": "ipython",
    "version": 3
   },
   "file_extension": ".py",
   "mimetype": "text/x-python",
   "name": "python",
   "nbconvert_exporter": "python",
   "pygments_lexer": "ipython3",
   "version": "3.8.3"
  }
 },
 "nbformat": 4,
 "nbformat_minor": 4
}
