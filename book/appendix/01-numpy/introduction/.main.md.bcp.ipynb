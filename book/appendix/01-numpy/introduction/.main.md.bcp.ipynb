{
 "cells": [
  {
   "cell_type": "markdown",
   "metadata": {},
   "source": [
    "(numpy)=\n",
    "# Numpy\n",
    "\n",
    "One of the most popular Python libraries for scientific computing is `numpy`.\n",
    "Python is not renowned for its run speed but its speed of writing.\n",
    "`Numpy` helps with this at is brings fast numeric computations to Python. It is\n",
    "also powerful tool for linear algebra (matrices) although it cannot handle\n",
    "symbolic variables."
   ]
  }
 ],
 "metadata": {
  "jupytext": {
   "formats": "ipynb,md:myst"
  },
  "kernelspec": {
   "display_name": "Python 3",
   "language": "python",
   "name": "python3"
  },
  "language_info": {
   "codemirror_mode": {
    "name": "ipython",
    "version": 3
   },
   "file_extension": ".py",
   "mimetype": "text/x-python",
   "name": "python",
   "nbconvert_exporter": "python",
   "pygments_lexer": "ipython3",
   "version": "3.8.3"
  }
 },
 "nbformat": 4,
 "nbformat_minor": 4
}
