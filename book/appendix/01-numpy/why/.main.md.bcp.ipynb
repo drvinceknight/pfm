{
 "cells": [
  {
   "cell_type": "markdown",
   "metadata": {},
   "source": [
    "# Why\n",
    "\n",
    "## What is the difference between an array and other Python iterables?\n",
    "\n",
    "Other iterables seen in this book so far include python lists and tuples. As\n",
    "described in\n",
    "{ref}`difference_between_a_list_and_a_tuple`\n",
    "the difference between a list and a tuple is that a tuple is immutable: so that\n",
    "it cannot be changed in place whereas a list can.\n",
    "\n",
    "An array, in general in other languages, and in particular a `numpy` array is\n",
    "mutable **but** one of the main differences is that all types of variables\n",
    "inside the array must be the same. This is not the case for lists or arrays. As\n",
    "an example consider the following collections of two types of variables (a `str`\n",
    "and an `int`):"
   ]
  },
  {
   "cell_type": "code",
   "execution_count": 1,
   "metadata": {},
   "outputs": [
    {
     "data": {
      "text/plain": [
       "('dog', 3)"
      ]
     },
     "execution_count": 1,
     "metadata": {},
     "output_type": "execute_result"
    }
   ],
   "source": [
    "collection_as_tuple = (\"dog\", 3)\n",
    "collection_as_tuple"
   ]
  },
  {
   "cell_type": "code",
   "execution_count": 2,
   "metadata": {},
   "outputs": [
    {
     "data": {
      "text/plain": [
       "['dog', 3]"
      ]
     },
     "execution_count": 2,
     "metadata": {},
     "output_type": "execute_result"
    }
   ],
   "source": [
    "collection_as_list = [\"dog\", 3]\n",
    "collection_as_list"
   ]
  },
  {
   "cell_type": "code",
   "execution_count": 3,
   "metadata": {},
   "outputs": [
    {
     "data": {
      "text/plain": [
       "array(['dog', '3'], dtype='<U3')"
      ]
     },
     "execution_count": 3,
     "metadata": {},
     "output_type": "execute_result"
    }
   ],
   "source": [
    "import numpy as np\n",
    "\n",
    "collection_as_array = np.array((\"dog\", 3))\n",
    "collection_as_array"
   ]
  },
  {
   "cell_type": "markdown",
   "metadata": {},
   "source": [
    "This has in fact changed the integer value and stored it as a string.\n",
    "\n",
    "## Why is Numpy computationally efficient?\n",
    "\n",
    "Python is essentially two things:\n",
    "\n",
    "- A language;\n",
    "- An interpreter that takes the language and carries out the instructions.\n",
    "\n",
    "That Interpreter is written in another programming language: specifically the\n",
    "programming language [C](https://en.wikipedia.org/wiki/C_(programming_language).\n",
    "C is a compiled language which means that there is an extra step to running C\n",
    "code: after it has been written, it has to be compiled to something that the\n",
    "computer can understand which is when it is run.\n",
    "\n",
    "Python however is not a compiled language: it is an interpreted language. This\n",
    "makes it faster to write and debug but slower for to run.\n",
    "\n",
    "Numpy has a number of\n",
    "[vectorized](https://en.wikipedia.org/wiki/Array_programming) functionalities\n",
    "that essentially let Python speak more directly to C. Which is why it is fast.\n",
    "\n",
    "Some example of this include using the `numpy.max` function over the standard\n",
    "library `max` function."
   ]
  },
  {
   "cell_type": "code",
   "execution_count": 4,
   "metadata": {
    "tags": [
     "style-check-ignore",
     "nbval-ignore-output"
    ]
   },
   "outputs": [
    {
     "name": "stdout",
     "output_type": "stream",
     "text": [
      "4.4 ms ± 25.3 µs per loop (mean ± std. dev. of 7 runs, 100 loops each)\n"
     ]
    }
   ],
   "source": [
    "import numpy as np\n",
    "\n",
    "np.random.seed(0)\n",
    "big_array = np.random.random(10 ** 7)\n",
    "%timeit np.max(big_array)"
   ]
  },
  {
   "cell_type": "code",
   "execution_count": 5,
   "metadata": {
    "tags": [
     "style-check-ignore",
     "nbval-ignore-output"
    ]
   },
   "outputs": [
    {
     "name": "stdout",
     "output_type": "stream",
     "text": [
      "715 ms ± 6.53 ms per loop (mean ± std. dev. of 7 runs, 1 loop each)\n"
     ]
    }
   ],
   "source": [
    "import numpy as np\n",
    "\n",
    "np.random.seed(0)\n",
    "big_array = np.random.random(10 ** 7)\n",
    "%timeit max(big_array)"
   ]
  },
  {
   "cell_type": "markdown",
   "metadata": {},
   "source": [
    "Some further information on this includes:\n",
    "\n",
    "- The wikipedia page for array programming to gain a general understanding of\n",
    "  vectorized functionality: <https://en.wikipedia.org/wiki/Array_programming>\n",
    "- This blog post has a number of other experiments but also some brief\n",
    "  explanations: <https://www.geeksforgeeks.org/why-numpy-is-faster-in-python/>\n",
    "\n",
    "## Where can I find more information on Numpy?\n",
    "\n",
    "`numpy` is a fundamental building block to the scientific python ecosystem. There\n",
    "is are a lot of resources available:\n",
    "\n",
    "- The scipy-lecture notes: <https://scipy-lectures.org/intro/numpy/index.html>\n",
    "- The `numpy` documentation has a good tutorial:\n",
    "  <https://numpy.org/devdocs/user/quickstart.html>"
   ]
  }
 ],
 "metadata": {
  "jupytext": {
   "formats": "ipynb,md:myst"
  },
  "kernelspec": {
   "display_name": "Python 3",
   "language": "python",
   "name": "python3"
  },
  "language_info": {
   "codemirror_mode": {
    "name": "ipython",
    "version": 3
   },
   "file_extension": ".py",
   "mimetype": "text/x-python",
   "name": "python",
   "nbconvert_exporter": "python",
   "pygments_lexer": "ipython3",
   "version": "3.8.3"
  }
 },
 "nbformat": 4,
 "nbformat_minor": 4
}
