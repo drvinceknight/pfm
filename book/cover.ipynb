{
 "cells": [
  {
   "cell_type": "markdown",
   "id": "385c7802",
   "metadata": {},
   "source": [
    "# Python for Mathematics\n",
    "\n",
    "```{figure} ./img/cover/main.png\n",
    "---\n",
    "width: 50%\n",
    "---\n",
    "```"
   ]
  }
 ],
 "metadata": {
  "jupytext": {
   "formats": "ipynb,md:myst"
  },
  "kernelspec": {
   "display_name": "Python 3",
   "language": "python",
   "name": "python3"
  }
 },
 "nbformat": 4,
 "nbformat_minor": 5
}
