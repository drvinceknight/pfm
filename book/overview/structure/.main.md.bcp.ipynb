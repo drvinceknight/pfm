{
 "cells": [
  {
   "cell_type": "markdown",
   "metadata": {},
   "source": [
    "# How this book is structured\n",
    "\n",
    "Most programming texts introduce readers to the building blocks of\n",
    "programming and build up to using more sophisticated tools for a specific\n",
    "purpose.\n",
    "\n",
    "This is akin to teaching someone how to forge metal so as to make a nail and\n",
    "then slowly work our way to using more sophisticated tools such as power tools\n",
    "to build a house.\n",
    "\n",
    "This book will do thing in a different way: we will start with using and\n",
    "understanding tools that are helpful to mathematicians. In the later part of the\n",
    "book we will cover the building blocks and you will be able to build your own\n",
    "sophisticated tools.\n",
    "\n",
    "The book is in two parts:\n",
    "\n",
    "1. Tools for mathematics;\n",
    "2. Building tools.\n",
    "\n",
    "The first part of the book will not make use of any novel mathematics.\n",
    "Instead we will consider a number of mathematics problem that are often covered\n",
    "in secondary school.\n",
    "\n",
    "- Algebraic manipulation\n",
    "- Calculus (differentiation and integration)\n",
    "- Permutations and combinations\n",
    "- Probability\n",
    "- Linear algebra\n",
    "\n",
    "The questions we will tackle will be familiar in their presentation and\n",
    "description. **What will be different** is that no **by hand** calculations will\n",
    "be done. We will instead carry them all out using a programming language.\n",
    "\n",
    "In the second part of the book you will be encouraged to build your own tools\n",
    "to be able to tackle a problem type of your choice.\n",
    "\n",
    "```{attention}\n",
    "Every chapter will have 4 parts:\n",
    "\n",
    "- A tutorial: you will be walked through solving a problem. You will be\n",
    "  specifically told what to do and what to expect.\n",
    "- A how to section: this will be a shorter more succinct section that will\n",
    "  detail how to carry out specific things.\n",
    "- An answers sections: this will be a section with references to further\n",
    "  resources as well as background information about specific things in the\n",
    "  chapter and answer to common questions.\n",
    "- An exercise section: this will be a number of exercises that you can work on.\n",
    "```"
   ]
  }
 ],
 "metadata": {
  "jupytext": {
   "formats": "ipynb,md:myst"
  },
  "kernelspec": {
   "display_name": "Python 3",
   "language": "python",
   "name": "python3"
  },
  "language_info": {
   "codemirror_mode": {
    "name": "ipython",
    "version": 3
   },
   "file_extension": ".py",
   "mimetype": "text/x-python",
   "name": "python",
   "nbconvert_exporter": "python",
   "pygments_lexer": "ipython3",
   "version": "3.8.3"
  }
 },
 "nbformat": 4,
 "nbformat_minor": 4
}
