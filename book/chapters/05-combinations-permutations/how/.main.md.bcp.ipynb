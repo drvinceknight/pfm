{
 "cells": [
  {
   "cell_type": "markdown",
   "metadata": {},
   "source": [
    "# How\n",
    "\n",
    "\n",
    "(create_a_tuple)=\n",
    "## Create a tuple\n",
    "\n",
    "To create a tuple which is an ordered collection of objects that cannot be\n",
    "changed we use the `()` brackets.\n",
    "\n",
    "````{tip}\n",
    "```\n",
    "collection = (value_1, value_2, value_3, …, value_n)\n",
    "```\n",
    "````\n",
    "\n",
    "For example:"
   ]
  },
  {
   "cell_type": "code",
   "execution_count": 1,
   "metadata": {},
   "outputs": [
    {
     "data": {
      "text/plain": [
       "('Bread', 'Biscuits', 'Coffee')"
      ]
     },
     "execution_count": 1,
     "metadata": {},
     "output_type": "execute_result"
    }
   ],
   "source": [
    "basket = (\"Bread\", \"Biscuits\", \"Coffee\")\n",
    "basket"
   ]
  },
  {
   "cell_type": "markdown",
   "metadata": {},
   "source": [
    "## How to access particular elements in a tuple\n",
    "\n",
    "If we need to we can access elements of this collection using `[]` brackets. The\n",
    "first element is has index `0`:\n",
    "\n",
    "```python\n",
    "tuple[index]\n",
    "```\n",
    "\n",
    "For example:"
   ]
  },
  {
   "cell_type": "code",
   "execution_count": 2,
   "metadata": {},
   "outputs": [
    {
     "data": {
      "text/plain": [
       "'Biscuits'"
      ]
     },
     "execution_count": 2,
     "metadata": {},
     "output_type": "execute_result"
    }
   ],
   "source": [
    "basket[1]"
   ]
  },
  {
   "cell_type": "markdown",
   "metadata": {},
   "source": [
    "(creating_boolean_variables)=\n",
    "## Creating boolean variables\n",
    "\n",
    "A boolean variable has one of two values: `True` or `False`.\n",
    "\n",
    "To create a boolean variable we can use:\n",
    "\n",
    "- Equality: `value == other_value`\n",
    "- Inequality `value != other_value`\n",
    "- Strictly less than `value < other_value`\n",
    "- Less than or equal`value <= other_value`\n",
    "\n",
    "This a subset of the operators available.\n",
    "\n",
    "For example:"
   ]
  },
  {
   "cell_type": "code",
   "execution_count": 3,
   "metadata": {},
   "outputs": [
    {
     "data": {
      "text/plain": [
       "False"
      ]
     },
     "execution_count": 3,
     "metadata": {},
     "output_type": "execute_result"
    }
   ],
   "source": [
    "value = 5\n",
    "other_value = 10\n",
    "\n",
    "value == other_value"
   ]
  },
  {
   "cell_type": "code",
   "execution_count": 4,
   "metadata": {},
   "outputs": [
    {
     "data": {
      "text/plain": [
       "True"
      ]
     },
     "execution_count": 4,
     "metadata": {},
     "output_type": "execute_result"
    }
   ],
   "source": [
    "value != other_value"
   ]
  },
  {
   "cell_type": "code",
   "execution_count": 5,
   "metadata": {},
   "outputs": [
    {
     "data": {
      "text/plain": [
       "True"
      ]
     },
     "execution_count": 5,
     "metadata": {},
     "output_type": "execute_result"
    }
   ],
   "source": [
    "value <= other_value"
   ]
  },
  {
   "cell_type": "code",
   "execution_count": 6,
   "metadata": {},
   "outputs": [
    {
     "data": {
      "text/plain": [
       "False"
      ]
     },
     "execution_count": 6,
     "metadata": {},
     "output_type": "execute_result"
    }
   ],
   "source": [
    "value < value"
   ]
  },
  {
   "cell_type": "code",
   "execution_count": 7,
   "metadata": {},
   "outputs": [
    {
     "data": {
      "text/plain": [
       "True"
      ]
     },
     "execution_count": 7,
     "metadata": {},
     "output_type": "execute_result"
    }
   ],
   "source": [
    "value <= value"
   ]
  },
  {
   "cell_type": "markdown",
   "metadata": {},
   "source": [
    "(creating_an_iterable_with_a_given_number_of_items)=\n",
    "## Creating an iterable with a given number of items\n",
    "\n",
    "The `range` tool gives a given number of integers.\n",
    "\n",
    "````{tip}\n",
    "```\n",
    "range(number_of_integers)\n",
    "```\n",
    "````\n",
    "\n",
    "For example:"
   ]
  },
  {
   "cell_type": "code",
   "execution_count": 8,
   "metadata": {},
   "outputs": [
    {
     "data": {
      "text/plain": [
       "(0, 1, 2, 3, 4, 5, 6, 7, 8, 9)"
      ]
     },
     "execution_count": 8,
     "metadata": {},
     "output_type": "execute_result"
    }
   ],
   "source": [
    "tuple(range(10))"
   ]
  },
  {
   "cell_type": "markdown",
   "metadata": {},
   "source": [
    "```{attention}\n",
    "`range(N)` gives the integers from 0 until \\\\(N - 1\\\\) (inclusive).\n",
    "```\n",
    "\n",
    "It is also possible to pass two values as inputs so that we have a different lower bound:"
   ]
  },
  {
   "cell_type": "code",
   "execution_count": 9,
   "metadata": {},
   "outputs": [
    {
     "data": {
      "text/plain": [
       "(4, 5, 6, 7, 8, 9)"
      ]
     },
     "execution_count": 9,
     "metadata": {},
     "output_type": "execute_result"
    }
   ],
   "source": [
    "tuple(range(4, 10))"
   ]
  },
  {
   "cell_type": "markdown",
   "metadata": {},
   "source": [
    "It is also possible to pass a third value as an step size:"
   ]
  },
  {
   "cell_type": "code",
   "execution_count": 10,
   "metadata": {},
   "outputs": [
    {
     "data": {
      "text/plain": [
       "(4, 7)"
      ]
     },
     "execution_count": 10,
     "metadata": {},
     "output_type": "execute_result"
    }
   ],
   "source": [
    "tuple(range(4, 10, 3))"
   ]
  },
  {
   "cell_type": "markdown",
   "metadata": {},
   "source": [
    "## Creating permutations of a given set of elements\n",
    "\n",
    "The python `itertools` library has a `permutations` tool that will generate all\n",
    "permutations of a given set.\n",
    "\n",
    "````{tip}\n",
    "```\n",
    "itertools.permutations(iterable)\n",
    "```\n",
    "````"
   ]
  },
  {
   "cell_type": "code",
   "execution_count": 11,
   "metadata": {},
   "outputs": [
    {
     "data": {
      "text/plain": [
       "(('Bread', 'Biscuits', 'Coffee'),\n",
       " ('Bread', 'Coffee', 'Biscuits'),\n",
       " ('Biscuits', 'Bread', 'Coffee'),\n",
       " ('Biscuits', 'Coffee', 'Bread'),\n",
       " ('Coffee', 'Bread', 'Biscuits'),\n",
       " ('Coffee', 'Biscuits', 'Bread'))"
      ]
     },
     "execution_count": 11,
     "metadata": {},
     "output_type": "execute_result"
    }
   ],
   "source": [
    "import itertools\n",
    "\n",
    "basket = (\"Bread\", \"Biscuits\", \"Coffee\")\n",
    "tuple(itertools.permutations(basket))"
   ]
  },
  {
   "cell_type": "markdown",
   "metadata": {},
   "source": [
    "It is possible to limit the size to only be permutations of size `r`:"
   ]
  },
  {
   "cell_type": "code",
   "execution_count": 12,
   "metadata": {},
   "outputs": [
    {
     "data": {
      "text/plain": [
       "(('Bread', 'Biscuits'),\n",
       " ('Bread', 'Coffee'),\n",
       " ('Biscuits', 'Bread'),\n",
       " ('Biscuits', 'Coffee'),\n",
       " ('Coffee', 'Bread'),\n",
       " ('Coffee', 'Biscuits'))"
      ]
     },
     "execution_count": 12,
     "metadata": {},
     "output_type": "execute_result"
    }
   ],
   "source": [
    "tuple(itertools.permutations(basket, r=2))"
   ]
  },
  {
   "cell_type": "markdown",
   "metadata": {},
   "source": [
    "## Creating combinations of a given set of elements\n",
    "\n",
    "The python `itertools` library has a `combinations` tool that will generate all combinations of size `r` of a given set:\n",
    "\n",
    "````{tip}\n",
    "```\n",
    "itertools.combinations(iterable, r)\n",
    "```\n",
    "````\n",
    "\n",
    "For example:"
   ]
  },
  {
   "cell_type": "code",
   "execution_count": 13,
   "metadata": {},
   "outputs": [
    {
     "data": {
      "text/plain": [
       "(('Bread', 'Biscuits'), ('Bread', 'Coffee'), ('Biscuits', 'Coffee'))"
      ]
     },
     "execution_count": 13,
     "metadata": {},
     "output_type": "execute_result"
    }
   ],
   "source": [
    "basket = (\"Bread\", \"Biscuits\", \"Coffee\")\n",
    "tuple(itertools.combinations(basket, r=2))"
   ]
  },
  {
   "cell_type": "markdown",
   "metadata": {},
   "source": [
    "A combination does not care about order so by default the combinations generated\n",
    "are sorted.\n",
    "\n",
    "## Adding items in a tuple\n",
    "\n",
    "We can compute the sum of items in a list using the `sum` tool:"
   ]
  },
  {
   "cell_type": "code",
   "execution_count": 14,
   "metadata": {},
   "outputs": [
    {
     "data": {
      "text/plain": [
       "6"
      ]
     },
     "execution_count": 14,
     "metadata": {},
     "output_type": "execute_result"
    }
   ],
   "source": [
    "sum((1, 2, 3))"
   ]
  },
  {
   "cell_type": "markdown",
   "metadata": {},
   "source": [
    "We can also directly use the `sum` without specifically creating the list. This\n",
    "corresponds to the following mathematical notation:\n",
    "\n",
    "$$\n",
    "    \\sum_{s\\in S}f(s)\n",
    "$$\n",
    "\n",
    "and is done using the following:\n",
    "\n",
    "\n",
    "```python\n",
    "sum(f(object) for object in old_list)\n",
    "```\n",
    "\n",
    "Here is an example of calculating the following sum:\n",
    "\n",
    "\n",
    "$$\n",
    "    \\sum_{n=0}^{10} n ^ 2\n",
    "$$"
   ]
  },
  {
   "cell_type": "code",
   "execution_count": 15,
   "metadata": {},
   "outputs": [
    {
     "data": {
      "text/plain": [
       "385"
      ]
     },
     "execution_count": 15,
     "metadata": {},
     "output_type": "execute_result"
    }
   ],
   "source": [
    "sum(n ** 2 for n in range(11))"
   ]
  },
  {
   "cell_type": "markdown",
   "metadata": {},
   "source": [
    "Finally we can compute conditionally sums by only summing over elements that\n",
    "meet a given condition using the following:\n",
    "\n",
    "```python\n",
    "sum(f(object) for object in old_list if condition)\n",
    "```\n",
    "\n",
    "Here is an example of calculating the following sum:\n",
    "\n",
    "$$\n",
    "    \\sum_{\\begin{array}{c}n=0\\\\\\text{ if }n\\text{ odd}\\end{array}}^{10} n ^ 2\n",
    "$$"
   ]
  },
  {
   "cell_type": "code",
   "execution_count": 16,
   "metadata": {},
   "outputs": [
    {
     "data": {
      "text/plain": [
       "165"
      ]
     },
     "execution_count": 16,
     "metadata": {},
     "output_type": "execute_result"
    }
   ],
   "source": [
    "sum(n ** 2 for n in range(11) if n % 2 == 1)"
   ]
  },
  {
   "cell_type": "markdown",
   "metadata": {},
   "source": [
    "## Directly computing \\\\(n!\\\\)\n",
    "\n",
    "The `math` library has a `factorial` tool.\n",
    "\n",
    "````{tip}\n",
    "```\n",
    "math.factorial(N)\n",
    "```\n",
    "````"
   ]
  },
  {
   "cell_type": "code",
   "execution_count": 17,
   "metadata": {},
   "outputs": [
    {
     "data": {
      "text/plain": [
       "120"
      ]
     },
     "execution_count": 17,
     "metadata": {},
     "output_type": "execute_result"
    }
   ],
   "source": [
    "import math\n",
    "\n",
    "math.factorial(5)"
   ]
  },
  {
   "cell_type": "markdown",
   "metadata": {},
   "source": [
    "## Directly computing ${n \\choose i}$\n",
    "\n",
    "The `scipy.special` library has a `comb` tool.\n",
    "\n",
    "````{tip}\n",
    "```\n",
    "scipy.special.comb(n, i)\n",
    "```\n",
    "````\n",
    "\n",
    "For example:"
   ]
  },
  {
   "cell_type": "code",
   "execution_count": 18,
   "metadata": {},
   "outputs": [
    {
     "data": {
      "text/plain": [
       "3.0"
      ]
     },
     "execution_count": 18,
     "metadata": {},
     "output_type": "execute_result"
    }
   ],
   "source": [
    "import scipy.special\n",
    "\n",
    "scipy.special.comb(3, 2)"
   ]
  },
  {
   "cell_type": "markdown",
   "metadata": {},
   "source": [
    "## Directly computing $^n P_i$\n",
    "\n",
    "The `scipy.special` library has a `perm` tool.\n",
    "\n",
    "````{tip}\n",
    "```\n",
    "scipy.special.perm(n, i)\n",
    "```\n",
    "````"
   ]
  },
  {
   "cell_type": "code",
   "execution_count": 19,
   "metadata": {},
   "outputs": [
    {
     "data": {
      "text/plain": [
       "6.0"
      ]
     },
     "execution_count": 19,
     "metadata": {},
     "output_type": "execute_result"
    }
   ],
   "source": [
    "scipy.special.perm(3, 2)"
   ]
  }
 ],
 "metadata": {
  "jupytext": {
   "formats": "ipynb,md:myst"
  },
  "kernelspec": {
   "display_name": "Python 3",
   "language": "python",
   "name": "python3"
  },
  "language_info": {
   "codemirror_mode": {
    "name": "ipython",
    "version": 3
   },
   "file_extension": ".py",
   "mimetype": "text/x-python",
   "name": "python",
   "nbconvert_exporter": "python",
   "pygments_lexer": "ipython3",
   "version": "3.8.3"
  }
 },
 "nbformat": 4,
 "nbformat_minor": 4
}
