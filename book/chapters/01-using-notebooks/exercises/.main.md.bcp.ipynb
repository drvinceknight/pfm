{
 "cells": [
  {
   "cell_type": "markdown",
   "metadata": {},
   "source": [
    "# Exercises\n",
    "\n",
    "**After** completing the tutorial attempt the following exercises.\n",
    "\n",
    "**If you are not sure how to do something, have a look at the \"How To\" section.**\n",
    "\n",
    "1. Create a new notebook rename it \"exercises\". Navigate to it using your file browser to make sure you can find it.\n",
    "2. Write and run some Python code to carry out the following calculations\n",
    "    1. $3 + 8$\n",
    "    2. $3 / 7$\n",
    "    3. $456 / 21$\n",
    "    4. $\\frac{4 ^ 3 + 2}{2\\times 5} - 5 ^ {\\frac{1}{2}}$\n",
    "3. Write a markdown cell with the following and view the rendered version:\n",
    "\n",
    "    ```md\n",
    "    # Euler's equation\n",
    "\n",
    "    \\\\[\n",
    "     e ^ {i\\pi} = -1\n",
    "    \\\\]\n",
    "    ```\n",
    "4. Render the following expressions by writing markdown\n",
    "   1. $\\frac{4 ^ 3 + 2}{2\\times 5}$\n",
    "   2. $- 5 ^ {\\frac{1}{2}}$\n",
    "   3. $\\frac{df}{dx}$\n",
    "   4. $\\int_{5}^{12}x^2dx$\n",
    "   5. $\\begin{pmatrix}4 & 12 & 3\\\\2 & x & i\\\\\\end{pmatrix}$\n",
    "5. Save your notebook to `HTML` and open and view it."
   ]
  }
 ],
 "metadata": {
  "jupytext": {
   "formats": "ipynb,md:myst"
  },
  "kernelspec": {
   "display_name": "Python 3",
   "language": "python",
   "name": "python3"
  },
  "language_info": {
   "codemirror_mode": {
    "name": "ipython",
    "version": 3
   },
   "file_extension": ".py",
   "mimetype": "text/x-python",
   "name": "python",
   "nbconvert_exporter": "python",
   "pygments_lexer": "ipython3",
   "version": "3.8.3"
  }
 },
 "nbformat": 4,
 "nbformat_minor": 4
}
