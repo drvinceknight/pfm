{
 "cells": [
  {
   "cell_type": "markdown",
   "metadata": {},
   "source": [
    "# Exercises\n",
    "\n",
    "**After** completing the tutorial attempt the following exercises.\n",
    "\n",
    "**If you are not sure how to do something, have a look at the \"How To\" section.**\n",
    "\n",
    "1. Simplify the following expressions:\n",
    "    1. $\\frac{3}{\\sqrt{3}}$\n",
    "    2. $\\frac{2 ^ {78}}{2 ^ {12}2^{-32}}$\n",
    "    3. $8^0$\n",
    "    4. $a^4b^{-2}+a^{3}b^{2}+a^{4}b^0$\n",
    "2. Solve the following equations:\n",
    "    1. $x + 3 = -1$\n",
    "    2. $3 x ^ 2 - 2 x = 5$\n",
    "    3. $x (x - 1) (x + 3) = 0$\n",
    "    4. $4 x ^3 + 7x - 24 = 1$\n",
    "3. Consider the equation: $x ^ 2 + 4 - y = \\frac{1}{y}$:\n",
    "    1. Find the solution to this equation for $x$.\n",
    "    2. Obtain the specific solution when $y = 5$. Do this in two ways:\n",
    "       substitute the value in to your equation and substitute the value in to\n",
    "       your solution.\n",
    "4. Consider the quadratic: $f(x)=4x ^ 2 + 16x + 25$:\n",
    "  1. Calculate the discriminant of the quadratic equation $4x ^ 2 + 16x + 25 =\n",
    "     0$. What does this tell us about the solutions to the equation? What\n",
    "     does this tell us about the graph of $f(x)$?\n",
    "  2. By completing the square, show that the minimum point of $f(x)$ is\n",
    "     $\\left(-2, 9\\right)$\n",
    "5. Consider the quadratic: $f(x)=-3x ^ 2 + 24x - 97$:\n",
    "  1. Calculate the discriminant of the quadratic equation $-3x ^ 2 + 24x - 97 =\n",
    "     0$. What does this tell us about the solutions to the equation? What\n",
    "     does this tell us about the graph of $f(x)$?\n",
    "  2. By completing the square, show that the maximum point of $f(x)$ is\n",
    "     $\\left(4, -49\\right)$\n",
    "6. Consider the function $f(x) = x^ 2 + a x + b$.\n",
    "  1. Given that $f(0) = 0$ and $f(3) = 0$ obtain the values of $a$ and $b$.\n",
    "  2. By completing the square confirm that graph of $f(x)$ has a line of symmetry at $x=\\frac{3}{2}$"
   ]
  }
 ],
 "metadata": {
  "jupytext": {
   "formats": "ipynb,md:myst"
  },
  "kernelspec": {
   "display_name": "Python 3",
   "language": "python",
   "name": "python3"
  },
  "language_info": {
   "codemirror_mode": {
    "name": "ipython",
    "version": 3
   },
   "file_extension": ".py",
   "mimetype": "text/x-python",
   "name": "python",
   "nbconvert_exporter": "python",
   "pygments_lexer": "ipython3",
   "version": "3.8.3"
  }
 },
 "nbformat": 4,
 "nbformat_minor": 4
}
