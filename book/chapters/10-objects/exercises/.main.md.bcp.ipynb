{
 "cells": [
  {
   "cell_type": "markdown",
   "metadata": {},
   "source": [
    "# Exercises\n",
    "\n",
    "**After** completing the tutorial attempt the following exercises.\n",
    "\n",
    "**If you are not sure how to do something, have a look at the \"How To\" section.**\n",
    "\n",
    "1. Use the class created in {ref}`objects_tutorial` to find the roots of the\n",
    "   following quadratics:\n",
    "   1. $f(x) = -4x ^ 2 + x + 6$\n",
    "   2. $g(x) = 3x - 6$\n",
    "   3. $h(x) = f(x) + g(x)$\n",
    "2. Write a class for a Linear expression and use it to find the roots of the\n",
    "   following expressions:\n",
    "   1. $f(x) = 2x + 6$\n",
    "   2. $g(x) = 3x - 6$\n",
    "   3. $h(x) = f(x) + g(x)$\n",
    "3. If rain drops were to fall randomly on a square of side length $2r$ the\n",
    "   probability of the drops landing in an inscribed circle of radius $r$ would\n",
    "   be given by:\n",
    "\n",
    "   $$\n",
    "       P = \\frac{\\text{Area of circle}}{\\text{Area of square}}=\\frac{\\pi r ^2}{4r^2}=\\frac{\\pi}{4}\n",
    "   $$\n",
    "\n",
    "   Thus, if we can approximate $P$ then we can approximate $\\pi$ as $4P$. In this\n",
    "   question we will write code to approximate $P$ using the random library.\n",
    "\n",
    "   First create the following class:\n",
    "\n",
    "   ```\n",
    "   class Drop():\n",
    "       \"\"\"\n",
    "       A class that to represent a random rain drop falling on a square of\n",
    "       length r.\n",
    "       \"\"\"\n",
    "       def __init__(self, r=1):\n",
    "           self.x = (.5 - random.random()) * 2 * r\n",
    "           self.y = (.5 - random.random()) * 2 * r\n",
    "           self.incircle = (self.y) ** 2 + (self.x) ** 2 <= r ** 2\n",
    "   ```\n",
    "\n",
    "   Note that the above uses the following equation for a circle centred at\n",
    "   $(0,0)$ of radius $r$:\n",
    "\n",
    "   $$\n",
    "       x^2+y^2≤r^2\n",
    "   $$\n",
    "\n",
    "   To approximate $P$ create $N=1000$ instances of Drops and count the\n",
    "   number of those that are in the circle. Use this to approximate $\\pi$.\n",
    "4. In a similar fashion to question 3, approximate the integral\n",
    "   $\\int_{0}^11-x^2\\;dx$. Recall that the integral corresponds to the area\n",
    "   under a curve."
   ]
  }
 ],
 "metadata": {
  "jupytext": {
   "formats": "ipynb,md:myst"
  },
  "kernelspec": {
   "display_name": "Python 3",
   "language": "python",
   "name": "python3"
  },
  "language_info": {
   "codemirror_mode": {
    "name": "ipython",
    "version": 3
   },
   "file_extension": ".py",
   "mimetype": "text/x-python",
   "name": "python",
   "nbconvert_exporter": "python",
   "pygments_lexer": "ipython3",
   "version": "3.8.3"
  }
 },
 "nbformat": 4,
 "nbformat_minor": 4
}
