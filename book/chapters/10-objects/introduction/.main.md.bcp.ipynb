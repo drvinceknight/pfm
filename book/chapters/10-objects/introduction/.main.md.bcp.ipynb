{
 "cells": [
  {
   "cell_type": "markdown",
   "metadata": {},
   "source": [
    "# Object oriented programming\n",
    "\n",
    "In the first part of this book we covered a number of tools that allow us to\n",
    "carry out mathematical techniques. One example of this is the `sympy.Symbol`\n",
    "object that create a symbolic variable that can be manipulated. In this chapter\n",
    "we will see how to define similar mathematical objects.\n",
    "\n",
    "```{important}\n",
    "In this chapter we will cover:\n",
    "\n",
    "- Creating objects.\n",
    "- Giving objects attributes.\n",
    "- Defining methods on objects.\n",
    "- Inheriting new objects from others.\n",
    "```"
   ]
  }
 ],
 "metadata": {
  "jupytext": {
   "formats": "ipynb,md:myst"
  },
  "kernelspec": {
   "display_name": "Python 3",
   "language": "python",
   "name": "python3"
  },
  "language_info": {
   "codemirror_mode": {
    "name": "ipython",
    "version": 3
   },
   "file_extension": ".py",
   "mimetype": "text/x-python",
   "name": "python",
   "nbconvert_exporter": "python",
   "pygments_lexer": "ipython3",
   "version": "3.8.3"
  }
 },
 "nbformat": 4,
 "nbformat_minor": 4
}
