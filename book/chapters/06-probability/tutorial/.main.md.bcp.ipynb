{
 "cells": [
  {
   "cell_type": "markdown",
   "metadata": {},
   "source": [
    "# Tutorial\n",
    "\n",
    "We will solve the following problem using a computer to estimate the expected\n",
    "probabilities:\n",
    "\n",
    "\n",
    "```{admonition} Problem\n",
    "\n",
    "An experiment consists of selecting a token from a bag and spinning a coin. The\n",
    "bag contains 5 red tokens and 7 blue tokens. A token is selected at random from\n",
    "the bag, its colour is noted and then the token is returned to the bag.\n",
    "\n",
    "When a red token is selected, a biased coin with probability $\\frac{2}{3}$\n",
    "of landing heads is spun.\n",
    "\n",
    "When a blue token is selected a fair coin is spun.\n",
    "\n",
    "1. What is the probability of picking a red token?\n",
    "2. What is the probability of obtaining Heads?\n",
    "3. If a heads is obtained, what is the probability of having selected a red\n",
    "   token.\n",
    "```\n",
    "\n",
    "We will use the `random` library from the Python standard library to do this.\n",
    "\n",
    "First we start off by building a Python **tuple** to represent the bag with the\n",
    "tokens. We assign this to a variable `bag`:"
   ]
  },
  {
   "cell_type": "code",
   "execution_count": 1,
   "metadata": {},
   "outputs": [
    {
     "data": {
      "text/plain": [
       "('Red',\n",
       " 'Red',\n",
       " 'Red',\n",
       " 'Red',\n",
       " 'Red',\n",
       " 'Blue',\n",
       " 'Blue',\n",
       " 'Blue',\n",
       " 'Blue',\n",
       " 'Blue',\n",
       " 'Blue',\n",
       " 'Blue')"
      ]
     },
     "execution_count": 1,
     "metadata": {},
     "output_type": "execute_result"
    }
   ],
   "source": [
    "bag = (\n",
    "    \"Red\",\n",
    "    \"Red\",\n",
    "    \"Red\",\n",
    "    \"Red\",\n",
    "    \"Red\",\n",
    "    \"Blue\",\n",
    "    \"Blue\",\n",
    "    \"Blue\",\n",
    "    \"Blue\",\n",
    "    \"Blue\",\n",
    "    \"Blue\",\n",
    "    \"Blue\",\n",
    ")\n",
    "bag"
   ]
  },
  {
   "cell_type": "markdown",
   "metadata": {},
   "source": [
    "```{attention}\n",
    "We are there using the circular brackets `()` and the quotation marks\n",
    "`\"`. Those are important and cannot be omitted. The choice of brackets `()` as\n",
    "opposed to `{}` or `[]` is in fact important as it instructs Python to do\n",
    "different things (we will learn about this later). You can use `\"` or `'`\n",
    "interchangeably.\n",
    "```\n",
    "\n",
    "Instead of writing every entry out we can create a Python **list** which allows\n",
    "for us to carry out some basic algebra on the items. Here we essentially:\n",
    "\n",
    "- Create a list with 5 `\"Red\"`s.\n",
    "- Create a list with 7 `\"Blue\"`s.\n",
    "- Combine both lists:"
   ]
  },
  {
   "cell_type": "code",
   "execution_count": 2,
   "metadata": {},
   "outputs": [
    {
     "data": {
      "text/plain": [
       "['Red',\n",
       " 'Red',\n",
       " 'Red',\n",
       " 'Red',\n",
       " 'Red',\n",
       " 'Blue',\n",
       " 'Blue',\n",
       " 'Blue',\n",
       " 'Blue',\n",
       " 'Blue',\n",
       " 'Blue',\n",
       " 'Blue']"
      ]
     },
     "execution_count": 2,
     "metadata": {},
     "output_type": "execute_result"
    }
   ],
   "source": [
    "bag = [\"Red\"] * 5 + [\"Blue\"] * 7\n",
    "bag"
   ]
  },
  {
   "cell_type": "markdown",
   "metadata": {},
   "source": [
    "Now to sample from that we use the `random` library which has a `choice`\n",
    "command:"
   ]
  },
  {
   "cell_type": "code",
   "execution_count": 3,
   "metadata": {
    "tags": [
     "nbval-ignore-output"
    ]
   },
   "outputs": [
    {
     "data": {
      "text/plain": [
       "'Red'"
      ]
     },
     "execution_count": 3,
     "metadata": {},
     "output_type": "execute_result"
    }
   ],
   "source": [
    "import random\n",
    "\n",
    "random.choice(bag)"
   ]
  },
  {
   "cell_type": "markdown",
   "metadata": {},
   "source": [
    "If we run this many times we will not always get the same outcome:"
   ]
  },
  {
   "cell_type": "code",
   "execution_count": 4,
   "metadata": {
    "tags": [
     "nbval-ignore-output"
    ]
   },
   "outputs": [
    {
     "data": {
      "text/plain": [
       "'Red'"
      ]
     },
     "execution_count": 4,
     "metadata": {},
     "output_type": "execute_result"
    }
   ],
   "source": [
    "random.choice(bag)"
   ]
  },
  {
   "cell_type": "markdown",
   "metadata": {},
   "source": [
    "```{attention}\n",
    "The `bag` variable is unchanged:\n",
    "```"
   ]
  },
  {
   "cell_type": "code",
   "execution_count": 5,
   "metadata": {},
   "outputs": [
    {
     "data": {
      "text/plain": [
       "['Red',\n",
       " 'Red',\n",
       " 'Red',\n",
       " 'Red',\n",
       " 'Red',\n",
       " 'Blue',\n",
       " 'Blue',\n",
       " 'Blue',\n",
       " 'Blue',\n",
       " 'Blue',\n",
       " 'Blue',\n",
       " 'Blue']"
      ]
     },
     "execution_count": 5,
     "metadata": {},
     "output_type": "execute_result"
    }
   ],
   "source": [
    "bag"
   ]
  },
  {
   "cell_type": "markdown",
   "metadata": {},
   "source": [
    "In order to answer the first question (what is the probability of picking a red\n",
    "token) we want to repeat this many times.\n",
    "\n",
    "We do this by defining a Python function (which is akin to a mathematical\n",
    "function) that allows us to repeat code:"
   ]
  },
  {
   "cell_type": "code",
   "execution_count": 6,
   "metadata": {},
   "outputs": [],
   "source": [
    "def pick_a_token(container):\n",
    "    \"\"\"\n",
    "    A function to randomly sample from a `container`.\n",
    "    \"\"\"\n",
    "    return random.choice(container)"
   ]
  },
  {
   "cell_type": "markdown",
   "metadata": {},
   "source": [
    "We can then call this function, passing our `bag` to it as the `container` from\n",
    "which to pick:"
   ]
  },
  {
   "cell_type": "code",
   "execution_count": 7,
   "metadata": {
    "tags": [
     "nbval-ignore-output"
    ]
   },
   "outputs": [
    {
     "data": {
      "text/plain": [
       "'Red'"
      ]
     },
     "execution_count": 7,
     "metadata": {},
     "output_type": "execute_result"
    }
   ],
   "source": [
    "pick_a_token(container=bag)"
   ]
  },
  {
   "cell_type": "code",
   "execution_count": 8,
   "metadata": {
    "tags": [
     "nbval-ignore-output"
    ]
   },
   "outputs": [
    {
     "data": {
      "text/plain": [
       "'Red'"
      ]
     },
     "execution_count": 8,
     "metadata": {},
     "output_type": "execute_result"
    }
   ],
   "source": [
    "pick_a_token(container=bag)"
   ]
  },
  {
   "cell_type": "markdown",
   "metadata": {},
   "source": [
    "In order to simulate the probability of picking a red token we need to repeat\n",
    "this not once or twice but tens of thousands of times. We will do this using\n",
    "something called a \"list comprehension\" which is akin to the mathematical\n",
    "notation we use all the time to create sets:\n",
    "\n",
    "$$\n",
    "    S_1 = \\{f(x)\\text{ for }x\\text{ in }S_2\\}\n",
    "$$"
   ]
  },
  {
   "cell_type": "code",
   "execution_count": 9,
   "metadata": {
    "tags": [
     "nbval-ignore-output"
    ]
   },
   "outputs": [
    {
     "data": {
      "text/plain": [
       "['Red',\n",
       " 'Red',\n",
       " 'Red',\n",
       " 'Red',\n",
       " 'Red',\n",
       " 'Red',\n",
       " 'Blue',\n",
       " 'Blue',\n",
       " 'Red',\n",
       " 'Red',\n",
       " 'Red',\n",
       " 'Blue',\n",
       " 'Red',\n",
       " 'Blue',\n",
       " 'Blue',\n",
       " 'Red',\n",
       " 'Blue',\n",
       " 'Blue',\n",
       " 'Blue',\n",
       " 'Red',\n",
       " 'Blue',\n",
       " 'Red',\n",
       " 'Red',\n",
       " 'Blue',\n",
       " 'Red',\n",
       " 'Red',\n",
       " 'Blue',\n",
       " 'Blue',\n",
       " 'Red',\n",
       " 'Blue',\n",
       " 'Blue',\n",
       " 'Red',\n",
       " 'Blue',\n",
       " 'Red',\n",
       " 'Blue',\n",
       " 'Red',\n",
       " 'Red',\n",
       " 'Red',\n",
       " 'Blue',\n",
       " 'Blue',\n",
       " 'Red',\n",
       " 'Blue',\n",
       " 'Blue',\n",
       " 'Blue',\n",
       " 'Blue',\n",
       " 'Red',\n",
       " 'Blue',\n",
       " 'Red',\n",
       " 'Blue',\n",
       " 'Blue',\n",
       " 'Blue',\n",
       " 'Blue',\n",
       " 'Blue',\n",
       " 'Red',\n",
       " 'Blue',\n",
       " 'Blue',\n",
       " 'Blue',\n",
       " 'Blue',\n",
       " 'Red',\n",
       " 'Blue',\n",
       " 'Red',\n",
       " 'Red',\n",
       " 'Blue',\n",
       " 'Red',\n",
       " 'Red',\n",
       " 'Blue',\n",
       " 'Blue',\n",
       " 'Blue',\n",
       " 'Blue',\n",
       " 'Blue',\n",
       " 'Blue',\n",
       " 'Blue',\n",
       " 'Blue',\n",
       " 'Blue',\n",
       " 'Red',\n",
       " 'Blue',\n",
       " 'Blue',\n",
       " 'Blue',\n",
       " 'Blue',\n",
       " 'Blue',\n",
       " 'Blue',\n",
       " 'Blue',\n",
       " 'Red',\n",
       " 'Blue',\n",
       " 'Blue',\n",
       " 'Red',\n",
       " 'Blue',\n",
       " 'Red',\n",
       " 'Red',\n",
       " 'Blue',\n",
       " 'Blue',\n",
       " 'Red',\n",
       " 'Red',\n",
       " 'Blue',\n",
       " 'Blue',\n",
       " 'Blue',\n",
       " 'Blue',\n",
       " 'Blue',\n",
       " 'Blue',\n",
       " 'Blue',\n",
       " 'Red',\n",
       " 'Red',\n",
       " 'Red',\n",
       " 'Red',\n",
       " 'Red',\n",
       " 'Blue',\n",
       " 'Red',\n",
       " 'Red',\n",
       " 'Blue',\n",
       " 'Blue',\n",
       " 'Blue',\n",
       " 'Red',\n",
       " 'Blue',\n",
       " 'Red',\n",
       " 'Blue',\n",
       " 'Blue',\n",
       " 'Red',\n",
       " 'Blue',\n",
       " 'Blue',\n",
       " 'Blue',\n",
       " 'Red',\n",
       " 'Blue',\n",
       " 'Blue',\n",
       " 'Blue',\n",
       " 'Blue',\n",
       " 'Red',\n",
       " 'Blue',\n",
       " 'Blue',\n",
       " 'Red',\n",
       " 'Red',\n",
       " 'Red',\n",
       " 'Red',\n",
       " 'Blue',\n",
       " 'Blue',\n",
       " 'Blue',\n",
       " 'Red',\n",
       " 'Blue',\n",
       " 'Blue',\n",
       " 'Blue',\n",
       " 'Blue',\n",
       " 'Blue',\n",
       " 'Red',\n",
       " 'Red',\n",
       " 'Blue',\n",
       " 'Red',\n",
       " 'Blue',\n",
       " 'Blue',\n",
       " 'Red',\n",
       " 'Red',\n",
       " 'Red',\n",
       " 'Red',\n",
       " 'Blue',\n",
       " 'Blue',\n",
       " 'Blue',\n",
       " 'Red',\n",
       " 'Blue',\n",
       " 'Blue',\n",
       " 'Blue',\n",
       " 'Blue',\n",
       " 'Blue',\n",
       " 'Red',\n",
       " 'Blue',\n",
       " 'Red',\n",
       " 'Red',\n",
       " 'Blue',\n",
       " 'Red',\n",
       " 'Red',\n",
       " 'Blue',\n",
       " 'Blue',\n",
       " 'Red',\n",
       " 'Red',\n",
       " 'Red',\n",
       " 'Blue',\n",
       " 'Red',\n",
       " 'Blue',\n",
       " 'Red',\n",
       " 'Red',\n",
       " 'Blue',\n",
       " 'Blue',\n",
       " 'Red',\n",
       " 'Blue',\n",
       " 'Blue',\n",
       " 'Red',\n",
       " 'Red',\n",
       " 'Red',\n",
       " 'Red',\n",
       " 'Red',\n",
       " 'Red',\n",
       " 'Red',\n",
       " 'Red',\n",
       " 'Blue',\n",
       " 'Red',\n",
       " 'Red',\n",
       " 'Red',\n",
       " 'Blue',\n",
       " 'Blue',\n",
       " 'Blue',\n",
       " 'Blue',\n",
       " 'Blue',\n",
       " 'Red',\n",
       " 'Red',\n",
       " 'Blue',\n",
       " 'Red',\n",
       " 'Red',\n",
       " 'Red',\n",
       " 'Blue',\n",
       " 'Red',\n",
       " 'Blue',\n",
       " 'Blue',\n",
       " 'Blue',\n",
       " 'Red',\n",
       " 'Blue',\n",
       " 'Blue',\n",
       " 'Blue',\n",
       " 'Red',\n",
       " 'Red',\n",
       " 'Red',\n",
       " 'Blue',\n",
       " 'Red',\n",
       " 'Blue',\n",
       " 'Red',\n",
       " 'Red',\n",
       " 'Red',\n",
       " 'Red',\n",
       " 'Blue',\n",
       " 'Blue',\n",
       " 'Red',\n",
       " 'Blue',\n",
       " 'Red',\n",
       " 'Blue',\n",
       " 'Blue',\n",
       " 'Red',\n",
       " 'Blue',\n",
       " 'Blue',\n",
       " 'Blue',\n",
       " 'Blue',\n",
       " 'Blue',\n",
       " 'Blue',\n",
       " 'Blue',\n",
       " 'Red',\n",
       " 'Blue',\n",
       " 'Blue',\n",
       " 'Blue',\n",
       " 'Blue',\n",
       " 'Blue',\n",
       " 'Blue',\n",
       " 'Blue',\n",
       " 'Blue',\n",
       " 'Red',\n",
       " 'Blue',\n",
       " 'Blue',\n",
       " 'Red',\n",
       " 'Red',\n",
       " 'Red',\n",
       " 'Blue',\n",
       " 'Blue',\n",
       " 'Blue',\n",
       " 'Blue',\n",
       " 'Red',\n",
       " 'Blue',\n",
       " 'Blue',\n",
       " 'Blue',\n",
       " 'Blue',\n",
       " 'Blue',\n",
       " 'Blue',\n",
       " 'Red',\n",
       " 'Red',\n",
       " 'Blue',\n",
       " 'Red',\n",
       " 'Red',\n",
       " 'Red',\n",
       " 'Blue',\n",
       " 'Red',\n",
       " 'Red',\n",
       " 'Blue',\n",
       " 'Blue',\n",
       " 'Red',\n",
       " 'Blue',\n",
       " 'Red',\n",
       " 'Red',\n",
       " 'Blue',\n",
       " 'Red',\n",
       " 'Blue',\n",
       " 'Red',\n",
       " 'Red',\n",
       " 'Blue',\n",
       " 'Red',\n",
       " 'Blue',\n",
       " 'Blue',\n",
       " 'Blue',\n",
       " 'Blue',\n",
       " 'Blue',\n",
       " 'Red',\n",
       " 'Red',\n",
       " 'Blue',\n",
       " 'Red',\n",
       " 'Red',\n",
       " 'Red',\n",
       " 'Red',\n",
       " 'Red',\n",
       " 'Blue',\n",
       " 'Red',\n",
       " 'Red',\n",
       " 'Blue',\n",
       " 'Red',\n",
       " 'Blue',\n",
       " 'Blue',\n",
       " 'Blue',\n",
       " 'Red',\n",
       " 'Red',\n",
       " 'Blue',\n",
       " 'Blue',\n",
       " 'Blue',\n",
       " 'Blue',\n",
       " 'Blue',\n",
       " 'Red',\n",
       " 'Red',\n",
       " 'Blue',\n",
       " 'Blue',\n",
       " 'Blue',\n",
       " 'Red',\n",
       " 'Red',\n",
       " 'Blue',\n",
       " 'Blue',\n",
       " 'Red',\n",
       " 'Blue',\n",
       " 'Blue',\n",
       " 'Red',\n",
       " 'Blue',\n",
       " 'Blue',\n",
       " 'Red',\n",
       " 'Red',\n",
       " 'Blue',\n",
       " 'Red',\n",
       " 'Blue',\n",
       " 'Blue',\n",
       " 'Red',\n",
       " 'Blue',\n",
       " 'Blue',\n",
       " 'Blue',\n",
       " 'Blue',\n",
       " 'Blue',\n",
       " 'Blue',\n",
       " 'Blue',\n",
       " 'Red',\n",
       " 'Red',\n",
       " 'Blue',\n",
       " 'Red',\n",
       " 'Blue',\n",
       " 'Blue',\n",
       " 'Red',\n",
       " 'Red',\n",
       " 'Blue',\n",
       " 'Red',\n",
       " 'Red',\n",
       " 'Red',\n",
       " 'Red',\n",
       " 'Blue',\n",
       " 'Blue',\n",
       " 'Blue',\n",
       " 'Blue',\n",
       " 'Red',\n",
       " 'Red',\n",
       " 'Blue',\n",
       " 'Blue',\n",
       " 'Blue',\n",
       " 'Red',\n",
       " 'Blue',\n",
       " 'Blue',\n",
       " 'Blue',\n",
       " 'Blue',\n",
       " 'Red',\n",
       " 'Blue',\n",
       " 'Blue',\n",
       " 'Blue',\n",
       " 'Blue',\n",
       " 'Blue',\n",
       " 'Red',\n",
       " 'Red',\n",
       " 'Red',\n",
       " 'Blue',\n",
       " 'Blue',\n",
       " 'Blue',\n",
       " 'Blue',\n",
       " 'Red',\n",
       " 'Red',\n",
       " 'Blue',\n",
       " 'Red',\n",
       " 'Red',\n",
       " 'Red',\n",
       " 'Blue',\n",
       " 'Red',\n",
       " 'Red',\n",
       " 'Red',\n",
       " 'Blue',\n",
       " 'Blue',\n",
       " 'Blue',\n",
       " 'Red',\n",
       " 'Red',\n",
       " 'Blue',\n",
       " 'Blue',\n",
       " 'Blue',\n",
       " 'Red',\n",
       " 'Red',\n",
       " 'Blue',\n",
       " 'Blue',\n",
       " 'Red',\n",
       " 'Red',\n",
       " 'Blue',\n",
       " 'Blue',\n",
       " 'Blue',\n",
       " 'Blue',\n",
       " 'Red',\n",
       " 'Red',\n",
       " 'Red',\n",
       " 'Blue',\n",
       " 'Blue',\n",
       " 'Blue',\n",
       " 'Blue',\n",
       " 'Blue',\n",
       " 'Blue',\n",
       " 'Blue',\n",
       " 'Red',\n",
       " 'Red',\n",
       " 'Red',\n",
       " 'Blue',\n",
       " 'Blue',\n",
       " 'Red',\n",
       " 'Red',\n",
       " 'Blue',\n",
       " 'Red',\n",
       " 'Blue',\n",
       " 'Red',\n",
       " 'Blue',\n",
       " 'Blue',\n",
       " 'Blue',\n",
       " 'Red',\n",
       " 'Blue',\n",
       " 'Blue',\n",
       " 'Blue',\n",
       " 'Red',\n",
       " 'Red',\n",
       " 'Blue',\n",
       " 'Red',\n",
       " 'Blue',\n",
       " 'Red',\n",
       " 'Red',\n",
       " 'Red',\n",
       " 'Blue',\n",
       " 'Blue',\n",
       " 'Red',\n",
       " 'Blue',\n",
       " 'Red',\n",
       " 'Blue',\n",
       " 'Blue',\n",
       " 'Blue',\n",
       " 'Red',\n",
       " 'Blue',\n",
       " 'Red',\n",
       " 'Red',\n",
       " 'Blue',\n",
       " 'Red',\n",
       " 'Red',\n",
       " 'Blue',\n",
       " 'Blue',\n",
       " 'Blue',\n",
       " 'Red',\n",
       " 'Red',\n",
       " 'Red',\n",
       " 'Blue',\n",
       " 'Blue',\n",
       " 'Blue',\n",
       " 'Blue',\n",
       " 'Red',\n",
       " 'Red',\n",
       " 'Blue',\n",
       " 'Blue',\n",
       " 'Red',\n",
       " 'Red',\n",
       " 'Red',\n",
       " 'Blue',\n",
       " 'Red',\n",
       " 'Blue',\n",
       " 'Blue',\n",
       " 'Red',\n",
       " 'Red',\n",
       " 'Red',\n",
       " 'Blue',\n",
       " 'Red',\n",
       " 'Blue',\n",
       " 'Red',\n",
       " 'Blue',\n",
       " 'Blue',\n",
       " 'Blue',\n",
       " 'Red',\n",
       " 'Blue',\n",
       " 'Red',\n",
       " 'Red',\n",
       " 'Red',\n",
       " 'Red',\n",
       " 'Blue',\n",
       " 'Blue',\n",
       " 'Blue',\n",
       " 'Blue',\n",
       " 'Blue',\n",
       " 'Blue',\n",
       " 'Blue',\n",
       " 'Red',\n",
       " 'Blue',\n",
       " 'Red',\n",
       " 'Red',\n",
       " 'Blue',\n",
       " 'Blue',\n",
       " 'Blue',\n",
       " 'Blue',\n",
       " 'Blue',\n",
       " 'Blue',\n",
       " 'Blue',\n",
       " 'Blue',\n",
       " 'Blue',\n",
       " 'Red',\n",
       " 'Blue',\n",
       " 'Red',\n",
       " 'Blue',\n",
       " 'Blue',\n",
       " 'Blue',\n",
       " 'Blue',\n",
       " 'Red',\n",
       " 'Blue',\n",
       " 'Red',\n",
       " 'Blue',\n",
       " 'Blue',\n",
       " 'Blue',\n",
       " 'Blue',\n",
       " 'Blue',\n",
       " 'Blue',\n",
       " 'Blue',\n",
       " 'Blue',\n",
       " 'Red',\n",
       " 'Red',\n",
       " 'Red',\n",
       " 'Blue',\n",
       " 'Red',\n",
       " 'Red',\n",
       " 'Blue',\n",
       " 'Blue',\n",
       " 'Red',\n",
       " 'Blue',\n",
       " 'Blue',\n",
       " 'Red',\n",
       " 'Red',\n",
       " 'Blue',\n",
       " 'Blue',\n",
       " 'Blue',\n",
       " 'Blue',\n",
       " 'Blue',\n",
       " 'Blue',\n",
       " 'Red',\n",
       " 'Red',\n",
       " 'Blue',\n",
       " 'Red',\n",
       " 'Blue',\n",
       " 'Blue',\n",
       " 'Blue',\n",
       " 'Blue',\n",
       " 'Red',\n",
       " 'Blue',\n",
       " 'Blue',\n",
       " 'Red',\n",
       " 'Red',\n",
       " 'Blue',\n",
       " 'Blue',\n",
       " 'Blue',\n",
       " 'Blue',\n",
       " 'Red',\n",
       " 'Blue',\n",
       " 'Blue',\n",
       " 'Blue',\n",
       " 'Blue',\n",
       " 'Red',\n",
       " 'Blue',\n",
       " 'Blue',\n",
       " 'Blue',\n",
       " 'Blue',\n",
       " 'Blue',\n",
       " 'Blue',\n",
       " 'Blue',\n",
       " 'Red',\n",
       " 'Red',\n",
       " 'Blue',\n",
       " 'Blue',\n",
       " 'Blue',\n",
       " 'Red',\n",
       " 'Red',\n",
       " 'Blue',\n",
       " 'Blue',\n",
       " 'Blue',\n",
       " 'Blue',\n",
       " 'Blue',\n",
       " 'Blue',\n",
       " 'Blue',\n",
       " 'Red',\n",
       " 'Red',\n",
       " 'Blue',\n",
       " 'Blue',\n",
       " 'Blue',\n",
       " 'Blue',\n",
       " 'Red',\n",
       " 'Blue',\n",
       " 'Red',\n",
       " 'Blue',\n",
       " 'Blue',\n",
       " 'Red',\n",
       " 'Blue',\n",
       " 'Red',\n",
       " 'Blue',\n",
       " 'Red',\n",
       " 'Blue',\n",
       " 'Blue',\n",
       " 'Red',\n",
       " 'Blue',\n",
       " 'Red',\n",
       " 'Red',\n",
       " 'Blue',\n",
       " 'Red',\n",
       " 'Blue',\n",
       " 'Blue',\n",
       " 'Blue',\n",
       " 'Blue',\n",
       " 'Red',\n",
       " 'Blue',\n",
       " 'Red',\n",
       " 'Blue',\n",
       " 'Red',\n",
       " 'Blue',\n",
       " 'Red',\n",
       " 'Blue',\n",
       " 'Red',\n",
       " 'Blue',\n",
       " 'Red',\n",
       " 'Red',\n",
       " 'Blue',\n",
       " 'Red',\n",
       " 'Red',\n",
       " 'Blue',\n",
       " 'Red',\n",
       " 'Red',\n",
       " 'Red',\n",
       " 'Blue',\n",
       " 'Red',\n",
       " 'Blue',\n",
       " 'Blue',\n",
       " 'Blue',\n",
       " 'Blue',\n",
       " 'Blue',\n",
       " 'Red',\n",
       " 'Blue',\n",
       " 'Blue',\n",
       " 'Blue',\n",
       " 'Blue',\n",
       " 'Red',\n",
       " 'Red',\n",
       " 'Red',\n",
       " 'Red',\n",
       " 'Red',\n",
       " 'Red',\n",
       " 'Blue',\n",
       " 'Red',\n",
       " 'Blue',\n",
       " 'Blue',\n",
       " 'Blue',\n",
       " 'Blue',\n",
       " 'Red',\n",
       " 'Red',\n",
       " 'Blue',\n",
       " 'Blue',\n",
       " 'Blue',\n",
       " 'Blue',\n",
       " 'Red',\n",
       " 'Blue',\n",
       " 'Blue',\n",
       " 'Blue',\n",
       " 'Blue',\n",
       " 'Red',\n",
       " 'Blue',\n",
       " 'Red',\n",
       " 'Red',\n",
       " 'Blue',\n",
       " 'Blue',\n",
       " 'Red',\n",
       " 'Blue',\n",
       " 'Blue',\n",
       " 'Blue',\n",
       " 'Blue',\n",
       " 'Blue',\n",
       " 'Red',\n",
       " 'Red',\n",
       " 'Red',\n",
       " 'Blue',\n",
       " 'Blue',\n",
       " 'Red',\n",
       " 'Blue',\n",
       " 'Red',\n",
       " 'Red',\n",
       " 'Blue',\n",
       " 'Red',\n",
       " 'Red',\n",
       " 'Blue',\n",
       " 'Blue',\n",
       " 'Blue',\n",
       " 'Blue',\n",
       " 'Blue',\n",
       " 'Red',\n",
       " 'Blue',\n",
       " 'Red',\n",
       " 'Red',\n",
       " 'Blue',\n",
       " 'Blue',\n",
       " 'Red',\n",
       " 'Red',\n",
       " 'Red',\n",
       " 'Red',\n",
       " 'Blue',\n",
       " 'Red',\n",
       " 'Red',\n",
       " 'Red',\n",
       " 'Blue',\n",
       " 'Blue',\n",
       " 'Red',\n",
       " 'Blue',\n",
       " 'Blue',\n",
       " 'Red',\n",
       " 'Blue',\n",
       " 'Blue',\n",
       " 'Red',\n",
       " 'Red',\n",
       " 'Red',\n",
       " 'Blue',\n",
       " 'Blue',\n",
       " 'Red',\n",
       " 'Red',\n",
       " 'Red',\n",
       " 'Blue',\n",
       " 'Blue',\n",
       " 'Red',\n",
       " 'Blue',\n",
       " 'Blue',\n",
       " 'Blue',\n",
       " 'Blue',\n",
       " 'Blue',\n",
       " 'Red',\n",
       " 'Blue',\n",
       " 'Blue',\n",
       " 'Blue',\n",
       " 'Blue',\n",
       " 'Blue',\n",
       " 'Blue',\n",
       " 'Red',\n",
       " 'Blue',\n",
       " 'Red',\n",
       " 'Red',\n",
       " 'Blue',\n",
       " 'Blue',\n",
       " 'Blue',\n",
       " 'Blue',\n",
       " 'Blue',\n",
       " 'Red',\n",
       " 'Red',\n",
       " 'Red',\n",
       " 'Red',\n",
       " 'Red',\n",
       " 'Red',\n",
       " 'Blue',\n",
       " 'Blue',\n",
       " 'Blue',\n",
       " 'Blue',\n",
       " 'Blue',\n",
       " 'Red',\n",
       " 'Blue',\n",
       " 'Red',\n",
       " 'Blue',\n",
       " 'Blue',\n",
       " 'Red',\n",
       " 'Blue',\n",
       " 'Blue',\n",
       " 'Red',\n",
       " 'Blue',\n",
       " 'Red',\n",
       " 'Red',\n",
       " 'Red',\n",
       " 'Red',\n",
       " 'Blue',\n",
       " 'Blue',\n",
       " 'Red',\n",
       " 'Red',\n",
       " 'Blue',\n",
       " 'Red',\n",
       " 'Blue',\n",
       " 'Red',\n",
       " 'Red',\n",
       " 'Blue',\n",
       " 'Blue',\n",
       " 'Blue',\n",
       " 'Blue',\n",
       " 'Blue',\n",
       " 'Blue',\n",
       " 'Red',\n",
       " 'Red',\n",
       " 'Red',\n",
       " 'Blue',\n",
       " 'Red',\n",
       " 'Blue',\n",
       " 'Red',\n",
       " 'Red',\n",
       " 'Blue',\n",
       " 'Red',\n",
       " 'Red',\n",
       " 'Blue',\n",
       " 'Blue',\n",
       " 'Red',\n",
       " 'Red',\n",
       " 'Red',\n",
       " 'Blue',\n",
       " 'Blue',\n",
       " 'Red',\n",
       " 'Blue',\n",
       " 'Red',\n",
       " 'Red',\n",
       " 'Blue',\n",
       " 'Blue',\n",
       " 'Blue',\n",
       " 'Red',\n",
       " 'Blue',\n",
       " 'Blue',\n",
       " 'Blue',\n",
       " 'Red',\n",
       " 'Blue',\n",
       " 'Blue',\n",
       " 'Blue',\n",
       " 'Red',\n",
       " 'Blue',\n",
       " 'Red',\n",
       " 'Red',\n",
       " 'Red',\n",
       " 'Red',\n",
       " 'Blue',\n",
       " 'Blue',\n",
       " 'Blue',\n",
       " 'Blue',\n",
       " 'Red',\n",
       " 'Blue',\n",
       " 'Blue',\n",
       " 'Blue',\n",
       " 'Blue',\n",
       " 'Blue',\n",
       " 'Red',\n",
       " 'Blue',\n",
       " 'Red',\n",
       " 'Blue',\n",
       " 'Blue',\n",
       " 'Blue',\n",
       " 'Red',\n",
       " 'Red',\n",
       " 'Blue',\n",
       " 'Blue',\n",
       " 'Blue',\n",
       " 'Blue',\n",
       " 'Red',\n",
       " 'Blue',\n",
       " 'Red',\n",
       " 'Blue',\n",
       " 'Red',\n",
       " 'Red',\n",
       " 'Red',\n",
       " 'Blue',\n",
       " 'Blue',\n",
       " 'Blue',\n",
       " 'Blue',\n",
       " 'Red',\n",
       " 'Blue',\n",
       " 'Red',\n",
       " 'Blue',\n",
       " 'Blue',\n",
       " 'Red',\n",
       " 'Red',\n",
       " 'Red',\n",
       " 'Blue',\n",
       " 'Blue',\n",
       " 'Blue',\n",
       " 'Red',\n",
       " 'Blue',\n",
       " 'Blue',\n",
       " 'Blue',\n",
       " 'Blue',\n",
       " 'Red',\n",
       " 'Blue',\n",
       " 'Red',\n",
       " 'Red',\n",
       " 'Blue',\n",
       " 'Red',\n",
       " 'Blue',\n",
       " 'Blue',\n",
       " 'Red',\n",
       " 'Red',\n",
       " 'Red',\n",
       " 'Blue',\n",
       " 'Blue',\n",
       " 'Blue',\n",
       " 'Blue',\n",
       " 'Red',\n",
       " 'Blue',\n",
       " 'Blue',\n",
       " 'Red',\n",
       " 'Blue',\n",
       " 'Red',\n",
       " 'Red',\n",
       " 'Red',\n",
       " 'Red',\n",
       " 'Blue',\n",
       " 'Red',\n",
       " 'Red',\n",
       " 'Blue',\n",
       " 'Blue',\n",
       " 'Red',\n",
       " 'Red',\n",
       " 'Blue',\n",
       " 'Red',\n",
       " 'Red',\n",
       " 'Blue',\n",
       " 'Blue',\n",
       " 'Blue',\n",
       " 'Red',\n",
       " 'Blue',\n",
       " 'Red',\n",
       " 'Blue',\n",
       " 'Red',\n",
       " 'Blue',\n",
       " 'Blue',\n",
       " 'Blue',\n",
       " 'Red',\n",
       " 'Blue',\n",
       " 'Blue',\n",
       " 'Blue',\n",
       " 'Red',\n",
       " 'Red',\n",
       " 'Red',\n",
       " 'Blue',\n",
       " 'Blue',\n",
       " 'Red',\n",
       " 'Blue',\n",
       " 'Blue',\n",
       " 'Blue',\n",
       " 'Blue',\n",
       " 'Blue',\n",
       " 'Blue',\n",
       " 'Blue',\n",
       " 'Blue',\n",
       " 'Blue',\n",
       " 'Red',\n",
       " 'Blue',\n",
       " 'Blue',\n",
       " 'Blue',\n",
       " 'Blue',\n",
       " 'Blue',\n",
       " 'Blue',\n",
       " 'Blue',\n",
       " 'Blue',\n",
       " 'Blue',\n",
       " 'Blue',\n",
       " 'Red',\n",
       " 'Blue',\n",
       " 'Blue',\n",
       " 'Blue',\n",
       " 'Blue',\n",
       " 'Blue',\n",
       " 'Red',\n",
       " 'Blue',\n",
       " 'Red',\n",
       " 'Red',\n",
       " 'Blue',\n",
       " 'Red',\n",
       " 'Red',\n",
       " 'Blue',\n",
       " 'Red',\n",
       " 'Red',\n",
       " 'Red',\n",
       " 'Red',\n",
       " 'Blue',\n",
       " 'Blue',\n",
       " 'Blue',\n",
       " 'Blue',\n",
       " 'Blue',\n",
       " 'Blue',\n",
       " 'Blue',\n",
       " 'Red',\n",
       " 'Red',\n",
       " 'Blue',\n",
       " 'Blue',\n",
       " 'Red',\n",
       " 'Blue',\n",
       " ...]"
      ]
     },
     "execution_count": 9,
     "metadata": {},
     "output_type": "execute_result"
    }
   ],
   "source": [
    "number_of_repetitions = 10000\n",
    "samples = [pick_a_token(container=bag) for repetition in range(number_of_repetitions)]\n",
    "samples"
   ]
  },
  {
   "cell_type": "markdown",
   "metadata": {},
   "source": [
    "We can confirm that we have the correct number of samples:"
   ]
  },
  {
   "cell_type": "code",
   "execution_count": 10,
   "metadata": {},
   "outputs": [
    {
     "data": {
      "text/plain": [
       "10000"
      ]
     },
     "execution_count": 10,
     "metadata": {},
     "output_type": "execute_result"
    }
   ],
   "source": [
    "len(samples)"
   ]
  },
  {
   "cell_type": "markdown",
   "metadata": {},
   "source": [
    "`len` is the Python tool to get the length of a given Python iterable."
   ]
  },
  {
   "cell_type": "markdown",
   "metadata": {},
   "source": [
    "Using this we can now use `==` (double `=`) to check how many of those samples are `Red`:"
   ]
  },
  {
   "cell_type": "code",
   "execution_count": 11,
   "metadata": {
    "tags": [
     "nbval-ignore-output"
    ]
   },
   "outputs": [
    {
     "data": {
      "text/plain": [
       "0.4179"
      ]
     },
     "execution_count": 11,
     "metadata": {},
     "output_type": "execute_result"
    }
   ],
   "source": [
    "sum(token == \"Red\" for token in samples) / number_of_repetitions"
   ]
  },
  {
   "cell_type": "markdown",
   "metadata": {},
   "source": [
    "We have sampled  probability of around .41. The theoretic value is $\\frac{5}{5 +\n",
    "7}$:"
   ]
  },
  {
   "cell_type": "code",
   "execution_count": 12,
   "metadata": {
    "tags": [
     "nbval-ignore-output"
    ]
   },
   "outputs": [
    {
     "data": {
      "text/plain": [
       "0.4166666666666667"
      ]
     },
     "execution_count": 12,
     "metadata": {},
     "output_type": "execute_result"
    }
   ],
   "source": [
    "5 / (5 + 7)"
   ]
  },
  {
   "cell_type": "markdown",
   "metadata": {},
   "source": [
    "To answer the second question (What is the probability of obtaining Heads?) we\n",
    "need to make use of another Python tool: an `if` statement. This will allow us\n",
    "to write a function that does precisely what is described in the problem:\n",
    "\n",
    "- Choose a token;\n",
    "- Set the probability of flipping a given coin;\n",
    "- Select that coin.\n",
    "\n",
    "```{attention}\n",
    "For the second random selection (flipping a coin) we will not choose from a list\n",
    "but instead select a random number between 0 and 1.\n",
    "```"
   ]
  },
  {
   "cell_type": "code",
   "execution_count": 13,
   "metadata": {},
   "outputs": [],
   "source": [
    "import random\n",
    "\n",
    "\n",
    "def sample_experiment(bag):\n",
    "    \"\"\"\n",
    "    This samples a token from a given bag and then\n",
    "    selects a coin with a given probability.\n",
    "\n",
    "    If the sampled token is red then the probability\n",
    "    of selecting heads is 2/3 otherwise it is 1/2.\n",
    "\n",
    "    This function returns both the selected token\n",
    "    and the coin face.\n",
    "    \"\"\"\n",
    "    selected_token = pick_a_token(container=bag)\n",
    "\n",
    "    if selected_token == \"Red\":\n",
    "        probability_of_selecting_heads = 2 / 3\n",
    "    else:\n",
    "        probability_of_selecting_heads = 1 / 2\n",
    "\n",
    "    if random.random() < probability_of_selecting_heads:\n",
    "        coin = \"Heads\"\n",
    "    else:\n",
    "        coin = \"Tails\"\n",
    "    return selected_token, coin"
   ]
  },
  {
   "cell_type": "markdown",
   "metadata": {},
   "source": [
    "Using this we can sample according to the problem description:"
   ]
  },
  {
   "cell_type": "code",
   "execution_count": 14,
   "metadata": {
    "tags": [
     "nbval-ignore-output"
    ]
   },
   "outputs": [
    {
     "data": {
      "text/plain": [
       "('Blue', 'Heads')"
      ]
     },
     "execution_count": 14,
     "metadata": {},
     "output_type": "execute_result"
    }
   ],
   "source": [
    "sample_experiment(bag=bag)"
   ]
  },
  {
   "cell_type": "code",
   "execution_count": 15,
   "metadata": {
    "tags": [
     "nbval-ignore-output"
    ]
   },
   "outputs": [
    {
     "data": {
      "text/plain": [
       "('Red', 'Heads')"
      ]
     },
     "execution_count": 15,
     "metadata": {},
     "output_type": "execute_result"
    }
   ],
   "source": [
    "sample_experiment(bag=bag)"
   ]
  },
  {
   "cell_type": "markdown",
   "metadata": {},
   "source": [
    "We can now find out the probability of selecting heads by carrying out a large\n",
    "number of repetitions and checking which ones have a coin that is heads:"
   ]
  },
  {
   "cell_type": "code",
   "execution_count": 16,
   "metadata": {
    "tags": [
     "nbval-ignore-output"
    ]
   },
   "outputs": [
    {
     "data": {
      "text/plain": [
       "0.5637"
      ]
     },
     "execution_count": 16,
     "metadata": {},
     "output_type": "execute_result"
    }
   ],
   "source": [
    "samples = [sample_experiment(bag=bag) for repetition in range(number_of_repetitions)]\n",
    "sum(coin == \"Heads\" for token, coin in samples) / number_of_repetitions"
   ]
  },
  {
   "cell_type": "markdown",
   "metadata": {},
   "source": [
    "We can compute this theoretically as well, the expected probability is:"
   ]
  },
  {
   "cell_type": "code",
   "execution_count": 17,
   "metadata": {},
   "outputs": [
    {
     "data": {
      "text/latex": [
       "$\\displaystyle \\frac{41}{72}$"
      ],
      "text/plain": [
       "41/72"
      ]
     },
     "execution_count": 17,
     "metadata": {},
     "output_type": "execute_result"
    }
   ],
   "source": [
    "import sympy as sym\n",
    "\n",
    "sym.S(5) / (12) * sym.S(2) / 3 + sym.S(7) / (12) * sym.S(1) / 2"
   ]
  },
  {
   "cell_type": "code",
   "execution_count": 18,
   "metadata": {
    "tags": [
     "nbval-ignore-output"
    ]
   },
   "outputs": [
    {
     "data": {
      "text/plain": [
       "0.5694444444444444"
      ]
     },
     "execution_count": 18,
     "metadata": {},
     "output_type": "execute_result"
    }
   ],
   "source": [
    "41 / 72"
   ]
  },
  {
   "cell_type": "markdown",
   "metadata": {},
   "source": [
    "We can also use our samples to calculate the conditional probability that a\n",
    "token was read if the coin is heads. This is done again using the list\n",
    "comprehension notation but including an `if` statement which allows us to\n",
    "emulate the mathematical notation:\n",
    "\n",
    "$$\n",
    "    S_3 = \\{x \\in S_1  | \\text{ if some property of \\(x\\) holds}\\}\n",
    "$$"
   ]
  },
  {
   "cell_type": "code",
   "execution_count": 19,
   "metadata": {
    "tags": [
     "nbval-ignore-output"
    ]
   },
   "outputs": [
    {
     "data": {
      "text/plain": [
       "0.4851871562888061"
      ]
     },
     "execution_count": 19,
     "metadata": {},
     "output_type": "execute_result"
    }
   ],
   "source": [
    "samples_with_heads = [(token, coin) for token, coin in samples if coin == \"Heads\"]\n",
    "sum(token == \"Red\" for token, coin in samples_with_heads) / len(samples_with_heads)"
   ]
  },
  {
   "cell_type": "markdown",
   "metadata": {},
   "source": [
    "Using Bayes' theorem this is given theoretically by:\n",
    "\n",
    "$$\n",
    "    P(\\text{Red}|\\text{Heads}) = \\frac{P(\\text{Heads} | \\text{Red})P(\\text{Red})}{P(\\text{Heads})}\n",
    "$$"
   ]
  },
  {
   "cell_type": "code",
   "execution_count": 20,
   "metadata": {},
   "outputs": [
    {
     "data": {
      "text/latex": [
       "$\\displaystyle \\frac{20}{41}$"
      ],
      "text/plain": [
       "20/41"
      ]
     },
     "execution_count": 20,
     "metadata": {},
     "output_type": "execute_result"
    }
   ],
   "source": [
    "(sym.S(2) / 3 * sym.S(5) / 12) / (sym.S(41) / 72)"
   ]
  },
  {
   "cell_type": "code",
   "execution_count": 21,
   "metadata": {
    "tags": [
     "nbval-ignore-output"
    ]
   },
   "outputs": [
    {
     "data": {
      "text/plain": [
       "0.4878048780487805"
      ]
     },
     "execution_count": 21,
     "metadata": {},
     "output_type": "execute_result"
    }
   ],
   "source": [
    "20 / 41"
   ]
  }
 ],
 "metadata": {
  "jupytext": {
   "formats": "ipynb,md:myst"
  },
  "kernelspec": {
   "display_name": "Python 3",
   "language": "python",
   "name": "python3"
  },
  "language_info": {
   "codemirror_mode": {
    "name": "ipython",
    "version": 3
   },
   "file_extension": ".py",
   "mimetype": "text/x-python",
   "name": "python",
   "nbconvert_exporter": "python",
   "pygments_lexer": "ipython3",
   "version": "3.8.3"
  }
 },
 "nbformat": 4,
 "nbformat_minor": 4
}
