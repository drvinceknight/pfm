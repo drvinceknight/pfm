{
 "cells": [
  {
   "cell_type": "markdown",
   "metadata": {},
   "source": [
    "# Exercises\n",
    "\n",
    "**After** completing the tutorial attempt the following exercises.\n",
    "\n",
    "**If you are not sure how to do something, have a look at the \"How To\" section.**\n",
    "\n",
    "1. Simulate the probability of an event occurring with the following chances:\n",
    "    1. $\\frac{2}{7}$\n",
    "    2. $\\frac{1}{10}$\n",
    "    3.  $\\frac{1}{100}$\n",
    "    4.  $1$\n",
    "2. Simulate the probability of selecting a red token from each of the following configurations:\n",
    "    1. A bag with 4 red tokens and 4 green tokens.\n",
    "    2. A bag with 4 red tokens, 4 green tokens and 10 yellow tokens.\n",
    "    3. A bag with 0 red tokens, 4 green tokens and 10 yellow tokens.\n",
    "3. An experiment consists of selecting a token from a bag and spinning a coin. The bag contains 3 red tokens and 4 blue tokens. A token is selected at random from the bag, its colour is noted and then the token is returned to the bag.\n",
    "\n",
    "    When a red token is selected, a biased coin with probability $\\frac{4}{5}$ of landing heads is spun.\n",
    "\n",
    "    When a blue token is selected, a biased coin with probability $\\frac{2}{5}$ of landing heads is spun.\n",
    "\n",
    "    1. What is the probability of picking a red token?\n",
    "    2. What is the probability of obtaining Heads?\n",
    "    3. If a heads is obtained, what is the probability of having selected a red token.\n",
    "4. On a randomly chose day, the probability of an individual travelling to school by car, bicycle or on foot is $1/2$, $1/6$ and $1/3$ respectively. The probability of being late when using these methods of travel is $1/5$, $2/5$ and $1/10$ respectively.\n",
    "\n",
    "    1. Find the probability that an individual travels by foot and is late.\n",
    "    2. Find the probability that an individual is not late.\n",
    "    3. Given that an individual is late, find the probability that they did not travel on foot."
   ]
  }
 ],
 "metadata": {
  "jupytext": {
   "formats": "ipynb,md:myst"
  },
  "kernelspec": {
   "display_name": "Python 3",
   "language": "python",
   "name": "python3"
  },
  "language_info": {
   "codemirror_mode": {
    "name": "ipython",
    "version": 3
   },
   "file_extension": ".py",
   "mimetype": "text/x-python",
   "name": "python",
   "nbconvert_exporter": "python",
   "pygments_lexer": "ipython3",
   "version": "3.8.3"
  }
 },
 "nbformat": 4,
 "nbformat_minor": 4
}
