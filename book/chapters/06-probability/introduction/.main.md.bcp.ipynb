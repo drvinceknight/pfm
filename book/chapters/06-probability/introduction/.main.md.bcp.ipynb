{
 "cells": [
  {
   "cell_type": "markdown",
   "metadata": {},
   "source": [
    "# Probability\n",
    "\n",
    "Probability is the study of random events. Computers are particularly helpful\n",
    "here as they can be used to carry out a number of experiments to confirm and/or\n",
    "explore theoretic results.\n",
    "\n",
    "> a group of numbers or other symbols arranged in a rectangle that can be used\n",
    "> together as a single unit to solve particular mathematical problems\n",
    "\n",
    "In practice studying probability will often involve:\n",
    "\n",
    "- calculating expected chances of an event occurring;\n",
    "- calculating the conditional chances of an event occurring given another event\n",
    "  occurring.\n",
    "\n",
    "Here we will see how to instruct a computer to sample such events."
   ]
  }
 ],
 "metadata": {
  "jupytext": {
   "formats": "ipynb,md:myst"
  },
  "kernelspec": {
   "display_name": "Python 3",
   "language": "python",
   "name": "python3"
  },
  "language_info": {
   "codemirror_mode": {
    "name": "ipython",
    "version": 3
   },
   "file_extension": ".py",
   "mimetype": "text/x-python",
   "name": "python",
   "nbconvert_exporter": "python",
   "pygments_lexer": "ipython3",
   "version": "3.8.3"
  }
 },
 "nbformat": 4,
 "nbformat_minor": 4
}
