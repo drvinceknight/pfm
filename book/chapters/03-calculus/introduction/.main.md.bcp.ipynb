{
 "cells": [
  {
   "cell_type": "markdown",
   "metadata": {},
   "source": [
    "# Calculus\n",
    "\n",
    "As of 2020, the A-level syllabus includes Calculus which\n",
    "<https://www.cambridgeinternational.org/Images/415060-2020-2022-syllabus.pdf>\n",
    "describes as:\n",
    "\n",
    "> Calculus: this is a fundamental element which describes change in dynamic\n",
    "> situations and underlines the links between functions and graphs.\n",
    "\n",
    "In practice this often means:\n",
    "\n",
    "- taking limits of functions;\n",
    "- differentiating functions;\n",
    "- integrating functions.\n",
    "\n",
    "Here we will see how to instruct a computer to carry out these techniques."
   ]
  }
 ],
 "metadata": {
  "jupytext": {
   "formats": "ipynb,md:myst"
  },
  "kernelspec": {
   "display_name": "Python 3",
   "language": "python",
   "name": "python3"
  },
  "language_info": {
   "codemirror_mode": {
    "name": "ipython",
    "version": 3
   },
   "file_extension": ".py",
   "mimetype": "text/x-python",
   "name": "python",
   "nbconvert_exporter": "python",
   "pygments_lexer": "ipython3",
   "version": "3.8.3"
  }
 },
 "nbformat": 4,
 "nbformat_minor": 4
}
