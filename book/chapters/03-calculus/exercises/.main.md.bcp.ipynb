{
 "cells": [
  {
   "cell_type": "markdown",
   "metadata": {},
   "source": [
    "# Exercises\n",
    "\n",
    "**After** completing the tutorial attempt the following exercises.\n",
    "\n",
    "**If you are not sure how to do something, have a look at the \"How To\" section.**\n",
    "\n",
    "1. For each of the following functions calculate $\\frac{df}{dx}$, $\\frac{d^2f}{dx^2}$ and $\\int f(x) dx$.\n",
    "    1. $f(x) = x$\n",
    "    2. $f(x) = x ^{\\frac{1}{3}}$\n",
    "    3. $f(x) = 2 x (x - 3) (\\sin(x) - 5)$\n",
    "    4. $f(x) = 3  x ^ 3 + 6 \\sqrt{x} + 3$\n",
    "2. Consider the function $f(x)=2x+1$. By differentiating *from first principles* show that $f'(x)=2$.\n",
    "3. Consider the second derivative $f''(x)=6x+4$ of some cubic function $f(x)$.\n",
    "    1. Find $f'(x)$\n",
    "    2. You are given that $f(0)=10$ and $f(1)=13$, find $f(x)$.\n",
    "    3. Find all the stationary points of $f(x)$ and determine their nature.\n",
    "4. Consider the function $f(x)=\\frac{2}{3}x ^ 3 + b x ^ 2 + 2 x + 3$, where $b$ is some undetermined coefficient.\n",
    "    1. Find $f'(x)$ and $f''(x)$\n",
    "    2. You are given that $f(x)$ has a stationary point at $x=2$. Use this information to find $b$.\n",
    "    3. Find the coordinates of the other stationary point.\n",
    "    4. Determine the nature of both stationary points.\n",
    "5. Consider the functions $f(x)=-x^2+4x+4$ and $g(x)=3x^2-2x-2$.\n",
    "    1. Create a variable `turning_points` which has value the turning points of $f(x)$.\n",
    "    2. Create variable `intersection_points` which has value of the points where $f(x)$ and $g(x)$ intersect.\n",
    "    3. Using your answers to parts 2., calculate the area of the region between $f$ and $g$. Assign this value to a variable `area_between`."
   ]
  }
 ],
 "metadata": {
  "jupytext": {
   "formats": "ipynb,md:myst"
  },
  "kernelspec": {
   "display_name": "Python 3",
   "language": "python",
   "name": "python3"
  },
  "language_info": {
   "codemirror_mode": {
    "name": "ipython",
    "version": 3
   },
   "file_extension": ".py",
   "mimetype": "text/x-python",
   "name": "python",
   "nbconvert_exporter": "python",
   "pygments_lexer": "ipython3",
   "version": "3.8.3"
  }
 },
 "nbformat": 4,
 "nbformat_minor": 4
}
