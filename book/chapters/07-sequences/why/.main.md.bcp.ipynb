{
 "cells": [
  {
   "cell_type": "markdown",
   "metadata": {},
   "source": [
    "# Further information\n",
    "\n",
    "## What are the differences between recursion and iteration?\n",
    "\n",
    "When giving instructions to a computer it is possible to use recursion to\n",
    "directly implement a common mathematical definition. For example consider the\n",
    "following sequence:\n",
    "\n",
    "$$\n",
    "    \\left\\{\\begin{array}{l}\n",
    "    a_1 = 1\\\\\n",
    "    a_{n + 1}= 3a_n, n > 1\n",
    "    \\end{array}\\right.\n",
    "$$\n",
    "\n",
    "We can define this in Python as follows:"
   ]
  },
  {
   "cell_type": "code",
   "execution_count": 1,
   "metadata": {},
   "outputs": [],
   "source": [
    "def generate_sequence(n):\n",
    "    \"\"\"\n",
    "    Generate the sequence defined by:\n",
    "\n",
    "    a_1 = 1\n",
    "    a_n = 3 a_{n - 1}\n",
    "\n",
    "    This is done using recursion.\n",
    "    \"\"\"\n",
    "    if n == 1:\n",
    "        return 1\n",
    "    return 3 * generate_sequence(n - 1)"
   ]
  },
  {
   "cell_type": "markdown",
   "metadata": {},
   "source": [
    "The first 6 terms:"
   ]
  },
  {
   "cell_type": "code",
   "execution_count": 2,
   "metadata": {},
   "outputs": [
    {
     "data": {
      "text/plain": [
       "[1, 3, 9, 27, 81, 243]"
      ]
     },
     "execution_count": 2,
     "metadata": {},
     "output_type": "execute_result"
    }
   ],
   "source": [
    "[generate_sequence(n) for n in range(1, 7)]"
   ]
  },
  {
   "cell_type": "markdown",
   "metadata": {},
   "source": [
    "We note that in this case this corresponds to powers of $3$, and indeed we can\n",
    "prove that: $a_n = 3 ^ {n - 1}$. We will not carry out the proof here but one\n",
    "approach to doing it would be to use proof by induction which is closely related\n",
    "to recursive functions.\n",
    "\n",
    "We can write a different python function that uses this formulae. This is called\n",
    "**iteration**:"
   ]
  },
  {
   "cell_type": "code",
   "execution_count": 3,
   "metadata": {},
   "outputs": [],
   "source": [
    "def calculate_sequence(n):\n",
    "    \"\"\"\n",
    "    Calculate the nth term of the sequence defined by:\n",
    "\n",
    "    a_1 = 1\n",
    "    a_n = 3 a_{n - 1}\n",
    "\n",
    "    This is done using iteration using the direct formula:\n",
    "\n",
    "    a_n = 3 ^ n\n",
    "    \"\"\"\n",
    "    return 3 ** (n - 1)"
   ]
  },
  {
   "cell_type": "code",
   "execution_count": 4,
   "metadata": {},
   "outputs": [
    {
     "data": {
      "text/plain": [
       "[1, 3, 9, 27, 81, 243]"
      ]
     },
     "execution_count": 4,
     "metadata": {},
     "output_type": "execute_result"
    }
   ],
   "source": [
    "[calculate_sequence(n) for n in range(1, 7)]"
   ]
  },
  {
   "cell_type": "markdown",
   "metadata": {},
   "source": [
    "We can in fact use a Jupyter [magic\n",
    "command](https://ipython.readthedocs.io/en/stable/interactive/magics.html) to\n",
    "time the run time of a command. It is clear that recursion is slower."
   ]
  },
  {
   "cell_type": "code",
   "execution_count": 5,
   "metadata": {
    "tags": [
     "nbval-ignore-output",
     "style-check-ignore"
    ]
   },
   "outputs": [
    {
     "name": "stdout",
     "output_type": "stream",
     "text": [
      "33.6 µs ± 1.28 µs per loop (mean ± std. dev. of 7 runs, 10000 loops each)\n"
     ]
    }
   ],
   "source": [
    "%timeit [generate_sequence(n) for n in range(1, 25)]"
   ]
  },
  {
   "cell_type": "code",
   "execution_count": 6,
   "metadata": {
    "tags": [
     "nbval-ignore-output",
     "style-check-ignore"
    ]
   },
   "outputs": [
    {
     "name": "stdout",
     "output_type": "stream",
     "text": [
      "8.89 µs ± 114 ns per loop (mean ± std. dev. of 7 runs, 100000 loops each)\n"
     ]
    }
   ],
   "source": [
    "%timeit [calculate_sequence(n) for n in range(1, 25)]"
   ]
  },
  {
   "cell_type": "markdown",
   "metadata": {},
   "source": [
    "In practice:\n",
    "\n",
    "- Using recursion is powerful as it can be used to directly implement recursive\n",
    "  definitions.\n",
    "- Using iteration is more computationally efficient but it is not always\n",
    "  straightforward to obtain an iterative formula.\n",
    "\n",
    "\n",
    "(what_is_caching)=\n",
    "## What is caching\n",
    "\n",
    "One of the reasons that recursion is computationally inefficient is that it\n",
    "always has to recalculate previously calculated values.\n",
    "\n",
    "For example:\n",
    "\n",
    "\n",
    "$$\n",
    "    \\left\\{\\begin{array}{l}\n",
    "    a_1 = 1\\\\\n",
    "    a_{n + 1}= 3a_n, n > 1\n",
    "    \\end{array}\\right.\n",
    "$$\n",
    "\n",
    "One way to overcome this is to use caching which means that when a function is\n",
    "called for a value it has already computed it remembers the value.\n",
    "\n",
    "Python has a caching tool available in the functools library:"
   ]
  },
  {
   "cell_type": "code",
   "execution_count": 7,
   "metadata": {},
   "outputs": [],
   "source": [
    "import functools\n",
    "\n",
    "\n",
    "def generate_sequence(n):\n",
    "    \"\"\"\n",
    "    Generate the sequence defined by:\n",
    "\n",
    "    a_1 = 1\n",
    "    a_n = 3 a_{n - 1}\n",
    "\n",
    "    This is done using recursion.\n",
    "    \"\"\"\n",
    "    if n == 1:\n",
    "        return 1\n",
    "    return 3 * generate_sequence(n - 1)\n",
    "\n",
    "\n",
    "@functools.lru_cache()\n",
    "def cached_generate_sequence(n):\n",
    "    \"\"\"\n",
    "    Generate the sequence defined by:\n",
    "\n",
    "    a_1 = 1\n",
    "    a_n = 3 a_{n - 1}\n",
    "\n",
    "    This is done using recursion but also includes a cache.\n",
    "    \"\"\"\n",
    "    if n == 1:\n",
    "        return 1\n",
    "    return 3 * cached_generate_sequence(n - 1)"
   ]
  },
  {
   "cell_type": "markdown",
   "metadata": {},
   "source": [
    "Timing both these approaches confirms a substantial increase in time for the\n",
    "cached version."
   ]
  },
  {
   "cell_type": "code",
   "execution_count": 8,
   "metadata": {
    "tags": [
     "nbval-ignore-output",
     "style-check-ignore"
    ]
   },
   "outputs": [
    {
     "name": "stdout",
     "output_type": "stream",
     "text": [
      "31.3 µs ± 1.01 µs per loop (mean ± std. dev. of 7 runs, 10000 loops each)\n"
     ]
    }
   ],
   "source": [
    "%timeit [generate_sequence(n) for n in range(1, 25)]"
   ]
  },
  {
   "cell_type": "code",
   "execution_count": 9,
   "metadata": {
    "tags": [
     "nbval-ignore-output",
     "style-check-ignore"
    ]
   },
   "outputs": [
    {
     "name": "stdout",
     "output_type": "stream",
     "text": [
      "1.74 µs ± 51.2 ns per loop (mean ± std. dev. of 7 runs, 1000000 loops each)\n"
     ]
    }
   ],
   "source": [
    "%timeit [cached_generate_sequence(n) for n in range(1, 25)]"
   ]
  }
 ],
 "metadata": {
  "jupytext": {
   "formats": "ipynb,md:myst"
  },
  "kernelspec": {
   "display_name": "Python 3",
   "language": "python",
   "name": "python3"
  },
  "language_info": {
   "codemirror_mode": {
    "name": "ipython",
    "version": 3
   },
   "file_extension": ".py",
   "mimetype": "text/x-python",
   "name": "python",
   "nbconvert_exporter": "python",
   "pygments_lexer": "ipython3",
   "version": "3.8.3"
  }
 },
 "nbformat": 4,
 "nbformat_minor": 4
}
