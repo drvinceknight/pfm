{
 "cells": [
  {
   "cell_type": "markdown",
   "metadata": {},
   "source": [
    "# Exercises\n",
    "\n",
    "**After** completing the tutorial attempt the following exercises.\n",
    "\n",
    "**If you are not sure how to do something, have a look at the \"How To\" section.**\n",
    "\n",
    "1. Using recursion, obtain the first 10 terms of the following sequences:\n",
    "    1. $\\left\\{\\begin{array}{l}a_1 = 1,\\\\a_n = 3a_{n - 1}, n > 1\\end{array}\\right.$\n",
    "    2. $\\left\\{\\begin{array}{l}a_1 = 3,\\\\a_n = 6a_{n - 1}, n > 1\\end{array}\\right.$\n",
    "    3. $\\left\\{\\begin{array}{l}a_1 = 3,\\\\a_n = 6a_{n - 1} + 3, n > 1\\end{array}\\right.$\n",
    "    4. $\\left\\{\\begin{array}{l}a_0 = 3,\\\\a_n = \\sqrt{a_{n - 1}} + 3, n > 0\\end{array}\\right.$\n",
    "2. Using recursion, obtain the first 5 terms of the Fibonacci sequence:\n",
    "    $$\\left\\{\\begin{array}{l}\n",
    "        a_0 = 0,\\\\\n",
    "        a_1 = 1,\\\\ \n",
    "        a_n = a_{n - 1} + a_{n - 2}, n \\geq 2\\end{array}\\right.\n",
    "    $$\n",
    "3. A 40 year building programme for new houses began in Oldtown in the year 1951 (Year 1) and finished in 1990 (Year 40).\n",
    "\n",
    "    The number of houses built each year form an arithmetic sequence with first term $a$ and common difference $d$.\n",
    "\n",
    "    Given that 2400 new houses were built in 1960 and 600 new houses were built in 1990, find:\n",
    "\n",
    "    1. The value of $d$.\n",
    "    2. The value of $a$.\n",
    "    3. The total number of houses built in Oldtown over 40 years.\n",
    "    4. On a randomly chose day, the probability of an individual travelling to school by car, bicycle or on foot is $1/2$, $1/6$ and $1/3$ respectively. The probability of being late when using these methods of travel is $1/5$, $2/5$ and $1/10$ respectively.\n",
    "4. A sequence is given by:\n",
    "\n",
    "    $$\n",
    "        \\left\\{\\begin{array}{l}\n",
    "        x_1 = 1\\\\\n",
    "        x_{n + 1}= x_n(p + x_n), n > 1\n",
    "        \\end{array}\\right.\n",
    "    $$\n",
    "\n",
    "    for $p\\ne0$.\n",
    "\n",
    "    1. Find $x_2$ in terms of $p$.\n",
    "    2. Show that $x_3=1+3p+2p^2$.\n",
    "    3. Given that $x_3=1$, find the value of $p$"
   ]
  }
 ],
 "metadata": {
  "jupytext": {
   "formats": "ipynb,md:myst"
  },
  "kernelspec": {
   "display_name": "Python 3",
   "language": "python",
   "name": "python3"
  },
  "language_info": {
   "codemirror_mode": {
    "name": "ipython",
    "version": 3
   },
   "file_extension": ".py",
   "mimetype": "text/x-python",
   "name": "python",
   "nbconvert_exporter": "python",
   "pygments_lexer": "ipython3",
   "version": "3.8.3"
  }
 },
 "nbformat": 4,
 "nbformat_minor": 4
}
