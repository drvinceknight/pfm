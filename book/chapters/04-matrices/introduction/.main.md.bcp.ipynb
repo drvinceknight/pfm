{
 "cells": [
  {
   "cell_type": "markdown",
   "metadata": {},
   "source": [
    "# Matrices\n",
    "\n",
    "Matrices form the building block of an area of mathematics referred to as Linear\n",
    "Algebra. The dictionary definition of a matrix is:\n",
    "\n",
    "> a group of numbers or other symbols arranged in a rectangle that can be used\n",
    "> together as a single unit to solve particular mathematical problems\n",
    "\n",
    "The specific mathematical problems discussed usually correspond to solving large\n",
    "systems of linear equations. However they have become an area of interest in\n",
    "their own right and manipulating matrices usually corresponds to:\n",
    "\n",
    "- calculating the determinant of a matrix;\n",
    "- calculating the inverse of a matrix.\n",
    "\n",
    "Here we will see how to instruct a computer to carry out these techniques."
   ]
  }
 ],
 "metadata": {
  "jupytext": {
   "formats": "ipynb,md:myst"
  },
  "kernelspec": {
   "display_name": "Python 3",
   "language": "python",
   "name": "python3"
  },
  "language_info": {
   "codemirror_mode": {
    "name": "ipython",
    "version": 3
   },
   "file_extension": ".py",
   "mimetype": "text/x-python",
   "name": "python",
   "nbconvert_exporter": "python",
   "pygments_lexer": "ipython3",
   "version": "3.8.3"
  }
 },
 "nbformat": 4,
 "nbformat_minor": 4
}
