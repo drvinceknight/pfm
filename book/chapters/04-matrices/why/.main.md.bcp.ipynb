{
 "cells": [
  {
   "cell_type": "markdown",
   "metadata": {},
   "source": [
    "# Why\n",
    "\n",
    "## Why do we use `@` for matrix multiplication and not `*`?\n",
    "\n",
    "With sympy it is in fact possible to use the `*` operator for matrix\n",
    "multiplication:"
   ]
  },
  {
   "cell_type": "code",
   "execution_count": 1,
   "metadata": {},
   "outputs": [
    {
     "data": {
      "text/latex": [
       "$\\displaystyle \\left[\\begin{matrix}\\frac{4}{25} & 0\\\\\\frac{4}{5} & 0\\end{matrix}\\right]$"
      ],
      "text/plain": [
       "Matrix([\n",
       "[4/25, 0],\n",
       "[ 4/5, 0]])"
      ]
     },
     "execution_count": 1,
     "metadata": {},
     "output_type": "execute_result"
    }
   ],
   "source": [
    "import sympy as sym\n",
    "\n",
    "matrix = sym.Matrix([[sym.S(1) / 5, 1], [1, 1]])\n",
    "other_matrix = sym.Matrix([[sym.S(4) / 5, 0], [0, 0]])\n",
    "matrix * other_matrix"
   ]
  },
  {
   "cell_type": "markdown",
   "metadata": {},
   "source": [
    "However there are other libraries that can be used for linear algebra and in\n",
    "those libraries the `*` does not do matrix multiplication, it does element wise\n",
    "multiplication instead. So for clarity it is preferred to use `@` throughout.\n",
    "\n",
    "## I have read that `numpy` is a library for linear algebra?|\n",
    "\n",
    "`numpy` is one of the most popular and important libraries in the Python\n",
    "ecosystem. It is in fact the best library to use when doing linear algebra as it\n",
    "is computationally efficient, **however** it cannot handle symbolic variables\n",
    "which is why we are seeing how to use `Sympy` here."
   ]
  }
 ],
 "metadata": {
  "jupytext": {
   "formats": "ipynb,md:myst"
  },
  "kernelspec": {
   "display_name": "Python 3",
   "language": "python",
   "name": "python3"
  },
  "language_info": {
   "codemirror_mode": {
    "name": "ipython",
    "version": 3
   },
   "file_extension": ".py",
   "mimetype": "text/x-python",
   "name": "python",
   "nbconvert_exporter": "python",
   "pygments_lexer": "ipython3",
   "version": "3.8.3"
  }
 },
 "nbformat": 4,
 "nbformat_minor": 4
}
