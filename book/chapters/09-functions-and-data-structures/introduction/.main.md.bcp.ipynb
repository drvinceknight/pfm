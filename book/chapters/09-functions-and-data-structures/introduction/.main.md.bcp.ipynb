{
 "cells": [
  {
   "cell_type": "markdown",
   "metadata": {},
   "source": [
    "# Functions and data structures\n",
    "\n",
    "In the previous chapters we have explored a number of tools that allow us to use\n",
    "our mathematical knowledge more efficiently. In this chapter as we\n",
    "continue to gain the knowledge necessary to build these tools we will cover the\n",
    "following topics:\n",
    "\n",
    "- Defining and using functions;\n",
    "- Understanding multiple data structures:\n",
    "    - Tuples;\n",
    "    - Lists;\n",
    "    - Sets;\n",
    "    - Dictionaries."
   ]
  }
 ],
 "metadata": {
  "jupytext": {
   "formats": "ipynb,md:myst"
  },
  "kernelspec": {
   "display_name": "Python 3",
   "language": "python",
   "name": "python3"
  },
  "language_info": {
   "codemirror_mode": {
    "name": "ipython",
    "version": 3
   },
   "file_extension": ".py",
   "mimetype": "text/x-python",
   "name": "python",
   "nbconvert_exporter": "python",
   "pygments_lexer": "ipython3",
   "version": "3.8.3"
  }
 },
 "nbformat": 4,
 "nbformat_minor": 4
}
