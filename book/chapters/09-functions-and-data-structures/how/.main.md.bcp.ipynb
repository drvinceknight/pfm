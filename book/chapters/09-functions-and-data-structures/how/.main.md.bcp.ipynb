{
 "cells": [
  {
   "cell_type": "markdown",
   "metadata": {},
   "source": [
    "# How\n",
    "\n",
    "Two important data structures have already been seen in previous chapters:\n",
    "\n",
    "- Tuples: {ref}`create_a_tuple`.\n",
    "- Lists: {ref}`create_a_list`.\n",
    "\n",
    "## Create a set\n",
    "\n",
    "A set is a collection of distinct objects. This can be created in Python using\n",
    "the `set` command on any iterable. If there are non distinct objects in the\n",
    "iterable then this is an efficient way to remove duplicates.\n",
    "\n",
    "````{tip}\n",
    "```\n",
    "set(iterable)\n",
    "```\n",
    "````\n",
    "\n",
    "Here is an example of creating a set:"
   ]
  },
  {
   "cell_type": "code",
   "execution_count": 1,
   "metadata": {},
   "outputs": [
    {
     "data": {
      "text/plain": [
       "{1, 2, 3, 4, 10}"
      ]
     },
     "execution_count": 1,
     "metadata": {},
     "output_type": "execute_result"
    }
   ],
   "source": [
    "iterable = (1, 1, 3, 4, 4, 3, 2, 1, 10)\n",
    "unique_values = set(iterable)\n",
    "unique_values"
   ]
  },
  {
   "cell_type": "markdown",
   "metadata": {},
   "source": [
    "## Do set operations\n",
    "\n",
    "Set operations between two sets can be done using Python:\n",
    "\n",
    "- $S_1 \\cup S_2$: `set_1 | set_2`\n",
    "- $S_1 \\cap S_2$: `set_1 & set_2`\n",
    "- $S_1 \\setminus S_2$: `set_1 - set_2`\n",
    "- $S_1 \\subseteq S_2$ (checking if $S_1$ is a subset of $S_2$): `set_1 <=\n",
    "  set_2`\n",
    "\n",
    "Here are some examples of carrying out the above:"
   ]
  },
  {
   "cell_type": "code",
   "execution_count": 2,
   "metadata": {},
   "outputs": [
    {
     "data": {
      "text/plain": [
       "{1, 2, 3, 4, 5, 6, 7, 8, 9}"
      ]
     },
     "execution_count": 2,
     "metadata": {},
     "output_type": "execute_result"
    }
   ],
   "source": [
    "set_1 = set((1, 2, 3, 4, 5))\n",
    "set_2 = set((4, 5, 6, 7, 8, 9))\n",
    "\n",
    "set_1 | set_2"
   ]
  },
  {
   "cell_type": "code",
   "execution_count": 3,
   "metadata": {},
   "outputs": [
    {
     "data": {
      "text/plain": [
       "{4, 5}"
      ]
     },
     "execution_count": 3,
     "metadata": {},
     "output_type": "execute_result"
    }
   ],
   "source": [
    "set_1 & set_2"
   ]
  },
  {
   "cell_type": "code",
   "execution_count": 4,
   "metadata": {},
   "outputs": [
    {
     "data": {
      "text/plain": [
       "{1, 2, 3}"
      ]
     },
     "execution_count": 4,
     "metadata": {},
     "output_type": "execute_result"
    }
   ],
   "source": [
    "set_1 - set_2"
   ]
  },
  {
   "cell_type": "code",
   "execution_count": 5,
   "metadata": {},
   "outputs": [
    {
     "data": {
      "text/plain": [
       "False"
      ]
     },
     "execution_count": 5,
     "metadata": {},
     "output_type": "execute_result"
    }
   ],
   "source": [
    "set_1 <= set_2"
   ]
  },
  {
   "cell_type": "markdown",
   "metadata": {},
   "source": [
    "## Using hash tables\n",
    "\n",
    "Lists and tuples allow us to immediately recover a value given its position.\n",
    "Hash tables allow us to create arbitrary `key` `value` pairs so that given any\n",
    "`key` we can immediately recover the value. This is called a dictionary in\n",
    "Python and is created using `{}` which takes a collection of `key: value`\n",
    "pairs.\n",
    "\n",
    "````{tip}\n",
    "```\n",
    "{key_1: value, key_2: value, …}\n",
    "```\n",
    "````\n",
    "\n",
    "For example the following dictionary maps pet names to their ages:"
   ]
  },
  {
   "cell_type": "code",
   "execution_count": 6,
   "metadata": {},
   "outputs": [
    {
     "data": {
      "text/plain": [
       "{'Riggins': 4, 'Chick': 7, 'Duck': 7}"
      ]
     },
     "execution_count": 6,
     "metadata": {},
     "output_type": "execute_result"
    }
   ],
   "source": [
    "ages = {\"Riggins\": 4, \"Chick\": 7, \"Duck\": 7}\n",
    "ages"
   ]
  },
  {
   "cell_type": "markdown",
   "metadata": {},
   "source": [
    "To recover a value we pass the key to the dictionary using `[]`.\n",
    "\n",
    "For example:"
   ]
  },
  {
   "cell_type": "code",
   "execution_count": 7,
   "metadata": {},
   "outputs": [
    {
     "data": {
      "text/plain": [
       "4"
      ]
     },
     "execution_count": 7,
     "metadata": {},
     "output_type": "execute_result"
    }
   ],
   "source": [
    "ages[\"Riggins\"]"
   ]
  },
  {
   "cell_type": "markdown",
   "metadata": {},
   "source": [
    "```{attention}\n",
    "If a key is used to recover the value but the key is not in the dictionary then\n",
    "an error will be raised.\n",
    "```"
   ]
  }
 ],
 "metadata": {
  "jupytext": {
   "formats": "ipynb,md:myst"
  },
  "kernelspec": {
   "display_name": "Python 3",
   "language": "python",
   "name": "python3"
  },
  "language_info": {
   "codemirror_mode": {
    "name": "ipython",
    "version": 3
   },
   "file_extension": ".py",
   "mimetype": "text/x-python",
   "name": "python",
   "nbconvert_exporter": "python",
   "pygments_lexer": "ipython3",
   "version": "3.8.3"
  }
 },
 "nbformat": 4,
 "nbformat_minor": 4
}
