{
 "cells": [
  {
   "cell_type": "markdown",
   "metadata": {},
   "source": [
    "# How\n",
    "\n",
    "## Define an integer variable\n",
    "\n",
    "To define an integer variable we use the `=` operator which is the assignment\n",
    "operator. We create the name of the variable then the assignment operator\n",
    "followed by the integer value.\n",
    "\n",
    "````{tip}\n",
    "```\n",
    "name_of_variable = int_value\n",
    "```\n",
    "````\n",
    "\n",
    "For example:"
   ]
  },
  {
   "cell_type": "code",
   "execution_count": 1,
   "metadata": {},
   "outputs": [
    {
     "data": {
      "text/plain": [
       "2020"
      ]
     },
     "execution_count": 1,
     "metadata": {},
     "output_type": "execute_result"
    }
   ],
   "source": [
    "year = 2020\n",
    "year"
   ]
  },
  {
   "cell_type": "markdown",
   "metadata": {},
   "source": [
    "```{attention}\n",
    "When choosing a variable name there are some rules to follow:\n",
    "\n",
    "- No spaces, use `_` instead.\n",
    "- Cannot start with a number or other special characters.\n",
    "\n",
    "There are other important conventions:\n",
    "\n",
    "- Use explicit names that clearly describe what the variable is (try not to use\n",
    "  `i`, `a` unless those refer to specific mathematical variables).\n",
    "- Do not use `CamelCase` but use `snake_case` when combining words. This follows\n",
    "  the Python convention called [PEP8](https://www.python.org/dev/peps/pep-0008/)\n",
    "```\n",
    "\n",
    "## Define a float variable\n",
    "\n",
    "To define a float variable we use the `=` operator which is the assignment\n",
    "operator. We create the name of the variable then the assignment operator\n",
    "followed by the real value.\n",
    "\n",
    "````{tip}\n",
    "```\n",
    "name_of_variable = float_value\n",
    "```\n",
    "````\n",
    "\n",
    "For example:"
   ]
  },
  {
   "cell_type": "code",
   "execution_count": 2,
   "metadata": {},
   "outputs": [
    {
     "data": {
      "text/plain": [
       "2.54"
      ]
     },
     "execution_count": 2,
     "metadata": {},
     "output_type": "execute_result"
    }
   ],
   "source": [
    "cms_in_an_inch = 2.54\n",
    "cms_in_an_inch"
   ]
  },
  {
   "cell_type": "markdown",
   "metadata": {},
   "source": [
    "## Define a string variable\n",
    "\n",
    "To define a string variable we use the `=` operator which is the assignment\n",
    "operator. We create the name of the variable then the assignment operator\n",
    "followed by the string which is a combination of characters between quotation\n",
    "marks.\n",
    "\n",
    "````{tip}\n",
    "```\n",
    "name_of_variable = string_value\n",
    "```\n",
    "````\n",
    "\n",
    "For example:"
   ]
  },
  {
   "cell_type": "code",
   "execution_count": 3,
   "metadata": {},
   "outputs": [
    {
     "data": {
      "text/plain": [
       "'roseau'"
      ]
     },
     "execution_count": 3,
     "metadata": {},
     "output_type": "execute_result"
    }
   ],
   "source": [
    "capital_of_dominica = \"roseau\"\n",
    "capital_of_dominica"
   ]
  },
  {
   "cell_type": "markdown",
   "metadata": {},
   "source": [
    "## Define a boolean variable\n",
    "\n",
    "A boolean variable is one of two things: `True` or `False`. To define a boolean\n",
    "variable we again use the `=` operator which is the assignment operator. We\n",
    "create the name of the variable then the assignment operator followed by the\n",
    "boolean variable (either `True` or `False`).\n",
    "\n",
    "\n",
    "````{tip}\n",
    "```\n",
    "name_of_variable = boolean_value\n",
    "```\n",
    "````\n",
    "\n",
    "For example:"
   ]
  },
  {
   "cell_type": "code",
   "execution_count": 4,
   "metadata": {},
   "outputs": [
    {
     "data": {
      "text/plain": [
       "True"
      ]
     },
     "execution_count": 4,
     "metadata": {},
     "output_type": "execute_result"
    }
   ],
   "source": [
    "john_nash_has_a_noble = True\n",
    "john_nash_has_a_noble"
   ]
  },
  {
   "cell_type": "markdown",
   "metadata": {},
   "source": [
    "```{tip}\n",
    "{ref}`creating_boolean_variables` gives an overview of how to create boolean\n",
    "variables from other variables.\n",
    "```\n",
    "\n",
    "\n",
    "## How to check the type of a variable\n",
    "\n",
    "We can get the type of a variable using the `type` tool.\n",
    "\n",
    "````{tip}\n",
    "```\n",
    "type(object)\n",
    "```\n",
    "\n",
    "Where `object` is any variable.\n",
    "````\n",
    "\n",
    "For example:"
   ]
  },
  {
   "cell_type": "code",
   "execution_count": 5,
   "metadata": {},
   "outputs": [
    {
     "data": {
      "text/plain": [
       "int"
      ]
     },
     "execution_count": 5,
     "metadata": {},
     "output_type": "execute_result"
    }
   ],
   "source": [
    "year = 2020\n",
    "type(year)"
   ]
  },
  {
   "cell_type": "code",
   "execution_count": 6,
   "metadata": {},
   "outputs": [
    {
     "data": {
      "text/plain": [
       "float"
      ]
     },
     "execution_count": 6,
     "metadata": {},
     "output_type": "execute_result"
    }
   ],
   "source": [
    "cms_in_an_inch = 2.54\n",
    "type(cms_in_an_inch)"
   ]
  },
  {
   "cell_type": "code",
   "execution_count": 7,
   "metadata": {},
   "outputs": [
    {
     "data": {
      "text/plain": [
       "str"
      ]
     },
     "execution_count": 7,
     "metadata": {},
     "output_type": "execute_result"
    }
   ],
   "source": [
    "capital_of_dominica = \"roseau\"\n",
    "type(capital_of_dominica)"
   ]
  },
  {
   "cell_type": "markdown",
   "metadata": {},
   "source": [
    "```{warning}\n",
    "If a numeric variable is given with any decimal part (including 0) then it is\n",
    "considered to be a float.\n",
    "```\n",
    "\n",
    "## How to manipulate numeric variables\n",
    "\n",
    "Numeric values can be combined to create new numeric variables.\n",
    "\n",
    "1. Addition, $2 + 2$: `2 + 2`;\n",
    "2. Subtraction, $3 - 1$: `3 - 1`;\n",
    "3. Multiplication, $3 \\times 5$: `3 * 5`;\n",
    "5. Division, $20 / 5$: `20 / 5`;\n",
    "6. Exponentiation, $2 ^ 4$: `2 ** 4`;\n",
    "7. Integer remainder, $5 \\mod 2$: `5 % 2`;\n",
    "8. Combining operations, $\\frac{2 ^ 3 + 1}{4}$: `(2 ** 3 + 1) / 4`;\n",
    "\n",
    "For example:"
   ]
  },
  {
   "cell_type": "code",
   "execution_count": 8,
   "metadata": {
    "tags": [
     "nbval-ignore-output"
    ]
   },
   "outputs": [
    {
     "data": {
      "text/plain": [
       "66.92913385826772"
      ]
     },
     "execution_count": 8,
     "metadata": {},
     "output_type": "execute_result"
    }
   ],
   "source": [
    "cms_in_an_inch = 2.54\n",
    "average_male_height_in_cms = 170\n",
    "average_male_height_in_inches = average_male_height_in_cms / cms_in_an_inch\n",
    "average_male_height_in_inches"
   ]
  },
  {
   "cell_type": "markdown",
   "metadata": {},
   "source": [
    "```{tip}\n",
    "This is similar to what we did in\n",
    "{ref}`carry_out_basic_arithmetic_operations`.\n",
    "```\n",
    "\n",
    "````{tip}\n",
    "Some languages, including Python have a shortcut to manipulate a variable \"in\n",
    "place\". The following takes the variable `money` and replaces it by 3 times\n",
    "`money`:\n",
    "\n",
    "```\n",
    "money *= 3\n",
    "```\n",
    "\n",
    "This is equivalent to:\n",
    "\n",
    "```\n",
    "money = money * 3\n",
    "```\n",
    "````\n",
    "\n",
    "## How to include variables in strings\n",
    "\n",
    "Variables can be used in strings using *string formatting*. There are numerous\n",
    "ways this can be done in Python but the current best practice is to use\n",
    "`f`-strings.\n",
    "\n",
    "````{tip}\n",
    "```\n",
    "f\"{variable}\"\n",
    "```\n",
    "````\n",
    "\n",
    "For example the following creates a string that uses a random number:"
   ]
  },
  {
   "cell_type": "code",
   "execution_count": 9,
   "metadata": {},
   "outputs": [
    {
     "data": {
      "text/plain": [
       "'Here is a random number: 0.8444218515250481'"
      ]
     },
     "execution_count": 9,
     "metadata": {},
     "output_type": "execute_result"
    }
   ],
   "source": [
    "import random\n",
    "\n",
    "random.seed(0)\n",
    "random_number = random.random()\n",
    "string = f\"Here is a random number: {random_number}\"\n",
    "string"
   ]
  },
  {
   "cell_type": "markdown",
   "metadata": {},
   "source": [
    "## How to combine boolean variables\n",
    "\n",
    "Boolean variables can be combined using the logical operators `and` and `or`.\n",
    "\n",
    "````{tip}\n",
    "```\n",
    "new_boolean = first_boolean and second_boolean\n",
    "```\n",
    "```\n",
    "````\n",
    "\n",
    "\n",
    "````{tip}\n",
    "```\n",
    "new_boolean = first_boolean or second_boolean\n",
    "```\n",
    "```\n",
    "````\n",
    "\n",
    "For example:"
   ]
  },
  {
   "cell_type": "code",
   "execution_count": 10,
   "metadata": {},
   "outputs": [
    {
     "data": {
      "text/plain": [
       "False"
      ]
     },
     "execution_count": 10,
     "metadata": {},
     "output_type": "execute_result"
    }
   ],
   "source": [
    "is_tall = True\n",
    "is_strong = False\n",
    "is_tall_and_strong = is_tall and is_strong\n",
    "is_tall_and_strong"
   ]
  },
  {
   "cell_type": "code",
   "execution_count": 11,
   "metadata": {},
   "outputs": [
    {
     "data": {
      "text/plain": [
       "True"
      ]
     },
     "execution_count": 11,
     "metadata": {},
     "output_type": "execute_result"
    }
   ],
   "source": [
    "is_tall = True\n",
    "is_strong = False\n",
    "is_tall_or_strong = is_tall or is_strong\n",
    "is_tall_or_strong"
   ]
  },
  {
   "cell_type": "markdown",
   "metadata": {},
   "source": [
    "## Run code **if** a condition holds\n",
    "\n",
    "An important part of giving instructions to a computer is to specify when to do\n",
    "different things.\n",
    "This is done using what is called an `if` statement. Following an `if` a boolean\n",
    "variable is expected, if that boolean is `True` then the indented code that\n",
    "follows is run. Otherwise it is not.\n",
    "\n",
    "````{tip}\n",
    "```\n",
    "if boolean:\n",
    "    code to run if boolean is true\n",
    "else:\n",
    "    code to run if boolean is false\n",
    "code to run after either of two previous code blocks are run.\n",
    "```\n",
    "````\n",
    "\n",
    "```{attention}\n",
    "An `else` statement is not always necessary. Specifically when combined with\n",
    "functions as seen in {ref}`probability` when combined with `return` statement\n",
    "the `else` is often not needed.\n",
    "```\n",
    "\n",
    "For example the following code selects a random integer between 0 and 100 and\n",
    "then prints a different string depending on what the number was."
   ]
  },
  {
   "cell_type": "code",
   "execution_count": 12,
   "metadata": {},
   "outputs": [
    {
     "data": {
      "text/plain": [
       "'The random number (49) is odd.'"
      ]
     },
     "execution_count": 12,
     "metadata": {},
     "output_type": "execute_result"
    }
   ],
   "source": [
    "import random\n",
    "\n",
    "random.seed(0)\n",
    "random_number = random.randint(0, 100)\n",
    "is_even = random_number % 2 == 0\n",
    "if is_even:\n",
    "    message = f\"The random number ({random_number}) is even.\"\n",
    "else:\n",
    "    message = f\"The random number ({random_number}) is odd.\"\n",
    "message"
   ]
  },
  {
   "cell_type": "markdown",
   "metadata": {},
   "source": [
    "## Repeat code **for** a given set of variables\n",
    "\n",
    "Given an iterable, it is possible to repeat some code for every item in the\n",
    "iterable. This is done using what is called a `for` loop. Following the `for` a\n",
    "dummy variable is given then followed by the `in` keyword and the iterable.\n",
    "After that the indented code that will be repeated for every value of the\n",
    "iterable.\n",
    "\n",
    "````{tip}\n",
    "```\n",
    "for dummy_variable in iterable:\n",
    "    code to repeat\n",
    "    ```\n",
    "````\n",
    "\n",
    "For example the following will print a message for every given value in the\n",
    "iterable:"
   ]
  },
  {
   "cell_type": "code",
   "execution_count": 13,
   "metadata": {},
   "outputs": [
    {
     "name": "stdout",
     "output_type": "stream",
     "text": [
      "The variable Dog has type <class 'str'>\n",
      "The variable 3 has type <class 'int'>\n",
      "The variable 2 has type <class 'int'>\n",
      "The variable -1.0 has type <class 'float'>\n"
     ]
    }
   ],
   "source": [
    "iterable = (\"Dog\", 3, 2, -1.0)\n",
    "for item in iterable:\n",
    "    type_of_variable = type(item)\n",
    "    message = f\"The variable {item} has type {type_of_variable}\"\n",
    "    print(message)"
   ]
  },
  {
   "cell_type": "markdown",
   "metadata": {},
   "source": [
    "```{attention}\n",
    "`for` loops are a common tool across most programming languages. They are\n",
    "similar to the list comprehensions we saw in\n",
    "{ref}`create_a_list_using_a_list_comprehension`.\n",
    "\n",
    "- List comprehensions should be\n",
    "  specifically used when the goal is to create a collection of items.\n",
    "- Traditional `for` loops should be used when the code to run for every\n",
    "  iteration is more complex.\n",
    "```\n",
    "\n",
    "```{attention}\n",
    "Similarly to {ref}`creating_an_iterable_with_a_given_number_of_items` a common\n",
    "use case of `for` loops is to combine them with a `range` statement to repeat\n",
    "code a known number of items.\n",
    "```\n",
    "\n",
    "(repeat_code_while_a_given_condition_holds)=\n",
    "## Repeat code **while** a given condition holds\n",
    "\n",
    "To repeat code while a condition holds a `while` loop can be used. Similarly to\n",
    "the `if` statement, Following a `while` a boolean\n",
    "variable is expected, if that boolean is `True` then the indented code that\n",
    "follows is repeated. After it is run, the boolean is checked once more. When the\n",
    "boolean is `False` the indented code is skipped.\n",
    "\n",
    "\n",
    "````{tip}\n",
    "```\n",
    "while boolean:\n",
    "    code to repeat before checking boolean once more\n",
    "code to run once boolean is False\n",
    "```\n",
    "````\n",
    "\n",
    "Here is some code that repeatedly selects a random number until that number is\n",
    "even."
   ]
  },
  {
   "cell_type": "code",
   "execution_count": 14,
   "metadata": {},
   "outputs": [
    {
     "data": {
      "text/plain": [
       "2"
      ]
     },
     "execution_count": 14,
     "metadata": {},
     "output_type": "execute_result"
    }
   ],
   "source": [
    "import random\n",
    "\n",
    "random.seed(4)\n",
    "selected_integer = random.randint(0, 10)\n",
    "number_of_selections = 1\n",
    "while selected_integer % 2 == 1:\n",
    "    selected_integer = random.randint(0, 10)\n",
    "    number_of_selections += 1\n",
    "number_of_selections"
   ]
  }
 ],
 "metadata": {
  "jupytext": {
   "formats": "ipynb,md:myst"
  },
  "kernelspec": {
   "display_name": "Python 3",
   "language": "python",
   "name": "python3"
  },
  "language_info": {
   "codemirror_mode": {
    "name": "ipython",
    "version": 3
   },
   "file_extension": ".py",
   "mimetype": "text/x-python",
   "name": "python",
   "nbconvert_exporter": "python",
   "pygments_lexer": "ipython3",
   "version": "3.8.3"
  }
 },
 "nbformat": 4,
 "nbformat_minor": 4
}
