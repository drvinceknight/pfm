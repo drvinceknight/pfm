{
 "cells": [
  {
   "cell_type": "markdown",
   "metadata": {},
   "source": [
    "# Why\n",
    "\n",
    "## Why can I not only use a `while` loop\n",
    "\n",
    "The `for` loop allows us to iterate over any selection of objects. Some\n",
    "languages do not have a generic `for` loop like this. In some cases it is only\n",
    "possible to iterate over a set of integers (similar to the `for i in range(n)`\n",
    "pattern) or to only use a `while` loop.\n",
    "\n",
    "Because of this, it is often the case that you will see code that uses `while`\n",
    "loops instead of `for` loops. For example:"
   ]
  },
  {
   "cell_type": "code",
   "execution_count": 1,
   "metadata": {},
   "outputs": [
    {
     "name": "stdout",
     "output_type": "stream",
     "text": [
      "Winter\n",
      "Spring\n",
      "Summer\n",
      "Autumn\n"
     ]
    }
   ],
   "source": [
    "seasons = (\"Winter\", \"Spring\", \"Summer\", \"Autumn\")\n",
    "\n",
    "number_of_seasons = len(seasons)\n",
    "i = 0\n",
    "while i < number_of_seasons:\n",
    "    season = seasons[i]\n",
    "    print(season)\n",
    "    i += 1"
   ]
  },
  {
   "cell_type": "markdown",
   "metadata": {},
   "source": [
    "The above code is equivalent to:"
   ]
  },
  {
   "cell_type": "code",
   "execution_count": 2,
   "metadata": {},
   "outputs": [
    {
     "name": "stdout",
     "output_type": "stream",
     "text": [
      "Winter\n",
      "Spring\n",
      "Summer\n",
      "Autumn\n"
     ]
    }
   ],
   "source": [
    "seasons = (\"Winter\", \"Spring\", \"Summer\", \"Autumn\")\n",
    "for season in seasons:\n",
    "    print(season)"
   ]
  },
  {
   "cell_type": "markdown",
   "metadata": {},
   "source": [
    "While it is possible to use a `while` loop instead of a `for` loop there are no\n",
    "advantages to doing that and in fact only disadvantages:\n",
    "\n",
    "- Using the `while` loop requires iterating over the iterable twice: the first\n",
    "  time when counting the length of it using `len` and the second time during the\n",
    "  `while` statement itself.\n",
    "- There is more potential for error in the code: it would not be unlikely to\n",
    "  have an off by one error in the boolean condition.\n",
    "- It is less readable.\n",
    "\n",
    "The following is a good guideline:\n",
    "\n",
    "- Use a `for` loop when you know what you are iterating over.\n",
    "- Use a `while` loop when only know a specific condition under which you should\n",
    "  iterate.\n",
    "\n",
    "## Why should I not check if a boolean is `True`\n",
    "\n",
    "It is possible to create a boolean by comparing another boolean to `True` or\n",
    "`False` for example:"
   ]
  },
  {
   "cell_type": "code",
   "execution_count": 3,
   "metadata": {},
   "outputs": [
    {
     "data": {
      "text/plain": [
       "False"
      ]
     },
     "execution_count": 3,
     "metadata": {},
     "output_type": "execute_result"
    }
   ],
   "source": [
    "boolean = False\n",
    "boolean == True"
   ]
  },
  {
   "cell_type": "markdown",
   "metadata": {},
   "source": [
    "Thus when using `if` or `while` statements you might sometimes see things like\n",
    "the following:"
   ]
  },
  {
   "cell_type": "code",
   "execution_count": 4,
   "metadata": {},
   "outputs": [
    {
     "data": {
      "text/plain": [
       "2"
      ]
     },
     "execution_count": 4,
     "metadata": {},
     "output_type": "execute_result"
    }
   ],
   "source": [
    "import random\n",
    "\n",
    "random.seed(4)\n",
    "selected_integer = random.randint(0, 10)\n",
    "number_of_selections = 1\n",
    "while (selected_integer % 2 == 1) == True:\n",
    "    selected_integer = random.randint(0, 10)\n",
    "    number_of_selections += 1\n",
    "number_of_selections"
   ]
  },
  {
   "cell_type": "markdown",
   "metadata": {},
   "source": [
    "However this is not as clear as writing:"
   ]
  },
  {
   "cell_type": "code",
   "execution_count": 5,
   "metadata": {},
   "outputs": [
    {
     "data": {
      "text/plain": [
       "2"
      ]
     },
     "execution_count": 5,
     "metadata": {},
     "output_type": "execute_result"
    }
   ],
   "source": [
    "import random\n",
    "\n",
    "random.seed(4)\n",
    "selected_integer = random.randint(0, 10)\n",
    "number_of_selections = 1\n",
    "while selected_integer % 2 == 1:\n",
    "    selected_integer = random.randint(0, 10)\n",
    "    number_of_selections += 1\n",
    "number_of_selections"
   ]
  }
 ],
 "metadata": {
  "jupytext": {
   "formats": "ipynb,md:myst"
  },
  "kernelspec": {
   "display_name": "Python 3",
   "language": "python",
   "name": "python3"
  },
  "language_info": {
   "codemirror_mode": {
    "name": "ipython",
    "version": 3
   },
   "file_extension": ".py",
   "mimetype": "text/x-python",
   "name": "python",
   "nbconvert_exporter": "python",
   "pygments_lexer": "ipython3",
   "version": "3.8.3"
  }
 },
 "nbformat": 4,
 "nbformat_minor": 4
}
