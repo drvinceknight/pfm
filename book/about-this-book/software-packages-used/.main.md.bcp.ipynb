{
 "cells": [
  {
   "cell_type": "markdown",
   "metadata": {},
   "source": [
    "# List of software packages used\n",
    "\n",
    "The following Python libraries and the specific versions are used in this book:"
   ]
  },
  {
   "cell_type": "code",
   "execution_count": 1,
   "metadata": {
    "tags": [
     "remove-input",
     "style-check-ignore",
     "nbval-ignore-output"
    ]
   },
   "outputs": [
    {
     "name": "stdout",
     "output_type": "stream",
     "text": [
      "jupyter version: 1.0.0\n",
      "matching version: 1.4\n",
      "matplotlib version: 3.3.4\n",
      "numpy version: 1.20.0\n",
      "scipy version: 1.6.0\n",
      "sympy version: 1.7.1\n"
     ]
    }
   ],
   "source": [
    "import pathlib\n",
    "from importlib.metadata import version, PackageNotFoundError\n",
    "\n",
    "requirements_path = pathlib.Path(\"../../../requirements.txt\")\n",
    "libraries = requirements_path.read_text().split(\"\\n\")\n",
    "\n",
    "for library in filter(lambda line: \"#\" not in line, libraries):\n",
    "    try:\n",
    "        print(f\"{library} version: {version(library)}\")\n",
    "    except PackageNotFoundError:\n",
    "        pass"
   ]
  }
 ],
 "metadata": {
  "jupytext": {
   "formats": "ipynb,md:myst"
  },
  "kernelspec": {
   "display_name": "Python 3",
   "language": "python",
   "name": "python3"
  },
  "language_info": {
   "codemirror_mode": {
    "name": "ipython",
    "version": 3
   },
   "file_extension": ".py",
   "mimetype": "text/x-python",
   "name": "python",
   "nbconvert_exporter": "python",
   "pygments_lexer": "ipython3",
   "version": "3.8.3"
  }
 },
 "nbformat": 4,
 "nbformat_minor": 4
}
