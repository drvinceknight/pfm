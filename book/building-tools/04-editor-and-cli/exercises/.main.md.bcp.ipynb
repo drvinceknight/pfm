{
 "cells": [
  {
   "cell_type": "markdown",
   "metadata": {},
   "source": [
    "# Exercises\n",
    "\n",
    "**After** completing the tutorial attempt the following exercises.\n",
    "\n",
    "**If you are not sure how to do something, have a look at the \"How To\" section.**\n",
    "\n",
    "1. Use the command line and a python script written in VScode to solve the\n",
    "   following problems:\n",
    "    1. Find the solutions to the following equation: $x ^ 2 - 3 x + 2 = 1$.\n",
    "    2. Differentiate the following function: $f(x) = \\cos(x) / 4$\n",
    "    3. Find the determinant of $A = \\begin{pmatrix} 1 / 5 & 1\\\\1 & 1\\end{pmatrix}$.\n",
    "    4. Count the number of ways of picking 2 letters from \"ABCD\" where order\n",
    "       does not matter.\n",
    "    5. Simulate the probability of picking a red token from a bag with 3 red\n",
    "       rokens, 5 blue tokens and a yellow token.\n",
    "    6. Obtain the first 5 terms of the sequence defined by:\n",
    "\n",
    "        $$\\left\\{\\begin{array}{l}\n",
    "            a_0 = 0,\\\\\n",
    "            a_1 = 2,\\\\ \n",
    "            a_n = 3 a_{n - 1} + a_{n - 2}, n \\geq 2\\end{array}\\right.\n",
    "        $$\n",
    "\n",
    "2. Use the REPL (read eval print loop) to carry out the following calculations:\n",
    "    1. $3 + 8$\n",
    "    2. $3 / 7$\n",
    "    3. $456 / 21$\n",
    "    4. $\\frac{4 ^ 3 + 2}{2\\times 5} - 5 ^ {\\frac{1}{2}}$\n",
    "\n",
    "3. Install the Python plugin for VScode.\n",
    "4. Install the `Markdown all in one` plugin for markdown in VScode.\n",
    "    1. Create a new file `main.md`.\n",
    "    2. Write some basic markdown in it.\n",
    "    3. Use the plugin to preview the rendered markdown."
   ]
  }
 ],
 "metadata": {
  "jupytext": {
   "formats": "ipynb,md:myst"
  },
  "kernelspec": {
   "display_name": "Python 3",
   "language": "python",
   "name": "python3"
  },
  "language_info": {
   "codemirror_mode": {
    "name": "ipython",
    "version": 3
   },
   "file_extension": ".py",
   "mimetype": "text/x-python",
   "name": "python",
   "nbconvert_exporter": "python",
   "pygments_lexer": "ipython3",
   "version": "3.8.3"
  }
 },
 "nbformat": 4,
 "nbformat_minor": 4
}
