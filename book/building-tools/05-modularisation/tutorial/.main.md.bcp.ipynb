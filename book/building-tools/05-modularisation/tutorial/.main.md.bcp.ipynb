{
 "cells": [
  {
   "cell_type": "markdown",
   "metadata": {},
   "source": [
    "(modularisation_tutorial)=\n",
    "# Tutorial\n",
    "\n",
    "We will here consider a specific problem of a general type. We will not\n",
    "concentrate too much on the writing of the code itself but instead concentrate\n",
    "on how we can write the code as software that will not only be used to solve the\n",
    "specific problem but will be able to be used for further problems of the same\n",
    "type.\n",
    "\n",
    "```{admonition} Problem\n",
    "Consider a Markov chain model of the Board Game \"Snakes and Ladders\":\n",
    "\n",
    "1. what is the shortest number of turns that are possible to win?\n",
    "2. what is the average number of turns?\n",
    "```\n",
    "\n",
    "To solve this problem we will make use of the Python library `numpy` which is\n",
    "discussed in the corresponding chapter: {ref}`numpy`. This library allows us\n",
    "carry out efficient numerical calculations.\n",
    "\n",
    "The problem we are considering is in fact an application of a mathematical\n",
    "object from probability called a Markov Chain which we will not go in to in\n",
    "detail here however the relevant ideas are that the probability of being in the\n",
    "100th square after $k$ turns can be written down as:\n",
    "\n",
    "$$\n",
    "    (\\pi P ^ k)_{100}\n",
    "$$\n",
    "\n",
    "where:\n",
    "\n",
    "$$\n",
    "\\pi = (\\underbrace{1, 0, \\dots, 0}_{100})\n",
    "$$\n",
    "\n",
    "and $P\\in\\mathbb{R}^{100 \\times 100}$ where $P_{ij}$ represents the probability\n",
    "of being in the $i$th square and going to the $j_th$ square after rolling the\n",
    "dice.\n",
    "\n",
    "There are snakes and ladders between the squares as given in Table\n",
    "{ref}`table:snakes_and_ladders`.\n",
    "\n",
    "```{list-table} Snakes and Ladders\n",
    ":header-rows: 1\n",
    ":name: table:snakes_and_ladders\n",
    "\n",
    "* - Snake or Ladder\n",
    "  - From\n",
    "  - To\n",
    "* - Ladder\n",
    "  - 3\n",
    "  - 19\n",
    "* - Ladder\n",
    "  - 15\n",
    "  - 37\n",
    "* - Ladder\n",
    "  - 22\n",
    "  - 42\n",
    "* - Ladder\n",
    "  - 25\n",
    "  - 64\n",
    "* - Ladder\n",
    "  - 41\n",
    "  - 73\n",
    "* - Ladder\n",
    "  - 53\n",
    "  - 74\n",
    "* - Ladder\n",
    "  - 63\n",
    "  - 86\n",
    "* - Ladder\n",
    "  - 76\n",
    "  - 91\n",
    "* - Ladder\n",
    "  - 84\n",
    "  - 98\n",
    "* - Snake\n",
    "  - 11\n",
    "  - 7\n",
    "* - Snake\n",
    "  - 18\n",
    "  - 13\n",
    "* - Snake\n",
    "  - 28\n",
    "  - 12\n",
    "* - Snake\n",
    "  - 36\n",
    "  - 34\n",
    "* - Snake\n",
    "  - 77\n",
    "  - 16\n",
    "* - Snake\n",
    "  - 47\n",
    "  - 26\n",
    "* - Snake\n",
    "  - 83\n",
    "  - 39\n",
    "* - Snake\n",
    "  - 92\n",
    "  - 75\n",
    "* - Snake\n",
    "  - 99\n",
    "  - 70\n",
    "```\n",
    "\n",
    "The matrix $P$ will look like:\n",
    "\n",
    "$$\n",
    "P = \\begin{pmatrix}\n",
    "0      & 1/6 & 1/6 & 0 & 1/6    & 1/6    & 1/6    & 0      & 0      & \\dots  &0\\\\\n",
    "0      & 0   & 1/6 & 0 & 1/6    & 1/6    & 1/6    & 1/6    & 0      & \\dots  & 0\\\\\n",
    "\\vdots & 0   & 0   & 0 & \\ddots & \\ddots & \\ddots & \\ddots & \\ddots & \\ddots    & \\vdots\\\\\n",
    "0      & 0   & 0   & 0 & 0      & 0      & 0      & \\dots  & 0      & 0      & 1\\\\\n",
    "\\end{pmatrix}\n",
    "$$\n",
    "\n",
    "Note that because of the ladder on square 3: $P_{14}=0$ and $P_{1, 20}=1/6$. The\n",
    "first row/column of $P$ corresponds to the state of not being on the board.\n",
    "\n",
    "A `csv` file containing this matrix $P$ can be found at\n",
    "[10.5281/zenodo.4236275](https://zenodo.org/record/4236275).\n",
    "\n",
    "To be able to answer the first question we will write a function to compute $\\pi\n",
    "P ^ k$ for arbitrary $\\pi$, $k$ and $P$:"
   ]
  },
  {
   "cell_type": "code",
   "execution_count": 1,
   "metadata": {},
   "outputs": [],
   "source": [
    "def get_long_run_state(pi, k, P):\n",
    "    \"\"\"\n",
    "    For a Markov chain with transition matrix P and starting state vector pi,\n",
    "    obtain the state distribution after k steps.\n",
    "    \"\"\"\n",
    "    return pi @ np.linalg.matrix_power(P, k)"
   ]
  },
  {
   "cell_type": "markdown",
   "metadata": {},
   "source": [
    "For the second question we are going make use of a theoretic result which is\n",
    "that if $P$ is of the form:\n",
    "\n",
    "$$\n",
    "P = \\begin{pmatrix}\n",
    "        Q & R \\\\\n",
    "        0 & I\n",
    "    \\end{pmatrix}\n",
    "$$\n",
    "\n",
    "In this case the _fundamental matrix_ is defined by:\n",
    "\n",
    "$$\n",
    "    N = (I - Q) ^ {- 1}\n",
    "$$\n",
    "\n",
    "The fundamental matrix of an absorbing Markov chains has a number of potential\n",
    "applications. One of which is to calculate\n",
    "the expected number of steps for the Markov chain to be absorbed given by:\n",
    "\n",
    "$$\n",
    "    t = N\\mathbb{1}\n",
    "$$\n",
    "\n",
    "where $\\mathbb{1}$ is a column of 1s.\n",
    "\n",
    "To be able to code this we want to write a function to compute $t$ but this\n",
    "requires \"extracting\" $Q$ from $P$:"
   ]
  },
  {
   "cell_type": "code",
   "execution_count": 2,
   "metadata": {},
   "outputs": [],
   "source": [
    "def compute_t(P):\n",
    "    \"\"\"\n",
    "    For an absorbing Markov chain with transition rate matrix this computes the\n",
    "    vector t which gives the expected number of steps until absorption.\n",
    "\n",
    "    Note that this does not assume P is in the required format.\n",
    "    \"\"\"\n",
    "    indices_without_1_in_diagonal = np.where(P.diagonal() != 1)[0]\n",
    "    Q = P[indices_without_1_in_diagonal.reshape(-1, 1), indices_without_1_in_diagonal]\n",
    "\n",
    "    number_of_rows, _ = Q.shape\n",
    "    N = np.linalg.inv(np.eye(number_of_rows) - Q)\n",
    "    return N @ np.ones(number_of_rows)"
   ]
  },
  {
   "cell_type": "markdown",
   "metadata": {},
   "source": [
    "We are in fact going to modularise that function. It does 3 things:\n",
    "\n",
    "- Extracts the matrix $Q$ from $P$;\n",
    "- Computes $N$;\n",
    "- Computes $t$.\n",
    "\n",
    "All of those tasks could be useful in their own right so we are going to break\n",
    "up that function in to three separate functions:"
   ]
  },
  {
   "cell_type": "code",
   "execution_count": 3,
   "metadata": {},
   "outputs": [],
   "source": [
    "def extract_Q(P):\n",
    "    \"\"\"\n",
    "    For an absorbing Markov chain with transition rate matrix P this computes the\n",
    "    matrix Q.\n",
    "\n",
    "    Note that this does not assume that P is in the required format. It\n",
    "    identifies the rows and columns that have a 1 in the diagonal and removes\n",
    "    them.\n",
    "    \"\"\"\n",
    "    indices_without_1_in_diagonal = np.where(P.diagonal() != 1)[0]\n",
    "    Q = P[indices_without_1_in_diagonal.reshape(-1, 1), indices_without_1_in_diagonal]\n",
    "    return Q\n",
    "\n",
    "\n",
    "def compute_N(Q):\n",
    "    \"\"\"\n",
    "    For an absorbing Markov chain with transition rate matrix P that gives\n",
    "    matrix Q this computes the fundamental matrix N.\n",
    "    \"\"\"\n",
    "    number_of_rows, _ = Q.shape\n",
    "    N = np.linalg.inv(np.eye(number_of_rows) - Q)\n",
    "    return N"
   ]
  },
  {
   "cell_type": "markdown",
   "metadata": {},
   "source": [
    "This now allows us to redefine `compute_t` in a simpler way:"
   ]
  },
  {
   "cell_type": "code",
   "execution_count": 4,
   "metadata": {},
   "outputs": [],
   "source": [
    "def compute_t(P):\n",
    "    \"\"\"\n",
    "    For an absorbing Markov chain with transition rate matrix this computes the\n",
    "    vector t which gives the expected number of steps until absorption.\n",
    "\n",
    "    Note that this does not assume P is in the required format.\n",
    "    \"\"\"\n",
    "    Q = extract_Q(P)\n",
    "    N = compute_N(Q)\n",
    "    number_of_rows, _ = Q.shape\n",
    "    return N @ np.ones(number_of_rows)"
   ]
  },
  {
   "cell_type": "markdown",
   "metadata": {},
   "source": [
    "```{attention}\n",
    "All the code we have written so far is generic in nature so would be better\n",
    "placed somewhere that it can be used for different project.\n",
    "```\n",
    "\n",
    "We are going to put these three functions (and the necessary `import numpy as\n",
    "np` statement) in an `absorption.py` file as can be seen in\n",
    "{ref}`fig:absorption.py` and save it in a directory called `snakes_and_ladders`.\n",
    "\n",
    "```{figure} ./img/absorption.py/main.png\n",
    "---\n",
    "width: 75%\n",
    "name: fig:absorption.py\n",
    "---\n",
    "The three modularised functions in a python file.\n",
    "```\n",
    "\n",
    "We will now use everything we have done so far:\n",
    "\n",
    "- Download, and extract the data available at\n",
    "  [10.5281/zenodo.4236275](https://zenodo.org/record/4236275). Put the\n",
    "  `main.csv` file in the `snakes_and_ladders` directory\n",
    "- Open a Jupyter notebook and call it `main.ipynb` also in the\n",
    "  `snakes_and_ladders` directory.\n",
    "\n",
    "This should look like the following:\n",
    "\n",
    "```\n",
    "snakes_and_ladders/\n",
    "    |--- absorption.py\n",
    "    |--- main.csv\n",
    "    |--- main.ipynb\n",
    "```\n",
    "\n",
    "We can now use all of the code we have written in the notebook, first we can\n",
    "import the functions in `absorption.py` like any other python library:"
   ]
  },
  {
   "cell_type": "code",
   "execution_count": 5,
   "metadata": {},
   "outputs": [],
   "source": [
    "import absorption"
   ]
  },
  {
   "cell_type": "markdown",
   "metadata": {},
   "source": [
    "We will also import `numpy` and use it to read the data file:"
   ]
  },
  {
   "cell_type": "code",
   "execution_count": 6,
   "metadata": {},
   "outputs": [],
   "source": [
    "import numpy as np\n",
    "\n",
    "P = np.loadtxt(\"main.csv\", delimiter=\",\")"
   ]
  },
  {
   "cell_type": "markdown",
   "metadata": {},
   "source": [
    "```{attention}\n",
    "The above commands work because the 3 files are all in the same directory.\n",
    "```\n",
    "\n",
    "Now to compute the shortest number of turns:"
   ]
  },
  {
   "cell_type": "code",
   "execution_count": 7,
   "metadata": {},
   "outputs": [
    {
     "data": {
      "text/plain": [
       "6"
      ]
     },
     "execution_count": 7,
     "metadata": {},
     "output_type": "execute_result"
    }
   ],
   "source": [
    "k = 1\n",
    "pi = np.zeros(101)\n",
    "pi[0] = 1\n",
    "while absorption.get_long_run_state(pi, k, P)[-1] == 0:\n",
    "    k += 1\n",
    "k"
   ]
  },
  {
   "cell_type": "markdown",
   "metadata": {},
   "source": [
    "We see that it is possible to arrive at the last square in 6 turns.\n",
    "\n",
    "Now to compute the average length of the game:"
   ]
  },
  {
   "cell_type": "code",
   "execution_count": 8,
   "metadata": {
    "tags": [
     "nbval-ignore-output"
    ]
   },
   "outputs": [
    {
     "data": {
      "text/plain": [
       "43.49196169497175"
      ]
     },
     "execution_count": 8,
     "metadata": {},
     "output_type": "execute_result"
    }
   ],
   "source": [
    "t = absorption.compute_t(P)\n",
    "t[0]"
   ]
  }
 ],
 "metadata": {
  "jupytext": {
   "formats": "ipynb,md:myst"
  },
  "kernelspec": {
   "display_name": "Python 3",
   "language": "python",
   "name": "python3"
  },
  "language_info": {
   "codemirror_mode": {
    "name": "ipython",
    "version": 3
   },
   "file_extension": ".py",
   "mimetype": "text/x-python",
   "name": "python",
   "nbconvert_exporter": "python",
   "pygments_lexer": "ipython3",
   "version": "3.8.3"
  }
 },
 "nbformat": 4,
 "nbformat_minor": 4
}
