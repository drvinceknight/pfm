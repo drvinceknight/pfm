{
 "cells": [
  {
   "cell_type": "markdown",
   "metadata": {},
   "source": [
    "# How\n",
    "\n",
    "## How to define a class \n",
    "\n",
    "We define a class using the `class` keyword:\n",
    "\n",
    "\n",
    "````{tip}\n",
    "```\n",
    "class Name:\n",
    "    \"\"\"\n",
    "    A docstring between triple quotation to describe what the class represents\n",
    "    \"\"\"\n",
    "    INDENTED BLOCKS OF CODE\n",
    "```\n",
    "````\n",
    "\n",
    "For example to create a class for a country:"
   ]
  },
  {
   "cell_type": "code",
   "execution_count": 1,
   "metadata": {},
   "outputs": [],
   "source": [
    "class Country:\n",
    "    \"\"\"\n",
    "    A class to represent a country\n",
    "    \"\"\""
   ]
  },
  {
   "cell_type": "markdown",
   "metadata": {},
   "source": [
    "## How to create an instance of the class\n",
    "\n",
    "Once a class is defined we call it using the `()`:\n",
    "\n",
    "````{tip}\n",
    "```\n",
    "Name()\n",
    "```\n",
    "````\n",
    "\n",
    "For example:"
   ]
  },
  {
   "cell_type": "code",
   "execution_count": 2,
   "metadata": {
    "tags": [
     "nbval-ignore-output"
    ]
   },
   "outputs": [
    {
     "data": {
      "text/plain": [
       "<__main__.Country at 0x7fc8fc4f81f0>"
      ]
     },
     "execution_count": 2,
     "metadata": {},
     "output_type": "execute_result"
    }
   ],
   "source": [
    "first_country = Country()\n",
    "first_country"
   ]
  },
  {
   "cell_type": "code",
   "execution_count": 3,
   "metadata": {
    "tags": [
     "nbval-ignore-output"
    ]
   },
   "outputs": [
    {
     "data": {
      "text/plain": [
       "<__main__.Country at 0x7fc8fc4f8910>"
      ]
     },
     "execution_count": 3,
     "metadata": {},
     "output_type": "execute_result"
    }
   ],
   "source": [
    "second_country = Country()\n",
    "second_country"
   ]
  },
  {
   "cell_type": "markdown",
   "metadata": {},
   "source": [
    "The at … is a pointer to the location of the instance in memory. If you re run\n",
    "the code that location will change.\n",
    "\n",
    "## How to create an attribute\n",
    "\n",
    "Attributes are variables that belong to instances of classes. There can be\n",
    "created and accessed using `.name_of_variable`.\n",
    "\n",
    "For example, the following creates the attributes:"
   ]
  },
  {
   "cell_type": "code",
   "execution_count": 4,
   "metadata": {},
   "outputs": [],
   "source": [
    "first_country.name = \"Narnia\"\n",
    "first_country.amount_of_magic = 500"
   ]
  },
  {
   "cell_type": "markdown",
   "metadata": {},
   "source": [
    "We can access them:"
   ]
  },
  {
   "cell_type": "code",
   "execution_count": 5,
   "metadata": {},
   "outputs": [
    {
     "data": {
      "text/plain": [
       "'Narnia'"
      ]
     },
     "execution_count": 5,
     "metadata": {},
     "output_type": "execute_result"
    }
   ],
   "source": [
    "first_country.name"
   ]
  },
  {
   "cell_type": "code",
   "execution_count": 6,
   "metadata": {},
   "outputs": [
    {
     "data": {
      "text/plain": [
       "500"
      ]
     },
     "execution_count": 6,
     "metadata": {},
     "output_type": "execute_result"
    }
   ],
   "source": [
    "first_country.amount_of_magic"
   ]
  },
  {
   "cell_type": "markdown",
   "metadata": {},
   "source": [
    "We can manipulate them in place:"
   ]
  },
  {
   "cell_type": "code",
   "execution_count": 7,
   "metadata": {},
   "outputs": [
    {
     "data": {
      "text/plain": [
       "600"
      ]
     },
     "execution_count": 7,
     "metadata": {},
     "output_type": "execute_result"
    }
   ],
   "source": [
    "first_country.amount_of_magic += 100\n",
    "first_country.amount_of_magic"
   ]
  },
  {
   "cell_type": "markdown",
   "metadata": {},
   "source": [
    "## How to create and call a method\n",
    "\n",
    "Methods are functions that belong to classes. We define a function using the\n",
    "`def` keyword (short for define). The first variable of a method is always the\n",
    "specific instance that will call the method (it is passed implicitly).\n",
    "\n",
    "````{tip}\n",
    "```\n",
    "class Name:\n",
    "    \"\"\"\n",
    "    A docstring between triple quotation to describe what the class represents\n",
    "    \"\"\"\n",
    "    def name(self, variable1, variable2, …):\n",
    "        \"\"\"\n",
    "        A docstring between triple quotation to describe what is happening\n",
    "        \"\"\"\n",
    "        INDENTED BLOCK OF CODE\n",
    "        return output\n",
    "```\n",
    "````\n",
    "\n",
    "For example let us create a class for a country that has the ability to \"spend\"\n",
    "magic:"
   ]
  },
  {
   "cell_type": "code",
   "execution_count": 8,
   "metadata": {},
   "outputs": [],
   "source": [
    "class Country:\n",
    "    \"\"\"\n",
    "    A class to represent a country\n",
    "    \"\"\"\n",
    "\n",
    "    def spend_magic(self, amount_spent):\n",
    "        \"\"\"Updates the magic attribute by subtracting amount_spent\"\"\"\n",
    "        self.amount_of_magic -= amount_spent"
   ]
  },
  {
   "cell_type": "markdown",
   "metadata": {},
   "source": [
    "Now we can use it:"
   ]
  },
  {
   "cell_type": "code",
   "execution_count": 9,
   "metadata": {},
   "outputs": [
    {
     "data": {
      "text/plain": [
       "400"
      ]
     },
     "execution_count": 9,
     "metadata": {},
     "output_type": "execute_result"
    }
   ],
   "source": [
    "first_country = Country()\n",
    "first_country.name = \"Narnia\"\n",
    "first_country.amount_of_magic = 500\n",
    "first_country.spend_magic(amount_spent=100)\n",
    "first_country.amount_of_magic"
   ]
  },
  {
   "cell_type": "markdown",
   "metadata": {},
   "source": [
    "```{attention}\n",
    "Even though the method is defined as taking two variables as inputs: `self` and\n",
    "`amount_spent` we only have to explicitly pass it `amount_spent`. The first\n",
    "variable in a method definition always corresponds to the instance on which the\n",
    "method exists.\n",
    "```\n",
    "\n",
    "(how_to_create_and_call_magic_methods)=\n",
    "## How to create and call magic methods\n",
    "\n",
    "Some methods can be called in certain situations:\n",
    "\n",
    "- When creating an instance.\n",
    "- When wanting to display an instance.\n",
    "\n",
    "This are referred to as dunder methods as they are all in between two\n",
    "underscores: `__`.\n",
    "\n",
    "The method that is called when an instance is created is called `__init__` (for\n",
    "initialised). For example:"
   ]
  },
  {
   "cell_type": "code",
   "execution_count": 10,
   "metadata": {},
   "outputs": [],
   "source": [
    "class Country:\n",
    "    \"\"\"\n",
    "    A class to represent a country\n",
    "    \"\"\"\n",
    "\n",
    "    def __init__(self, name, amount_of_magic):\n",
    "        self.name = name\n",
    "        self.amount_of_magic = amount_of_magic"
   ]
  },
  {
   "cell_type": "markdown",
   "metadata": {},
   "source": [
    "Now instead of creating an instance and then creating the attributes we can do\n",
    "those two things at the same time, by passing the variables to the class itself\n",
    "(which in turn passes them to the `__init__` method):"
   ]
  },
  {
   "cell_type": "code",
   "execution_count": 11,
   "metadata": {},
   "outputs": [
    {
     "data": {
      "text/plain": [
       "'Narnia'"
      ]
     },
     "execution_count": 11,
     "metadata": {},
     "output_type": "execute_result"
    }
   ],
   "source": [
    "first_country = Country(\"Narnia\", 500)\n",
    "first_country.name"
   ]
  },
  {
   "cell_type": "code",
   "execution_count": 12,
   "metadata": {},
   "outputs": [
    {
     "data": {
      "text/plain": [
       "500"
      ]
     },
     "execution_count": 12,
     "metadata": {},
     "output_type": "execute_result"
    }
   ],
   "source": [
    "first_country.amount_of_magic"
   ]
  },
  {
   "cell_type": "markdown",
   "metadata": {},
   "source": [
    "The method that returns a representation of an instance is `__repr__`. For\n",
    "example:"
   ]
  },
  {
   "cell_type": "code",
   "execution_count": 13,
   "metadata": {},
   "outputs": [],
   "source": [
    "class Country:\n",
    "    \"\"\"\n",
    "    A class to represent a country\n",
    "    \"\"\"\n",
    "\n",
    "    def __init__(self, name, amount_of_magic):\n",
    "        self.name = name\n",
    "        self.amount_of_magic = amount_of_magic\n",
    "\n",
    "    def __repr__(self):\n",
    "        \"\"\"Returns a string representation of the instance\"\"\"\n",
    "        return f\"{self.name} with {self.amount_of_magic} magic.\""
   ]
  },
  {
   "cell_type": "code",
   "execution_count": 14,
   "metadata": {},
   "outputs": [
    {
     "data": {
      "text/plain": [
       "Narnia with 500 magic."
      ]
     },
     "execution_count": 14,
     "metadata": {},
     "output_type": "execute_result"
    }
   ],
   "source": [
    "first_country = Country(\"Narnia\", 500)\n",
    "first_country"
   ]
  },
  {
   "cell_type": "markdown",
   "metadata": {},
   "source": [
    "There are numerous other magic methods, such as the `__add__` one used in\n",
    "{ref}`objects_tutorial`.\n",
    "\n",
    "(how_to_use_inheritance)=\n",
    "## How to use inheritance\n",
    "\n",
    "Inheritance is a tool that allows us to create one class based on another. This\n",
    "is done by passing the `Old` class to the `New` class.\n",
    "\n",
    "````{tip}\n",
    "```\n",
    "class New(Old)\n",
    "```\n",
    "````\n",
    "\n",
    "For example let us create a class of `MuggleCountry` that overwrites the\n",
    "`__init__` method but keeps the `__rep__` method of the `Country` class written\n",
    "in {ref}`how_to_create_and_call_magic_methods`:"
   ]
  },
  {
   "cell_type": "code",
   "execution_count": 15,
   "metadata": {},
   "outputs": [],
   "source": [
    "class MuggleCountry(Country):\n",
    "    \"\"\"\n",
    "    A class to represent a country with no magic. It only requires the name on\n",
    "    initialisation.\n",
    "    \"\"\"\n",
    "\n",
    "    def __init__(self, name):\n",
    "        self.name = name\n",
    "        self.amount_of_magic = 0"
   ]
  },
  {
   "cell_type": "markdown",
   "metadata": {},
   "source": [
    "This has replaced the `__init__` method but the `__repr__` method is the same:"
   ]
  },
  {
   "cell_type": "code",
   "execution_count": 16,
   "metadata": {},
   "outputs": [
    {
     "data": {
      "text/plain": [
       "Wales with 0 magic."
      ]
     },
     "execution_count": 16,
     "metadata": {},
     "output_type": "execute_result"
    }
   ],
   "source": [
    "other_country = MuggleCountry(\"Wales\")\n",
    "other_country"
   ]
  }
 ],
 "metadata": {
  "jupytext": {
   "formats": "ipynb,md:myst"
  },
  "kernelspec": {
   "display_name": "Python 3",
   "language": "python",
   "name": "python3"
  },
  "language_info": {
   "codemirror_mode": {
    "name": "ipython",
    "version": 3
   },
   "file_extension": ".py",
   "mimetype": "text/x-python",
   "name": "python",
   "nbconvert_exporter": "python",
   "pygments_lexer": "ipython3",
   "version": "3.8.3"
  }
 },
 "nbformat": 4,
 "nbformat_minor": 4
}
