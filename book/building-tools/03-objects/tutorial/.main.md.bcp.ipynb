{
 "cells": [
  {
   "cell_type": "markdown",
   "metadata": {},
   "source": [
    "(objects_tutorial)=\n",
    "# Tutorial\n",
    "\n",
    "We will here write some code to create and manipulate quadratic expressions.\n",
    "With `sympy` this is not necessary as all functionality required is available\n",
    "within `sympy` however this will be a good exercise in understanding how to\n",
    "build such functionality.\n",
    "\n",
    "```{admonition} Problem\n",
    "Consider the following quadratics:\n",
    "\n",
    "$$\n",
    "f(x) = 5 x ^ 2 + 2 x + 7\\\\\n",
    "g(x) = 4 x ^ 2 - 3 x + 12\\\\\n",
    "h(x) = f(x) + g(x)\n",
    "$$\n",
    "\n",
    "Without using `sympy`, obtain the roots for all the quadratics.\n",
    "```\n",
    "\n",
    "We will start by defining an object to represent a quadratic. This is called a\n",
    "class."
   ]
  },
  {
   "cell_type": "code",
   "execution_count": 1,
   "metadata": {},
   "outputs": [],
   "source": [
    "import math\n",
    "\n",
    "\n",
    "class QuadraticExpression:\n",
    "    \"\"\"A class for a quadratic expression\"\"\"\n",
    "\n",
    "    def __init__(self, a, b, c):\n",
    "        self.a = a\n",
    "        self.b = b\n",
    "        self.c = c\n",
    "        self.discriminant = self.b ** 2 - 4 * self.a * self.c\n",
    "\n",
    "    def get_roots(self):\n",
    "        \"\"\"Return the real valued roots of the quadratic expression\"\"\"\n",
    "        if self.discriminant >= 0:\n",
    "            x1 = -(self.b + math.sqrt(self.discriminant)) / (2 * self.a)\n",
    "            x2 = -(self.b - math.sqrt(self.discriminant)) / (2 * self.a)\n",
    "            return x1, x2\n",
    "        return ()\n",
    "\n",
    "    def __add__(self, other):\n",
    "        \"\"\"A magic method: let's us have addition between expressions\"\"\"\n",
    "        return QuadraticExpression(self.a + other.a, self.b + other.b, self.c + other.c)\n",
    "\n",
    "    def __repr__(self):\n",
    "        \"\"\"A magic method: changes the default way an instance is displayed\"\"\"\n",
    "        return f\"Quadratic expression: {self.a} x ^ 2 + {self.b} x + {self.c}\""
   ]
  },
  {
   "cell_type": "markdown",
   "metadata": {},
   "source": [
    "```{tip}\n",
    "Four functions were created with this class:\n",
    "\n",
    "- `__init__`: as this is surrounded by `__` (two underscores) this is a magic\n",
    "  function that is run when we create an instance of our class.\n",
    "- `root`: this returns the two real valued roots if the discriminant is\n",
    "  positive.\n",
    "- `__add__`: another magic function that is run when the `+` operator is used.\n",
    "- `__repr__`: another magic function that gives the string representation of the\n",
    "  instance.\n",
    "```\n",
    "\n",
    "Let us now use this class to solve the specified problem. First we create\n",
    "instances the class that correspond to $f$ and $g$. This is using the `__init__`\n",
    "function in the background."
   ]
  },
  {
   "cell_type": "code",
   "execution_count": 2,
   "metadata": {},
   "outputs": [],
   "source": [
    "f = QuadraticExpression(a=5, b=2, c=-7)\n",
    "g = QuadraticExpression(a=-4, b=-3, c=12)"
   ]
  },
  {
   "cell_type": "markdown",
   "metadata": {},
   "source": [
    "We can now take a look at both of these instances. This is using the `__repr__`\n",
    "function in the background:"
   ]
  },
  {
   "cell_type": "code",
   "execution_count": 3,
   "metadata": {},
   "outputs": [
    {
     "data": {
      "text/plain": [
       "Quadratic expression: 5 x ^ 2 + 2 x + -7"
      ]
     },
     "execution_count": 3,
     "metadata": {},
     "output_type": "execute_result"
    }
   ],
   "source": [
    "f"
   ]
  },
  {
   "cell_type": "code",
   "execution_count": 4,
   "metadata": {},
   "outputs": [
    {
     "data": {
      "text/plain": [
       "Quadratic expression: -4 x ^ 2 + -3 x + 12"
      ]
     },
     "execution_count": 4,
     "metadata": {},
     "output_type": "execute_result"
    }
   ],
   "source": [
    "g"
   ]
  },
  {
   "cell_type": "markdown",
   "metadata": {},
   "source": [
    "Now we are going to create $h(x) = f(x) + g(x)$. This is using the `__add__`\n",
    "function in the background:"
   ]
  },
  {
   "cell_type": "code",
   "execution_count": 5,
   "metadata": {},
   "outputs": [
    {
     "data": {
      "text/plain": [
       "Quadratic expression: 1 x ^ 2 + -1 x + 5"
      ]
     },
     "execution_count": 5,
     "metadata": {},
     "output_type": "execute_result"
    }
   ],
   "source": [
    "h = f + g\n",
    "h"
   ]
  },
  {
   "cell_type": "markdown",
   "metadata": {},
   "source": [
    "We can now iterate over our quadratics and find the roots. This is using the\n",
    "`get_root` function in the background:"
   ]
  },
  {
   "cell_type": "code",
   "execution_count": 6,
   "metadata": {
    "tags": [
     "nbval-ignore-output"
    ]
   },
   "outputs": [
    {
     "data": {
      "text/plain": [
       "[(-1.4, 1.0), (1.3971808598447282, -2.1471808598447284), ()]"
      ]
     },
     "execution_count": 6,
     "metadata": {},
     "output_type": "execute_result"
    }
   ],
   "source": [
    "roots = [quadratic.get_roots() for quadratic in (f, g, h)]\n",
    "roots"
   ]
  },
  {
   "cell_type": "markdown",
   "metadata": {},
   "source": [
    "We see that $f$ and $g$ have real valued roots but $h$ does not. We can check\n",
    "the value of the discriminant of $h$:"
   ]
  },
  {
   "cell_type": "code",
   "execution_count": 7,
   "metadata": {},
   "outputs": [
    {
     "data": {
      "text/plain": [
       "-19"
      ]
     },
     "execution_count": 7,
     "metadata": {},
     "output_type": "execute_result"
    }
   ],
   "source": [
    "h.discriminant"
   ]
  },
  {
   "cell_type": "markdown",
   "metadata": {},
   "source": [
    "We are going to now create a new class from `QuadraticExpression` where we\n",
    "replace the `get_roots` function with a new one that can handle imaginary roots\n",
    "and update the `__add__` function to make sure we return an instance of the new\n",
    "class."
   ]
  },
  {
   "cell_type": "code",
   "execution_count": 8,
   "metadata": {},
   "outputs": [],
   "source": [
    "class QuadraticExpressionWithAllRoots(QuadraticExpression):\n",
    "    \"\"\"\n",
    "    A class for a quadratic expression that can return imaginary roots\n",
    "\n",
    "    The `get_roots` function returns two tuples of the form (re, im) where re is\n",
    "    the real part and im is the imaginary part.\n",
    "    \"\"\"\n",
    "\n",
    "    def get_roots(self):\n",
    "        \"\"\"Return the real valued roots of the quadratic expression\"\"\"\n",
    "        if self.discriminant >= 0:\n",
    "            x1 = -(self.b + math.sqrt(self.discriminant)) / (2 * self.a)\n",
    "            x2 = -(self.b - math.sqrt(self.discriminant)) / (2 * self.a)\n",
    "            return (x1, 0), (x2, 0)\n",
    "\n",
    "        real_part = self.b / (2 * self.a)\n",
    "        im1 = math.sqrt(-self.discriminant) / (2 * self.a)\n",
    "        im2 = -math.sqrt(-self.discriminant) / (2 * self.a)\n",
    "        return ((real_part, im1), (real_part, im2))\n",
    "\n",
    "    def __add__(self, other):\n",
    "        \"\"\"A special method: let's us have addition between expressions\"\"\"\n",
    "        return QuadraticExpressionWithAllRoots(\n",
    "            self.a + other.a, self.b + other.b, self.c + other.c\n",
    "        )"
   ]
  },
  {
   "cell_type": "markdown",
   "metadata": {},
   "source": [
    "Now let us define our quadratics once again but using this new class:"
   ]
  },
  {
   "cell_type": "code",
   "execution_count": 9,
   "metadata": {},
   "outputs": [],
   "source": [
    "f = QuadraticExpressionWithAllRoots(a=5, b=2, c=-7)\n",
    "g = QuadraticExpressionWithAllRoots(a=-4, b=-3, c=12)\n",
    "h = f + g"
   ]
  },
  {
   "cell_type": "code",
   "execution_count": 10,
   "metadata": {},
   "outputs": [
    {
     "data": {
      "text/plain": [
       "Quadratic expression: 5 x ^ 2 + 2 x + -7"
      ]
     },
     "execution_count": 10,
     "metadata": {},
     "output_type": "execute_result"
    }
   ],
   "source": [
    "f"
   ]
  },
  {
   "cell_type": "code",
   "execution_count": 11,
   "metadata": {},
   "outputs": [
    {
     "data": {
      "text/plain": [
       "Quadratic expression: -4 x ^ 2 + -3 x + 12"
      ]
     },
     "execution_count": 11,
     "metadata": {},
     "output_type": "execute_result"
    }
   ],
   "source": [
    "g"
   ]
  },
  {
   "cell_type": "code",
   "execution_count": 12,
   "metadata": {},
   "outputs": [
    {
     "data": {
      "text/plain": [
       "Quadratic expression: 1 x ^ 2 + -1 x + 5"
      ]
     },
     "execution_count": 12,
     "metadata": {},
     "output_type": "execute_result"
    }
   ],
   "source": [
    "h"
   ]
  },
  {
   "cell_type": "markdown",
   "metadata": {},
   "source": [
    "````{attention}\n",
    "We have not needed to redefine `__init__`, or `__repr__` as the new\n",
    "class inherits these from `QuadraticExpression` due to this statement:\n",
    "\n",
    "```\n",
    "class QuadraticExpressionWithAllRoots(QuadraticExpression):\n",
    "```\n",
    "````\n",
    "\n",
    "We can now get all the roots for both quadratics:"
   ]
  },
  {
   "cell_type": "code",
   "execution_count": 13,
   "metadata": {
    "tags": [
     "nbval-ignore-output"
    ]
   },
   "outputs": [
    {
     "data": {
      "text/plain": [
       "[((-1.4, 0), (1.0, 0)),\n",
       " ((1.3971808598447282, 0), (-2.1471808598447284, 0)),\n",
       " ((-0.5, 2.179449471770337), (-0.5, -2.179449471770337))]"
      ]
     },
     "execution_count": 13,
     "metadata": {},
     "output_type": "execute_result"
    }
   ],
   "source": [
    "roots = [quadratic.get_roots() for quadratic in (f, g, h)]\n",
    "roots"
   ]
  }
 ],
 "metadata": {
  "jupytext": {
   "formats": "ipynb,md:myst"
  },
  "kernelspec": {
   "display_name": "Python 3",
   "language": "python",
   "name": "python3"
  },
  "language_info": {
   "codemirror_mode": {
    "name": "ipython",
    "version": 3
   },
   "file_extension": ".py",
   "mimetype": "text/x-python",
   "name": "python",
   "nbconvert_exporter": "python",
   "pygments_lexer": "ipython3",
   "version": "3.8.3"
  }
 },
 "nbformat": 4,
 "nbformat_minor": 4
}
