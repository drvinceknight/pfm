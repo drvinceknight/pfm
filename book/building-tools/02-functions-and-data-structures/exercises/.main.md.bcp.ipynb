{
 "cells": [
  {
   "cell_type": "markdown",
   "metadata": {},
   "source": [
    "# Exercises\n",
    "\n",
    "**After** completing the tutorial attempt the following exercises.\n",
    "\n",
    "**If you are not sure how to do something, have a look at the \"How To\" section.**\n",
    "\n",
    "1. Write a function that generates $n!$.\n",
    "2. Write a function that generates the $n$th triangular numbers defined by:\n",
    "\n",
    "    $$\n",
    "        T_n = \\frac{n(n+1)}{2}\n",
    "    $$\n",
    "3. Verify the following that the following identify holds for $n\\leq 500$:\n",
    "\n",
    "    $$\n",
    "        \\sum_{i=0}^n T_i = \\frac{n(n+1)(n+2)}{6}\n",
    "    $$\n",
    "4. Consider the [Monty Hall\n",
    "   problem](https://en.wikipedia.org/wiki/Monty_Hall_problem):\n",
    "   1. Write a function that simulates the play of the game when you 'stick' with\n",
    "      the initial choice.\n",
    "   2. Write a function that simulates the play of the game when you 'change'\n",
    "      your choice.\n",
    "   3. Repeat the play of the game using both those functions and compare the\n",
    "      probability of winning."
   ]
  }
 ],
 "metadata": {
  "jupytext": {
   "formats": "ipynb,md:myst"
  },
  "kernelspec": {
   "display_name": "Python 3",
   "language": "python",
   "name": "python3"
  },
  "language_info": {
   "codemirror_mode": {
    "name": "ipython",
    "version": 3
   },
   "file_extension": ".py",
   "mimetype": "text/x-python",
   "name": "python",
   "nbconvert_exporter": "python",
   "pygments_lexer": "ipython3",
   "version": "3.8.3"
  }
 },
 "nbformat": 4,
 "nbformat_minor": 4
}
