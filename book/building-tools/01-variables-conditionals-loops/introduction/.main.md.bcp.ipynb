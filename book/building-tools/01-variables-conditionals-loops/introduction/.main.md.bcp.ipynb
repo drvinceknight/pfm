{
 "cells": [
  {
   "cell_type": "markdown",
   "metadata": {},
   "source": [
    "# Variables, conditionals and loops\n",
    "\n",
    "In the previous chapters we have explored a number of tools that allow us to use\n",
    "our mathematical knowledge more efficiently. In this part of the book we will\n",
    "see start to gain the knowledge necessary to build these tools. We will start by\n",
    "more formally seeing how to:\n",
    "\n",
    "```{important}\n",
    "In this chapter we will cover:\n",
    "\n",
    "- Creating variables.\n",
    "- Run code depending on a given condition.\n",
    "- Repeat code as long as a given condition is met.\n",
    "- Repeat code over a given set.\n",
    "```"
   ]
  }
 ],
 "metadata": {
  "jupytext": {
   "formats": "ipynb,md:myst"
  },
  "kernelspec": {
   "display_name": "Python 3",
   "language": "python",
   "name": "python3"
  },
  "language_info": {
   "codemirror_mode": {
    "name": "ipython",
    "version": 3
   },
   "file_extension": ".py",
   "mimetype": "text/x-python",
   "name": "python",
   "nbconvert_exporter": "python",
   "pygments_lexer": "ipython3",
   "version": "3.8.3"
  }
 },
 "nbformat": 4,
 "nbformat_minor": 4
}
