{
 "cells": [
  {
   "cell_type": "markdown",
   "metadata": {},
   "source": [
    "# Exercises\n",
    "\n",
    "**After** completing the tutorial attempt the following exercises.\n",
    "\n",
    "**If you are not sure how to do something, have a look at the \"How To\" section.**\n",
    "\n",
    "1. Using a `for` loop print the types of the variables in each of the following\n",
    "   iterables:\n",
    "   1. `iterable = (1, 2, 3, 4)`\n",
    "   2. `iterable = (1, 2.0, 3, 4.0)`\n",
    "   3. `iterable = (1, \"dog\", 0, 3, 4.0)`\n",
    "2. Consider the following polynomial:\n",
    "\n",
    "   $$\n",
    "    3 n ^ 3 - 183n ^ 2 + 3318n - 18757\n",
    "   $$\n",
    "\n",
    "   1. What is the first value of $n$ for which that polynomial is not prime?\n",
    "   2. How many **unique** primes up until the first non prime value are there?\n",
    "      (Hint: the `set` tool might prove useful here.)\n",
    "3. Check the following identify for each value of $n\\in\\{0, 10, 100, 2000\\}$:\n",
    "\n",
    "   $$\n",
    "       \\sum_{i=0}^n i=\\frac{n(n+1)}{2}\n",
    "   $$\n",
    "\n",
    "4. Check the following identify for all positive integer values of $n$ less than\n",
    "   5000:\n",
    "\n",
    "   $$\n",
    "       \\sum_{i=0}^n i^2=\\frac{n(n+1)(2n+1)}{6}\n",
    "   $$\n",
    "\n",
    "5. Repeat the experiment of selecting a random integer between 0 and 10 until it\n",
    "   is even 1000 times (see {ref}`repeat_code_while_a_given_condition_holds`).\n",
    "   What is the average number of times taken to select an even number?"
   ]
  }
 ],
 "metadata": {
  "jupytext": {
   "formats": "ipynb,md:myst"
  },
  "kernelspec": {
   "display_name": "Python 3",
   "language": "python",
   "name": "python3"
  },
  "language_info": {
   "codemirror_mode": {
    "name": "ipython",
    "version": 3
   },
   "file_extension": ".py",
   "mimetype": "text/x-python",
   "name": "python",
   "nbconvert_exporter": "python",
   "pygments_lexer": "ipython3",
   "version": "3.8.3"
  }
 },
 "nbformat": 4,
 "nbformat_minor": 4
}
