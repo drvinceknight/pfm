{
 "cells": [
  {
   "cell_type": "markdown",
   "metadata": {},
   "source": [
    "# Tutorial\n",
    "\n",
    "To demonstrate the use case of Numpy we will use it to explore the mathematics\n",
    "of a [Galton Board](https://en.wikipedia.org/wiki/Bean_machine).\n",
    "\n",
    "````{admonition} Problem\n",
    "\n",
    "A Galton Board can be represented using a [Markov\n",
    "Chain](https://en.wikipedia.org/wiki/Markov_chain) as shown in this diagram:\n",
    "\n",
    "```{figure} ./img/galton_board/main.png\n",
    "---\n",
    "width: 75%\n",
    "name: fig:galton_board\n",
    "---\n",
    "The state space for a Galton board\n",
    "```\n",
    "\n",
    "1. Write a function to generate all states of the Markov chain with $N$ rows:\n",
    "\n",
    "   $$\\{(i, j) \\in \\mathbb{Z} ^ 2 |\\;0\\leq i \\leq N, 0<\\leq j \\leq i\\}$$\n",
    "\n",
    "2. For a given value of $p$ which corresponds to the probability of falling\n",
    "   left, write a function to generate the transition rate matrix:\n",
    "\n",
    "   $$\n",
    "        P_{s^{(1)}, s^{(2)}} =\n",
    "            \\begin{cases}\n",
    "                p &; \\text{ if }s^{(2)} - s^{(1)} = (1, 0)\\text{ and }{s_1^{(2)}} < N \\\\\n",
    "            1 - p &; \\text{ if }s^{(2)} - s^{(1)} = (1, 1)\\text{ and }{s_1^{(2)}} < N \\\\\n",
    "                1 &; \\text{ if }s^{(2)} = N\\\\\n",
    "                0 &; \\text{otherwise} \\\\\n",
    "            \\end{cases}\n",
    "   $$\n",
    "3. Find the expected distribution of beans falling through the Galton board\n",
    "   given by $\\pi P ^N$ where $\\pi = (1, 0, \\dots 0)$ for $N=3$ and for $p$\n",
    "   varying between 0 and 1.\n",
    "4. Experiment with high values of $N$ to see how numpy performs on large\n",
    "   matrices..\n",
    "````\n",
    "\n",
    "The first function is obtained using similar tools to the chapter on\n",
    "combinatorics. Note however that we will be using `numpy` arrays instead of\n",
    "tuples to represent the state space."
   ]
  },
  {
   "cell_type": "code",
   "execution_count": 1,
   "metadata": {},
   "outputs": [
    {
     "data": {
      "text/plain": [
       "[array([0, 0]),\n",
       " array([1, 0]),\n",
       " array([1, 1]),\n",
       " array([2, 0]),\n",
       " array([2, 1]),\n",
       " array([2, 2]),\n",
       " array([3, 0]),\n",
       " array([3, 1]),\n",
       " array([3, 2]),\n",
       " array([3, 3])]"
      ]
     },
     "execution_count": 1,
     "metadata": {},
     "output_type": "execute_result"
    }
   ],
   "source": [
    "import numpy as np\n",
    "\n",
    "\n",
    "def get_all_states(N):\n",
    "    \"\"\"\n",
    "    Obtain all states for a Galton board with N rows.\n",
    "    \"\"\"\n",
    "    return [np.array((i, j)) for i in range(N + 1) for j in range(i + 1)]\n",
    "\n",
    "\n",
    "get_all_states(N=3)"
   ]
  },
  {
   "cell_type": "markdown",
   "metadata": {},
   "source": [
    "Now we will implement a second function that takes two states and the parameters\n",
    "of the problem to find the transition between two states:"
   ]
  },
  {
   "cell_type": "code",
   "execution_count": 2,
   "metadata": {},
   "outputs": [
    {
     "data": {
      "text/plain": [
       "0.7"
      ]
     },
     "execution_count": 2,
     "metadata": {},
     "output_type": "execute_result"
    }
   ],
   "source": [
    "def get_transition_probability(in_state, out_state, N, p):\n",
    "    \"\"\"\n",
    "    Given two states, an in_state and an out_state this returns the probability\n",
    "    of going from the in_state to the out_state.\n",
    "    \"\"\"\n",
    "    if in_state[0] == N and np.array_equal(in_state, out_state):\n",
    "        return 1\n",
    "\n",
    "    if np.array_equal(out_state - in_state, np.array((1, 0))):\n",
    "        return p\n",
    "\n",
    "    if np.array_equal(out_state - in_state, np.array((1, 1))):\n",
    "        return 1 - p\n",
    "\n",
    "    return 0\n",
    "\n",
    "\n",
    "in_state = np.array((2, 1))\n",
    "out_state = np.array((3, 2))\n",
    "\n",
    "get_transition_probability(in_state=in_state, out_state=out_state, N=5, p=0.3)"
   ]
  },
  {
   "cell_type": "markdown",
   "metadata": {},
   "source": [
    "```{attention}\n",
    "We compare numpy arrays using `numpy.array_equal`.\n",
    "```\n",
    "\n",
    "We can then create the matrix $P$ by iterating over the state space and finding\n",
    "the probability of transition:"
   ]
  },
  {
   "cell_type": "code",
   "execution_count": 3,
   "metadata": {},
   "outputs": [
    {
     "data": {
      "text/plain": [
       "array([[0. , 0.3, 0.7, 0. , 0. , 0. , 0. , 0. , 0. , 0. ],\n",
       "       [0. , 0. , 0. , 0.3, 0.7, 0. , 0. , 0. , 0. , 0. ],\n",
       "       [0. , 0. , 0. , 0. , 0.3, 0.7, 0. , 0. , 0. , 0. ],\n",
       "       [0. , 0. , 0. , 0. , 0. , 0. , 0.3, 0.7, 0. , 0. ],\n",
       "       [0. , 0. , 0. , 0. , 0. , 0. , 0. , 0.3, 0.7, 0. ],\n",
       "       [0. , 0. , 0. , 0. , 0. , 0. , 0. , 0. , 0.3, 0.7],\n",
       "       [0. , 0. , 0. , 0. , 0. , 0. , 1. , 0. , 0. , 0. ],\n",
       "       [0. , 0. , 0. , 0. , 0. , 0. , 0. , 1. , 0. , 0. ],\n",
       "       [0. , 0. , 0. , 0. , 0. , 0. , 0. , 0. , 1. , 0. ],\n",
       "       [0. , 0. , 0. , 0. , 0. , 0. , 0. , 0. , 0. , 1. ]])"
      ]
     },
     "execution_count": 3,
     "metadata": {},
     "output_type": "execute_result"
    }
   ],
   "source": [
    "def get_transition_matrix(N, p):\n",
    "    \"\"\"\n",
    "    Create the transition matrix for a Galton board with N rows and probability\n",
    "    of falling to the left of p.\n",
    "\n",
    "    This is done by creating an empty matrix of the required size and modifying\n",
    "    the values in place.\n",
    "    \"\"\"\n",
    "    states = get_all_states(N)\n",
    "    number_of_states = len(states)\n",
    "    P = np.zeros((number_of_states, number_of_states))\n",
    "\n",
    "    for row, in_state in enumerate(states):\n",
    "        for col, out_state in enumerate(states):\n",
    "            P[row, col] = get_transition_probability(in_state, out_state, N, p)\n",
    "\n",
    "    return P\n",
    "\n",
    "\n",
    "get_transition_matrix(N=3, p=0.3)"
   ]
  },
  {
   "cell_type": "markdown",
   "metadata": {},
   "source": [
    "````{attention}\n",
    "In the above function we are using the base tool `enumerate` which is a powerful\n",
    "Python tool that will iterate over elements in an iterable as well as return the\n",
    "index of the items.\n",
    "````\n",
    "\n",
    "Now to find the expected distribution."
   ]
  },
  {
   "cell_type": "code",
   "execution_count": 4,
   "metadata": {},
   "outputs": [
    {
     "data": {
      "text/plain": [
       "array([0.   , 0.   , 0.   , 0.   , 0.   , 0.   , 0.125, 0.375, 0.375,\n",
       "       0.125])"
      ]
     },
     "execution_count": 4,
     "metadata": {},
     "output_type": "execute_result"
    }
   ],
   "source": [
    "def get_distribution(N, p):\n",
    "    \"\"\"\n",
    "    This returns the distribution of beans over the entire state space after the\n",
    "    all fall.\n",
    "\n",
    "    This is done by computing (pi P ^ N) where pi = (1, 0, \\dots 0).\n",
    "    \"\"\"\n",
    "    P = get_transition_matrix(N=N, p=p)\n",
    "    number_of_rows = len(P)\n",
    "    pi = np.zeros(number_of_rows)\n",
    "    pi[0] = 1\n",
    "    return pi @ (np.linalg.matrix_power(P, N))\n",
    "\n",
    "\n",
    "get_distribution(N=3, p=0.5)"
   ]
  },
  {
   "cell_type": "markdown",
   "metadata": {},
   "source": [
    "```{attention}\n",
    "We calculate the matrix exponentiation using\n",
    "`np.linalg.matrix_power`.\n",
    "```\n",
    "\n",
    "We can finally see how this distribution changes for different values of $p$:"
   ]
  },
  {
   "cell_type": "code",
   "execution_count": 5,
   "metadata": {},
   "outputs": [
    {
     "name": "stdout",
     "output_type": "stream",
     "text": [
      "0.0 [0. 0. 0. 1.]\n",
      "0.1 [0.001 0.027 0.243 0.729]\n",
      "0.2 [0.008 0.096 0.384 0.512]\n",
      "0.30000000000000004 [0.027 0.189 0.441 0.343]\n",
      "0.4 [0.064 0.288 0.432 0.216]\n",
      "0.5 [0.125 0.375 0.375 0.125]\n",
      "0.6000000000000001 [0.216 0.432 0.288 0.064]\n",
      "0.7000000000000001 [0.343 0.441 0.189 0.027]\n",
      "0.8 [0.512 0.384 0.096 0.008]\n",
      "0.9 [0.729 0.243 0.027 0.001]\n",
      "1.0 [1. 0. 0. 0.]\n"
     ]
    }
   ],
   "source": [
    "for p in np.linspace(0, 1, 11):\n",
    "    print(p, get_distribution(N=3, p=p)[-4:])"
   ]
  },
  {
   "cell_type": "markdown",
   "metadata": {},
   "source": [
    "We see that as $p$ increases the beans end up more to the left.\n",
    "\n",
    "We can see that the function runs in a reasonable time for $N=20$ which\n",
    "corresponds to a matrix of size $\\frac{(N+1)(N+2)}{2}=231$."
   ]
  },
  {
   "cell_type": "code",
   "execution_count": 6,
   "metadata": {
    "tags": [
     "nbval-ignore-output",
     "style-check-ignore"
    ]
   },
   "outputs": [
    {
     "name": "stdout",
     "output_type": "stream",
     "text": [
      "650 ms ± 9.9 ms per loop (mean ± std. dev. of 7 runs, 1 loop each)\n"
     ]
    }
   ],
   "source": [
    "%timeit get_distribution(N=20, p=0.5)"
   ]
  },
  {
   "cell_type": "markdown",
   "metadata": {},
   "source": [
    "```{important}\n",
    "In this chapter we have:\n",
    "\n",
    "- Written a function to create a `numpy` array.\n",
    "- Used `numpy` to efficiently carry out matrix multiplication.\n",
    "```"
   ]
  }
 ],
 "metadata": {
  "jupytext": {
   "formats": "ipynb,md:myst"
  },
  "kernelspec": {
   "display_name": "Python 3",
   "language": "python",
   "name": "python3"
  },
  "language_info": {
   "codemirror_mode": {
    "name": "ipython",
    "version": 3
   },
   "file_extension": ".py",
   "mimetype": "text/x-python",
   "name": "python",
   "nbconvert_exporter": "python",
   "pygments_lexer": "ipython3",
   "version": "3.8.3"
  }
 },
 "nbformat": 4,
 "nbformat_minor": 4
}
