{
 "cells": [
  {
   "cell_type": "markdown",
   "metadata": {},
   "source": [
    "# Further information.\n",
    "\n",
    "## Why do we import `matplotlib.pyplot as plt`?\n",
    "\n",
    "There are actually two different interfaces available to `matplotlib`:\n",
    "\n",
    "1. Directly using `matplotlib`;\n",
    "2. Using the slightly simpler functionality available in `matplotlib.pyplot`\n",
    "\n",
    "Whilst the latter is what has been covered in this book, the former is important\n",
    "to know for more complex figures.\n",
    "\n",
    "There is some more information about this available:\n",
    "\n",
    "1. <https://matplotlib.org/faq/usage_faq.html#matplotlib-pyplot-and-pylab-how-are-they-related>.\n",
    "2. <https://realpython.com/python-matplotlib-guide/>\n",
    "\n",
    "## Is there a gallery showing off the capabilities of `matplotlib`?\n",
    "\n",
    "Yes: <https://matplotlib.org/gallery.html>\n",
    "\n",
    "You can scroll through and click on a picture to see the code that generated it."
   ]
  }
 ],
 "metadata": {
  "jupytext": {
   "formats": "ipynb,md:myst"
  },
  "kernelspec": {
   "display_name": "Python 3",
   "language": "python",
   "name": "python3"
  },
  "language_info": {
   "codemirror_mode": {
    "name": "ipython",
    "version": 3
   },
   "file_extension": ".py",
   "mimetype": "text/x-python",
   "name": "python",
   "nbconvert_exporter": "python",
   "pygments_lexer": "ipython3",
   "version": "3.8.3"
  }
 },
 "nbformat": 4,
 "nbformat_minor": 4
}
