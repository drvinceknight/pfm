{
 "cells": [
  {
   "cell_type": "markdown",
   "metadata": {},
   "source": [
    "# Further information.\n",
    "\n",
    "## What is a kernel\n",
    "\n",
    "As described in the Jupyter notebook beginner guide\n",
    "<https://jupyter-notebook-beginner-guide.readthedocs.io/en/latest/what_is_jupyter.html#kernel>:\n",
    "\n",
    "> A notebook kernel is a \"computational engine\" that [runs] the code contained\n",
    "> in a Notebook document. The ipython kernel, referenced in this guide, [runs]\n",
    "> python code. Kernels for many other languages exist (official kernels).\n",
    "\n",
    "As shown in Figure {ref}`fig:diagram_of_the_kernel_notebook_relationship` the\n",
    "notebook is where the instructions are written but until they are sent to the\n",
    "Kernel the instructions will not have any effect.\n",
    "\n",
    "```{figure} ./img/diagram_of_the_kernel_notebook_relationship/main.png\n",
    "---\n",
    "width: 75%\n",
    "name: fig:diagram_of_the_kernel_notebook_relationship\n",
    "---\n",
    "The relationship between the kernel and the notebook.\n",
    "```\n",
    "\n",
    "## What other kernels can be used\n",
    "\n",
    "You can see a list of all the various programming languages for which a Jupyter\n",
    "kernel exists here: <https://github.com/jupyter/jupyter/wiki/Jupyter-kernels>."
   ]
  }
 ],
 "metadata": {
  "jupytext": {
   "formats": "ipynb,md:myst"
  },
  "kernelspec": {
   "display_name": "Python 3",
   "language": "python",
   "name": "python3"
  },
  "language_info": {
   "codemirror_mode": {
    "name": "ipython",
    "version": 3
   },
   "file_extension": ".py",
   "mimetype": "text/x-python",
   "name": "python",
   "nbconvert_exporter": "python",
   "pygments_lexer": "ipython3",
   "version": "3.8.3"
  }
 },
 "nbformat": 4,
 "nbformat_minor": 4
}
