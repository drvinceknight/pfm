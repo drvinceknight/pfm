{
 "cells": [
  {
   "cell_type": "markdown",
   "metadata": {},
   "source": [
    "(kernels)=\n",
    "# Kernels\n",
    "\n",
    "In the first part of the book we used Jupyter notebooks to learn how to\n",
    "interactively run python commands.\n",
    " \n",
    "```{important}\n",
    "In this chapter we will cover:\n",
    "\n",
    "- What is a Kernel.\n",
    "- What type of problems might arise when interactively running python commands.\n",
    "- How to solve problems that might arise when interactively running python\n",
    "  commands.\n",
    "```"
   ]
  }
 ],
 "metadata": {
  "jupytext": {
   "formats": "ipynb,md:myst"
  },
  "kernelspec": {
   "display_name": "Python 3",
   "language": "python",
   "name": "python3"
  },
  "language_info": {
   "codemirror_mode": {
    "name": "ipython",
    "version": 3
   },
   "file_extension": ".py",
   "mimetype": "text/x-python",
   "name": "python",
   "nbconvert_exporter": "python",
   "pygments_lexer": "ipython3",
   "version": "3.8.3"
  }
 },
 "nbformat": 4,
 "nbformat_minor": 4
}
