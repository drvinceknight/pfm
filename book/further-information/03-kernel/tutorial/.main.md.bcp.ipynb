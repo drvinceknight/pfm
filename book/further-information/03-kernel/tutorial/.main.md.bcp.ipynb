{
 "cells": [
  {
   "cell_type": "markdown",
   "metadata": {},
   "source": [
    "# Tutorial\n",
    "\n",
    "We are going to illustrate what a kernel does by letting python solve the\n",
    "following problem:\n",
    "\n",
    "## Solving the problem\n",
    "\n",
    "````{admonition} Problem\n",
    "What is the maximum of $e^{\\pi}$ or $\\pi ^ e$?\n",
    "````\n",
    "\n",
    "We start by creating variables and assigning them to have the value of the two\n",
    "numbers we want to compare:"
   ]
  },
  {
   "cell_type": "code",
   "execution_count": 1,
   "metadata": {},
   "outputs": [],
   "source": [
    "import sympy as sym\n",
    "\n",
    "e_to_the_pi = sym.exp(sym.pi)\n",
    "pi_to_the_e = sym.pi ** sym.exp(1)"
   ]
  },
  {
   "cell_type": "markdown",
   "metadata": {},
   "source": [
    "We now compute the maximum using Python's `max` tool:"
   ]
  },
  {
   "cell_type": "code",
   "execution_count": 2,
   "metadata": {},
   "outputs": [
    {
     "data": {
      "text/latex": [
       "$\\displaystyle e^{\\pi}$"
      ],
      "text/plain": [
       "exp(pi)"
      ]
     },
     "execution_count": 2,
     "metadata": {},
     "output_type": "execute_result"
    }
   ],
   "source": [
    "max(e_to_the_pi, pi_to_the_e)"
   ]
  },
  {
   "cell_type": "markdown",
   "metadata": {},
   "source": [
    "## Making mistakes\n",
    "\n",
    "For the rest of this tutorial we will make common mistakes when interactively\n",
    "running code and show how to fix them.\n",
    "\n",
    "### Undefined variables\n",
    "\n",
    "Consider the common mistake of not running the first cell:\n",
    "\n",
    "```python\n",
    "import sympy as sym\n",
    "\n",
    "e_to_the_pi = sym.exp(sym.pi)\n",
    "pi_to_the_e = sym.pi ** sym.exp(1)\n",
    "```\n",
    "\n",
    "Running the second cell:\n",
    "\n",
    "```python\n",
    "max(e_to_the_pi, pi_to_the_e)\n",
    "```\n",
    "\n",
    "Figure {ref}`fig:name_error_because_of_not_running_a_cell` shows the error that\n",
    "would occur:\n",
    "\n",
    "```{figure} ./img/name_error_because_of_not_running_a_cell/main.png\n",
    "---\n",
    "width: 75%\n",
    "name: fig:name_error_because_of_not_running_a_cell\n",
    "---\n",
    "Getting a name error when not running a cell\n",
    "```\n",
    "\n",
    "The error message is specifically telling us that the command `max(e_to_the_pi,\n",
    "pi_to_the_e)` cannot be run because `e_to_the_pi` is not known.\n",
    "\n",
    "To fix this we return the first cell and run it before running the second cell\n",
    "again. This is shown in Figure {ref}`fig:rerunning_the_name_error`.\n",
    "\n",
    "```{figure} ./img/rerunning_the_name_error/main.gif\n",
    "---\n",
    "width: 75%\n",
    "name: fig:rerunning_the_name_error\n",
    "---\n",
    "Rerunning the first cell to properly define all needed variables\n",
    "```\n",
    "\n",
    "```{attention}\n",
    "This approach is sometimes going to be necessary even if we run the first cell\n",
    "but perhaps we had an error (a typo for example) in it at the time. In which\n",
    "case, we fix the typo and run it again before running the second cell.\n",
    "```\n",
    "\n",
    "### Overwriting a tool\n",
    "\n",
    "Another common mistake is to run some code that might not be the code that\n",
    "was required.\n",
    "At times this can be overcome by correcting the mistake but on other occasions\n",
    "the code that was run might override and essentially delete something necessary.\n",
    "\n",
    "As an example consider if the first cell was run correctly:\n",
    "\n",
    "```python\n",
    "import sympy as sym\n",
    "\n",
    "e_to_the_pi = sym.exp(sym.pi)\n",
    "pi_to_the_e = sym.pi ** sym.exp(1)\n",
    "```\n",
    "\n",
    "**However** the second cell was run with an error (not `max = (…)` as opposed\n",
    "to `max(…)`):\n",
    "\n",
    "```python\n",
    "max = (e_to_the_pi, pi_to_the_e)\n",
    "```\n",
    "\n",
    "Figure {ref}`fig:type_error_because_of_overwriting_max` shows the error that\n",
    "would occur after running the correct code:\n",
    "\n",
    "```{figure} ./img/type_error_because_of_overwriting_max/main.png\n",
    "---\n",
    "width: 75%\n",
    "name: fig:type_error_because_of_overwriting_max\n",
    "---\n",
    "Getting a type error when the `max` function has been overwritten\n",
    "```\n",
    "\n",
    "As Figure {ref}`fig:type_error_because_of_overwriting_max` shows the error is\n",
    "due to the fact that the `max` tool has been overwritten to be a tuple\n",
    "containing the two variables.\n",
    "\n",
    "To fix this we need to _Restart the Kernel_ which allows us to forget the\n",
    "outcome of all code that has been run and start from again. To restart the\n",
    "kernel: click on `Kernel` and then `Restart`.\n",
    "\n",
    "After doing this we can run the correct code as shown in Figure\n",
    "{ref}`fig:restarting_the_kernel`.\n",
    "\n",
    "```{figure} ./img/restarting_the_kernel/main.gif\n",
    "---\n",
    "width: 75%\n",
    "name: fig:restarting_the_kernel\n",
    "---\n",
    "Restarting the kernel and running the code again.\n",
    "```\n",
    "\n",
    "```{important}\n",
    "In this tutorial we have\n",
    "\n",
    "- Seen how to rerun a cell if it is needed.\n",
    "- Seen how to restart a kernel if it is needed.\n",
    "```"
   ]
  }
 ],
 "metadata": {
  "jupytext": {
   "formats": "ipynb,md:myst"
  },
  "kernelspec": {
   "display_name": "Python 3",
   "language": "python",
   "name": "python3"
  },
  "language_info": {
   "codemirror_mode": {
    "name": "ipython",
    "version": 3
   },
   "file_extension": ".py",
   "mimetype": "text/x-python",
   "name": "python",
   "nbconvert_exporter": "python",
   "pygments_lexer": "ipython3",
   "version": "3.8.3"
  }
 },
 "nbformat": 4,
 "nbformat_minor": 4
}
