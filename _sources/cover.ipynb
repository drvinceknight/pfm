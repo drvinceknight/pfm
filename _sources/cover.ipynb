{
 "cells": [
  {
   "cell_type": "markdown",
   "id": "de056a41",
   "metadata": {},
   "source": [
    "# [Python for Mathematics](https://www.taylorfrancis.com/books/mono/10.1201/9781003451860/python-mathematics-vincent-knight?context=ubx&refId=df92ae24-7381-40f4-96a6-e543be95b30b)\n",
    "\n",
    "```{figure} ./img/cover/main.png\n",
    "---\n",
    "target: https://www.taylorfrancis.com/books/mono/10.1201/9781003451860/python-mathematics-vincent-knight?context=ubx&refId=df92ae24-7381-40f4-96a6-e543be95b30b\n",
    "width: 75%\n",
    "---\n",
    "```"
   ]
  }
 ],
 "metadata": {
  "jupytext": {
   "formats": "ipynb,md:myst",
   "text_representation": {
    "extension": ".md",
    "format_name": "myst",
    "format_version": 0.12,
    "jupytext_version": "1.6.0"
   }
  },
  "kernelspec": {
   "display_name": "Python 3",
   "language": "python",
   "name": "python3"
  },
  "language_info": {
   "codemirror_mode": {
    "name": "ipython",
    "version": 3
   },
   "file_extension": ".py",
   "mimetype": "text/x-python",
   "name": "python",
   "nbconvert_exporter": "python",
   "pygments_lexer": "ipython3",
   "version": "3.10.18"
  },
  "source_map": [
   13
  ]
 },
 "nbformat": 4,
 "nbformat_minor": 5
}