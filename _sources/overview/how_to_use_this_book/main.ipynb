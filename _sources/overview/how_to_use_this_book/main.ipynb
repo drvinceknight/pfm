{
 "cells": [
  {
   "cell_type": "markdown",
   "id": "e79cbb1f",
   "metadata": {},
   "source": [
    "## How to use this book?\n",
    "\n",
    "Readers are welcome to use this book in any way they find useful; however, it is\n",
    "designed with the following suggestion in mind:\n",
    "\n",
    "- Start by following along with the **tutorial**, carrying out the steps and\n",
    "  observing the outcomes. It is not expected that a reader gains a deep\n",
    "  understanding of a given topic when working through the tutorial. The goal\n",
    "  here is to achieve some level of familiarity.\n",
    "\n",
    "- After the tutorial, work through the **how-to** section. It is through this\n",
    "  section that a deeper understanding should be gained, making connections to\n",
    "  the steps taken in the tutorial. **After working through the how-to section,\n",
    "  it is hoped that the reader would understand all steps taken in the tutorial**.\n",
    "\n",
    "- The **exercise section** provides an opportunity for readers to practice the\n",
    "  topics covered in the how-to section.\n",
    "\n",
    "- After working through these three sections, some readers may have further\n",
    "  questions or want more information about a given topic. This is covered in\n",
    "  the **further information** section.\n",
    "\n",
    "## How is code displayed in this book?\n",
    "\n",
    "In this book, you will see code displayed in several different formats. The most\n",
    "common format is input to the programming tool **Jupyter**, described at length\n",
    "in [the Using Notebooks chapter](chp:using_notebooks). For example:"
   ]
  },
  {
   "cell_type": "code",
   "execution_count": 1,
   "id": "f04de351",
   "metadata": {},
   "outputs": [
    {
     "data": {
      "text/plain": [
       "4"
      ]
     },
     "execution_count": 1,
     "metadata": {},
     "output_type": "execute_result"
    }
   ],
   "source": [
    "2 + 2"
   ]
  },
  {
   "cell_type": "markdown",
   "id": "9a7bb2af",
   "metadata": {},
   "source": [
    "You will see typical usage instructions for particular code commands:\n",
    "\n",
    "````{admonition} Usage\n",
    ":class: tip\n",
    "```\n",
    "sym.solveset(<equation>)\n",
    "```\n",
    "````\n",
    "\n",
    "You will see how to write a particular language called **markdown** (covered in\n",
    "[the Using Notebooks Chapter](chp:using_notebooks) and [the Documentation\n",
    "Chapter](chp:documentation))\n",
    "\n",
    "```md\n",
    "# Algebra with Python\n",
    "```\n",
    "\n",
    "In chapters [the Command Line Chapter](chp:cli) to [the Testing Chapter](chp:testing), you will see Python code saved to\n",
    "files:\n",
    "\n",
    "```py\n",
    "print(2 + 2)\n",
    "```\n",
    "\n",
    "You will also see commands written for a command-line tool. This is how you will\n",
    "start **Jupyter** in [the Using Notebooks Chapter](chp:using_notebooks) but is introduced more formally\n",
    "in [the Command Line Chapter](chp:cli):\n",
    "\n",
    "```console\n",
    "$ ls\n",
    "```\n",
    "\n",
    "# What this version of the book has that the printed version does not\n",
    "\n",
    "Thanks to the publisher's progressive understanding, this online version\n",
    "of the book allows for more content than the [printed version](https://www.taylorfrancis.com/books/mono/10.1201/9781003451860/python-mathematics-vincent-knight?context=ubx&refId=df92ae24-7381-40f4-96a6-e543be95b30b).\n",
    "As such, there are two specific things that are included:\n",
    "\n",
    "1. Solutions to the exercises.\n",
    "2. A collection of further information chapters, covering specific tools like\n",
    "   `numpy` for numerical mathematics and detailed descriptions of working with\n",
    "   Jupyter kernels.\n",
    "\n",
    "Additionally, grammatical fixes, more exercises, and new further information\n",
    "chapters will continue to be added to the online version."
   ]
  }
 ],
 "metadata": {
  "jupytext": {
   "formats": "ipynb,md:myst",
   "text_representation": {
    "extension": ".md",
    "format_name": "myst",
    "format_version": 0.12,
    "jupytext_version": "1.6.0"
   }
  },
  "kernelspec": {
   "display_name": "Python 3",
   "language": "python",
   "name": "python3"
  },
  "language_info": {
   "codemirror_mode": {
    "name": "ipython",
    "version": 3
   },
   "file_extension": ".py",
   "mimetype": "text/x-python",
   "name": "python",
   "nbconvert_exporter": "python",
   "pygments_lexer": "ipython3",
   "version": "3.10.18"
  },
  "source_map": [
   13,
   43,
   45
  ]
 },
 "nbformat": 4,
 "nbformat_minor": 5
}