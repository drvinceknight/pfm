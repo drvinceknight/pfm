{
 "cells": [
  {
   "cell_type": "markdown",
   "id": "47ac984d",
   "metadata": {},
   "source": [
    "# How to use this book\n",
    "\n",
    "Readers are welcome to use this book in any way they find useful however it is\n",
    "designed with the following suggestion in mind:\n",
    "\n",
    "- Start by following along with the tutorial. Carrying out the steps and\n",
    "  observing the outcomes. It is not expected that a reader gains a deep\n",
    "  understanding of a given topic when working through the tutorial. The goal\n",
    "  here is to achieve some level of familiarity.\n",
    "- After the tutorial, work through the how to section. It is through this\n",
    "  section that a deeper understanding is to be gained by making connections to\n",
    "  steps taking in the tutorial. **After working through the how to section it is\n",
    "  hoped that the reader would understand all steps taken in the tutorial**.\n",
    "- The exercise section is an opportunity for the reader to practice the topics\n",
    "  in the how to section. Solutions are available in this section as well.\n",
    "- After working through those three section it is possible that some readers\n",
    "  have further questions or would like to find more information about a\n",
    "  given topic. This is covered in the further information section."
   ]
  }
 ],
 "metadata": {
  "jupytext": {
   "formats": "ipynb,md:myst",
   "text_representation": {
    "extension": ".md",
    "format_name": "myst",
    "format_version": 0.12,
    "jupytext_version": "1.6.0"
   }
  },
  "kernelspec": {
   "display_name": "Python 3",
   "language": "python",
   "name": "python3"
  },
  "language_info": {
   "codemirror_mode": {
    "name": "ipython",
    "version": 3
   },
   "file_extension": ".py",
   "mimetype": "text/x-python",
   "name": "python",
   "nbconvert_exporter": "python",
   "pygments_lexer": "ipython3",
   "version": "3.10.14"
  },
  "source_map": [
   13
  ]
 },
 "nbformat": 4,
 "nbformat_minor": 5
}