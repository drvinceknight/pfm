{
 "cells": [
  {
   "cell_type": "markdown",
   "id": "e018311b",
   "metadata": {},
   "source": [
    "# Introduction\n",
    "\n",
    "This book aims to introduce readers to programming for mathematics.\n",
    "\n",
    "This is the freely accessible online edition of the book published by\n",
    "[Taylor & Francis](https://www.taylorfrancis.com/books/mono/10.1201/9781003451860/python-mathematics-vincent-knight?context=ubx&refId=df92ae24-7381-40f4-96a6-e543be95b30b).  \n",
    "The author acknowledges the publisher’s progressive approach to open dissemination,\n",
    "which has facilitated the continued availability of this work in an openly accessible format.\n",
    "\n",
    "## Who is this book for?\n",
    "\n",
    "This book aims to introduce readers to programming **for** mathematics.\n",
    "\n",
    "It is assumed that readers are used to solving secondary school mathematics problems of the form:\n",
    "\n",
    "---\n",
    "\n",
    "```{admonition} Problem\n",
    "Given the function $f:\\mathbb{R}\\to\\mathbb{R}$ defined by\n",
    "$f(x) = x ^ 2 - 3 x + 1$ obtain the global minima of the function.\n",
    "```\n",
    "\n",
    "```{admonition} Solution\n",
    ":class: tip\n",
    "\n",
    "To solve this we need to apply our **mathematical knowledge** which tells us to:\n",
    "\n",
    "1. Differentiate $f(x)$ to get $\\frac{df}{dx}$;\n",
    "2. Equate $\\frac{df}{dx}=0$;\n",
    "3. Use the second derivative test on the solution to the previous equation.\n",
    "\n",
    "For each of those 3 steps we will usually make use of our **mathematical\n",
    "techniques**:\n",
    "\n",
    "1. Differentiate $f(x)$:\n",
    "\n",
    "   $$\\frac{df}{dx} = 2 x - 3$$\n",
    "\n",
    "2. Equate $\\frac{df}{dx}=0$:\n",
    "\n",
    "   $$2x-3 =0 \\Rightarrow x = 3/2$$\n",
    "\n",
    "3. Use the second derivative test on the solution:\n",
    "\n",
    "   $$\\frac{d^2f}{dx^2} = 2 > 0\\text{ for all values of }x$$\n",
    "\n",
    "   Thus $x=3/2$ is the global minima of the function.\n",
    "```\n",
    "\n",
    "```{attention}\n",
    "As you progress as a mathematician, **mathematical knowledge** becomes more\n",
    "prominent than **mathematical technique**: often knowing what to do is the\n",
    "real problem, as opposed to having the technical ability to do it.\n",
    "```\n",
    "\n",
    "This is what this book will cover: **programming** allows you to instruct a\n",
    "computer to carry out mathematical techniques.\n",
    "\n",
    "For example, you will learn how to solve the above problem by instructing a\n",
    "computer which **mathematical technique** to carry out.\n",
    "\n",
    "**This book covers how to give the correct instructions to a\n",
    "computer.**\n",
    "\n",
    "The following is an example; do not worry too much about the specific code used for now:\n",
    "\n",
    "### Differentiate $f(x)$ to get $\\frac{df}{dx}$"
   ]
  },
  {
   "cell_type": "code",
   "execution_count": 1,
   "id": "a2add968",
   "metadata": {},
   "outputs": [
    {
     "data": {
      "text/latex": [
       "$\\displaystyle 2 x - 3$"
      ],
      "text/plain": [
       "2*x - 3"
      ]
     },
     "execution_count": 1,
     "metadata": {},
     "output_type": "execute_result"
    }
   ],
   "source": [
    "import sympy as sym\n",
    "\n",
    "x = sym.Symbol(\"x\")\n",
    "sym.diff(x ** 2 - 3 * x + 1, x)"
   ]
  },
  {
   "cell_type": "markdown",
   "id": "003ce82f",
   "metadata": {},
   "source": [
    "### Equate $\\frac{df}{dx}=0$"
   ]
  },
  {
   "cell_type": "code",
   "execution_count": 2,
   "id": "93777b2c",
   "metadata": {},
   "outputs": [
    {
     "data": {
      "text/latex": [
       "$\\displaystyle \\left\\{\\frac{3}{2}\\right\\}$"
      ],
      "text/plain": [
       "{3/2}"
      ]
     },
     "execution_count": 2,
     "metadata": {},
     "output_type": "execute_result"
    }
   ],
   "source": [
    "sym.solveset(2 * x - 3, x)"
   ]
  },
  {
   "cell_type": "markdown",
   "id": "be0acd02",
   "metadata": {},
   "source": [
    "### Use the second derivative test on the solution"
   ]
  },
  {
   "cell_type": "code",
   "execution_count": 3,
   "id": "7802187b",
   "metadata": {},
   "outputs": [
    {
     "data": {
      "text/latex": [
       "$\\displaystyle 2$"
      ],
      "text/plain": [
       "2"
      ]
     },
     "execution_count": 3,
     "metadata": {},
     "output_type": "execute_result"
    }
   ],
   "source": [
    "sym.diff(x ** 2 - 3 * x + 1, x, 2)"
   ]
  },
  {
   "cell_type": "markdown",
   "id": "bfc850fa",
   "metadata": {},
   "source": [
    "{ref}`Knowledge versus technique <fig:knowledge_vs_technique>` is a brief summary.\n",
    "\n",
    "```{figure} ./img/knowledge_vs_technique/main.png\n",
    "---\n",
    "width: 50%\n",
    "name: fig:knowledge_vs_technique\n",
    "---\n",
    "Knowledge versus technique in this book.\n",
    "```"
   ]
  }
 ],
 "metadata": {
  "jupytext": {
   "formats": "ipynb,md:myst",
   "text_representation": {
    "extension": ".md",
    "format_name": "myst",
    "format_version": 0.12,
    "jupytext_version": "1.6.0"
   }
  },
  "kernelspec": {
   "display_name": "Python 3",
   "language": "python",
   "name": "python3"
  },
  "language_info": {
   "codemirror_mode": {
    "name": "ipython",
    "version": 3
   },
   "file_extension": ".py",
   "mimetype": "text/x-python",
   "name": "python",
   "nbconvert_exporter": "python",
   "pygments_lexer": "ipython3",
   "version": "3.10.18"
  },
  "source_map": [
   13,
   83,
   88,
   92,
   94,
   98,
   100
  ]
 },
 "nbformat": 4,
 "nbformat_minor": 5
}