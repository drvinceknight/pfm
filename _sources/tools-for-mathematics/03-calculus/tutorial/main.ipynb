{
 "cells": [
  {
   "cell_type": "markdown",
   "id": "de4b9eda",
   "metadata": {},
   "source": [
    "# Tutorial\n",
    "\n",
    "You will solve the following problem using a computer to assist with the\n",
    "technical aspects:\n",
    "\n",
    "```{admonition} Problem\n",
    "\n",
    "Consider the function\n",
    "$f(x)= \\frac{24 x \\left(a - 4 x\\right) + 2 \\left(a - 8 x\\right) \\left(b - 4 x\\right)}{\\left(b - 4 x\\right)^{4}}$\n",
    "\n",
    "1.  Given that $\\frac{df}{dx}|_{x=0}=0$, $\\frac{d^2f}{dx^2}|_{x=0}=-1$\n",
    "    and that $b>0$ find the values of $a$ and $b$.\n",
    "\n",
    "2.  For the specific values of $a$ and $b$ find:\n",
    "\n",
    "    1.  $\\lim_{x\\to 0}f(x)$;\n",
    "\n",
    "    2.  $\\lim_{x\\to \\infty}f(x)$;\n",
    "\n",
    "    3.  $\\int f(x) dx$;\n",
    "\n",
    "    4.  $\\int_{5}^{20} f(x) dx$.\n",
    "\n",
    "```\n",
    "\n",
    "Sympy is once again the library you will use for this. You will start by\n",
    "creating a variable `expression` that has the value of the expression of\n",
    "$f(x)$:"
   ]
  },
  {
   "cell_type": "code",
   "execution_count": 1,
   "id": "5ca4e54f",
   "metadata": {},
   "outputs": [
    {
     "data": {
      "text/latex": [
       "$\\displaystyle \\frac{24 x \\left(a - 4 x\\right) + \\left(2 a - 16 x\\right) \\left(b - 4 x\\right)}{\\left(b - 4 x\\right)^{4}}$"
      ],
      "text/plain": [
       "(24*x*(a - 4*x) + (2*a - 16*x)*(b - 4*x))/(b - 4*x)**4"
      ]
     },
     "execution_count": 1,
     "metadata": {},
     "output_type": "execute_result"
    }
   ],
   "source": [
    "import sympy as sym\n",
    "\n",
    "x = sym.Symbol(\"x\")\n",
    "a = sym.Symbol(\"a\")\n",
    "b = sym.Symbol(\"b\")\n",
    "expression = (24 * x * (a - 4 * x) + 2 * (a - 8 * x) * (b - 4 * x)) / ((b - 4 * x) ** 4)\n",
    "expression"
   ]
  },
  {
   "cell_type": "markdown",
   "id": "e2546fe1",
   "metadata": {},
   "source": [
    "You will use `sympy.diff` to calculate the derivative. This tool takes\n",
    "two inputs:\n",
    "\n",
    "- the first is the expression you are differentiating. Essentially this is the\n",
    "  numerator of $\\frac{df}{dx}$.\n",
    "\n",
    "- the second is the variable you are differentiating with respect to. This is the\n",
    "  denominator of $\\frac{df}{dx}$.\n",
    "\n",
    "You have imported `import sympy as sym` so you are going to write\n",
    "`sym.diff`:\n",
    "\n",
    "```{attention}\n",
    "We have imported `import sympy as sym` so we are going to write `sym.diff`:\n",
    "```"
   ]
  },
  {
   "cell_type": "code",
   "execution_count": 2,
   "id": "0767782c",
   "metadata": {},
   "outputs": [
    {
     "data": {
      "text/latex": [
       "$\\displaystyle \\frac{16 a - 16 b - 64 x}{\\left(b - 4 x\\right)^{4}} + \\frac{16 \\left(24 x \\left(a - 4 x\\right) + \\left(2 a - 16 x\\right) \\left(b - 4 x\\right)\\right)}{\\left(b - 4 x\\right)^{5}}$"
      ],
      "text/plain": [
       "(16*a - 16*b - 64*x)/(b - 4*x)**4 + 16*(24*x*(a - 4*x) + (2*a - 16*x)*(b - 4*x))/(b - 4*x)**5"
      ]
     },
     "execution_count": 2,
     "metadata": {},
     "output_type": "execute_result"
    }
   ],
   "source": [
    "derivative = sym.diff(expression, x)\n",
    "derivative"
   ]
  },
  {
   "cell_type": "markdown",
   "id": "5a6119f3",
   "metadata": {},
   "source": [
    "Factorise that to make it slightly clearer:"
   ]
  },
  {
   "cell_type": "code",
   "execution_count": 3,
   "id": "f6278350",
   "metadata": {},
   "outputs": [
    {
     "data": {
      "text/latex": [
       "$\\displaystyle \\frac{16 \\left(- 3 a b - 12 a x + b^{2} + 16 b x + 16 x^{2}\\right)}{\\left(- b + 4 x\\right)^{5}}$"
      ],
      "text/plain": [
       "16*(-3*a*b - 12*a*x + b**2 + 16*b*x + 16*x**2)/(-b + 4*x)**5"
      ]
     },
     "execution_count": 3,
     "metadata": {},
     "output_type": "execute_result"
    }
   ],
   "source": [
    "sym.factor(derivative)"
   ]
  },
  {
   "cell_type": "markdown",
   "id": "61b58464",
   "metadata": {},
   "source": [
    "Now we are going to create the second equation, substituting $x=0$ in to the\n",
    "value of the second derivative. We calculate the second derivative by passing a\n",
    "third (optional) input to `sym.diff`:"
   ]
  },
  {
   "cell_type": "code",
   "execution_count": 4,
   "id": "f3de2fa9",
   "metadata": {},
   "outputs": [
    {
     "data": {
      "text/latex": [
       "$\\displaystyle \\frac{32 a}{b^{4}} + \\frac{16 a - 16 b}{b^{4}} = 0$"
      ],
      "text/plain": [
       "Eq(32*a/b**4 + (16*a - 16*b)/b**4, 0)"
      ]
     },
     "execution_count": 4,
     "metadata": {},
     "output_type": "execute_result"
    }
   ],
   "source": [
    "first_equation = sym.Eq(derivative.subs({x: 0}), 0)\n",
    "first_equation"
   ]
  },
  {
   "cell_type": "markdown",
   "id": "4fec7ea1",
   "metadata": {},
   "source": [
    "Factor that equation:"
   ]
  },
  {
   "cell_type": "code",
   "execution_count": 5,
   "id": "fc58c706",
   "metadata": {},
   "outputs": [
    {
     "data": {
      "text/latex": [
       "$\\displaystyle \\frac{16 \\left(3 a - b\\right)}{b^{4}} = 0$"
      ],
      "text/plain": [
       "Eq(16*(3*a - b)/b**4, 0)"
      ]
     },
     "execution_count": 5,
     "metadata": {},
     "output_type": "execute_result"
    }
   ],
   "source": [
    "sym.factor(first_equation)"
   ]
  },
  {
   "cell_type": "markdown",
   "id": "e09751b3",
   "metadata": {},
   "source": [
    "Now you are going to create the second equation, substituting $x=0$ in\n",
    "to the value of the second derivative. Calculate the second derivative\n",
    "by passing a third (optional) input to `sym.diff`:"
   ]
  },
  {
   "cell_type": "code",
   "execution_count": 6,
   "id": "b562010f",
   "metadata": {},
   "outputs": [
    {
     "data": {
      "text/latex": [
       "$\\displaystyle \\frac{64 \\left(-1 - \\frac{8 \\left(- a + b + 4 x\\right)}{b - 4 x} + \\frac{10 \\left(12 x \\left(a - 4 x\\right) + \\left(a - 8 x\\right) \\left(b - 4 x\\right)\\right)}{\\left(b - 4 x\\right)^{2}}\\right)}{\\left(b - 4 x\\right)^{4}}$"
      ],
      "text/plain": [
       "64*(-1 - 8*(-a + b + 4*x)/(b - 4*x) + 10*(12*x*(a - 4*x) + (a - 8*x)*(b - 4*x))/(b - 4*x)**2)/(b - 4*x)**4"
      ]
     },
     "execution_count": 6,
     "metadata": {},
     "output_type": "execute_result"
    }
   ],
   "source": [
    "second_derivative = sym.diff(expression, x, 2)\n",
    "second_derivative"
   ]
  },
  {
   "cell_type": "markdown",
   "id": "0272dffe",
   "metadata": {},
   "source": [
    "We equate this expression to $-1$:"
   ]
  },
  {
   "cell_type": "code",
   "execution_count": 7,
   "id": "3ea3362d",
   "metadata": {},
   "outputs": [
    {
     "data": {
      "text/latex": [
       "$\\displaystyle \\frac{64 \\left(\\frac{10 a}{b} - 1 - \\frac{8 \\left(- a + b\\right)}{b}\\right)}{b^{4}} = -1$"
      ],
      "text/plain": [
       "Eq(64*(10*a/b - 1 - 8*(-a + b)/b)/b**4, -1)"
      ]
     },
     "execution_count": 7,
     "metadata": {},
     "output_type": "execute_result"
    }
   ],
   "source": [
    "second_equation = sym.Eq(second_derivative.subs({x: 0}), -1)\n",
    "second_equation"
   ]
  },
  {
   "cell_type": "markdown",
   "id": "e424ef0b",
   "metadata": {},
   "source": [
    "Now solve the first equation to obtain a value for $a$:"
   ]
  },
  {
   "cell_type": "code",
   "execution_count": 8,
   "id": "2392c2e0",
   "metadata": {},
   "outputs": [
    {
     "data": {
      "text/latex": [
       "$\\displaystyle \\left\\{\\frac{b}{3}\\right\\}$"
      ],
      "text/plain": [
       "{b/3}"
      ]
     },
     "execution_count": 8,
     "metadata": {},
     "output_type": "execute_result"
    }
   ],
   "source": [
    "sym.solveset(first_equation, a)"
   ]
  },
  {
   "cell_type": "markdown",
   "id": "e1f0919d",
   "metadata": {},
   "source": [
    "Now to substitute that value for $a$ and solve the second equation for\n",
    "$b$:"
   ]
  },
  {
   "cell_type": "code",
   "execution_count": 9,
   "id": "f88ffab0",
   "metadata": {},
   "outputs": [
    {
     "data": {
      "text/latex": [
       "$\\displaystyle - \\frac{192}{b^{4}} = -1$"
      ],
      "text/plain": [
       "Eq(-192/b**4, -1)"
      ]
     },
     "execution_count": 9,
     "metadata": {},
     "output_type": "execute_result"
    }
   ],
   "source": [
    "second_equation = second_equation.subs({a: b / 3})\n",
    "second_equation"
   ]
  },
  {
   "cell_type": "code",
   "execution_count": 10,
   "id": "b7b53a25",
   "metadata": {},
   "outputs": [
    {
     "data": {
      "text/latex": [
       "$\\displaystyle \\left\\{- 2 \\sqrt{2} \\sqrt[4]{3}, 2 \\sqrt{2} \\sqrt[4]{3}, - 2 \\sqrt{2} \\sqrt[4]{3} i, 2 \\sqrt{2} \\sqrt[4]{3} i\\right\\}$"
      ],
      "text/plain": [
       "{-2*sqrt(2)*3**(1/4), 2*sqrt(2)*3**(1/4), -2*sqrt(2)*3**(1/4)*I, 2*sqrt(2)*3**(1/4)*I}"
      ]
     },
     "execution_count": 10,
     "metadata": {},
     "output_type": "execute_result"
    }
   ],
   "source": [
    "sym.solveset(second_equation, b)"
   ]
  },
  {
   "cell_type": "markdown",
   "id": "386d0d83",
   "metadata": {},
   "source": [
    "Recalling the question you know that $b>0$ thus:\n",
    "$b = 2\\sqrt{2}\\sqrt[4]{3}$ and $a=\\frac{2\\sqrt{2}\\sqrt[4]{3}}{3}$. You\n",
    "will substitute these values back and finish the question:"
   ]
  },
  {
   "cell_type": "code",
   "execution_count": 11,
   "id": "047ec343",
   "metadata": {},
   "outputs": [
    {
     "data": {
      "text/latex": [
       "$\\displaystyle \\frac{24 x \\left(- 4 x + \\frac{2 \\sqrt{2} \\sqrt[4]{3}}{3}\\right) + \\left(- 16 x + \\frac{4 \\sqrt{2} \\sqrt[4]{3}}{3}\\right) \\left(- 4 x + 2 \\sqrt{2} \\sqrt[4]{3}\\right)}{\\left(- 4 x + 2 \\sqrt{2} \\sqrt[4]{3}\\right)^{4}}$"
      ],
      "text/plain": [
       "(24*x*(-4*x + 2*sqrt(2)*3**(1/4)/3) + (-16*x + 4*sqrt(2)*3**(1/4)/3)*(-4*x + 2*sqrt(2)*3**(1/4)))/(-4*x + 2*sqrt(2)*3**(1/4))**4"
      ]
     },
     "execution_count": 11,
     "metadata": {},
     "output_type": "execute_result"
    }
   ],
   "source": [
    "expression = expression.subs(\n",
    "    {a: 2 * sym.sqrt(2) * sym.root(3, 4) / 3, b: 2 * sym.sqrt(2) * sym.root(3, 4)}\n",
    ")\n",
    "expression"
   ]
  },
  {
   "cell_type": "markdown",
   "id": "1c498d64",
   "metadata": {},
   "source": [
    "```{attention}\n",
    "You are using the `sym.root` command for the generic $n$th root.\n",
    "```\n",
    "\n",
    "You can confirm this:"
   ]
  },
  {
   "cell_type": "code",
   "execution_count": 12,
   "id": "c19abbc4",
   "metadata": {},
   "outputs": [
    {
     "data": {
      "text/latex": [
       "$\\displaystyle 0$"
      ],
      "text/plain": [
       "0"
      ]
     },
     "execution_count": 12,
     "metadata": {},
     "output_type": "execute_result"
    }
   ],
   "source": [
    "sym.diff(expression, x).subs({x: 0})"
   ]
  },
  {
   "cell_type": "code",
   "execution_count": 13,
   "id": "d2837e7c",
   "metadata": {},
   "outputs": [
    {
     "data": {
      "text/latex": [
       "$\\displaystyle -1$"
      ],
      "text/plain": [
       "-1"
      ]
     },
     "execution_count": 13,
     "metadata": {},
     "output_type": "execute_result"
    }
   ],
   "source": [
    "sym.diff(expression, x, 2).subs({x: 0})"
   ]
  },
  {
   "cell_type": "markdown",
   "id": "3226748b",
   "metadata": {},
   "source": [
    "Now you will calculate the using `sym.limit`, this takes 3 inputs:\n",
    "\n",
    "- The expression you are taking the limit of.\n",
    "- The variable that is changing.\n",
    "- The value that the variable is tending towards."
   ]
  },
  {
   "cell_type": "code",
   "execution_count": 14,
   "id": "57eed56d",
   "metadata": {},
   "outputs": [
    {
     "data": {
      "text/latex": [
       "$\\displaystyle \\frac{\\sqrt{3}}{36}$"
      ],
      "text/plain": [
       "sqrt(3)/36"
      ]
     },
     "execution_count": 14,
     "metadata": {},
     "output_type": "execute_result"
    }
   ],
   "source": [
    "sym.limit(expression, x, 0)"
   ]
  },
  {
   "cell_type": "code",
   "execution_count": 15,
   "id": "1ff3b2b0",
   "metadata": {},
   "outputs": [
    {
     "data": {
      "text/latex": [
       "$\\displaystyle 0$"
      ],
      "text/plain": [
       "0"
      ]
     },
     "execution_count": 15,
     "metadata": {},
     "output_type": "execute_result"
    }
   ],
   "source": [
    "sym.limit(expression, x, sym.oo)"
   ]
  },
  {
   "cell_type": "markdown",
   "id": "7b8e8c99",
   "metadata": {},
   "source": [
    "Now you are going to calculate the **indefinite** integral using\n",
    "`sympy.integrate`. This tool takes 2 inputs as:\n",
    "\n",
    "- the first is the expression you're integrating. This is the $f$ in $\\int_a^b f\n",
    "    dx$.\n",
    "- the second is the remaining information needed to calculate the\n",
    "  integral: $x$."
   ]
  },
  {
   "cell_type": "code",
   "execution_count": 16,
   "id": "2df53626",
   "metadata": {},
   "outputs": [
    {
     "data": {
      "text/latex": [
       "$\\displaystyle \\frac{x \\left(6 x - \\sqrt{2} \\sqrt[4]{3}\\right)}{12 \\left(4 x^{3} - 6 \\sqrt{2} \\sqrt[4]{3} x^{2} + 6 \\sqrt{3} x - \\sqrt{2} \\cdot 3^{\\frac{3}{4}}\\right)}$"
      ],
      "text/plain": [
       "x*(6*x - sqrt(2)*3**(1/4))/(12*(4*x**3 - 6*sqrt(2)*3**(1/4)*x**2 + 6*sqrt(3)*x - sqrt(2)*3**(3/4)))"
      ]
     },
     "execution_count": 16,
     "metadata": {},
     "output_type": "execute_result"
    }
   ],
   "source": [
    "sym.factor(sym.integrate(expression, x))"
   ]
  },
  {
   "cell_type": "markdown",
   "id": "258f9b32",
   "metadata": {},
   "source": [
    "If you want to calculate a **definite** integral then instead of passing\n",
    "the single variable you pass a tuple which contains the variables as the\n",
    "bounds of integration:"
   ]
  },
  {
   "cell_type": "code",
   "execution_count": 17,
   "id": "e3b215fc",
   "metadata": {},
   "outputs": [
    {
     "data": {
      "text/latex": [
       "$\\displaystyle - \\frac{5 \\left(- 5000 \\sqrt{2} \\sqrt[4]{3} - 1200 \\sqrt{3} + 75 \\sqrt{2} \\cdot 3^{\\frac{3}{4}} + 119997\\right)}{2 \\left(-32000 - 120 \\sqrt{3} + \\sqrt{2} \\cdot 3^{\\frac{3}{4}} + 2400 \\sqrt{2} \\sqrt[4]{3}\\right) \\left(-500 - 30 \\sqrt{3} + \\sqrt{2} \\cdot 3^{\\frac{3}{4}} + 150 \\sqrt{2} \\sqrt[4]{3}\\right)}$"
      ],
      "text/plain": [
       "-5*(-5000*sqrt(2)*3**(1/4) - 1200*sqrt(3) + 75*sqrt(2)*3**(3/4) + 119997)/(2*(-32000 - 120*sqrt(3) + sqrt(2)*3**(3/4) + 2400*sqrt(2)*3**(1/4))*(-500 - 30*sqrt(3) + sqrt(2)*3**(3/4) + 150*sqrt(2)*3**(1/4)))"
      ]
     },
     "execution_count": 17,
     "metadata": {},
     "output_type": "execute_result"
    }
   ],
   "source": [
    "sym.factor(sym.integrate(expression, (x, 5, 20)))"
   ]
  },
  {
   "cell_type": "markdown",
   "id": "8f65acfa",
   "metadata": {},
   "source": [
    "```{important}\n",
    "This tutorial has:\n",
    "\n",
    "-   Simplified a rational quotient;\n",
    "-   Differentiated symbolic expressions;\n",
    "-   Solved algebraic equations.\n",
    "```"
   ]
  }
 ],
 "metadata": {
  "jupytext": {
   "formats": "ipynb,md:myst",
   "text_representation": {
    "extension": ".md",
    "format_name": "myst",
    "format_version": 0.12,
    "jupytext_version": "1.6.0"
   }
  },
  "kernelspec": {
   "display_name": "Python 3",
   "language": "python",
   "name": "python3"
  },
  "language_info": {
   "codemirror_mode": {
    "name": "ipython",
    "version": 3
   },
   "file_extension": ".py",
   "mimetype": "text/x-python",
   "name": "python",
   "nbconvert_exporter": "python",
   "pygments_lexer": "ipython3",
   "version": "3.10.18"
  },
  "source_map": [
   13,
   44,
   52,
   70,
   73,
   77,
   79,
   85,
   88,
   92,
   94,
   100,
   103,
   107,
   110,
   114,
   116,
   121,
   126,
   128,
   134,
   139,
   147,
   151,
   153,
   161,
   165,
   167,
   177,
   179,
   185,
   187
  ]
 },
 "nbformat": 4,
 "nbformat_minor": 5
}