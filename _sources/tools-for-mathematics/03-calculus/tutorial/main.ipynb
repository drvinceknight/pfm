{
 "cells": [
  {
   "cell_type": "markdown",
   "id": "00af8e7b",
   "metadata": {},
   "source": [
    "# Tutorial\n",
    "\n",
    "We will solve the following problem using a computer to assist with the technical aspects:\n",
    "\n",
    "```{admonition} Problem\n",
    "\n",
    "Consider the function $f(x)= \\frac{24 x \\left(a - 4 x\\right) + 2 \\left(a - 8 x\\right) \\left(b - 4 x\\right)}{\\left(b - 4 x\\right)^{4}}$\n",
    "\n",
    "1. Given that $\\frac{df}{dx}|_{x=0}=0$, $\\frac{d^2f}{dx^2}|_{x=0}=-1$ and that $b>0$ find the values of $a$ and $b$.\n",
    "2. For the specific values of $a$ and $b$ find:\n",
    "    1. $\\lim_{x\\to 0}f(x)$;\n",
    "    2. $\\lim_{x\\to \\infty}f(x)$;\n",
    "    3. $\\int f(x) dx$;\n",
    "    4. $\\int_{5}^{20} f(x) dx$.\n",
    "\n",
    "```\n",
    "\n",
    "Sympy is once again the library we will use for this.\n",
    "\n",
    "We will start by creating a variable `expression` that has the value of the expression of $f(x)$:"
   ]
  },
  {
   "cell_type": "code",
   "execution_count": 1,
   "id": "5c84629c",
   "metadata": {},
   "outputs": [
    {
     "data": {
      "text/latex": [
       "$\\displaystyle \\frac{24 x \\left(a - 4 x\\right) + \\left(2 a - 16 x\\right) \\left(b - 4 x\\right)}{\\left(b - 4 x\\right)^{4}}$"
      ],
      "text/plain": [
       "(24*x*(a - 4*x) + (2*a - 16*x)*(b - 4*x))/(b - 4*x)**4"
      ]
     },
     "execution_count": 1,
     "metadata": {},
     "output_type": "execute_result"
    }
   ],
   "source": [
    "import sympy as sym\n",
    "\n",
    "x = sym.Symbol(\"x\")\n",
    "a = sym.Symbol(\"a\")\n",
    "b = sym.Symbol(\"b\")\n",
    "expression = (24 * x * (a - 4 * x) + 2 * (a - 8 * x) * (b - 4 * x)) / ((b - 4 * x) ** 4)\n",
    "expression"
   ]
  },
  {
   "cell_type": "markdown",
   "id": "376fe130",
   "metadata": {},
   "source": [
    "now we can will use `sympy.diff` to calculate the derivative. This tool takes two inputs:\n",
    "\n",
    "- the first is the expression we are differentiating. Essentially this is the numerator of $\\frac{df}{dx}$.\n",
    "- the first is the variable we are differentiating for. Essentially this is the denominator of $\\frac{df}{dx}$.\n",
    "\n",
    "```{attention}\n",
    "We have imported `import sympy as sym` so we are going to write `sym.diff`:\n",
    "```"
   ]
  },
  {
   "cell_type": "code",
   "execution_count": 2,
   "id": "4d612bc6",
   "metadata": {},
   "outputs": [
    {
     "data": {
      "text/latex": [
       "$\\displaystyle \\frac{16 a - 16 b - 64 x}{\\left(b - 4 x\\right)^{4}} + \\frac{16 \\cdot \\left(24 x \\left(a - 4 x\\right) + \\left(2 a - 16 x\\right) \\left(b - 4 x\\right)\\right)}{\\left(b - 4 x\\right)^{5}}$"
      ],
      "text/plain": [
       "(16*a - 16*b - 64*x)/(b - 4*x)**4 + 16*(24*x*(a - 4*x) + (2*a - 16*x)*(b - 4*x))/(b - 4*x)**5"
      ]
     },
     "execution_count": 2,
     "metadata": {},
     "output_type": "execute_result"
    }
   ],
   "source": [
    "derivative = sym.diff(expression, x)\n",
    "derivative"
   ]
  },
  {
   "cell_type": "markdown",
   "id": "abad5985",
   "metadata": {},
   "source": [
    "Let us factorise that to make it slightly clearer:"
   ]
  },
  {
   "cell_type": "code",
   "execution_count": 3,
   "id": "6dddbc9e",
   "metadata": {},
   "outputs": [
    {
     "data": {
      "text/latex": [
       "$\\displaystyle \\frac{16 \\left(- 3 a b - 12 a x + b^{2} + 16 b x + 16 x^{2}\\right)}{\\left(- b + 4 x\\right)^{5}}$"
      ],
      "text/plain": [
       "16*(-3*a*b - 12*a*x + b**2 + 16*b*x + 16*x**2)/(-b + 4*x)**5"
      ]
     },
     "execution_count": 3,
     "metadata": {},
     "output_type": "execute_result"
    }
   ],
   "source": [
    "sym.factor(derivative)"
   ]
  },
  {
   "cell_type": "markdown",
   "id": "60cf4e8b",
   "metadata": {},
   "source": [
    "We will now create the first equation, which is obtained by substituting $x=0$\n",
    "in to the value of the derivative and equating that to $0$:"
   ]
  },
  {
   "cell_type": "code",
   "execution_count": 4,
   "id": "54fad97a",
   "metadata": {},
   "outputs": [
    {
     "data": {
      "text/latex": [
       "$\\displaystyle \\frac{32 a}{b^{4}} + \\frac{16 a - 16 b}{b^{4}} = 0$"
      ],
      "text/plain": [
       "Eq(32*a/b**4 + (16*a - 16*b)/b**4, 0)"
      ]
     },
     "execution_count": 4,
     "metadata": {},
     "output_type": "execute_result"
    }
   ],
   "source": [
    "first_equation = sym.Eq(derivative.subs({x: 0}), 0)\n",
    "first_equation"
   ]
  },
  {
   "cell_type": "markdown",
   "id": "f279b365",
   "metadata": {},
   "source": [
    "We will factor that equation:"
   ]
  },
  {
   "cell_type": "code",
   "execution_count": 5,
   "id": "a5bcd69e",
   "metadata": {},
   "outputs": [
    {
     "data": {
      "text/latex": [
       "$\\displaystyle \\frac{16 \\cdot \\left(3 a - b\\right)}{b^{4}} = 0$"
      ],
      "text/plain": [
       "Eq(16*(3*a - b)/b**4, 0)"
      ]
     },
     "execution_count": 5,
     "metadata": {},
     "output_type": "execute_result"
    }
   ],
   "source": [
    "sym.factor(first_equation)"
   ]
  },
  {
   "cell_type": "markdown",
   "id": "d66becef",
   "metadata": {},
   "source": [
    "Now we are going to create the second equation, substituting $x=0$ in to the\n",
    "value of the second derivative. We calculate the second derivative by passing a\n",
    "third (optional) input to `sym.diff`:"
   ]
  },
  {
   "cell_type": "code",
   "execution_count": 6,
   "id": "a723ac1a",
   "metadata": {},
   "outputs": [
    {
     "data": {
      "text/latex": [
       "$\\displaystyle \\frac{64 \\left(-1 - \\frac{8 \\left(- a + b + 4 x\\right)}{b - 4 x} + \\frac{10 \\cdot \\left(12 x \\left(a - 4 x\\right) + \\left(a - 8 x\\right) \\left(b - 4 x\\right)\\right)}{\\left(b - 4 x\\right)^{2}}\\right)}{\\left(b - 4 x\\right)^{4}}$"
      ],
      "text/plain": [
       "64*(-1 - 8*(-a + b + 4*x)/(b - 4*x) + 10*(12*x*(a - 4*x) + (a - 8*x)*(b - 4*x))/(b - 4*x)**2)/(b - 4*x)**4"
      ]
     },
     "execution_count": 6,
     "metadata": {},
     "output_type": "execute_result"
    }
   ],
   "source": [
    "second_derivative = sym.diff(expression, x, 2)\n",
    "second_derivative"
   ]
  },
  {
   "cell_type": "markdown",
   "id": "55fe5871",
   "metadata": {},
   "source": [
    "We equate this expression to $-1$:"
   ]
  },
  {
   "cell_type": "code",
   "execution_count": 7,
   "id": "438f7da3",
   "metadata": {},
   "outputs": [
    {
     "data": {
      "text/latex": [
       "$\\displaystyle \\frac{64 \\cdot \\left(\\frac{10 a}{b} - 1 - \\frac{8 \\left(- a + b\\right)}{b}\\right)}{b^{4}} = -1$"
      ],
      "text/plain": [
       "Eq(64*(10*a/b - 1 - 8*(-a + b)/b)/b**4, -1)"
      ]
     },
     "execution_count": 7,
     "metadata": {},
     "output_type": "execute_result"
    }
   ],
   "source": [
    "second_equation = sym.Eq(second_derivative.subs({x: 0}), -1)\n",
    "second_equation"
   ]
  },
  {
   "cell_type": "markdown",
   "id": "03f9e466",
   "metadata": {},
   "source": [
    "Now to solve the first equation to obtain a value for $a$:"
   ]
  },
  {
   "cell_type": "code",
   "execution_count": 8,
   "id": "704895aa",
   "metadata": {},
   "outputs": [
    {
     "data": {
      "text/latex": [
       "$\\displaystyle \\left\\{\\frac{b}{3}\\right\\}$"
      ],
      "text/plain": [
       "{b/3}"
      ]
     },
     "execution_count": 8,
     "metadata": {},
     "output_type": "execute_result"
    }
   ],
   "source": [
    "sym.solveset(first_equation, a)"
   ]
  },
  {
   "cell_type": "markdown",
   "id": "5c14fa42",
   "metadata": {},
   "source": [
    "Now to substitute that value for $a$ and solve the second equation for $b$:"
   ]
  },
  {
   "cell_type": "code",
   "execution_count": 9,
   "id": "0fa9abb5",
   "metadata": {},
   "outputs": [
    {
     "data": {
      "text/latex": [
       "$\\displaystyle - \\frac{192}{b^{4}} = -1$"
      ],
      "text/plain": [
       "Eq(-192/b**4, -1)"
      ]
     },
     "execution_count": 9,
     "metadata": {},
     "output_type": "execute_result"
    }
   ],
   "source": [
    "second_equation = second_equation.subs({a: b / 3})\n",
    "second_equation"
   ]
  },
  {
   "cell_type": "code",
   "execution_count": 10,
   "id": "0b43fb8c",
   "metadata": {},
   "outputs": [
    {
     "data": {
      "text/latex": [
       "$\\displaystyle \\left\\{- 2 \\sqrt{2} \\cdot \\sqrt[4]{3}, 2 \\sqrt{2} \\cdot \\sqrt[4]{3}, - 2 \\sqrt{2} \\cdot \\sqrt[4]{3} i, 2 \\sqrt{2} \\cdot \\sqrt[4]{3} i\\right\\}$"
      ],
      "text/plain": [
       "{-2*sqrt(2)*3**(1/4), 2*sqrt(2)*3**(1/4), -2*sqrt(2)*3**(1/4)*I, 2*sqrt(2)*3**(1/4)*I}"
      ]
     },
     "execution_count": 10,
     "metadata": {},
     "output_type": "execute_result"
    }
   ],
   "source": [
    "sym.solveset(second_equation, b)"
   ]
  },
  {
   "cell_type": "markdown",
   "id": "7290a090",
   "metadata": {},
   "source": [
    "Recalling the question we know that $b>0$ thus: $b = 2\\sqrt{2}\\sqrt[4]{3}$ and\n",
    "$a=\\frac{2\\sqrt{2}\\sqrt[4]{3}}{3}$.\n",
    "\n",
    "We will substitute these values back and finish the question:"
   ]
  },
  {
   "cell_type": "code",
   "execution_count": 11,
   "id": "bae32610",
   "metadata": {},
   "outputs": [
    {
     "data": {
      "text/latex": [
       "$\\displaystyle \\frac{24 x \\left(- 4 x + \\frac{2 \\sqrt{2} \\cdot \\sqrt[4]{3}}{3}\\right) + \\left(- 16 x + \\frac{4 \\sqrt{2} \\cdot \\sqrt[4]{3}}{3}\\right) \\left(- 4 x + 2 \\sqrt{2} \\cdot \\sqrt[4]{3}\\right)}{\\left(- 4 x + 2 \\sqrt{2} \\cdot \\sqrt[4]{3}\\right)^{4}}$"
      ],
      "text/plain": [
       "(24*x*(-4*x + 2*sqrt(2)*3**(1/4)/3) + (-16*x + 4*sqrt(2)*3**(1/4)/3)*(-4*x + 2*sqrt(2)*3**(1/4)))/(-4*x + 2*sqrt(2)*3**(1/4))**4"
      ]
     },
     "execution_count": 11,
     "metadata": {},
     "output_type": "execute_result"
    }
   ],
   "source": [
    "expression = expression.subs(\n",
    "    {a: 2 * sym.sqrt(2) * sym.root(3, 4) / 3, b: 2 * sym.sqrt(2) * sym.root(3, 4)}\n",
    ")\n",
    "expression"
   ]
  },
  {
   "cell_type": "markdown",
   "id": "97b24e10",
   "metadata": {},
   "source": [
    "```{attention}\n",
    "We are using the `sym.root` command for the generic $n$th root.\n",
    "```\n",
    "\n",
    "We can confirm our findings:"
   ]
  },
  {
   "cell_type": "code",
   "execution_count": 12,
   "id": "226099d9",
   "metadata": {},
   "outputs": [
    {
     "data": {
      "text/latex": [
       "$\\displaystyle 0$"
      ],
      "text/plain": [
       "0"
      ]
     },
     "execution_count": 12,
     "metadata": {},
     "output_type": "execute_result"
    }
   ],
   "source": [
    "sym.diff(expression, x).subs({x: 0})"
   ]
  },
  {
   "cell_type": "code",
   "execution_count": 13,
   "id": "7a5d9b41",
   "metadata": {},
   "outputs": [
    {
     "data": {
      "text/latex": [
       "$\\displaystyle -1$"
      ],
      "text/plain": [
       "-1"
      ]
     },
     "execution_count": 13,
     "metadata": {},
     "output_type": "execute_result"
    }
   ],
   "source": [
    "sym.diff(expression, x, 2).subs({x: 0})"
   ]
  },
  {
   "cell_type": "markdown",
   "id": "48a2c656",
   "metadata": {},
   "source": [
    "Now we will calculate the limits using `sym.limit`, this takes 3 inputs:\n",
    "\n",
    "- The expression we are taking the limit of.\n",
    "- The variable that is changing.\n",
    "- The value that the variable is tending towards."
   ]
  },
  {
   "cell_type": "code",
   "execution_count": 14,
   "id": "f4f5bad8",
   "metadata": {},
   "outputs": [
    {
     "data": {
      "text/latex": [
       "$\\displaystyle \\frac{\\sqrt{3}}{36}$"
      ],
      "text/plain": [
       "sqrt(3)/36"
      ]
     },
     "execution_count": 14,
     "metadata": {},
     "output_type": "execute_result"
    }
   ],
   "source": [
    "sym.limit(expression, x, 0)"
   ]
  },
  {
   "cell_type": "code",
   "execution_count": 15,
   "id": "5828d163",
   "metadata": {},
   "outputs": [
    {
     "data": {
      "text/latex": [
       "$\\displaystyle 0$"
      ],
      "text/plain": [
       "0"
      ]
     },
     "execution_count": 15,
     "metadata": {},
     "output_type": "execute_result"
    }
   ],
   "source": [
    "sym.limit(expression, x, sym.oo)"
   ]
  },
  {
   "cell_type": "markdown",
   "id": "17fc76ab",
   "metadata": {},
   "source": [
    "Now we are going to calculate the **indefinite** integral using\n",
    "`sympy.integrate`. This tool takes 2 inputs as:\n",
    "\n",
    "- the first is the expression we're integrating. This is the $f$ in $\\int_a^b f\n",
    "  dx$.\n",
    "- the second is the remaining information needed to calculate the integral: $x$."
   ]
  },
  {
   "cell_type": "code",
   "execution_count": 16,
   "id": "d7678986",
   "metadata": {},
   "outputs": [
    {
     "data": {
      "text/latex": [
       "$\\displaystyle \\frac{x \\left(6 x - \\sqrt{2} \\cdot \\sqrt[4]{3}\\right)}{12 \\cdot \\left(4 x^{3} - 6 \\sqrt{2} \\cdot \\sqrt[4]{3} x^{2} + 6 \\sqrt{3} x - \\sqrt{2} \\cdot 3^{\\frac{3}{4}}\\right)}$"
      ],
      "text/plain": [
       "x*(6*x - sqrt(2)*3**(1/4))/(12*(4*x**3 - 6*sqrt(2)*3**(1/4)*x**2 + 6*sqrt(3)*x - sqrt(2)*3**(3/4)))"
      ]
     },
     "execution_count": 16,
     "metadata": {},
     "output_type": "execute_result"
    }
   ],
   "source": [
    "sym.factor(sym.integrate(expression, x))"
   ]
  },
  {
   "cell_type": "markdown",
   "id": "7edf3712",
   "metadata": {},
   "source": [
    "If we want to calculate a **definite** integral then instead of passing the\n",
    "single variable we pass a tuple which contains the variable as well as the\n",
    "bounds of integration:"
   ]
  },
  {
   "cell_type": "code",
   "execution_count": 17,
   "id": "631ff3da",
   "metadata": {},
   "outputs": [
    {
     "data": {
      "text/latex": [
       "$\\displaystyle - \\frac{5 \\left(- 5000 \\sqrt{2} \\cdot \\sqrt[4]{3} - 1200 \\sqrt{3} + 75 \\sqrt{2} \\cdot 3^{\\frac{3}{4}} + 119997\\right)}{2 \\left(-32000 - 120 \\sqrt{3} + \\sqrt{2} \\cdot 3^{\\frac{3}{4}} + 2400 \\sqrt{2} \\cdot \\sqrt[4]{3}\\right) \\left(-500 - 30 \\sqrt{3} + \\sqrt{2} \\cdot 3^{\\frac{3}{4}} + 150 \\sqrt{2} \\cdot \\sqrt[4]{3}\\right)}$"
      ],
      "text/plain": [
       "-5*(-5000*sqrt(2)*3**(1/4) - 1200*sqrt(3) + 75*sqrt(2)*3**(3/4) + 119997)/(2*(-32000 - 120*sqrt(3) + sqrt(2)*3**(3/4) + 2400*sqrt(2)*3**(1/4))*(-500 - 30*sqrt(3) + sqrt(2)*3**(3/4) + 150*sqrt(2)*3**(1/4)))"
      ]
     },
     "execution_count": 17,
     "metadata": {},
     "output_type": "execute_result"
    }
   ],
   "source": [
    "sym.factor(sym.integrate(expression, (x, 5, 20)))"
   ]
  }
 ],
 "metadata": {
  "jupytext": {
   "formats": "ipynb,md:myst",
   "text_representation": {
    "extension": ".md",
    "format_name": "myst",
    "format_version": 0.12,
    "jupytext_version": "1.6.0"
   }
  },
  "kernelspec": {
   "display_name": "Python 3",
   "language": "python",
   "name": "python3"
  },
  "language_info": {
   "codemirror_mode": {
    "name": "ipython",
    "version": 3
   },
   "file_extension": ".py",
   "mimetype": "text/x-python",
   "name": "python",
   "nbconvert_exporter": "python",
   "pygments_lexer": "ipython3",
   "version": "3.8.17"
  },
  "source_map": [
   13,
   36,
   44,
   55,
   58,
   62,
   64,
   69,
   72,
   76,
   78,
   84,
   87,
   91,
   94,
   98,
   100,
   104,
   109,
   111,
   118,
   123,
   131,
   135,
   137,
   145,
   149,
   151,
   160,
   162,
   168
  ]
 },
 "nbformat": 4,
 "nbformat_minor": 5
}