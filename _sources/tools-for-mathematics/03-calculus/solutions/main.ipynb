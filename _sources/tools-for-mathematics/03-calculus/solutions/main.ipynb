{
 "cells": [
  {
   "cell_type": "markdown",
   "id": "641700a6",
   "metadata": {},
   "source": [
    "# Solutions\n",
    "\n",
    "## Question 1\n",
    "\n",
    "> 1. For each of the following functions calculate $\\frac{df}{dx}$,\n",
    ">    $\\frac{d^2f}{dx^2}$ and $\\int f(x) dx$.\n",
    "\n",
    "> $f(x) = x$"
   ]
  },
  {
   "cell_type": "code",
   "execution_count": 1,
   "id": "49248de2",
   "metadata": {},
   "outputs": [
    {
     "data": {
      "text/latex": [
       "$\\displaystyle 1$"
      ],
      "text/plain": [
       "1"
      ]
     },
     "execution_count": 1,
     "metadata": {},
     "output_type": "execute_result"
    }
   ],
   "source": [
    "import sympy as sym\n",
    "\n",
    "x = sym.Symbol(\"x\")\n",
    "expression = x\n",
    "sym.diff(expression, x)"
   ]
  },
  {
   "cell_type": "code",
   "execution_count": 2,
   "id": "964981a3",
   "metadata": {},
   "outputs": [
    {
     "data": {
      "text/latex": [
       "$\\displaystyle 0$"
      ],
      "text/plain": [
       "0"
      ]
     },
     "execution_count": 2,
     "metadata": {},
     "output_type": "execute_result"
    }
   ],
   "source": [
    "sym.diff(expression, x, 2)"
   ]
  },
  {
   "cell_type": "code",
   "execution_count": 3,
   "id": "f755b028",
   "metadata": {},
   "outputs": [
    {
     "data": {
      "text/latex": [
       "$\\displaystyle \\frac{x^{2}}{2}$"
      ],
      "text/plain": [
       "x**2/2"
      ]
     },
     "execution_count": 3,
     "metadata": {},
     "output_type": "execute_result"
    }
   ],
   "source": [
    "sym.integrate(expression, x)"
   ]
  },
  {
   "cell_type": "markdown",
   "id": "7d89c412",
   "metadata": {},
   "source": [
    "> $f(x) = x ^{\\frac{1}{3}}$"
   ]
  },
  {
   "cell_type": "code",
   "execution_count": 4,
   "id": "32f37d41",
   "metadata": {},
   "outputs": [
    {
     "data": {
      "text/latex": [
       "$\\displaystyle \\frac{1}{3 x^{\\frac{2}{3}}}$"
      ],
      "text/plain": [
       "1/(3*x**(2/3))"
      ]
     },
     "execution_count": 4,
     "metadata": {},
     "output_type": "execute_result"
    }
   ],
   "source": [
    "expression = x ** (sym.S(1) / 3)\n",
    "sym.diff(expression, x)"
   ]
  },
  {
   "cell_type": "code",
   "execution_count": 5,
   "id": "62b3ff67",
   "metadata": {},
   "outputs": [
    {
     "data": {
      "text/latex": [
       "$\\displaystyle - \\frac{2}{9 x^{\\frac{5}{3}}}$"
      ],
      "text/plain": [
       "-2/(9*x**(5/3))"
      ]
     },
     "execution_count": 5,
     "metadata": {},
     "output_type": "execute_result"
    }
   ],
   "source": [
    "sym.diff(expression, x, 2)"
   ]
  },
  {
   "cell_type": "code",
   "execution_count": 6,
   "id": "d80f48b5",
   "metadata": {},
   "outputs": [
    {
     "data": {
      "text/latex": [
       "$\\displaystyle \\frac{3 x^{\\frac{4}{3}}}{4}$"
      ],
      "text/plain": [
       "3*x**(4/3)/4"
      ]
     },
     "execution_count": 6,
     "metadata": {},
     "output_type": "execute_result"
    }
   ],
   "source": [
    "sym.integrate(expression, x)"
   ]
  },
  {
   "cell_type": "markdown",
   "id": "096c6c8e",
   "metadata": {},
   "source": [
    "> $f(x) = 2 x (x - 3) (\\sin(x) - 5)$"
   ]
  },
  {
   "cell_type": "code",
   "execution_count": 7,
   "id": "6e48102b",
   "metadata": {},
   "outputs": [
    {
     "data": {
      "text/latex": [
       "$\\displaystyle 2 x \\left(x - 3\\right) \\cos{\\left(x \\right)} + 2 x \\left(\\sin{\\left(x \\right)} - 5\\right) + 2 \\left(x - 3\\right) \\left(\\sin{\\left(x \\right)} - 5\\right)$"
      ],
      "text/plain": [
       "2*x*(x - 3)*cos(x) + 2*x*(sin(x) - 5) + 2*(x - 3)*(sin(x) - 5)"
      ]
     },
     "execution_count": 7,
     "metadata": {},
     "output_type": "execute_result"
    }
   ],
   "source": [
    "expression = 2 * x * (x - 3) * (sym.sin(x) - 5)\n",
    "sym.diff(expression, x)"
   ]
  },
  {
   "cell_type": "code",
   "execution_count": 8,
   "id": "82b71699",
   "metadata": {},
   "outputs": [
    {
     "data": {
      "text/latex": [
       "$\\displaystyle 2 \\left(- x \\left(x - 3\\right) \\sin{\\left(x \\right)} + 2 x \\cos{\\left(x \\right)} + 2 \\left(x - 3\\right) \\cos{\\left(x \\right)} + 2 \\sin{\\left(x \\right)} - 10\\right)$"
      ],
      "text/plain": [
       "2*(-x*(x - 3)*sin(x) + 2*x*cos(x) + 2*(x - 3)*cos(x) + 2*sin(x) - 10)"
      ]
     },
     "execution_count": 8,
     "metadata": {},
     "output_type": "execute_result"
    }
   ],
   "source": [
    "sym.diff(expression, x, 2)"
   ]
  },
  {
   "cell_type": "code",
   "execution_count": 9,
   "id": "c934e0ec",
   "metadata": {},
   "outputs": [
    {
     "data": {
      "text/latex": [
       "$\\displaystyle - \\frac{10 x^{3}}{3} - 2 x^{2} \\cos{\\left(x \\right)} + 15 x^{2} + 4 x \\sin{\\left(x \\right)} + 6 x \\cos{\\left(x \\right)} - 6 \\sin{\\left(x \\right)} + 4 \\cos{\\left(x \\right)}$"
      ],
      "text/plain": [
       "-10*x**3/3 - 2*x**2*cos(x) + 15*x**2 + 4*x*sin(x) + 6*x*cos(x) - 6*sin(x) + 4*cos(x)"
      ]
     },
     "execution_count": 9,
     "metadata": {},
     "output_type": "execute_result"
    }
   ],
   "source": [
    "sym.integrate(expression, x)"
   ]
  },
  {
   "cell_type": "markdown",
   "id": "2aabccbb",
   "metadata": {},
   "source": [
    "> $f(x) = 3  x ^ 3 + 6 \\sqrt{x} + 3$"
   ]
  },
  {
   "cell_type": "code",
   "execution_count": 10,
   "id": "4135611c",
   "metadata": {},
   "outputs": [
    {
     "data": {
      "text/latex": [
       "$\\displaystyle 9 x^{2} + \\frac{3}{\\sqrt{x}}$"
      ],
      "text/plain": [
       "9*x**2 + 3/sqrt(x)"
      ]
     },
     "execution_count": 10,
     "metadata": {},
     "output_type": "execute_result"
    }
   ],
   "source": [
    "expression = 3 * x ** 3 + 6 * sym.sqrt(x) + 3\n",
    "sym.diff(expression, x)"
   ]
  },
  {
   "cell_type": "code",
   "execution_count": 11,
   "id": "31effe5b",
   "metadata": {},
   "outputs": [
    {
     "data": {
      "text/latex": [
       "$\\displaystyle 3 \\cdot \\left(6 x - \\frac{1}{2 x^{\\frac{3}{2}}}\\right)$"
      ],
      "text/plain": [
       "3*(6*x - 1/(2*x**(3/2)))"
      ]
     },
     "execution_count": 11,
     "metadata": {},
     "output_type": "execute_result"
    }
   ],
   "source": [
    "sym.diff(expression, x, 2)"
   ]
  },
  {
   "cell_type": "code",
   "execution_count": 12,
   "id": "87b08b50",
   "metadata": {},
   "outputs": [
    {
     "data": {
      "text/latex": [
       "$\\displaystyle 4 x^{\\frac{3}{2}} + \\frac{3 x^{4}}{4} + 3 x$"
      ],
      "text/plain": [
       "4*x**(3/2) + 3*x**4/4 + 3*x"
      ]
     },
     "execution_count": 12,
     "metadata": {},
     "output_type": "execute_result"
    }
   ],
   "source": [
    "sym.integrate(expression, x)"
   ]
  },
  {
   "cell_type": "markdown",
   "id": "41a6a58e",
   "metadata": {},
   "source": [
    "## Question 2\n",
    "\n",
    "> `2`. Consider the function $f(x)=2x+1$. By differentiating _from first\n",
    "> principles_ show that $f'(x)=2$.\n",
    "\n",
    "Using the definition of the derivative:"
   ]
  },
  {
   "cell_type": "code",
   "execution_count": 13,
   "id": "8e3753e9",
   "metadata": {},
   "outputs": [
    {
     "data": {
      "text/latex": [
       "$\\displaystyle 2$"
      ],
      "text/plain": [
       "2"
      ]
     },
     "execution_count": 13,
     "metadata": {},
     "output_type": "execute_result"
    }
   ],
   "source": [
    "h = sym.Symbol(\"h\")\n",
    "expression = 2 * x + 1\n",
    "sym.limit((expression - expression.subs({x: x - h})) / h, h, 0)"
   ]
  },
  {
   "cell_type": "markdown",
   "id": "db78578d",
   "metadata": {},
   "source": [
    "## Question 3\n",
    "\n",
    "> `3`. Consider the second derivative $f''(x)=6x+4$ of some cubic function $f(x)$.\n",
    "\n",
    "> `1`. Find $f'(x)$\n",
    "\n",
    "We know the derivative will be the integral of the second derivative with a\n",
    "constant:"
   ]
  },
  {
   "cell_type": "code",
   "execution_count": 14,
   "id": "168ddba7",
   "metadata": {},
   "outputs": [
    {
     "data": {
      "text/latex": [
       "$\\displaystyle c_{1} + 3 x^{2} + 4 x$"
      ],
      "text/plain": [
       "c1 + 3*x**2 + 4*x"
      ]
     },
     "execution_count": 14,
     "metadata": {},
     "output_type": "execute_result"
    }
   ],
   "source": [
    "c1 = sym.Symbol(\"c1\")\n",
    "\n",
    "second_derivative = 6 * x + 4\n",
    "derivative = sym.integrate(second_derivative, x) + c1\n",
    "derivative"
   ]
  },
  {
   "cell_type": "markdown",
   "id": "bafe193c",
   "metadata": {},
   "source": [
    "> `2`. You are given that $f(0)=10$ and $f(1)=13$, find $f(x)$.\n",
    "\n",
    "We know that the cubic will be the integral of the derivative with constant:"
   ]
  },
  {
   "cell_type": "code",
   "execution_count": 15,
   "id": "e2d09afc",
   "metadata": {},
   "outputs": [
    {
     "data": {
      "text/latex": [
       "$\\displaystyle c_{1} x + c_{2} + x^{3} + 2 x^{2}$"
      ],
      "text/plain": [
       "c1*x + c2 + x**3 + 2*x**2"
      ]
     },
     "execution_count": 15,
     "metadata": {},
     "output_type": "execute_result"
    }
   ],
   "source": [
    "c2 = sym.Symbol(\"c2\")\n",
    "\n",
    "cubic = sym.integrate(derivative, x) + c2\n",
    "cubic"
   ]
  },
  {
   "cell_type": "markdown",
   "id": "e8b24e6a",
   "metadata": {},
   "source": [
    "We substitute $x=0$:"
   ]
  },
  {
   "cell_type": "code",
   "execution_count": 16,
   "id": "948c7741",
   "metadata": {},
   "outputs": [
    {
     "data": {
      "text/latex": [
       "$\\displaystyle c_{2}$"
      ],
      "text/plain": [
       "c2"
      ]
     },
     "execution_count": 16,
     "metadata": {},
     "output_type": "execute_result"
    }
   ],
   "source": [
    "cubic.subs({x: 0})"
   ]
  },
  {
   "cell_type": "markdown",
   "id": "90f4dc6a",
   "metadata": {},
   "source": [
    "This gives $c_2=10$. We substitute that back in to our expression for the cubic:"
   ]
  },
  {
   "cell_type": "code",
   "execution_count": 17,
   "id": "2bb7e47d",
   "metadata": {},
   "outputs": [
    {
     "data": {
      "text/latex": [
       "$\\displaystyle c_{1} x + x^{3} + 2 x^{2} + 10$"
      ],
      "text/plain": [
       "c1*x + x**3 + 2*x**2 + 10"
      ]
     },
     "execution_count": 17,
     "metadata": {},
     "output_type": "execute_result"
    }
   ],
   "source": [
    "cubic = cubic.subs({c2: 10})\n",
    "cubic"
   ]
  },
  {
   "cell_type": "markdown",
   "id": "d16a869f",
   "metadata": {},
   "source": [
    "and now substitute $x=1$:"
   ]
  },
  {
   "cell_type": "code",
   "execution_count": 18,
   "id": "267c0578",
   "metadata": {},
   "outputs": [
    {
     "data": {
      "text/latex": [
       "$\\displaystyle c_{1} + 13$"
      ],
      "text/plain": [
       "c1 + 13"
      ]
     },
     "execution_count": 18,
     "metadata": {},
     "output_type": "execute_result"
    }
   ],
   "source": [
    "cubic.subs({x: 1})"
   ]
  },
  {
   "cell_type": "markdown",
   "id": "204767bc",
   "metadata": {},
   "source": [
    "which gives $c_1=0$ which we substitute back in to our expression for the cubic:"
   ]
  },
  {
   "cell_type": "code",
   "execution_count": 19,
   "id": "36b9d91e",
   "metadata": {},
   "outputs": [
    {
     "data": {
      "text/latex": [
       "$\\displaystyle x^{3} + 2 x^{2} + 10$"
      ],
      "text/plain": [
       "x**3 + 2*x**2 + 10"
      ]
     },
     "execution_count": 19,
     "metadata": {},
     "output_type": "execute_result"
    }
   ],
   "source": [
    "cubic = cubic.subs({c1: 0})\n",
    "cubic"
   ]
  },
  {
   "cell_type": "markdown",
   "id": "767e1292",
   "metadata": {},
   "source": [
    "> `3`. Find all the stationary points of $f(x)$ and determine their nature.\n",
    "\n",
    "The stationary points are the points that give $\\frac{df}{dx}=0$:"
   ]
  },
  {
   "cell_type": "code",
   "execution_count": 20,
   "id": "48e5a715",
   "metadata": {},
   "outputs": [
    {
     "data": {
      "text/latex": [
       "$\\displaystyle \\left\\{- \\frac{4}{3}, 0\\right\\}$"
      ],
      "text/plain": [
       "{-4/3, 0}"
      ]
     },
     "execution_count": 20,
     "metadata": {},
     "output_type": "execute_result"
    }
   ],
   "source": [
    "stationary_points = sym.solveset(sym.diff(cubic, x), x)\n",
    "stationary_points"
   ]
  },
  {
   "cell_type": "markdown",
   "id": "cec96b0d",
   "metadata": {},
   "source": [
    "We determine the nature of these turning points by considering the sign of $\\frac{d^2f}{dx^2}$ at each point."
   ]
  },
  {
   "cell_type": "code",
   "execution_count": 21,
   "id": "d57b8c4f",
   "metadata": {},
   "outputs": [
    {
     "data": {
      "text/latex": [
       "$\\displaystyle -4$"
      ],
      "text/plain": [
       "-4"
      ]
     },
     "execution_count": 21,
     "metadata": {},
     "output_type": "execute_result"
    }
   ],
   "source": [
    "second_derivative.subs({x: -4 / sym.S(3)})"
   ]
  },
  {
   "cell_type": "markdown",
   "id": "5c33dd87",
   "metadata": {},
   "source": [
    "This is negative, so it is a local maximum."
   ]
  },
  {
   "cell_type": "code",
   "execution_count": 22,
   "id": "78b75388",
   "metadata": {},
   "outputs": [
    {
     "data": {
      "text/latex": [
       "$\\displaystyle 4$"
      ],
      "text/plain": [
       "4"
      ]
     },
     "execution_count": 22,
     "metadata": {},
     "output_type": "execute_result"
    }
   ],
   "source": [
    "second_derivative.subs({x: 0})"
   ]
  },
  {
   "cell_type": "markdown",
   "id": "a854cac3",
   "metadata": {},
   "source": [
    "This is positive, so it is a local minimum.\n",
    "\n",
    "## Question 4\n",
    "\n",
    "> `4`. Consider the function $f(x)=\\frac{2}{3}x ^ 3 + b x ^ 2 + 2 x + 3$, where\n",
    "> $b$ is some undetermined coefficient.\n",
    "\n",
    "> `1`. Find $f'(x)$ and $f''(x)$"
   ]
  },
  {
   "cell_type": "code",
   "execution_count": 23,
   "id": "7b045c02",
   "metadata": {},
   "outputs": [
    {
     "data": {
      "text/latex": [
       "$\\displaystyle 2 b x + 2 x^{2} + 2$"
      ],
      "text/plain": [
       "2*b*x + 2*x**2 + 2"
      ]
     },
     "execution_count": 23,
     "metadata": {},
     "output_type": "execute_result"
    }
   ],
   "source": [
    "b = sym.Symbol(\"b\")\n",
    "expression = sym.S(2) / 3 * x ** 3 + b * x ** 2 + 2 * x + 3\n",
    "derivative = sym.diff(expression, x)\n",
    "derivative"
   ]
  },
  {
   "cell_type": "code",
   "execution_count": 24,
   "id": "9b5d6a4b",
   "metadata": {},
   "outputs": [],
   "source": [
    "second_derivative = sym.diff(expression, x, 2)"
   ]
  },
  {
   "cell_type": "markdown",
   "id": "c1ae9de3",
   "metadata": {},
   "source": [
    "> `2`. You are given that $f(x)$ has a stationary point at $x=2$. Use this\n",
    "> information to find $b$.\n",
    "\n",
    "We solve the equation that arises when substituting $x=2$ in to the derivative:"
   ]
  },
  {
   "cell_type": "code",
   "execution_count": 25,
   "id": "d0d07589",
   "metadata": {},
   "outputs": [
    {
     "data": {
      "text/latex": [
       "$\\displaystyle 4 b + 10 = 0$"
      ],
      "text/plain": [
       "Eq(4*b + 10, 0)"
      ]
     },
     "execution_count": 25,
     "metadata": {},
     "output_type": "execute_result"
    }
   ],
   "source": [
    "equation = sym.Eq(derivative.subs({x: 2}), 0)\n",
    "equation"
   ]
  },
  {
   "cell_type": "code",
   "execution_count": 26,
   "id": "51d539ed",
   "metadata": {},
   "outputs": [
    {
     "data": {
      "text/latex": [
       "$\\displaystyle \\left\\{- \\frac{5}{2}\\right\\}$"
      ],
      "text/plain": [
       "{-5/2}"
      ]
     },
     "execution_count": 26,
     "metadata": {},
     "output_type": "execute_result"
    }
   ],
   "source": [
    "sym.solveset(equation, b)"
   ]
  },
  {
   "cell_type": "markdown",
   "id": "c89ab92f",
   "metadata": {},
   "source": [
    "> `3`. Find the coordinates of the other stationary point.\n",
    "\n",
    "We substitute this value of $b$ in to the expression:"
   ]
  },
  {
   "cell_type": "code",
   "execution_count": 27,
   "id": "f2833a81",
   "metadata": {},
   "outputs": [
    {
     "data": {
      "text/latex": [
       "$\\displaystyle \\frac{2 x^{3}}{3} - \\frac{5 x^{2}}{2} + 2 x + 3$"
      ],
      "text/plain": [
       "2*x**3/3 - 5*x**2/2 + 2*x + 3"
      ]
     },
     "execution_count": 27,
     "metadata": {},
     "output_type": "execute_result"
    }
   ],
   "source": [
    "b_value = -sym.S(5) / 2\n",
    "expression = expression.subs({b: b_value})\n",
    "expression"
   ]
  },
  {
   "cell_type": "markdown",
   "id": "1db59ba4",
   "metadata": {},
   "source": [
    "and the derivative and then solve the equation:"
   ]
  },
  {
   "cell_type": "code",
   "execution_count": 28,
   "id": "b9336528",
   "metadata": {},
   "outputs": [
    {
     "data": {
      "text/latex": [
       "$\\displaystyle \\left\\{\\frac{1}{2}, 2\\right\\}$"
      ],
      "text/plain": [
       "{1/2, 2}"
      ]
     },
     "execution_count": 28,
     "metadata": {},
     "output_type": "execute_result"
    }
   ],
   "source": [
    "derivative = derivative.subs({b: b_value})\n",
    "sym.solveset(derivative)"
   ]
  },
  {
   "cell_type": "markdown",
   "id": "2b948adb",
   "metadata": {},
   "source": [
    "This confirms that one stationary point is indeed at $x=2$, the other is at\n",
    "$x=1/2$.\n",
    "To get the full coordinate of this other stationary point we substitute this\n",
    "value of $x$ in to $f$:"
   ]
  },
  {
   "cell_type": "code",
   "execution_count": 29,
   "id": "9eea3d16",
   "metadata": {},
   "outputs": [
    {
     "data": {
      "text/latex": [
       "$\\displaystyle \\frac{83}{24}$"
      ],
      "text/plain": [
       "83/24"
      ]
     },
     "execution_count": 29,
     "metadata": {},
     "output_type": "execute_result"
    }
   ],
   "source": [
    "expression.subs({b: b_value, x: sym.S(1) / 2})"
   ]
  },
  {
   "cell_type": "markdown",
   "id": "cdfb1cdd",
   "metadata": {},
   "source": [
    "> `4`. Determine the nature of both stationary points.\n",
    "\n",
    "Substituting both values in to the second derivative:"
   ]
  },
  {
   "cell_type": "code",
   "execution_count": 30,
   "id": "1e999472",
   "metadata": {},
   "outputs": [
    {
     "data": {
      "text/latex": [
       "$\\displaystyle -3$"
      ],
      "text/plain": [
       "-3"
      ]
     },
     "execution_count": 30,
     "metadata": {},
     "output_type": "execute_result"
    }
   ],
   "source": [
    "second_derivative = second_derivative.subs({b: b_value})\n",
    "second_derivative.subs({x: sym.S(1) / 2})"
   ]
  },
  {
   "cell_type": "markdown",
   "id": "14b2569a",
   "metadata": {},
   "source": [
    "This is negative so it is a local maxima."
   ]
  },
  {
   "cell_type": "code",
   "execution_count": 31,
   "id": "56149de0",
   "metadata": {},
   "outputs": [
    {
     "data": {
      "text/latex": [
       "$\\displaystyle 3$"
      ],
      "text/plain": [
       "3"
      ]
     },
     "execution_count": 31,
     "metadata": {},
     "output_type": "execute_result"
    }
   ],
   "source": [
    "second_derivative.subs({x: 2})"
   ]
  },
  {
   "cell_type": "markdown",
   "id": "1e92b240",
   "metadata": {},
   "source": [
    "This is positive so it is a local minima.\n",
    "\n",
    "## Question 5\n",
    "\n",
    "> `5`. Consider the functions $f(x)=-x^2+4x+4$ and $g(x)=3x^2-2x-2$.\n",
    "\n",
    "> `1`. Create a variable `turning_points` which has value the turning points of\n",
    "> $f(x)$."
   ]
  },
  {
   "cell_type": "code",
   "execution_count": 32,
   "id": "c75b3b1f",
   "metadata": {},
   "outputs": [],
   "source": [
    "f = -(x ** 2) + 4 * x + 4\n",
    "derivative = sym.diff(f, x)\n",
    "turning_points = sym.solveset(derivative, x)"
   ]
  },
  {
   "cell_type": "markdown",
   "id": "caf19f79",
   "metadata": {},
   "source": [
    "> `2`. Create variable `intersection_points` which has value of the points where\n",
    "> $f(x)$ and $g(x)$ intersect."
   ]
  },
  {
   "cell_type": "code",
   "execution_count": 33,
   "id": "a1a1d77e",
   "metadata": {},
   "outputs": [
    {
     "data": {
      "text/latex": [
       "$\\displaystyle \\left\\{\\frac{3}{4} - \\frac{\\sqrt{33}}{4}, \\frac{3}{4} + \\frac{\\sqrt{33}}{4}\\right\\}$"
      ],
      "text/plain": [
       "{3/4 - sqrt(33)/4, 3/4 + sqrt(33)/4}"
      ]
     },
     "execution_count": 33,
     "metadata": {},
     "output_type": "execute_result"
    }
   ],
   "source": [
    "g = 3 * x ** 2 - 2 * x - 2\n",
    "equation = sym.Eq(f, g)\n",
    "intersection_points = sym.solveset(equation, x)\n",
    "intersection_points"
   ]
  },
  {
   "cell_type": "markdown",
   "id": "0419bfd6",
   "metadata": {},
   "source": [
    "> `3`. Using your answers to parts 2., calculate the area of the region between\n",
    "> $f$ and $g$. Assign this value to a variable `area_between`.\n",
    "\n",
    "The area between $f$ and $g$ corresponds to the integral of $\\pm (f - g)$\n",
    "between the points of intersection. We here use $f - g$, if the outcome was\n",
    "negative we would take the opposite."
   ]
  },
  {
   "cell_type": "code",
   "execution_count": 34,
   "id": "0b1db435",
   "metadata": {},
   "outputs": [
    {
     "data": {
      "text/latex": [
       "$\\displaystyle \\frac{11 \\sqrt{33}}{4}$"
      ],
      "text/plain": [
       "11*sqrt(33)/4"
      ]
     },
     "execution_count": 34,
     "metadata": {},
     "output_type": "execute_result"
    }
   ],
   "source": [
    "area_between = sym.integrate(\n",
    "    f - g, (x, sym.S(3) / 4 - sym.sqrt(33) / 4, sym.S(3) / 4 + sym.sqrt(33) / 4)\n",
    ")\n",
    "sym.simplify(area_between)"
   ]
  }
 ],
 "metadata": {
  "jupytext": {
   "formats": "ipynb,md:myst",
   "text_representation": {
    "extension": ".md",
    "format_name": "myst",
    "format_version": 0.12,
    "jupytext_version": "1.6.0"
   }
  },
  "kernelspec": {
   "display_name": "Python 3",
   "language": "python",
   "name": "python3"
  },
  "language_info": {
   "codemirror_mode": {
    "name": "ipython",
    "version": 3
   },
   "file_extension": ".py",
   "mimetype": "text/x-python",
   "name": "python",
   "nbconvert_exporter": "python",
   "pygments_lexer": "ipython3",
   "version": "3.10.13"
  },
  "source_map": [
   13,
   24,
   32,
   36,
   38,
   42,
   47,
   51,
   53,
   57,
   62,
   66,
   68,
   72,
   77,
   81,
   83,
   92,
   96,
   107,
   113,
   119,
   124,
   128,
   130,
   134,
   137,
   141,
   143,
   147,
   150,
   156,
   159,
   163,
   165,
   169,
   171,
   182,
   189,
   191,
   198,
   203,
   205,
   211,
   215,
   219,
   222,
   229,
   231,
   237,
   240,
   244,
   246,
   257,
   261,
   266,
   271,
   280
  ]
 },
 "nbformat": 4,
 "nbformat_minor": 5
}