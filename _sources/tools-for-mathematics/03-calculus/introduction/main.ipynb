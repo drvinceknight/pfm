{
 "cells": [
  {
   "cell_type": "markdown",
   "id": "361a5c0c",
   "metadata": {},
   "source": [
    "(chp:calculus)=\n",
    "\n",
    "# Calculus\n",
    "\n",
    "The A-level syllabus describes Calculus describes as:\n",
    "\n",
    "> \"Calculus: this is a fundamental element which describes change in\n",
    "> dynamic situations and underlines the links between functions and\n",
    "> graphs.\"\n",
    "\n",
    "In practice this often means:\n",
    "\n",
    "- taking of functions;\n",
    "- functions;\n",
    "- functions.\n",
    "\n",
    "Here you will see how to instruct a computer to carry out these\n",
    "techniques.\n",
    "\n",
    "```{important}\n",
    "In this chapter you will cover:\n",
    "\n",
    "-   Taking of functions.\n",
    "-   Differentiating functions.\n",
    "-   Computing definite and indefinite integrals.\n",
    "```"
   ]
  }
 ],
 "metadata": {
  "jupytext": {
   "formats": "ipynb,md:myst",
   "text_representation": {
    "extension": ".md",
    "format_name": "myst",
    "format_version": 0.12,
    "jupytext_version": "1.6.0"
   }
  },
  "kernelspec": {
   "display_name": "Python 3",
   "language": "python",
   "name": "python3"
  },
  "language_info": {
   "codemirror_mode": {
    "name": "ipython",
    "version": 3
   },
   "file_extension": ".py",
   "mimetype": "text/x-python",
   "name": "python",
   "nbconvert_exporter": "python",
   "pygments_lexer": "ipython3",
   "version": "3.10.18"
  },
  "source_map": [
   13
  ]
 },
 "nbformat": 4,
 "nbformat_minor": 5
}