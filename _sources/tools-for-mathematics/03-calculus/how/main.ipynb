{
 "cells": [
  {
   "cell_type": "markdown",
   "id": "236575c0",
   "metadata": {},
   "source": [
    "# How\n",
    "\n",
    "## Calculate the derivative of an expression.\n",
    "\n",
    "We can calculate the derivative of an expression using `sympy.diff` which takes,\n",
    "an expression, a variable and a degree.\n",
    "\n",
    "````{tip}\n",
    "```\n",
    "sympy.diff(expression, variable, degree=1)\n",
    "```\n",
    "````\n",
    "\n",
    "The default value of `degree` is 1.\n",
    "\n",
    "For example to compute $\\frac{d (4 x ^ 3 + 2 x + 1}{dx}$:"
   ]
  },
  {
   "cell_type": "code",
   "execution_count": 1,
   "id": "194a8f88",
   "metadata": {},
   "outputs": [
    {
     "data": {
      "text/latex": [
       "$\\displaystyle 12 x^{2} + 2$"
      ],
      "text/plain": [
       "12*x**2 + 2"
      ]
     },
     "execution_count": 1,
     "metadata": {},
     "output_type": "execute_result"
    }
   ],
   "source": [
    "import sympy as sym\n",
    "\n",
    "x = sym.Symbol(\"x\")\n",
    "expression = 4 * x ** 3 + 2 * x + 1\n",
    "sym.diff(expression, x)"
   ]
  },
  {
   "cell_type": "markdown",
   "id": "5c1f5076",
   "metadata": {},
   "source": [
    "To compute the second derivative: $\\frac{d ^ 2 (4 x ^ 3 + 2 x + 1}{dx ^ 2}$"
   ]
  },
  {
   "cell_type": "code",
   "execution_count": 2,
   "id": "4e9c2ddf",
   "metadata": {},
   "outputs": [
    {
     "data": {
      "text/latex": [
       "$\\displaystyle 24 x$"
      ],
      "text/plain": [
       "24*x"
      ]
     },
     "execution_count": 2,
     "metadata": {},
     "output_type": "execute_result"
    }
   ],
   "source": [
    "sym.diff(expression, x, 2)"
   ]
  },
  {
   "cell_type": "markdown",
   "id": "94b344b0",
   "metadata": {},
   "source": [
    "## Calculate the indefinite integral of an expression.\n",
    "\n",
    "We can calculate the indefinite integral of an expression using\n",
    "`sympy.integrate`. Which takes an expression and a variable.\n",
    "\n",
    "````{tip}\n",
    "```\n",
    "sympy.integrate(expression, variable)\n",
    "```\n",
    "````\n",
    "\n",
    "For example to compute $\\int 4x^3 + 2x + 1 dx$:"
   ]
  },
  {
   "cell_type": "code",
   "execution_count": 3,
   "id": "acd39272",
   "metadata": {},
   "outputs": [
    {
     "data": {
      "text/latex": [
       "$\\displaystyle x^{4} + x^{2} + x$"
      ],
      "text/plain": [
       "x**4 + x**2 + x"
      ]
     },
     "execution_count": 3,
     "metadata": {},
     "output_type": "execute_result"
    }
   ],
   "source": [
    "sym.integrate(expression, x)"
   ]
  },
  {
   "cell_type": "markdown",
   "id": "0b1e89ca",
   "metadata": {},
   "source": [
    "## Calculate the definite integral of an expression.\n",
    "\n",
    "We can calculate the definite integral of an expression using\n",
    "`sympy.integrate`. The first argument is an expression but instead of passing a\n",
    "variable as the second argument we pass a tuple with the variable and the upper\n",
    "and lower bounds of integration.\n",
    "\n",
    "````{tip}\n",
    "```\n",
    "sympy.integrate(expression, (variable, lower_bound, upper_bound))\n",
    "```\n",
    "````\n",
    "\n",
    "For example to compute $\\int_0^4 4x^3 + 2x + 1 dx$:"
   ]
  },
  {
   "cell_type": "code",
   "execution_count": 4,
   "id": "cea8cf50",
   "metadata": {},
   "outputs": [
    {
     "data": {
      "text/latex": [
       "$\\displaystyle 276$"
      ],
      "text/plain": [
       "276"
      ]
     },
     "execution_count": 4,
     "metadata": {},
     "output_type": "execute_result"
    }
   ],
   "source": [
    "sym.integrate(expression, (x, 0, 4))"
   ]
  },
  {
   "cell_type": "markdown",
   "id": "7a180a42",
   "metadata": {},
   "source": [
    "## Use $\\infty$\n",
    "\n",
    "In `sympy` we can access $\\infty$ using `sym.oo`:\n",
    "\n",
    "````{tip}\n",
    "```\n",
    "sympy.oo\n",
    "```\n",
    "````\n",
    "\n",
    "For example:"
   ]
  },
  {
   "cell_type": "code",
   "execution_count": 5,
   "id": "725d7660",
   "metadata": {},
   "outputs": [
    {
     "data": {
      "text/latex": [
       "$\\displaystyle \\infty$"
      ],
      "text/plain": [
       "oo"
      ]
     },
     "execution_count": 5,
     "metadata": {},
     "output_type": "execute_result"
    }
   ],
   "source": [
    "sym.oo"
   ]
  },
  {
   "cell_type": "markdown",
   "id": "3c5484f5",
   "metadata": {},
   "source": [
    "## Calculate limits\n",
    "\n",
    "We can calculate limits using `sympy.limit`. The first argument is the\n",
    "expression, then the variable and finally the expression the variable tends to.\n",
    "\n",
    "````{tip}\n",
    "```\n",
    "sympy.limit(expression, variable, value)\n",
    "```\n",
    "````\n",
    "\n",
    "For example to compute $\\lim_{h \\to 0} \\frac{4 x ^ 3 + 2 x + 1 - 4(x - h)^3 - 2(x - h) - 1}{h}$:"
   ]
  },
  {
   "cell_type": "code",
   "execution_count": 6,
   "id": "1c86d678",
   "metadata": {},
   "outputs": [
    {
     "data": {
      "text/latex": [
       "$\\displaystyle 12 x^{2} + 2$"
      ],
      "text/plain": [
       "12*x**2 + 2"
      ]
     },
     "execution_count": 6,
     "metadata": {},
     "output_type": "execute_result"
    }
   ],
   "source": [
    "h = sym.Symbol(\"h\")\n",
    "expression = (4 * x ** 3 + 2 * x + 1 - 4 * (x - h) ** 3 - 2 * (x - h) - 1) / h\n",
    "sym.limit(expression, h, 0)"
   ]
  }
 ],
 "metadata": {
  "jupytext": {
   "formats": "ipynb,md:myst",
   "text_representation": {
    "extension": ".md",
    "format_name": "myst",
    "format_version": 0.12,
    "jupytext_version": "1.6.0"
   }
  },
  "kernelspec": {
   "display_name": "Python 3",
   "language": "python",
   "name": "python3"
  },
  "language_info": {
   "codemirror_mode": {
    "name": "ipython",
    "version": 3
   },
   "file_extension": ".py",
   "mimetype": "text/x-python",
   "name": "python",
   "nbconvert_exporter": "python",
   "pygments_lexer": "ipython3",
   "version": "3.10.12"
  },
  "source_map": [
   13,
   32,
   38,
   42,
   44,
   59,
   61,
   78,
   80,
   94,
   96,
   111
  ]
 },
 "nbformat": 4,
 "nbformat_minor": 5
}