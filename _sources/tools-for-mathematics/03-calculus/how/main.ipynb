{
 "cells": [
  {
   "cell_type": "markdown",
   "id": "0cea65b1",
   "metadata": {},
   "source": [
    "# How\n",
    "\n",
    "## Calculate the derivative of an expression.\n",
    "\n",
    "You can calculate the derivative of an expression using `sympy.diff`\n",
    "which takes, an expression, a variable and a degree.\n",
    "\n",
    "````{admonition} Usage\n",
    ":class: tip\n",
    "```\n",
    "sympy.diff(expression, variable, degree=1)\n",
    "```\n",
    "````\n",
    "\n",
    "The default value of `degree` is 1.\n",
    "\n",
    "For example to compute $\\frac{d (4 x ^ 3 + 2 x + 1}{dx}$:"
   ]
  },
  {
   "cell_type": "code",
   "execution_count": 1,
   "id": "430237a4",
   "metadata": {},
   "outputs": [
    {
     "data": {
      "text/latex": [
       "$\\displaystyle 12 x^{2} + 2$"
      ],
      "text/plain": [
       "12*x**2 + 2"
      ]
     },
     "execution_count": 1,
     "metadata": {},
     "output_type": "execute_result"
    }
   ],
   "source": [
    "import sympy as sym\n",
    "\n",
    "x = sym.Symbol(\"x\")\n",
    "expression = 4 * x ** 3 + 2 * x + 1\n",
    "sym.diff(expression, x)"
   ]
  },
  {
   "cell_type": "markdown",
   "id": "3dae1266",
   "metadata": {},
   "source": [
    "To compute the second derivative: $\\frac{d ^ 2 (4 x ^ 3 + 2 x + 1}{dx ^ 2}$"
   ]
  },
  {
   "cell_type": "code",
   "execution_count": 2,
   "id": "7977811a",
   "metadata": {},
   "outputs": [
    {
     "data": {
      "text/latex": [
       "$\\displaystyle 24 x$"
      ],
      "text/plain": [
       "24*x"
      ]
     },
     "execution_count": 2,
     "metadata": {},
     "output_type": "execute_result"
    }
   ],
   "source": [
    "sym.diff(expression, x, 2)"
   ]
  },
  {
   "cell_type": "markdown",
   "id": "1133d8dd",
   "metadata": {},
   "source": [
    "## Calculate the indefinite integral of an expression.\n",
    "\n",
    "You can calculate the indefinite integral of an expression using\n",
    "`sympy.integrate`. Which takes an expression and a variable.\n",
    "\n",
    "````{admonition} Usage\n",
    ":class: tip\n",
    "```\n",
    "sympy.integrate(expression, variable)\n",
    "```\n",
    "````\n",
    "\n",
    "For example to compute $\\int 4x^3 + 2x + 1 dx$:"
   ]
  },
  {
   "cell_type": "code",
   "execution_count": 3,
   "id": "f9d2353f",
   "metadata": {},
   "outputs": [
    {
     "data": {
      "text/latex": [
       "$\\displaystyle x^{4} + x^{2} + x$"
      ],
      "text/plain": [
       "x**4 + x**2 + x"
      ]
     },
     "execution_count": 3,
     "metadata": {},
     "output_type": "execute_result"
    }
   ],
   "source": [
    "sym.integrate(expression, x)"
   ]
  },
  {
   "cell_type": "markdown",
   "id": "34ddc023",
   "metadata": {},
   "source": [
    "## Calculate the definite integral of an expression.\n",
    "\n",
    "You can calculate the definite integral of an expression using\n",
    "`sympy.integrate`. The first argument is an expression but instead of\n",
    "passing a variable as the second argument you pass a tuple with the\n",
    "variable as well as the upper and lower bounds of integration.\n",
    "\n",
    "````{admonition} Usage\n",
    ":class: tip\n",
    "```\n",
    "sympy.integrate(expression, (variable, lower_bound, upper_bound))\n",
    "```\n",
    "````\n",
    "\n",
    "For example to compute $\\int_0^4 4x^3 + 2x + 1 dx$:"
   ]
  },
  {
   "cell_type": "code",
   "execution_count": 4,
   "id": "72c78ae1",
   "metadata": {},
   "outputs": [
    {
     "data": {
      "text/latex": [
       "$\\displaystyle 276$"
      ],
      "text/plain": [
       "276"
      ]
     },
     "execution_count": 4,
     "metadata": {},
     "output_type": "execute_result"
    }
   ],
   "source": [
    "sym.integrate(expression, (x, 0, 4))"
   ]
  },
  {
   "cell_type": "markdown",
   "id": "4062e632",
   "metadata": {},
   "source": [
    "## Use $\\infty$\n",
    "\n",
    "In `sympy` we can access $\\infty$ using `sym.oo`:\n",
    "\n",
    "````{admonition} Usage\n",
    ":class: tip\n",
    "```\n",
    "sympy.oo\n",
    "```\n",
    "````\n",
    "\n",
    "For example:"
   ]
  },
  {
   "cell_type": "code",
   "execution_count": 5,
   "id": "12cb26b6",
   "metadata": {},
   "outputs": [
    {
     "data": {
      "text/latex": [
       "$\\displaystyle \\infty$"
      ],
      "text/plain": [
       "oo"
      ]
     },
     "execution_count": 5,
     "metadata": {},
     "output_type": "execute_result"
    }
   ],
   "source": [
    "sym.oo"
   ]
  },
  {
   "cell_type": "markdown",
   "id": "d6089cdf",
   "metadata": {},
   "source": [
    "## Calculate limits of an expression\n",
    "\n",
    "You can calculate using `sympy.limit`. The first argument is the\n",
    "expression, then the variable and finally the expression the variable\n",
    "tends to.\n",
    "\n",
    "````{admonition} Usage\n",
    ":class: tip\n",
    "```\n",
    "sympy.limit(expression, variable, value)\n",
    "```\n",
    "````\n",
    "\n",
    "For example to compute $\\lim_{h \\to 0} \\frac{4 x ^ 3 + 2 x + 1 - 4(x - h)^3 - 2(x - h) - 1}{h}$:"
   ]
  },
  {
   "cell_type": "code",
   "execution_count": 6,
   "id": "468caac5",
   "metadata": {},
   "outputs": [
    {
     "data": {
      "text/latex": [
       "$\\displaystyle 12 x^{2} + 2$"
      ],
      "text/plain": [
       "12*x**2 + 2"
      ]
     },
     "execution_count": 6,
     "metadata": {},
     "output_type": "execute_result"
    }
   ],
   "source": [
    "h = sym.Symbol(\"h\")\n",
    "expression = (4 * x ** 3 + 2 * x + 1 - 4 * (x - h) ** 3 - 2 * (x - h) - 1) / h\n",
    "sym.limit(expression, h, 0)"
   ]
  }
 ],
 "metadata": {
  "jupytext": {
   "formats": "ipynb,md:myst",
   "text_representation": {
    "extension": ".md",
    "format_name": "myst",
    "format_version": 0.12,
    "jupytext_version": "1.6.0"
   }
  },
  "kernelspec": {
   "display_name": "Python 3",
   "language": "python",
   "name": "python3"
  },
  "language_info": {
   "codemirror_mode": {
    "name": "ipython",
    "version": 3
   },
   "file_extension": ".py",
   "mimetype": "text/x-python",
   "name": "python",
   "nbconvert_exporter": "python",
   "pygments_lexer": "ipython3",
   "version": "3.10.18"
  },
  "source_map": [
   13,
   33,
   39,
   43,
   45,
   61,
   63,
   81,
   83,
   98,
   100,
   117
  ]
 },
 "nbformat": 4,
 "nbformat_minor": 5
}