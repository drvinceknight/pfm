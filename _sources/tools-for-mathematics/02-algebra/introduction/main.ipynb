{
 "cells": [
  {
   "cell_type": "markdown",
   "id": "64cc0728",
   "metadata": {},
   "source": [
    "(chp:algebra)=\n",
    "\n",
    "# Algebra\n",
    "\n",
    "## Introduction\n",
    "\n",
    "A typical secondary school curriculum includes Algebra which is\n",
    "described, in the A-level syllabus as:\n",
    "\n",
    "> \"Algebra: this is an essential tool which supports and expresses\n",
    "> mathematical reasoning and provides a means to generalise across a\n",
    "> number of contexts.\"\n",
    "\n",
    "In practice this often means:\n",
    "\n",
    "- Manipulating numeric expressions;\n",
    "- Manipulating symbolic expressions;\n",
    "- Solving equations.\n",
    "\n",
    "You can use a computer to carry out some of these techniques.\n",
    "\n",
    "```{important}\n",
    "This chapter covers:\n",
    "\n",
    "-   Manipulating numeric and symbolic expressions.\n",
    "-   Solving equations.\n",
    "```"
   ]
  }
 ],
 "metadata": {
  "jupytext": {
   "formats": "ipynb,md:myst",
   "text_representation": {
    "extension": ".md",
    "format_name": "myst",
    "format_version": 0.12,
    "jupytext_version": "1.6.0"
   }
  },
  "kernelspec": {
   "display_name": "Python 3",
   "language": "python",
   "name": "python3"
  },
  "language_info": {
   "codemirror_mode": {
    "name": "ipython",
    "version": 3
   },
   "file_extension": ".py",
   "mimetype": "text/x-python",
   "name": "python",
   "nbconvert_exporter": "python",
   "pygments_lexer": "ipython3",
   "version": "3.10.18"
  },
  "source_map": [
   13
  ]
 },
 "nbformat": 4,
 "nbformat_minor": 5
}