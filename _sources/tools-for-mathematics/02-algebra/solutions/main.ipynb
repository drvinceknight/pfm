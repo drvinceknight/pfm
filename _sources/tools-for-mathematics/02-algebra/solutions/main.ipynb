{
 "cells": [
  {
   "cell_type": "markdown",
   "id": "f5c78fde",
   "metadata": {},
   "source": [
    "# Solutions\n",
    "\n",
    "## Question 1\n",
    "\n",
    "> `1`. Simplify the following expressions:\n",
    "\n",
    "> $\\frac{3}{\\sqrt{3}}$:"
   ]
  },
  {
   "cell_type": "code",
   "execution_count": 1,
   "id": "5db607a5",
   "metadata": {},
   "outputs": [
    {
     "data": {
      "text/latex": [
       "$\\displaystyle \\sqrt{3}$"
      ],
      "text/plain": [
       "sqrt(3)"
      ]
     },
     "execution_count": 1,
     "metadata": {},
     "output_type": "execute_result"
    }
   ],
   "source": [
    "import sympy as sym\n",
    "\n",
    "expression = sym.S(3) / sym.sqrt(3)\n",
    "sym.simplify(expression)"
   ]
  },
  {
   "cell_type": "markdown",
   "id": "61464dce",
   "metadata": {},
   "source": [
    "> $\\frac{2 ^ {78}}{2 ^ {12}2^{-32}}$:"
   ]
  },
  {
   "cell_type": "code",
   "execution_count": 2,
   "id": "5d91f177",
   "metadata": {},
   "outputs": [
    {
     "data": {
      "text/latex": [
       "$\\displaystyle 316912650057057350374175801344$"
      ],
      "text/plain": [
       "316912650057057350374175801344"
      ]
     },
     "execution_count": 2,
     "metadata": {},
     "output_type": "execute_result"
    }
   ],
   "source": [
    "sym.S(2) ** 78 / (sym.S(2) ** 12 * sym.S(2) ** (-32))"
   ]
  },
  {
   "cell_type": "markdown",
   "id": "d8a1a83c",
   "metadata": {},
   "source": [
    "> $8^0$:"
   ]
  },
  {
   "cell_type": "code",
   "execution_count": 3,
   "id": "c6542234",
   "metadata": {},
   "outputs": [
    {
     "data": {
      "text/latex": [
       "$\\displaystyle 1$"
      ],
      "text/plain": [
       "1"
      ]
     },
     "execution_count": 3,
     "metadata": {},
     "output_type": "execute_result"
    }
   ],
   "source": [
    "sym.S(8) ** 0"
   ]
  },
  {
   "cell_type": "markdown",
   "id": "6ff42ef3",
   "metadata": {},
   "source": [
    "> $a^4b^{-2}+a^{3}b^{2}+a^{4}b^0$:"
   ]
  },
  {
   "cell_type": "code",
   "execution_count": 4,
   "id": "384bd3a8",
   "metadata": {},
   "outputs": [
    {
     "data": {
      "text/latex": [
       "$\\displaystyle \\frac{a^{3} \\left(a b^{2} + a + b^{4}\\right)}{b^{2}}$"
      ],
      "text/plain": [
       "a**3*(a*b**2 + a + b**4)/b**2"
      ]
     },
     "execution_count": 4,
     "metadata": {},
     "output_type": "execute_result"
    }
   ],
   "source": [
    "a = sym.Symbol(\"a\")\n",
    "b = sym.Symbol(\"b\")\n",
    "sym.factor(a ** 4 * b ** (-2) + a ** 3 * b ** 2 + a ** 4 * b ** 0)"
   ]
  },
  {
   "cell_type": "markdown",
   "id": "772f4645",
   "metadata": {},
   "source": [
    "## Question 2\n",
    "\n",
    "> `2`. Solve the following equations:\n",
    "\n",
    "> $x + 3 = -1$:"
   ]
  },
  {
   "cell_type": "code",
   "execution_count": 5,
   "id": "0e4feaac",
   "metadata": {},
   "outputs": [
    {
     "data": {
      "text/latex": [
       "$\\displaystyle \\left\\{-4\\right\\}$"
      ],
      "text/plain": [
       "{-4}"
      ]
     },
     "execution_count": 5,
     "metadata": {},
     "output_type": "execute_result"
    }
   ],
   "source": [
    "x = sym.Symbol(\"x\")\n",
    "equation = sym.Eq(x + 3, -1)\n",
    "sym.solveset(equation, x)"
   ]
  },
  {
   "cell_type": "markdown",
   "id": "47c25352",
   "metadata": {},
   "source": [
    "> $3 x ^ 2 - 2 x = 5$:"
   ]
  },
  {
   "cell_type": "code",
   "execution_count": 6,
   "id": "912fa63d",
   "metadata": {},
   "outputs": [
    {
     "data": {
      "text/latex": [
       "$\\displaystyle \\left\\{-1, \\frac{5}{3}\\right\\}$"
      ],
      "text/plain": [
       "{-1, 5/3}"
      ]
     },
     "execution_count": 6,
     "metadata": {},
     "output_type": "execute_result"
    }
   ],
   "source": [
    "equation = sym.Eq(3 * x ** 2 - 2 * x, 5)\n",
    "sym.solveset(equation, x)"
   ]
  },
  {
   "cell_type": "markdown",
   "id": "5e5e94cc",
   "metadata": {},
   "source": [
    "> $x (x - 1) (x + 3) = 0$:"
   ]
  },
  {
   "cell_type": "code",
   "execution_count": 7,
   "id": "bc9db8f2",
   "metadata": {},
   "outputs": [
    {
     "data": {
      "text/latex": [
       "$\\displaystyle \\left\\{-3, 0, 1\\right\\}$"
      ],
      "text/plain": [
       "{-3, 0, 1}"
      ]
     },
     "execution_count": 7,
     "metadata": {},
     "output_type": "execute_result"
    }
   ],
   "source": [
    "equation = sym.Eq(x * (x - 1) * (x + 3), 0)\n",
    "sym.solveset(equation, x)"
   ]
  },
  {
   "cell_type": "markdown",
   "id": "4c1e50a9",
   "metadata": {},
   "source": [
    "> $4 x ^3 + 7x - 24 = 1$:"
   ]
  },
  {
   "cell_type": "code",
   "execution_count": 8,
   "id": "4c671104",
   "metadata": {},
   "outputs": [
    {
     "data": {
      "text/latex": [
       "$\\displaystyle \\left\\{- \\frac{7}{12 \\sqrt[3]{\\frac{25}{8} + \\frac{\\sqrt{51654}}{72}}} + \\sqrt[3]{\\frac{25}{8} + \\frac{\\sqrt{51654}}{72}}, - \\frac{\\sqrt[3]{\\frac{25}{8} + \\frac{\\sqrt{51654}}{72}}}{2} + \\frac{7}{24 \\sqrt[3]{\\frac{25}{8} + \\frac{\\sqrt{51654}}{72}}} + i \\left(\\frac{7 \\sqrt{3}}{24 \\sqrt[3]{\\frac{25}{8} + \\frac{\\sqrt{51654}}{72}}} + \\frac{\\sqrt{3} \\sqrt[3]{\\frac{25}{8} + \\frac{\\sqrt{51654}}{72}}}{2}\\right), - \\frac{\\sqrt[3]{\\frac{25}{8} + \\frac{\\sqrt{51654}}{72}}}{2} + \\frac{7}{24 \\sqrt[3]{\\frac{25}{8} + \\frac{\\sqrt{51654}}{72}}} + i \\left(- \\frac{\\sqrt{3} \\sqrt[3]{\\frac{25}{8} + \\frac{\\sqrt{51654}}{72}}}{2} - \\frac{7 \\sqrt{3}}{24 \\sqrt[3]{\\frac{25}{8} + \\frac{\\sqrt{51654}}{72}}}\\right)\\right\\}$"
      ],
      "text/plain": [
       "{-7/(12*(25/8 + sqrt(51654)/72)**(1/3)) + (25/8 + sqrt(51654)/72)**(1/3), -(25/8 + sqrt(51654)/72)**(1/3)/2 + 7/(24*(25/8 + sqrt(51654)/72)**(1/3)) + I*(7*sqrt(3)/(24*(25/8 + sqrt(51654)/72)**(1/3)) + sqrt(3)*(25/8 + sqrt(51654)/72)**(1/3)/2), -(25/8 + sqrt(51654)/72)**(1/3)/2 + 7/(24*(25/8 + sqrt(51654)/72)**(1/3)) + I*(-sqrt(3)*(25/8 + sqrt(51654)/72)**(1/3)/2 - 7*sqrt(3)/(24*(25/8 + sqrt(51654)/72)**(1/3)))}"
      ]
     },
     "execution_count": 8,
     "metadata": {},
     "output_type": "execute_result"
    }
   ],
   "source": [
    "equation = sym.Eq(4 * x ** 3 + 7 * x - 24, 1)\n",
    "sym.solveset(equation, x)"
   ]
  },
  {
   "cell_type": "markdown",
   "id": "2b5659a6",
   "metadata": {},
   "source": [
    "## Question 3\n",
    "\n",
    "> `3`. Consider the equation: $x ^ 2 + 4 - y = \\frac{1}{y}$:\n",
    "\n",
    "> Find the solution to this equation for $x$."
   ]
  },
  {
   "cell_type": "code",
   "execution_count": 9,
   "id": "78d643a7",
   "metadata": {},
   "outputs": [
    {
     "data": {
      "text/latex": [
       "$\\displaystyle \\left\\{- \\sqrt{\\frac{y^{2} - 4 y + 1}{y}}, \\sqrt{\\frac{y^{2} - 4 y + 1}{y}}\\right\\}$"
      ],
      "text/plain": [
       "{-sqrt((y**2 - 4*y + 1)/y), sqrt((y**2 - 4*y + 1)/y)}"
      ]
     },
     "execution_count": 9,
     "metadata": {},
     "output_type": "execute_result"
    }
   ],
   "source": [
    "y = sym.Symbol(\"y\")\n",
    "equation = sym.Eq(x ** 2 + 4 - y, 1 / y)\n",
    "solution = sym.solveset(equation, x)\n",
    "solution"
   ]
  },
  {
   "cell_type": "markdown",
   "id": "dd289a42",
   "metadata": {},
   "source": [
    "> Obtain the specific solution when $y = 5$. Do this in two ways:\n",
    "> substitute the value in to your equation and substitute the value in to\n",
    "> your solution."
   ]
  },
  {
   "cell_type": "code",
   "execution_count": 10,
   "id": "77a4762e",
   "metadata": {},
   "outputs": [
    {
     "data": {
      "text/latex": [
       "$\\displaystyle \\left\\{- \\frac{\\sqrt{30}}{5}, \\frac{\\sqrt{30}}{5}\\right\\}$"
      ],
      "text/plain": [
       "{-sqrt(30)/5, sqrt(30)/5}"
      ]
     },
     "execution_count": 10,
     "metadata": {},
     "output_type": "execute_result"
    }
   ],
   "source": [
    "solution.subs({y: 5})"
   ]
  },
  {
   "cell_type": "code",
   "execution_count": 11,
   "id": "3b008d2c",
   "metadata": {},
   "outputs": [
    {
     "data": {
      "text/latex": [
       "$\\displaystyle \\left\\{- \\frac{\\sqrt{30}}{5}, \\frac{\\sqrt{30}}{5}\\right\\}$"
      ],
      "text/plain": [
       "{-sqrt(30)/5, sqrt(30)/5}"
      ]
     },
     "execution_count": 11,
     "metadata": {},
     "output_type": "execute_result"
    }
   ],
   "source": [
    "solution = sym.solveset(equation.subs({y: 5}), x)\n",
    "solution"
   ]
  },
  {
   "cell_type": "markdown",
   "id": "505e7dd1",
   "metadata": {},
   "source": [
    "## Question 4\n",
    "\n",
    "> `4`. Consider the quadratic: $f(x)=4x ^ 2 + 16x + 25$:\n",
    "\n",
    "> Calculate the discriminant of the quadratic equation $4x ^ 2 + 16x + 25 =\n",
    "> 0$. What does this tell us about the solutions to the equation? What\n",
    "> does this tell us about the graph of $f(x)$?"
   ]
  },
  {
   "cell_type": "code",
   "execution_count": 12,
   "id": "74214c9c",
   "metadata": {},
   "outputs": [
    {
     "data": {
      "text/latex": [
       "$\\displaystyle -144$"
      ],
      "text/plain": [
       "-144"
      ]
     },
     "execution_count": 12,
     "metadata": {},
     "output_type": "execute_result"
    }
   ],
   "source": [
    "quadratic = 4 * x ** 2 + 16 * x + 25\n",
    "sym.discriminant(quadratic)"
   ]
  },
  {
   "cell_type": "markdown",
   "id": "ae5c7f0c",
   "metadata": {},
   "source": [
    "This is negative so we know that the equation does not have any real solutions and\n",
    "hence the graph does not cross the x-axis.\n",
    "Since the coefficient of $x^2$ is positive it means that the graph is above\n",
    "the $y=0$ line.\n",
    "\n",
    "> By completing the square, show that the minimum point of $f(x)$ is\n",
    "> $\\left(-2, 9\\right)$"
   ]
  },
  {
   "cell_type": "code",
   "execution_count": 13,
   "id": "d867e089",
   "metadata": {},
   "outputs": [
    {
     "data": {
      "text/latex": [
       "$\\displaystyle a b^{2} - 2 a b x + a x^{2} + c$"
      ],
      "text/plain": [
       "a*b**2 - 2*a*b*x + a*x**2 + c"
      ]
     },
     "execution_count": 13,
     "metadata": {},
     "output_type": "execute_result"
    }
   ],
   "source": [
    "a, b, c = sym.Symbol(\"a\"), sym.Symbol(\"b\"), sym.Symbol(\"c\")\n",
    "completed_square = a * (x - b) ** 2 + c\n",
    "sym.expand(completed_square)"
   ]
  },
  {
   "cell_type": "markdown",
   "id": "e251037a",
   "metadata": {},
   "source": [
    "This gives $a=4$."
   ]
  },
  {
   "cell_type": "code",
   "execution_count": 14,
   "id": "126a2d29",
   "metadata": {},
   "outputs": [
    {
     "data": {
      "text/latex": [
       "$\\displaystyle 4 b^{2} - 8 b x + c + 4 x^{2}$"
      ],
      "text/plain": [
       "4*b**2 - 8*b*x + c + 4*x**2"
      ]
     },
     "execution_count": 14,
     "metadata": {},
     "output_type": "execute_result"
    }
   ],
   "source": [
    "completed_square = completed_square.subs({a: 4})\n",
    "sym.expand(completed_square)"
   ]
  },
  {
   "cell_type": "markdown",
   "id": "eeba8392",
   "metadata": {},
   "source": [
    "Comparing the coefficients of $x$ we have the equation:\n",
    "\n",
    "$$\n",
    "  - 8 b = 16\n",
    "$$"
   ]
  },
  {
   "cell_type": "code",
   "execution_count": 15,
   "id": "6dd2faf4",
   "metadata": {},
   "outputs": [
    {
     "data": {
      "text/latex": [
       "$\\displaystyle \\left\\{-2\\right\\}$"
      ],
      "text/plain": [
       "{-2}"
      ]
     },
     "execution_count": 15,
     "metadata": {},
     "output_type": "execute_result"
    }
   ],
   "source": [
    "equation = sym.Eq(-8 * b, 16)\n",
    "sym.solveset(equation, b)"
   ]
  },
  {
   "cell_type": "markdown",
   "id": "6e4d65ee",
   "metadata": {},
   "source": [
    "Substituting:"
   ]
  },
  {
   "cell_type": "code",
   "execution_count": 16,
   "id": "9ea2f119",
   "metadata": {},
   "outputs": [
    {
     "data": {
      "text/latex": [
       "$\\displaystyle c + 4 x^{2} + 16 x + 16$"
      ],
      "text/plain": [
       "c + 4*x**2 + 16*x + 16"
      ]
     },
     "execution_count": 16,
     "metadata": {},
     "output_type": "execute_result"
    }
   ],
   "source": [
    "completed_square = completed_square.subs({b: -2})\n",
    "sym.expand(completed_square)"
   ]
  },
  {
   "cell_type": "markdown",
   "id": "5444e8a9",
   "metadata": {},
   "source": [
    "Comparing the coefficients of $x^0$ this gives:\n",
    "\n",
    "$$c+16=25$$"
   ]
  },
  {
   "cell_type": "code",
   "execution_count": 17,
   "id": "6d490425",
   "metadata": {},
   "outputs": [
    {
     "data": {
      "text/latex": [
       "$\\displaystyle \\left\\{9\\right\\}$"
      ],
      "text/plain": [
       "{9}"
      ]
     },
     "execution_count": 17,
     "metadata": {},
     "output_type": "execute_result"
    }
   ],
   "source": [
    "equation = sym.Eq(c + 16, 25)\n",
    "sym.solveset(equation, c)"
   ]
  },
  {
   "cell_type": "code",
   "execution_count": 18,
   "id": "5b739632",
   "metadata": {},
   "outputs": [
    {
     "data": {
      "text/latex": [
       "$\\displaystyle 4 \\left(x + 2\\right)^{2} + 9$"
      ],
      "text/plain": [
       "4*(x + 2)**2 + 9"
      ]
     },
     "execution_count": 18,
     "metadata": {},
     "output_type": "execute_result"
    }
   ],
   "source": [
    "completed_square = completed_square.subs({c: 9})\n",
    "completed_square"
   ]
  },
  {
   "cell_type": "markdown",
   "id": "5cf1f05d",
   "metadata": {},
   "source": [
    "The lowest value of $f(x)$ is for $x=-2$ which gives: $f(-2)=9$ as expected.\n",
    "\n",
    "## Question 5\n",
    "\n",
    "> `5`. Consider the quadratic: $f(x)=-3x ^ 2 + 24x - 97$:\n",
    "\n",
    "> Calculate the discriminant of the quadratic equation $-3x ^ 2 + 24x - 97 =\n",
    "> 0$. What does this tell us about the solutions to the equation? What\n",
    "> does this tell us about the graph of $f(x)$?"
   ]
  },
  {
   "cell_type": "code",
   "execution_count": 19,
   "id": "7e9eb196",
   "metadata": {},
   "outputs": [
    {
     "data": {
      "text/latex": [
       "$\\displaystyle -588$"
      ],
      "text/plain": [
       "-588"
      ]
     },
     "execution_count": 19,
     "metadata": {},
     "output_type": "execute_result"
    }
   ],
   "source": [
    "quadratic = -3 * x ** 2 + 24 * x - 97\n",
    "sym.discriminant(quadratic)"
   ]
  },
  {
   "cell_type": "markdown",
   "id": "b6211427",
   "metadata": {},
   "source": [
    "This is negative so we know that the equation does not have any real solutions and\n",
    "hence the graph does not cross the x-axis.\n",
    "Since the coefficient of $x^2$ is negative it means that the graph is below\n",
    "the $y=0$ line.\n",
    "\n",
    "> By completing the square, show that the maximum point of $f(x)$ is\n",
    "> $\\left(4, -49\\right)$"
   ]
  },
  {
   "cell_type": "code",
   "execution_count": 20,
   "id": "dcfe79b9",
   "metadata": {},
   "outputs": [
    {
     "data": {
      "text/latex": [
       "$\\displaystyle a b^{2} - 2 a b x + a x^{2} + c$"
      ],
      "text/plain": [
       "a*b**2 - 2*a*b*x + a*x**2 + c"
      ]
     },
     "execution_count": 20,
     "metadata": {},
     "output_type": "execute_result"
    }
   ],
   "source": [
    "a, b, c = sym.Symbol(\"a\"), sym.Symbol(\"b\"), sym.Symbol(\"c\")\n",
    "completed_square = a * (x - b) ** 2 + c\n",
    "sym.expand(completed_square)"
   ]
  },
  {
   "cell_type": "markdown",
   "id": "daedb83d",
   "metadata": {},
   "source": [
    "This gives $a=-3$."
   ]
  },
  {
   "cell_type": "code",
   "execution_count": 21,
   "id": "363a9666",
   "metadata": {},
   "outputs": [
    {
     "data": {
      "text/latex": [
       "$\\displaystyle - 3 b^{2} + 6 b x + c - 3 x^{2}$"
      ],
      "text/plain": [
       "-3*b**2 + 6*b*x + c - 3*x**2"
      ]
     },
     "execution_count": 21,
     "metadata": {},
     "output_type": "execute_result"
    }
   ],
   "source": [
    "completed_square = completed_square.subs({a: -3})\n",
    "sym.expand(completed_square)"
   ]
  },
  {
   "cell_type": "markdown",
   "id": "1dd0fcac",
   "metadata": {},
   "source": [
    "Comparing the coefficients of $x$ we have the equation:\n",
    "\n",
    "$$\n",
    "  6 b = 24\n",
    "$$"
   ]
  },
  {
   "cell_type": "code",
   "execution_count": 22,
   "id": "07d6bfd3",
   "metadata": {},
   "outputs": [
    {
     "data": {
      "text/latex": [
       "$\\displaystyle \\left\\{4\\right\\}$"
      ],
      "text/plain": [
       "{4}"
      ]
     },
     "execution_count": 22,
     "metadata": {},
     "output_type": "execute_result"
    }
   ],
   "source": [
    "equation = sym.Eq(6 * b, 24)\n",
    "sym.solveset(equation, b)"
   ]
  },
  {
   "cell_type": "markdown",
   "id": "c8056254",
   "metadata": {},
   "source": [
    "Substituting:"
   ]
  },
  {
   "cell_type": "code",
   "execution_count": 23,
   "id": "5a95318d",
   "metadata": {},
   "outputs": [
    {
     "data": {
      "text/latex": [
       "$\\displaystyle c - 3 x^{2} + 24 x - 48$"
      ],
      "text/plain": [
       "c - 3*x**2 + 24*x - 48"
      ]
     },
     "execution_count": 23,
     "metadata": {},
     "output_type": "execute_result"
    }
   ],
   "source": [
    "completed_square = completed_square.subs({b: 4})\n",
    "sym.expand(completed_square)"
   ]
  },
  {
   "cell_type": "markdown",
   "id": "7d8b10ae",
   "metadata": {},
   "source": [
    "Comparing the coefficients of $x^0$ this gives:\n",
    "\n",
    "$$c-48=-97$$"
   ]
  },
  {
   "cell_type": "code",
   "execution_count": 24,
   "id": "bca9cd37",
   "metadata": {},
   "outputs": [
    {
     "data": {
      "text/latex": [
       "$\\displaystyle \\left\\{-49\\right\\}$"
      ],
      "text/plain": [
       "{-49}"
      ]
     },
     "execution_count": 24,
     "metadata": {},
     "output_type": "execute_result"
    }
   ],
   "source": [
    "equation = sym.Eq(c - 48, -97)\n",
    "sym.solveset(equation, c)"
   ]
  },
  {
   "cell_type": "code",
   "execution_count": 25,
   "id": "d7b82d84",
   "metadata": {},
   "outputs": [
    {
     "data": {
      "text/latex": [
       "$\\displaystyle - 3 \\left(x - 4\\right)^{2} - 49$"
      ],
      "text/plain": [
       "-3*(x - 4)**2 - 49"
      ]
     },
     "execution_count": 25,
     "metadata": {},
     "output_type": "execute_result"
    }
   ],
   "source": [
    "completed_square = completed_square.subs({c: -49})\n",
    "completed_square"
   ]
  },
  {
   "cell_type": "markdown",
   "id": "b8ce5f04",
   "metadata": {},
   "source": [
    "The highest value of $f(x)$ is for $x=4$ which gives: $f(4)=-49$ as expected.\n",
    "\n",
    "## Question 6\n",
    "\n",
    "`6`. Consider the function $f(x) = x^ 2 + a x + b$.\n",
    "\n",
    "> Given that $f(0) = 0$ and $f(3) = 0$ obtain the values of $a$ and $b$.\n",
    "\n",
    "Substituting 0 in to $f$ gives:"
   ]
  },
  {
   "cell_type": "code",
   "execution_count": 26,
   "id": "68ef8952",
   "metadata": {},
   "outputs": [
    {
     "data": {
      "text/latex": [
       "$\\displaystyle b$"
      ],
      "text/plain": [
       "b"
      ]
     },
     "execution_count": 26,
     "metadata": {},
     "output_type": "execute_result"
    }
   ],
   "source": [
    "expression = x ** 2 + a * x + b\n",
    "expression.subs({x: 0})"
   ]
  },
  {
   "cell_type": "markdown",
   "id": "9f729642",
   "metadata": {},
   "source": [
    "This implies that $b=0$. Substituting back in to the expression:"
   ]
  },
  {
   "cell_type": "code",
   "execution_count": 27,
   "id": "92ab47ae",
   "metadata": {},
   "outputs": [
    {
     "data": {
      "text/latex": [
       "$\\displaystyle a x + x^{2}$"
      ],
      "text/plain": [
       "a*x + x**2"
      ]
     },
     "execution_count": 27,
     "metadata": {},
     "output_type": "execute_result"
    }
   ],
   "source": [
    "expression = expression.subs({b: 0})\n",
    "expression"
   ]
  },
  {
   "cell_type": "markdown",
   "id": "a5fc0600",
   "metadata": {},
   "source": [
    "Substituting $x=3$ in to this expression gives:"
   ]
  },
  {
   "cell_type": "code",
   "execution_count": 28,
   "id": "0a609f27",
   "metadata": {},
   "outputs": [
    {
     "data": {
      "text/latex": [
       "$\\displaystyle 3 a + 9$"
      ],
      "text/plain": [
       "3*a + 9"
      ]
     },
     "execution_count": 28,
     "metadata": {},
     "output_type": "execute_result"
    }
   ],
   "source": [
    "expression.subs({x: 3})"
   ]
  },
  {
   "cell_type": "markdown",
   "id": "99b7aa4d",
   "metadata": {},
   "source": [
    "This gives the equation:\n",
    "\n",
    "$$\n",
    "    3 a + 9 = 0\n",
    "$$"
   ]
  },
  {
   "cell_type": "code",
   "execution_count": 29,
   "id": "d31bbc22",
   "metadata": {},
   "outputs": [
    {
     "data": {
      "text/latex": [
       "$\\displaystyle \\left\\{-3\\right\\}$"
      ],
      "text/plain": [
       "{-3}"
      ]
     },
     "execution_count": 29,
     "metadata": {},
     "output_type": "execute_result"
    }
   ],
   "source": [
    "sym.solveset(expression.subs({x: 3}), a)"
   ]
  },
  {
   "cell_type": "markdown",
   "id": "208ec872",
   "metadata": {},
   "source": [
    "Our expression is thus:"
   ]
  },
  {
   "cell_type": "code",
   "execution_count": 30,
   "id": "bff257df",
   "metadata": {},
   "outputs": [
    {
     "data": {
      "text/latex": [
       "$\\displaystyle x^{2} - 3 x$"
      ],
      "text/plain": [
       "x**2 - 3*x"
      ]
     },
     "execution_count": 30,
     "metadata": {},
     "output_type": "execute_result"
    }
   ],
   "source": [
    "expression = expression.subs({a: -3})\n",
    "expression"
   ]
  },
  {
   "cell_type": "markdown",
   "id": "dc7a6a31",
   "metadata": {},
   "source": [
    "> By completing the square confirm that graph of $f(x)$ has a line of symmetry\n",
    "> at $x=\\frac{3}{2}$"
   ]
  },
  {
   "cell_type": "code",
   "execution_count": 31,
   "id": "49c139e2",
   "metadata": {},
   "outputs": [
    {
     "data": {
      "text/latex": [
       "$\\displaystyle a b^{2} - 2 a b x + a x^{2} + c$"
      ],
      "text/plain": [
       "a*b**2 - 2*a*b*x + a*x**2 + c"
      ]
     },
     "execution_count": 31,
     "metadata": {},
     "output_type": "execute_result"
    }
   ],
   "source": [
    "completed_square = a * (x - b) ** 2 + c\n",
    "sym.expand(completed_square)"
   ]
  },
  {
   "cell_type": "markdown",
   "id": "c251d52b",
   "metadata": {},
   "source": [
    "We see that $a=1$ and. Substituting:"
   ]
  },
  {
   "cell_type": "code",
   "execution_count": 32,
   "id": "3f02e632",
   "metadata": {},
   "outputs": [
    {
     "data": {
      "text/latex": [
       "$\\displaystyle b^{2} - 2 b x + c + x^{2}$"
      ],
      "text/plain": [
       "b**2 - 2*b*x + c + x**2"
      ]
     },
     "execution_count": 32,
     "metadata": {},
     "output_type": "execute_result"
    }
   ],
   "source": [
    "completed_square = completed_square.subs({a: 1})\n",
    "sym.expand(completed_square)"
   ]
  },
  {
   "cell_type": "markdown",
   "id": "d7c1ecdf",
   "metadata": {},
   "source": [
    "This gives:\n",
    "\n",
    "$$\n",
    "    -2b=-3\n",
    "$$"
   ]
  },
  {
   "cell_type": "code",
   "execution_count": 33,
   "id": "eee95e9e",
   "metadata": {},
   "outputs": [
    {
     "data": {
      "text/latex": [
       "$\\displaystyle \\left\\{\\frac{3}{2}\\right\\}$"
      ],
      "text/plain": [
       "{3/2}"
      ]
     },
     "execution_count": 33,
     "metadata": {},
     "output_type": "execute_result"
    }
   ],
   "source": [
    "equation = sym.Eq(-2 * b, -3)\n",
    "sym.solveset(equation, b)"
   ]
  },
  {
   "cell_type": "markdown",
   "id": "de587584",
   "metadata": {},
   "source": [
    "Substituting:"
   ]
  },
  {
   "cell_type": "code",
   "execution_count": 34,
   "id": "88d0e0e1",
   "metadata": {},
   "outputs": [
    {
     "data": {
      "text/latex": [
       "$\\displaystyle c + x^{2} - 3 x + \\frac{9}{4}$"
      ],
      "text/plain": [
       "c + x**2 - 3*x + 9/4"
      ]
     },
     "execution_count": 34,
     "metadata": {},
     "output_type": "execute_result"
    }
   ],
   "source": [
    "completed_square = completed_square.subs({b: sym.S(3) / 2})\n",
    "sym.expand(completed_square)"
   ]
  },
  {
   "cell_type": "markdown",
   "id": "00ffed84",
   "metadata": {},
   "source": [
    "Which gives:\n",
    "\n",
    "$$\n",
    "    c + 9 / 4 = 0\n",
    "$$"
   ]
  },
  {
   "cell_type": "code",
   "execution_count": 35,
   "id": "87363d0f",
   "metadata": {},
   "outputs": [
    {
     "data": {
      "text/latex": [
       "$\\displaystyle \\left\\{- \\frac{9}{4}\\right\\}$"
      ],
      "text/plain": [
       "{-9/4}"
      ]
     },
     "execution_count": 35,
     "metadata": {},
     "output_type": "execute_result"
    }
   ],
   "source": [
    "equation = sym.Eq(c + sym.S(9) / 4, 0)\n",
    "sym.solveset(equation, c)"
   ]
  },
  {
   "cell_type": "markdown",
   "id": "d53892f3",
   "metadata": {},
   "source": [
    "Substituting:"
   ]
  },
  {
   "cell_type": "code",
   "execution_count": 36,
   "id": "c8bc0fb8",
   "metadata": {},
   "outputs": [
    {
     "data": {
      "text/latex": [
       "$\\displaystyle \\left(x - \\frac{3}{2}\\right)^{2} - \\frac{9}{4}$"
      ],
      "text/plain": [
       "(x - 3/2)**2 - 9/4"
      ]
     },
     "execution_count": 36,
     "metadata": {},
     "output_type": "execute_result"
    }
   ],
   "source": [
    "completed_square = completed_square.subs({c: -sym.S(9) / 4})\n",
    "completed_square"
   ]
  },
  {
   "cell_type": "markdown",
   "id": "b633b792",
   "metadata": {},
   "source": [
    "Thus $x=3/2$ is a line of symmetry."
   ]
  }
 ],
 "metadata": {
  "jupytext": {
   "formats": "ipynb,md:myst",
   "text_representation": {
    "extension": ".md",
    "format_name": "myst",
    "format_version": 0.12,
    "jupytext_version": "1.6.0"
   }
  },
  "kernelspec": {
   "display_name": "Python 3",
   "language": "python",
   "name": "python3"
  },
  "language_info": {
   "codemirror_mode": {
    "name": "ipython",
    "version": 3
   },
   "file_extension": ".py",
   "mimetype": "text/x-python",
   "name": "python",
   "nbconvert_exporter": "python",
   "pygments_lexer": "ipython3",
   "version": "3.8.17"
  },
  "source_map": [
   13,
   23,
   28,
   32,
   34,
   38,
   40,
   44,
   48,
   56,
   60,
   64,
   67,
   71,
   74,
   78,
   81,
   89,
   94,
   100,
   104,
   107,
   117,
   120,
   130,
   134,
   138,
   141,
   149,
   152,
   156,
   159,
   165,
   170,
   173,
   185,
   188,
   198,
   202,
   206,
   209,
   217,
   220,
   224,
   227,
   233,
   238,
   241,
   253,
   256,
   260,
   263,
   267,
   269,
   277,
   279,
   283,
   286,
   291,
   294,
   298,
   301,
   309,
   312,
   316,
   319,
   327,
   330,
   334,
   337
  ]
 },
 "nbformat": 4,
 "nbformat_minor": 5
}