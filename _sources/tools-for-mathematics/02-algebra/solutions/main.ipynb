{
 "cells": [
  {
   "cell_type": "markdown",
   "id": "ccd22363",
   "metadata": {},
   "source": [
    "# Solutions\n",
    "\n",
    "## Question 1\n",
    "\n",
    "> `1`. Simplify the following expressions:\n",
    "\n",
    "> $\\frac{3}{\\sqrt{3}}$:"
   ]
  },
  {
   "cell_type": "code",
   "execution_count": 1,
   "id": "4fe9b1c3",
   "metadata": {},
   "outputs": [
    {
     "data": {
      "text/latex": [
       "$\\displaystyle \\sqrt{3}$"
      ],
      "text/plain": [
       "sqrt(3)"
      ]
     },
     "execution_count": 1,
     "metadata": {},
     "output_type": "execute_result"
    }
   ],
   "source": [
    "import sympy as sym\n",
    "\n",
    "expression = sym.S(3) / sym.sqrt(3)\n",
    "sym.simplify(expression)"
   ]
  },
  {
   "cell_type": "markdown",
   "id": "5e50b872",
   "metadata": {},
   "source": [
    "> $\\frac{2 ^ {78}}{2 ^ {12}2^{-32}}$:"
   ]
  },
  {
   "cell_type": "code",
   "execution_count": 2,
   "id": "1a4cd071",
   "metadata": {},
   "outputs": [
    {
     "data": {
      "text/latex": [
       "$\\displaystyle 316912650057057350374175801344$"
      ],
      "text/plain": [
       "316912650057057350374175801344"
      ]
     },
     "execution_count": 2,
     "metadata": {},
     "output_type": "execute_result"
    }
   ],
   "source": [
    "sym.S(2) ** 78 / (sym.S(2) ** 12 * sym.S(2) ** (-32))"
   ]
  },
  {
   "cell_type": "markdown",
   "id": "a8522010",
   "metadata": {},
   "source": [
    "> $8^0$:"
   ]
  },
  {
   "cell_type": "code",
   "execution_count": 3,
   "id": "1a8ff1d8",
   "metadata": {},
   "outputs": [
    {
     "data": {
      "text/latex": [
       "$\\displaystyle 1$"
      ],
      "text/plain": [
       "1"
      ]
     },
     "execution_count": 3,
     "metadata": {},
     "output_type": "execute_result"
    }
   ],
   "source": [
    "sym.S(8) ** 0"
   ]
  },
  {
   "cell_type": "markdown",
   "id": "67913235",
   "metadata": {},
   "source": [
    "> $a^4b^{-2}+a^{3}b^{2}+a^{4}b^0$:"
   ]
  },
  {
   "cell_type": "code",
   "execution_count": 4,
   "id": "44c80cc1",
   "metadata": {},
   "outputs": [
    {
     "data": {
      "text/latex": [
       "$\\displaystyle \\frac{a^{3} \\left(a b^{2} + a + b^{4}\\right)}{b^{2}}$"
      ],
      "text/plain": [
       "a**3*(a*b**2 + a + b**4)/b**2"
      ]
     },
     "execution_count": 4,
     "metadata": {},
     "output_type": "execute_result"
    }
   ],
   "source": [
    "a = sym.Symbol(\"a\")\n",
    "b = sym.Symbol(\"b\")\n",
    "sym.factor(a ** 4 * b ** (-2) + a ** 3 * b ** 2 + a ** 4 * b ** 0)"
   ]
  },
  {
   "cell_type": "markdown",
   "id": "e310ae3d",
   "metadata": {},
   "source": [
    "## Question 2\n",
    "\n",
    "> `2`. Solve the following equations:\n",
    "\n",
    "> $x + 3 = -1$:"
   ]
  },
  {
   "cell_type": "code",
   "execution_count": 5,
   "id": "f91a828a",
   "metadata": {},
   "outputs": [
    {
     "data": {
      "text/latex": [
       "$\\displaystyle \\left\\{-4\\right\\}$"
      ],
      "text/plain": [
       "{-4}"
      ]
     },
     "execution_count": 5,
     "metadata": {},
     "output_type": "execute_result"
    }
   ],
   "source": [
    "x = sym.Symbol(\"x\")\n",
    "equation = sym.Eq(x + 3, -1)\n",
    "sym.solveset(equation, x)"
   ]
  },
  {
   "cell_type": "markdown",
   "id": "b96746b4",
   "metadata": {},
   "source": [
    "> $3 x ^ 2 - 2 x = 5$:"
   ]
  },
  {
   "cell_type": "code",
   "execution_count": 6,
   "id": "1f49963b",
   "metadata": {},
   "outputs": [
    {
     "data": {
      "text/latex": [
       "$\\displaystyle \\left\\{-1, \\frac{5}{3}\\right\\}$"
      ],
      "text/plain": [
       "{-1, 5/3}"
      ]
     },
     "execution_count": 6,
     "metadata": {},
     "output_type": "execute_result"
    }
   ],
   "source": [
    "equation = sym.Eq(3 * x ** 2 - 2 * x, 5)\n",
    "sym.solveset(equation, x)"
   ]
  },
  {
   "cell_type": "markdown",
   "id": "4e88c2d8",
   "metadata": {},
   "source": [
    "> $x (x - 1) (x + 3) = 0$:"
   ]
  },
  {
   "cell_type": "code",
   "execution_count": 7,
   "id": "7fd42d93",
   "metadata": {},
   "outputs": [
    {
     "data": {
      "text/latex": [
       "$\\displaystyle \\left\\{-3, 0, 1\\right\\}$"
      ],
      "text/plain": [
       "{-3, 0, 1}"
      ]
     },
     "execution_count": 7,
     "metadata": {},
     "output_type": "execute_result"
    }
   ],
   "source": [
    "equation = sym.Eq(x * (x - 1) * (x + 3), 0)\n",
    "sym.solveset(equation, x)"
   ]
  },
  {
   "cell_type": "markdown",
   "id": "39a90f23",
   "metadata": {},
   "source": [
    "> $4 x ^3 + 7x - 24 = 1$:"
   ]
  },
  {
   "cell_type": "code",
   "execution_count": 8,
   "id": "d9d201ec",
   "metadata": {},
   "outputs": [
    {
     "data": {
      "text/latex": [
       "$\\displaystyle \\left\\{- \\frac{7}{12 \\sqrt[3]{\\frac{25}{8} + \\frac{\\sqrt{51654}}{72}}} + \\sqrt[3]{\\frac{25}{8} + \\frac{\\sqrt{51654}}{72}}, - \\frac{\\sqrt[3]{\\frac{25}{8} + \\frac{\\sqrt{51654}}{72}}}{2} + \\frac{7}{24 \\sqrt[3]{\\frac{25}{8} + \\frac{\\sqrt{51654}}{72}}} + i \\left(\\frac{7 \\sqrt{3}}{24 \\sqrt[3]{\\frac{25}{8} + \\frac{\\sqrt{51654}}{72}}} + \\frac{\\sqrt{3} \\sqrt[3]{\\frac{25}{8} + \\frac{\\sqrt{51654}}{72}}}{2}\\right), - \\frac{\\sqrt[3]{\\frac{25}{8} + \\frac{\\sqrt{51654}}{72}}}{2} + \\frac{7}{24 \\sqrt[3]{\\frac{25}{8} + \\frac{\\sqrt{51654}}{72}}} + i \\left(- \\frac{\\sqrt{3} \\sqrt[3]{\\frac{25}{8} + \\frac{\\sqrt{51654}}{72}}}{2} - \\frac{7 \\sqrt{3}}{24 \\sqrt[3]{\\frac{25}{8} + \\frac{\\sqrt{51654}}{72}}}\\right)\\right\\}$"
      ],
      "text/plain": [
       "{-7/(12*(25/8 + sqrt(51654)/72)**(1/3)) + (25/8 + sqrt(51654)/72)**(1/3), -(25/8 + sqrt(51654)/72)**(1/3)/2 + 7/(24*(25/8 + sqrt(51654)/72)**(1/3)) + I*(7*sqrt(3)/(24*(25/8 + sqrt(51654)/72)**(1/3)) + sqrt(3)*(25/8 + sqrt(51654)/72)**(1/3)/2), -(25/8 + sqrt(51654)/72)**(1/3)/2 + 7/(24*(25/8 + sqrt(51654)/72)**(1/3)) + I*(-sqrt(3)*(25/8 + sqrt(51654)/72)**(1/3)/2 - 7*sqrt(3)/(24*(25/8 + sqrt(51654)/72)**(1/3)))}"
      ]
     },
     "execution_count": 8,
     "metadata": {},
     "output_type": "execute_result"
    }
   ],
   "source": [
    "equation = sym.Eq(4 * x ** 3 + 7 * x - 24, 1)\n",
    "sym.solveset(equation, x)"
   ]
  },
  {
   "cell_type": "markdown",
   "id": "a11df132",
   "metadata": {},
   "source": [
    "## Question 3\n",
    "\n",
    "> `3`. Consider the equation: $x ^ 2 + 4 - y = \\frac{1}{y}$:\n",
    "\n",
    "> Find the solution to this equation for $x$."
   ]
  },
  {
   "cell_type": "code",
   "execution_count": 9,
   "id": "8b0931a2",
   "metadata": {},
   "outputs": [
    {
     "data": {
      "text/latex": [
       "$\\displaystyle \\left\\{- \\sqrt{\\frac{y^{2} - 4 y + 1}{y}}, \\sqrt{\\frac{y^{2} - 4 y + 1}{y}}\\right\\}$"
      ],
      "text/plain": [
       "{-sqrt((y**2 - 4*y + 1)/y), sqrt((y**2 - 4*y + 1)/y)}"
      ]
     },
     "execution_count": 9,
     "metadata": {},
     "output_type": "execute_result"
    }
   ],
   "source": [
    "y = sym.Symbol(\"y\")\n",
    "equation = sym.Eq(x ** 2 + 4 - y, 1 / y)\n",
    "solution = sym.solveset(equation, x)\n",
    "solution"
   ]
  },
  {
   "cell_type": "markdown",
   "id": "82b3f9b7",
   "metadata": {},
   "source": [
    "> Obtain the specific solution when $y = 5$. Do this in two ways:\n",
    "> substitute the value in to your equation and substitute the value in to\n",
    "> your solution."
   ]
  },
  {
   "cell_type": "code",
   "execution_count": 10,
   "id": "95bd8147",
   "metadata": {},
   "outputs": [
    {
     "data": {
      "text/latex": [
       "$\\displaystyle \\left\\{- \\frac{\\sqrt{30}}{5}, \\frac{\\sqrt{30}}{5}\\right\\}$"
      ],
      "text/plain": [
       "{-sqrt(30)/5, sqrt(30)/5}"
      ]
     },
     "execution_count": 10,
     "metadata": {},
     "output_type": "execute_result"
    }
   ],
   "source": [
    "solution.subs({y: 5})"
   ]
  },
  {
   "cell_type": "code",
   "execution_count": 11,
   "id": "2a17dccb",
   "metadata": {},
   "outputs": [
    {
     "data": {
      "text/latex": [
       "$\\displaystyle \\left\\{- \\frac{\\sqrt{30}}{5}, \\frac{\\sqrt{30}}{5}\\right\\}$"
      ],
      "text/plain": [
       "{-sqrt(30)/5, sqrt(30)/5}"
      ]
     },
     "execution_count": 11,
     "metadata": {},
     "output_type": "execute_result"
    }
   ],
   "source": [
    "solution = sym.solveset(equation.subs({y: 5}), x)\n",
    "solution"
   ]
  },
  {
   "cell_type": "markdown",
   "id": "c97d6285",
   "metadata": {},
   "source": [
    "## Question 4\n",
    "\n",
    "> `4`. Consider the quadratic: $f(x)=4x ^ 2 + 16x + 25$:\n",
    "\n",
    "> Calculate the discriminant of the quadratic equation $4x ^ 2 + 16x + 25 =\n",
    "> 0$. What does this tell us about the solutions to the equation? What\n",
    "> does this tell us about the graph of $f(x)$?"
   ]
  },
  {
   "cell_type": "code",
   "execution_count": 12,
   "id": "379a7d6a",
   "metadata": {},
   "outputs": [
    {
     "data": {
      "text/latex": [
       "$\\displaystyle -144$"
      ],
      "text/plain": [
       "-144"
      ]
     },
     "execution_count": 12,
     "metadata": {},
     "output_type": "execute_result"
    }
   ],
   "source": [
    "quadratic = 4 * x ** 2 + 16 * x + 25\n",
    "sym.discriminant(quadratic)"
   ]
  },
  {
   "cell_type": "markdown",
   "id": "f61931d1",
   "metadata": {},
   "source": [
    "This is negative so we know that the equation does not have any real solutions and\n",
    "hence the graph does not cross the x-axis.\n",
    "Since the coefficient of $x^2$ is positive it means that the graph is above\n",
    "the $y=0$ line.\n",
    "\n",
    "> By completing the square, show that the minimum point of $f(x)$ is\n",
    "> $\\left(-2, 9\\right)$"
   ]
  },
  {
   "cell_type": "code",
   "execution_count": 13,
   "id": "2731e943",
   "metadata": {},
   "outputs": [
    {
     "data": {
      "text/latex": [
       "$\\displaystyle a b^{2} - 2 a b x + a x^{2} + c$"
      ],
      "text/plain": [
       "a*b**2 - 2*a*b*x + a*x**2 + c"
      ]
     },
     "execution_count": 13,
     "metadata": {},
     "output_type": "execute_result"
    }
   ],
   "source": [
    "a, b, c = sym.Symbol(\"a\"), sym.Symbol(\"b\"), sym.Symbol(\"c\")\n",
    "completed_square = a * (x - b) ** 2 + c\n",
    "sym.expand(completed_square)"
   ]
  },
  {
   "cell_type": "markdown",
   "id": "b439fd6a",
   "metadata": {},
   "source": [
    "This gives $a=4$."
   ]
  },
  {
   "cell_type": "code",
   "execution_count": 14,
   "id": "f63c7a9f",
   "metadata": {},
   "outputs": [
    {
     "data": {
      "text/latex": [
       "$\\displaystyle 4 b^{2} - 8 b x + c + 4 x^{2}$"
      ],
      "text/plain": [
       "4*b**2 - 8*b*x + c + 4*x**2"
      ]
     },
     "execution_count": 14,
     "metadata": {},
     "output_type": "execute_result"
    }
   ],
   "source": [
    "completed_square = completed_square.subs({a: 4})\n",
    "sym.expand(completed_square)"
   ]
  },
  {
   "cell_type": "markdown",
   "id": "4be60248",
   "metadata": {},
   "source": [
    "Comparing the coefficients of $x$ we have the equation:\n",
    "\n",
    "$$\n",
    "  - 8 b = 16\n",
    "$$"
   ]
  },
  {
   "cell_type": "code",
   "execution_count": 15,
   "id": "9ce32635",
   "metadata": {},
   "outputs": [
    {
     "data": {
      "text/latex": [
       "$\\displaystyle \\left\\{-2\\right\\}$"
      ],
      "text/plain": [
       "{-2}"
      ]
     },
     "execution_count": 15,
     "metadata": {},
     "output_type": "execute_result"
    }
   ],
   "source": [
    "equation = sym.Eq(-8 * b, 16)\n",
    "sym.solveset(equation, b)"
   ]
  },
  {
   "cell_type": "markdown",
   "id": "e15e93d9",
   "metadata": {},
   "source": [
    "Substituting:"
   ]
  },
  {
   "cell_type": "code",
   "execution_count": 16,
   "id": "2fc55abb",
   "metadata": {},
   "outputs": [
    {
     "data": {
      "text/latex": [
       "$\\displaystyle c + 4 x^{2} + 16 x + 16$"
      ],
      "text/plain": [
       "c + 4*x**2 + 16*x + 16"
      ]
     },
     "execution_count": 16,
     "metadata": {},
     "output_type": "execute_result"
    }
   ],
   "source": [
    "completed_square = completed_square.subs({b: -2})\n",
    "sym.expand(completed_square)"
   ]
  },
  {
   "cell_type": "markdown",
   "id": "6d6359d5",
   "metadata": {},
   "source": [
    "Comparing the coefficients of $x^0$ this gives:\n",
    "\n",
    "$$c+16=25$$"
   ]
  },
  {
   "cell_type": "code",
   "execution_count": 17,
   "id": "3edc4d42",
   "metadata": {},
   "outputs": [
    {
     "data": {
      "text/latex": [
       "$\\displaystyle \\left\\{9\\right\\}$"
      ],
      "text/plain": [
       "{9}"
      ]
     },
     "execution_count": 17,
     "metadata": {},
     "output_type": "execute_result"
    }
   ],
   "source": [
    "equation = sym.Eq(c + 16, 25)\n",
    "sym.solveset(equation, c)"
   ]
  },
  {
   "cell_type": "code",
   "execution_count": 18,
   "id": "3c5c4c09",
   "metadata": {},
   "outputs": [
    {
     "data": {
      "text/latex": [
       "$\\displaystyle 4 \\left(x + 2\\right)^{2} + 9$"
      ],
      "text/plain": [
       "4*(x + 2)**2 + 9"
      ]
     },
     "execution_count": 18,
     "metadata": {},
     "output_type": "execute_result"
    }
   ],
   "source": [
    "completed_square = completed_square.subs({c: 9})\n",
    "completed_square"
   ]
  },
  {
   "cell_type": "markdown",
   "id": "b6ed4d29",
   "metadata": {},
   "source": [
    "The lowest value of $f(x)$ is for $x=-2$ which gives: $f(-2)=9$ as expected.\n",
    "\n",
    "## Question 5\n",
    "\n",
    "> `5`. Consider the quadratic: $f(x)=-3x ^ 2 + 24x - 97$:\n",
    "\n",
    "> Calculate the discriminant of the quadratic equation $-3x ^ 2 + 24x - 97 =\n",
    "> 0$. What does this tell us about the solutions to the equation? What\n",
    "> does this tell us about the graph of $f(x)$?"
   ]
  },
  {
   "cell_type": "code",
   "execution_count": 19,
   "id": "5515626e",
   "metadata": {},
   "outputs": [
    {
     "data": {
      "text/latex": [
       "$\\displaystyle -588$"
      ],
      "text/plain": [
       "-588"
      ]
     },
     "execution_count": 19,
     "metadata": {},
     "output_type": "execute_result"
    }
   ],
   "source": [
    "quadratic = -3 * x ** 2 + 24 * x - 97\n",
    "sym.discriminant(quadratic)"
   ]
  },
  {
   "cell_type": "markdown",
   "id": "b53d7b4b",
   "metadata": {},
   "source": [
    "This is negative so we know that the equation does not have any real solutions and\n",
    "hence the graph does not cross the x-axis.\n",
    "Since the coefficient of $x^2$ is negative it means that the graph is below\n",
    "the $y=0$ line.\n",
    "\n",
    "> By completing the square, show that the maximum point of $f(x)$ is\n",
    "> $\\left(4, -49\\right)$"
   ]
  },
  {
   "cell_type": "code",
   "execution_count": 20,
   "id": "4422c0bb",
   "metadata": {},
   "outputs": [
    {
     "data": {
      "text/latex": [
       "$\\displaystyle a b^{2} - 2 a b x + a x^{2} + c$"
      ],
      "text/plain": [
       "a*b**2 - 2*a*b*x + a*x**2 + c"
      ]
     },
     "execution_count": 20,
     "metadata": {},
     "output_type": "execute_result"
    }
   ],
   "source": [
    "a, b, c = sym.Symbol(\"a\"), sym.Symbol(\"b\"), sym.Symbol(\"c\")\n",
    "completed_square = a * (x - b) ** 2 + c\n",
    "sym.expand(completed_square)"
   ]
  },
  {
   "cell_type": "markdown",
   "id": "1f63d0ef",
   "metadata": {},
   "source": [
    "This gives $a=-3$."
   ]
  },
  {
   "cell_type": "code",
   "execution_count": 21,
   "id": "c9cb19b1",
   "metadata": {},
   "outputs": [
    {
     "data": {
      "text/latex": [
       "$\\displaystyle - 3 b^{2} + 6 b x + c - 3 x^{2}$"
      ],
      "text/plain": [
       "-3*b**2 + 6*b*x + c - 3*x**2"
      ]
     },
     "execution_count": 21,
     "metadata": {},
     "output_type": "execute_result"
    }
   ],
   "source": [
    "completed_square = completed_square.subs({a: -3})\n",
    "sym.expand(completed_square)"
   ]
  },
  {
   "cell_type": "markdown",
   "id": "66481d6c",
   "metadata": {},
   "source": [
    "Comparing the coefficients of $x$ we have the equation:\n",
    "\n",
    "$$\n",
    "  6 b = 24\n",
    "$$"
   ]
  },
  {
   "cell_type": "code",
   "execution_count": 22,
   "id": "6a20757a",
   "metadata": {},
   "outputs": [
    {
     "data": {
      "text/latex": [
       "$\\displaystyle \\left\\{4\\right\\}$"
      ],
      "text/plain": [
       "{4}"
      ]
     },
     "execution_count": 22,
     "metadata": {},
     "output_type": "execute_result"
    }
   ],
   "source": [
    "equation = sym.Eq(6 * b, 24)\n",
    "sym.solveset(equation, b)"
   ]
  },
  {
   "cell_type": "markdown",
   "id": "4ab60046",
   "metadata": {},
   "source": [
    "Substituting:"
   ]
  },
  {
   "cell_type": "code",
   "execution_count": 23,
   "id": "a07106ef",
   "metadata": {},
   "outputs": [
    {
     "data": {
      "text/latex": [
       "$\\displaystyle c - 3 x^{2} + 24 x - 48$"
      ],
      "text/plain": [
       "c - 3*x**2 + 24*x - 48"
      ]
     },
     "execution_count": 23,
     "metadata": {},
     "output_type": "execute_result"
    }
   ],
   "source": [
    "completed_square = completed_square.subs({b: 4})\n",
    "sym.expand(completed_square)"
   ]
  },
  {
   "cell_type": "markdown",
   "id": "84cb6f3f",
   "metadata": {},
   "source": [
    "Comparing the coefficients of $x^0$ this gives:\n",
    "\n",
    "$$c-48=-97$$"
   ]
  },
  {
   "cell_type": "code",
   "execution_count": 24,
   "id": "d2a13fe8",
   "metadata": {},
   "outputs": [
    {
     "data": {
      "text/latex": [
       "$\\displaystyle \\left\\{-49\\right\\}$"
      ],
      "text/plain": [
       "{-49}"
      ]
     },
     "execution_count": 24,
     "metadata": {},
     "output_type": "execute_result"
    }
   ],
   "source": [
    "equation = sym.Eq(c - 48, -97)\n",
    "sym.solveset(equation, c)"
   ]
  },
  {
   "cell_type": "code",
   "execution_count": 25,
   "id": "d8904b30",
   "metadata": {},
   "outputs": [
    {
     "data": {
      "text/latex": [
       "$\\displaystyle - 3 \\left(x - 4\\right)^{2} - 49$"
      ],
      "text/plain": [
       "-3*(x - 4)**2 - 49"
      ]
     },
     "execution_count": 25,
     "metadata": {},
     "output_type": "execute_result"
    }
   ],
   "source": [
    "completed_square = completed_square.subs({c: -49})\n",
    "completed_square"
   ]
  },
  {
   "cell_type": "markdown",
   "id": "be024d48",
   "metadata": {},
   "source": [
    "The highest value of $f(x)$ is for $x=4$ which gives: $f(4)=-49$ as expected.\n",
    "\n",
    "## Question 6\n",
    "\n",
    "`6`. Consider the function $f(x) = x^ 2 + a x + b$.\n",
    "\n",
    "> Given that $f(0) = 0$ and $f(3) = 0$ obtain the values of $a$ and $b$.\n",
    "\n",
    "Substituting 0 in to $f$ gives:"
   ]
  },
  {
   "cell_type": "code",
   "execution_count": 26,
   "id": "ec870adc",
   "metadata": {},
   "outputs": [
    {
     "data": {
      "text/latex": [
       "$\\displaystyle b$"
      ],
      "text/plain": [
       "b"
      ]
     },
     "execution_count": 26,
     "metadata": {},
     "output_type": "execute_result"
    }
   ],
   "source": [
    "expression = x ** 2 + a * x + b\n",
    "expression.subs({x: 0})"
   ]
  },
  {
   "cell_type": "markdown",
   "id": "ad9265f8",
   "metadata": {},
   "source": [
    "This implies that $b=0$. Substituting back in to the expression:"
   ]
  },
  {
   "cell_type": "code",
   "execution_count": 27,
   "id": "118060b7",
   "metadata": {},
   "outputs": [
    {
     "data": {
      "text/latex": [
       "$\\displaystyle a x + x^{2}$"
      ],
      "text/plain": [
       "a*x + x**2"
      ]
     },
     "execution_count": 27,
     "metadata": {},
     "output_type": "execute_result"
    }
   ],
   "source": [
    "expression = expression.subs({b: 0})\n",
    "expression"
   ]
  },
  {
   "cell_type": "markdown",
   "id": "1fcf48cb",
   "metadata": {},
   "source": [
    "Substituting $x=3$ in to this expression gives:"
   ]
  },
  {
   "cell_type": "code",
   "execution_count": 28,
   "id": "47f068d2",
   "metadata": {},
   "outputs": [
    {
     "data": {
      "text/latex": [
       "$\\displaystyle 3 a + 9$"
      ],
      "text/plain": [
       "3*a + 9"
      ]
     },
     "execution_count": 28,
     "metadata": {},
     "output_type": "execute_result"
    }
   ],
   "source": [
    "expression.subs({x: 3})"
   ]
  },
  {
   "cell_type": "markdown",
   "id": "599179f0",
   "metadata": {},
   "source": [
    "This gives the equation:\n",
    "\n",
    "$$\n",
    "    3 a + 9 = 0\n",
    "$$"
   ]
  },
  {
   "cell_type": "code",
   "execution_count": 29,
   "id": "eaac3a3b",
   "metadata": {},
   "outputs": [
    {
     "data": {
      "text/latex": [
       "$\\displaystyle \\left\\{-3\\right\\}$"
      ],
      "text/plain": [
       "{-3}"
      ]
     },
     "execution_count": 29,
     "metadata": {},
     "output_type": "execute_result"
    }
   ],
   "source": [
    "sym.solveset(expression.subs({x: 3}), a)"
   ]
  },
  {
   "cell_type": "markdown",
   "id": "316a765a",
   "metadata": {},
   "source": [
    "Our expression is thus:"
   ]
  },
  {
   "cell_type": "code",
   "execution_count": 30,
   "id": "a046ffad",
   "metadata": {},
   "outputs": [
    {
     "data": {
      "text/latex": [
       "$\\displaystyle x^{2} - 3 x$"
      ],
      "text/plain": [
       "x**2 - 3*x"
      ]
     },
     "execution_count": 30,
     "metadata": {},
     "output_type": "execute_result"
    }
   ],
   "source": [
    "expression = expression.subs({a: -3})\n",
    "expression"
   ]
  },
  {
   "cell_type": "markdown",
   "id": "d3faf3ce",
   "metadata": {},
   "source": [
    "> By completing the square confirm that graph of $f(x)$ has a line of symmetry\n",
    "> at $x=\\frac{3}{2}$"
   ]
  },
  {
   "cell_type": "code",
   "execution_count": 31,
   "id": "ff2dcf39",
   "metadata": {},
   "outputs": [
    {
     "data": {
      "text/latex": [
       "$\\displaystyle a b^{2} - 2 a b x + a x^{2} + c$"
      ],
      "text/plain": [
       "a*b**2 - 2*a*b*x + a*x**2 + c"
      ]
     },
     "execution_count": 31,
     "metadata": {},
     "output_type": "execute_result"
    }
   ],
   "source": [
    "completed_square = a * (x - b) ** 2 + c\n",
    "sym.expand(completed_square)"
   ]
  },
  {
   "cell_type": "markdown",
   "id": "906f05b0",
   "metadata": {},
   "source": [
    "We see that $a=1$ and. Substituting:"
   ]
  },
  {
   "cell_type": "code",
   "execution_count": 32,
   "id": "b1e6011d",
   "metadata": {},
   "outputs": [
    {
     "data": {
      "text/latex": [
       "$\\displaystyle b^{2} - 2 b x + c + x^{2}$"
      ],
      "text/plain": [
       "b**2 - 2*b*x + c + x**2"
      ]
     },
     "execution_count": 32,
     "metadata": {},
     "output_type": "execute_result"
    }
   ],
   "source": [
    "completed_square = completed_square.subs({a: 1})\n",
    "sym.expand(completed_square)"
   ]
  },
  {
   "cell_type": "markdown",
   "id": "8ac935d0",
   "metadata": {},
   "source": [
    "This gives:\n",
    "\n",
    "$$\n",
    "    -2b=-3\n",
    "$$"
   ]
  },
  {
   "cell_type": "code",
   "execution_count": 33,
   "id": "7ba5d23d",
   "metadata": {},
   "outputs": [
    {
     "data": {
      "text/latex": [
       "$\\displaystyle \\left\\{\\frac{3}{2}\\right\\}$"
      ],
      "text/plain": [
       "{3/2}"
      ]
     },
     "execution_count": 33,
     "metadata": {},
     "output_type": "execute_result"
    }
   ],
   "source": [
    "equation = sym.Eq(-2 * b, -3)\n",
    "sym.solveset(equation, b)"
   ]
  },
  {
   "cell_type": "markdown",
   "id": "57b9c5e7",
   "metadata": {},
   "source": [
    "Substituting:"
   ]
  },
  {
   "cell_type": "code",
   "execution_count": 34,
   "id": "a068bf43",
   "metadata": {},
   "outputs": [
    {
     "data": {
      "text/latex": [
       "$\\displaystyle c + x^{2} - 3 x + \\frac{9}{4}$"
      ],
      "text/plain": [
       "c + x**2 - 3*x + 9/4"
      ]
     },
     "execution_count": 34,
     "metadata": {},
     "output_type": "execute_result"
    }
   ],
   "source": [
    "completed_square = completed_square.subs({b: sym.S(3) / 2})\n",
    "sym.expand(completed_square)"
   ]
  },
  {
   "cell_type": "markdown",
   "id": "7e379170",
   "metadata": {},
   "source": [
    "Which gives:\n",
    "\n",
    "$$\n",
    "    c + 9 / 4 = 0\n",
    "$$"
   ]
  },
  {
   "cell_type": "code",
   "execution_count": 35,
   "id": "68e5b362",
   "metadata": {},
   "outputs": [
    {
     "data": {
      "text/latex": [
       "$\\displaystyle \\left\\{- \\frac{9}{4}\\right\\}$"
      ],
      "text/plain": [
       "{-9/4}"
      ]
     },
     "execution_count": 35,
     "metadata": {},
     "output_type": "execute_result"
    }
   ],
   "source": [
    "equation = sym.Eq(c + sym.S(9) / 4, 0)\n",
    "sym.solveset(equation, c)"
   ]
  },
  {
   "cell_type": "markdown",
   "id": "762ff059",
   "metadata": {},
   "source": [
    "Substituting:"
   ]
  },
  {
   "cell_type": "code",
   "execution_count": 36,
   "id": "491ef372",
   "metadata": {},
   "outputs": [
    {
     "data": {
      "text/latex": [
       "$\\displaystyle \\left(x - \\frac{3}{2}\\right)^{2} - \\frac{9}{4}$"
      ],
      "text/plain": [
       "(x - 3/2)**2 - 9/4"
      ]
     },
     "execution_count": 36,
     "metadata": {},
     "output_type": "execute_result"
    }
   ],
   "source": [
    "completed_square = completed_square.subs({c: -sym.S(9) / 4})\n",
    "completed_square"
   ]
  },
  {
   "cell_type": "markdown",
   "id": "983023dd",
   "metadata": {},
   "source": [
    "Thus $x=3/2$ is a line of symmetry."
   ]
  }
 ],
 "metadata": {
  "jupytext": {
   "formats": "ipynb,md:myst",
   "text_representation": {
    "extension": ".md",
    "format_name": "myst",
    "format_version": 0.12,
    "jupytext_version": "1.6.0"
   }
  },
  "kernelspec": {
   "display_name": "Python 3",
   "language": "python",
   "name": "python3"
  },
  "language_info": {
   "codemirror_mode": {
    "name": "ipython",
    "version": 3
   },
   "file_extension": ".py",
   "mimetype": "text/x-python",
   "name": "python",
   "nbconvert_exporter": "python",
   "pygments_lexer": "ipython3",
   "version": "3.8.17"
  },
  "source_map": [
   13,
   23,
   28,
   32,
   34,
   38,
   40,
   44,
   48,
   56,
   60,
   64,
   67,
   71,
   74,
   78,
   81,
   89,
   94,
   100,
   104,
   107,
   117,
   120,
   130,
   134,
   138,
   141,
   149,
   152,
   156,
   159,
   165,
   170,
   173,
   185,
   188,
   198,
   202,
   206,
   209,
   217,
   220,
   224,
   227,
   233,
   238,
   241,
   253,
   256,
   260,
   263,
   267,
   269,
   277,
   279,
   283,
   286,
   291,
   294,
   298,
   301,
   309,
   312,
   316,
   319,
   327,
   330,
   334,
   337
  ]
 },
 "nbformat": 4,
 "nbformat_minor": 5
}