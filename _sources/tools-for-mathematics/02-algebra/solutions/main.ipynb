{
 "cells": [
  {
   "cell_type": "markdown",
   "id": "51ecdaf9",
   "metadata": {},
   "source": [
    "# Solutions\n",
    "\n",
    "## Question 1\n",
    "\n",
    "> `1`. Simplify the following expressions:\n",
    "\n",
    "> $\\frac{3}{\\sqrt{3}}$:"
   ]
  },
  {
   "cell_type": "code",
   "execution_count": 1,
   "id": "c71ac07f",
   "metadata": {},
   "outputs": [
    {
     "data": {
      "text/latex": [
       "$\\displaystyle \\sqrt{3}$"
      ],
      "text/plain": [
       "sqrt(3)"
      ]
     },
     "execution_count": 1,
     "metadata": {},
     "output_type": "execute_result"
    }
   ],
   "source": [
    "import sympy as sym\n",
    "\n",
    "expression = sym.S(3) / sym.sqrt(3)\n",
    "sym.simplify(expression)"
   ]
  },
  {
   "cell_type": "markdown",
   "id": "ed0b8e60",
   "metadata": {},
   "source": [
    "> $\\frac{2 ^ {78}}{2 ^ {12}2^{-32}}$:"
   ]
  },
  {
   "cell_type": "code",
   "execution_count": 2,
   "id": "6f1f8b3e",
   "metadata": {},
   "outputs": [
    {
     "data": {
      "text/latex": [
       "$\\displaystyle 316912650057057350374175801344$"
      ],
      "text/plain": [
       "316912650057057350374175801344"
      ]
     },
     "execution_count": 2,
     "metadata": {},
     "output_type": "execute_result"
    }
   ],
   "source": [
    "sym.S(2) ** 78 / (sym.S(2) ** 12 * sym.S(2) ** (-32))"
   ]
  },
  {
   "cell_type": "markdown",
   "id": "77eae96e",
   "metadata": {},
   "source": [
    "> $8^0$:"
   ]
  },
  {
   "cell_type": "code",
   "execution_count": 3,
   "id": "77b103fd",
   "metadata": {},
   "outputs": [
    {
     "data": {
      "text/latex": [
       "$\\displaystyle 1$"
      ],
      "text/plain": [
       "1"
      ]
     },
     "execution_count": 3,
     "metadata": {},
     "output_type": "execute_result"
    }
   ],
   "source": [
    "sym.S(8) ** 0"
   ]
  },
  {
   "cell_type": "markdown",
   "id": "17ff7475",
   "metadata": {},
   "source": [
    "> $a^4b^{-2}+a^{3}b^{2}+a^{4}b^0$:"
   ]
  },
  {
   "cell_type": "code",
   "execution_count": 4,
   "id": "ac1fb831",
   "metadata": {},
   "outputs": [
    {
     "data": {
      "text/latex": [
       "$\\displaystyle \\frac{a^{3} \\left(a b^{2} + a + b^{4}\\right)}{b^{2}}$"
      ],
      "text/plain": [
       "a**3*(a*b**2 + a + b**4)/b**2"
      ]
     },
     "execution_count": 4,
     "metadata": {},
     "output_type": "execute_result"
    }
   ],
   "source": [
    "a = sym.Symbol(\"a\")\n",
    "b = sym.Symbol(\"b\")\n",
    "sym.factor(a ** 4 * b ** (-2) + a ** 3 * b ** 2 + a ** 4 * b ** 0)"
   ]
  },
  {
   "cell_type": "markdown",
   "id": "8265608b",
   "metadata": {},
   "source": [
    "## Question 2\n",
    "\n",
    "> `2`. Solve the following equations:\n",
    "\n",
    "> $x + 3 = -1$:"
   ]
  },
  {
   "cell_type": "code",
   "execution_count": 5,
   "id": "3382bb81",
   "metadata": {},
   "outputs": [
    {
     "data": {
      "text/latex": [
       "$\\displaystyle \\left\\{-4\\right\\}$"
      ],
      "text/plain": [
       "{-4}"
      ]
     },
     "execution_count": 5,
     "metadata": {},
     "output_type": "execute_result"
    }
   ],
   "source": [
    "x = sym.Symbol(\"x\")\n",
    "equation = sym.Eq(x + 3, -1)\n",
    "sym.solveset(equation, x)"
   ]
  },
  {
   "cell_type": "markdown",
   "id": "7d33b435",
   "metadata": {},
   "source": [
    "> $3 x ^ 2 - 2 x = 5$:"
   ]
  },
  {
   "cell_type": "code",
   "execution_count": 6,
   "id": "69558c40",
   "metadata": {},
   "outputs": [
    {
     "data": {
      "text/latex": [
       "$\\displaystyle \\left\\{-1, \\frac{5}{3}\\right\\}$"
      ],
      "text/plain": [
       "{-1, 5/3}"
      ]
     },
     "execution_count": 6,
     "metadata": {},
     "output_type": "execute_result"
    }
   ],
   "source": [
    "equation = sym.Eq(3 * x ** 2 - 2 * x, 5)\n",
    "sym.solveset(equation, x)"
   ]
  },
  {
   "cell_type": "markdown",
   "id": "8bf4875a",
   "metadata": {},
   "source": [
    "> $x (x - 1) (x + 3) = 0$:"
   ]
  },
  {
   "cell_type": "code",
   "execution_count": 7,
   "id": "4f65afa8",
   "metadata": {},
   "outputs": [
    {
     "data": {
      "text/latex": [
       "$\\displaystyle \\left\\{-3, 0, 1\\right\\}$"
      ],
      "text/plain": [
       "{-3, 0, 1}"
      ]
     },
     "execution_count": 7,
     "metadata": {},
     "output_type": "execute_result"
    }
   ],
   "source": [
    "equation = sym.Eq(x * (x - 1) * (x + 3), 0)\n",
    "sym.solveset(equation, x)"
   ]
  },
  {
   "cell_type": "markdown",
   "id": "6fbe698b",
   "metadata": {},
   "source": [
    "> $4 x ^3 + 7x - 24 = 1$:"
   ]
  },
  {
   "cell_type": "code",
   "execution_count": 8,
   "id": "6b71ca65",
   "metadata": {},
   "outputs": [
    {
     "data": {
      "text/latex": [
       "$\\displaystyle \\left\\{- \\frac{7}{12 \\sqrt[3]{\\frac{25}{8} + \\frac{\\sqrt{51654}}{72}}} + \\sqrt[3]{\\frac{25}{8} + \\frac{\\sqrt{51654}}{72}}, - \\frac{\\sqrt[3]{\\frac{25}{8} + \\frac{\\sqrt{51654}}{72}}}{2} + \\frac{7}{24 \\sqrt[3]{\\frac{25}{8} + \\frac{\\sqrt{51654}}{72}}} + i \\left(\\frac{7 \\sqrt{3}}{24 \\sqrt[3]{\\frac{25}{8} + \\frac{\\sqrt{51654}}{72}}} + \\frac{\\sqrt{3} \\sqrt[3]{\\frac{25}{8} + \\frac{\\sqrt{51654}}{72}}}{2}\\right), - \\frac{\\sqrt[3]{\\frac{25}{8} + \\frac{\\sqrt{51654}}{72}}}{2} + \\frac{7}{24 \\sqrt[3]{\\frac{25}{8} + \\frac{\\sqrt{51654}}{72}}} + i \\left(- \\frac{\\sqrt{3} \\sqrt[3]{\\frac{25}{8} + \\frac{\\sqrt{51654}}{72}}}{2} - \\frac{7 \\sqrt{3}}{24 \\sqrt[3]{\\frac{25}{8} + \\frac{\\sqrt{51654}}{72}}}\\right)\\right\\}$"
      ],
      "text/plain": [
       "{-7/(12*(25/8 + sqrt(51654)/72)**(1/3)) + (25/8 + sqrt(51654)/72)**(1/3), -(25/8 + sqrt(51654)/72)**(1/3)/2 + 7/(24*(25/8 + sqrt(51654)/72)**(1/3)) + I*(7*sqrt(3)/(24*(25/8 + sqrt(51654)/72)**(1/3)) + sqrt(3)*(25/8 + sqrt(51654)/72)**(1/3)/2), -(25/8 + sqrt(51654)/72)**(1/3)/2 + 7/(24*(25/8 + sqrt(51654)/72)**(1/3)) + I*(-sqrt(3)*(25/8 + sqrt(51654)/72)**(1/3)/2 - 7*sqrt(3)/(24*(25/8 + sqrt(51654)/72)**(1/3)))}"
      ]
     },
     "execution_count": 8,
     "metadata": {},
     "output_type": "execute_result"
    }
   ],
   "source": [
    "equation = sym.Eq(4 * x ** 3 + 7 * x - 24, 1)\n",
    "sym.solveset(equation, x)"
   ]
  },
  {
   "cell_type": "markdown",
   "id": "b4c364e4",
   "metadata": {},
   "source": [
    "## Question 3\n",
    "\n",
    "> `3`. Consider the equation: $x ^ 2 + 4 - y = \\frac{1}{y}$:\n",
    "\n",
    "> Find the solution to this equation for $x$."
   ]
  },
  {
   "cell_type": "code",
   "execution_count": 9,
   "id": "5f1c7f31",
   "metadata": {},
   "outputs": [
    {
     "data": {
      "text/latex": [
       "$\\displaystyle \\left\\{- \\sqrt{\\frac{y^{2} - 4 y + 1}{y}}, \\sqrt{\\frac{y^{2} - 4 y + 1}{y}}\\right\\}$"
      ],
      "text/plain": [
       "{-sqrt((y**2 - 4*y + 1)/y), sqrt((y**2 - 4*y + 1)/y)}"
      ]
     },
     "execution_count": 9,
     "metadata": {},
     "output_type": "execute_result"
    }
   ],
   "source": [
    "y = sym.Symbol(\"y\")\n",
    "equation = sym.Eq(x ** 2 + 4 - y, 1 / y)\n",
    "solution = sym.solveset(equation, x)\n",
    "solution"
   ]
  },
  {
   "cell_type": "markdown",
   "id": "dfca0212",
   "metadata": {},
   "source": [
    "> Obtain the specific solution when $y = 5$. Do this in two ways:\n",
    "> substitute the value in to your equation and substitute the value in to\n",
    "> your solution."
   ]
  },
  {
   "cell_type": "code",
   "execution_count": 10,
   "id": "d19381d7",
   "metadata": {},
   "outputs": [
    {
     "data": {
      "text/latex": [
       "$\\displaystyle \\left\\{- \\frac{\\sqrt{30}}{5}, \\frac{\\sqrt{30}}{5}\\right\\}$"
      ],
      "text/plain": [
       "{-sqrt(30)/5, sqrt(30)/5}"
      ]
     },
     "execution_count": 10,
     "metadata": {},
     "output_type": "execute_result"
    }
   ],
   "source": [
    "solution.subs({y: 5})"
   ]
  },
  {
   "cell_type": "code",
   "execution_count": 11,
   "id": "d9e46164",
   "metadata": {},
   "outputs": [
    {
     "data": {
      "text/latex": [
       "$\\displaystyle \\left\\{- \\frac{\\sqrt{30}}{5}, \\frac{\\sqrt{30}}{5}\\right\\}$"
      ],
      "text/plain": [
       "{-sqrt(30)/5, sqrt(30)/5}"
      ]
     },
     "execution_count": 11,
     "metadata": {},
     "output_type": "execute_result"
    }
   ],
   "source": [
    "solution = sym.solveset(equation.subs({y: 5}), x)\n",
    "solution"
   ]
  },
  {
   "cell_type": "markdown",
   "id": "725db5f4",
   "metadata": {},
   "source": [
    "## Question 4\n",
    "\n",
    "> `4`. Consider the quadratic: $f(x)=4x ^ 2 + 16x + 25$:\n",
    "\n",
    "> Calculate the discriminant of the quadratic equation $4x ^ 2 + 16x + 25 =\n",
    "> 0$. What does this tell us about the solutions to the equation? What\n",
    "> does this tell us about the graph of $f(x)$?"
   ]
  },
  {
   "cell_type": "code",
   "execution_count": 12,
   "id": "306f3755",
   "metadata": {},
   "outputs": [
    {
     "data": {
      "text/latex": [
       "$\\displaystyle -144$"
      ],
      "text/plain": [
       "-144"
      ]
     },
     "execution_count": 12,
     "metadata": {},
     "output_type": "execute_result"
    }
   ],
   "source": [
    "quadratic = 4 * x ** 2 + 16 * x + 25\n",
    "sym.discriminant(quadratic)"
   ]
  },
  {
   "cell_type": "markdown",
   "id": "1b876a77",
   "metadata": {},
   "source": [
    "This is negative so we know that the equation does not have any real solutions and\n",
    "hence the graph does not cross the x-axis.\n",
    "Since the coefficient of $x^2$ is positive it means that the graph is above\n",
    "the $y=0$ line.\n",
    "\n",
    "> By completing the square, show that the minimum point of $f(x)$ is\n",
    "> $\\left(-2, 9\\right)$"
   ]
  },
  {
   "cell_type": "code",
   "execution_count": 13,
   "id": "a7cfc65d",
   "metadata": {},
   "outputs": [
    {
     "data": {
      "text/latex": [
       "$\\displaystyle a b^{2} - 2 a b x + a x^{2} + c$"
      ],
      "text/plain": [
       "a*b**2 - 2*a*b*x + a*x**2 + c"
      ]
     },
     "execution_count": 13,
     "metadata": {},
     "output_type": "execute_result"
    }
   ],
   "source": [
    "a, b, c = sym.Symbol(\"a\"), sym.Symbol(\"b\"), sym.Symbol(\"c\")\n",
    "completed_square = a * (x - b) ** 2 + c\n",
    "sym.expand(completed_square)"
   ]
  },
  {
   "cell_type": "markdown",
   "id": "b6f70d02",
   "metadata": {},
   "source": [
    "This gives $a=4$."
   ]
  },
  {
   "cell_type": "code",
   "execution_count": 14,
   "id": "ccac0c5d",
   "metadata": {},
   "outputs": [
    {
     "data": {
      "text/latex": [
       "$\\displaystyle 4 b^{2} - 8 b x + c + 4 x^{2}$"
      ],
      "text/plain": [
       "4*b**2 - 8*b*x + c + 4*x**2"
      ]
     },
     "execution_count": 14,
     "metadata": {},
     "output_type": "execute_result"
    }
   ],
   "source": [
    "completed_square = completed_square.subs({a: 4})\n",
    "sym.expand(completed_square)"
   ]
  },
  {
   "cell_type": "markdown",
   "id": "b6ad5f2e",
   "metadata": {},
   "source": [
    "Comparing the coefficients of $x$ we have the equation:\n",
    "\n",
    "$$\n",
    "  - 8 b = 16\n",
    "$$"
   ]
  },
  {
   "cell_type": "code",
   "execution_count": 15,
   "id": "97144b12",
   "metadata": {},
   "outputs": [
    {
     "data": {
      "text/latex": [
       "$\\displaystyle \\left\\{-2\\right\\}$"
      ],
      "text/plain": [
       "{-2}"
      ]
     },
     "execution_count": 15,
     "metadata": {},
     "output_type": "execute_result"
    }
   ],
   "source": [
    "equation = sym.Eq(-8 * b, 16)\n",
    "sym.solveset(equation, b)"
   ]
  },
  {
   "cell_type": "markdown",
   "id": "ba029da2",
   "metadata": {},
   "source": [
    "Substituting:"
   ]
  },
  {
   "cell_type": "code",
   "execution_count": 16,
   "id": "35a4c8a7",
   "metadata": {},
   "outputs": [
    {
     "data": {
      "text/latex": [
       "$\\displaystyle c + 4 x^{2} + 16 x + 16$"
      ],
      "text/plain": [
       "c + 4*x**2 + 16*x + 16"
      ]
     },
     "execution_count": 16,
     "metadata": {},
     "output_type": "execute_result"
    }
   ],
   "source": [
    "completed_square = completed_square.subs({b: -2})\n",
    "sym.expand(completed_square)"
   ]
  },
  {
   "cell_type": "markdown",
   "id": "524fb3b7",
   "metadata": {},
   "source": [
    "Comparing the coefficients of $x^0$ this gives:\n",
    "\n",
    "$$c+16=25$$"
   ]
  },
  {
   "cell_type": "code",
   "execution_count": 17,
   "id": "d0cbf3fc",
   "metadata": {},
   "outputs": [
    {
     "data": {
      "text/latex": [
       "$\\displaystyle \\left\\{9\\right\\}$"
      ],
      "text/plain": [
       "{9}"
      ]
     },
     "execution_count": 17,
     "metadata": {},
     "output_type": "execute_result"
    }
   ],
   "source": [
    "equation = sym.Eq(c + 16, 25)\n",
    "sym.solveset(equation, c)"
   ]
  },
  {
   "cell_type": "code",
   "execution_count": 18,
   "id": "8577cbd9",
   "metadata": {},
   "outputs": [
    {
     "data": {
      "text/latex": [
       "$\\displaystyle 4 \\left(x + 2\\right)^{2} + 9$"
      ],
      "text/plain": [
       "4*(x + 2)**2 + 9"
      ]
     },
     "execution_count": 18,
     "metadata": {},
     "output_type": "execute_result"
    }
   ],
   "source": [
    "completed_square = completed_square.subs({c: 9})\n",
    "completed_square"
   ]
  },
  {
   "cell_type": "markdown",
   "id": "5ce2153b",
   "metadata": {},
   "source": [
    "The lowest value of $f(x)$ is for $x=-2$ which gives: $f(-2)=9$ as expected.\n",
    "\n",
    "## Question 5\n",
    "\n",
    "> `5`. Consider the quadratic: $f(x)=-3x ^ 2 + 24x - 97$:\n",
    "\n",
    "> Calculate the discriminant of the quadratic equation $-3x ^ 2 + 24x - 97 =\n",
    "> 0$. What does this tell us about the solutions to the equation? What\n",
    "> does this tell us about the graph of $f(x)$?"
   ]
  },
  {
   "cell_type": "code",
   "execution_count": 19,
   "id": "d252067e",
   "metadata": {},
   "outputs": [
    {
     "data": {
      "text/latex": [
       "$\\displaystyle -588$"
      ],
      "text/plain": [
       "-588"
      ]
     },
     "execution_count": 19,
     "metadata": {},
     "output_type": "execute_result"
    }
   ],
   "source": [
    "quadratic = -3 * x ** 2 + 24 * x - 97\n",
    "sym.discriminant(quadratic)"
   ]
  },
  {
   "cell_type": "markdown",
   "id": "2df66cc9",
   "metadata": {},
   "source": [
    "This is negative so we know that the equation does not have any real solutions and\n",
    "hence the graph does not cross the x-axis.\n",
    "Since the coefficient of $x^2$ is negative it means that the graph is below\n",
    "the $y=0$ line.\n",
    "\n",
    "> By completing the square, show that the maximum point of $f(x)$ is\n",
    "> $\\left(4, -49\\right)$"
   ]
  },
  {
   "cell_type": "code",
   "execution_count": 20,
   "id": "83827388",
   "metadata": {},
   "outputs": [
    {
     "data": {
      "text/latex": [
       "$\\displaystyle a b^{2} - 2 a b x + a x^{2} + c$"
      ],
      "text/plain": [
       "a*b**2 - 2*a*b*x + a*x**2 + c"
      ]
     },
     "execution_count": 20,
     "metadata": {},
     "output_type": "execute_result"
    }
   ],
   "source": [
    "a, b, c = sym.Symbol(\"a\"), sym.Symbol(\"b\"), sym.Symbol(\"c\")\n",
    "completed_square = a * (x - b) ** 2 + c\n",
    "sym.expand(completed_square)"
   ]
  },
  {
   "cell_type": "markdown",
   "id": "6be0210d",
   "metadata": {},
   "source": [
    "This gives $a=-3$."
   ]
  },
  {
   "cell_type": "code",
   "execution_count": 21,
   "id": "635d268c",
   "metadata": {},
   "outputs": [
    {
     "data": {
      "text/latex": [
       "$\\displaystyle - 3 b^{2} + 6 b x + c - 3 x^{2}$"
      ],
      "text/plain": [
       "-3*b**2 + 6*b*x + c - 3*x**2"
      ]
     },
     "execution_count": 21,
     "metadata": {},
     "output_type": "execute_result"
    }
   ],
   "source": [
    "completed_square = completed_square.subs({a: -3})\n",
    "sym.expand(completed_square)"
   ]
  },
  {
   "cell_type": "markdown",
   "id": "1106d6bd",
   "metadata": {},
   "source": [
    "Comparing the coefficients of $x$ we have the equation:\n",
    "\n",
    "$$\n",
    "  6 b = 24\n",
    "$$"
   ]
  },
  {
   "cell_type": "code",
   "execution_count": 22,
   "id": "2ed49c6c",
   "metadata": {},
   "outputs": [
    {
     "data": {
      "text/latex": [
       "$\\displaystyle \\left\\{4\\right\\}$"
      ],
      "text/plain": [
       "{4}"
      ]
     },
     "execution_count": 22,
     "metadata": {},
     "output_type": "execute_result"
    }
   ],
   "source": [
    "equation = sym.Eq(6 * b, 24)\n",
    "sym.solveset(equation, b)"
   ]
  },
  {
   "cell_type": "markdown",
   "id": "92f25b15",
   "metadata": {},
   "source": [
    "Substituting:"
   ]
  },
  {
   "cell_type": "code",
   "execution_count": 23,
   "id": "bd8644a3",
   "metadata": {},
   "outputs": [
    {
     "data": {
      "text/latex": [
       "$\\displaystyle c - 3 x^{2} + 24 x - 48$"
      ],
      "text/plain": [
       "c - 3*x**2 + 24*x - 48"
      ]
     },
     "execution_count": 23,
     "metadata": {},
     "output_type": "execute_result"
    }
   ],
   "source": [
    "completed_square = completed_square.subs({b: 4})\n",
    "sym.expand(completed_square)"
   ]
  },
  {
   "cell_type": "markdown",
   "id": "8cb6f553",
   "metadata": {},
   "source": [
    "Comparing the coefficients of $x^0$ this gives:\n",
    "\n",
    "$$c-48=-97$$"
   ]
  },
  {
   "cell_type": "code",
   "execution_count": 24,
   "id": "e1f81804",
   "metadata": {},
   "outputs": [
    {
     "data": {
      "text/latex": [
       "$\\displaystyle \\left\\{-49\\right\\}$"
      ],
      "text/plain": [
       "{-49}"
      ]
     },
     "execution_count": 24,
     "metadata": {},
     "output_type": "execute_result"
    }
   ],
   "source": [
    "equation = sym.Eq(c - 48, -97)\n",
    "sym.solveset(equation, c)"
   ]
  },
  {
   "cell_type": "code",
   "execution_count": 25,
   "id": "f8a6c719",
   "metadata": {},
   "outputs": [
    {
     "data": {
      "text/latex": [
       "$\\displaystyle - 3 \\left(x - 4\\right)^{2} - 49$"
      ],
      "text/plain": [
       "-3*(x - 4)**2 - 49"
      ]
     },
     "execution_count": 25,
     "metadata": {},
     "output_type": "execute_result"
    }
   ],
   "source": [
    "completed_square = completed_square.subs({c: -49})\n",
    "completed_square"
   ]
  },
  {
   "cell_type": "markdown",
   "id": "2db7625a",
   "metadata": {},
   "source": [
    "The highest value of $f(x)$ is for $x=4$ which gives: $f(4)=-49$ as expected.\n",
    "\n",
    "## Question 6\n",
    "\n",
    "`6`. Consider the function $f(x) = x^ 2 + a x + b$.\n",
    "\n",
    "> Given that $f(0) = 0$ and $f(3) = 0$ obtain the values of $a$ and $b$.\n",
    "\n",
    "Substituting 0 in to $f$ gives:"
   ]
  },
  {
   "cell_type": "code",
   "execution_count": 26,
   "id": "c1193f19",
   "metadata": {},
   "outputs": [
    {
     "data": {
      "text/latex": [
       "$\\displaystyle b$"
      ],
      "text/plain": [
       "b"
      ]
     },
     "execution_count": 26,
     "metadata": {},
     "output_type": "execute_result"
    }
   ],
   "source": [
    "expression = x ** 2 + a * x + b\n",
    "expression.subs({x: 0})"
   ]
  },
  {
   "cell_type": "markdown",
   "id": "f5990732",
   "metadata": {},
   "source": [
    "This implies that $b=0$. Substituting back in to the expression:"
   ]
  },
  {
   "cell_type": "code",
   "execution_count": 27,
   "id": "2403706d",
   "metadata": {},
   "outputs": [
    {
     "data": {
      "text/latex": [
       "$\\displaystyle a x + x^{2}$"
      ],
      "text/plain": [
       "a*x + x**2"
      ]
     },
     "execution_count": 27,
     "metadata": {},
     "output_type": "execute_result"
    }
   ],
   "source": [
    "expression = expression.subs({b: 0})\n",
    "expression"
   ]
  },
  {
   "cell_type": "markdown",
   "id": "51aa93e8",
   "metadata": {},
   "source": [
    "Substituting $x=3$ in to this expression gives:"
   ]
  },
  {
   "cell_type": "code",
   "execution_count": 28,
   "id": "6d1c95f1",
   "metadata": {},
   "outputs": [
    {
     "data": {
      "text/latex": [
       "$\\displaystyle 3 a + 9$"
      ],
      "text/plain": [
       "3*a + 9"
      ]
     },
     "execution_count": 28,
     "metadata": {},
     "output_type": "execute_result"
    }
   ],
   "source": [
    "expression.subs({x: 3})"
   ]
  },
  {
   "cell_type": "markdown",
   "id": "17124162",
   "metadata": {},
   "source": [
    "This gives the equation:\n",
    "\n",
    "$$\n",
    "    3 a + 9 = 0\n",
    "$$"
   ]
  },
  {
   "cell_type": "code",
   "execution_count": 29,
   "id": "a2a5746d",
   "metadata": {},
   "outputs": [
    {
     "data": {
      "text/latex": [
       "$\\displaystyle \\left\\{-3\\right\\}$"
      ],
      "text/plain": [
       "{-3}"
      ]
     },
     "execution_count": 29,
     "metadata": {},
     "output_type": "execute_result"
    }
   ],
   "source": [
    "sym.solveset(expression.subs({x: 3}), a)"
   ]
  },
  {
   "cell_type": "markdown",
   "id": "ac35a416",
   "metadata": {},
   "source": [
    "Our expression is thus:"
   ]
  },
  {
   "cell_type": "code",
   "execution_count": 30,
   "id": "bf444383",
   "metadata": {},
   "outputs": [
    {
     "data": {
      "text/latex": [
       "$\\displaystyle x^{2} - 3 x$"
      ],
      "text/plain": [
       "x**2 - 3*x"
      ]
     },
     "execution_count": 30,
     "metadata": {},
     "output_type": "execute_result"
    }
   ],
   "source": [
    "expression = expression.subs({a: -3})\n",
    "expression"
   ]
  },
  {
   "cell_type": "markdown",
   "id": "831d3722",
   "metadata": {},
   "source": [
    "> By completing the square confirm that graph of $f(x)$ has a line of symmetry\n",
    "> at $x=\\frac{3}{2}$"
   ]
  },
  {
   "cell_type": "code",
   "execution_count": 31,
   "id": "bc078ea3",
   "metadata": {},
   "outputs": [
    {
     "data": {
      "text/latex": [
       "$\\displaystyle a b^{2} - 2 a b x + a x^{2} + c$"
      ],
      "text/plain": [
       "a*b**2 - 2*a*b*x + a*x**2 + c"
      ]
     },
     "execution_count": 31,
     "metadata": {},
     "output_type": "execute_result"
    }
   ],
   "source": [
    "completed_square = a * (x - b) ** 2 + c\n",
    "sym.expand(completed_square)"
   ]
  },
  {
   "cell_type": "markdown",
   "id": "f5911a14",
   "metadata": {},
   "source": [
    "We see that $a=1$ and. Substituting:"
   ]
  },
  {
   "cell_type": "code",
   "execution_count": 32,
   "id": "23a5c43f",
   "metadata": {},
   "outputs": [
    {
     "data": {
      "text/latex": [
       "$\\displaystyle b^{2} - 2 b x + c + x^{2}$"
      ],
      "text/plain": [
       "b**2 - 2*b*x + c + x**2"
      ]
     },
     "execution_count": 32,
     "metadata": {},
     "output_type": "execute_result"
    }
   ],
   "source": [
    "completed_square = completed_square.subs({a: 1})\n",
    "sym.expand(completed_square)"
   ]
  },
  {
   "cell_type": "markdown",
   "id": "b081db3b",
   "metadata": {},
   "source": [
    "This gives:\n",
    "\n",
    "$$\n",
    "    -2b=-3\n",
    "$$"
   ]
  },
  {
   "cell_type": "code",
   "execution_count": 33,
   "id": "2c710cea",
   "metadata": {},
   "outputs": [
    {
     "data": {
      "text/latex": [
       "$\\displaystyle \\left\\{\\frac{3}{2}\\right\\}$"
      ],
      "text/plain": [
       "{3/2}"
      ]
     },
     "execution_count": 33,
     "metadata": {},
     "output_type": "execute_result"
    }
   ],
   "source": [
    "equation = sym.Eq(-2 * b, -3)\n",
    "sym.solveset(equation, b)"
   ]
  },
  {
   "cell_type": "markdown",
   "id": "0ad91f80",
   "metadata": {},
   "source": [
    "Substituting:"
   ]
  },
  {
   "cell_type": "code",
   "execution_count": 34,
   "id": "fc382ffa",
   "metadata": {},
   "outputs": [
    {
     "data": {
      "text/latex": [
       "$\\displaystyle c + x^{2} - 3 x + \\frac{9}{4}$"
      ],
      "text/plain": [
       "c + x**2 - 3*x + 9/4"
      ]
     },
     "execution_count": 34,
     "metadata": {},
     "output_type": "execute_result"
    }
   ],
   "source": [
    "completed_square = completed_square.subs({b: sym.S(3) / 2})\n",
    "sym.expand(completed_square)"
   ]
  },
  {
   "cell_type": "markdown",
   "id": "eea49547",
   "metadata": {},
   "source": [
    "Which gives:\n",
    "\n",
    "$$\n",
    "    c + 9 / 4 = 0\n",
    "$$"
   ]
  },
  {
   "cell_type": "code",
   "execution_count": 35,
   "id": "53d4e97c",
   "metadata": {},
   "outputs": [
    {
     "data": {
      "text/latex": [
       "$\\displaystyle \\left\\{- \\frac{9}{4}\\right\\}$"
      ],
      "text/plain": [
       "{-9/4}"
      ]
     },
     "execution_count": 35,
     "metadata": {},
     "output_type": "execute_result"
    }
   ],
   "source": [
    "equation = sym.Eq(c + sym.S(9) / 4, 0)\n",
    "sym.solveset(equation, c)"
   ]
  },
  {
   "cell_type": "markdown",
   "id": "ca59e93d",
   "metadata": {},
   "source": [
    "Substituting:"
   ]
  },
  {
   "cell_type": "code",
   "execution_count": 36,
   "id": "72039526",
   "metadata": {},
   "outputs": [
    {
     "data": {
      "text/latex": [
       "$\\displaystyle \\left(x - \\frac{3}{2}\\right)^{2} - \\frac{9}{4}$"
      ],
      "text/plain": [
       "(x - 3/2)**2 - 9/4"
      ]
     },
     "execution_count": 36,
     "metadata": {},
     "output_type": "execute_result"
    }
   ],
   "source": [
    "completed_square = completed_square.subs({c: -sym.S(9) / 4})\n",
    "completed_square"
   ]
  },
  {
   "cell_type": "markdown",
   "id": "a425bb2b",
   "metadata": {},
   "source": [
    "Thus $x=3/2$ is a line of symmetry."
   ]
  }
 ],
 "metadata": {
  "jupytext": {
   "formats": "ipynb,md:myst",
   "text_representation": {
    "extension": ".md",
    "format_name": "myst",
    "format_version": 0.12,
    "jupytext_version": "1.6.0"
   }
  },
  "kernelspec": {
   "display_name": "Python 3",
   "language": "python",
   "name": "python3"
  },
  "language_info": {
   "codemirror_mode": {
    "name": "ipython",
    "version": 3
   },
   "file_extension": ".py",
   "mimetype": "text/x-python",
   "name": "python",
   "nbconvert_exporter": "python",
   "pygments_lexer": "ipython3",
   "version": "3.10.13"
  },
  "source_map": [
   13,
   23,
   28,
   32,
   34,
   38,
   40,
   44,
   48,
   56,
   60,
   64,
   67,
   71,
   74,
   78,
   81,
   89,
   94,
   100,
   104,
   107,
   117,
   120,
   130,
   134,
   138,
   141,
   149,
   152,
   156,
   159,
   165,
   170,
   173,
   185,
   188,
   198,
   202,
   206,
   209,
   217,
   220,
   224,
   227,
   233,
   238,
   241,
   253,
   256,
   260,
   263,
   267,
   269,
   277,
   279,
   283,
   286,
   291,
   294,
   298,
   301,
   309,
   312,
   316,
   319,
   327,
   330,
   334,
   337
  ]
 },
 "nbformat": 4,
 "nbformat_minor": 5
}