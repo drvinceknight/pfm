{
 "cells": [
  {
   "cell_type": "markdown",
   "id": "582eb585",
   "metadata": {},
   "source": [
    "# Exercises\n",
    "\n",
    "1.  Simplify the following expressions:\n",
    "    1.  $\\frac{3}{\\sqrt{3}}$\n",
    "    2.  $\\frac{2 ^ {78}}{2 ^ {12}2^{-32}}$\n",
    "    3.  $8^0$\n",
    "    4.  $a^4b^{-2}+a^{3}b^{2}+a^{4}b^0$\n",
    "2.  Solve the following equations:\n",
    "    1.  $x + 3 = -1$\n",
    "    2.  $3 x ^ 2 - 2 x = 5$\n",
    "    3.  $x (x - 1) (x + 3) = 0$\n",
    "    4.  $4 x ^3 + 7x - 24 = 1$\n",
    "3.  Consider the equation: $x ^ 2 + 4 - y = \\frac{1}{y}$:\n",
    "    1.  Find the solution to this equation for $x$.\n",
    "    2.  Obtain the specific solution when $y = 5$. Do this in two ways:\n",
    "        substitute the value in to your equation and substitute the\n",
    "        value in to your solution.\n",
    "4.  Consider the : $f(x)=4x ^ 2 + 16x + 25$:\n",
    "    1.  Calculate the discriminant of the equation $4x ^ 2 + 16x + 25 =\n",
    "        0$. What does this tell you about the solutions to the equation?\n",
    "        What does this tell you about the graph of $f(x)$?\n",
    "    2.  By completing the square, show that the minimum point of $f(x)$\n",
    "        is $\\left(-2, 9\\right)$\n",
    "5.  Consider the : $f(x)=-3x ^ 2 + 24x - 97$:\n",
    "    1.  Calculate the discriminant of the equation $-3x ^ 2 + 24x - 97 =\n",
    "        0$. What does this tell you about the solutions to the equation?\n",
    "        What does this tell you about the graph of $f(x)$?\n",
    "    2.  By completing the square, show that the maximum point of $f(x)$\n",
    "        is $\\left(4, -49\\right)$\n",
    "6.  Consider the function $f(x) = x^ 2 + a x + b$.\n",
    "    1.  Given that $f(0) = 0$ and $f(3) = 0$ obtain the values of $a$\n",
    "        and $b$.\n",
    "    2.  By completing the square confirm that graph of $f(x)$ has a line\n",
    "        of symmetry at $x=\\frac{3}{2}$"
   ]
  }
 ],
 "metadata": {
  "jupytext": {
   "formats": "ipynb,md:myst",
   "text_representation": {
    "extension": ".md",
    "format_name": "myst",
    "format_version": 0.12,
    "jupytext_version": "1.6.0"
   }
  },
  "kernelspec": {
   "display_name": "Python 3",
   "language": "python",
   "name": "python3"
  },
  "language_info": {
   "codemirror_mode": {
    "name": "ipython",
    "version": 3
   },
   "file_extension": ".py",
   "mimetype": "text/x-python",
   "name": "python",
   "nbconvert_exporter": "python",
   "pygments_lexer": "ipython3",
   "version": "3.10.18"
  },
  "source_map": [
   13
  ]
 },
 "nbformat": 4,
 "nbformat_minor": 5
}