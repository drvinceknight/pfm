{
 "cells": [
  {
   "cell_type": "markdown",
   "id": "242dca4b",
   "metadata": {},
   "source": [
    "(algebra_tutorial)=\n",
    "\n",
    "# Tutorial\n",
    "\n",
    "To demonstrate the ways in which we can use a computer to assist with Algebra we\n",
    "will solve the following two problems:\n",
    "\n",
    "```{admonition} Problem\n",
    "\n",
    "1. Rationalise the denominator of $\\frac{1}{\\sqrt{2} + 1}$\n",
    "2. Consider the quadratic: $f(x)=2x ^ 2 + x + 1$:\n",
    "    1. Calculate the discriminant of the quadratic equation $2x ^ 2 + x + 1 =\n",
    "     0$. What does this tell us about the solutions to the equation? What\n",
    "     does this tell us about the graph of $f(x)$?\n",
    "    2. By completing the square, show that the minimum point of $f(x)$ is\n",
    "     $\\left(-\\frac{1}{4}, \\frac{7}{8}\\right)$\n",
    "```\n",
    "\n",
    "To do this we will be using a specific collections of tools available in Python.\n",
    "Often specific sets of tools are separated in to things called **libraries**. We\n",
    "start by telling Python that we want to use the specific library for **symbolic\n",
    "mathematics**:"
   ]
  },
  {
   "cell_type": "code",
   "execution_count": 1,
   "id": "62b16a18",
   "metadata": {},
   "outputs": [],
   "source": [
    "import sympy"
   ]
  },
  {
   "cell_type": "markdown",
   "id": "2e6fdcbb",
   "metadata": {},
   "source": [
    "This allows us to solve the first part of the question. First we create a\n",
    "variable `expression` and **assign** it a value of $\\frac{1}{\\sqrt{2} + 1}$."
   ]
  },
  {
   "cell_type": "code",
   "execution_count": 2,
   "id": "176ad5ad",
   "metadata": {},
   "outputs": [
    {
     "data": {
      "text/latex": [
       "$\\displaystyle \\frac{1}{1 + \\sqrt{2}}$"
      ],
      "text/plain": [
       "1/(1 + sqrt(2))"
      ]
     },
     "execution_count": 2,
     "metadata": {},
     "output_type": "execute_result"
    }
   ],
   "source": [
    "expression = 1 / (sympy.sqrt(2) + 1)\n",
    "expression"
   ]
  },
  {
   "cell_type": "markdown",
   "id": "f1039249",
   "metadata": {},
   "source": [
    "```{attention}\n",
    "This is not what would happen if we plugged the above in to a basic calculator,\n",
    "it would instead give us a value of:\n",
    "```"
   ]
  },
  {
   "cell_type": "code",
   "execution_count": 3,
   "id": "e0743783",
   "metadata": {},
   "outputs": [
    {
     "data": {
      "text/plain": [
       "0.41421356237309503"
      ]
     },
     "execution_count": 3,
     "metadata": {},
     "output_type": "execute_result"
    }
   ],
   "source": [
    "float(expression)"
   ]
  },
  {
   "cell_type": "markdown",
   "id": "9cf17638",
   "metadata": {},
   "source": [
    "The `sympy` library has a diverse set of tools available, one of which is to\n",
    "algorithmically attempt to simplify an expression. Here is how we do that:"
   ]
  },
  {
   "cell_type": "code",
   "execution_count": 4,
   "id": "3e174648",
   "metadata": {},
   "outputs": [
    {
     "data": {
      "text/latex": [
       "$\\displaystyle -1 + \\sqrt{2}$"
      ],
      "text/plain": [
       "-1 + sqrt(2)"
      ]
     },
     "execution_count": 4,
     "metadata": {},
     "output_type": "execute_result"
    }
   ],
   "source": [
    "sympy.simplify(expression)"
   ]
  },
  {
   "cell_type": "markdown",
   "id": "1e8ff68d",
   "metadata": {},
   "source": [
    "This implies that:\n",
    "\n",
    "$$\n",
    "    \\frac{1}{\\sqrt{2} + 1} = -1 + \\sqrt{2}\n",
    "$$\n",
    "\n",
    "If we multiply both sides by ${\\sqrt{2} + 1}$ we get:\n",
    "\n",
    "$$\n",
    "    1=\\frac{1}{\\sqrt{2} + 1}\\times \\left(\\sqrt{2} + 1\\right) = \\left(-1 + \\sqrt{2}\\right)\\times \\left(\\sqrt{2} + 1\\right)\n",
    "$$\n",
    "\n",
    "The `sympy.simplify` command did not give us much insight in to what happened\n",
    "but we can further confirm that above manipulation by expanding $\\left(-1 +\n",
    "\\sqrt{2}\\right)\\times \\left(\\sqrt{2} + 1\\right)$.\n",
    "\n",
    "Here is how we do that:"
   ]
  },
  {
   "cell_type": "code",
   "execution_count": 5,
   "id": "b9262523",
   "metadata": {},
   "outputs": [
    {
     "data": {
      "text/latex": [
       "$\\displaystyle 1$"
      ],
      "text/plain": [
       "1"
      ]
     },
     "execution_count": 5,
     "metadata": {},
     "output_type": "execute_result"
    }
   ],
   "source": [
    "sympy.expand((-1 + sympy.sqrt(2)) * (1 + sympy.sqrt(2)))"
   ]
  },
  {
   "cell_type": "markdown",
   "id": "87fcbab4",
   "metadata": {},
   "source": [
    "We see that `sympy` allows us to carry out basic expression manipulation. We\n",
    "will now consider the second part of the question:\n",
    "\n",
    "```{admonition} Problem\n",
    "\n",
    "2. Consider the quadratic: $f(x)=2x ^ 2 + x + 1$:\n",
    "  1. Calculate the discriminant of the quadratic equation $2x ^ 2 + x + 1 =\n",
    "     0$. What does this tell us about the solutions to the equation? What\n",
    "     does this tell us about the graph of $f(x)$?\n",
    "  2. By completing the square, show that the minimum point of $f(x)$ is\n",
    "     $\\left(-\\frac{1}{4}, \\frac{7}{8}\\right)$\n",
    "```\n",
    "\n",
    "We will start by reassigning the value of the variable `expression` to be the\n",
    "expression: $2x ^ 2 + x + 1$."
   ]
  },
  {
   "cell_type": "code",
   "execution_count": 6,
   "id": "79fca3e8",
   "metadata": {},
   "outputs": [
    {
     "data": {
      "text/latex": [
       "$\\displaystyle 2 x^{2} + x + 1$"
      ],
      "text/plain": [
       "2*x**2 + x + 1"
      ]
     },
     "execution_count": 6,
     "metadata": {},
     "output_type": "execute_result"
    }
   ],
   "source": [
    "x = sympy.Symbol(\"x\")\n",
    "expression = 2 * x ** 2 + x + 1\n",
    "expression"
   ]
  },
  {
   "cell_type": "markdown",
   "id": "79409637",
   "metadata": {},
   "source": [
    "```{tip}\n",
    "**Recall** that the `**` symbol is how we communicate exponentiation.\n",
    "```\n",
    "\n",
    "```{attention}\n",
    "We start by communicating to the code that `x` is going to be a symbolic variable.\n",
    "```\n",
    "\n",
    "We can immediately use this to compute the discriminant:"
   ]
  },
  {
   "cell_type": "code",
   "execution_count": 7,
   "id": "2fc6a5b3",
   "metadata": {},
   "outputs": [
    {
     "data": {
      "text/latex": [
       "$\\displaystyle -7$"
      ],
      "text/plain": [
       "-7"
      ]
     },
     "execution_count": 7,
     "metadata": {},
     "output_type": "execute_result"
    }
   ],
   "source": [
    "sympy.discriminant(expression)"
   ]
  },
  {
   "cell_type": "markdown",
   "id": "f0578172",
   "metadata": {},
   "source": [
    "Now we can complement this with our mathematical knowledge: if a quadratic has a\n",
    "negative discriminant then it does not have any roots and all the values are of\n",
    "the same sign as the coefficient of $x ^ 2 $. Which in this case is $2>0$.\n",
    "\n",
    "We can confirm this by directly creating the equation. We do this by creating a\n",
    "variable `equation` and assigning it the equation which has a `lhs` and a `rhs`:"
   ]
  },
  {
   "cell_type": "code",
   "execution_count": 8,
   "id": "ec9dddd7",
   "metadata": {},
   "outputs": [
    {
     "data": {
      "text/latex": [
       "$\\displaystyle 2 x^{2} + x + 1 = 0$"
      ],
      "text/plain": [
       "Eq(2*x**2 + x + 1, 0)"
      ]
     },
     "execution_count": 8,
     "metadata": {},
     "output_type": "execute_result"
    }
   ],
   "source": [
    "equation = sympy.Eq(lhs=expression, rhs=0)\n",
    "equation"
   ]
  },
  {
   "cell_type": "markdown",
   "id": "991108bd",
   "metadata": {},
   "source": [
    "and asking `sympy` to solve it:"
   ]
  },
  {
   "cell_type": "code",
   "execution_count": 9,
   "id": "dd4f1c97",
   "metadata": {},
   "outputs": [
    {
     "data": {
      "text/latex": [
       "$\\displaystyle \\left\\{- \\frac{1}{4} - \\frac{\\sqrt{7} i}{4}, - \\frac{1}{4} + \\frac{\\sqrt{7} i}{4}\\right\\}$"
      ],
      "text/plain": [
       "{-1/4 - sqrt(7)*I/4, -1/4 + sqrt(7)*I/4}"
      ]
     },
     "execution_count": 9,
     "metadata": {},
     "output_type": "execute_result"
    }
   ],
   "source": [
    "sympy.solveset(equation)"
   ]
  },
  {
   "cell_type": "markdown",
   "id": "fd22b4b2",
   "metadata": {},
   "source": [
    "Indeed the only solutions are imaginary numbers: this confirms that the graph of\n",
    "$f(x)$ is a convex parabola that is above the $y=0$ line.\n",
    "\n",
    "Let us know complete the square so that we can write:\n",
    "\n",
    "$$\n",
    "    f(x) = a (x - b) ^ 2 + c\n",
    "$$\n",
    "\n",
    "for some values of $a, b, c$.\n",
    "\n",
    "First let us create variables that have those 3 constants as value but also create a variable `completed_square` and assign it the general expression:"
   ]
  },
  {
   "cell_type": "code",
   "execution_count": 10,
   "id": "3fd4fbc5",
   "metadata": {},
   "outputs": [
    {
     "data": {
      "text/latex": [
       "$\\displaystyle a \\left(- b + x\\right)^{2} + c$"
      ],
      "text/plain": [
       "a*(-b + x)**2 + c"
      ]
     },
     "execution_count": 10,
     "metadata": {},
     "output_type": "execute_result"
    }
   ],
   "source": [
    "a, b, c = sympy.Symbol(\"a\"), sympy.Symbol(\"b\"), sympy.Symbol(\"c\")\n",
    "completed_square = a * (x - b) ** 2 + c\n",
    "completed_square"
   ]
  },
  {
   "cell_type": "markdown",
   "id": "94c29b75",
   "metadata": {},
   "source": [
    "We can expand this:"
   ]
  },
  {
   "cell_type": "code",
   "execution_count": 11,
   "id": "9a57f6f2",
   "metadata": {},
   "outputs": [
    {
     "data": {
      "text/latex": [
       "$\\displaystyle a b^{2} - 2 a b x + a x^{2} + c$"
      ],
      "text/plain": [
       "a*b**2 - 2*a*b*x + a*x**2 + c"
      ]
     },
     "execution_count": 11,
     "metadata": {},
     "output_type": "execute_result"
    }
   ],
   "source": [
    "sympy.expand(completed_square)"
   ]
  },
  {
   "cell_type": "markdown",
   "id": "c52bb187",
   "metadata": {},
   "source": [
    "We will now use `sympy` to solve the various equations that arise from comparing\n",
    "the coefficients of:\n",
    "\n",
    "$$\n",
    "    f(x) = 2x ^2 + x + 1\n",
    "$$\n",
    "\n",
    "with the completed square.\n",
    "\n",
    "First, we see that the coefficient of $x ^ 2$ gives us an equation:\n",
    "\n",
    "$$\n",
    "    a = 2\n",
    "$$\n",
    "\n",
    "For completeness we will write the code that solves this trivial equation:"
   ]
  },
  {
   "cell_type": "code",
   "execution_count": 12,
   "id": "2a281f7b",
   "metadata": {},
   "outputs": [
    {
     "data": {
      "text/latex": [
       "$\\displaystyle \\left\\{2\\right\\}$"
      ],
      "text/plain": [
       "{2}"
      ]
     },
     "execution_count": 12,
     "metadata": {},
     "output_type": "execute_result"
    }
   ],
   "source": [
    "equation = sympy.Eq(a, 2)\n",
    "sympy.solveset(equation, a)"
   ]
  },
  {
   "cell_type": "markdown",
   "id": "fb60ae04",
   "metadata": {},
   "source": [
    "We will now substitute this value of $a$ in to the completed square and update the variable with the new value:"
   ]
  },
  {
   "cell_type": "code",
   "execution_count": 13,
   "id": "275abd81",
   "metadata": {},
   "outputs": [
    {
     "data": {
      "text/latex": [
       "$\\displaystyle c + 2 \\left(- b + x\\right)^{2}$"
      ],
      "text/plain": [
       "c + 2*(-b + x)**2"
      ]
     },
     "execution_count": 13,
     "metadata": {},
     "output_type": "execute_result"
    }
   ],
   "source": [
    "completed_square = completed_square.subs({a: 2})\n",
    "completed_square"
   ]
  },
  {
   "cell_type": "markdown",
   "id": "1f2a2ebc",
   "metadata": {},
   "source": [
    "```{attention}\n",
    "The different types of brackets being used there: both `()` and `{}`. This is\n",
    "important and has specific meaning in Python which we will cover soon.\n",
    "```\n",
    "\n",
    "Now let us look at the expression with our two remaining constants:"
   ]
  },
  {
   "cell_type": "code",
   "execution_count": 14,
   "id": "6b6fc503",
   "metadata": {},
   "outputs": [
    {
     "data": {
      "text/latex": [
       "$\\displaystyle 2 b^{2} - 4 b x + c + 2 x^{2}$"
      ],
      "text/plain": [
       "2*b**2 - 4*b*x + c + 2*x**2"
      ]
     },
     "execution_count": 14,
     "metadata": {},
     "output_type": "execute_result"
    }
   ],
   "source": [
    "sympy.expand(completed_square)"
   ]
  },
  {
   "cell_type": "markdown",
   "id": "711df517",
   "metadata": {},
   "source": [
    "Comparing the coefficients of $x$ we have the equation:\n",
    "\n",
    "$$\n",
    "  - 4 b = 1\n",
    "$$"
   ]
  },
  {
   "cell_type": "code",
   "execution_count": 15,
   "id": "3a33bfb4",
   "metadata": {},
   "outputs": [
    {
     "data": {
      "text/latex": [
       "$\\displaystyle \\left\\{- \\frac{1}{4}\\right\\}$"
      ],
      "text/plain": [
       "{-1/4}"
      ]
     },
     "execution_count": 15,
     "metadata": {},
     "output_type": "execute_result"
    }
   ],
   "source": [
    "equation = sympy.Eq(-4 * b, 1)\n",
    "sympy.solveset(equation, b)"
   ]
  },
  {
   "cell_type": "markdown",
   "id": "56708be6",
   "metadata": {},
   "source": [
    "We will now substitute this value of $b$ back in to our expression.\n",
    "\n",
    "```{attention}\n",
    "We make a point to tell sympy to treat $1 / 4$ symbolically and to not\n",
    "calculate the numeric value:\n",
    "```"
   ]
  },
  {
   "cell_type": "code",
   "execution_count": 16,
   "id": "c1cc683a",
   "metadata": {},
   "outputs": [
    {
     "data": {
      "text/latex": [
       "$\\displaystyle c + 2 \\left(x + \\frac{1}{4}\\right)^{2}$"
      ],
      "text/plain": [
       "c + 2*(x + 1/4)**2"
      ]
     },
     "execution_count": 16,
     "metadata": {},
     "output_type": "execute_result"
    }
   ],
   "source": [
    "completed_square = completed_square.subs({b: -1 / sympy.S(4)})\n",
    "completed_square"
   ]
  },
  {
   "cell_type": "markdown",
   "id": "09f0f3e0",
   "metadata": {},
   "source": [
    "Expanding this to see our expression with the one remaining constant gives:"
   ]
  },
  {
   "cell_type": "code",
   "execution_count": 17,
   "id": "6e4faf5a",
   "metadata": {},
   "outputs": [
    {
     "data": {
      "text/latex": [
       "$\\displaystyle c + 2 x^{2} + x + \\frac{1}{8}$"
      ],
      "text/plain": [
       "c + 2*x**2 + x + 1/8"
      ]
     },
     "execution_count": 17,
     "metadata": {},
     "output_type": "execute_result"
    }
   ],
   "source": [
    "sympy.expand(completed_square)"
   ]
  },
  {
   "cell_type": "markdown",
   "id": "8bccf768",
   "metadata": {},
   "source": [
    "We have a final equation for the constant term:\n",
    "\n",
    "$$\n",
    "    c + 1 / 8 = 1\n",
    "$$\n",
    "\n",
    "We will use sympy to find the value of $c$:"
   ]
  },
  {
   "cell_type": "code",
   "execution_count": 18,
   "id": "c545077c",
   "metadata": {},
   "outputs": [
    {
     "data": {
      "text/latex": [
       "$\\displaystyle \\left\\{\\frac{7}{8}\\right\\}$"
      ],
      "text/plain": [
       "{7/8}"
      ]
     },
     "execution_count": 18,
     "metadata": {},
     "output_type": "execute_result"
    }
   ],
   "source": [
    "sympy.solveset(sympy.Eq(c + sympy.S(1) / 8, 1), c)"
   ]
  },
  {
   "cell_type": "markdown",
   "id": "e932eb57",
   "metadata": {},
   "source": [
    "As before we will substitute that in and update the value of `completed_square`:"
   ]
  },
  {
   "cell_type": "code",
   "execution_count": 19,
   "id": "fa64e7c0",
   "metadata": {},
   "outputs": [
    {
     "data": {
      "text/latex": [
       "$\\displaystyle 2 \\left(x + \\frac{1}{4}\\right)^{2} + \\frac{7}{8}$"
      ],
      "text/plain": [
       "2*(x + 1/4)**2 + 7/8"
      ]
     },
     "execution_count": 19,
     "metadata": {},
     "output_type": "execute_result"
    }
   ],
   "source": [
    "completed_square = completed_square.subs({c: 7 / sympy.S(8)})\n",
    "completed_square"
   ]
  },
  {
   "cell_type": "markdown",
   "id": "3405e2dc",
   "metadata": {},
   "source": [
    "Using this we can see that the there are indeed no values of $x$ which give\n",
    "negative values of $f(x)$ as $f(x)$ is a square added to a constant.\n",
    "\n",
    "The minimum is when $x=-1/4$ which gives: $f(-1/4)=7/8$:"
   ]
  },
  {
   "cell_type": "code",
   "execution_count": 20,
   "id": "ee7885f0",
   "metadata": {},
   "outputs": [
    {
     "data": {
      "text/latex": [
       "$\\displaystyle \\frac{7}{8}$"
      ],
      "text/plain": [
       "7/8"
      ]
     },
     "execution_count": 20,
     "metadata": {},
     "output_type": "execute_result"
    }
   ],
   "source": [
    "completed_square.subs({x: -1 / sympy.S(4)})"
   ]
  },
  {
   "cell_type": "markdown",
   "id": "911f6fe7",
   "metadata": {},
   "source": [
    "```{important}\n",
    "In this tutorial we have\n",
    "\n",
    "- Created symbolic expressions.\n",
    "- Obtained approximate values for numerical symbolic expressions.\n",
    "- Expanded and simplified symbolic expressions.\n",
    "- Created symbolic equations.\n",
    "- Solve symbolic equations.\n",
    "- Substituted values in to symbolic expressions.\n",
    "```"
   ]
  }
 ],
 "metadata": {
  "jupytext": {
   "formats": "ipynb,md:myst",
   "text_representation": {
    "extension": ".md",
    "format_name": "myst",
    "format_version": 0.12,
    "jupytext_version": "1.6.0"
   }
  },
  "kernelspec": {
   "display_name": "Python 3",
   "language": "python",
   "name": "python3"
  },
  "language_info": {
   "codemirror_mode": {
    "name": "ipython",
    "version": 3
   },
   "file_extension": ".py",
   "mimetype": "text/x-python",
   "name": "python",
   "nbconvert_exporter": "python",
   "pygments_lexer": "ipython3",
   "version": "3.10.14"
  },
  "source_map": [
   13,
   38,
   40,
   45,
   48,
   55,
   57,
   62,
   64,
   84,
   86,
   104,
   108,
   120,
   122,
   131,
   134,
   138,
   140,
   155,
   159,
   163,
   165,
   184,
   187,
   191,
   194,
   203,
   205,
   213,
   216,
   225,
   228,
   232,
   234,
   244,
   246,
   250,
   253,
   260,
   262
  ]
 },
 "nbformat": 4,
 "nbformat_minor": 5
}