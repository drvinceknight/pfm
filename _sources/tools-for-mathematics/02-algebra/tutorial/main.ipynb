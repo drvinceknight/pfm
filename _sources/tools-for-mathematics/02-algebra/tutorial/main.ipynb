{
 "cells": [
  {
   "cell_type": "markdown",
   "id": "1e5494f1",
   "metadata": {},
   "source": [
    "(algebra_tutorial)=\n",
    "\n",
    "# Tutorial\n",
    "\n",
    "To demonstrate the ways in which a computer can assist with Algebra, in\n",
    "this tutorial you will solve the following two problems:\n",
    "\n",
    "```{admonition} Problem\n",
    "\n",
    "1.  Rationalise the denominator of $\\frac{1}{\\sqrt{2} + 1}$\n",
    "2.  Consider the : $f(x)=2x ^ 2 + x + 1$:\n",
    "\n",
    "    1.  Calculate the discriminant of the equation $2x ^ 2 + x + 1 =\n",
    "        0$. What does this tell you about the solutions to the equation?\n",
    "        What does this tell you about the graph of $f(x)$?\n",
    "    2.  By , show that the minimum point of $f(x)$ is\n",
    "        $\\left(-\\frac{1}{4}, \\frac{7}{8}\\right)$\n",
    "\n",
    "To do this, a specific collection of tools available in Python will be\n",
    "used. Often specific sets of tools are separated in to things called\n",
    "**libraries**. Start by telling Python that you want to use the specific\n",
    "library for **symbolic mathematics**:\n",
    "```\n",
    "\n",
    "To do this, a specific collection of tools available in Python will be used.\n",
    "Often specific sets of tools are separated in to things called **libraries**.\n",
    "Start by telling Python that we want to use the specific library for **symbolic\n",
    "mathematics**:"
   ]
  },
  {
   "cell_type": "code",
   "execution_count": 1,
   "id": "98c8e50e",
   "metadata": {},
   "outputs": [],
   "source": [
    "import sympy"
   ]
  },
  {
   "cell_type": "markdown",
   "id": "3a61005c",
   "metadata": {},
   "source": [
    "This will allow you to solve the first part of the question. Create a\n",
    "variable `expression` and **assign** it a value of\n",
    "$\\frac{1}{\\sqrt{2} + 1}$."
   ]
  },
  {
   "cell_type": "code",
   "execution_count": 2,
   "id": "f31daf1c",
   "metadata": {},
   "outputs": [
    {
     "data": {
      "text/latex": [
       "$\\displaystyle \\frac{1}{1 + \\sqrt{2}}$"
      ],
      "text/plain": [
       "1/(1 + sqrt(2))"
      ]
     },
     "execution_count": 2,
     "metadata": {},
     "output_type": "execute_result"
    }
   ],
   "source": [
    "expression = 1 / (sympy.sqrt(2) + 1)\n",
    "expression"
   ]
  },
  {
   "cell_type": "markdown",
   "id": "0dfa95de",
   "metadata": {},
   "source": [
    "```{attention}\n",
    "This is not what would happen if you plugged the above in to a basic\n",
    "calculator, it would instead give you a value of:\n",
    "```"
   ]
  },
  {
   "cell_type": "code",
   "execution_count": 3,
   "id": "eb733645",
   "metadata": {},
   "outputs": [
    {
     "data": {
      "text/plain": [
       "0.41421356237309503"
      ]
     },
     "execution_count": 3,
     "metadata": {},
     "output_type": "execute_result"
    }
   ],
   "source": [
    "float(expression)"
   ]
  },
  {
   "cell_type": "markdown",
   "id": "727ce9a9",
   "metadata": {},
   "source": [
    "The `sympy` library has a diverse set of tools available, one of which\n",
    "is to algorithmically attempt to simplify an expression. Here is how to\n",
    "do that:"
   ]
  },
  {
   "cell_type": "code",
   "execution_count": 4,
   "id": "2d1cdc94",
   "metadata": {},
   "outputs": [
    {
     "data": {
      "text/latex": [
       "$\\displaystyle -1 + \\sqrt{2}$"
      ],
      "text/plain": [
       "-1 + sqrt(2)"
      ]
     },
     "execution_count": 4,
     "metadata": {},
     "output_type": "execute_result"
    }
   ],
   "source": [
    "sympy.simplify(expression)"
   ]
  },
  {
   "cell_type": "markdown",
   "id": "7b748ac4",
   "metadata": {},
   "source": [
    "This implies that:\n",
    "\n",
    "$$\n",
    "\\begin{split}\n",
    "    \\frac{1}{\\sqrt{2} + 1} = -1 + \\sqrt{2}\n",
    "\\end{split}\n",
    "$$\n",
    "\n",
    "Multiplying both sides by ${\\sqrt{2} + 1}$ gives:\n",
    "\n",
    "$$1=\\frac{1}{\\sqrt{2} + 1}\\times \\left(\\sqrt{2} + 1\\right) = \\left(-1 + \\sqrt{2}\\right)\\times \\left(\\sqrt{2} + 1\\right)$$\n",
    "\n",
    "The `sympy.simplify` command did not give much insight in to what\n",
    "happened but you can confirm the above manipulation by expanding\n",
    "$\\left(-1 +\n",
    "\\sqrt{2}\\right)\\times \\left(\\sqrt{2} + 1\\right)$. Here is how to do\n",
    "that:"
   ]
  },
  {
   "cell_type": "code",
   "execution_count": 5,
   "id": "14c1c70a",
   "metadata": {},
   "outputs": [
    {
     "data": {
      "text/latex": [
       "$\\displaystyle 1$"
      ],
      "text/plain": [
       "1"
      ]
     },
     "execution_count": 5,
     "metadata": {},
     "output_type": "execute_result"
    }
   ],
   "source": [
    "sympy.expand((-1 + sympy.sqrt(2)) * (1 + sympy.sqrt(2)))"
   ]
  },
  {
   "cell_type": "markdown",
   "id": "470e7804",
   "metadata": {},
   "source": [
    "The `sympy` library allows you to carry out basic expression\n",
    "manipulation. Now consider the second part of the question:\n",
    "\n",
    "```{admonition} Problem\n",
    "1.  Consider the : $f(x)=2x ^ 2 + x + 1$:\n",
    "\n",
    "2.  Calculate the of the equation $2x ^ 2 + x + 1 =\n",
    "    0$. What does this tell you about the solutions to the equation?\n",
    "    What does this tell you about the graph of $f(x)$?\n",
    "\n",
    "3.  By , show that the minimum point of $f(x)$ is\n",
    "    $\\left(-\\frac{1}{4}, \\frac{7}{8}\\right)$\n",
    "```\n",
    "\n",
    "Start by reassigning the value of the variable `expression` to be the\n",
    "expression: $2x ^ 2 + x + 1$."
   ]
  },
  {
   "cell_type": "code",
   "execution_count": 6,
   "id": "dc239330",
   "metadata": {},
   "outputs": [
    {
     "data": {
      "text/latex": [
       "$\\displaystyle 2 x^{2} + x + 1$"
      ],
      "text/plain": [
       "2*x**2 + x + 1"
      ]
     },
     "execution_count": 6,
     "metadata": {},
     "output_type": "execute_result"
    }
   ],
   "source": [
    "x = sympy.Symbol(\"x\")\n",
    "expression = 2 * x ** 2 + x + 1\n",
    "expression"
   ]
  },
  {
   "cell_type": "markdown",
   "id": "f88905be",
   "metadata": {},
   "source": [
    "```{attention}\n",
    "Ths first line communicates to the code that `x` is going to be a symbolic variable.\n",
    "```\n",
    "\n",
    "```{tip}\n",
    "**Recall** that the `**` symbol is how you communicate exponentiation.\n",
    "```\n",
    "\n",
    "You can immediately use this to compute the discriminant:"
   ]
  },
  {
   "cell_type": "code",
   "execution_count": 7,
   "id": "5f8b2155",
   "metadata": {},
   "outputs": [
    {
     "data": {
      "text/latex": [
       "$\\displaystyle -7$"
      ],
      "text/plain": [
       "-7"
      ]
     },
     "execution_count": 7,
     "metadata": {},
     "output_type": "execute_result"
    }
   ],
   "source": [
    "sympy.discriminant(expression)"
   ]
  },
  {
   "cell_type": "markdown",
   "id": "1ffe4866",
   "metadata": {},
   "source": [
    "Now, complement this with mathematical knowledge: if a has a negative\n",
    "discriminant then it does not have any roots and all the values are of\n",
    "the same sign as the coefficient of $x ^ 2$. Which in this case is\n",
    "$2>0$. Confirm this by directly creating the equation. Do this by\n",
    "creating a variable `equation` and assigning it the equation which has a\n",
    "`lhs` and a `rhs`:"
   ]
  },
  {
   "cell_type": "code",
   "execution_count": 8,
   "id": "3271deab",
   "metadata": {},
   "outputs": [
    {
     "data": {
      "text/latex": [
       "$\\displaystyle 2 x^{2} + x + 1 = 0$"
      ],
      "text/plain": [
       "Eq(2*x**2 + x + 1, 0)"
      ]
     },
     "execution_count": 8,
     "metadata": {},
     "output_type": "execute_result"
    }
   ],
   "source": [
    "equation = sympy.Eq(lhs=expression, rhs=0)\n",
    "equation"
   ]
  },
  {
   "cell_type": "markdown",
   "id": "0607e947",
   "metadata": {},
   "source": [
    "Now ask `sympy` to solve it:"
   ]
  },
  {
   "cell_type": "code",
   "execution_count": 9,
   "id": "0bd30d3d",
   "metadata": {},
   "outputs": [
    {
     "data": {
      "text/latex": [
       "$\\displaystyle \\left\\{- \\frac{1}{4} - \\frac{\\sqrt{7} i}{4}, - \\frac{1}{4} + \\frac{\\sqrt{7} i}{4}\\right\\}$"
      ],
      "text/plain": [
       "{-1/4 - sqrt(7)*I/4, -1/4 + sqrt(7)*I/4}"
      ]
     },
     "execution_count": 9,
     "metadata": {},
     "output_type": "execute_result"
    }
   ],
   "source": [
    "sympy.solveset(equation)"
   ]
  },
  {
   "cell_type": "markdown",
   "id": "9e7c70e8",
   "metadata": {},
   "source": [
    "Indeed the only solutions are imaginary numbers: this confirms that the\n",
    "graph of $f(x)$ is a convex parabola that is above the $y=0$ line. Now\n",
    "complete the square so that you can write:\n",
    "\n",
    "$$\n",
    "    f(x) = a (x - b) ^ 2 + c\n",
    "$$\n",
    "\n",
    "for some values of $a, b, c$. Create variables that have those 3\n",
    "constants as value but also create a variable `completed_square` and\n",
    "assign it the general expression:"
   ]
  },
  {
   "cell_type": "code",
   "execution_count": 10,
   "id": "e337e7c2",
   "metadata": {},
   "outputs": [
    {
     "data": {
      "text/latex": [
       "$\\displaystyle a \\left(- b + x\\right)^{2} + c$"
      ],
      "text/plain": [
       "a*(-b + x)**2 + c"
      ]
     },
     "execution_count": 10,
     "metadata": {},
     "output_type": "execute_result"
    }
   ],
   "source": [
    "a, b, c = sympy.Symbol(\"a\"), sympy.Symbol(\"b\"), sympy.Symbol(\"c\")\n",
    "completed_square = a * (x - b) ** 2 + c\n",
    "completed_square"
   ]
  },
  {
   "cell_type": "markdown",
   "id": "5031beec",
   "metadata": {},
   "source": [
    "Expand this:"
   ]
  },
  {
   "cell_type": "code",
   "execution_count": 11,
   "id": "de3b0593",
   "metadata": {},
   "outputs": [
    {
     "data": {
      "text/latex": [
       "$\\displaystyle a b^{2} - 2 a b x + a x^{2} + c$"
      ],
      "text/plain": [
       "a*b**2 - 2*a*b*x + a*x**2 + c"
      ]
     },
     "execution_count": 11,
     "metadata": {},
     "output_type": "execute_result"
    }
   ],
   "source": [
    "sympy.expand(completed_square)"
   ]
  },
  {
   "cell_type": "markdown",
   "id": "4bcfced9",
   "metadata": {},
   "source": [
    "Use `sympy` to solve the various equations that arise from comparing the\n",
    "coefficients of:\n",
    "\n",
    "$$\n",
    "    f(x) = 2x ^2 + x + 1\n",
    "$$\n",
    "\n",
    "with the completed square. First, you see that the coefficient of\n",
    "$x ^ 2$ gives you an equation:\n",
    "\n",
    "$$\n",
    "    a = 2\n",
    "$$\n",
    "\n",
    "For completeness write the code that solves this trivial equation:"
   ]
  },
  {
   "cell_type": "code",
   "execution_count": 12,
   "id": "aba9a1e2",
   "metadata": {},
   "outputs": [
    {
     "data": {
      "text/latex": [
       "$\\displaystyle \\left\\{2\\right\\}$"
      ],
      "text/plain": [
       "{2}"
      ]
     },
     "execution_count": 12,
     "metadata": {},
     "output_type": "execute_result"
    }
   ],
   "source": [
    "equation = sympy.Eq(a, 2)\n",
    "sympy.solveset(equation, a)"
   ]
  },
  {
   "cell_type": "markdown",
   "id": "126da96c",
   "metadata": {},
   "source": [
    "Now substitute this value of $a$ in to the completed square and update\n",
    "the variable with the new value:"
   ]
  },
  {
   "cell_type": "code",
   "execution_count": 13,
   "id": "ef1bdebe",
   "metadata": {},
   "outputs": [
    {
     "data": {
      "text/latex": [
       "$\\displaystyle c + 2 \\left(- b + x\\right)^{2}$"
      ],
      "text/plain": [
       "c + 2*(-b + x)**2"
      ]
     },
     "execution_count": 13,
     "metadata": {},
     "output_type": "execute_result"
    }
   ],
   "source": [
    "completed_square = completed_square.subs({a: 2})\n",
    "completed_square"
   ]
  },
  {
   "cell_type": "markdown",
   "id": "5ebef44e",
   "metadata": {},
   "source": [
    "```{attention}\n",
    "The different types of brackets being used there: both `()` and `{}`.\n",
    "This is important and has specific meaning in Python which will be\n",
    "covered in future chapters.\n",
    "```\n",
    "\n",
    "Now look at the expression with the two remaining constants:"
   ]
  },
  {
   "cell_type": "code",
   "execution_count": 14,
   "id": "cb558c08",
   "metadata": {},
   "outputs": [
    {
     "data": {
      "text/latex": [
       "$\\displaystyle 2 b^{2} - 4 b x + c + 2 x^{2}$"
      ],
      "text/plain": [
       "2*b**2 - 4*b*x + c + 2*x**2"
      ]
     },
     "execution_count": 14,
     "metadata": {},
     "output_type": "execute_result"
    }
   ],
   "source": [
    "sympy.expand(completed_square)"
   ]
  },
  {
   "cell_type": "markdown",
   "id": "3ab6861c",
   "metadata": {},
   "source": [
    "Comparing the coefficients of $x$ gives:\n",
    "\n",
    "$$\n",
    "  - 4 b = 1\n",
    "$$"
   ]
  },
  {
   "cell_type": "code",
   "execution_count": 15,
   "id": "0c482e5b",
   "metadata": {},
   "outputs": [
    {
     "data": {
      "text/latex": [
       "$\\displaystyle \\left\\{- \\frac{1}{4}\\right\\}$"
      ],
      "text/plain": [
       "{-1/4}"
      ]
     },
     "execution_count": 15,
     "metadata": {},
     "output_type": "execute_result"
    }
   ],
   "source": [
    "equation = sympy.Eq(-4 * b, 1)\n",
    "sympy.solveset(equation, b)"
   ]
  },
  {
   "cell_type": "markdown",
   "id": "9f9490a9",
   "metadata": {},
   "source": [
    "Substitute this value of $b$ back in to our expression.\n",
    "\n",
    "```{attention}\n",
    "Make a point to tell sympy to treat $1 / 4$ symbolically and to not\n",
    "calculate the numeric value:\n",
    "```"
   ]
  },
  {
   "cell_type": "code",
   "execution_count": 16,
   "id": "e9b2d568",
   "metadata": {},
   "outputs": [
    {
     "data": {
      "text/latex": [
       "$\\displaystyle c + 2 \\left(x + \\frac{1}{4}\\right)^{2}$"
      ],
      "text/plain": [
       "c + 2*(x + 1/4)**2"
      ]
     },
     "execution_count": 16,
     "metadata": {},
     "output_type": "execute_result"
    }
   ],
   "source": [
    "completed_square = completed_square.subs({b: -1 / sympy.S(4)})\n",
    "completed_square"
   ]
  },
  {
   "cell_type": "markdown",
   "id": "c11b42e2",
   "metadata": {},
   "source": [
    "Expand this to see the expression with the one remaining constant gives:"
   ]
  },
  {
   "cell_type": "code",
   "execution_count": 17,
   "id": "32067567",
   "metadata": {},
   "outputs": [
    {
     "data": {
      "text/latex": [
       "$\\displaystyle c + 2 x^{2} + x + \\frac{1}{8}$"
      ],
      "text/plain": [
       "c + 2*x**2 + x + 1/8"
      ]
     },
     "execution_count": 17,
     "metadata": {},
     "output_type": "execute_result"
    }
   ],
   "source": [
    "sympy.expand(completed_square)"
   ]
  },
  {
   "cell_type": "markdown",
   "id": "e93c992e",
   "metadata": {},
   "source": [
    "This gives a final equation for the constant term:\n",
    "\n",
    "$$\n",
    "    c + 1 / 8 = 1\n",
    "$$\n",
    "\n",
    "Now use sympy to find the value of $c$:"
   ]
  },
  {
   "cell_type": "code",
   "execution_count": 18,
   "id": "9d5b94e6",
   "metadata": {},
   "outputs": [
    {
     "data": {
      "text/latex": [
       "$\\displaystyle \\left\\{\\frac{7}{8}\\right\\}$"
      ],
      "text/plain": [
       "{7/8}"
      ]
     },
     "execution_count": 18,
     "metadata": {},
     "output_type": "execute_result"
    }
   ],
   "source": [
    "sympy.solveset(sympy.Eq(c + sympy.S(1) / 8, 1), c)"
   ]
  },
  {
   "cell_type": "markdown",
   "id": "d09e59dd",
   "metadata": {},
   "source": [
    "As before substitute in and update the value of `completed_square`:"
   ]
  },
  {
   "cell_type": "code",
   "execution_count": 19,
   "id": "0edcddda",
   "metadata": {},
   "outputs": [
    {
     "data": {
      "text/latex": [
       "$\\displaystyle 2 \\left(x + \\frac{1}{4}\\right)^{2} + \\frac{7}{8}$"
      ],
      "text/plain": [
       "2*(x + 1/4)**2 + 7/8"
      ]
     },
     "execution_count": 19,
     "metadata": {},
     "output_type": "execute_result"
    }
   ],
   "source": [
    "completed_square = completed_square.subs({c: 7 / sympy.S(8)})\n",
    "completed_square"
   ]
  },
  {
   "cell_type": "markdown",
   "id": "f1daf7df",
   "metadata": {},
   "source": [
    "Using this shows that the there are indeed no values of $x$ which give\n",
    "negative values of $f(x)$ as $f(x)$ is a square added to a constant. The\n",
    "minimum is when $x=-1/4$ which gives: $f(-1/4)=7/8$:"
   ]
  },
  {
   "cell_type": "code",
   "execution_count": 20,
   "id": "757d1d7b",
   "metadata": {},
   "outputs": [
    {
     "data": {
      "text/latex": [
       "$\\displaystyle \\frac{7}{8}$"
      ],
      "text/plain": [
       "7/8"
      ]
     },
     "execution_count": 20,
     "metadata": {},
     "output_type": "execute_result"
    }
   ],
   "source": [
    "completed_square.subs({x: -1 / sympy.S(4)})"
   ]
  },
  {
   "cell_type": "markdown",
   "id": "6ee293cc",
   "metadata": {},
   "source": [
    "```{important}\n",
    "This tutorial has:\n",
    "\n",
    "-   Created symbolic expressions.\n",
    "-   Obtained approximate values for numerical symbolic expressions.\n",
    "-   Expanded and simplified symbolic expressions.\n",
    "-   Created symbolic equations.\n",
    "-   Solve symbolic equations.\n",
    "-   Substituted values in to symbolic expressions.\n",
    "```"
   ]
  }
 ],
 "metadata": {
  "jupytext": {
   "formats": "ipynb,md:myst",
   "text_representation": {
    "extension": ".md",
    "format_name": "myst",
    "format_version": 0.12,
    "jupytext_version": "1.6.0"
   }
  },
  "kernelspec": {
   "display_name": "Python 3",
   "language": "python",
   "name": "python3"
  },
  "language_info": {
   "codemirror_mode": {
    "name": "ipython",
    "version": 3
   },
   "file_extension": ".py",
   "mimetype": "text/x-python",
   "name": "python",
   "nbconvert_exporter": "python",
   "pygments_lexer": "ipython3",
   "version": "3.10.18"
  },
  "source_map": [
   13,
   44,
   46,
   52,
   55,
   62,
   64,
   70,
   72,
   92,
   94,
   113,
   117,
   129,
   131,
   140,
   143,
   147,
   149,
   163,
   167,
   171,
   173,
   191,
   194,
   199,
   202,
   212,
   214,
   222,
   225,
   234,
   237,
   241,
   243,
   253,
   255,
   259,
   262,
   268,
   270
  ]
 },
 "nbformat": 4,
 "nbformat_minor": 5
}