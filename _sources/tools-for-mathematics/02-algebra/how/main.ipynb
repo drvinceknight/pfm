{
 "cells": [
  {
   "cell_type": "markdown",
   "id": "8c3c51f1",
   "metadata": {},
   "source": [
    "# How to\n",
    "\n",
    "## Create a symbolic numeric value\n",
    "\n",
    "To create a symbolic numerical value use `sympy.S`.\n",
    "\n",
    "````{admonition} Usage\n",
    ":class: tip\n",
    "```\n",
    "sympy.S(a)\n",
    "```\n",
    "````\n",
    "\n",
    "For example:"
   ]
  },
  {
   "cell_type": "code",
   "execution_count": 1,
   "id": "0a1aa70e",
   "metadata": {},
   "outputs": [
    {
     "data": {
      "text/latex": [
       "$\\displaystyle 3$"
      ],
      "text/plain": [
       "3"
      ]
     },
     "execution_count": 1,
     "metadata": {},
     "output_type": "execute_result"
    }
   ],
   "source": [
    "import sympy\n",
    "\n",
    "value = sympy.S(3)\n",
    "value"
   ]
  },
  {
   "cell_type": "markdown",
   "id": "1cac453f",
   "metadata": {},
   "source": [
    "```{attention}\n",
    "If you combine a symbolic value with a non symbolic value it will automatically\n",
    "give a symbolic value:\n",
    "```"
   ]
  },
  {
   "cell_type": "code",
   "execution_count": 2,
   "id": "9afff73d",
   "metadata": {},
   "outputs": [
    {
     "data": {
      "text/latex": [
       "$\\displaystyle \\frac{1}{3}$"
      ],
      "text/plain": [
       "1/3"
      ]
     },
     "execution_count": 2,
     "metadata": {},
     "output_type": "execute_result"
    }
   ],
   "source": [
    "1 / value"
   ]
  },
  {
   "cell_type": "markdown",
   "id": "dccb584e",
   "metadata": {},
   "source": [
    "## Get the numerical value of a symbolic expression\n",
    "\n",
    "You can get the numerical value of a symbolic value using `float` or\n",
    "`int`:\n",
    "\n",
    "- `float` will give the numeric approximation in $\\mathbb{R}$\n",
    "  ````{admonition} Usage\n",
    "  :class: tip\n",
    "  ```\n",
    "  float(x)\n",
    "  ```\n",
    "  ````\n",
    "- `int` will give the integer value\n",
    "  ````{admonition} Usage\n",
    "  :class: tip\n",
    "  ```\n",
    "  int(x)\n",
    "  ```\n",
    "  ````\n",
    "\n",
    "For example, to create a symbolic numeric variable with value\n",
    "$\\frac{1}{5}$:"
   ]
  },
  {
   "cell_type": "code",
   "execution_count": 3,
   "id": "04dd5ecf",
   "metadata": {},
   "outputs": [
    {
     "data": {
      "text/latex": [
       "$\\displaystyle \\frac{1}{5}$"
      ],
      "text/plain": [
       "1/5"
      ]
     },
     "execution_count": 3,
     "metadata": {},
     "output_type": "execute_result"
    }
   ],
   "source": [
    "value = 1 / sympy.S(5)\n",
    "value"
   ]
  },
  {
   "cell_type": "markdown",
   "id": "c0afb186",
   "metadata": {},
   "source": [
    "To get the numerical value:"
   ]
  },
  {
   "cell_type": "code",
   "execution_count": 4,
   "id": "732073a8",
   "metadata": {},
   "outputs": [
    {
     "data": {
      "text/plain": [
       "0.2"
      ]
     },
     "execution_count": 4,
     "metadata": {},
     "output_type": "execute_result"
    }
   ],
   "source": [
    "float(value)"
   ]
  },
  {
   "cell_type": "markdown",
   "id": "0cbfe36c",
   "metadata": {},
   "source": [
    "To get the integer value:"
   ]
  },
  {
   "cell_type": "code",
   "execution_count": 5,
   "id": "81f622e2",
   "metadata": {},
   "outputs": [
    {
     "data": {
      "text/plain": [
       "0"
      ]
     },
     "execution_count": 5,
     "metadata": {},
     "output_type": "execute_result"
    }
   ],
   "source": [
    "int(value)"
   ]
  },
  {
   "cell_type": "markdown",
   "id": "c72b77e8",
   "metadata": {},
   "source": [
    "```{attention}\n",
    "This is not rounding to the nearest integer. It is returning the integer\n",
    "part.\n",
    "```\n",
    "\n",
    "## Factor an expression\n",
    "\n",
    "Use the `sympy.factor` tool to factor expressions.\n",
    "\n",
    "````{admonition} Usage\n",
    ":class: tip\n",
    "```\n",
    "sympy.factor(expression)\n",
    "```\n",
    "````\n",
    "\n",
    "For example:"
   ]
  },
  {
   "cell_type": "code",
   "execution_count": 6,
   "id": "0588cf09",
   "metadata": {},
   "outputs": [
    {
     "data": {
      "text/latex": [
       "$\\displaystyle \\left(x - 3\\right) \\left(x + 3\\right)$"
      ],
      "text/plain": [
       "(x - 3)*(x + 3)"
      ]
     },
     "execution_count": 6,
     "metadata": {},
     "output_type": "execute_result"
    }
   ],
   "source": [
    "x = sympy.Symbol(\"x\")\n",
    "sympy.factor(x ** 2 - 9)"
   ]
  },
  {
   "cell_type": "markdown",
   "id": "596e66fc",
   "metadata": {},
   "source": [
    "### Factor an expression\n",
    "\n",
    "Use the `sympy.factor` tool to factor expressions.\n",
    "\n",
    "````{admonition} Usage\n",
    ":class: tip\n",
    "```\n",
    "sympy.expand(expression)\n",
    "```\n",
    "````\n",
    "\n",
    "For example:"
   ]
  },
  {
   "cell_type": "code",
   "execution_count": 7,
   "id": "95c81c89",
   "metadata": {},
   "outputs": [
    {
     "data": {
      "text/latex": [
       "$\\displaystyle x^{2} - 9$"
      ],
      "text/plain": [
       "x**2 - 9"
      ]
     },
     "execution_count": 7,
     "metadata": {},
     "output_type": "execute_result"
    }
   ],
   "source": [
    "sympy.expand((x - 3) * (x + 3))"
   ]
  },
  {
   "cell_type": "markdown",
   "id": "6bf83f8d",
   "metadata": {},
   "source": [
    "### Simplify an expression\n",
    "\n",
    "Use the `sympy.simplify` tool to simplify an expression.\n",
    "\n",
    "````{admonition} Usage\n",
    ":class: tip\n",
    "```\n",
    "sympy.simplify(expression)\n",
    "```\n",
    "````\n",
    "\n",
    "For example:"
   ]
  },
  {
   "cell_type": "code",
   "execution_count": 8,
   "id": "4da25f92",
   "metadata": {},
   "outputs": [
    {
     "data": {
      "text/latex": [
       "$\\displaystyle x^{2} - 9$"
      ],
      "text/plain": [
       "x**2 - 9"
      ]
     },
     "execution_count": 8,
     "metadata": {},
     "output_type": "execute_result"
    }
   ],
   "source": [
    "sympy.simplify((x - 3) * (x + 3))"
   ]
  },
  {
   "cell_type": "markdown",
   "id": "3b9801d2",
   "metadata": {},
   "source": [
    "```{attention}\n",
    "This will not always give the expected (or any) result. At times it could be\n",
    "more beneficial to use `sympy.expand` and/or `sympy.factor`.\n",
    "```\n",
    "\n",
    "## Solve an equation\n",
    "\n",
    "Use the `sympy.solveset` tool to solve an equation. It takes two values\n",
    "as inputs. The first is either:\n",
    "\n",
    "- An expression for which a root is to be found\n",
    "- An equation\n",
    "\n",
    "The second is the variable you want to solve for.\n",
    "\n",
    "````{admonition} Usage\n",
    ":class: tip\n",
    "```\n",
    "sympy.solveset(equation, variable)\n",
    "```\n",
    "````\n",
    "\n",
    "Here is how you can use `sympy` to obtain the roots of the general :\n",
    "\n",
    "$$\n",
    "a x ^ 2 + bx + c\n",
    "$$"
   ]
  },
  {
   "cell_type": "code",
   "execution_count": 9,
   "id": "ea798817",
   "metadata": {},
   "outputs": [
    {
     "data": {
      "text/latex": [
       "$\\displaystyle \\left\\{- \\frac{b}{2 a} - \\frac{\\sqrt{- 4 a c + b^{2}}}{2 a}, - \\frac{b}{2 a} + \\frac{\\sqrt{- 4 a c + b^{2}}}{2 a}\\right\\}$"
      ],
      "text/plain": [
       "{-b/(2*a) - sqrt(-4*a*c + b**2)/(2*a), -b/(2*a) + sqrt(-4*a*c + b**2)/(2*a)}"
      ]
     },
     "execution_count": 9,
     "metadata": {},
     "output_type": "execute_result"
    }
   ],
   "source": [
    "a = sympy.Symbol(\"a\")\n",
    "b = sympy.Symbol(\"b\")\n",
    "c = sympy.Symbol(\"c\")\n",
    "quadratic = a * x ** 2 + b * x + c\n",
    "sympy.solveset(quadratic, x)"
   ]
  },
  {
   "cell_type": "markdown",
   "id": "ce0fb07c",
   "metadata": {},
   "source": [
    "Here is how to solve the same equation but not for $x$ but for $b$:"
   ]
  },
  {
   "cell_type": "code",
   "execution_count": 10,
   "id": "5c20eb1a",
   "metadata": {},
   "outputs": [
    {
     "data": {
      "text/latex": [
       "$\\displaystyle \\left\\{- \\frac{a x^{2} + c}{x}\\right\\}$"
      ],
      "text/plain": [
       "{-(a*x**2 + c)/x}"
      ]
     },
     "execution_count": 10,
     "metadata": {},
     "output_type": "execute_result"
    }
   ],
   "source": [
    "sympy.solveset(quadratic, b)"
   ]
  },
  {
   "cell_type": "markdown",
   "id": "381f8a07",
   "metadata": {},
   "source": [
    "It is however clearer to specifically write the equation to solve:"
   ]
  },
  {
   "cell_type": "code",
   "execution_count": 11,
   "id": "4b83d5a0",
   "metadata": {},
   "outputs": [
    {
     "data": {
      "text/latex": [
       "$\\displaystyle \\left\\{- \\frac{b}{2 a} - \\frac{\\sqrt{- 4 a c + b^{2}}}{2 a}, - \\frac{b}{2 a} + \\frac{\\sqrt{- 4 a c + b^{2}}}{2 a}\\right\\}$"
      ],
      "text/plain": [
       "{-b/(2*a) - sqrt(-4*a*c + b**2)/(2*a), -b/(2*a) + sqrt(-4*a*c + b**2)/(2*a)}"
      ]
     },
     "execution_count": 11,
     "metadata": {},
     "output_type": "execute_result"
    }
   ],
   "source": [
    "equation = sympy.Eq(a * x ** 2 + b * x + c, 0)\n",
    "sympy.solveset(equation, x)"
   ]
  },
  {
   "cell_type": "markdown",
   "id": "097c611e",
   "metadata": {},
   "source": [
    "(how-to-substitute-a-value-in-to-an-expression)=\n",
    "\n",
    "## Substitute a value in to an expression\n",
    "\n",
    "Given a `sympy` expression it is possible to substitute values in to it\n",
    "using the `.subs()` tool.\n",
    "\n",
    "````{admonition} Usage\n",
    ":class: tip\n",
    "```\n",
    "expression.subs({variable: value})\n",
    "```\n",
    "````\n",
    "\n",
    "````{attention}\n",
    "It is possible to pass multiple variables at a time. For example to\n",
    "substitute the values for $a, b, c$ in to the expression:\n",
    "\n",
    "```{code-cell} ipython3\n",
    "quadratic = a * x ** 2 + b * x + c\n",
    "quadratic.subs({a: 1, b: sympy.S(7) / 8, c: 0})\n",
    "```\n",
    "\n",
    "````"
   ]
  }
 ],
 "metadata": {
  "jupytext": {
   "formats": "ipynb,md:myst",
   "text_representation": {
    "extension": ".md",
    "format_name": "myst",
    "format_version": 0.12,
    "jupytext_version": "1.6.0"
   }
  },
  "kernelspec": {
   "display_name": "Python 3",
   "language": "python",
   "name": "python3"
  },
  "language_info": {
   "codemirror_mode": {
    "name": "ipython",
    "version": 3
   },
   "file_extension": ".py",
   "mimetype": "text/x-python",
   "name": "python",
   "nbconvert_exporter": "python",
   "pygments_lexer": "ipython3",
   "version": "3.10.18"
  },
  "source_map": [
   13,
   30,
   35,
   42,
   44,
   69,
   72,
   76,
   78,
   82,
   84,
   104,
   107,
   122,
   124,
   139,
   141,
   171,
   177,
   181,
   183,
   187,
   190
  ]
 },
 "nbformat": 4,
 "nbformat_minor": 5
}