{
 "cells": [
  {
   "cell_type": "markdown",
   "id": "bc91e958",
   "metadata": {},
   "source": [
    "# Further information\n",
    "\n",
    "## Why is some code in separate libraries?\n",
    "\n",
    "When we run the `import sympy` command we are telling Python that we want to use\n",
    "a specific set of tools. We will see other examples of this throughout this\n",
    "course.\n",
    "\n",
    "One of the advantages of having code in libraries is that it is more efficient\n",
    "for Python to only use what is needed.\n",
    "\n",
    "There are two types of Python libraries:\n",
    "\n",
    "- Those that are part of the so called \"standard library\": these are part of\n",
    "  Python itself.\n",
    "- Those that are completely separate: `sympy` is one such example of this.\n",
    "\n",
    "This separation allows for the development of tools to be not dependent on each\n",
    "others. The developers of `sympy` do not need to coordinate with the developers\n",
    "of Python to make new releases of the software.\n",
    "\n",
    "## Why do we need to use sympy?\n",
    "\n",
    "`sympy` is the library for symbolic mathematics. There are other python libraries\n",
    "for carrying out mathematics in Python.\n",
    "\n",
    "For example, let us compute the value of the following expression:\n",
    "\n",
    "$$\n",
    "    (\\sqrt{2} + 2) ^ 2 - 2\n",
    "$$\n",
    "\n",
    "We could compute this using the `math` library (for the square root tool):"
   ]
  },
  {
   "cell_type": "code",
   "execution_count": 1,
   "id": "69af2787",
   "metadata": {},
   "outputs": [
    {
     "data": {
      "text/plain": [
       "9.65685424949238"
      ]
     },
     "execution_count": 1,
     "metadata": {},
     "output_type": "execute_result"
    }
   ],
   "source": [
    "import math\n",
    "\n",
    "(math.sqrt(2) + 2) ** 2 - 2"
   ]
  },
  {
   "cell_type": "markdown",
   "id": "c84f001d",
   "metadata": {},
   "source": [
    "We could also make use of the fact that we do not need a square root tool at all:\n",
    "\n",
    "$$\n",
    "    (\\sqrt{2} + 2) ^ 2 - 2 = (2 ^ {1 / 2} + 2) ^ 2 - 2\n",
    "$$"
   ]
  },
  {
   "cell_type": "code",
   "execution_count": 2,
   "id": "5774307e",
   "metadata": {},
   "outputs": [
    {
     "data": {
      "text/plain": [
       "9.65685424949238"
      ]
     },
     "execution_count": 2,
     "metadata": {},
     "output_type": "execute_result"
    }
   ],
   "source": [
    "(2 ** (1 / 2) + 2) ** 2 - 2"
   ]
  },
  {
   "cell_type": "markdown",
   "id": "dab2e849",
   "metadata": {},
   "source": [
    "We see that in both those instances, we have a numeric value for the expression\n",
    "that seems to be precise up to 14 decimal places.\n",
    "\n",
    "However, that is **not** the exact value of that expression. The exact value of\n",
    "the expression needs to be computed symbolically:"
   ]
  },
  {
   "cell_type": "code",
   "execution_count": 3,
   "id": "bc257df6",
   "metadata": {},
   "outputs": [
    {
     "data": {
      "text/latex": [
       "$\\displaystyle 4 + 4 \\sqrt{2}$"
      ],
      "text/plain": [
       "4 + 4*sqrt(2)"
      ]
     },
     "execution_count": 3,
     "metadata": {},
     "output_type": "execute_result"
    }
   ],
   "source": [
    "import sympy\n",
    "\n",
    "expression = (sympy.sqrt(2) + 2) ** 2 - 2\n",
    "sympy.expand(expression)"
   ]
  },
  {
   "cell_type": "markdown",
   "id": "d4feb347",
   "metadata": {},
   "source": [
    "This is one example of why `sympy` is an effective tool for mathematicians.\n",
    "The other one seen in this chapter is being able to compute expressions with no\n",
    "numerical value at all:"
   ]
  },
  {
   "cell_type": "code",
   "execution_count": 4,
   "id": "e8d823c2",
   "metadata": {},
   "outputs": [
    {
     "data": {
      "text/latex": [
       "$\\displaystyle \\left(a - b\\right) \\left(a + b\\right)$"
      ],
      "text/plain": [
       "(a - b)*(a + b)"
      ]
     },
     "execution_count": 4,
     "metadata": {},
     "output_type": "execute_result"
    }
   ],
   "source": [
    "a = sympy.Symbol(\"a\")\n",
    "b = sympy.Symbol(\"b\")\n",
    "sympy.factor(a ** 2 - b ** 2)"
   ]
  },
  {
   "cell_type": "markdown",
   "id": "7d1be115",
   "metadata": {},
   "source": [
    "## Why do I sometimes see `from sympy import *`?\n",
    "\n",
    "There a number of resources available from which you can learn to use `sympy`. In\n",
    "some instances you will not see `import sympy` but instead you will see `from sympy import *`.\n",
    "\n",
    "**This it not a good way to do it.**\n",
    "\n",
    "What this does is taking all the tools inside of sympy and putting it at the\n",
    "same level of all the other tools available to you.\n",
    "\n",
    "The problem with doing this is that it no longer makes your code clear.\n",
    "\n",
    "An example of this are trigonometric functions. These exist in a number of\n",
    "libraries:"
   ]
  },
  {
   "cell_type": "code",
   "execution_count": 5,
   "id": "d32cf9df",
   "metadata": {},
   "outputs": [],
   "source": [
    "import math"
   ]
  },
  {
   "cell_type": "code",
   "execution_count": 6,
   "id": "4c7e4a21",
   "metadata": {},
   "outputs": [],
   "source": [
    "import sympy"
   ]
  },
  {
   "cell_type": "code",
   "execution_count": 7,
   "id": "cf9b03c7",
   "metadata": {},
   "outputs": [
    {
     "data": {
      "text/latex": [
       "$\\displaystyle 1$"
      ],
      "text/plain": [
       "1"
      ]
     },
     "execution_count": 7,
     "metadata": {},
     "output_type": "execute_result"
    }
   ],
   "source": [
    "sympy.cos(0)"
   ]
  },
  {
   "cell_type": "code",
   "execution_count": 8,
   "id": "96ce18f5",
   "metadata": {},
   "outputs": [
    {
     "data": {
      "text/plain": [
       "1.0"
      ]
     },
     "execution_count": 8,
     "metadata": {},
     "output_type": "execute_result"
    }
   ],
   "source": [
    "math.cos(0)"
   ]
  },
  {
   "cell_type": "markdown",
   "id": "b48cce92",
   "metadata": {},
   "source": [
    "One however allows us to carry out exact computations:"
   ]
  },
  {
   "cell_type": "code",
   "execution_count": 9,
   "id": "2c786ddd",
   "metadata": {},
   "outputs": [
    {
     "data": {
      "text/latex": [
       "$\\displaystyle \\frac{\\sqrt{2}}{2}$"
      ],
      "text/plain": [
       "sqrt(2)/2"
      ]
     },
     "execution_count": 9,
     "metadata": {},
     "output_type": "execute_result"
    }
   ],
   "source": [
    "sympy.cos(sympy.pi / 4)"
   ]
  },
  {
   "cell_type": "code",
   "execution_count": 10,
   "id": "d2e75abd",
   "metadata": {},
   "outputs": [
    {
     "data": {
      "text/plain": [
       "0.7071067811865476"
      ]
     },
     "execution_count": 10,
     "metadata": {},
     "output_type": "execute_result"
    }
   ],
   "source": [
    "math.cos(math.pi / 4)"
   ]
  },
  {
   "cell_type": "markdown",
   "id": "88fce767",
   "metadata": {},
   "source": [
    "If we chose to import all the functionality using `from sympy import *` then we\n",
    "cannot tell immediately which function we are using (except from its output):"
   ]
  },
  {
   "cell_type": "code",
   "execution_count": 11,
   "id": "9c339343",
   "metadata": {},
   "outputs": [],
   "source": [
    "from sympy import *"
   ]
  },
  {
   "cell_type": "code",
   "execution_count": 12,
   "id": "931dcc8f",
   "metadata": {},
   "outputs": [],
   "source": [
    "from math import *"
   ]
  },
  {
   "cell_type": "code",
   "execution_count": 13,
   "id": "a2c5b8bc",
   "metadata": {},
   "outputs": [
    {
     "data": {
      "text/plain": [
       "0.7071067811865476"
      ]
     },
     "execution_count": 13,
     "metadata": {},
     "output_type": "execute_result"
    }
   ],
   "source": [
    "cos(pi / 4)"
   ]
  },
  {
   "cell_type": "markdown",
   "id": "e9d37d33",
   "metadata": {},
   "source": [
    "In that case the second import has overwritten the first.\n",
    "\n",
    "```{warning}\n",
    "**It is never recommended to use** `import *` this makes your code less clear\n",
    "and you are more likely to make mistakes when your code is not clear.\n",
    "```\n",
    "\n",
    "## How to extract a solution from the output of `sympy.solveset`?\n",
    "\n",
    "In some cases you might want to directly access the items in a solution set. For\n",
    "example if consider the equation $(x - 1)(x -\n",
    "2)$."
   ]
  },
  {
   "cell_type": "code",
   "execution_count": 14,
   "id": "016823c3",
   "metadata": {},
   "outputs": [
    {
     "data": {
      "text/latex": [
       "$\\displaystyle \\left\\{1, 2\\right\\}$"
      ],
      "text/plain": [
       "{1, 2}"
      ]
     },
     "execution_count": 14,
     "metadata": {},
     "output_type": "execute_result"
    }
   ],
   "source": [
    "import sympy as sym\n",
    "\n",
    "x = sym.Symbol(\"x\")\n",
    "expression = (x - 1) * (x - 2)\n",
    "equation = sym.Eq(expression, 0)\n",
    "set_of_solutions = sym.solveset(equation, x)\n",
    "set_of_solutions"
   ]
  },
  {
   "cell_type": "markdown",
   "id": "b8f375bd",
   "metadata": {},
   "source": [
    "The `set_of_solutions` has value the **set** of solutions of the equation. If we\n",
    "wanted to access them directly we can use the following:"
   ]
  },
  {
   "cell_type": "code",
   "execution_count": 15,
   "id": "89968e35",
   "metadata": {},
   "outputs": [
    {
     "data": {
      "text/plain": [
       "(1, 2)"
      ]
     },
     "execution_count": 15,
     "metadata": {},
     "output_type": "execute_result"
    }
   ],
   "source": [
    "tuple_of_solutions = set_of_solutions.args\n",
    "tuple_of_solutions"
   ]
  },
  {
   "cell_type": "markdown",
   "id": "85996468",
   "metadata": {},
   "source": [
    "This creates a **finite** ordered tuple of the solutions. We can use concepts\n",
    "that are covered in {ref}`how_to_access_particular_elements_in_a_tuple` to\n",
    "access them directly. Because there are two roots we can use the following to\n",
    "create two new variables:"
   ]
  },
  {
   "cell_type": "code",
   "execution_count": 16,
   "id": "884f2290",
   "metadata": {},
   "outputs": [],
   "source": [
    "x1, x2 = tuple_of_solutions"
   ]
  },
  {
   "cell_type": "markdown",
   "id": "0b166124",
   "metadata": {},
   "source": [
    "Let us substitute these value directly in to the expression:"
   ]
  },
  {
   "cell_type": "code",
   "execution_count": 17,
   "id": "cfa0a47a",
   "metadata": {},
   "outputs": [
    {
     "data": {
      "text/latex": [
       "$\\displaystyle 0$"
      ],
      "text/plain": [
       "0"
      ]
     },
     "execution_count": 17,
     "metadata": {},
     "output_type": "execute_result"
    }
   ],
   "source": [
    "expression.subs({x: x1})"
   ]
  },
  {
   "cell_type": "code",
   "execution_count": 18,
   "id": "d13577dd",
   "metadata": {},
   "outputs": [
    {
     "data": {
      "text/latex": [
       "$\\displaystyle 0$"
      ],
      "text/plain": [
       "0"
      ]
     },
     "execution_count": 18,
     "metadata": {},
     "output_type": "execute_result"
    }
   ],
   "source": [
    "expression.subs({x: x2})"
   ]
  },
  {
   "cell_type": "markdown",
   "id": "43966558",
   "metadata": {},
   "source": [
    "Note that this is not always possible to get a finite ordered tuple of the\n",
    "solutions, for example there are some equations\n",
    "where the set of solutions is an infinite set:"
   ]
  },
  {
   "cell_type": "code",
   "execution_count": 19,
   "id": "9451e40c",
   "metadata": {},
   "outputs": [
    {
     "data": {
      "text/latex": [
       "$\\displaystyle \\left\\{10 n \\pi + \\frac{5 \\pi}{2}\\; \\middle|\\; n \\in \\mathbb{Z}\\right\\} \\cup \\left\\{10 n \\pi + \\frac{15 \\pi}{2}\\; \\middle|\\; n \\in \\mathbb{Z}\\right\\}$"
      ],
      "text/plain": [
       "Union(ImageSet(Lambda(_n, 10*_n*pi + 5*pi/2), Integers), ImageSet(Lambda(_n, 10*_n*pi + 15*pi/2), Integers))"
      ]
     },
     "execution_count": 19,
     "metadata": {},
     "output_type": "execute_result"
    }
   ],
   "source": [
    "equation = sym.Eq(sym.cos(x / 5), 0)\n",
    "set_of_solutions = sym.solveset(equation, x)\n",
    "set_of_solutions"
   ]
  },
  {
   "cell_type": "markdown",
   "id": "4957ffcb",
   "metadata": {},
   "source": [
    "In this case, `set_of_solutions.args` does not necessarily make sense to use.\n",
    "\n",
    "## Why do I sometimes see `import sympy as sym`?\n",
    "\n",
    "In some resources you will see that instead of `import sympy` people use:\n",
    "`import sympy as sym`. This is called **aliasing**. This is common and takes\n",
    "advantage of the fact that Python can import a library and give it an\n",
    "alias/nickname at the same time:\n",
    "\n",
    "```\n",
    "import <library> as <nickname>\n",
    "```\n",
    "\n",
    "So with sympy we can use:"
   ]
  },
  {
   "cell_type": "code",
   "execution_count": 20,
   "id": "793d7835",
   "metadata": {},
   "outputs": [
    {
     "data": {
      "text/latex": [
       "$\\displaystyle \\frac{\\sqrt{2}}{2}$"
      ],
      "text/plain": [
       "sqrt(2)/2"
      ]
     },
     "execution_count": 20,
     "metadata": {},
     "output_type": "execute_result"
    }
   ],
   "source": [
    "import sympy as sym\n",
    "\n",
    "sym.cos(sym.pi / 4)"
   ]
  },
  {
   "cell_type": "markdown",
   "id": "3e60fa52",
   "metadata": {},
   "source": [
    "There is nothing stopping you using whatever alias you want:"
   ]
  },
  {
   "cell_type": "code",
   "execution_count": 21,
   "id": "33784d68",
   "metadata": {},
   "outputs": [
    {
     "data": {
      "text/latex": [
       "$\\displaystyle \\frac{\\sqrt{2}}{2}$"
      ],
      "text/plain": [
       "sqrt(2)/2"
      ]
     },
     "execution_count": 21,
     "metadata": {},
     "output_type": "execute_result"
    }
   ],
   "source": [
    "import sympy as a_poor_name_choice\n",
    "\n",
    "a_poor_name_choice.cos(a_poor_name_choice.pi / 4)"
   ]
  },
  {
   "cell_type": "markdown",
   "id": "6373942d",
   "metadata": {},
   "source": [
    "```{attention}\n",
    "**It is important** when aliasing to use accepted conventions for these\n",
    "nicknames. For `sympy`, an accepted convention is indeed `import sympy as sym`.\n",
    "```\n",
    "\n",
    "## Are there other resources for learning sympy?\n",
    "\n",
    "There are a large number of resources for learning `sympy`. Not all concentrate\n",
    "on the algebra that we have considered in this chapter, and we will be covering\n",
    "further `sympy` functionality in the next chapters.\n",
    "\n",
    "Here are some resources:\n",
    "\n",
    "- The main `sympy` documentation: <https://docs.sympy.org/latest/index.html>\n",
    "- The scientific python lecture notes chapter on `sympy`:\n",
    "  <https://scipy-lectures.org/packages/sympy.html>\n",
    "- A short tutorial:\n",
    "  <https://github.com/drvinceknight/Python-Mathematics-Handbook/>"
   ]
  }
 ],
 "metadata": {
  "jupytext": {
   "formats": "ipynb,md:myst",
   "text_representation": {
    "extension": ".md",
    "format_name": "myst",
    "format_version": 0.12,
    "jupytext_version": "1.6.0"
   }
  },
  "kernelspec": {
   "display_name": "Python 3",
   "language": "python",
   "name": "python3"
  },
  "language_info": {
   "codemirror_mode": {
    "name": "ipython",
    "version": 3
   },
   "file_extension": ".py",
   "mimetype": "text/x-python",
   "name": "python",
   "nbconvert_exporter": "python",
   "pygments_lexer": "ipython3",
   "version": "3.10.13"
  },
  "source_map": [
   13,
   49,
   53,
   61,
   63,
   71,
   76,
   82,
   86,
   103,
   107,
   111,
   115,
   117,
   121,
   125,
   127,
   132,
   136,
   140,
   142,
   157,
   165,
   170,
   173,
   180,
   182,
   186,
   190,
   192,
   198,
   202,
   219,
   223,
   227,
   231
  ]
 },
 "nbformat": 4,
 "nbformat_minor": 5
}