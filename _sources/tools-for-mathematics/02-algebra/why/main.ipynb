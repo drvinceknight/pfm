{
 "cells": [
  {
   "cell_type": "markdown",
   "id": "c7373ccb",
   "metadata": {},
   "source": [
    "# Further information\n",
    "\n",
    "## Why is some code in separate libraries?\n",
    "\n",
    "When you run the `import sympy` command you are telling Python that you\n",
    "want to use a specific set of tools. You will see other examples of this\n",
    "throughout this book. One of the advantages of having code in libraries\n",
    "is that it is more efficient for Python to only use what is needed.\n",
    "There are two types of Python libraries:\n",
    "\n",
    "- Those that are part of the so called \"standard library\": these are\n",
    "  part of Python itself.\n",
    "\n",
    "- Those that are completely separate: `sympy` is one such example of\n",
    "  this.\n",
    "\n",
    "This separation allows for the development of tools to be independent of\n",
    "each other. The developers of `sympy` do not need to coordinate with the\n",
    "developers of Python to make new releases of the software.\n",
    "\n",
    "## Why do we need to use sympy?\n",
    "\n",
    "`sympy` is the library for symbolic mathematics. There are other python\n",
    "libraries for carrying out mathematics in Python. For example, compute\n",
    "the value of the following expression:\n",
    "\n",
    "$$\n",
    "    (\\sqrt{2} + 2) ^ 2 - 2\n",
    "$$\n",
    "\n",
    "You could compute this using the `math` library (for the square root tool):"
   ]
  },
  {
   "cell_type": "code",
   "execution_count": 1,
   "id": "d0b2e943",
   "metadata": {},
   "outputs": [
    {
     "data": {
      "text/plain": [
       "9.65685424949238"
      ]
     },
     "execution_count": 1,
     "metadata": {},
     "output_type": "execute_result"
    }
   ],
   "source": [
    "import math\n",
    "\n",
    "(math.sqrt(2) + 2) ** 2 - 2"
   ]
  },
  {
   "cell_type": "markdown",
   "id": "8ef06411",
   "metadata": {},
   "source": [
    "You could also make use of the fact that you do not need a square root\n",
    "tool at all:\n",
    "\n",
    "$$\n",
    "    (\\sqrt{2} + 2) ^ 2 - 2 = (2 ^ {1 / 2} + 2) ^ 2 - 2\n",
    "$$"
   ]
  },
  {
   "cell_type": "code",
   "execution_count": 2,
   "id": "0f718122",
   "metadata": {},
   "outputs": [
    {
     "data": {
      "text/plain": [
       "9.65685424949238"
      ]
     },
     "execution_count": 2,
     "metadata": {},
     "output_type": "execute_result"
    }
   ],
   "source": [
    "(2 ** (1 / 2) + 2) ** 2 - 2"
   ]
  },
  {
   "cell_type": "markdown",
   "id": "cfaa0c6b",
   "metadata": {},
   "source": [
    "You see that in both those instances, you have a numeric value for the\n",
    "expression that seems to be precise up to 14 decimal places.\n",
    "\n",
    "However, that is **not** the exact value of that expression. The exact\n",
    "value of the expression needs to be computed symbolically:"
   ]
  },
  {
   "cell_type": "code",
   "execution_count": 3,
   "id": "16b77ee1",
   "metadata": {},
   "outputs": [
    {
     "data": {
      "text/latex": [
       "$\\displaystyle 4 + 4 \\sqrt{2}$"
      ],
      "text/plain": [
       "4 + 4*sqrt(2)"
      ]
     },
     "execution_count": 3,
     "metadata": {},
     "output_type": "execute_result"
    }
   ],
   "source": [
    "import sympy\n",
    "\n",
    "expression = (sympy.sqrt(2) + 2) ** 2 - 2\n",
    "sympy.expand(expression)"
   ]
  },
  {
   "cell_type": "markdown",
   "id": "87a0eb9c",
   "metadata": {},
   "source": [
    "This is one example of why `sympy` is an effective tool for\n",
    "mathematicians. The other one seen in this chapter is being able to\n",
    "compute expressions with no numerical value at all:"
   ]
  },
  {
   "cell_type": "code",
   "execution_count": 4,
   "id": "1c61e5b2",
   "metadata": {},
   "outputs": [
    {
     "data": {
      "text/latex": [
       "$\\displaystyle \\left(a - b\\right) \\left(a + b\\right)$"
      ],
      "text/plain": [
       "(a - b)*(a + b)"
      ]
     },
     "execution_count": 4,
     "metadata": {},
     "output_type": "execute_result"
    }
   ],
   "source": [
    "a = sympy.Symbol(\"a\")\n",
    "b = sympy.Symbol(\"b\")\n",
    "sympy.factor(a ** 2 - b ** 2)"
   ]
  },
  {
   "cell_type": "markdown",
   "id": "de0511e7",
   "metadata": {},
   "source": [
    "## Why do I sometimes see `from sympy import *`?\n",
    "\n",
    "There a number of resources available from which you can learn to use\n",
    "`sympy`. In some instances you will not see `import sympy` but instead\n",
    "you will see `from sympy import *`.\n",
    "\n",
    "**This it not a good way to do it.**\n",
    "\n",
    "What this does is taking all the tools inside of sympy and putting it at\n",
    "the same level of all the other tools available to you. The problem with\n",
    "doing this is that it no longer makes your code clear. An example of\n",
    "this are trigonometric functions. These exist in a number of libraries:"
   ]
  },
  {
   "cell_type": "code",
   "execution_count": 5,
   "id": "9263312b",
   "metadata": {},
   "outputs": [],
   "source": [
    "import math"
   ]
  },
  {
   "cell_type": "code",
   "execution_count": 6,
   "id": "ee3e4af9",
   "metadata": {},
   "outputs": [],
   "source": [
    "import sympy"
   ]
  },
  {
   "cell_type": "code",
   "execution_count": 7,
   "id": "d3d43269",
   "metadata": {},
   "outputs": [
    {
     "data": {
      "text/latex": [
       "$\\displaystyle 1$"
      ],
      "text/plain": [
       "1"
      ]
     },
     "execution_count": 7,
     "metadata": {},
     "output_type": "execute_result"
    }
   ],
   "source": [
    "sympy.cos(0)"
   ]
  },
  {
   "cell_type": "code",
   "execution_count": 8,
   "id": "622f045b",
   "metadata": {},
   "outputs": [
    {
     "data": {
      "text/plain": [
       "1.0"
      ]
     },
     "execution_count": 8,
     "metadata": {},
     "output_type": "execute_result"
    }
   ],
   "source": [
    "math.cos(0)"
   ]
  },
  {
   "cell_type": "markdown",
   "id": "d1d0b43c",
   "metadata": {},
   "source": [
    "One of these tools allows you to carry out exact computations:"
   ]
  },
  {
   "cell_type": "code",
   "execution_count": 9,
   "id": "dfe2b440",
   "metadata": {},
   "outputs": [
    {
     "data": {
      "text/latex": [
       "$\\displaystyle \\frac{\\sqrt{2}}{2}$"
      ],
      "text/plain": [
       "sqrt(2)/2"
      ]
     },
     "execution_count": 9,
     "metadata": {},
     "output_type": "execute_result"
    }
   ],
   "source": [
    "sympy.cos(sympy.pi / 4)"
   ]
  },
  {
   "cell_type": "code",
   "execution_count": 10,
   "id": "35acb973",
   "metadata": {},
   "outputs": [
    {
     "data": {
      "text/plain": [
       "0.7071067811865476"
      ]
     },
     "execution_count": 10,
     "metadata": {},
     "output_type": "execute_result"
    }
   ],
   "source": [
    "math.cos(math.pi / 4)"
   ]
  },
  {
   "cell_type": "markdown",
   "id": "c40d1781",
   "metadata": {},
   "source": [
    "If you chose to import all the functionality using `from sympy import *`\n",
    "then you cannot tell immediately which function you are using (except\n",
    "from its output):"
   ]
  },
  {
   "cell_type": "code",
   "execution_count": 11,
   "id": "557ee70d",
   "metadata": {},
   "outputs": [],
   "source": [
    "from sympy import *"
   ]
  },
  {
   "cell_type": "code",
   "execution_count": 12,
   "id": "90937d69",
   "metadata": {},
   "outputs": [],
   "source": [
    "from math import *"
   ]
  },
  {
   "cell_type": "code",
   "execution_count": 13,
   "id": "2f1c27f4",
   "metadata": {},
   "outputs": [
    {
     "data": {
      "text/plain": [
       "0.7071067811865476"
      ]
     },
     "execution_count": 13,
     "metadata": {},
     "output_type": "execute_result"
    }
   ],
   "source": [
    "cos(pi / 4)"
   ]
  },
  {
   "cell_type": "markdown",
   "id": "ad51974b",
   "metadata": {},
   "source": [
    "In that case the second import has overwritten the first.\n",
    "\n",
    "```{warning}\n",
    "**It is never recommended to use** `import *` this makes your code less\n",
    "clear and you are more likely to make mistakes when your code is not\n",
    "clear.\n",
    "```\n",
    "\n",
    "## How to extract a solution from the output of `sympy.solveset`?\n",
    "\n",
    "In some cases you might want to directly access the items in a solution\n",
    "set. For example if consider the equation $(x - 1)(x -\n",
    "2)$."
   ]
  },
  {
   "cell_type": "code",
   "execution_count": 14,
   "id": "7f3c3437",
   "metadata": {},
   "outputs": [
    {
     "data": {
      "text/latex": [
       "$\\displaystyle \\left\\{1, 2\\right\\}$"
      ],
      "text/plain": [
       "{1, 2}"
      ]
     },
     "execution_count": 14,
     "metadata": {},
     "output_type": "execute_result"
    }
   ],
   "source": [
    "import sympy as sym\n",
    "\n",
    "x = sym.Symbol(\"x\")\n",
    "expression = (x - 1) * (x - 2)\n",
    "equation = sym.Eq(expression, 0)\n",
    "set_of_solutions = sym.solveset(equation, x)\n",
    "set_of_solutions"
   ]
  },
  {
   "cell_type": "markdown",
   "id": "e81198fa",
   "metadata": {},
   "source": [
    "The `set_of_solutions` has value the **set** of solutions of the\n",
    "equation. If you wanted to access them directly you can use the\n",
    "following:"
   ]
  },
  {
   "cell_type": "code",
   "execution_count": 15,
   "id": "559a848f",
   "metadata": {},
   "outputs": [
    {
     "data": {
      "text/plain": [
       "(1, 2)"
      ]
     },
     "execution_count": 15,
     "metadata": {},
     "output_type": "execute_result"
    }
   ],
   "source": [
    "tuple_of_solutions = set_of_solutions.args\n",
    "tuple_of_solutions"
   ]
  },
  {
   "cell_type": "markdown",
   "id": "37309fb6",
   "metadata": {},
   "source": [
    "This creates a **finite** ordered tuple of the solutions. We can use concepts\n",
    "that are covered in {ref}`how_to_access_particular_elements_in_a_tuple` to\n",
    "access them directly. Because there are two roots you can use the following to\n",
    "create two new variables:"
   ]
  },
  {
   "cell_type": "code",
   "execution_count": 16,
   "id": "80dc7a61",
   "metadata": {},
   "outputs": [],
   "source": [
    "x1, x2 = tuple_of_solutions"
   ]
  },
  {
   "cell_type": "markdown",
   "id": "a86f1715",
   "metadata": {},
   "source": [
    "Substitute these value directly in to the expression:"
   ]
  },
  {
   "cell_type": "code",
   "execution_count": 17,
   "id": "65d4cf41",
   "metadata": {},
   "outputs": [
    {
     "data": {
      "text/latex": [
       "$\\displaystyle 0$"
      ],
      "text/plain": [
       "0"
      ]
     },
     "execution_count": 17,
     "metadata": {},
     "output_type": "execute_result"
    }
   ],
   "source": [
    "expression.subs({x: x1})"
   ]
  },
  {
   "cell_type": "code",
   "execution_count": 18,
   "id": "bb184388",
   "metadata": {},
   "outputs": [
    {
     "data": {
      "text/latex": [
       "$\\displaystyle 0$"
      ],
      "text/plain": [
       "0"
      ]
     },
     "execution_count": 18,
     "metadata": {},
     "output_type": "execute_result"
    }
   ],
   "source": [
    "expression.subs({x: x2})"
   ]
  },
  {
   "cell_type": "markdown",
   "id": "a955543d",
   "metadata": {},
   "source": [
    "Note that this is not always possible to get a finite ordered tuple of\n",
    "the solutions, for example there are some equations where the set of\n",
    "solutions is an infinite set:"
   ]
  },
  {
   "cell_type": "code",
   "execution_count": 19,
   "id": "24ad532b",
   "metadata": {},
   "outputs": [
    {
     "data": {
      "text/latex": [
       "$\\displaystyle \\left\\{10 n \\pi + \\frac{5 \\pi}{2}\\; \\middle|\\; n \\in \\mathbb{Z}\\right\\} \\cup \\left\\{10 n \\pi + \\frac{15 \\pi}{2}\\; \\middle|\\; n \\in \\mathbb{Z}\\right\\}$"
      ],
      "text/plain": [
       "Union(ImageSet(Lambda(_n, 10*_n*pi + 5*pi/2), Integers), ImageSet(Lambda(_n, 10*_n*pi + 15*pi/2), Integers))"
      ]
     },
     "execution_count": 19,
     "metadata": {},
     "output_type": "execute_result"
    }
   ],
   "source": [
    "equation = sym.Eq(sym.cos(x / 5), 0)\n",
    "set_of_solutions = sym.solveset(equation, x)\n",
    "set_of_solutions"
   ]
  },
  {
   "cell_type": "markdown",
   "id": "ae7b5066",
   "metadata": {},
   "source": [
    "## Why do I sometimes see `import sympy as sym`?\n",
    "\n",
    "In some resources you will see that instead of `import sympy` people\n",
    "use: `import sympy as sym`. This is called **aliasing**. This is common\n",
    "and takes advantage of the fact that Python can import a library and\n",
    "give it an alias/nickname at the same time:\n",
    "\n",
    "```\n",
    "import <library> as <nickname>\n",
    "```\n",
    "\n",
    "So with sympy you can use:"
   ]
  },
  {
   "cell_type": "code",
   "execution_count": 20,
   "id": "30ece9c8",
   "metadata": {},
   "outputs": [
    {
     "data": {
      "text/latex": [
       "$\\displaystyle \\frac{\\sqrt{2}}{2}$"
      ],
      "text/plain": [
       "sqrt(2)/2"
      ]
     },
     "execution_count": 20,
     "metadata": {},
     "output_type": "execute_result"
    }
   ],
   "source": [
    "import sympy as sym\n",
    "\n",
    "sym.cos(sym.pi / 4)"
   ]
  },
  {
   "cell_type": "markdown",
   "id": "48790bff",
   "metadata": {},
   "source": [
    "There is nothing stopping you using whatever alias you want:"
   ]
  },
  {
   "cell_type": "code",
   "execution_count": 21,
   "id": "c385e67a",
   "metadata": {},
   "outputs": [
    {
     "data": {
      "text/latex": [
       "$\\displaystyle \\frac{\\sqrt{2}}{2}$"
      ],
      "text/plain": [
       "sqrt(2)/2"
      ]
     },
     "execution_count": 21,
     "metadata": {},
     "output_type": "execute_result"
    }
   ],
   "source": [
    "import sympy as a_poor_name_choice\n",
    "\n",
    "a_poor_name_choice.cos(a_poor_name_choice.pi / 4)"
   ]
  },
  {
   "cell_type": "markdown",
   "id": "0bf1ad53",
   "metadata": {},
   "source": [
    "```{attention}\n",
    "**It is important** when aliasing to use accepted conventions for these\n",
    "nicknames. For `sympy`, an accepted convention is indeed\n",
    "`import sympy as sym`.\n",
    "```"
   ]
  }
 ],
 "metadata": {
  "jupytext": {
   "formats": "ipynb,md:myst",
   "text_representation": {
    "extension": ".md",
    "format_name": "myst",
    "format_version": 0.12,
    "jupytext_version": "1.6.0"
   }
  },
  "kernelspec": {
   "display_name": "Python 3",
   "language": "python",
   "name": "python3"
  },
  "language_info": {
   "codemirror_mode": {
    "name": "ipython",
    "version": 3
   },
   "file_extension": ".py",
   "mimetype": "text/x-python",
   "name": "python",
   "nbconvert_exporter": "python",
   "pygments_lexer": "ipython3",
   "version": "3.10.18"
  },
  "source_map": [
   13,
   47,
   51,
   60,
   62,
   70,
   75,
   81,
   85,
   100,
   104,
   108,
   112,
   114,
   118,
   122,
   124,
   130,
   134,
   138,
   140,
   156,
   164,
   170,
   173,
   180,
   182,
   186,
   190,
   192,
   198,
   202,
   217,
   221,
   225,
   229
  ]
 },
 "nbformat": 4,
 "nbformat_minor": 5
}