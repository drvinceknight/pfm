{
 "cells": [
  {
   "cell_type": "markdown",
   "id": "4b465803",
   "metadata": {},
   "source": [
    "# Tutorial\n",
    "\n",
    "We will solve the following problem using a computer to assist with the technical aspects:\n",
    "\n",
    "```{admonition} Problem\n",
    "\n",
    "The matrix $A$ is given by $A=\\begin{pmatrix}a & 1 & 1\\\\ 1 & a & 1\\\\ 1 & 1 & 2\\end{pmatrix}$.\n",
    "\n",
    "1. Find the determinant of $A$\n",
    "2. Hence find the values of $a$ for which $A$ is singular.\n",
    "3. For the following values of $a$, when possible obtain $A ^ {- 1}$ and confirm\n",
    "   the result by computing $AA^{-1}$:\n",
    "    1. $a = 0$;\n",
    "    2. $a = 1$;\n",
    "    3. $a = 2$;\n",
    "    4. $a = 3$.\n",
    "\n",
    "```\n",
    "\n",
    "`sympy` is once again the library we will use for this.\n",
    "\n",
    "We will start by our matrix $A$:"
   ]
  },
  {
   "cell_type": "code",
   "execution_count": 1,
   "id": "2d9d3d09",
   "metadata": {},
   "outputs": [],
   "source": [
    "import sympy as sym\n",
    "\n",
    "a = sym.Symbol(\"a\")\n",
    "A = sym.Matrix([[a, 1, 1], [1, a, 1], [1, 1, 2]])"
   ]
  },
  {
   "cell_type": "markdown",
   "id": "fbcfb11b",
   "metadata": {},
   "source": [
    "We can now create a variable `determinant` and assign it the value of the\n",
    "determinant of $A$:"
   ]
  },
  {
   "cell_type": "code",
   "execution_count": 2,
   "id": "a43dd52c",
   "metadata": {},
   "outputs": [
    {
     "data": {
      "text/latex": [
       "$\\displaystyle 2 a^{2} - 2 a$"
      ],
      "text/plain": [
       "2*a**2 - 2*a"
      ]
     },
     "execution_count": 2,
     "metadata": {},
     "output_type": "execute_result"
    }
   ],
   "source": [
    "determinant = A.det()\n",
    "determinant"
   ]
  },
  {
   "cell_type": "markdown",
   "id": "e870f886",
   "metadata": {},
   "source": [
    "A matrix is singular if it has determinant 0. We can find the values of $a$ for\n",
    "which this occurs:"
   ]
  },
  {
   "cell_type": "code",
   "execution_count": 3,
   "id": "cff0d299",
   "metadata": {},
   "outputs": [
    {
     "data": {
      "text/latex": [
       "$\\displaystyle \\left\\{0, 1\\right\\}$"
      ],
      "text/plain": [
       "{0, 1}"
      ]
     },
     "execution_count": 3,
     "metadata": {},
     "output_type": "execute_result"
    }
   ],
   "source": [
    "sym.solveset(determinant, a)"
   ]
  },
  {
   "cell_type": "markdown",
   "id": "21f7bab1",
   "metadata": {},
   "source": [
    "Thus it is not possible to find the inverse of $A$ for $a\\in\\{0, 1\\}$.\n",
    "\n",
    "However for $a = 2$:"
   ]
  },
  {
   "cell_type": "code",
   "execution_count": 4,
   "id": "88e4b665",
   "metadata": {},
   "outputs": [
    {
     "data": {
      "text/latex": [
       "$\\displaystyle \\left[\\begin{matrix}2 & 1 & 1\\\\1 & 2 & 1\\\\1 & 1 & 2\\end{matrix}\\right]$"
      ],
      "text/plain": [
       "Matrix([\n",
       "[2, 1, 1],\n",
       "[1, 2, 1],\n",
       "[1, 1, 2]])"
      ]
     },
     "execution_count": 4,
     "metadata": {},
     "output_type": "execute_result"
    }
   ],
   "source": [
    "A.subs({a: 2})"
   ]
  },
  {
   "cell_type": "code",
   "execution_count": 5,
   "id": "df2c3e77",
   "metadata": {},
   "outputs": [
    {
     "data": {
      "text/latex": [
       "$\\displaystyle \\left[\\begin{matrix}\\frac{3}{4} & - \\frac{1}{4} & - \\frac{1}{4}\\\\- \\frac{1}{4} & \\frac{3}{4} & - \\frac{1}{4}\\\\- \\frac{1}{4} & - \\frac{1}{4} & \\frac{3}{4}\\end{matrix}\\right]$"
      ],
      "text/plain": [
       "Matrix([\n",
       "[ 3/4, -1/4, -1/4],\n",
       "[-1/4,  3/4, -1/4],\n",
       "[-1/4, -1/4,  3/4]])"
      ]
     },
     "execution_count": 5,
     "metadata": {},
     "output_type": "execute_result"
    }
   ],
   "source": [
    "A.subs({a: 2}).inv()"
   ]
  },
  {
   "cell_type": "markdown",
   "id": "85ae8ce1",
   "metadata": {},
   "source": [
    "To carry out matrix multiplication we use the `@` symbol:"
   ]
  },
  {
   "cell_type": "code",
   "execution_count": 6,
   "id": "926df034",
   "metadata": {},
   "outputs": [
    {
     "data": {
      "text/latex": [
       "$\\displaystyle \\left[\\begin{matrix}1 & 0 & 0\\\\0 & 1 & 0\\\\0 & 0 & 1\\end{matrix}\\right]$"
      ],
      "text/plain": [
       "Matrix([\n",
       "[1, 0, 0],\n",
       "[0, 1, 0],\n",
       "[0, 0, 1]])"
      ]
     },
     "execution_count": 6,
     "metadata": {},
     "output_type": "execute_result"
    }
   ],
   "source": [
    "A.subs({a: 2}).inv() @ A.subs({a: 2})"
   ]
  },
  {
   "cell_type": "markdown",
   "id": "6ec47363",
   "metadata": {},
   "source": [
    "and for $a = 3$:"
   ]
  },
  {
   "cell_type": "code",
   "execution_count": 7,
   "id": "9ffd37ba",
   "metadata": {},
   "outputs": [
    {
     "data": {
      "text/latex": [
       "$\\displaystyle \\left[\\begin{matrix}\\frac{5}{12} & - \\frac{1}{12} & - \\frac{1}{6}\\\\- \\frac{1}{12} & \\frac{5}{12} & - \\frac{1}{6}\\\\- \\frac{1}{6} & - \\frac{1}{6} & \\frac{2}{3}\\end{matrix}\\right]$"
      ],
      "text/plain": [
       "Matrix([\n",
       "[ 5/12, -1/12, -1/6],\n",
       "[-1/12,  5/12, -1/6],\n",
       "[ -1/6,  -1/6,  2/3]])"
      ]
     },
     "execution_count": 7,
     "metadata": {},
     "output_type": "execute_result"
    }
   ],
   "source": [
    "A.subs({a: 3}).inv()"
   ]
  },
  {
   "cell_type": "code",
   "execution_count": 8,
   "id": "2918852f",
   "metadata": {},
   "outputs": [
    {
     "data": {
      "text/latex": [
       "$\\displaystyle \\left[\\begin{matrix}1 & 0 & 0\\\\0 & 1 & 0\\\\0 & 0 & 1\\end{matrix}\\right]$"
      ],
      "text/plain": [
       "Matrix([\n",
       "[1, 0, 0],\n",
       "[0, 1, 0],\n",
       "[0, 0, 1]])"
      ]
     },
     "execution_count": 8,
     "metadata": {},
     "output_type": "execute_result"
    }
   ],
   "source": [
    "A.subs({a: 3}).inv() @ A.subs({a: 3})"
   ]
  },
  {
   "cell_type": "markdown",
   "id": "372a2ad6",
   "metadata": {},
   "source": [
    "```{important}\n",
    "In this tutorial we have\n",
    "\n",
    "- Created a matrix.\n",
    "- Calculated the determinant of the matrix.\n",
    "- Substituted values in the matrix.\n",
    "- Inverted the matrix.\n",
    "```"
   ]
  }
 ],
 "metadata": {
  "jupytext": {
   "formats": "ipynb,md:myst",
   "text_representation": {
    "extension": ".md",
    "format_name": "myst",
    "format_version": 0.12,
    "jupytext_version": "1.6.0"
   }
  },
  "kernelspec": {
   "display_name": "Python 3",
   "language": "python",
   "name": "python3"
  },
  "language_info": {
   "codemirror_mode": {
    "name": "ipython",
    "version": 3
   },
   "file_extension": ".py",
   "mimetype": "text/x-python",
   "name": "python",
   "nbconvert_exporter": "python",
   "pygments_lexer": "ipython3",
   "version": "3.10.12"
  },
  "source_map": [
   13,
   38,
   43,
   48,
   51,
   56,
   58,
   64,
   68,
   70,
   74,
   76,
   80,
   84,
   86
  ]
 },
 "nbformat": 4,
 "nbformat_minor": 5
}