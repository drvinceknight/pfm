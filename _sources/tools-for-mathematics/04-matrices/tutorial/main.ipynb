{
 "cells": [
  {
   "cell_type": "markdown",
   "id": "cbcb2a4e",
   "metadata": {},
   "source": [
    "# Tutorial\n",
    "\n",
    "You will solve the following problem using a computer to assist with the\n",
    "technical aspects:\n",
    "\n",
    "```{admonition} Problem\n",
    "\n",
    "The matrix $A$ is given by\n",
    "$A=\\begin{pmatrix}a & 1 & 1\\\\ 1 & a & 1\\\\ 1 & 1 & 2\\end{pmatrix}$.\n",
    "\n",
    "1.  Find the of $A$\n",
    "\n",
    "2.  Hence find the values of $a$ for which $A$ is singular.\n",
    "\n",
    "3.  For the following values of $a$, when possible obtain $A ^ {- 1}$\n",
    "    and confirm the result by computing $AA^{-1}$:\n",
    "\n",
    "    1.  $a = 0$;\n",
    "    2.  $a = 1$;\n",
    "    3.  $a = 2$;\n",
    "    4.  $a = 3$.\n",
    "\n",
    "```\n",
    "\n",
    "`sympy` is once again the library you will use for this. You will start\n",
    "by defining the matrix $A$:"
   ]
  },
  {
   "cell_type": "code",
   "execution_count": 1,
   "id": "e989af33",
   "metadata": {},
   "outputs": [],
   "source": [
    "import sympy as sym\n",
    "\n",
    "a = sym.Symbol(\"a\")\n",
    "A = sym.Matrix([[a, 1, 1], [1, a, 1], [1, 1, 2]])"
   ]
  },
  {
   "cell_type": "markdown",
   "id": "3d2b34ae",
   "metadata": {},
   "source": [
    "You can now create a variable `determinant` and assign it the value of the\n",
    "determinant of $A$:"
   ]
  },
  {
   "cell_type": "code",
   "execution_count": 2,
   "id": "7f5c2bcf",
   "metadata": {},
   "outputs": [
    {
     "data": {
      "text/latex": [
       "$\\displaystyle 2 a^{2} - 2 a$"
      ],
      "text/plain": [
       "2*a**2 - 2*a"
      ]
     },
     "execution_count": 2,
     "metadata": {},
     "output_type": "execute_result"
    }
   ],
   "source": [
    "determinant = A.det()\n",
    "determinant"
   ]
  },
  {
   "cell_type": "markdown",
   "id": "9844d859",
   "metadata": {},
   "source": [
    "A matrix is singular if it has determinant 0. You can find the values of $a$ for\n",
    "which this occurs:"
   ]
  },
  {
   "cell_type": "code",
   "execution_count": 3,
   "id": "dbf99dd8",
   "metadata": {},
   "outputs": [
    {
     "data": {
      "text/latex": [
       "$\\displaystyle \\left\\{0, 1\\right\\}$"
      ],
      "text/plain": [
       "{0, 1}"
      ]
     },
     "execution_count": 3,
     "metadata": {},
     "output_type": "execute_result"
    }
   ],
   "source": [
    "sym.solveset(determinant, a)"
   ]
  },
  {
   "cell_type": "markdown",
   "id": "4a0f00f3",
   "metadata": {},
   "source": [
    "Thus, it is not possible to find the inverse of $A$ for $a\\in\\{0, 1\\}$.\n",
    "However for $a = 2$:"
   ]
  },
  {
   "cell_type": "code",
   "execution_count": 4,
   "id": "72ff0ee1",
   "metadata": {},
   "outputs": [
    {
     "data": {
      "text/latex": [
       "$\\displaystyle \\left[\\begin{matrix}2 & 1 & 1\\\\1 & 2 & 1\\\\1 & 1 & 2\\end{matrix}\\right]$"
      ],
      "text/plain": [
       "Matrix([\n",
       "[2, 1, 1],\n",
       "[1, 2, 1],\n",
       "[1, 1, 2]])"
      ]
     },
     "execution_count": 4,
     "metadata": {},
     "output_type": "execute_result"
    }
   ],
   "source": [
    "A.subs({a: 2})"
   ]
  },
  {
   "cell_type": "code",
   "execution_count": 5,
   "id": "77c7956a",
   "metadata": {},
   "outputs": [
    {
     "data": {
      "text/latex": [
       "$\\displaystyle \\left[\\begin{matrix}\\frac{3}{4} & - \\frac{1}{4} & - \\frac{1}{4}\\\\- \\frac{1}{4} & \\frac{3}{4} & - \\frac{1}{4}\\\\- \\frac{1}{4} & - \\frac{1}{4} & \\frac{3}{4}\\end{matrix}\\right]$"
      ],
      "text/plain": [
       "Matrix([\n",
       "[ 3/4, -1/4, -1/4],\n",
       "[-1/4,  3/4, -1/4],\n",
       "[-1/4, -1/4,  3/4]])"
      ]
     },
     "execution_count": 5,
     "metadata": {},
     "output_type": "execute_result"
    }
   ],
   "source": [
    "A.subs({a: 2}).inv()"
   ]
  },
  {
   "cell_type": "markdown",
   "id": "94162e32",
   "metadata": {},
   "source": [
    "To carry out matrix multiplication you use the `@` symbol:"
   ]
  },
  {
   "cell_type": "code",
   "execution_count": 6,
   "id": "a1230255",
   "metadata": {},
   "outputs": [
    {
     "data": {
      "text/latex": [
       "$\\displaystyle \\left[\\begin{matrix}1 & 0 & 0\\\\0 & 1 & 0\\\\0 & 0 & 1\\end{matrix}\\right]$"
      ],
      "text/plain": [
       "Matrix([\n",
       "[1, 0, 0],\n",
       "[0, 1, 0],\n",
       "[0, 0, 1]])"
      ]
     },
     "execution_count": 6,
     "metadata": {},
     "output_type": "execute_result"
    }
   ],
   "source": [
    "A.subs({a: 2}).inv() @ A.subs({a: 2})"
   ]
  },
  {
   "cell_type": "markdown",
   "id": "f3ba4904",
   "metadata": {},
   "source": [
    "and for $a = 3$:"
   ]
  },
  {
   "cell_type": "code",
   "execution_count": 7,
   "id": "03eea3f6",
   "metadata": {},
   "outputs": [
    {
     "data": {
      "text/latex": [
       "$\\displaystyle \\left[\\begin{matrix}\\frac{5}{12} & - \\frac{1}{12} & - \\frac{1}{6}\\\\- \\frac{1}{12} & \\frac{5}{12} & - \\frac{1}{6}\\\\- \\frac{1}{6} & - \\frac{1}{6} & \\frac{2}{3}\\end{matrix}\\right]$"
      ],
      "text/plain": [
       "Matrix([\n",
       "[ 5/12, -1/12, -1/6],\n",
       "[-1/12,  5/12, -1/6],\n",
       "[ -1/6,  -1/6,  2/3]])"
      ]
     },
     "execution_count": 7,
     "metadata": {},
     "output_type": "execute_result"
    }
   ],
   "source": [
    "A.subs({a: 3}).inv()"
   ]
  },
  {
   "cell_type": "code",
   "execution_count": 8,
   "id": "1a595a86",
   "metadata": {},
   "outputs": [
    {
     "data": {
      "text/latex": [
       "$\\displaystyle \\left[\\begin{matrix}1 & 0 & 0\\\\0 & 1 & 0\\\\0 & 0 & 1\\end{matrix}\\right]$"
      ],
      "text/plain": [
       "Matrix([\n",
       "[1, 0, 0],\n",
       "[0, 1, 0],\n",
       "[0, 0, 1]])"
      ]
     },
     "execution_count": 8,
     "metadata": {},
     "output_type": "execute_result"
    }
   ],
   "source": [
    "A.subs({a: 3}).inv() @ A.subs({a: 3})"
   ]
  },
  {
   "cell_type": "markdown",
   "id": "71b7cad5",
   "metadata": {},
   "source": [
    "```{important}\n",
    "In this tutorial you have\n",
    "\n",
    "-   Created a matrix;\n",
    "-   Calculated the of the matrix;\n",
    "-   Substituted values in the matrix;\n",
    "-   Inverted the matrix.\n",
    "```"
   ]
  }
 ],
 "metadata": {
  "jupytext": {
   "formats": "ipynb,md:myst",
   "text_representation": {
    "extension": ".md",
    "format_name": "myst",
    "format_version": 0.12,
    "jupytext_version": "1.6.0"
   }
  },
  "kernelspec": {
   "display_name": "Python 3",
   "language": "python",
   "name": "python3"
  },
  "language_info": {
   "codemirror_mode": {
    "name": "ipython",
    "version": 3
   },
   "file_extension": ".py",
   "mimetype": "text/x-python",
   "name": "python",
   "nbconvert_exporter": "python",
   "pygments_lexer": "ipython3",
   "version": "3.10.18"
  },
  "source_map": [
   13,
   42,
   47,
   52,
   55,
   60,
   62,
   67,
   71,
   73,
   77,
   79,
   83,
   87,
   89
  ]
 },
 "nbformat": 4,
 "nbformat_minor": 5
}