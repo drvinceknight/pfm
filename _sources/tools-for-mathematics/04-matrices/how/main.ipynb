{
 "cells": [
  {
   "cell_type": "markdown",
   "id": "0ae2752f",
   "metadata": {},
   "source": [
    "# How\n",
    "\n",
    "## Create a matrix\n",
    "\n",
    "We create a matrix using the `sympy.Matrix` tool. We combine this with\n",
    "square brackets `[]` which we nest so that every row is also inside square\n",
    "brackets.\n",
    "\n",
    "````{tip}\n",
    "```\n",
    "sympy.Matrix([values])\n",
    "```\n",
    "````\n",
    "\n",
    "For example, the following creates the matrix:\n",
    "\n",
    "$$\n",
    "    B = \\begin{pmatrix}\n",
    "            1 & 2 & 3 & 4\\\\\n",
    "            5 & 6 & 7 & 8\\\\\n",
    "            9 & 10 & 11 & 12\n",
    "        \\end{pmatrix}\n",
    "$$"
   ]
  },
  {
   "cell_type": "code",
   "execution_count": 1,
   "id": "8671ad04",
   "metadata": {},
   "outputs": [
    {
     "data": {
      "text/latex": [
       "$\\displaystyle \\left[\\begin{matrix}1 & 2 & 3 & 4\\\\5 & 6 & 7 & 8\\\\9 & 10 & 11 & 12\\end{matrix}\\right]$"
      ],
      "text/plain": [
       "Matrix([\n",
       "[1,  2,  3,  4],\n",
       "[5,  6,  7,  8],\n",
       "[9, 10, 11, 12]])"
      ]
     },
     "execution_count": 1,
     "metadata": {},
     "output_type": "execute_result"
    }
   ],
   "source": [
    "import sympy as sym\n",
    "\n",
    "B = sym.Matrix([[1, 2, 3, 4], [5, 6, 7, 8], [9, 10, 11, 12]])\n",
    "B"
   ]
  },
  {
   "cell_type": "markdown",
   "id": "8b2b86ef",
   "metadata": {},
   "source": [
    "```{attention}\n",
    "It is possible to write the code in a more readable way as long as an incomplete\n",
    "line ends with an open bracket:\n",
    "```\n",
    "\n",
    "```\n",
    "B = sym.Matrix(\n",
    "    [\n",
    "        [1, 2, 3, 4],\n",
    "        [5, 6, 7, 8],\n",
    "        [9, 10, 11, 12]\n",
    "    ]\n",
    ")\n",
    "```\n",
    "\n",
    "## Calculate the determinant of a matrix\n",
    "\n",
    "To calculate the determinant of a matrix, we use the `.det` tool. For example to\n",
    "calculate the determinant of:\n",
    "\n",
    "````{tip}\n",
    "```\n",
    "matrix = sympy.Matrix([values])\n",
    "matrix.det()\n",
    "```\n",
    "````\n",
    "\n",
    "For example, the determinant of the following matrix:\n",
    "\n",
    "$$\n",
    "    \\begin{pmatrix}\n",
    "    1 & 5\\\\\n",
    "    5 & 1\n",
    "    \\end{pmatrix}\n",
    "$$"
   ]
  },
  {
   "cell_type": "code",
   "execution_count": 2,
   "id": "2643e82d",
   "metadata": {},
   "outputs": [
    {
     "data": {
      "text/latex": [
       "$\\displaystyle -24$"
      ],
      "text/plain": [
       "-24"
      ]
     },
     "execution_count": 2,
     "metadata": {},
     "output_type": "execute_result"
    }
   ],
   "source": [
    "matrix = sym.Matrix([[1, 5], [5, 1]])\n",
    "matrix.det()"
   ]
  },
  {
   "cell_type": "markdown",
   "id": "1f618355",
   "metadata": {},
   "source": [
    "## Calculate the inverse of a matrix\n",
    "\n",
    "To calculate the inverse of a matrix, we use the `.inv` tool.\n",
    "\n",
    "````{tip}\n",
    "```\n",
    "matrix = sympy.Matrix([values])\n",
    "matrix.inv()\n",
    "```\n",
    "````\n",
    "\n",
    "For example to\n",
    "calculate the inverse of:\n",
    "\n",
    "$$\n",
    "    \\begin{pmatrix}\n",
    "        1 / 2 & 1\\\\\n",
    "        5     & 0\n",
    "    \\end{pmatrix}\n",
    "$$"
   ]
  },
  {
   "cell_type": "code",
   "execution_count": 3,
   "id": "c0ed5049",
   "metadata": {},
   "outputs": [
    {
     "data": {
      "text/latex": [
       "$\\displaystyle \\left[\\begin{matrix}0 & \\frac{1}{5}\\\\1 & - \\frac{1}{10}\\end{matrix}\\right]$"
      ],
      "text/plain": [
       "Matrix([\n",
       "[0,   1/5],\n",
       "[1, -1/10]])"
      ]
     },
     "execution_count": 3,
     "metadata": {},
     "output_type": "execute_result"
    }
   ],
   "source": [
    "matrix = sym.Matrix([[sym.S(1) / 2, 1], [5, 0]])\n",
    "matrix.inv()"
   ]
  },
  {
   "cell_type": "markdown",
   "id": "7f59f60e",
   "metadata": {},
   "source": [
    "## Multiply matrices by a scalar\n",
    "\n",
    "To multiple a matrix by a scalar we use the `*` operator. For example to\n",
    "multiply the following matrix by $6$:\n",
    "\n",
    "$$\n",
    "    \\begin{pmatrix}\n",
    "        1 / 5 & 1\\\\\n",
    "        1 & 1\n",
    "    \\end{pmatrix}\n",
    "$$"
   ]
  },
  {
   "cell_type": "code",
   "execution_count": 4,
   "id": "93f7ccab",
   "metadata": {},
   "outputs": [
    {
     "data": {
      "text/latex": [
       "$\\displaystyle \\left[\\begin{matrix}\\frac{6}{5} & 6\\\\6 & 6\\end{matrix}\\right]$"
      ],
      "text/plain": [
       "Matrix([\n",
       "[6/5, 6],\n",
       "[  6, 6]])"
      ]
     },
     "execution_count": 4,
     "metadata": {},
     "output_type": "execute_result"
    }
   ],
   "source": [
    "matrix = sym.Matrix([[sym.S(1) / 5, 1], [1, 1]])\n",
    "6 * matrix"
   ]
  },
  {
   "cell_type": "markdown",
   "id": "773fdad6",
   "metadata": {},
   "source": [
    "## Add matrices together\n",
    "\n",
    "To add matrices we use the `+` operator. For example to compute:\n",
    "\n",
    "$$\n",
    "    \\begin{pmatrix}\n",
    "        1 / 5 & 1\\\\\n",
    "        1 & 1\n",
    "    \\end{pmatrix} +\n",
    "    \\begin{pmatrix}\n",
    "        4 / 5 & 0\\\\\n",
    "        0 & 0\n",
    "    \\end{pmatrix}\n",
    "$$"
   ]
  },
  {
   "cell_type": "code",
   "execution_count": 5,
   "id": "f7bde1be",
   "metadata": {},
   "outputs": [
    {
     "data": {
      "text/latex": [
       "$\\displaystyle \\left[\\begin{matrix}1 & 1\\\\1 & 1\\end{matrix}\\right]$"
      ],
      "text/plain": [
       "Matrix([\n",
       "[1, 1],\n",
       "[1, 1]])"
      ]
     },
     "execution_count": 5,
     "metadata": {},
     "output_type": "execute_result"
    }
   ],
   "source": [
    "matrix = sym.Matrix([[sym.S(1) / 5, 1], [1, 1]])\n",
    "other_matrix = sym.Matrix([[sym.S(4) / 5, 0], [0, 0]])\n",
    "matrix + other_matrix"
   ]
  },
  {
   "cell_type": "markdown",
   "id": "f8723cbb",
   "metadata": {},
   "source": [
    "## Multiply matrices together\n",
    "\n",
    "To multiply matrices together we use the `@` operator. For example to compute:\n",
    "\n",
    "$$\n",
    "    \\begin{pmatrix}\n",
    "        1 / 5 & 1\\\\\n",
    "        1 & 1\n",
    "    \\end{pmatrix}\n",
    "    \\begin{pmatrix}\n",
    "        4 / 5 & 0\\\\\n",
    "        0 & 0\n",
    "    \\end{pmatrix}\n",
    "$$"
   ]
  },
  {
   "cell_type": "code",
   "execution_count": 6,
   "id": "d4cb0ced",
   "metadata": {},
   "outputs": [
    {
     "data": {
      "text/latex": [
       "$\\displaystyle \\left[\\begin{matrix}\\frac{4}{25} & 0\\\\\\frac{4}{5} & 0\\end{matrix}\\right]$"
      ],
      "text/plain": [
       "Matrix([\n",
       "[4/25, 0],\n",
       "[ 4/5, 0]])"
      ]
     },
     "execution_count": 6,
     "metadata": {},
     "output_type": "execute_result"
    }
   ],
   "source": [
    "matrix @ other_matrix"
   ]
  },
  {
   "cell_type": "markdown",
   "id": "cf2a6621",
   "metadata": {},
   "source": [
    "## How to create a vector\n",
    "\n",
    "A vector is essentially a matrix with a single row or column. For example to\n",
    "create the vector:\n",
    "\n",
    "$$\n",
    "    \\begin{pmatrix}\n",
    "    3 \\\\\n",
    "    2 \\\\\n",
    "    1\n",
    "    \\end{pmatrix}\n",
    "$$"
   ]
  },
  {
   "cell_type": "code",
   "execution_count": 7,
   "id": "db3e5740",
   "metadata": {},
   "outputs": [
    {
     "data": {
      "text/latex": [
       "$\\displaystyle \\left[\\begin{matrix}3\\\\2\\\\1\\end{matrix}\\right]$"
      ],
      "text/plain": [
       "Matrix([\n",
       "[3],\n",
       "[2],\n",
       "[1]])"
      ]
     },
     "execution_count": 7,
     "metadata": {},
     "output_type": "execute_result"
    }
   ],
   "source": [
    "vector = sym.Matrix([[3], [2], [1]])\n",
    "vector"
   ]
  },
  {
   "cell_type": "markdown",
   "id": "9788b272",
   "metadata": {},
   "source": [
    "## How to solve a linear system\n",
    "\n",
    "To solve a given linear system that can be represented in matrix form, we create\n",
    "the corresponding matrix and vector and use the matrix inverse. For example to\n",
    "solve the following equations:\n",
    "\n",
    "$$\n",
    "    \\begin{array}{l}\n",
    "        x + 2y = 3\\\\\n",
    "        3x + y + 2z = 4\\\\\n",
    "        - y + z = 1\\\\\n",
    "    \\end{array}\n",
    "$$"
   ]
  },
  {
   "cell_type": "code",
   "execution_count": 8,
   "id": "9ca7917f",
   "metadata": {},
   "outputs": [
    {
     "data": {
      "text/latex": [
       "$\\displaystyle \\left[\\begin{matrix}- \\frac{5}{3}\\\\\\frac{7}{3}\\\\\\frac{10}{3}\\end{matrix}\\right]$"
      ],
      "text/plain": [
       "Matrix([\n",
       "[-5/3],\n",
       "[ 7/3],\n",
       "[10/3]])"
      ]
     },
     "execution_count": 8,
     "metadata": {},
     "output_type": "execute_result"
    }
   ],
   "source": [
    "A = sym.Matrix([[1, 2, 0], [3, 1, 2], [0, -1, 1]])\n",
    "b = sym.Matrix([[3], [4], [1]])\n",
    "A.inv() @ b"
   ]
  }
 ],
 "metadata": {
  "jupytext": {
   "formats": "ipynb,md:myst",
   "text_representation": {
    "extension": ".md",
    "format_name": "myst",
    "format_version": 0.12,
    "jupytext_version": "1.6.0"
   }
  },
  "kernelspec": {
   "display_name": "Python 3",
   "language": "python",
   "name": "python3"
  },
  "language_info": {
   "codemirror_mode": {
    "name": "ipython",
    "version": 3
   },
   "file_extension": ".py",
   "mimetype": "text/x-python",
   "name": "python",
   "nbconvert_exporter": "python",
   "pygments_lexer": "ipython3",
   "version": "3.10.14"
  },
  "source_map": [
   13,
   39,
   44,
   82,
   85,
   108,
   111,
   125,
   128,
   145,
   149,
   166,
   168,
   183,
   186,
   202
  ]
 },
 "nbformat": 4,
 "nbformat_minor": 5
}