{
 "cells": [
  {
   "cell_type": "markdown",
   "id": "02530cee",
   "metadata": {},
   "source": [
    "(chp:matrices)=\n",
    "\n",
    "# Matrices\n",
    "\n",
    "Matrices form the building block of an area of mathematics referred to\n",
    "as Linear Algebra. The dictionary definition of a matrix is:\n",
    "\n",
    "> \"A group of numbers or other symbols arranged in a rectangle that can\n",
    "> be used together as a single unit to solve particular mathematical\n",
    "> problems.\"\n",
    "\n",
    "The particular mathematical problems referred to usually correspond to\n",
    "solving large systems of linear equations. However they have become an\n",
    "area of interest in their own right and manipulating matrices usually\n",
    "corresponds to:\n",
    "\n",
    "- calculating the of a matrix;\n",
    "- calculating the of a matrix.\n",
    "\n",
    "Here you will see how to instruct a computer to carry out these techniques.\n",
    "\n",
    "```{important}\n",
    "In this chapter you will cover:\n",
    "\n",
    "-   Creating matrices.\n",
    "-   Manipulating matrices.\n",
    "-   Solving a system of linear equations using matrices.\n",
    "```"
   ]
  }
 ],
 "metadata": {
  "jupytext": {
   "formats": "ipynb,md:myst",
   "text_representation": {
    "extension": ".md",
    "format_name": "myst",
    "format_version": 0.12,
    "jupytext_version": "1.6.0"
   }
  },
  "kernelspec": {
   "display_name": "Python 3",
   "language": "python",
   "name": "python3"
  },
  "language_info": {
   "codemirror_mode": {
    "name": "ipython",
    "version": 3
   },
   "file_extension": ".py",
   "mimetype": "text/x-python",
   "name": "python",
   "nbconvert_exporter": "python",
   "pygments_lexer": "ipython3",
   "version": "3.10.18"
  },
  "source_map": [
   13
  ]
 },
 "nbformat": 4,
 "nbformat_minor": 5
}