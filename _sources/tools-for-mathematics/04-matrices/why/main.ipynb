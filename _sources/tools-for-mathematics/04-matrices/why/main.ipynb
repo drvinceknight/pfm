{
 "cells": [
  {
   "cell_type": "markdown",
   "id": "89df1f9f",
   "metadata": {},
   "source": [
    "# Further information\n",
    "\n",
    "## Why does this book not discuss commenting of code?\n",
    "\n",
    "In Python it is possible to write statements that are ignored using the `#`\n",
    "symbol. This creates something called a \"comment\". For example:"
   ]
  },
  {
   "cell_type": "code",
   "execution_count": 1,
   "id": "6a130dd9",
   "metadata": {},
   "outputs": [],
   "source": [
    "import sympy as sym  # Importing the sympy library using an alias"
   ]
  },
  {
   "cell_type": "markdown",
   "id": "ba1e01f9",
   "metadata": {},
   "source": [
    "Comments like these often do not add to the readability of the code. In fact\n",
    "they can make the code less readable or at worse confusing {cite}`martin2009clean`.\n",
    "\n",
    "In this section of the book there is in fact no need for comments like\n",
    "this as you are mainly using tools that are well documented. Furthermore\n",
    "when using Jupyter notebooks you can add far more to the readability of\n",
    "the code by adding prose alongside our code instead of using small brief\n",
    "inline comments.\n",
    "\n",
    "This does not mean that readability of code is not important.\n",
    "\n",
    "```{important}\n",
    "Being able to read and understand written code is important.\n",
    "```\n",
    "\n",
    "In\n",
    "Chapter {ref}`chp:functions_and_data_structures` you will start to write\n",
    "functions and emphasis will be given there on readability and\n",
    "documenting (as opposed to commenting) the code written. A specific\n",
    "discussion about using a tool called a **docstring** as opposed to a\n",
    "comment will be covered.\n",
    "\n",
    "In chapters {ref}`chp:modularisation`\n",
    "to {ref}`chp:testing` there is more information on how to ensure code\n",
    "is readable and understandable.\n",
    "\n",
    "## Why do we use `@` for matrix multiplication and not `*`?\n",
    "\n",
    "With `sympy` it is in fact possible to use the `*` operator for matrix\n",
    "multiplication:"
   ]
  },
  {
   "cell_type": "code",
   "execution_count": 2,
   "id": "3b94612e",
   "metadata": {},
   "outputs": [
    {
     "data": {
      "text/latex": [
       "$\\displaystyle \\left[\\begin{matrix}\\frac{4}{25} & 0\\\\\\frac{4}{5} & 0\\end{matrix}\\right]$"
      ],
      "text/plain": [
       "Matrix([\n",
       "[4/25, 0],\n",
       "[ 4/5, 0]])"
      ]
     },
     "execution_count": 2,
     "metadata": {},
     "output_type": "execute_result"
    }
   ],
   "source": [
    "import sympy as sym\n",
    "\n",
    "matrix = sym.Matrix([[sym.S(1) / 5, 1], [1, 1]])\n",
    "other_matrix = sym.Matrix([[sym.S(4) / 5, 0], [0, 0]])\n",
    "matrix * other_matrix"
   ]
  },
  {
   "cell_type": "markdown",
   "id": "1e29960b",
   "metadata": {},
   "source": [
    "However there are other libraries that can be used for linear algebra and in\n",
    "those libraries the `*` does not do matrix multiplication, it does element wise\n",
    "multiplication instead. So for clarity it is preferred to use `@` throughout.\n",
    "\n",
    "## I have read that `numpy` is a library for linear algebra?\n",
    "\n",
    "`numpy` is one of the most popular and important libraries in the Python\n",
    "ecosystem. It is in fact the best library to use when doing linear\n",
    "algebra as it is computationally efficient, **however** it cannot handle\n",
    "symbolic variables which is why you are seeing how to use `Sympy` here.\n",
    "An introduction to `numpy` is covered in {ref}`numpy`."
   ]
  }
 ],
 "metadata": {
  "jupytext": {
   "formats": "ipynb,md:myst",
   "text_representation": {
    "extension": ".md",
    "format_name": "myst",
    "format_version": 0.12,
    "jupytext_version": "1.6.0"
   }
  },
  "kernelspec": {
   "display_name": "Python 3",
   "language": "python",
   "name": "python3"
  },
  "language_info": {
   "codemirror_mode": {
    "name": "ipython",
    "version": 3
   },
   "file_extension": ".py",
   "mimetype": "text/x-python",
   "name": "python",
   "nbconvert_exporter": "python",
   "pygments_lexer": "ipython3",
   "version": "3.10.18"
  },
  "source_map": [
   13,
   22,
   24,
   57,
   63
  ]
 },
 "nbformat": 4,
 "nbformat_minor": 5
}