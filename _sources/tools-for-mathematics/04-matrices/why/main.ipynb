{
 "cells": [
  {
   "cell_type": "markdown",
   "id": "a38d5f3d",
   "metadata": {},
   "source": [
    "# Further information\n",
    "\n",
    "## Why are we not commenting our code?\n",
    "\n",
    "In Python it is possible to write statements that are ignored using the `#`\n",
    "symbol. This creates something called a \"comment\". For example:"
   ]
  },
  {
   "cell_type": "code",
   "execution_count": 1,
   "id": "0f0b0f89",
   "metadata": {},
   "outputs": [],
   "source": [
    "import sympy as sym  # Importing the sympy library using the alias sym"
   ]
  },
  {
   "cell_type": "markdown",
   "id": "c38b4e01",
   "metadata": {},
   "source": [
    "Comments like these often do not add to the readability of the code. In fact\n",
    "they can make the code less readable or at worse confusing {cite}`martin2009clean`.\n",
    "\n",
    "In this section of the book there is in fact no need for comments like this as\n",
    "we are mainly using tools that are well documented. Furthermore when using\n",
    "Jupyter notebooks we can add far more to the readbility of the code by adding\n",
    "prose alongside our code instead of using small brief inline comments.\n",
    "\n",
    "This does not mean that readability of code is not important.\n",
    "\n",
    "```{important}\n",
    "Being able to read and understand the code we write is important.\n",
    "```\n",
    "\n",
    "In {ref}`probability` we will start to write our own functions and emphasis will\n",
    "be given there on readability and documenting (as opposed to commenting) the\n",
    "code we will write. A specific discussion about using a tool called a\n",
    "`docstring` as opposed to a comment is here\n",
    "{ref}`difference_between_a_docstring_and_a_comment`.\n",
    "\n",
    "In {ref}`modularisation` and {ref}`documentation` there is a lot more\n",
    "information on how to ensure code is readable and understandable.\n",
    "\n",
    "## Why do we use `@` for matrix multiplication and not `*`?\n",
    "\n",
    "With `sympy` it is in fact possible to use the `*` operator for matrix\n",
    "multiplication:"
   ]
  },
  {
   "cell_type": "code",
   "execution_count": 2,
   "id": "5b479caa",
   "metadata": {},
   "outputs": [
    {
     "data": {
      "text/latex": [
       "$\\displaystyle \\left[\\begin{matrix}\\frac{4}{25} & 0\\\\\\frac{4}{5} & 0\\end{matrix}\\right]$"
      ],
      "text/plain": [
       "Matrix([\n",
       "[4/25, 0],\n",
       "[ 4/5, 0]])"
      ]
     },
     "execution_count": 2,
     "metadata": {},
     "output_type": "execute_result"
    }
   ],
   "source": [
    "import sympy as sym\n",
    "\n",
    "matrix = sym.Matrix([[sym.S(1) / 5, 1], [1, 1]])\n",
    "other_matrix = sym.Matrix([[sym.S(4) / 5, 0], [0, 0]])\n",
    "matrix * other_matrix"
   ]
  },
  {
   "cell_type": "markdown",
   "id": "8a149af9",
   "metadata": {},
   "source": [
    "However there are other libraries that can be used for linear algebra and in\n",
    "those libraries the `*` does not do matrix multiplication, it does element wise\n",
    "multiplication instead. So for clarity it is preferred to use `@` throughout.\n",
    "\n",
    "## I have read that `numpy` is a library for linear algebra?\n",
    "\n",
    "`numpy` is one of the most popular and important libraries in the Python\n",
    "ecosystem. It is in fact the best library to use when doing linear algebra as it\n",
    "is computationally efficient, **however** it cannot handle symbolic variables\n",
    "which is why we are seeing how to use `Sympy` here. {ref}`numpy` gives an\n",
    "introduction to `numpy`."
   ]
  }
 ],
 "metadata": {
  "jupytext": {
   "formats": "ipynb,md:myst",
   "text_representation": {
    "extension": ".md",
    "format_name": "myst",
    "format_version": 0.12,
    "jupytext_version": "1.6.0"
   }
  },
  "kernelspec": {
   "display_name": "Python 3",
   "language": "python",
   "name": "python3"
  },
  "language_info": {
   "codemirror_mode": {
    "name": "ipython",
    "version": 3
   },
   "file_extension": ".py",
   "mimetype": "text/x-python",
   "name": "python",
   "nbconvert_exporter": "python",
   "pygments_lexer": "ipython3",
   "version": "3.10.12"
  },
  "source_map": [
   13,
   22,
   24,
   54,
   60
  ]
 },
 "nbformat": 4,
 "nbformat_minor": 5
}