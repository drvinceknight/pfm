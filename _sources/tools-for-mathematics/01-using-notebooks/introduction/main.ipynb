{
 "cells": [
  {
   "cell_type": "markdown",
   "id": "f0ab6651",
   "metadata": {},
   "source": [
    "(using_notebooks)=\n",
    "\n",
    "# Using notebooks\n",
    "\n",
    "## Introduction\n",
    "\n",
    "At the advent of Calculus two mathematicians are credited with its\n",
    "formalisation/invention:\n",
    "\n",
    "- Isaac Newton\n",
    "\n",
    "- Gottfried Leibniz\n",
    "\n",
    "One of the differences between the approaches taken by Newton and\n",
    "Leibniz is their notation. Newton denoted the derivative of a function\n",
    "$f$ as:\n",
    "\n",
    "$$Df$$\n",
    "\n",
    "Leibniz denoted the derivative with the now more commonly used notation:\n",
    "$$\\frac{df}{dx}$$\n",
    "\n",
    "The mathematics itself is unchanged: what changes is the\n",
    "language/notation used to communicate it. Similarly when giving\n",
    "instructions through code to a computer there are a number of notations,\n",
    "more commonly called languages available. This book will be using a\n",
    "language called **Python**. Python was originally designed as a teaching\n",
    "language but it is now popular both in academia and in industry.\n",
    "\n",
    "```{important}\n",
    "In this chapter you will cover:\n",
    "\n",
    "-   Installing the specific distribution of Python on your computer.\n",
    "-   Using something called a Jupyter notebook to write and run Python\n",
    "    code.\n",
    "-   Writing descriptive notes using `markdown`{.markdown} and LaTeX\n",
    "    (pronounced Lay-tech).\n",
    "```"
   ]
  }
 ],
 "metadata": {
  "jupytext": {
   "formats": "ipynb,md:myst",
   "text_representation": {
    "extension": ".md",
    "format_name": "myst",
    "format_version": 0.12,
    "jupytext_version": "1.6.0"
   }
  },
  "kernelspec": {
   "display_name": "Python 3",
   "language": "python",
   "name": "python3"
  },
  "language_info": {
   "codemirror_mode": {
    "name": "ipython",
    "version": 3
   },
   "file_extension": ".py",
   "mimetype": "text/x-python",
   "name": "python",
   "nbconvert_exporter": "python",
   "pygments_lexer": "ipython3",
   "version": "3.10.18"
  },
  "source_map": [
   13
  ]
 },
 "nbformat": 4,
 "nbformat_minor": 5
}