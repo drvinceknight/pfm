{
 "cells": [
  {
   "cell_type": "markdown",
   "id": "9c34bff6",
   "metadata": {},
   "source": [
    "# Exercises\n",
    "\n",
    "1.  Create a new notebook rename it \"exercises\". Navigate to it using\n",
    "    your file browser to make sure you can find it.\n",
    "2.  Write and run some Python code to carry out the following\n",
    "    calculations\n",
    "\n",
    "    1.  $3 + 8$\n",
    "    2.  $3 / 7$\n",
    "    3.  $456 / 21$\n",
    "    4.  $\\frac{4 ^ 3 + 2}{2\\times 5} - 5 ^ {\\frac{1}{2}}$\n",
    "\n",
    "3.  Write a markdown cell with the following and view the rendered\n",
    "    version:\n",
    "\n",
    "    ```markdown\n",
    "    # Euler's equation\n",
    "\n",
    "    $$\n",
    "    e ^ {i\\pi} = -1\n",
    "    $$\n",
    "    ```\n",
    "\n",
    "4.  Render the following expressions by writing markdown\n",
    "\n",
    "    1.  $\\frac{4 ^ 3 + 2}{2\\times 5}$\n",
    "\n",
    "    2.  $- 5 ^ {\\frac{1}{2}}$\n",
    "\n",
    "    3.  $\\frac{df}{dx}$\n",
    "\n",
    "    4.  $\\int_{5}^{12}x^2dx$\n",
    "\n",
    "    5.  $\\begin{pmatrix}4 & 12 & 3\\\\2 & x & i\\\\\\end{pmatrix}$\n",
    "\n",
    "5.  Save your notebook to `HTML` and open and view it.\n",
    "6.  Download the notebook available at `10.5281/zenodo.7118738` and\n",
    "    check that you are able to open it."
   ]
  }
 ],
 "metadata": {
  "jupytext": {
   "formats": "ipynb,md:myst",
   "text_representation": {
    "extension": ".md",
    "format_name": "myst",
    "format_version": 0.12,
    "jupytext_version": "1.6.0"
   }
  },
  "kernelspec": {
   "display_name": "Python 3",
   "language": "python",
   "name": "python3"
  },
  "language_info": {
   "codemirror_mode": {
    "name": "ipython",
    "version": 3
   },
   "file_extension": ".py",
   "mimetype": "text/x-python",
   "name": "python",
   "nbconvert_exporter": "python",
   "pygments_lexer": "ipython3",
   "version": "3.10.18"
  },
  "source_map": [
   13
  ]
 },
 "nbformat": 4,
 "nbformat_minor": 5
}