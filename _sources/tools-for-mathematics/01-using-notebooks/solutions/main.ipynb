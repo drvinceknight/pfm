{
 "cells": [
  {
   "cell_type": "markdown",
   "id": "c04bacab",
   "metadata": {},
   "source": [
    "# Solutions\n",
    "\n",
    "## Question 1\n",
    "\n",
    "> `1`. Create a new notebook rename it \"exercises\". Navigate to it using your\n",
    "> file browser to make sure you can find it.\n",
    "\n",
    "Click the toggle (\"Click to Show\") to see a demo of this:\n",
    "\n",
    "```{toggle}\n",
    "![](./img/create_a_new_notebook/main.gif)\n",
    "```\n",
    "\n",
    "## Question 2\n",
    "\n",
    "> `2`. Write and run some Python code to carry out the following calculations\n",
    "\n",
    "> `1`. $3 + 8$"
   ]
  },
  {
   "cell_type": "code",
   "execution_count": 1,
   "id": "62ae4db4",
   "metadata": {
    "tags": [
     "nbval-ignore-output"
    ]
   },
   "outputs": [
    {
     "data": {
      "text/plain": [
       "11"
      ]
     },
     "execution_count": 1,
     "metadata": {},
     "output_type": "execute_result"
    }
   ],
   "source": [
    "3 + 8"
   ]
  },
  {
   "cell_type": "markdown",
   "id": "9e8bc8b8",
   "metadata": {},
   "source": [
    "> `2`. $3 / 7$"
   ]
  },
  {
   "cell_type": "code",
   "execution_count": 2,
   "id": "3b84efe0",
   "metadata": {
    "tags": [
     "nbval-ignore-output"
    ]
   },
   "outputs": [
    {
     "data": {
      "text/plain": [
       "0.42857142857142855"
      ]
     },
     "execution_count": 2,
     "metadata": {},
     "output_type": "execute_result"
    }
   ],
   "source": [
    "3 / 7"
   ]
  },
  {
   "cell_type": "markdown",
   "id": "817685bd",
   "metadata": {},
   "source": [
    "> `3`. $456 / 21$"
   ]
  },
  {
   "cell_type": "code",
   "execution_count": 3,
   "id": "869d04f4",
   "metadata": {
    "tags": [
     "nbval-ignore-output"
    ]
   },
   "outputs": [
    {
     "data": {
      "text/plain": [
       "21.714285714285715"
      ]
     },
     "execution_count": 3,
     "metadata": {},
     "output_type": "execute_result"
    }
   ],
   "source": [
    "456 / 21"
   ]
  },
  {
   "cell_type": "markdown",
   "id": "ddbb5584",
   "metadata": {},
   "source": [
    "> `4`. $\\frac{4 ^ 3 + 2}{2\\times 5} - 5 ^ {\\frac{1}{2}}$"
   ]
  },
  {
   "cell_type": "code",
   "execution_count": 4,
   "id": "fc21fbdc",
   "metadata": {
    "tags": [
     "nbval-ignore-output"
    ]
   },
   "outputs": [
    {
     "data": {
      "text/plain": [
       "4.36393202250021"
      ]
     },
     "execution_count": 4,
     "metadata": {},
     "output_type": "execute_result"
    }
   ],
   "source": [
    "(4 ** 3 + 2) / (2 * 5) - 5 ** (1 / 2)"
   ]
  },
  {
   "cell_type": "markdown",
   "id": "bfe00692",
   "metadata": {},
   "source": [
    "## Question 3\n",
    "\n",
    "> 3. Write a markdown cell with the following and view the rendered version:\n",
    "\n",
    "```md\n",
    "# Euler's equation\n",
    "\n",
    "$$\n",
    "e ^ {i\\pi} = -1\n",
    "$$\n",
    "```\n",
    "\n",
    "Click the toggle (\"Click to Show\") to see a demo of this:\n",
    "\n",
    "```{toggle}\n",
    "![](./img/writing_markdown/main.gif)\n",
    "```\n",
    "\n",
    "## Question 4\n",
    "\n",
    "> `4`. Render the following expressions by writing markdown\n",
    "\n",
    "> `1`. $\\frac{4 ^ 3 + 2}{2\\times 5}$\n",
    "\n",
    "```\n",
    "$\\frac{4 ^ 3 + 2}{2\\times 5}$\n",
    "```\n",
    "\n",
    "> `2`. $- 5 ^ {\\frac{1}{2}}$\n",
    "\n",
    "```\n",
    "$- 5 ^ {\\frac{1}{2}}$\n",
    "```\n",
    "\n",
    "> `3`. $\\frac{df}{dx}$\n",
    "\n",
    "```\n",
    "$\\frac{df}{dx}$\n",
    "```\n",
    "\n",
    "> `4`. $\\int_{5}^{12}x^2dx$\n",
    "\n",
    "```\n",
    "$\\int_{5}^{12}x^2dx$\n",
    "```\n",
    "\n",
    "> `5`. $\\begin{pmatrix}4 & 12 & 3\\\\2 & x & i\\\\\\end{pmatrix}$\n",
    "\n",
    "```md\n",
    "$\\begin{pmatrix}4 & 12 & 3\\\\2 & x & i\\\\\\end{pmatrix}$\n",
    "```\n",
    "\n",
    "## Question 5\n",
    "\n",
    "> `5`. Save your notebook to `HTML` and open and view it.\n",
    "\n",
    "Click the toggle (\"Click to Show\") to see a demo of this:\n",
    "\n",
    "```{toggle}\n",
    "![](./img/saving_and_opening_html/main.gif)\n",
    "```\n",
    "\n",
    "## Question 6\n",
    "\n",
    "> `6`. Download the notebook available at\n",
    "  [10.5281/zenodo.7118738](https://zenodo.org/record/7118738/files/demo.ipynb?download=1) and\n",
    "  check that you are able to open it.\n",
    "\n",
    "Click the toggle (\"Click to Show\") to see a demo of this:\n",
    "\n",
    "```{toggle}\n",
    "![](./img/downloading_a_notebook/main.gif)\n",
    "```"
   ]
  }
 ],
 "metadata": {
  "jupytext": {
   "formats": "ipynb,md:myst",
   "text_representation": {
    "extension": ".md",
    "format_name": "myst",
    "format_version": 0.12,
    "jupytext_version": "1.6.0"
   }
  },
  "kernelspec": {
   "display_name": "Python 3",
   "language": "python",
   "name": "python3"
  },
  "language_info": {
   "codemirror_mode": {
    "name": "ipython",
    "version": 3
   },
   "file_extension": ".py",
   "mimetype": "text/x-python",
   "name": "python",
   "nbconvert_exporter": "python",
   "pygments_lexer": "ipython3",
   "version": "3.8.17"
  },
  "source_map": [
   13,
   34,
   38,
   42,
   46,
   50,
   54,
   58,
   62
  ]
 },
 "nbformat": 4,
 "nbformat_minor": 5
}