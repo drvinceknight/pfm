{
 "cells": [
  {
   "cell_type": "markdown",
   "id": "211818b3",
   "metadata": {},
   "source": [
    "# Differential Equations\n",
    "\n",
    "A differential equation is an equation that relates one or more quantities and\n",
    "their derivatives. These can often be used to model real world systems.\n",
    "\n",
    "```{important}\n",
    "In this chapter we will cover:\n",
    "\n",
    "- How to create a symbolic function\n",
    "- How to write a differential equation\n",
    "- How to solve a differential equation\n",
    "```"
   ]
  }
 ],
 "metadata": {
  "jupytext": {
   "formats": "ipynb,md:myst",
   "text_representation": {
    "extension": ".md",
    "format_name": "myst",
    "format_version": 0.12,
    "jupytext_version": "1.6.0"
   }
  },
  "kernelspec": {
   "display_name": "Python 3",
   "language": "python",
   "name": "python3"
  },
  "language_info": {
   "codemirror_mode": {
    "name": "ipython",
    "version": 3
   },
   "file_extension": ".py",
   "mimetype": "text/x-python",
   "name": "python",
   "nbconvert_exporter": "python",
   "pygments_lexer": "ipython3",
   "version": "3.10.14"
  },
  "source_map": [
   13
  ]
 },
 "nbformat": 4,
 "nbformat_minor": 5
}