{
 "cells": [
  {
   "cell_type": "markdown",
   "id": "b9f41ecd",
   "metadata": {},
   "source": [
    "(chp:differential_equations)=\n",
    "\n",
    "# Differential Equations\n",
    "\n",
    "A differential equation is an equation that relates one or more\n",
    "quantities and their derivatives. These can often be used to model real\n",
    "world systems.\n",
    "\n",
    "```{important}\n",
    "In this chapter you will cover:\n",
    "\n",
    "-   Creating a symbolic function;\n",
    "-   Writing a differential equation;\n",
    "-   Solving a differential equation.\n",
    "```"
   ]
  }
 ],
 "metadata": {
  "jupytext": {
   "formats": "ipynb,md:myst",
   "text_representation": {
    "extension": ".md",
    "format_name": "myst",
    "format_version": 0.12,
    "jupytext_version": "1.6.0"
   }
  },
  "kernelspec": {
   "display_name": "Python 3",
   "language": "python",
   "name": "python3"
  },
  "language_info": {
   "codemirror_mode": {
    "name": "ipython",
    "version": 3
   },
   "file_extension": ".py",
   "mimetype": "text/x-python",
   "name": "python",
   "nbconvert_exporter": "python",
   "pygments_lexer": "ipython3",
   "version": "3.10.18"
  },
  "source_map": [
   13
  ]
 },
 "nbformat": 4,
 "nbformat_minor": 5
}