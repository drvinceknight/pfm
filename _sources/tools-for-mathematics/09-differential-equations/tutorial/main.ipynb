{
 "cells": [
  {
   "cell_type": "markdown",
   "id": "79e46a8d",
   "metadata": {},
   "source": [
    "# Tutorial\n",
    "\n",
    "We will solve the following problem using a computer to do some of the more\n",
    "tedious calculations.\n",
    "\n",
    "```{admonition} Problem\n",
    "A container has volume $V$ of liquid which is poured in at a rate proportional\n",
    "to $e^{-t}$ (where $t$ is some measurement of time). Initially the container is empty and\n",
    "after $t=3$ time units the rate at which the liquid is poured is 15.\n",
    "\n",
    "1. Show that $V(t)=\\frac{-15e^{3}}{1-e^{3}}(1 - e^{-t})$\n",
    "2. Obtain the limit $\\lim_{t\\to \\infty}V(t)$\n",
    "```\n",
    "\n",
    "We first need to create the differential equation described in the text:\n",
    "\n",
    "$$\\frac{V(t)}{dt}=ke^{-t}$$\n",
    "\n",
    "We create this differential equation in python:"
   ]
  },
  {
   "cell_type": "code",
   "execution_count": 1,
   "id": "6184c0ac",
   "metadata": {},
   "outputs": [
    {
     "data": {
      "text/latex": [
       "$\\displaystyle \\frac{d}{d t} V{\\left(t \\right)} = k e^{- t}$"
      ],
      "text/plain": [
       "Eq(Derivative(V(t), t), k*exp(-t))"
      ]
     },
     "execution_count": 1,
     "metadata": {},
     "output_type": "execute_result"
    }
   ],
   "source": [
    "import sympy as sym\n",
    "\n",
    "t = sym.Symbol(\"t\")\n",
    "k = sym.Symbol(\"k\")\n",
    "V = sym.Function(\"V\")\n",
    "\n",
    "differential_equation = sym.Eq(lhs=sym.diff(V(t), t), rhs=k * sym.exp(-t))\n",
    "differential_equation"
   ]
  },
  {
   "cell_type": "markdown",
   "id": "6adaaa9f",
   "metadata": {},
   "source": [
    "In order to solve the differential equation we can write:"
   ]
  },
  {
   "cell_type": "code",
   "execution_count": 2,
   "id": "ff67cf0d",
   "metadata": {},
   "outputs": [
    {
     "data": {
      "text/latex": [
       "$\\displaystyle V{\\left(t \\right)} = C_{1} - k e^{- t}$"
      ],
      "text/plain": [
       "Eq(V(t), C1 - k*exp(-t))"
      ]
     },
     "execution_count": 2,
     "metadata": {},
     "output_type": "execute_result"
    }
   ],
   "source": [
    "sym.dsolve(differential_equation, V(t))"
   ]
  },
  {
   "cell_type": "markdown",
   "id": "a33912ae",
   "metadata": {},
   "source": [
    "Note that the question gives us an initial condition: \"initially the container\n",
    "is empty\" which corresponds to $V(0)=0$.\n",
    "\n",
    "We can pass this to the call to solve the differential equation:"
   ]
  },
  {
   "cell_type": "code",
   "execution_count": 3,
   "id": "d69b96b0",
   "metadata": {},
   "outputs": [
    {
     "data": {
      "text/latex": [
       "$\\displaystyle V{\\left(t \\right)} = k - k e^{- t}$"
      ],
      "text/plain": [
       "Eq(V(t), k - k*exp(-t))"
      ]
     },
     "execution_count": 3,
     "metadata": {},
     "output_type": "execute_result"
    }
   ],
   "source": [
    "condition = {V(0): 0}\n",
    "particular_solution = sym.dsolve(differential_equation, V(t), ics=condition)\n",
    "sym.simplify(particular_solution)"
   ]
  },
  {
   "cell_type": "markdown",
   "id": "97ab5eaf",
   "metadata": {},
   "source": [
    "We also know that $V(3)=15$ which corresponds to the following equation:"
   ]
  },
  {
   "cell_type": "code",
   "execution_count": 4,
   "id": "ccd2d5c1",
   "metadata": {},
   "outputs": [
    {
     "data": {
      "text/latex": [
       "$\\displaystyle - \\frac{k}{e^{3}} + k = 15$"
      ],
      "text/plain": [
       "Eq(-k*exp(-3) + k, 15)"
      ]
     },
     "execution_count": 4,
     "metadata": {},
     "output_type": "execute_result"
    }
   ],
   "source": [
    "equation = sym.Eq(particular_solution.rhs.subs({t: 3}), 15)\n",
    "equation"
   ]
  },
  {
   "cell_type": "markdown",
   "id": "64c18187",
   "metadata": {},
   "source": [
    "We can solve this equation to find a value for $k$:"
   ]
  },
  {
   "cell_type": "code",
   "execution_count": 5,
   "id": "907106dc",
   "metadata": {},
   "outputs": [
    {
     "data": {
      "text/latex": [
       "$\\displaystyle \\left\\{- \\frac{15 e^{3}}{1 - e^{3}}\\right\\}$"
      ],
      "text/plain": [
       "{-15*exp(3)/(1 - exp(3))}"
      ]
     },
     "execution_count": 5,
     "metadata": {},
     "output_type": "execute_result"
    }
   ],
   "source": [
    "sym.simplify(sym.solveset(equation, k))"
   ]
  },
  {
   "cell_type": "markdown",
   "id": "46a5be36",
   "metadata": {},
   "source": [
    "which is the required value.\n",
    "\n",
    "We can use the complete expression for $V(t)$ to take the limit:"
   ]
  },
  {
   "cell_type": "code",
   "execution_count": 6,
   "id": "d442c0e0",
   "metadata": {},
   "outputs": [
    {
     "data": {
      "text/latex": [
       "$\\displaystyle - \\frac{15 e^{3}}{1 - e^{3}}$"
      ],
      "text/plain": [
       "-15*exp(3)/(1 - exp(3))"
      ]
     },
     "execution_count": 6,
     "metadata": {},
     "output_type": "execute_result"
    }
   ],
   "source": [
    "limit = sym.limit((-15 * sym.exp(3) / (1- sym.exp(3))) *  (1 - sym.exp(-t)), t, sym.oo)\n",
    "limit"
   ]
  },
  {
   "cell_type": "markdown",
   "id": "bd155ca2",
   "metadata": {},
   "source": [
    "This is approximately:"
   ]
  },
  {
   "cell_type": "code",
   "execution_count": 7,
   "id": "b026472c",
   "metadata": {},
   "outputs": [
    {
     "data": {
      "text/plain": [
       "15.78593544736884"
      ]
     },
     "execution_count": 7,
     "metadata": {},
     "output_type": "execute_result"
    }
   ],
   "source": [
    "float(limit)"
   ]
  },
  {
   "cell_type": "markdown",
   "id": "be7f2183",
   "metadata": {},
   "source": [
    "```{important}\n",
    "In this tutorial we have\n",
    "\n",
    "- Created a differential equation\n",
    "- Obtained the general solution of a differential equation\n",
    "- Obtained the particular solution of a differential equation.\n",
    "```"
   ]
  }
 ],
 "metadata": {
  "jupytext": {
   "formats": "ipynb,md:myst",
   "text_representation": {
    "extension": ".md",
    "format_name": "myst",
    "format_version": 0.12,
    "jupytext_version": "1.6.0"
   }
  },
  "kernelspec": {
   "display_name": "Python 3",
   "language": "python",
   "name": "python3"
  },
  "language_info": {
   "codemirror_mode": {
    "name": "ipython",
    "version": 3
   },
   "file_extension": ".py",
   "mimetype": "text/x-python",
   "name": "python",
   "nbconvert_exporter": "python",
   "pygments_lexer": "ipython3",
   "version": "3.10.14"
  },
  "source_map": [
   13,
   35,
   44,
   48,
   50,
   57,
   61,
   65,
   68,
   72,
   74,
   80,
   83,
   87,
   89
  ]
 },
 "nbformat": 4,
 "nbformat_minor": 5
}