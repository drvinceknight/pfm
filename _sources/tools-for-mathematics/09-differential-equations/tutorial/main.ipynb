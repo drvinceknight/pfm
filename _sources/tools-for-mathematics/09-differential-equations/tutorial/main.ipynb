{
 "cells": [
  {
   "cell_type": "markdown",
   "id": "6cfe51b4",
   "metadata": {},
   "source": [
    "# Tutorial\n",
    "\n",
    "You will solve the following problem using a computer to do some of the\n",
    "more tedious calculations.\n",
    "\n",
    "```{admonition} Problem\n",
    "A container has volume $V$ of liquid which is poured in at a rate\n",
    "proportional to $e^{-t}$ (where $t$ is some measurement of time).\n",
    "Initially the container is empty and after $t=3$ time units the volume\n",
    "of liquid is 15.\n",
    "\n",
    "1.  Show that $V(t)=\\frac{-15e^{3}}{1-e^{3}}(1 - e^{-t})$.\n",
    "2.  Obtain the limit $\\lim_{t\\to \\infty}V(t)$.\n",
    "```\n",
    "\n",
    "You first need to create the differential equation described in the text:"
   ]
  },
  {
   "cell_type": "code",
   "execution_count": 1,
   "id": "c258999c",
   "metadata": {},
   "outputs": [
    {
     "data": {
      "text/latex": [
       "$\\displaystyle \\frac{d}{d t} V{\\left(t \\right)} = k e^{- t}$"
      ],
      "text/plain": [
       "Eq(Derivative(V(t), t), k*exp(-t))"
      ]
     },
     "execution_count": 1,
     "metadata": {},
     "output_type": "execute_result"
    }
   ],
   "source": [
    "import sympy as sym\n",
    "\n",
    "t = sym.Symbol(\"t\")\n",
    "k = sym.Symbol(\"k\")\n",
    "V = sym.Function(\"V\")\n",
    "\n",
    "differential_equation = sym.Eq(lhs=sym.diff(V(t), t), rhs=k * sym.exp(-t))\n",
    "differential_equation"
   ]
  },
  {
   "cell_type": "markdown",
   "id": "4e79cf16",
   "metadata": {},
   "source": [
    "In order to solve the differential equation you can write:"
   ]
  },
  {
   "cell_type": "code",
   "execution_count": 2,
   "id": "0932352d",
   "metadata": {},
   "outputs": [
    {
     "data": {
      "text/latex": [
       "$\\displaystyle V{\\left(t \\right)} = C_{1} - k e^{- t}$"
      ],
      "text/plain": [
       "Eq(V(t), C1 - k*exp(-t))"
      ]
     },
     "execution_count": 2,
     "metadata": {},
     "output_type": "execute_result"
    }
   ],
   "source": [
    "sym.dsolve(differential_equation, V(t))"
   ]
  },
  {
   "cell_type": "markdown",
   "id": "3ed0719e",
   "metadata": {},
   "source": [
    "Note that the question gives an initial condition: \"initially the container\n",
    "is empty\" which corresponds to $V(0)=0$.\n",
    "\n",
    "You can pass this to the call to solve the differential equation:"
   ]
  },
  {
   "cell_type": "code",
   "execution_count": 3,
   "id": "d2f81ae3",
   "metadata": {},
   "outputs": [
    {
     "data": {
      "text/latex": [
       "$\\displaystyle V{\\left(t \\right)} = k - k e^{- t}$"
      ],
      "text/plain": [
       "Eq(V(t), k - k*exp(-t))"
      ]
     },
     "execution_count": 3,
     "metadata": {},
     "output_type": "execute_result"
    }
   ],
   "source": [
    "condition = {V(0): 0}\n",
    "particular_solution = sym.dsolve(differential_equation, V(t), ics=condition)\n",
    "sym.simplify(particular_solution)"
   ]
  },
  {
   "cell_type": "markdown",
   "id": "178dcc7a",
   "metadata": {},
   "source": [
    "We also know that $V(3)=15$ which corresponds to the following equation:"
   ]
  },
  {
   "cell_type": "code",
   "execution_count": 4,
   "id": "51ea0bf3",
   "metadata": {},
   "outputs": [
    {
     "data": {
      "text/latex": [
       "$\\displaystyle - \\frac{k}{e^{3}} + k = 15$"
      ],
      "text/plain": [
       "Eq(-k*exp(-3) + k, 15)"
      ]
     },
     "execution_count": 4,
     "metadata": {},
     "output_type": "execute_result"
    }
   ],
   "source": [
    "equation = sym.Eq(particular_solution.rhs.subs({t: 3}), 15)\n",
    "equation"
   ]
  },
  {
   "cell_type": "markdown",
   "id": "81100dc7",
   "metadata": {},
   "source": [
    "You can solve this equation to find a value for $k$:"
   ]
  },
  {
   "cell_type": "code",
   "execution_count": 5,
   "id": "74e62301",
   "metadata": {},
   "outputs": [
    {
     "data": {
      "text/latex": [
       "$\\displaystyle \\left\\{- \\frac{15 e^{3}}{1 - e^{3}}\\right\\}$"
      ],
      "text/plain": [
       "{-15*exp(3)/(1 - exp(3))}"
      ]
     },
     "execution_count": 5,
     "metadata": {},
     "output_type": "execute_result"
    }
   ],
   "source": [
    "sym.simplify(sym.solveset(equation, k))"
   ]
  },
  {
   "cell_type": "markdown",
   "id": "f903da71",
   "metadata": {},
   "source": [
    "which is the required value.\n",
    "\n",
    "You can use the complete expression for $V(t)$ to take the limit:"
   ]
  },
  {
   "cell_type": "code",
   "execution_count": 6,
   "id": "528b63cc",
   "metadata": {},
   "outputs": [
    {
     "data": {
      "text/latex": [
       "$\\displaystyle - \\frac{15 e^{3}}{1 - e^{3}}$"
      ],
      "text/plain": [
       "-15*exp(3)/(1 - exp(3))"
      ]
     },
     "execution_count": 6,
     "metadata": {},
     "output_type": "execute_result"
    }
   ],
   "source": [
    "limit = sym.limit((-15 * sym.exp(3) / (1- sym.exp(3))) *  (1 - sym.exp(-t)), t, sym.oo)\n",
    "limit"
   ]
  },
  {
   "cell_type": "markdown",
   "id": "17a1d881",
   "metadata": {},
   "source": [
    "This is approximately:"
   ]
  },
  {
   "cell_type": "code",
   "execution_count": 7,
   "id": "9dfa8328",
   "metadata": {},
   "outputs": [
    {
     "data": {
      "text/plain": [
       "15.78593544736884"
      ]
     },
     "execution_count": 7,
     "metadata": {},
     "output_type": "execute_result"
    }
   ],
   "source": [
    "float(limit)"
   ]
  },
  {
   "cell_type": "markdown",
   "id": "e9d5b6da",
   "metadata": {},
   "source": [
    "```{important}\n",
    "In this tutorial you have\n",
    "\n",
    "- Created a differential equation\n",
    "- Obtained the general solution of a differential equation\n",
    "- Obtained the particular solution of a differential equation.\n",
    "```"
   ]
  }
 ],
 "metadata": {
  "jupytext": {
   "formats": "ipynb,md:myst",
   "text_representation": {
    "extension": ".md",
    "format_name": "myst",
    "format_version": 0.12,
    "jupytext_version": "1.6.0"
   }
  },
  "kernelspec": {
   "display_name": "Python 3",
   "language": "python",
   "name": "python3"
  },
  "language_info": {
   "codemirror_mode": {
    "name": "ipython",
    "version": 3
   },
   "file_extension": ".py",
   "mimetype": "text/x-python",
   "name": "python",
   "nbconvert_exporter": "python",
   "pygments_lexer": "ipython3",
   "version": "3.10.18"
  },
  "source_map": [
   13,
   32,
   41,
   45,
   47,
   54,
   58,
   62,
   65,
   69,
   71,
   77,
   80,
   84,
   86
  ]
 },
 "nbformat": 4,
 "nbformat_minor": 5
}