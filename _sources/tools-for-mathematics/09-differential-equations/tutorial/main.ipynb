{
 "cells": [
  {
   "cell_type": "markdown",
   "id": "798fc405",
   "metadata": {},
   "source": [
    "# Tutorial\n",
    "\n",
    "We will solve the following problem using a computer to do some of the more\n",
    "tedious calculations.\n",
    "\n",
    "```{admonition} Problem\n",
    "A container has volume $V$ of liquid which is poured in at a rate proportional\n",
    "to $e^{-t}$ (where $t$ is some measurement of time). Initially the container is empty and\n",
    "after $t=3$ time units the rate at which the liquid is poured is 15.\n",
    "\n",
    "1. Show that $V(t)=\\frac{-15e^{3}}{1-e^{3}}(1 - e^{-t})$\n",
    "2. Obtain the limit $\\lim_{t\\to \\infty}V(t)$\n",
    "```\n",
    "\n",
    "We first need to create the differential equation described in the text:\n",
    "\n",
    "$$\\frac{V(t)}{dt}=ke^{-t}$$\n",
    "\n",
    "We create this differential equation in python:"
   ]
  },
  {
   "cell_type": "code",
   "execution_count": 1,
   "id": "93468807",
   "metadata": {},
   "outputs": [
    {
     "data": {
      "text/latex": [
       "$\\displaystyle \\frac{d}{d t} V{\\left(t \\right)} = k e^{- t}$"
      ],
      "text/plain": [
       "Eq(Derivative(V(t), t), k*exp(-t))"
      ]
     },
     "execution_count": 1,
     "metadata": {},
     "output_type": "execute_result"
    }
   ],
   "source": [
    "import sympy as sym\n",
    "\n",
    "t = sym.Symbol(\"t\")\n",
    "k = sym.Symbol(\"k\")\n",
    "V = sym.Function(\"V\")\n",
    "\n",
    "differential_equation = sym.Eq(lhs=sym.diff(V(t), t), rhs=k * sym.exp(-t))\n",
    "differential_equation"
   ]
  },
  {
   "cell_type": "markdown",
   "id": "579956c9",
   "metadata": {},
   "source": [
    "In order to solve the differential equation we can write:"
   ]
  },
  {
   "cell_type": "code",
   "execution_count": 2,
   "id": "358986a1",
   "metadata": {},
   "outputs": [
    {
     "data": {
      "text/latex": [
       "$\\displaystyle V{\\left(t \\right)} = C_{1} - k e^{- t}$"
      ],
      "text/plain": [
       "Eq(V(t), C1 - k*exp(-t))"
      ]
     },
     "execution_count": 2,
     "metadata": {},
     "output_type": "execute_result"
    }
   ],
   "source": [
    "sym.dsolve(differential_equation, V(t))"
   ]
  },
  {
   "cell_type": "markdown",
   "id": "44c2925b",
   "metadata": {},
   "source": [
    "Note that the question gives us an initial condition: \"initially the container\n",
    "is empty\" which corresponds to $V(0)=0$.\n",
    "\n",
    "We can pass this to the call to solve the differential equation:"
   ]
  },
  {
   "cell_type": "code",
   "execution_count": 3,
   "id": "6e712761",
   "metadata": {},
   "outputs": [
    {
     "data": {
      "text/latex": [
       "$\\displaystyle V{\\left(t \\right)} = k - k e^{- t}$"
      ],
      "text/plain": [
       "Eq(V(t), k - k*exp(-t))"
      ]
     },
     "execution_count": 3,
     "metadata": {},
     "output_type": "execute_result"
    }
   ],
   "source": [
    "condition = {V(0): 0}\n",
    "particular_solution = sym.dsolve(differential_equation, V(t), ics=condition)\n",
    "sym.simplify(particular_solution)"
   ]
  },
  {
   "cell_type": "markdown",
   "id": "620e9a26",
   "metadata": {},
   "source": [
    "We also know that $V(3)=15$ which corresponds to the following equation:"
   ]
  },
  {
   "cell_type": "code",
   "execution_count": 4,
   "id": "dc439310",
   "metadata": {},
   "outputs": [
    {
     "data": {
      "text/latex": [
       "$\\displaystyle - \\frac{k}{e^{3}} + k = 15$"
      ],
      "text/plain": [
       "Eq(-k*exp(-3) + k, 15)"
      ]
     },
     "execution_count": 4,
     "metadata": {},
     "output_type": "execute_result"
    }
   ],
   "source": [
    "equation = sym.Eq(particular_solution.rhs.subs({t: 3}), 15)\n",
    "equation"
   ]
  },
  {
   "cell_type": "markdown",
   "id": "bd96618b",
   "metadata": {},
   "source": [
    "We can solve this equation to find a value for $k$:"
   ]
  },
  {
   "cell_type": "code",
   "execution_count": 5,
   "id": "19bdf87c",
   "metadata": {},
   "outputs": [
    {
     "data": {
      "text/latex": [
       "$\\displaystyle \\left\\{- \\frac{15 e^{3}}{1 - e^{3}}\\right\\}$"
      ],
      "text/plain": [
       "{-15*exp(3)/(1 - exp(3))}"
      ]
     },
     "execution_count": 5,
     "metadata": {},
     "output_type": "execute_result"
    }
   ],
   "source": [
    "sym.simplify(sym.solveset(equation, k))"
   ]
  },
  {
   "cell_type": "markdown",
   "id": "3b6489bd",
   "metadata": {},
   "source": [
    "which is the required value.\n",
    "\n",
    "We can use the complete expression for $V(t)$ to take the limit:"
   ]
  },
  {
   "cell_type": "code",
   "execution_count": 6,
   "id": "21db6149",
   "metadata": {},
   "outputs": [
    {
     "data": {
      "text/latex": [
       "$\\displaystyle - \\frac{15 e^{3}}{1 - e^{3}}$"
      ],
      "text/plain": [
       "-15*exp(3)/(1 - exp(3))"
      ]
     },
     "execution_count": 6,
     "metadata": {},
     "output_type": "execute_result"
    }
   ],
   "source": [
    "limit = sym.limit((-15 * sym.exp(3) / (1- sym.exp(3))) *  (1 - sym.exp(-t)), t, sym.oo)\n",
    "limit"
   ]
  },
  {
   "cell_type": "markdown",
   "id": "ebc7b3f2",
   "metadata": {},
   "source": [
    "This is approximately:"
   ]
  },
  {
   "cell_type": "code",
   "execution_count": 7,
   "id": "c0302427",
   "metadata": {},
   "outputs": [
    {
     "data": {
      "text/plain": [
       "15.78593544736884"
      ]
     },
     "execution_count": 7,
     "metadata": {},
     "output_type": "execute_result"
    }
   ],
   "source": [
    "float(limit)"
   ]
  },
  {
   "cell_type": "markdown",
   "id": "6d1f2760",
   "metadata": {},
   "source": [
    "```{important}\n",
    "In this tutorial we have\n",
    "\n",
    "- Created a differential equation\n",
    "- Obtained the general solution of a differential equation\n",
    "- Obtained the particular solution of a differential equation.\n",
    "```"
   ]
  }
 ],
 "metadata": {
  "jupytext": {
   "formats": "ipynb,md:myst",
   "text_representation": {
    "extension": ".md",
    "format_name": "myst",
    "format_version": 0.12,
    "jupytext_version": "1.6.0"
   }
  },
  "kernelspec": {
   "display_name": "Python 3",
   "language": "python",
   "name": "python3"
  },
  "language_info": {
   "codemirror_mode": {
    "name": "ipython",
    "version": 3
   },
   "file_extension": ".py",
   "mimetype": "text/x-python",
   "name": "python",
   "nbconvert_exporter": "python",
   "pygments_lexer": "ipython3",
   "version": "3.10.13"
  },
  "source_map": [
   13,
   35,
   44,
   48,
   50,
   57,
   61,
   65,
   68,
   72,
   74,
   80,
   83,
   87,
   89
  ]
 },
 "nbformat": 4,
 "nbformat_minor": 5
}