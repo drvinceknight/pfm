{
 "cells": [
  {
   "cell_type": "markdown",
   "id": "c0c0fffc",
   "metadata": {},
   "source": [
    "# Further information\n",
    "\n",
    "## How to solve a system of differential equations?\n",
    "\n",
    "Given a system of differential equations like the following:\n",
    "\n",
    "$$\n",
    "    \\begin{cases}\n",
    "        \\frac{dx}{dt} =& x - y\\\\\n",
    "        \\frac{dy}{dt} =& x + y\\\\\n",
    "        y(0) =& 250\\\\\n",
    "        y(1) =& 300\n",
    "    \\end{cases}\n",
    "$$\n",
    "\n",
    "You can solve it using `sym.dsolve` but instead of passing a single differential\n",
    "equation, pass an iterable of multiple equations:"
   ]
  },
  {
   "cell_type": "code",
   "execution_count": 1,
   "id": "82d4d863",
   "metadata": {},
   "outputs": [
    {
     "data": {
      "text/latex": [
       "$\\displaystyle x{\\left(t \\right)} = - \\frac{50 \\beta \\left(5 e^{\\sqrt{\\alpha \\beta}} - 6\\right) e^{\\sqrt{\\alpha \\beta}} e^{- t \\sqrt{\\alpha \\beta}}}{\\sqrt{\\alpha \\beta} \\left(e^{2 \\sqrt{\\alpha \\beta}} - 1\\right)} + \\frac{50 \\beta \\left(6 e^{\\sqrt{\\alpha \\beta}} - 5\\right) e^{t \\sqrt{\\alpha \\beta}}}{\\sqrt{\\alpha \\beta} \\left(e^{2 \\sqrt{\\alpha \\beta}} - 1\\right)}$"
      ],
      "text/plain": [
       "Eq(x(t), -50*beta*(5*exp(sqrt(alpha*beta)) - 6)*exp(sqrt(alpha*beta))*exp(-t*sqrt(alpha*beta))/(sqrt(alpha*beta)*(exp(2*sqrt(alpha*beta)) - 1)) + 50*beta*(6*exp(sqrt(alpha*beta)) - 5)*exp(t*sqrt(alpha*beta))/(sqrt(alpha*beta)*(exp(2*sqrt(alpha*beta)) - 1)))"
      ]
     },
     "execution_count": 1,
     "metadata": {},
     "output_type": "execute_result"
    }
   ],
   "source": [
    "import sympy as sym\n",
    "\n",
    "\n",
    "y = sym.Function(\"y\")\n",
    "x = sym.Function(\"x\")\n",
    "\n",
    "t = sym.Symbol(\"t\")\n",
    "alpha = sym.Symbol(\"alpha\")\n",
    "beta = sym.Symbol(\"beta\")\n",
    "\n",
    "system_of_equations = (\n",
    "    sym.Eq(sym.diff(y(t), t), alpha * x(t)),\n",
    "    sym.Eq(sym.diff(x(t), t), beta * y(t)),\n",
    ")\n",
    "conditions = {y(0): 250, y(1): 300}\n",
    "\n",
    "y_solution, x_solution = sym.dsolve(system_of_equations, ics=conditions, set=True)\n",
    "x_solution"
   ]
  },
  {
   "cell_type": "code",
   "execution_count": 2,
   "id": "9cd74a91",
   "metadata": {},
   "outputs": [
    {
     "data": {
      "text/latex": [
       "$\\displaystyle y{\\left(t \\right)} = \\frac{50 \\left(5 e^{\\sqrt{\\alpha \\beta}} - 6\\right) e^{\\sqrt{\\alpha \\beta}} e^{- t \\sqrt{\\alpha \\beta}}}{e^{2 \\sqrt{\\alpha \\beta}} - 1} + \\frac{50 \\left(6 e^{\\sqrt{\\alpha \\beta}} - 5\\right) e^{t \\sqrt{\\alpha \\beta}}}{e^{2 \\sqrt{\\alpha \\beta}} - 1}$"
      ],
      "text/plain": [
       "Eq(y(t), 50*(5*exp(sqrt(alpha*beta)) - 6)*exp(sqrt(alpha*beta))*exp(-t*sqrt(alpha*beta))/(exp(2*sqrt(alpha*beta)) - 1) + 50*(6*exp(sqrt(alpha*beta)) - 5)*exp(t*sqrt(alpha*beta))/(exp(2*sqrt(alpha*beta)) - 1))"
      ]
     },
     "execution_count": 2,
     "metadata": {},
     "output_type": "execute_result"
    }
   ],
   "source": [
    "y_solution"
   ]
  },
  {
   "cell_type": "markdown",
   "id": "663a9346",
   "metadata": {},
   "source": [
    "## How to solve differential equations numerically\n",
    "\n",
    "Some differential equations do not have a closed form solution in terms of\n",
    "elementary functions. For example, the [Airy or Stokes equation](https://en.m.wikipedia.org/wiki/Airy_function):\n",
    "\n",
    "$$\n",
    "\\frac{d^2y}{dx^2} = xy\n",
    "$$\n",
    "\n",
    "Attempting to solve this with Sympy gives:"
   ]
  },
  {
   "cell_type": "code",
   "execution_count": 3,
   "id": "eb55f891",
   "metadata": {},
   "outputs": [
    {
     "data": {
      "text/latex": [
       "$\\displaystyle y{\\left(x \\right)} = C_{1} Ai\\left(x\\right) + C_{2} Bi\\left(x\\right)$"
      ],
      "text/plain": [
       "Eq(y(x), C1*airyai(x) + C2*airybi(x))"
      ]
     },
     "execution_count": 3,
     "metadata": {},
     "output_type": "execute_result"
    }
   ],
   "source": [
    "import sympy as sym\n",
    "\n",
    "y = sym.Function(\"y\")\n",
    "x = sym.Symbol(\"x\")\n",
    "\n",
    "equation = sym.Eq(sym.diff(y(x), x, 2), x * y(x))\n",
    "sym.dsolve(equation, y(x))"
   ]
  },
  {
   "cell_type": "markdown",
   "id": "727a2233",
   "metadata": {},
   "source": [
    "which is a linear combination of $A_i$ and $B_i$ which are special functions\n",
    "called the Airy functions of the first and second kind.\n",
    "\n",
    "Using `scipy.integrate` it is possible to solve this differential equation numerically.\n",
    "\n",
    "First, define a new variable $u=\\frac{dy}{dx}$ so that the second order\n",
    "differential equation can be expressed as a system of single order differential\n",
    "equations:\n",
    "\n",
    "$$\n",
    "    \\begin{cases}\n",
    "        \\frac{du}{dx}=&xy\\\\\n",
    "        \\frac{dy}{dx}=&u\n",
    "    \\end{cases}\n",
    "$$\n",
    "\n",
    "Now define a python function that returns the right hand side of that\n",
    "system of equations:"
   ]
  },
  {
   "cell_type": "code",
   "execution_count": 4,
   "id": "c0d81aeb",
   "metadata": {},
   "outputs": [],
   "source": [
    "def diff(state, x):\n",
    "    \"\"\"\n",
    "    Returns the value of the derivates for a given set of state values (u, y).\n",
    "    \"\"\"\n",
    "    u, y = state\n",
    "    return x * y, u"
   ]
  },
  {
   "cell_type": "markdown",
   "id": "f611c2e6",
   "metadata": {},
   "source": [
    "You can pass this to `scipy.integrate.odeint` which is a tool that carries out\n",
    "numerical integration of differential equations. Note, that it is incapable of\n",
    "dealing with symbolic variables, thus an initial numeric value of $(u, y)$ is\n",
    "required."
   ]
  },
  {
   "cell_type": "code",
   "execution_count": 5,
   "id": "01bff946",
   "metadata": {},
   "outputs": [],
   "source": [
    "import numpy as np\n",
    "import scipy.integrate\n",
    "\n",
    "condition = (.1, -.5)\n",
    "\n",
    "xs = np.linspace(0, 1, 50)\n",
    "states = scipy.integrate.odeint(diff, y0=condition, t=xs)\n"
   ]
  },
  {
   "cell_type": "markdown",
   "id": "5d54dfe6",
   "metadata": {},
   "source": [
    "```{note}\n",
    "Here, you make use of\n",
    "{ref}`how-to-create-a-given-number-of-values-between-two-bounds` to create a\n",
    "collection\n",
    "of `x` values over which to carry out the numerical integration.\n",
    "```\n",
    "\n",
    "This returns an array of values of `states` corresponding to $(u, y)$."
   ]
  },
  {
   "cell_type": "code",
   "execution_count": 6,
   "id": "03c04414",
   "metadata": {
    "tags": [
     "output_scroll"
    ]
   },
   "outputs": [
    {
     "data": {
      "text/plain": [
       "array([[ 0.1       , -0.5       ],\n",
       "       [ 0.09989617, -0.49795991],\n",
       "       [ 0.09958578, -0.49592403],\n",
       "       [ 0.09907053, -0.49389658],\n",
       "       [ 0.09835211, -0.49188172],\n",
       "       [ 0.09743216, -0.48988358],\n",
       "       [ 0.09631231, -0.48790626],\n",
       "       [ 0.09499416, -0.48595381],\n",
       "       [ 0.09347927, -0.48403028],\n",
       "       [ 0.09176914, -0.48213966],\n",
       "       [ 0.08986521, -0.48028592],\n",
       "       [ 0.08776887, -0.47847301],\n",
       "       [ 0.08548146, -0.47670482],\n",
       "       [ 0.08300422, -0.47498526],\n",
       "       [ 0.08033831, -0.47331818],\n",
       "       [ 0.07748482, -0.47170742],\n",
       "       [ 0.07444474, -0.47015681],\n",
       "       [ 0.07121895, -0.46867013],\n",
       "       [ 0.06780825, -0.46725117],\n",
       "       [ 0.06421331, -0.4659037 ],\n",
       "       [ 0.06043468, -0.46463147],\n",
       "       [ 0.0564728 , -0.46343822],\n",
       "       [ 0.05232797, -0.4623277 ],\n",
       "       [ 0.04800035, -0.46130363],\n",
       "       [ 0.04348998, -0.46036975],\n",
       "       [ 0.03879673, -0.45952978],\n",
       "       [ 0.03392031, -0.45878746],\n",
       "       [ 0.0288603 , -0.45814653],\n",
       "       [ 0.02361608, -0.45761074],\n",
       "       [ 0.01818687, -0.45718386],\n",
       "       [ 0.01257172, -0.45686968],\n",
       "       [ 0.00676947, -0.456672  ],\n",
       "       [ 0.00077879, -0.45659466],\n",
       "       [-0.00540187, -0.45664151],\n",
       "       [-0.01177424, -0.45681644],\n",
       "       [-0.0183403 , -0.4571234 ],\n",
       "       [-0.02510222, -0.45756636],\n",
       "       [-0.03206242, -0.45814933],\n",
       "       [-0.03922353, -0.4588764 ],\n",
       "       [-0.04658846, -0.45975168],\n",
       "       [-0.05416033, -0.46077937],\n",
       "       [-0.06194255, -0.46196374],\n",
       "       [-0.06993879, -0.4633091 ],\n",
       "       [-0.07815298, -0.46481986],\n",
       "       [-0.08658935, -0.46650053],\n",
       "       [-0.09525243, -0.46835567],\n",
       "       [-0.10414704, -0.47038996],\n",
       "       [-0.11327831, -0.47260818],\n",
       "       [-0.12265169, -0.47501521],\n",
       "       [-0.13227299, -0.47761605]])"
      ]
     },
     "execution_count": 6,
     "metadata": {},
     "output_type": "execute_result"
    }
   ],
   "source": [
    "states"
   ]
  },
  {
   "cell_type": "markdown",
   "id": "eb026abe",
   "metadata": {},
   "source": [
    "A plot of the above with a comparison to the exact expected values (obtained\n",
    "using the Airy functions of the first and second kind):"
   ]
  },
  {
   "cell_type": "code",
   "execution_count": 7,
   "id": "6f1c7a10",
   "metadata": {
    "tags": [
     "remove-input",
     "style-check-ignore",
     "nbval-ignore-output"
    ]
   },
   "outputs": [
    {
     "data": {
      "image/png": "[encoded data removed]",
      "text/plain": [
       "<Figure size 640x480 with 1 Axes>"
      ]
     },
     "metadata": {
      "filenames": {
       "image/png": "/home/runner/work/pfm/pfm/_build/jupyter_execute/tools-for-mathematics/09-differential-equations/why/main_12_0.png"
      }
     },
     "output_type": "display_data"
    }
   ],
   "source": [
    "import matplotlib.pyplot as plt\n",
    "\n",
    "x = sym.Symbol(\"x\")\n",
    "y = sym.Function(\"y\")\n",
    "\n",
    "equation = sym.Eq(lhs=sym.diff(y(x), x, 2), rhs=x * y(x) )\n",
    "solution = sym.dsolve(equation, y(x), ics={y(0): condition[1], y(x).diff(x).subs(x, 0): condition[0]})\n",
    "\n",
    "states = scipy.integrate.odeint(diff, y0=condition, t=xs)\n",
    "plt.figure()\n",
    "plt.scatter(xs, states.T[1], label=\"numeric\", marker=\"+\", color=\"black\")\n",
    "plt.plot(xs, [solution.rhs.subs({x: value}) for value in xs], label=\"closed form\")\n",
    "plt.xlabel(\"$x$\")\n",
    "plt.ylabel(\"y\")\n",
    "plt.legend();"
   ]
  }
 ],
 "metadata": {
  "jupytext": {
   "formats": "ipynb,md:myst",
   "text_representation": {
    "extension": ".md",
    "format_name": "myst",
    "format_version": 0.12,
    "jupytext_version": "1.6.0"
   }
  },
  "kernelspec": {
   "display_name": "Python 3",
   "language": "python",
   "name": "python3"
  },
  "language_info": {
   "codemirror_mode": {
    "name": "ipython",
    "version": 3
   },
   "file_extension": ".py",
   "mimetype": "text/x-python",
   "name": "python",
   "nbconvert_exporter": "python",
   "pygments_lexer": "ipython3",
   "version": "3.10.18"
  },
  "source_map": [
   13,
   33,
   54,
   56,
   69,
   77,
   98,
   105,
   112,
   121,
   132,
   136,
   141
  ]
 },
 "nbformat": 4,
 "nbformat_minor": 5
}