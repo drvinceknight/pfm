{
 "cells": [
  {
   "cell_type": "markdown",
   "id": "86aeaf1f",
   "metadata": {},
   "source": [
    "# Solutions\n",
    "\n",
    "## Question 1\n",
    "\n",
    "> `1`. Create the following differential equations:\n",
    "\n",
    "> `1`. $\\frac{dy}{dx} = \\cos(x)$"
   ]
  },
  {
   "cell_type": "code",
   "execution_count": 1,
   "id": "0fb461e9",
   "metadata": {},
   "outputs": [
    {
     "data": {
      "text/latex": [
       "$\\displaystyle \\frac{d}{d x} y{\\left(x \\right)} = \\cos{\\left(x \\right)}$"
      ],
      "text/plain": [
       "Eq(Derivative(y(x), x), cos(x))"
      ]
     },
     "execution_count": 1,
     "metadata": {},
     "output_type": "execute_result"
    }
   ],
   "source": [
    "import sympy as sym\n",
    "\n",
    "x = sym.Symbol(\"x\")\n",
    "y = sym.Function(\"y\")\n",
    "\n",
    "differential_equation = sym.Eq(sym.diff(y(x), x), sym.cos(x))\n",
    "differential_equation"
   ]
  },
  {
   "cell_type": "markdown",
   "id": "ea5accb4",
   "metadata": {},
   "source": [
    "> `2`. $\\frac{dy}{dx} = 1 - y$"
   ]
  },
  {
   "cell_type": "code",
   "execution_count": 2,
   "id": "56243c8b",
   "metadata": {},
   "outputs": [
    {
     "data": {
      "text/latex": [
       "$\\displaystyle \\frac{d}{d x} y{\\left(x \\right)} = 1 - y{\\left(x \\right)}$"
      ],
      "text/plain": [
       "Eq(Derivative(y(x), x), 1 - y(x))"
      ]
     },
     "execution_count": 2,
     "metadata": {},
     "output_type": "execute_result"
    }
   ],
   "source": [
    "differential_equation = sym.Eq(sym.diff(y(x), x), 1 - y(x))\n",
    "differential_equation"
   ]
  },
  {
   "cell_type": "markdown",
   "id": "6db1b2e7",
   "metadata": {},
   "source": [
    "> `3`. $\\frac{dy}{dx} = \\frac{x - 50}{10}$"
   ]
  },
  {
   "cell_type": "code",
   "execution_count": 3,
   "id": "88e4315e",
   "metadata": {},
   "outputs": [
    {
     "data": {
      "text/latex": [
       "$\\displaystyle \\frac{d}{d x} y{\\left(x \\right)} = \\frac{x}{10} - 5$"
      ],
      "text/plain": [
       "Eq(Derivative(y(x), x), x/10 - 5)"
      ]
     },
     "execution_count": 3,
     "metadata": {},
     "output_type": "execute_result"
    }
   ],
   "source": [
    "differential_equation = sym.Eq(sym.diff(y(x), x), (x - 50) / 10)\n",
    "differential_equation"
   ]
  },
  {
   "cell_type": "markdown",
   "id": "256b2897",
   "metadata": {},
   "source": [
    "> `4`. $\\frac{dy}{dx} = y ^2 \\ln (x)$"
   ]
  },
  {
   "cell_type": "code",
   "execution_count": 4,
   "id": "9ad59046",
   "metadata": {},
   "outputs": [
    {
     "data": {
      "text/latex": [
       "$\\displaystyle \\frac{d}{d x} y{\\left(x \\right)} = y^{2}{\\left(x \\right)} \\log{\\left(x \\right)}$"
      ],
      "text/plain": [
       "Eq(Derivative(y(x), x), y(x)**2*log(x))"
      ]
     },
     "execution_count": 4,
     "metadata": {},
     "output_type": "execute_result"
    }
   ],
   "source": [
    "differential_equation = sym.Eq(sym.diff(y(x), x), y(x) ** 2 * sym.log(x))\n",
    "differential_equation"
   ]
  },
  {
   "cell_type": "markdown",
   "id": "848953b9",
   "metadata": {},
   "source": [
    "> `5`. $\\frac{dy}{dx} = (1 + y) ^ 2$"
   ]
  },
  {
   "cell_type": "code",
   "execution_count": 5,
   "id": "772f2bbb",
   "metadata": {},
   "outputs": [
    {
     "data": {
      "text/latex": [
       "$\\displaystyle \\frac{d}{d x} y{\\left(x \\right)} = \\left(y{\\left(x \\right)} + 1\\right)^{2}$"
      ],
      "text/plain": [
       "Eq(Derivative(y(x), x), (y(x) + 1)**2)"
      ]
     },
     "execution_count": 5,
     "metadata": {},
     "output_type": "execute_result"
    }
   ],
   "source": [
    "differential_equation = sym.Eq(sym.diff(y(x), x), (1 + y(x)) ** 2)\n",
    "differential_equation"
   ]
  },
  {
   "cell_type": "markdown",
   "id": "43b4feaa",
   "metadata": {},
   "source": [
    "## Question 2\n",
    "\n",
    "> `2`. Obtain the general solution for the equations in question 1.\n",
    "\n",
    "> `1`. $\\frac{dy}{dx} = \\cos(x)$"
   ]
  },
  {
   "cell_type": "code",
   "execution_count": 6,
   "id": "f050ccc6",
   "metadata": {},
   "outputs": [
    {
     "data": {
      "text/latex": [
       "$\\displaystyle y{\\left(x \\right)} = C_{1} + \\sin{\\left(x \\right)}$"
      ],
      "text/plain": [
       "Eq(y(x), C1 + sin(x))"
      ]
     },
     "execution_count": 6,
     "metadata": {},
     "output_type": "execute_result"
    }
   ],
   "source": [
    "differential_equation = sym.Eq(sym.diff(y(x), x), sym.cos(x))\n",
    "sym.dsolve(differential_equation, y(x))"
   ]
  },
  {
   "cell_type": "markdown",
   "id": "9c42eaeb",
   "metadata": {},
   "source": [
    "> `2`. $\\frac{dy}{dx} = 1 - y$"
   ]
  },
  {
   "cell_type": "code",
   "execution_count": 7,
   "id": "d427cbbf",
   "metadata": {},
   "outputs": [
    {
     "data": {
      "text/latex": [
       "$\\displaystyle y{\\left(x \\right)} = C_{1} e^{- x} + 1$"
      ],
      "text/plain": [
       "Eq(y(x), C1*exp(-x) + 1)"
      ]
     },
     "execution_count": 7,
     "metadata": {},
     "output_type": "execute_result"
    }
   ],
   "source": [
    "differential_equation = sym.Eq(sym.diff(y(x), x), 1 - y(x))\n",
    "sym.dsolve(differential_equation, y(x))"
   ]
  },
  {
   "cell_type": "markdown",
   "id": "e105cf25",
   "metadata": {},
   "source": [
    "> `3`. $\\frac{dy}{dx} = \\frac{x - 50}{10}$"
   ]
  },
  {
   "cell_type": "code",
   "execution_count": 8,
   "id": "f116e0fa",
   "metadata": {},
   "outputs": [
    {
     "data": {
      "text/latex": [
       "$\\displaystyle y{\\left(x \\right)} = C_{1} + \\frac{x^{2}}{20} - 5 x$"
      ],
      "text/plain": [
       "Eq(y(x), C1 + x**2/20 - 5*x)"
      ]
     },
     "execution_count": 8,
     "metadata": {},
     "output_type": "execute_result"
    }
   ],
   "source": [
    "differential_equation = sym.Eq(sym.diff(y(x), x), (x - 50) / 10)\n",
    "sym.dsolve(differential_equation, y(x))"
   ]
  },
  {
   "cell_type": "markdown",
   "id": "412048cb",
   "metadata": {},
   "source": [
    "> `4`. $\\frac{dy}{dx} = y ^2 \\ln (x)$"
   ]
  },
  {
   "cell_type": "code",
   "execution_count": 9,
   "id": "25fed3cb",
   "metadata": {},
   "outputs": [
    {
     "data": {
      "text/latex": [
       "$\\displaystyle y{\\left(x \\right)} = - \\frac{1}{C_{1} + x \\log{\\left(x \\right)} - x}$"
      ],
      "text/plain": [
       "Eq(y(x), -1/(C1 + x*log(x) - x))"
      ]
     },
     "execution_count": 9,
     "metadata": {},
     "output_type": "execute_result"
    }
   ],
   "source": [
    "differential_equation = sym.Eq(sym.diff(y(x), x), y(x) ** 2 * sym.log(x))\n",
    "sym.dsolve(differential_equation, y(x))"
   ]
  },
  {
   "cell_type": "markdown",
   "id": "69dcb1ea",
   "metadata": {},
   "source": [
    "> `5`. $\\frac{dy}{dx} = (1 + y) ^ 2$"
   ]
  },
  {
   "cell_type": "code",
   "execution_count": 10,
   "id": "1946d52d",
   "metadata": {},
   "outputs": [
    {
     "data": {
      "text/latex": [
       "$\\displaystyle y{\\left(x \\right)} = \\frac{- C_{1} + x + 1}{C_{1} - x}$"
      ],
      "text/plain": [
       "Eq(y(x), (-C1 + x + 1)/(C1 - x))"
      ]
     },
     "execution_count": 10,
     "metadata": {},
     "output_type": "execute_result"
    }
   ],
   "source": [
    "differential_equation = sym.Eq(sym.diff(y(x), x), (1 + y(x)) ** 2)\n",
    "sym.dsolve(differential_equation, y(x))"
   ]
  },
  {
   "cell_type": "markdown",
   "id": "1d0f6a3f",
   "metadata": {},
   "source": [
    "## Question 3\n",
    "\n",
    "> `3`. Obtain the particular solution for the equations in question 1 with\n",
    "> the following particular conditions:\n",
    "\n",
    "> `1`. $y(0) = \\pi$"
   ]
  },
  {
   "cell_type": "code",
   "execution_count": 11,
   "id": "194be09f",
   "metadata": {},
   "outputs": [
    {
     "data": {
      "text/latex": [
       "$\\displaystyle y{\\left(x \\right)} = \\sin{\\left(x \\right)} + \\pi$"
      ],
      "text/plain": [
       "Eq(y(x), sin(x) + pi)"
      ]
     },
     "execution_count": 11,
     "metadata": {},
     "output_type": "execute_result"
    }
   ],
   "source": [
    "conditions = {y(0): sym.pi}\n",
    "differential_equation = sym.Eq(sym.diff(y(x), x), sym.cos(x))\n",
    "sym.dsolve(differential_equation, y(x), ics=conditions)"
   ]
  },
  {
   "cell_type": "markdown",
   "id": "d54e47c3",
   "metadata": {},
   "source": [
    "> `2`. $y(2) = 3$"
   ]
  },
  {
   "cell_type": "code",
   "execution_count": 12,
   "id": "6b719aad",
   "metadata": {},
   "outputs": [
    {
     "data": {
      "text/latex": [
       "$\\displaystyle y{\\left(x \\right)} = 1 + 2 e^{2} e^{- x}$"
      ],
      "text/plain": [
       "Eq(y(x), 1 + 2*exp(2)*exp(-x))"
      ]
     },
     "execution_count": 12,
     "metadata": {},
     "output_type": "execute_result"
    }
   ],
   "source": [
    "conditions = {y(2): 3}\n",
    "differential_equation = sym.Eq(sym.diff(y(x), x), 1 - y(x))\n",
    "sym.dsolve(differential_equation, y(x), ics=conditions)"
   ]
  },
  {
   "cell_type": "markdown",
   "id": "9de92963",
   "metadata": {},
   "source": [
    "> `3`. $y(50) = 1$"
   ]
  },
  {
   "cell_type": "code",
   "execution_count": 13,
   "id": "20e2bc98",
   "metadata": {},
   "outputs": [
    {
     "data": {
      "text/latex": [
       "$\\displaystyle y{\\left(x \\right)} = \\frac{x^{2}}{20} - 5 x + 126$"
      ],
      "text/plain": [
       "Eq(y(x), x**2/20 - 5*x + 126)"
      ]
     },
     "execution_count": 13,
     "metadata": {},
     "output_type": "execute_result"
    }
   ],
   "source": [
    "conditions = {y(50): 1}\n",
    "differential_equation = sym.Eq(sym.diff(y(x), x), (x - 50) / 10)\n",
    "sym.dsolve(differential_equation, y(x), ics=conditions)"
   ]
  },
  {
   "cell_type": "markdown",
   "id": "7f833196",
   "metadata": {},
   "source": [
    "> `4`. $y(e) = 1$"
   ]
  },
  {
   "cell_type": "code",
   "execution_count": 14,
   "id": "d765c612",
   "metadata": {},
   "outputs": [
    {
     "data": {
      "text/latex": [
       "$\\displaystyle y{\\left(x \\right)} = - \\frac{1}{x \\log{\\left(x \\right)} - x - 1}$"
      ],
      "text/plain": [
       "Eq(y(x), -1/(x*log(x) - x - 1))"
      ]
     },
     "execution_count": 14,
     "metadata": {},
     "output_type": "execute_result"
    }
   ],
   "source": [
    "conditions = {y(sym.exp(1)): 1}\n",
    "differential_equation = sym.Eq(sym.diff(y(x), x), y(x) ** 2 * sym.log(x))\n",
    "sym.dsolve(differential_equation, y(x), ics=conditions)"
   ]
  },
  {
   "cell_type": "markdown",
   "id": "02107cb7",
   "metadata": {},
   "source": [
    "> `5`. $y(-1) = 3$"
   ]
  },
  {
   "cell_type": "code",
   "execution_count": 15,
   "id": "f7014cbf",
   "metadata": {},
   "outputs": [
    {
     "data": {
      "text/latex": [
       "$\\displaystyle y{\\left(x \\right)} = \\frac{x + \\frac{7}{4}}{- x - \\frac{3}{4}}$"
      ],
      "text/plain": [
       "Eq(y(x), (x + 7/4)/(-x - 3/4))"
      ]
     },
     "execution_count": 15,
     "metadata": {},
     "output_type": "execute_result"
    }
   ],
   "source": [
    "conditions = {y(-1): 3}\n",
    "differential_equation = sym.Eq(sym.diff(y(x), x), (1 + y(x)) ** 2)\n",
    "sym.dsolve(differential_equation, y(x), ics=conditions)"
   ]
  },
  {
   "cell_type": "markdown",
   "id": "cae96c5a",
   "metadata": {},
   "source": [
    "## Question 4\n",
    "\n",
    "> `4`. The rate of increase of a population ($p$) is equal to 1% of the size of the\n",
    "> population.\n",
    "\n",
    "> `1`. Define the differential equation that models this situation."
   ]
  },
  {
   "cell_type": "code",
   "execution_count": 16,
   "id": "8c067388",
   "metadata": {},
   "outputs": [
    {
     "data": {
      "text/latex": [
       "$\\displaystyle \\frac{d}{d t} p{\\left(t \\right)} = \\frac{p{\\left(t \\right)}}{100}$"
      ],
      "text/plain": [
       "Eq(Derivative(p(t), t), p(t)/100)"
      ]
     },
     "execution_count": 16,
     "metadata": {},
     "output_type": "execute_result"
    }
   ],
   "source": [
    "p = sym.Function(\"p\")\n",
    "t = sym.Symbol(\"t\")\n",
    "\n",
    "differential_equation = sym.Eq(sym.diff(p(t), t), p(t) / 100)\n",
    "differential_equation"
   ]
  },
  {
   "cell_type": "markdown",
   "id": "94233a0f",
   "metadata": {},
   "source": [
    "> `2`. Given that $p(0)=5000$ find the population after 5 time units."
   ]
  },
  {
   "cell_type": "code",
   "execution_count": 17,
   "id": "e98aa60b",
   "metadata": {},
   "outputs": [
    {
     "data": {
      "text/latex": [
       "$\\displaystyle p{\\left(t \\right)} = 5000 e^{\\frac{t}{100}}$"
      ],
      "text/plain": [
       "Eq(p(t), 5000*exp(t/100))"
      ]
     },
     "execution_count": 17,
     "metadata": {},
     "output_type": "execute_result"
    }
   ],
   "source": [
    "condition = {p(0): 5000}\n",
    "sym.dsolve(differential_equation, p(t), ics=condition)"
   ]
  },
  {
   "cell_type": "markdown",
   "id": "75ac5824",
   "metadata": {},
   "source": [
    "Thus the population after 5 time units is:"
   ]
  },
  {
   "cell_type": "code",
   "execution_count": 18,
   "id": "bd6b0549",
   "metadata": {},
   "outputs": [
    {
     "data": {
      "text/latex": [
       "$\\displaystyle 5000 e^{\\frac{1}{20}}$"
      ],
      "text/plain": [
       "5000*exp(1/20)"
      ]
     },
     "execution_count": 18,
     "metadata": {},
     "output_type": "execute_result"
    }
   ],
   "source": [
    "5000 * sym.exp(sym.S(5) / 100)"
   ]
  },
  {
   "cell_type": "markdown",
   "id": "2af43bb9",
   "metadata": {},
   "source": [
    "## Question 5\n",
    "\n",
    "> `5`. The rate of change of the temperature of a hot drink is proportional to the\n",
    "> difference between the temperature of the drink ($T$) and the room temperature ($T_R$).\n",
    "\n",
    "> `1`. Define the differential equation that models this situation."
   ]
  },
  {
   "cell_type": "code",
   "execution_count": 19,
   "id": "4c3d8c13",
   "metadata": {},
   "outputs": [
    {
     "data": {
      "text/latex": [
       "$\\displaystyle \\frac{d}{d t} T{\\left(t \\right)} = k \\left(- T_{r} + T{\\left(t \\right)}\\right)$"
      ],
      "text/plain": [
       "Eq(Derivative(T(t), t), k*(-T_r + T(t)))"
      ]
     },
     "execution_count": 19,
     "metadata": {},
     "output_type": "execute_result"
    }
   ],
   "source": [
    "T = sym.Function(\"T\")\n",
    "t = sym.Symbol(\"t\")\n",
    "T_r = sym.Symbol(\"T_r\")\n",
    "k = sym.Symbol(\"k\")\n",
    "\n",
    "differential_equation = sym.Eq(sym.diff(T(t), t), k * (T(t) - T_r))\n",
    "differential_equation"
   ]
  },
  {
   "cell_type": "markdown",
   "id": "90996c13",
   "metadata": {},
   "source": [
    "> `2`. Solve the differential equation."
   ]
  },
  {
   "cell_type": "code",
   "execution_count": 20,
   "id": "674e2654",
   "metadata": {},
   "outputs": [
    {
     "data": {
      "text/latex": [
       "$\\displaystyle T{\\left(t \\right)} = C_{1} e^{k t} + T_{r}$"
      ],
      "text/plain": [
       "Eq(T(t), C1*exp(k*t) + T_r)"
      ]
     },
     "execution_count": 20,
     "metadata": {},
     "output_type": "execute_result"
    }
   ],
   "source": [
    "sym.dsolve(differential_equation, T(t))"
   ]
  },
  {
   "cell_type": "markdown",
   "id": "cac86a67",
   "metadata": {},
   "source": [
    "> `3`. Given that $T(0) = 100$ and the room temperature is $T_R=20$ obtain the\n",
    "> particular solution."
   ]
  },
  {
   "cell_type": "code",
   "execution_count": 21,
   "id": "e3597b59",
   "metadata": {},
   "outputs": [
    {
     "data": {
      "text/latex": [
       "$\\displaystyle T{\\left(t \\right)} = 80 e^{k t} + 20$"
      ],
      "text/plain": [
       "Eq(T(t), 80*exp(k*t) + 20)"
      ]
     },
     "execution_count": 21,
     "metadata": {},
     "output_type": "execute_result"
    }
   ],
   "source": [
    "condition = {T(0): 100}\n",
    "particular_differential_equation = differential_equation.subs({T_r: 20})\n",
    "sym.dsolve(particular_differential_equation, T(t), ics=condition)"
   ]
  },
  {
   "cell_type": "markdown",
   "id": "aa50e3e2",
   "metadata": {},
   "source": [
    "> `4`. Use the particular solution to identify how on it will take for the drink\n",
    "> to be ready for consumption (a temperature of 80) given that after 3 time\n",
    "> units $T(3)=90$.\n",
    "\n",
    "First let us find the missing variable $k$ by using the fact that $T(3) = 90$:"
   ]
  },
  {
   "cell_type": "code",
   "execution_count": 22,
   "id": "36736dad",
   "metadata": {},
   "outputs": [
    {
     "data": {
      "text/latex": [
       "$\\displaystyle \\left\\{\\frac{2 n i \\pi}{3} + \\frac{\\log{\\left(\\frac{7}{8} \\right)}}{3}\\; \\middle|\\; n \\in \\mathbb{Z}\\right\\}$"
      ],
      "text/plain": [
       "ImageSet(Lambda(_n, 2*_n*I*pi/3 + log(7/8)/3), Integers)"
      ]
     },
     "execution_count": 22,
     "metadata": {},
     "output_type": "execute_result"
    }
   ],
   "source": [
    "equation = sym.Eq(80 * sym.exp(k * 3) + 20, 90)\n",
    "sym.solveset(equation, k)"
   ]
  },
  {
   "cell_type": "markdown",
   "id": "4593d83d",
   "metadata": {},
   "source": [
    "The set of solutions is infinite but contains a single real value element (when\n",
    "$n=0$):"
   ]
  },
  {
   "cell_type": "code",
   "execution_count": 23,
   "id": "875d8c10",
   "metadata": {},
   "outputs": [],
   "source": [
    "particular_k = sym.log(sym.S(7) / 8) / 3"
   ]
  },
  {
   "cell_type": "markdown",
   "id": "c27a4a61",
   "metadata": {},
   "source": [
    "The final equation to be solved is given by:"
   ]
  },
  {
   "cell_type": "code",
   "execution_count": 24,
   "id": "ca0f93ae",
   "metadata": {},
   "outputs": [
    {
     "data": {
      "text/latex": [
       "$\\displaystyle \\left\\{\\frac{3 \\cdot \\left(2 n i \\pi + \\log{\\left(\\frac{3}{4} \\right)}\\right)}{\\log{\\left(\\frac{7}{8} \\right)}}\\; \\middle|\\; n \\in \\mathbb{Z}\\right\\}$"
      ],
      "text/plain": [
       "ImageSet(Lambda(_n, 3*(2*_n*I*pi + log(3/4))/log(7/8)), Integers)"
      ]
     },
     "execution_count": 24,
     "metadata": {},
     "output_type": "execute_result"
    }
   ],
   "source": [
    "equation = sym.Eq(80 * sym.exp(particular_k * t) + 20, 80)\n",
    "sym.solveset(equation, t)"
   ]
  },
  {
   "cell_type": "markdown",
   "id": "ca596eaa",
   "metadata": {},
   "source": [
    "which has a single real valued element (when $n=0$):"
   ]
  },
  {
   "cell_type": "code",
   "execution_count": 25,
   "id": "e58a4a6e",
   "metadata": {},
   "outputs": [
    {
     "data": {
      "text/latex": [
       "$\\displaystyle \\frac{3 \\log{\\left(\\frac{3}{4} \\right)}}{\\log{\\left(\\frac{7}{8} \\right)}}$"
      ],
      "text/plain": [
       "3*log(3/4)/log(7/8)"
      ]
     },
     "execution_count": 25,
     "metadata": {},
     "output_type": "execute_result"
    }
   ],
   "source": [
    "t_ready = 3 * sym.log(sym.S(3) / 4)/ sym.log(sym.S(7) / 8)\n",
    "t_ready"
   ]
  },
  {
   "cell_type": "markdown",
   "id": "bb1d9bd7",
   "metadata": {},
   "source": [
    "Which means the hot drink will be ready in about 7 minutes:"
   ]
  },
  {
   "cell_type": "code",
   "execution_count": 26,
   "id": "78f5c782",
   "metadata": {},
   "outputs": [
    {
     "data": {
      "text/plain": [
       "6.463245835997123"
      ]
     },
     "execution_count": 26,
     "metadata": {},
     "output_type": "execute_result"
    }
   ],
   "source": [
    "float(t_ready)"
   ]
  }
 ],
 "metadata": {
  "jupytext": {
   "formats": "ipynb,md:myst",
   "text_representation": {
    "extension": ".md",
    "format_name": "myst",
    "format_version": 0.12,
    "jupytext_version": "1.6.0"
   }
  },
  "kernelspec": {
   "display_name": "Python 3",
   "language": "python",
   "name": "python3"
  },
  "language_info": {
   "codemirror_mode": {
    "name": "ipython",
    "version": 3
   },
   "file_extension": ".py",
   "mimetype": "text/x-python",
   "name": "python",
   "nbconvert_exporter": "python",
   "pygments_lexer": "ipython3",
   "version": "3.10.13"
  },
  "source_map": [
   13,
   23,
   31,
   35,
   38,
   42,
   45,
   49,
   52,
   56,
   59,
   67,
   70,
   74,
   77,
   81,
   84,
   88,
   91,
   95,
   98,
   107,
   111,
   115,
   119,
   123,
   127,
   131,
   135,
   139,
   143,
   152,
   158,
   162,
   165,
   169,
   171,
   180,
   188,
   192,
   194,
   199,
   203,
   211,
   214,
   219,
   221,
   225,
   228,
   232,
   235,
   239
  ]
 },
 "nbformat": 4,
 "nbformat_minor": 5
}