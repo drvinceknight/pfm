{
 "cells": [
  {
   "cell_type": "markdown",
   "id": "7095c87c",
   "metadata": {},
   "source": [
    "# Exercises\n",
    "\n",
    "**After** completing the tutorial attempt the following exercises.\n",
    "\n",
    "**If you are not sure how to do something, have a look at the \"How To\" section.**\n",
    "\n",
    "1. Create the following differential equations:\n",
    "\n",
    "   1. $\\frac{dy}{dx} = \\cos(x)$\n",
    "   2. $\\frac{dy}{dx} = 1 - y$\n",
    "   3. $\\frac{dy}{dx} = \\frac{x - 50}{10}$\n",
    "   4. $\\frac{dy}{dx} = y ^2 \\ln (x)$\n",
    "   5. $\\frac{dy}{dx} = (1 + y) ^ 2$\n",
    "\n",
    "2. Obtain the general solution for the equations in question 1.\n",
    "\n",
    "3. Obtain the particular solution for the equations in question 1 with\n",
    "   the following particular conditions:\n",
    "\n",
    "   1. $y(0) = \\pi$\n",
    "   2. $y(2) = 3$\n",
    "   3. $y(50) = 1$\n",
    "   4. $y(e) = 1$\n",
    "   5. $y(-1) = 3$\n",
    "\n",
    "4. The rate of increase of a population ($p$) is equal to 1% of the size of the\n",
    "   population.\n",
    "\n",
    "   1. Define the differential equation that models this situation.\n",
    "   2. Given that $p(0)=5000$ find the population after 5 time units.\n",
    "\n",
    "5. The rate of change of the temperature of a hot drink is proportional to the\n",
    "   difference between the temperature of the drink ($T$) and the room temperature ($T_R$).\n",
    "\n",
    "   1. Define the differential equation that models this situation.\n",
    "   2. Solve the differentia equation.\n",
    "   3. Given that $T(0) = 100$ and the room temperature is $$T_R=20$$ obtain the\n",
    "      particular solution.\n",
    "   4. Use the particular solution to identify how on it will take for the drink\n",
    "      to be ready for consumption (a temperature of 80) given that after 3 time\n",
    "      units $T(3)=90$."
   ]
  }
 ],
 "metadata": {
  "jupytext": {
   "formats": "ipynb,md:myst",
   "text_representation": {
    "extension": ".md",
    "format_name": "myst",
    "format_version": 0.12,
    "jupytext_version": "1.6.0"
   }
  },
  "kernelspec": {
   "display_name": "Python 3",
   "language": "python",
   "name": "python3"
  },
  "language_info": {
   "codemirror_mode": {
    "name": "ipython",
    "version": 3
   },
   "file_extension": ".py",
   "mimetype": "text/x-python",
   "name": "python",
   "nbconvert_exporter": "python",
   "pygments_lexer": "ipython3",
   "version": "3.10.13"
  },
  "source_map": [
   13
  ]
 },
 "nbformat": 4,
 "nbformat_minor": 5
}