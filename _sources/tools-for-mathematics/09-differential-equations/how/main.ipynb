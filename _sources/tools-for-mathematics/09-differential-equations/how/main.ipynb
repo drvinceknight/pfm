{
 "cells": [
  {
   "cell_type": "markdown",
   "id": "f78847df",
   "metadata": {},
   "source": [
    "# How\n",
    "\n",
    "## How to create a symbolic function\n",
    "\n",
    "To create a symbolic function use `sympy.Function`.\n",
    "\n",
    "````{tip}\n",
    "```\n",
    "sympy.Function(\"y\")\n",
    "```\n",
    "````\n",
    "\n",
    "For example:"
   ]
  },
  {
   "cell_type": "code",
   "execution_count": 1,
   "id": "e6de22ef",
   "metadata": {},
   "outputs": [
    {
     "data": {
      "text/plain": [
       "y"
      ]
     },
     "execution_count": 1,
     "metadata": {},
     "output_type": "execute_result"
    }
   ],
   "source": [
    "import sympy as sym\n",
    "\n",
    "y = sym.Function(\"y\")\n",
    "y"
   ]
  },
  {
   "cell_type": "markdown",
   "id": "b9f9ca2b",
   "metadata": {},
   "source": [
    "We can pass symbolic variables to this symbolic function:"
   ]
  },
  {
   "cell_type": "code",
   "execution_count": 2,
   "id": "9182d2fe",
   "metadata": {},
   "outputs": [
    {
     "data": {
      "text/latex": [
       "$\\displaystyle y{\\left(x \\right)}$"
      ],
      "text/plain": [
       "y(x)"
      ]
     },
     "execution_count": 2,
     "metadata": {},
     "output_type": "execute_result"
    }
   ],
   "source": [
    "x = sym.Symbol(\"x\")\n",
    "y(x)"
   ]
  },
  {
   "cell_type": "markdown",
   "id": "9af3d071",
   "metadata": {},
   "source": [
    "We can create the derivative of a symbolic function:"
   ]
  },
  {
   "cell_type": "code",
   "execution_count": 3,
   "id": "4b7d8b7d",
   "metadata": {},
   "outputs": [
    {
     "data": {
      "text/latex": [
       "$\\displaystyle \\frac{d}{d x} y{\\left(x \\right)}$"
      ],
      "text/plain": [
       "Derivative(y(x), x)"
      ]
     },
     "execution_count": 3,
     "metadata": {},
     "output_type": "execute_result"
    }
   ],
   "source": [
    "sym.diff(y(x), x)"
   ]
  },
  {
   "cell_type": "markdown",
   "id": "6d8080f7",
   "metadata": {},
   "source": [
    "## How to create a differential equation\n",
    "\n",
    "To create a differential equation we use `sympy.Eq`.\n",
    "\n",
    "````{tip}\n",
    "```\n",
    "import sympy as sym\n",
    "\n",
    "y = sym.Function(\"y\")\n",
    "x = sym.Symbol(\"x\")\n",
    "\n",
    "equation = sym.Eq(lhs, rhs)\n",
    "```\n",
    "````\n",
    "\n",
    "Where `lhs` and `rhs` are expressions in $y$, $\\frac{dy}{dx}$ and $x$.\n",
    "\n",
    "For example to create the differential equation: $\\frac{dy}{dx} = \\cos(x) y$\n",
    "we would write:"
   ]
  },
  {
   "cell_type": "code",
   "execution_count": 4,
   "id": "be9e5815",
   "metadata": {},
   "outputs": [
    {
     "data": {
      "text/latex": [
       "$\\displaystyle \\frac{d}{d x} y{\\left(x \\right)} = y{\\left(x \\right)} \\cos{\\left(x \\right)}$"
      ],
      "text/plain": [
       "Eq(Derivative(y(x), x), y(x)*cos(x))"
      ]
     },
     "execution_count": 4,
     "metadata": {},
     "output_type": "execute_result"
    }
   ],
   "source": [
    "import sympy as sym\n",
    "\n",
    "y = sym.Function(\"y\")\n",
    "x = sym.Symbol(\"x\")\n",
    "\n",
    "lhs = sym.diff(y(x), x)\n",
    "rhs = sym.cos(x) * y(x)\n",
    "differential_equation = sym.Eq(lhs, rhs)\n",
    "differential_equation"
   ]
  },
  {
   "cell_type": "markdown",
   "id": "cb80a264",
   "metadata": {},
   "source": [
    "## How to obtain the general solution of a differential equation\n",
    "\n",
    "To obtain the generation solution to a differential equation we use:\n",
    "`sympy.dsolve`.\n",
    "\n",
    "````{tip}\n",
    "```\n",
    "import sympy as sym\n",
    "\n",
    "y = sym.Function(\"y\")\n",
    "x = sym.Symbol(\"x\")\n",
    "\n",
    "equation = sym.Eq(lhs, rhs)\n",
    "sym.dsolve(equation, y(x))\n",
    "```\n",
    "````\n",
    "\n",
    "For example to solve the differential equation: $\\frac{dy}{dx} = \\cos(x) y$ we\n",
    "would write:"
   ]
  },
  {
   "cell_type": "code",
   "execution_count": 5,
   "id": "626863a8",
   "metadata": {},
   "outputs": [
    {
     "data": {
      "text/latex": [
       "$\\displaystyle y{\\left(x \\right)} = C_{1} e^{\\sin{\\left(x \\right)}}$"
      ],
      "text/plain": [
       "Eq(y(x), C1*exp(sin(x)))"
      ]
     },
     "execution_count": 5,
     "metadata": {},
     "output_type": "execute_result"
    }
   ],
   "source": [
    "import sympy as sym\n",
    "\n",
    "y = sym.Function(\"y\")\n",
    "x = sym.Symbol(\"x\")\n",
    "\n",
    "lhs = sym.diff(y(x), x)\n",
    "rhs = sym.cos(x) * y(x)\n",
    "differential_equation = sym.Eq(lhs, rhs)\n",
    "sym.dsolve(differential_equation, y(x))"
   ]
  },
  {
   "cell_type": "markdown",
   "id": "66f673c4",
   "metadata": {},
   "source": [
    "## How to obtain the particular solution of a differential equation\n",
    "\n",
    "To obtain the particular solution to a differential equation we use:\n",
    "`sympy.dsolve` and pass the initial conditions: `ics`.\n",
    "\n",
    "````{tip}\n",
    "```\n",
    "import sympy as sym\n",
    "\n",
    "y = sym.Function(\"y\")\n",
    "x = sym.Symbol(\"x\")\n",
    "\n",
    "equation = sym.Eq(lhs, rhs)\n",
    "sym.dsolve(equation, y(x), ics={y(x_0): value})\n",
    "```\n",
    "````\n",
    "\n",
    "For example to solve the differential equation: $\\frac{dy}{dx} = \\cos(x) y$\n",
    "with the condition $y(5)= \\pi$ we\n",
    "would write:"
   ]
  },
  {
   "cell_type": "code",
   "execution_count": 6,
   "id": "294bb3a6",
   "metadata": {},
   "outputs": [
    {
     "data": {
      "text/latex": [
       "$\\displaystyle y{\\left(x \\right)} = \\pi e^{- \\sin{\\left(5 \\right)}} e^{\\sin{\\left(x \\right)}}$"
      ],
      "text/plain": [
       "Eq(y(x), pi*exp(-sin(5))*exp(sin(x)))"
      ]
     },
     "execution_count": 6,
     "metadata": {},
     "output_type": "execute_result"
    }
   ],
   "source": [
    "import sympy as sym\n",
    "\n",
    "y = sym.Function(\"y\")\n",
    "x = sym.Symbol(\"x\")\n",
    "\n",
    "lhs = sym.diff(y(x), x)\n",
    "rhs = sym.cos(x) * y(x)\n",
    "differential_equation = sym.Eq(lhs, rhs)\n",
    "\n",
    "condition = {y(5): sym.pi}\n",
    "sym.dsolve(differential_equation, y(x), ics=condition)"
   ]
  },
  {
   "cell_type": "markdown",
   "id": "df67600f",
   "metadata": {},
   "source": [
    "```{note}\n",
    "The syntax used here is similar to the way we\n",
    "{ref}`substitute values in to algebraic expressions <how-to-substitute-a-value-in-to-an-expression>`.\n",
    "```"
   ]
  }
 ],
 "metadata": {
  "jupytext": {
   "formats": "ipynb,md:myst",
   "text_representation": {
    "extension": ".md",
    "format_name": "myst",
    "format_version": 0.12,
    "jupytext_version": "1.6.0"
   }
  },
  "kernelspec": {
   "display_name": "Python 3",
   "language": "python",
   "name": "python3"
  },
  "language_info": {
   "codemirror_mode": {
    "name": "ipython",
    "version": 3
   },
   "file_extension": ".py",
   "mimetype": "text/x-python",
   "name": "python",
   "nbconvert_exporter": "python",
   "pygments_lexer": "ipython3",
   "version": "3.10.14"
  },
  "source_map": [
   13,
   29,
   34,
   38,
   41,
   45,
   47,
   69,
   79,
   101,
   111,
   134,
   146
  ]
 },
 "nbformat": 4,
 "nbformat_minor": 5
}