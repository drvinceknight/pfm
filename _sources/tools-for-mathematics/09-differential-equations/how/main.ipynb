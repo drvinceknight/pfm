{
 "cells": [
  {
   "cell_type": "markdown",
   "id": "5d23560e",
   "metadata": {},
   "source": [
    "# How\n",
    "\n",
    "## How to create a symbolic function\n",
    "\n",
    "To create a symbolic numerical function use `sympy.Function`.\n",
    "\n",
    "````{tip}\n",
    "```\n",
    "sympy.S(\"y\")\n",
    "```\n",
    "````\n",
    "\n",
    "For example:"
   ]
  },
  {
   "cell_type": "code",
   "execution_count": 1,
   "id": "ec5e1804",
   "metadata": {},
   "outputs": [
    {
     "data": {
      "text/plain": [
       "y"
      ]
     },
     "execution_count": 1,
     "metadata": {},
     "output_type": "execute_result"
    }
   ],
   "source": [
    "import sympy as sym\n",
    "\n",
    "y = sym.Function(\"y\")\n",
    "y"
   ]
  },
  {
   "cell_type": "markdown",
   "id": "a62bf265",
   "metadata": {},
   "source": [
    "We can pass symbolic variables to this symbolic function:"
   ]
  },
  {
   "cell_type": "code",
   "execution_count": 2,
   "id": "d77ce388",
   "metadata": {},
   "outputs": [
    {
     "data": {
      "text/latex": [
       "$\\displaystyle y{\\left(x \\right)}$"
      ],
      "text/plain": [
       "y(x)"
      ]
     },
     "execution_count": 2,
     "metadata": {},
     "output_type": "execute_result"
    }
   ],
   "source": [
    "x = sym.Symbol(\"x\")\n",
    "y(x)"
   ]
  },
  {
   "cell_type": "markdown",
   "id": "718d4eac",
   "metadata": {},
   "source": [
    "We can create the derivative of a symbolic function:"
   ]
  },
  {
   "cell_type": "code",
   "execution_count": 3,
   "id": "c507e1b1",
   "metadata": {},
   "outputs": [
    {
     "data": {
      "text/latex": [
       "$\\displaystyle \\frac{d}{d x} y{\\left(x \\right)}$"
      ],
      "text/plain": [
       "Derivative(y(x), x)"
      ]
     },
     "execution_count": 3,
     "metadata": {},
     "output_type": "execute_result"
    }
   ],
   "source": [
    "sym.diff(y(x), x)"
   ]
  },
  {
   "cell_type": "markdown",
   "id": "fa3229e3",
   "metadata": {},
   "source": [
    "## How to create a differential equation\n",
    "\n",
    "To create a differential equation we use `sympy.Eq`.\n",
    "\n",
    "````{tip}\n",
    "```\n",
    "import sympy as sym\n",
    "\n",
    "y = sym.Function(\"y\")\n",
    "x = sym.Symbol(\"x\")\n",
    "\n",
    "equation = sym.Eq(lhs, rhs)\n",
    "```\n",
    "````\n",
    "\n",
    "Where `lhs` and `rhs` are expressions in $y$, $\\frac{dy}{dx}$ and $x$.\n",
    "\n",
    "For example to create the differential equation: $\\frac{dy}{dx} = \\cos(x) y$\n",
    "we would write:"
   ]
  },
  {
   "cell_type": "code",
   "execution_count": 4,
   "id": "8e320a07",
   "metadata": {},
   "outputs": [
    {
     "data": {
      "text/latex": [
       "$\\displaystyle \\frac{d}{d x} y{\\left(x \\right)} = y{\\left(x \\right)} \\cos{\\left(x \\right)}$"
      ],
      "text/plain": [
       "Eq(Derivative(y(x), x), y(x)*cos(x))"
      ]
     },
     "execution_count": 4,
     "metadata": {},
     "output_type": "execute_result"
    }
   ],
   "source": [
    "import sympy as sym\n",
    "\n",
    "y = sym.Function(\"y\")\n",
    "x = sym.Symbol(\"x\")\n",
    "\n",
    "lhs = sym.diff(y(x), x)\n",
    "rhs = sym.cos(x) * y(x)\n",
    "differential_equation = sym.Eq(lhs, rhs)\n",
    "differential_equation"
   ]
  },
  {
   "cell_type": "markdown",
   "id": "a8acb204",
   "metadata": {},
   "source": [
    "## How to obtain the general solution of a differential equation\n",
    "\n",
    "To obtain the generation solution to a differential equation we use:\n",
    "`sympy.dsolve`.\n",
    "\n",
    "````{tip}\n",
    "```\n",
    "import sympy as sym\n",
    "\n",
    "y = sym.Function(\"y\")\n",
    "x = sym.Symbol(\"x\")\n",
    "\n",
    "equation = sym.Eq(lhs, rhs)\n",
    "sym.dsolve(equation, y(x))\n",
    "```\n",
    "````\n",
    "\n",
    "For example to solve the differential equation: $\\frac{dy}{dx} = \\cos(x) y$ we\n",
    "would write:"
   ]
  },
  {
   "cell_type": "code",
   "execution_count": 5,
   "id": "a0eacc21",
   "metadata": {},
   "outputs": [
    {
     "data": {
      "text/latex": [
       "$\\displaystyle y{\\left(x \\right)} = C_{1} e^{\\sin{\\left(x \\right)}}$"
      ],
      "text/plain": [
       "Eq(y(x), C1*exp(sin(x)))"
      ]
     },
     "execution_count": 5,
     "metadata": {},
     "output_type": "execute_result"
    }
   ],
   "source": [
    "import sympy as sym\n",
    "\n",
    "y = sym.Function(\"y\")\n",
    "x = sym.Symbol(\"x\")\n",
    "\n",
    "lhs = sym.diff(y(x), x)\n",
    "rhs = sym.cos(x) * y(x)\n",
    "differential_equation = sym.Eq(lhs, rhs)\n",
    "sym.dsolve(differential_equation, y(x))"
   ]
  },
  {
   "cell_type": "markdown",
   "id": "dfb37d20",
   "metadata": {},
   "source": [
    "## How to obtain the particular solution of a differential equation\n",
    "\n",
    "To obtain the particular solution to a differential equation we use:\n",
    "`sympy.dsolve` and pass the initial conditions: `ics`.\n",
    "\n",
    "````{tip}\n",
    "```\n",
    "import sympy as sym\n",
    "\n",
    "y = sym.Function(\"y\")\n",
    "x = sym.Symbol(\"x\")\n",
    "\n",
    "equation = sym.Eq(lhs, rhs)\n",
    "sym.dsolve(equation, y(x), ics={y(x_0): value})\n",
    "```\n",
    "````\n",
    "\n",
    "For example to solve the differential equation: $\\frac{dy}{dx} = \\cos(x) y$\n",
    "with the condition $y(5)= \\pi$ we\n",
    "would write:"
   ]
  },
  {
   "cell_type": "code",
   "execution_count": 6,
   "id": "54ddfcf1",
   "metadata": {},
   "outputs": [
    {
     "data": {
      "text/latex": [
       "$\\displaystyle y{\\left(x \\right)} = \\pi e^{- \\sin{\\left(5 \\right)}} e^{\\sin{\\left(x \\right)}}$"
      ],
      "text/plain": [
       "Eq(y(x), pi*exp(-sin(5))*exp(sin(x)))"
      ]
     },
     "execution_count": 6,
     "metadata": {},
     "output_type": "execute_result"
    }
   ],
   "source": [
    "import sympy as sym\n",
    "\n",
    "y = sym.Function(\"y\")\n",
    "x = sym.Symbol(\"x\")\n",
    "\n",
    "lhs = sym.diff(y(x), x)\n",
    "rhs = sym.cos(x) * y(x)\n",
    "differential_equation = sym.Eq(lhs, rhs)\n",
    "\n",
    "condition = {y(5): sym.pi}\n",
    "sym.dsolve(differential_equation, y(x), ics=condition)"
   ]
  },
  {
   "cell_type": "markdown",
   "id": "13143244",
   "metadata": {},
   "source": [
    "```{note}\n",
    "The syntax used here is similar to the way we\n",
    "{ref}`substitute values in to algebraic expressions <how-to-substitute-a-value-in-to-an-expression>`.\n",
    "```"
   ]
  }
 ],
 "metadata": {
  "jupytext": {
   "formats": "ipynb,md:myst",
   "text_representation": {
    "extension": ".md",
    "format_name": "myst",
    "format_version": 0.12,
    "jupytext_version": "1.6.0"
   }
  },
  "kernelspec": {
   "display_name": "Python 3",
   "language": "python",
   "name": "python3"
  },
  "language_info": {
   "codemirror_mode": {
    "name": "ipython",
    "version": 3
   },
   "file_extension": ".py",
   "mimetype": "text/x-python",
   "name": "python",
   "nbconvert_exporter": "python",
   "pygments_lexer": "ipython3",
   "version": "3.10.13"
  },
  "source_map": [
   13,
   29,
   34,
   38,
   41,
   45,
   47,
   69,
   79,
   101,
   111,
   134,
   146
  ]
 },
 "nbformat": 4,
 "nbformat_minor": 5
}