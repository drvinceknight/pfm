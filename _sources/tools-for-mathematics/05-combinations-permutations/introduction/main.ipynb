{
 "cells": [
  {
   "cell_type": "markdown",
   "id": "d1605b5b",
   "metadata": {},
   "source": [
    "(chp:combinatorics)=\n",
    "\n",
    "# Combinatorics\n",
    "\n",
    "Combinatorics is the mathematical area interested in specific finite\n",
    "sets. In a lot of instances this comes down to counting things and is\n",
    "often first encountered by mathematicians through combinations and\n",
    "permutations. Computers are useful when doing this as they can be used\n",
    "to generate the finite sets considered. You can essentially count things\n",
    "\"by hand\"' (using a computer) to confirm theoretic results.\n",
    "\n",
    "```{important}\n",
    "In this chapter you will cover:\n",
    "\n",
    "-   Generating configurations of elements that correspond to\n",
    "    permutations and/or combinations.\n",
    "-   Counting these configurations.\n",
    "-   Directly computing $^n C_i={n \\choose i}$.\n",
    "-   Directly computing $^n P_i$.\n",
    "```"
   ]
  }
 ],
 "metadata": {
  "jupytext": {
   "formats": "ipynb,md:myst",
   "text_representation": {
    "extension": ".md",
    "format_name": "myst",
    "format_version": 0.12,
    "jupytext_version": "1.6.0"
   }
  },
  "kernelspec": {
   "display_name": "Python 3",
   "language": "python",
   "name": "python3"
  },
  "language_info": {
   "codemirror_mode": {
    "name": "ipython",
    "version": 3
   },
   "file_extension": ".py",
   "mimetype": "text/x-python",
   "name": "python",
   "nbconvert_exporter": "python",
   "pygments_lexer": "ipython3",
   "version": "3.10.18"
  },
  "source_map": [
   13
  ]
 },
 "nbformat": 4,
 "nbformat_minor": 5
}