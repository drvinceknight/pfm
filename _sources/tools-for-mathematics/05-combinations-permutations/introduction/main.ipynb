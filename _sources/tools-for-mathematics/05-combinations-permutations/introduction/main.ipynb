{
 "cells": [
  {
   "cell_type": "markdown",
   "id": "35c5c0eb",
   "metadata": {},
   "source": [
    "# Combinatorics\n",
    "\n",
    "Combinatorics is the mathematical area interested specific finite sets. In a lot\n",
    "of instances this comes down to counting things and is often first encountered\n",
    "by mathematicians through combinations and permutations.\n",
    "\n",
    "Computers are useful when doing this as they can be used to generate the finite\n",
    "sets we want. Thus we can essentially count things \"by hand\" (using a computer)\n",
    "to confirm theoretic results. We will see how to do this here.\n",
    "\n",
    "```{important}\n",
    "In this chapter we will cover:\n",
    "\n",
    "- Generating configurations of elements that correspond to permutations and/or\n",
    "  combinations.\n",
    "- Counting these configurations.\n",
    "- Directly computing $^n C_i={n \\choose i}$\n",
    "- Directly computing $^n P_i$\n",
    "```"
   ]
  }
 ],
 "metadata": {
  "jupytext": {
   "formats": "ipynb,md:myst",
   "text_representation": {
    "extension": ".md",
    "format_name": "myst",
    "format_version": 0.12,
    "jupytext_version": "1.6.0"
   }
  },
  "kernelspec": {
   "display_name": "Python 3",
   "language": "python",
   "name": "python3"
  },
  "language_info": {
   "codemirror_mode": {
    "name": "ipython",
    "version": 3
   },
   "file_extension": ".py",
   "mimetype": "text/x-python",
   "name": "python",
   "nbconvert_exporter": "python",
   "pygments_lexer": "ipython3",
   "version": "3.10.13"
  },
  "source_map": [
   13
  ]
 },
 "nbformat": 4,
 "nbformat_minor": 5
}