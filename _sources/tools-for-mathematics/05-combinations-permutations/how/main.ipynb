{
 "cells": [
  {
   "cell_type": "markdown",
   "id": "2e93e919",
   "metadata": {},
   "source": [
    "# How\n",
    "\n",
    "(create_a_tuple)=\n",
    "\n",
    "## Create a tuple\n",
    "\n",
    "To create a tuple which is an ordered collection of objects that cannot\n",
    "be changed use the `()` brackets.\n",
    "\n",
    "````{admonition} Usage\n",
    ":class: tip\n",
    "\n",
    "```\n",
    "collection = (value_1, value_2, value_3, …, value_n)\n",
    "```\n",
    "````\n",
    "\n",
    "For example:"
   ]
  },
  {
   "cell_type": "code",
   "execution_count": 1,
   "id": "511aa256",
   "metadata": {},
   "outputs": [
    {
     "data": {
      "text/plain": [
       "('Bread', 'Biscuits', 'Coffee')"
      ]
     },
     "execution_count": 1,
     "metadata": {},
     "output_type": "execute_result"
    }
   ],
   "source": [
    "basket = (\"Bread\", \"Biscuits\", \"Coffee\")\n",
    "basket"
   ]
  },
  {
   "cell_type": "markdown",
   "id": "83b50016",
   "metadata": {},
   "source": [
    "(how_to_access_particular_elements_in_a_tuple)=\n",
    "\n",
    "## How to access particular elements in a tuple\n",
    "\n",
    "If you need to you can access elements of a collection using `[]`\n",
    "brackets. The first element has index `0`:\n",
    "\n",
    "```{admonition} Usage\n",
    ":class: tip\n",
    "\n",
    "tuple[index]\n",
    "```\n",
    "\n",
    "For example:"
   ]
  },
  {
   "cell_type": "code",
   "execution_count": 2,
   "id": "b892f22d",
   "metadata": {},
   "outputs": [
    {
     "data": {
      "text/plain": [
       "'Biscuits'"
      ]
     },
     "execution_count": 2,
     "metadata": {},
     "output_type": "execute_result"
    }
   ],
   "source": [
    "basket[1]"
   ]
  },
  {
   "cell_type": "markdown",
   "id": "48943709",
   "metadata": {},
   "source": [
    "(creating_boolean_variables)=\n",
    "\n",
    "## Create boolean variables\n",
    "\n",
    "A boolean variable has one of two values: `True` or `False`.\n",
    "\n",
    "To create a boolean variable here are some of the things you can use:\n",
    "\n",
    "- Equality: `value == other_value`\n",
    "- Inequality `value != other_value`\n",
    "- Strictly less than `value < other_value`\n",
    "- Less than or equal`value <= other_value`\n",
    "- Inclusion `value in iterable`\n",
    "\n",
    "This a subset of the operators available. For example:\n",
    "\n",
    "For example:"
   ]
  },
  {
   "cell_type": "code",
   "execution_count": 3,
   "id": "1caf8c9e",
   "metadata": {},
   "outputs": [
    {
     "data": {
      "text/plain": [
       "False"
      ]
     },
     "execution_count": 3,
     "metadata": {},
     "output_type": "execute_result"
    }
   ],
   "source": [
    "value = 5\n",
    "other_value = 10\n",
    "\n",
    "value == other_value"
   ]
  },
  {
   "cell_type": "code",
   "execution_count": 4,
   "id": "b1a68186",
   "metadata": {},
   "outputs": [
    {
     "data": {
      "text/plain": [
       "True"
      ]
     },
     "execution_count": 4,
     "metadata": {},
     "output_type": "execute_result"
    }
   ],
   "source": [
    "value != other_value"
   ]
  },
  {
   "cell_type": "code",
   "execution_count": 5,
   "id": "44a9c889",
   "metadata": {},
   "outputs": [
    {
     "data": {
      "text/plain": [
       "True"
      ]
     },
     "execution_count": 5,
     "metadata": {},
     "output_type": "execute_result"
    }
   ],
   "source": [
    "value <= other_value"
   ]
  },
  {
   "cell_type": "code",
   "execution_count": 6,
   "id": "6a65a620",
   "metadata": {},
   "outputs": [
    {
     "data": {
      "text/plain": [
       "False"
      ]
     },
     "execution_count": 6,
     "metadata": {},
     "output_type": "execute_result"
    }
   ],
   "source": [
    "value < value"
   ]
  },
  {
   "cell_type": "code",
   "execution_count": 7,
   "id": "3f1dd4d6",
   "metadata": {},
   "outputs": [
    {
     "data": {
      "text/plain": [
       "True"
      ]
     },
     "execution_count": 7,
     "metadata": {},
     "output_type": "execute_result"
    }
   ],
   "source": [
    "value <= value"
   ]
  },
  {
   "cell_type": "code",
   "execution_count": 8,
   "id": "347703af",
   "metadata": {},
   "outputs": [
    {
     "data": {
      "text/plain": [
       "False"
      ]
     },
     "execution_count": 8,
     "metadata": {},
     "output_type": "execute_result"
    }
   ],
   "source": [
    "value in (1, 2, 4, 19)"
   ]
  },
  {
   "cell_type": "markdown",
   "id": "fe083408",
   "metadata": {},
   "source": [
    "It is also possible to combine booleans to create new booleans:\n",
    "\n",
    "- And: `first_boolean and second_boolean`\n",
    "- Or: `first_boolean or second_boolean`\n",
    "- No: `not boolean`"
   ]
  },
  {
   "cell_type": "code",
   "execution_count": 9,
   "id": "522d09e5",
   "metadata": {},
   "outputs": [
    {
     "data": {
      "text/plain": [
       "True"
      ]
     },
     "execution_count": 9,
     "metadata": {},
     "output_type": "execute_result"
    }
   ],
   "source": [
    "True and True"
   ]
  },
  {
   "cell_type": "code",
   "execution_count": 10,
   "id": "ba8b0485",
   "metadata": {},
   "outputs": [
    {
     "data": {
      "text/plain": [
       "False"
      ]
     },
     "execution_count": 10,
     "metadata": {},
     "output_type": "execute_result"
    }
   ],
   "source": [
    "False and True"
   ]
  },
  {
   "cell_type": "code",
   "execution_count": 11,
   "id": "35c29c1b",
   "metadata": {},
   "outputs": [
    {
     "data": {
      "text/plain": [
       "True"
      ]
     },
     "execution_count": 11,
     "metadata": {},
     "output_type": "execute_result"
    }
   ],
   "source": [
    "True or False"
   ]
  },
  {
   "cell_type": "code",
   "execution_count": 12,
   "id": "3553676b",
   "metadata": {},
   "outputs": [
    {
     "data": {
      "text/plain": [
       "False"
      ]
     },
     "execution_count": 12,
     "metadata": {},
     "output_type": "execute_result"
    }
   ],
   "source": [
    "False or False"
   ]
  },
  {
   "cell_type": "code",
   "execution_count": 13,
   "id": "f80b68b2",
   "metadata": {},
   "outputs": [
    {
     "data": {
      "text/plain": [
       "False"
      ]
     },
     "execution_count": 13,
     "metadata": {},
     "output_type": "execute_result"
    }
   ],
   "source": [
    "not True"
   ]
  },
  {
   "cell_type": "code",
   "execution_count": 14,
   "id": "fe871c0f",
   "metadata": {},
   "outputs": [
    {
     "data": {
      "text/plain": [
       "True"
      ]
     },
     "execution_count": 14,
     "metadata": {},
     "output_type": "execute_result"
    }
   ],
   "source": [
    "not False"
   ]
  },
  {
   "cell_type": "markdown",
   "id": "4e7417c5",
   "metadata": {},
   "source": [
    "(creating_an_iterable_with_a_given_number_of_items)=\n",
    "\n",
    "## Create an iterable with a given number of items\n",
    "\n",
    "The `range` tool gives a given number of integers.\n",
    "\n",
    "````{admonition} Usage\n",
    ":class: tip\n",
    "\n",
    "```\n",
    "range(number_of_integers)\n",
    "```\n",
    "````\n",
    "\n",
    "For example:"
   ]
  },
  {
   "cell_type": "code",
   "execution_count": 15,
   "id": "40e06017",
   "metadata": {},
   "outputs": [
    {
     "data": {
      "text/plain": [
       "(0, 1, 2, 3, 4, 5, 6, 7, 8, 9)"
      ]
     },
     "execution_count": 15,
     "metadata": {},
     "output_type": "execute_result"
    }
   ],
   "source": [
    "tuple(range(10))"
   ]
  },
  {
   "cell_type": "markdown",
   "id": "c47f890e",
   "metadata": {},
   "source": [
    "```{attention}\n",
    "`range(N)` gives the integers from 0 until $N - 1$ (inclusive).\n",
    "```\n",
    "\n",
    "It is also possible to pass two values as inputs so that you have a\n",
    "different lower bound:"
   ]
  },
  {
   "cell_type": "code",
   "execution_count": 16,
   "id": "bb66609e",
   "metadata": {},
   "outputs": [
    {
     "data": {
      "text/plain": [
       "(4, 5, 6, 7, 8, 9)"
      ]
     },
     "execution_count": 16,
     "metadata": {},
     "output_type": "execute_result"
    }
   ],
   "source": [
    "tuple(range(4, 10))"
   ]
  },
  {
   "cell_type": "markdown",
   "id": "82bb728f",
   "metadata": {},
   "source": [
    "It is also possible to pass a third value as a step size:"
   ]
  },
  {
   "cell_type": "code",
   "execution_count": 17,
   "id": "f0605d22",
   "metadata": {},
   "outputs": [
    {
     "data": {
      "text/plain": [
       "(4, 7)"
      ]
     },
     "execution_count": 17,
     "metadata": {},
     "output_type": "execute_result"
    }
   ],
   "source": [
    "tuple(range(4, 10, 3))"
   ]
  },
  {
   "cell_type": "markdown",
   "id": "671c1747",
   "metadata": {},
   "source": [
    "## Create permutations of a given set of elements\n",
    "\n",
    "The python `itertools` library has a `permutations` tool that will generate all\n",
    "permutations of a given set.\n",
    "\n",
    "````{admonition} Usage\n",
    ":class: tip\n",
    "\n",
    "```\n",
    "itertools.permutations(iterable)\n",
    "```\n",
    "````"
   ]
  },
  {
   "cell_type": "code",
   "execution_count": 18,
   "id": "55626ddd",
   "metadata": {},
   "outputs": [
    {
     "data": {
      "text/plain": [
       "(('Bread', 'Biscuits', 'Coffee'),\n",
       " ('Bread', 'Coffee', 'Biscuits'),\n",
       " ('Biscuits', 'Bread', 'Coffee'),\n",
       " ('Biscuits', 'Coffee', 'Bread'),\n",
       " ('Coffee', 'Bread', 'Biscuits'),\n",
       " ('Coffee', 'Biscuits', 'Bread'))"
      ]
     },
     "execution_count": 18,
     "metadata": {},
     "output_type": "execute_result"
    }
   ],
   "source": [
    "import itertools\n",
    "\n",
    "basket = (\"Bread\", \"Biscuits\", \"Coffee\")\n",
    "tuple(itertools.permutations(basket))"
   ]
  },
  {
   "cell_type": "markdown",
   "id": "a877564b",
   "metadata": {},
   "source": [
    "It is possible to limit the size to only be permutations of size `r`:"
   ]
  },
  {
   "cell_type": "code",
   "execution_count": 19,
   "id": "2ccc907c",
   "metadata": {},
   "outputs": [
    {
     "data": {
      "text/plain": [
       "(('Bread', 'Biscuits'),\n",
       " ('Bread', 'Coffee'),\n",
       " ('Biscuits', 'Bread'),\n",
       " ('Biscuits', 'Coffee'),\n",
       " ('Coffee', 'Bread'),\n",
       " ('Coffee', 'Biscuits'))"
      ]
     },
     "execution_count": 19,
     "metadata": {},
     "output_type": "execute_result"
    }
   ],
   "source": [
    "tuple(itertools.permutations(basket, r=2))"
   ]
  },
  {
   "cell_type": "markdown",
   "id": "15906e9b",
   "metadata": {},
   "source": [
    "## Create combinations of a given set of elements\n",
    "\n",
    "The python `itertools` library has a `combinations` tool that will\n",
    "generate all combinations of size `r` of a given set:\n",
    "\n",
    "````{admonition} Usage\n",
    ":class: tip\n",
    "\n",
    "```\n",
    "itertools.combinations(iterable, r)\n",
    "```\n",
    "````\n",
    "\n",
    "For example:"
   ]
  },
  {
   "cell_type": "code",
   "execution_count": 20,
   "id": "29f86aa2",
   "metadata": {},
   "outputs": [
    {
     "data": {
      "text/plain": [
       "(('Bread', 'Biscuits'), ('Bread', 'Coffee'), ('Biscuits', 'Coffee'))"
      ]
     },
     "execution_count": 20,
     "metadata": {},
     "output_type": "execute_result"
    }
   ],
   "source": [
    "basket = (\"Bread\", \"Biscuits\", \"Coffee\")\n",
    "tuple(itertools.combinations(basket, r=2))"
   ]
  },
  {
   "cell_type": "markdown",
   "id": "5212bb2e",
   "metadata": {},
   "source": [
    "A combination does not care about order so by default the combinations generated\n",
    "are sorted.\n",
    "\n",
    "(adding_items_in_a_tuple)=\n",
    "\n",
    "## Summing items in a iterable\n",
    "\n",
    "You can compute the sum of items in an iterable using the `sum` tool:"
   ]
  },
  {
   "cell_type": "code",
   "execution_count": 21,
   "id": "451e6666",
   "metadata": {},
   "outputs": [
    {
     "data": {
      "text/plain": [
       "6"
      ]
     },
     "execution_count": 21,
     "metadata": {},
     "output_type": "execute_result"
    }
   ],
   "source": [
    "sum((1, 2, 3))"
   ]
  },
  {
   "cell_type": "markdown",
   "id": "303a1cec",
   "metadata": {},
   "source": [
    "You can also directly use the `sum` without specifically creating the\n",
    "iterable. This corresponds to the following mathematical notation:\n",
    "\n",
    "$$\n",
    "    \\sum_{s\\in S}f(s)\n",
    "$$\n",
    "\n",
    "and is done using the following:\n",
    "\n",
    "````{admonition} Usage\n",
    ":class: tip\n",
    "\n",
    "```\n",
    "sum(f(object) for object in old_list)\n",
    "```\n",
    "````\n",
    "\n",
    "Here is an example of calculating the following sum:\n",
    "\n",
    "$$\n",
    "    \\sum_{n=0}^{10} n ^ 2\n",
    "$$"
   ]
  },
  {
   "cell_type": "code",
   "execution_count": 22,
   "id": "5b1dbc91",
   "metadata": {},
   "outputs": [
    {
     "data": {
      "text/plain": [
       "385"
      ]
     },
     "execution_count": 22,
     "metadata": {},
     "output_type": "execute_result"
    }
   ],
   "source": [
    "sum(n ** 2 for n in range(11))"
   ]
  },
  {
   "cell_type": "markdown",
   "id": "0a474fbd",
   "metadata": {},
   "source": [
    "You can compute conditional sums by only summing over elements that meet\n",
    "a given condition using the following:\n",
    "\n",
    "````{admonition} Usage\n",
    ":class: tip\n",
    "\n",
    "```\n",
    "sum(f(object) for object in old_list if condition)\n",
    "```\n",
    "````\n",
    "\n",
    "Here is an example of calculating the following sum:\n",
    "\n",
    "$$\n",
    "    \\sum_{\\begin{array}{c}n=0\\\\\\text{ if }n\\text{ odd}\\end{array}}^{10} n ^ 2\n",
    "$$"
   ]
  },
  {
   "cell_type": "code",
   "execution_count": 23,
   "id": "224e8a65",
   "metadata": {},
   "outputs": [
    {
     "data": {
      "text/plain": [
       "165"
      ]
     },
     "execution_count": 23,
     "metadata": {},
     "output_type": "execute_result"
    }
   ],
   "source": [
    "sum(n ** 2 for n in range(11) if n % 2 == 1)"
   ]
  },
  {
   "cell_type": "markdown",
   "id": "af859759",
   "metadata": {},
   "source": [
    "## Directly compute \\\\(n!\\\\)\n",
    "\n",
    "The `math` library has a `factorial` tool.\n",
    "\n",
    "````{admonition} Usage\n",
    ":class: tip\n",
    "\n",
    "```\n",
    "math.factorial(N)\n",
    "```\n",
    "````"
   ]
  },
  {
   "cell_type": "code",
   "execution_count": 24,
   "id": "d9d2a67c",
   "metadata": {},
   "outputs": [
    {
     "data": {
      "text/plain": [
       "120"
      ]
     },
     "execution_count": 24,
     "metadata": {},
     "output_type": "execute_result"
    }
   ],
   "source": [
    "import math\n",
    "\n",
    "math.factorial(5)"
   ]
  },
  {
   "cell_type": "markdown",
   "id": "8f924717",
   "metadata": {},
   "source": [
    "## Directly compute ${n \\choose i}$\n",
    "\n",
    "The `scipy.special` library has a `comb` tool.\n",
    "\n",
    "````{admonition} Usage\n",
    ":class: tip\n",
    "\n",
    "```\n",
    "scipy.special.comb(n, i)\n",
    "```\n",
    "````\n",
    "\n",
    "For example:"
   ]
  },
  {
   "cell_type": "code",
   "execution_count": 25,
   "id": "0ebf56d6",
   "metadata": {},
   "outputs": [
    {
     "data": {
      "text/plain": [
       "np.float64(3.0)"
      ]
     },
     "execution_count": 25,
     "metadata": {},
     "output_type": "execute_result"
    }
   ],
   "source": [
    "import scipy.special\n",
    "\n",
    "scipy.special.comb(3, 2)"
   ]
  },
  {
   "cell_type": "markdown",
   "id": "69dd19b0",
   "metadata": {},
   "source": [
    "## Directly computing $^n P_i$\n",
    "\n",
    "The `scipy.special` library has a `perm` tool.\n",
    "\n",
    "````{admonition} Usage\n",
    ":class: tip\n",
    "\n",
    "```\n",
    "scipy.special.perm(n, i)\n",
    "```\n",
    "````"
   ]
  },
  {
   "cell_type": "code",
   "execution_count": 26,
   "id": "8c6feeb1",
   "metadata": {},
   "outputs": [
    {
     "data": {
      "text/plain": [
       "np.float64(6.0)"
      ]
     },
     "execution_count": 26,
     "metadata": {},
     "output_type": "execute_result"
    }
   ],
   "source": [
    "scipy.special.perm(3, 2)"
   ]
  }
 ],
 "metadata": {
  "jupytext": {
   "formats": "ipynb,md:myst",
   "text_representation": {
    "extension": ".md",
    "format_name": "myst",
    "format_version": 0.12,
    "jupytext_version": "1.6.0"
   }
  },
  "kernelspec": {
   "display_name": "Python 3",
   "language": "python",
   "name": "python3"
  },
  "language_info": {
   "codemirror_mode": {
    "name": "ipython",
    "version": 3
   },
   "file_extension": ".py",
   "mimetype": "text/x-python",
   "name": "python",
   "nbconvert_exporter": "python",
   "pygments_lexer": "ipython3",
   "version": "3.10.18"
  },
  "source_map": [
   13,
   34,
   37,
   54,
   56,
   76,
   83,
   87,
   91,
   95,
   99,
   101,
   109,
   113,
   117,
   121,
   125,
   129,
   131,
   149,
   151,
   160,
   162,
   166,
   168,
   183,
   188,
   192,
   194,
   211,
   214,
   225,
   227,
   252,
   254,
   273,
   275,
   289,
   293,
   309,
   313,
   327
  ]
 },
 "nbformat": 4,
 "nbformat_minor": 5
}