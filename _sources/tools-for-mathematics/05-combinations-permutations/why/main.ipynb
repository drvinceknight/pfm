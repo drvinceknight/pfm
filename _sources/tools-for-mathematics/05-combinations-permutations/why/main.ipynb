{
 "cells": [
  {
   "cell_type": "markdown",
   "id": "e8c41b45",
   "metadata": {},
   "source": [
    "# Further information\n",
    "\n",
    "## Are there other ways to access elements in tuples?\n",
    "\n",
    "You have seen in this chapter how to access a single element in a tuple.\n",
    "There are various ways of indexing tuples:\n",
    "\n",
    "1. Indexing (seen [here](how_to_access_particular_elements_in_a_tuple))\n",
    "2. [Negative indexing](access_an_element_using_negative_indexing)\n",
    "3. [Slicing](slice_an_iterable) (selecting a number of elements)\n",
    "\n",
    "## Why does `range`, `itertools.permutations` and `itertools.combinations` not directly give the elements?\n",
    "\n",
    "When you run either of the three `range`, `itertools.permutations` or\n",
    "`itertools.combinations` tools this is an example of creating a\n",
    "**generator**. This allows the creation of the instructions to build\n",
    "something without building it.\n",
    "\n",
    "In practice this means that you can create large sets without needing to\n",
    "generate them until required.\n",
    "\n",
    "### How does the summation notation $\\sum$ correspond to the code?\n",
    "\n",
    "The `sum` command corresponds to the mathematical $\\sum$ notation. Here\n",
    "are a few examples showing the `sum` command, the $\\sum$ notation but\n",
    "also the prose describing:\n",
    "\n",
    "````{list-table}\n",
    ":header-rows: 1\n",
    "\n",
    "* - Mathematics\n",
    "  - Python\n",
    "  - Prose\n",
    "* - $$\\sum_{i=1}^{100}i ^2$$\n",
    "  - ```\n",
    "    sum(i ** 2 for i in range(1, 101))\n",
    "    ```\n",
    "  - The sum of the square of the integers from 1 to 100 (inclusive).\n",
    "* - $$\\sum_{\\begin{array}{c}i=1\\\\\\text{if }i\\text{ is prime}\\end{array}}^{100}i ^2$$\n",
    "  - ```\n",
    "    sum(i ** 2 for i in range(1, 101) if sym.isprime(i))\n",
    "    ```\n",
    "  - The sum of the square of the integers from 1 to 100 (inclusive) if they are\n",
    "    prime.\n",
    "* - $$\\sum_{\\begin{array}{c}i\\in{S}\\\\\\text{if }i\\text{ is prime}\\end{array}}i ^2$$\n",
    "  - ```\n",
    "    sum(i ** 2 for i in S if sym.isprime(i))\n",
    "    ```\n",
    "  - The sum of the square of the elements in the collection $S$ if they are\n",
    "    prime.\n",
    "````"
   ]
  }
 ],
 "metadata": {
  "jupytext": {
   "formats": "ipynb,md:myst",
   "text_representation": {
    "extension": ".md",
    "format_name": "myst",
    "format_version": 0.12,
    "jupytext_version": "1.6.0"
   }
  },
  "kernelspec": {
   "display_name": "Python 3",
   "language": "python",
   "name": "python3"
  },
  "language_info": {
   "codemirror_mode": {
    "name": "ipython",
    "version": 3
   },
   "file_extension": ".py",
   "mimetype": "text/x-python",
   "name": "python",
   "nbconvert_exporter": "python",
   "pygments_lexer": "ipython3",
   "version": "3.10.18"
  },
  "source_map": [
   13
  ]
 },
 "nbformat": 4,
 "nbformat_minor": 5
}