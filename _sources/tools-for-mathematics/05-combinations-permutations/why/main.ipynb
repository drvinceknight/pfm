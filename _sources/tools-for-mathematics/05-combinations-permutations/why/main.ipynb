{
 "cells": [
  {
   "cell_type": "markdown",
   "id": "e0d8b809",
   "metadata": {},
   "source": [
    "# Further information\n",
    "\n",
    "## How does tuple indexing work?\n",
    "\n",
    "We have seen in this chapter how to access a single element in a tuple. There\n",
    "are various ways of indexing tuples:\n",
    "\n",
    "1. Indexing (what we have seen here)\n",
    "2. Negative indexing (indexing starting from the end)\n",
    "3. Slicing (selecting a number of elements)\n",
    "\n",
    "This document gives good information on this:\n",
    "<https://www.programiz.com/python-programming/tuple>\n",
    "\n",
    "## Why does `range`, `itertools.permutations` and `itertools.combinations` not directly give the elements?\n",
    "\n",
    "When you run either of the three `range`, `itertools.permutations` or\n",
    "`itertools.combinations` tools this is an example of creating a **generator**.\n",
    "This allows us to create the instructions to build something without building\n",
    "it.\n",
    "\n",
    "In practice this means that we can create large sets without needing to generate\n",
    "them until we wanted to.\n",
    "\n",
    "## How does the summation notation $\\sum$ correspond to the code?\n",
    "\n",
    "The [`sum`](adding_items_in_a_tuple) command corresponds to the mathematical\n",
    "$\\sum$ notation. Here are a few examples showing not only the `sum` command,\n",
    "$\\sum$ notation but also the prose describing:\n",
    "\n",
    "```{list-table}\n",
    ":header-rows: 1\n",
    "\n",
    "* - Mathematics\n",
    "  - Python\n",
    "  - Prose\n",
    "* - $$\\sum_{i=1}^{100}i ^2$$\n",
    "  - ```\n",
    "    sum(i ** 2 for i in range(1, 101))\n",
    "    ```\n",
    "  - The sum of the square of the integers from 1 to 100 (inclusive).\n",
    "* - $$\\sum_{\\begin{array}{c}i=1\\\\\\text{if }i\\text{ is prime}\\end{array}}^{100}i ^2$$\n",
    "  - ```\n",
    "    sum(i ** 2 for i in range(1, 101) if sym.isprime(i))\n",
    "    ```\n",
    "  - The sum of the square of the integers from 1 to 100 (inclusive) if they are\n",
    "    prime.\n",
    "* - $$\\sum_{\\begin{array}{c}i\\in{S}\\\\\\text{if }i\\text{ is prime}\\end{array}}i ^2$$\n",
    "  - ```\n",
    "    sum(i ** 2 for i in S if sym.isprime(i))\n",
    "    ```\n",
    "  - The sum of the square of the elements in the collection $S$ if they are\n",
    "    prime.\n",
    "```"
   ]
  }
 ],
 "metadata": {
  "jupytext": {
   "formats": "ipynb,md:myst",
   "text_representation": {
    "extension": ".md",
    "format_name": "myst",
    "format_version": 0.12,
    "jupytext_version": "1.6.0"
   }
  },
  "kernelspec": {
   "display_name": "Python 3",
   "language": "python",
   "name": "python3"
  },
  "language_info": {
   "codemirror_mode": {
    "name": "ipython",
    "version": 3
   },
   "file_extension": ".py",
   "mimetype": "text/x-python",
   "name": "python",
   "nbconvert_exporter": "python",
   "pygments_lexer": "ipython3",
   "version": "3.10.12"
  },
  "source_map": [
   13
  ]
 },
 "nbformat": 4,
 "nbformat_minor": 5
}