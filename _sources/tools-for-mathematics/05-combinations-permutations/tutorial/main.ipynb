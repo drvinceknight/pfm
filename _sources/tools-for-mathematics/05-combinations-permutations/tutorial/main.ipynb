{
 "cells": [
  {
   "cell_type": "markdown",
   "id": "24c8a78a",
   "metadata": {},
   "source": [
    "# Tutorial\n",
    "\n",
    "You will solve the following problem using a computer to illustrate how\n",
    "a computer can be used to solve combinatorial problems:\n",
    "\n",
    "```{admonition} Problem\n",
    "\n",
    "The digits 1, 2, 3, 4 and 5 are arranged in random order, to form a\n",
    "five-digit number.\n",
    "\n",
    "1.  How many different five-digit numbers can be formed?\n",
    "2.  How many different five-digit numbers are:\n",
    "    1.  Odd\n",
    "    2.  Less than 23000\n",
    "```\n",
    "\n",
    "First you are going to get the 5 digits. Python has a tool for this\n",
    "called `range` which directly gives the integers from a given bound to\n",
    "another:"
   ]
  },
  {
   "cell_type": "code",
   "execution_count": 1,
   "id": "cb17b9ca",
   "metadata": {},
   "outputs": [
    {
     "data": {
      "text/plain": [
       "range(1, 6)"
      ]
     },
     "execution_count": 1,
     "metadata": {},
     "output_type": "execute_result"
    }
   ],
   "source": [
    "digits = range(1, 6)\n",
    "digits"
   ]
  },
  {
   "cell_type": "markdown",
   "id": "50a3cbb4",
   "metadata": {},
   "source": [
    "At present that is only the instructions for generating the integers\n",
    "from 1 to 5 (the 6 is a strict upper bound). You can transform this to a\n",
    "tuple, using the `tuple` tool:"
   ]
  },
  {
   "cell_type": "code",
   "execution_count": 2,
   "id": "4282d44a",
   "metadata": {},
   "outputs": [
    {
     "data": {
      "text/plain": [
       "(1, 2, 3, 4, 5)"
      ]
     },
     "execution_count": 2,
     "metadata": {},
     "output_type": "execute_result"
    }
   ],
   "source": [
    "tuple(range(1, 6))"
   ]
  },
  {
   "cell_type": "markdown",
   "id": "e6b73631",
   "metadata": {},
   "source": [
    "The question is asking for all the permutations of size 5 of that set.\n",
    "The main tool for this is a library specifically designed to iterate\n",
    "over objects in different ways: `itertools`."
   ]
  },
  {
   "cell_type": "code",
   "execution_count": 3,
   "id": "546c917f",
   "metadata": {
    "tags": [
     "nbval-ignore-output"
    ]
   },
   "outputs": [
    {
     "data": {
      "text/plain": [
       "<itertools.permutations at 0x7feaec999df0>"
      ]
     },
     "execution_count": 3,
     "metadata": {},
     "output_type": "execute_result"
    }
   ],
   "source": [
    "import itertools\n",
    "\n",
    "permutations = itertools.permutations(digits)\n",
    "permutations"
   ]
  },
  {
   "cell_type": "markdown",
   "id": "c7b88a01",
   "metadata": {},
   "source": [
    "That is again only the set of instructions, to view the actual\n",
    "permutations you will again transform this in to a tuple. You will\n",
    "overwrite the value of `permutations` to not be the instructions but the\n",
    "actual tuple of all the permutations:"
   ]
  },
  {
   "cell_type": "code",
   "execution_count": 4,
   "id": "d440fb88",
   "metadata": {
    "tags": [
     "output_scroll"
    ]
   },
   "outputs": [
    {
     "data": {
      "text/plain": [
       "((1, 2, 3, 4, 5),\n",
       " (1, 2, 3, 5, 4),\n",
       " (1, 2, 4, 3, 5),\n",
       " (1, 2, 4, 5, 3),\n",
       " (1, 2, 5, 3, 4),\n",
       " (1, 2, 5, 4, 3),\n",
       " (1, 3, 2, 4, 5),\n",
       " (1, 3, 2, 5, 4),\n",
       " (1, 3, 4, 2, 5),\n",
       " (1, 3, 4, 5, 2),\n",
       " (1, 3, 5, 2, 4),\n",
       " (1, 3, 5, 4, 2),\n",
       " (1, 4, 2, 3, 5),\n",
       " (1, 4, 2, 5, 3),\n",
       " (1, 4, 3, 2, 5),\n",
       " (1, 4, 3, 5, 2),\n",
       " (1, 4, 5, 2, 3),\n",
       " (1, 4, 5, 3, 2),\n",
       " (1, 5, 2, 3, 4),\n",
       " (1, 5, 2, 4, 3),\n",
       " (1, 5, 3, 2, 4),\n",
       " (1, 5, 3, 4, 2),\n",
       " (1, 5, 4, 2, 3),\n",
       " (1, 5, 4, 3, 2),\n",
       " (2, 1, 3, 4, 5),\n",
       " (2, 1, 3, 5, 4),\n",
       " (2, 1, 4, 3, 5),\n",
       " (2, 1, 4, 5, 3),\n",
       " (2, 1, 5, 3, 4),\n",
       " (2, 1, 5, 4, 3),\n",
       " (2, 3, 1, 4, 5),\n",
       " (2, 3, 1, 5, 4),\n",
       " (2, 3, 4, 1, 5),\n",
       " (2, 3, 4, 5, 1),\n",
       " (2, 3, 5, 1, 4),\n",
       " (2, 3, 5, 4, 1),\n",
       " (2, 4, 1, 3, 5),\n",
       " (2, 4, 1, 5, 3),\n",
       " (2, 4, 3, 1, 5),\n",
       " (2, 4, 3, 5, 1),\n",
       " (2, 4, 5, 1, 3),\n",
       " (2, 4, 5, 3, 1),\n",
       " (2, 5, 1, 3, 4),\n",
       " (2, 5, 1, 4, 3),\n",
       " (2, 5, 3, 1, 4),\n",
       " (2, 5, 3, 4, 1),\n",
       " (2, 5, 4, 1, 3),\n",
       " (2, 5, 4, 3, 1),\n",
       " (3, 1, 2, 4, 5),\n",
       " (3, 1, 2, 5, 4),\n",
       " (3, 1, 4, 2, 5),\n",
       " (3, 1, 4, 5, 2),\n",
       " (3, 1, 5, 2, 4),\n",
       " (3, 1, 5, 4, 2),\n",
       " (3, 2, 1, 4, 5),\n",
       " (3, 2, 1, 5, 4),\n",
       " (3, 2, 4, 1, 5),\n",
       " (3, 2, 4, 5, 1),\n",
       " (3, 2, 5, 1, 4),\n",
       " (3, 2, 5, 4, 1),\n",
       " (3, 4, 1, 2, 5),\n",
       " (3, 4, 1, 5, 2),\n",
       " (3, 4, 2, 1, 5),\n",
       " (3, 4, 2, 5, 1),\n",
       " (3, 4, 5, 1, 2),\n",
       " (3, 4, 5, 2, 1),\n",
       " (3, 5, 1, 2, 4),\n",
       " (3, 5, 1, 4, 2),\n",
       " (3, 5, 2, 1, 4),\n",
       " (3, 5, 2, 4, 1),\n",
       " (3, 5, 4, 1, 2),\n",
       " (3, 5, 4, 2, 1),\n",
       " (4, 1, 2, 3, 5),\n",
       " (4, 1, 2, 5, 3),\n",
       " (4, 1, 3, 2, 5),\n",
       " (4, 1, 3, 5, 2),\n",
       " (4, 1, 5, 2, 3),\n",
       " (4, 1, 5, 3, 2),\n",
       " (4, 2, 1, 3, 5),\n",
       " (4, 2, 1, 5, 3),\n",
       " (4, 2, 3, 1, 5),\n",
       " (4, 2, 3, 5, 1),\n",
       " (4, 2, 5, 1, 3),\n",
       " (4, 2, 5, 3, 1),\n",
       " (4, 3, 1, 2, 5),\n",
       " (4, 3, 1, 5, 2),\n",
       " (4, 3, 2, 1, 5),\n",
       " (4, 3, 2, 5, 1),\n",
       " (4, 3, 5, 1, 2),\n",
       " (4, 3, 5, 2, 1),\n",
       " (4, 5, 1, 2, 3),\n",
       " (4, 5, 1, 3, 2),\n",
       " (4, 5, 2, 1, 3),\n",
       " (4, 5, 2, 3, 1),\n",
       " (4, 5, 3, 1, 2),\n",
       " (4, 5, 3, 2, 1),\n",
       " (5, 1, 2, 3, 4),\n",
       " (5, 1, 2, 4, 3),\n",
       " (5, 1, 3, 2, 4),\n",
       " (5, 1, 3, 4, 2),\n",
       " (5, 1, 4, 2, 3),\n",
       " (5, 1, 4, 3, 2),\n",
       " (5, 2, 1, 3, 4),\n",
       " (5, 2, 1, 4, 3),\n",
       " (5, 2, 3, 1, 4),\n",
       " (5, 2, 3, 4, 1),\n",
       " (5, 2, 4, 1, 3),\n",
       " (5, 2, 4, 3, 1),\n",
       " (5, 3, 1, 2, 4),\n",
       " (5, 3, 1, 4, 2),\n",
       " (5, 3, 2, 1, 4),\n",
       " (5, 3, 2, 4, 1),\n",
       " (5, 3, 4, 1, 2),\n",
       " (5, 3, 4, 2, 1),\n",
       " (5, 4, 1, 2, 3),\n",
       " (5, 4, 1, 3, 2),\n",
       " (5, 4, 2, 1, 3),\n",
       " (5, 4, 2, 3, 1),\n",
       " (5, 4, 3, 1, 2),\n",
       " (5, 4, 3, 2, 1))"
      ]
     },
     "execution_count": 4,
     "metadata": {},
     "output_type": "execute_result"
    }
   ],
   "source": [
    "permutations = tuple(permutations)\n",
    "permutations"
   ]
  },
  {
   "cell_type": "markdown",
   "id": "31f6f33f",
   "metadata": {},
   "source": [
    "Now to answer the question you need to find out how many tuples are in\n",
    "that tuple. You do this using the Python `len` tool which returns the\n",
    "length of something:"
   ]
  },
  {
   "cell_type": "code",
   "execution_count": 5,
   "id": "f63fe895",
   "metadata": {},
   "outputs": [
    {
     "data": {
      "text/plain": [
       "120"
      ]
     },
     "execution_count": 5,
     "metadata": {},
     "output_type": "execute_result"
    }
   ],
   "source": [
    "len(permutations)"
   ]
  },
  {
   "cell_type": "markdown",
   "id": "5d055d17",
   "metadata": {},
   "source": [
    "You can confirm this to be correct as you know that there are $5!$ ways\n",
    "of arranging those numbers. The `math` library has a `factorial` tool:"
   ]
  },
  {
   "cell_type": "code",
   "execution_count": 6,
   "id": "833d7190",
   "metadata": {},
   "outputs": [
    {
     "data": {
      "text/plain": [
       "120"
      ]
     },
     "execution_count": 6,
     "metadata": {},
     "output_type": "execute_result"
    }
   ],
   "source": [
    "import math\n",
    "\n",
    "math.factorial(5)"
   ]
  },
  {
   "cell_type": "markdown",
   "id": "b921b071",
   "metadata": {},
   "source": [
    "In order to find out how many 5 digit numbers are odd you are going to compute\n",
    "the following sum:\n",
    "\n",
    "$$\n",
    "    \\sum_{\\pi \\in \\Pi} \\pi_5 \\mod 2\n",
    "$$\n",
    "\n",
    "Where $\\Pi$ is the set of permutations and $\\pi_5$ denotes the 5th (and\n",
    "last) element of the permutation. So for example, if the first element\n",
    "of $\\Pi$ was To do this you use the `sum` tool in python coupled with\n",
    "the expressions `for` and `in`. You also access the 5th element of a\n",
    "given `permutation` using `[4]` (the first element is indexed by 0, so\n",
    "the 5th is indexed by 4):"
   ]
  },
  {
   "cell_type": "code",
   "execution_count": 7,
   "id": "1dee35e2",
   "metadata": {},
   "outputs": [
    {
     "data": {
      "text/plain": [
       "72"
      ]
     },
     "execution_count": 7,
     "metadata": {},
     "output_type": "execute_result"
    }
   ],
   "source": [
    "sum(permutation[4] % 2 for permutation in permutations)"
   ]
  },
  {
   "cell_type": "markdown",
   "id": "51a386fd",
   "metadata": {},
   "source": [
    "You can again check this theoretically, there are three valid choices\n",
    "for the last digit of a given tuple to be odd: $1$, $3$ and $5$. For\n",
    "each of those, there are then 4 choices for the remaining digits:"
   ]
  },
  {
   "cell_type": "code",
   "execution_count": 8,
   "id": "b6b4894f",
   "metadata": {},
   "outputs": [
    {
     "data": {
      "text/plain": [
       "72"
      ]
     },
     "execution_count": 8,
     "metadata": {},
     "output_type": "execute_result"
    }
   ],
   "source": [
    "math.factorial(4) * 3"
   ]
  },
  {
   "cell_type": "markdown",
   "id": "b2c8550d",
   "metadata": {},
   "source": [
    "To compute the number of digits that are less than or equal to 23000 you\n",
    "compute a similar sum except you use the `<=` operator and also convert\n",
    "the tuple to a number in base 10:\n",
    "\n",
    "$$\n",
    "    (\\pi_1, \\pi_2, \\pi_3, \\pi_4, \\pi_5) \\to \\pi_1 10 ^ 4 + \\pi_2 10 ^ 3 + \\pi_3 10 ^ 2 + \\pi_4 10 + \\pi_5\n",
    "$$\n",
    "\n",
    "Thus you are going to compute the following sum:\n",
    "\n",
    "$$\n",
    "    \\sum_{\\pi \\in \\Pi \\text{ if }\\pi_1 10 ^ 4 + \\pi_2 10 ^ 3 + \\pi_3 10 ^ 2 + \\pi_4 10 + \\pi_5 \\leq 23000} 1\n",
    "$$"
   ]
  },
  {
   "cell_type": "code",
   "execution_count": 9,
   "id": "b9ac3899",
   "metadata": {},
   "outputs": [
    {
     "data": {
      "text/plain": [
       "30"
      ]
     },
     "execution_count": 9,
     "metadata": {},
     "output_type": "execute_result"
    }
   ],
   "source": [
    "sum(\n",
    "    1\n",
    "    for permutation in permutations\n",
    "    if permutation[0] * 10 ** 4\n",
    "    + permutation[1] * 10 ** 3\n",
    "    + permutation[2] * 10 ** 2\n",
    "    + permutation[3] * 10\n",
    "    + permutation[4]\n",
    "    <= 23000\n",
    ")"
   ]
  },
  {
   "cell_type": "markdown",
   "id": "3c4c2ba8",
   "metadata": {},
   "source": [
    "You can again confirm this theoretically, for a given tuple to be less\n",
    "than 23000 that is only possible if the first digit is 1 or 2:\n",
    "\n",
    "- If it is 1 then any of the other $4!$ permutations of the other\n",
    "  digits is valid;\n",
    "- If it is 2 then the second digit must be 1 and any of the other $3!$\n",
    "  permutations of the other digits is valid."
   ]
  },
  {
   "cell_type": "code",
   "execution_count": 10,
   "id": "b15c3a6a",
   "metadata": {},
   "outputs": [
    {
     "data": {
      "text/plain": [
       "30"
      ]
     },
     "execution_count": 10,
     "metadata": {},
     "output_type": "execute_result"
    }
   ],
   "source": [
    "(math.factorial(4) + math.factorial(3))"
   ]
  },
  {
   "cell_type": "markdown",
   "id": "97941677",
   "metadata": {},
   "source": [
    "```{important}\n",
    "In this tutorial you have\n",
    "\n",
    "-   Created permutations of tuples;\n",
    "-   Created permutations of tuples that obey a given condition;\n",
    "-   Counted how many permutations exist; and\n",
    "-   Directly computed the expected number of permutations.\n",
    "```"
   ]
  }
 ],
 "metadata": {
  "jupytext": {
   "formats": "ipynb,md:myst",
   "text_representation": {
    "extension": ".md",
    "format_name": "myst",
    "format_version": 0.12,
    "jupytext_version": "1.6.0"
   }
  },
  "kernelspec": {
   "display_name": "Python 3",
   "language": "python",
   "name": "python3"
  },
  "language_info": {
   "codemirror_mode": {
    "name": "ipython",
    "version": 3
   },
   "file_extension": ".py",
   "mimetype": "text/x-python",
   "name": "python",
   "nbconvert_exporter": "python",
   "pygments_lexer": "ipython3",
   "version": "3.10.18"
  },
  "source_map": [
   13,
   35,
   38,
   44,
   46,
   52,
   59,
   66,
   71,
   77,
   79,
   84,
   88,
   104,
   106,
   112,
   114,
   130,
   141,
   151,
   153
  ]
 },
 "nbformat": 4,
 "nbformat_minor": 5
}