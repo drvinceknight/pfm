{
 "cells": [
  {
   "cell_type": "markdown",
   "id": "a92c9f56",
   "metadata": {},
   "source": [
    "# How to\n",
    "\n",
    "## Calculate measures of spread and tendency\n",
    "\n",
    "### Calculate a mean\n",
    "\n",
    "You can calculate the mean of a set of data using `statistics.mean` which takes an\n",
    "iterable.\n",
    "\n",
    "````{admonition} Usage\n",
    ":class: tip\n",
    "\n",
    "```\n",
    "statistics.mean(data)\n",
    "```\n",
    "````\n",
    "\n",
    "For example to calculate the mean of $(1, 5, 10, 12, 13, 20)$:"
   ]
  },
  {
   "cell_type": "code",
   "execution_count": 1,
   "id": "9210af04",
   "metadata": {},
   "outputs": [
    {
     "data": {
      "text/plain": [
       "10.166666666666666"
      ]
     },
     "execution_count": 1,
     "metadata": {},
     "output_type": "execute_result"
    }
   ],
   "source": [
    "import statistics as st\n",
    "\n",
    "data = (1, 5, 10, 12, 13, 20)\n",
    "st.mean(data)"
   ]
  },
  {
   "cell_type": "markdown",
   "id": "d251641a",
   "metadata": {},
   "source": [
    "### Calculate a median\n",
    "\n",
    "You can calculate the median of a set of data using `statistics.median` which takes an\n",
    "iterable.\n",
    "\n",
    "````{admonition} Usage\n",
    ":class: tip\n",
    "\n",
    "```\n",
    "statistics.median(data)\n",
    "```\n",
    "````\n",
    "\n",
    "For example to calculate the median of $(1, 5, 10, 12, 13, 20)$:"
   ]
  },
  {
   "cell_type": "code",
   "execution_count": 2,
   "id": "23ce889c",
   "metadata": {},
   "outputs": [
    {
     "data": {
      "text/plain": [
       "11.0"
      ]
     },
     "execution_count": 2,
     "metadata": {},
     "output_type": "execute_result"
    }
   ],
   "source": [
    "import statistics as st\n",
    "\n",
    "data = (1, 5, 10, 12, 13, 20)\n",
    "st.median(data)"
   ]
  },
  {
   "cell_type": "markdown",
   "id": "2b371ec1",
   "metadata": {},
   "source": [
    "### Calculate the population standard deviation\n",
    "\n",
    "You can calculate the population standard deviation of a set of data using `statistics.pstdev` which takes an\n",
    "iterable.\n",
    "\n",
    "````{admonition} Usage\n",
    ":class: tip\n",
    "\n",
    "```\n",
    "statistics.pstdev(data)\n",
    "```\n",
    "````\n",
    "\n",
    "For example to calculate the population standard deviation of $(1, 5, 10, 12, 13, 20)$:"
   ]
  },
  {
   "cell_type": "code",
   "execution_count": 3,
   "id": "e3f4773d",
   "metadata": {},
   "outputs": [
    {
     "data": {
      "text/plain": [
       "6.039223643997813"
      ]
     },
     "execution_count": 3,
     "metadata": {},
     "output_type": "execute_result"
    }
   ],
   "source": [
    "import statistics as st\n",
    "\n",
    "data = (1, 5, 10, 12, 13, 20)\n",
    "st.pstdev(data)"
   ]
  },
  {
   "cell_type": "markdown",
   "id": "0378cf1e",
   "metadata": {},
   "source": [
    "### Calculate the sample standard deviation\n",
    "\n",
    "You can calculate the sample standard deviation of a set of data using `statistics.stdev` which takes an\n",
    "iterable.\n",
    "\n",
    "````{admonition} Usage\n",
    ":class: tip\n",
    "\n",
    "```\n",
    "statistics.stdev(data)\n",
    "```\n",
    "````\n",
    "\n",
    "For example to calculate the sample standard deviation of $(1, 5, 10, 12, 13, 20)$:"
   ]
  },
  {
   "cell_type": "code",
   "execution_count": 4,
   "id": "51014e79",
   "metadata": {},
   "outputs": [
    {
     "data": {
      "text/plain": [
       "6.6156380392723015"
      ]
     },
     "execution_count": 4,
     "metadata": {},
     "output_type": "execute_result"
    }
   ],
   "source": [
    "import statistics as st\n",
    "\n",
    "data = (1, 5, 10, 12, 13, 20)\n",
    "st.stdev(data)"
   ]
  },
  {
   "cell_type": "markdown",
   "id": "d258cfa9",
   "metadata": {},
   "source": [
    "### Calculate the population variance\n",
    "\n",
    "You can calculate the population variance of a set of data using `statistics.pvariance` which takes an\n",
    "iterable.\n",
    "\n",
    "````{admonition} Usage\n",
    ":class: tip\n",
    "\n",
    "```\n",
    "statistics.pvariance(data)\n",
    "```\n",
    "````\n",
    "\n",
    "For example to calculate the population variance of $(1, 5, 10, 12, 13, 20)$:"
   ]
  },
  {
   "cell_type": "code",
   "execution_count": 5,
   "id": "d36d736d",
   "metadata": {},
   "outputs": [
    {
     "data": {
      "text/plain": [
       "36.47222222222222"
      ]
     },
     "execution_count": 5,
     "metadata": {},
     "output_type": "execute_result"
    }
   ],
   "source": [
    "import statistics as st\n",
    "\n",
    "data = (1, 5, 10, 12, 13, 20)\n",
    "st.pvariance(data)"
   ]
  },
  {
   "cell_type": "markdown",
   "id": "9496edae",
   "metadata": {},
   "source": [
    "### Calculate the sample variance\n",
    "\n",
    "You can calculate the sample variance of a set of data using `statistics.variance` which takes an\n",
    "iterable.\n",
    "\n",
    "````{admonition} Usage\n",
    ":class: tip\n",
    "\n",
    "```\n",
    "statistics.variance(data)\n",
    "```\n",
    "````\n",
    "\n",
    "For example to calculate the sample variance of $(1, 5, 10, 12, 13, 20)$:"
   ]
  },
  {
   "cell_type": "code",
   "execution_count": 6,
   "id": "3f32ff76",
   "metadata": {},
   "outputs": [
    {
     "data": {
      "text/plain": [
       "43.766666666666666"
      ]
     },
     "execution_count": 6,
     "metadata": {},
     "output_type": "execute_result"
    }
   ],
   "source": [
    "import statistics as st\n",
    "\n",
    "data = (1, 5, 10, 12, 13, 20)\n",
    "st.variance(data)"
   ]
  },
  {
   "cell_type": "markdown",
   "id": "c537f44c",
   "metadata": {},
   "source": [
    "### Calculate the maximum\n",
    "\n",
    "You can calculate the maximum of a set of data use `max` which takes an iterable:\n",
    "\n",
    "````{admonition} Usage\n",
    ":class: tip\n",
    "\n",
    "```\n",
    "max(data)\n",
    "```\n",
    "````\n",
    "\n",
    "For example to calculate the maximum of $(1, 5, 10, 12, 13, 20)$:"
   ]
  },
  {
   "cell_type": "code",
   "execution_count": 7,
   "id": "95cbf3a0",
   "metadata": {},
   "outputs": [
    {
     "data": {
      "text/plain": [
       "20"
      ]
     },
     "execution_count": 7,
     "metadata": {},
     "output_type": "execute_result"
    }
   ],
   "source": [
    "data = (1, 5, 10, 12, 13, 20)\n",
    "max(data)"
   ]
  },
  {
   "cell_type": "markdown",
   "id": "8ec83cf3",
   "metadata": {},
   "source": [
    "### Calculate the minimum\n",
    "\n",
    "You can calculate the minimum of a set of data use `max` which takes an iterable:\n",
    "\n",
    "````{admonition} Usage\n",
    ":class: tip\n",
    "\n",
    "```\n",
    "min(data)\n",
    "```\n",
    "````\n",
    "\n",
    "For example to calculate the minimum of $(1, 5, 10, 12, 13, 20)$:"
   ]
  },
  {
   "cell_type": "code",
   "execution_count": 8,
   "id": "d6fa2a5b",
   "metadata": {},
   "outputs": [
    {
     "data": {
      "text/plain": [
       "1"
      ]
     },
     "execution_count": 8,
     "metadata": {},
     "output_type": "execute_result"
    }
   ],
   "source": [
    "data = (1, 5, 10, 12, 13, 20)\n",
    "min(data)"
   ]
  },
  {
   "cell_type": "markdown",
   "id": "6f38435f",
   "metadata": {},
   "source": [
    "### Calculate quantiles\n",
    "\n",
    "To calculate cut points dividing data in to $n$ intervals of equal probability\n",
    "you can use `statistics.quantiles` which takes an iterable and a number of\n",
    "intervals.\n",
    "\n",
    "````{admonition} Usage\n",
    ":class: tip\n",
    "\n",
    "```\n",
    "statistics.quantiles(data, n)\n",
    "```\n",
    "````\n",
    "\n",
    "For example to calculate the cut points that divide $(1, 5, 10, 12, 13, 20)$ in\n",
    "to 4 intervals of equal probability (in this case the quantiles are called\n",
    "quartiles):"
   ]
  },
  {
   "cell_type": "code",
   "execution_count": 9,
   "id": "8ba5e695",
   "metadata": {},
   "outputs": [
    {
     "data": {
      "text/plain": [
       "[4.0, 11.0, 14.75]"
      ]
     },
     "execution_count": 9,
     "metadata": {},
     "output_type": "execute_result"
    }
   ],
   "source": [
    "import statistics as st\n",
    "\n",
    "data = (1, 5, 10, 12, 13, 20)\n",
    "st.quantiles(data, n=4)"
   ]
  },
  {
   "cell_type": "markdown",
   "id": "ed0c18b3",
   "metadata": {},
   "source": [
    "## Calculate the sample covariance\n",
    "\n",
    "To calculate the sample covariance of two data sets you can use\n",
    "`statistics.covariance` which takes two iterables.\n",
    "\n",
    "````{admonition} Usage\n",
    ":class: tip\n",
    "\n",
    "```\n",
    "statistics.covariance(first_data_set, second_data_set)\n",
    "```\n",
    "````\n",
    "\n",
    "For example to calculate the sample covariance of $x=(1, 5, 10, 12, 13, 20)$\n",
    "and $y=(3, -3, 6, -2, 1, 2)$:"
   ]
  },
  {
   "cell_type": "code",
   "execution_count": 10,
   "id": "f5146bb1",
   "metadata": {},
   "outputs": [
    {
     "data": {
      "text/plain": [
       "1.1666666666666674"
      ]
     },
     "execution_count": 10,
     "metadata": {},
     "output_type": "execute_result"
    }
   ],
   "source": [
    "import statistics as st\n",
    "\n",
    "x = (1, 5, 10, 12, 13, 20)\n",
    "y = (3, -3, 6, -2, 1, 2)\n",
    "st.covariance(x, y)"
   ]
  },
  {
   "cell_type": "markdown",
   "id": "90bea43b",
   "metadata": {},
   "source": [
    "## Calculate the Pearson correlation coefficient\n",
    "\n",
    "To calculate the correlation coefficient of two data sets you can use\n",
    "`statistics.correlation` which takes two iterables.\n",
    "\n",
    "````{admonition} Usage\n",
    ":class: tip\n",
    "\n",
    "```\n",
    "statistics.correlation(first_data_set, second_data_set)\n",
    "```\n",
    "````\n",
    "\n",
    "For example to calculate the correlation coefficient of $x=(1, 5, 10, 12, 13, 20)$\n",
    "and $y=(3, -3, 6, -2, 1, 2)$:"
   ]
  },
  {
   "cell_type": "code",
   "execution_count": 11,
   "id": "7631df97",
   "metadata": {},
   "outputs": [
    {
     "data": {
      "text/plain": [
       "0.05325222181462787"
      ]
     },
     "execution_count": 11,
     "metadata": {},
     "output_type": "execute_result"
    }
   ],
   "source": [
    "import statistics as st\n",
    "\n",
    "x = (1, 5, 10, 12, 13, 20)\n",
    "y = (3, -3, 6, -2, 1, 2)\n",
    "st.correlation(x, y)"
   ]
  },
  {
   "cell_type": "markdown",
   "id": "279bb922",
   "metadata": {},
   "source": [
    "## Fit a line of best fit\n",
    "\n",
    "To carry out linear regression to fit a line of best fit between two data sets\n",
    "you can use `statistics.linear_regression` which takes two iterables and returns\n",
    "a tuple with the slope and the intercept of the line.\n",
    "\n",
    "````{admonition} Usage\n",
    ":class: tip\n",
    "\n",
    "```\n",
    "statistics.linear_regression(first_data_set, second_data_set)\n",
    "```\n",
    "````\n",
    "\n",
    "For example to calculate the correlation coefficient of $x=(1, 5, 10, 12, 13, 20)$\n",
    "and $y=(-3, -14, -31, -6, -40, -70)$:"
   ]
  },
  {
   "cell_type": "code",
   "execution_count": 12,
   "id": "0fb544fa",
   "metadata": {},
   "outputs": [
    {
     "data": {
      "text/plain": [
       "LinearRegression(slope=-3.2338156892612333, intercept=5.543792840822537)"
      ]
     },
     "execution_count": 12,
     "metadata": {},
     "output_type": "execute_result"
    }
   ],
   "source": [
    "import statistics as st\n",
    "\n",
    "x = (1, 5, 10, 12, 13, 20)\n",
    "y = (-3, -14, -31, -6, -40, -70)\n",
    "st.linear_regression(x, y)"
   ]
  },
  {
   "cell_type": "code",
   "execution_count": 13,
   "id": "b3544988",
   "metadata": {
    "tags": [
     "remove-input",
     "style-check-ignore",
     "nbval-ignore-output"
    ]
   },
   "outputs": [
    {
     "data": {
      "image/png": "[encoded data removed]",
      "text/plain": [
       "<Figure size 640x480 with 1 Axes>"
      ]
     },
     "metadata": {
      "filenames": {
       "image/png": "/home/runner/work/pfm/pfm/_build/jupyter_execute/tools-for-mathematics/08-statistics/how/main_24_0.png"
      }
     },
     "output_type": "display_data"
    }
   ],
   "source": [
    "import matplotlib.pyplot as plt\n",
    "import numpy as np\n",
    "\n",
    "x = (1, 5, 10, 12, 13, 20)\n",
    "y = (-3, -14, -31, -6, -40, -70)\n",
    "slope, intercept = st.linear_regression(x, y)\n",
    "\n",
    "x_range = np.array((np.min(x), np.max(x)))\n",
    "relationship_image = slope * x_range + intercept\n",
    "\n",
    "plt.figure()\n",
    "plt.scatter(x=x, y=y)\n",
    "plt.plot(x_range, relationship_image, color=\"black\")\n",
    "plt.xlabel(\"$x$\")\n",
    "plt.ylabel(\"$y$\")\n",
    "plt.title(f\"Data with fitted line: $y={slope:.2f}x+{intercept:.2f}$\");"
   ]
  },
  {
   "cell_type": "markdown",
   "id": "f71941de",
   "metadata": {},
   "source": [
    "## Create an instance of the normal distribution\n",
    "\n",
    "A normal distribution with mean $\\mu$ and standard deviation $\\sigma$ can be\n",
    "created using `statistics.NormalDist`:\n",
    "\n",
    "````{admonition} Usage\n",
    ":class: tip\n",
    "\n",
    "```\n",
    "statistics.NormalDist(mu, sigma)\n",
    "```\n",
    "````\n",
    "\n",
    "For example to create the normal distribution with $\\mu=3$ and $\\sigma=.5$:"
   ]
  },
  {
   "cell_type": "code",
   "execution_count": 14,
   "id": "4d92be51",
   "metadata": {},
   "outputs": [
    {
     "data": {
      "text/plain": [
       "NormalDist(mu=3.0, sigma=0.5)"
      ]
     },
     "execution_count": 14,
     "metadata": {},
     "output_type": "execute_result"
    }
   ],
   "source": [
    "import statistics as st\n",
    "\n",
    "distribution = st.NormalDist(mu=3, sigma=.5)\n",
    "distribution"
   ]
  },
  {
   "cell_type": "markdown",
   "id": "23a27f0c",
   "metadata": {},
   "source": [
    "## Use the cumulative distribution function of a normal distribution\n",
    "\n",
    "For an instance of a normal distribution with mean $\\mu$ and $\\sigma$, the\n",
    "cumulative distribution function which gives $F(x)=P(X<x)$ (the probability that\n",
    "the normally distributed random variable is less than $X$) can be accessed using\n",
    "`statistics.NormaDist.cdf`.\n",
    "\n",
    "````{admonition} Usage\n",
    ":class: tip\n",
    "\n",
    "```\n",
    "distribution = statistics.NormalDist(mu, sigma)\n",
    "distribution.cdf(x)\n",
    "```\n",
    "````\n",
    "\n",
    "For example to find the probability that $X<2$ for a normally distributed random\n",
    "variable with $\\mu=3$ and $\\sigma=.5$:"
   ]
  },
  {
   "cell_type": "code",
   "execution_count": 15,
   "id": "d823c0b2",
   "metadata": {},
   "outputs": [
    {
     "data": {
      "text/plain": [
       "0.02275013194817921"
      ]
     },
     "execution_count": 15,
     "metadata": {},
     "output_type": "execute_result"
    }
   ],
   "source": [
    "import statistics as st\n",
    "\n",
    "distribution = st.NormalDist(mu=3, sigma=.5)\n",
    "distribution.cdf(2)"
   ]
  },
  {
   "cell_type": "markdown",
   "id": "4a277b31",
   "metadata": {},
   "source": [
    "## Use the inverse cumulative distribution function of a normal distribution\n",
    "\n",
    "For an instance of a normal distribution with mean $\\mu$ and $\\sigma$, the\n",
    "inverse cumulative distribution function which for a given $p$ gives $x$ such that $p=P(X<x)$\n",
    "can be accessed using `statistics.NormaDist.inv_cdf`.\n",
    "\n",
    "````{admonition} Usage\n",
    ":class: tip\n",
    "\n",
    "```\n",
    "distribution = statistics.NormalDist(mu, sigma)\n",
    "distribution.inv_cdf(p)\n",
    "```\n",
    "````\n",
    "\n",
    "For example to find the value of $X$ for which a normally distributed random\n",
    "variable with $\\mu=3$ and $\\sigma=.5$ will be less than with probability $.7$."
   ]
  },
  {
   "cell_type": "code",
   "execution_count": 16,
   "id": "7a521377",
   "metadata": {},
   "outputs": [
    {
     "data": {
      "text/plain": [
       "3.2622002563540202"
      ]
     },
     "execution_count": 16,
     "metadata": {},
     "output_type": "execute_result"
    }
   ],
   "source": [
    "import statistics as st\n",
    "\n",
    "distribution = st.NormalDist(mu=3, sigma=.5)\n",
    "distribution.inv_cdf(.7)"
   ]
  }
 ],
 "metadata": {
  "jupytext": {
   "formats": "ipynb,md:myst",
   "text_representation": {
    "extension": ".md",
    "format_name": "myst",
    "format_version": 0.12,
    "jupytext_version": "1.6.0"
   }
  },
  "kernelspec": {
   "display_name": "Python 3",
   "language": "python",
   "name": "python3"
  },
  "language_info": {
   "codemirror_mode": {
    "name": "ipython",
    "version": 3
   },
   "file_extension": ".py",
   "mimetype": "text/x-python",
   "name": "python",
   "nbconvert_exporter": "python",
   "pygments_lexer": "ipython3",
   "version": "3.10.18"
  },
  "source_map": [
   13,
   34,
   39,
   56,
   61,
   78,
   83,
   100,
   105,
   122,
   127,
   144,
   149,
   165,
   168,
   184,
   187,
   207,
   212,
   230,
   236,
   254,
   260,
   279,
   287,
   306,
   323,
   328,
   349,
   354,
   374
  ]
 },
 "nbformat": 4,
 "nbformat_minor": 5
}