{
 "cells": [
  {
   "cell_type": "markdown",
   "id": "56c546cb",
   "metadata": {},
   "source": [
    "# How\n",
    "\n",
    "## Calculate measures of spread and tendency\n",
    "\n",
    "### Calculate a mean\n",
    "\n",
    "We can calculate the mean of a set of data using `statistics.mean` which takes an\n",
    "iterable.\n",
    "\n",
    "````{tip}\n",
    "```\n",
    "statistics.mean(data)\n",
    "```\n",
    "````\n",
    "\n",
    "For example to calculate the mean of $(1, 5, 10, 12, 13, 20)$:"
   ]
  },
  {
   "cell_type": "code",
   "execution_count": 1,
   "id": "33221aef",
   "metadata": {},
   "outputs": [
    {
     "data": {
      "text/plain": [
       "10.166666666666666"
      ]
     },
     "execution_count": 1,
     "metadata": {},
     "output_type": "execute_result"
    }
   ],
   "source": [
    "import statistics as stat\n",
    "\n",
    "data = (1, 5, 10, 12, 13, 20)\n",
    "stat.mean(data)"
   ]
  },
  {
   "cell_type": "markdown",
   "id": "cc78d0e4",
   "metadata": {},
   "source": [
    "### Calculate a mean\n",
    "\n",
    "We can calculate the median of a set of data using `statistics.median` which takes an\n",
    "iterable.\n",
    "\n",
    "````{tip}\n",
    "```\n",
    "statistics.median(data)\n",
    "```\n",
    "````\n",
    "\n",
    "For example to calculate the median of $(1, 5, 10, 12, 13, 20)$:"
   ]
  },
  {
   "cell_type": "code",
   "execution_count": 2,
   "id": "90de16b7",
   "metadata": {},
   "outputs": [
    {
     "data": {
      "text/plain": [
       "11.0"
      ]
     },
     "execution_count": 2,
     "metadata": {},
     "output_type": "execute_result"
    }
   ],
   "source": [
    "import statistics as stat\n",
    "\n",
    "data = (1, 5, 10, 12, 13, 20)\n",
    "stat.median(data)"
   ]
  },
  {
   "cell_type": "markdown",
   "id": "e1e511b8",
   "metadata": {},
   "source": [
    "### Calculate the population standard deviation\n",
    "\n",
    "We can calculate the population standard deviation of a set of data using `statistics.pstdev` which takes an\n",
    "iterable.\n",
    "\n",
    "````{tip}\n",
    "```\n",
    "statistics.pstdev(data)\n",
    "```\n",
    "````\n",
    "\n",
    "For example to calculate the population standard deviation of $(1, 5, 10, 12, 13, 20)$:"
   ]
  },
  {
   "cell_type": "code",
   "execution_count": 3,
   "id": "dd8fc780",
   "metadata": {},
   "outputs": [
    {
     "data": {
      "text/plain": [
       "6.039223643997813"
      ]
     },
     "execution_count": 3,
     "metadata": {},
     "output_type": "execute_result"
    }
   ],
   "source": [
    "import statistics as stat\n",
    "\n",
    "data = (1, 5, 10, 12, 13, 20)\n",
    "stat.pstdev(data)"
   ]
  },
  {
   "cell_type": "markdown",
   "id": "adfbc5b7",
   "metadata": {},
   "source": [
    "### Calculate the sample standard deviation\n",
    "\n",
    "We can calculate the sample standard deviation of a set of data using `statistics.stdev` which takes an\n",
    "iterable.\n",
    "\n",
    "````{tip}\n",
    "```\n",
    "statistics.stdev(data)\n",
    "```\n",
    "````\n",
    "\n",
    "For example to calculate the sample standard deviation of $(1, 5, 10, 12, 13, 20)$:"
   ]
  },
  {
   "cell_type": "code",
   "execution_count": 4,
   "id": "d1805145",
   "metadata": {},
   "outputs": [
    {
     "data": {
      "text/plain": [
       "6.6156380392723015"
      ]
     },
     "execution_count": 4,
     "metadata": {},
     "output_type": "execute_result"
    }
   ],
   "source": [
    "import statistics as stat\n",
    "\n",
    "data = (1, 5, 10, 12, 13, 20)\n",
    "stat.stdev(data)"
   ]
  },
  {
   "cell_type": "markdown",
   "id": "c8784a00",
   "metadata": {},
   "source": [
    "### Calculate the population variance\n",
    "\n",
    "We can calculate the population variance of a set of data using `statistics.pvariance` which takes an\n",
    "iterable.\n",
    "\n",
    "````{tip}\n",
    "```\n",
    "statistics.pvariance(data)\n",
    "```\n",
    "````\n",
    "\n",
    "For example to calculate the population variance of $(1, 5, 10, 12, 13, 20)$:"
   ]
  },
  {
   "cell_type": "code",
   "execution_count": 5,
   "id": "cfe0f7cb",
   "metadata": {},
   "outputs": [
    {
     "data": {
      "text/plain": [
       "36.47222222222222"
      ]
     },
     "execution_count": 5,
     "metadata": {},
     "output_type": "execute_result"
    }
   ],
   "source": [
    "import statistics as stat\n",
    "\n",
    "data = (1, 5, 10, 12, 13, 20)\n",
    "stat.pvariance(data)"
   ]
  },
  {
   "cell_type": "markdown",
   "id": "e3c869b3",
   "metadata": {},
   "source": [
    "### Calculate the sample variance\n",
    "\n",
    "We can calculate the sample variance of a set of data using `statistics.variance` which takes an\n",
    "iterable.\n",
    "\n",
    "````{tip}\n",
    "```\n",
    "statistics.variance(data)\n",
    "```\n",
    "````\n",
    "\n",
    "For example to calculate the sample variance of $(1, 5, 10, 12, 13, 20)$:"
   ]
  },
  {
   "cell_type": "code",
   "execution_count": 6,
   "id": "7e128ec1",
   "metadata": {},
   "outputs": [
    {
     "data": {
      "text/plain": [
       "43.766666666666666"
      ]
     },
     "execution_count": 6,
     "metadata": {},
     "output_type": "execute_result"
    }
   ],
   "source": [
    "import statistics as stat\n",
    "\n",
    "data = (1, 5, 10, 12, 13, 20)\n",
    "stat.variance(data)"
   ]
  },
  {
   "cell_type": "markdown",
   "id": "156ac703",
   "metadata": {},
   "source": [
    "### Calculate the maximum\n",
    "\n",
    "We can calculate the maximum of a set of data use `max` which takes an iterable:\n",
    "\n",
    "````{tip}\n",
    "```\n",
    "max(data)\n",
    "```\n",
    "````\n",
    "\n",
    "For example to calculate the maximum of $(1, 5, 10, 12, 13, 20)$:"
   ]
  },
  {
   "cell_type": "code",
   "execution_count": 7,
   "id": "7259b88b",
   "metadata": {},
   "outputs": [
    {
     "data": {
      "text/plain": [
       "20"
      ]
     },
     "execution_count": 7,
     "metadata": {},
     "output_type": "execute_result"
    }
   ],
   "source": [
    "data = (1, 5, 10, 12, 13, 20)\n",
    "max(data)"
   ]
  },
  {
   "cell_type": "markdown",
   "id": "fd590f61",
   "metadata": {},
   "source": [
    "### Calculate the minimum\n",
    "\n",
    "We can calculate the minimum of a set of data use `max` which takes an iterable:\n",
    "\n",
    "````{tip}\n",
    "```\n",
    "min(data)\n",
    "```\n",
    "````\n",
    "\n",
    "For example to calculate the minimum of $(1, 5, 10, 12, 13, 20)$:"
   ]
  },
  {
   "cell_type": "code",
   "execution_count": 8,
   "id": "b0dcb48e",
   "metadata": {},
   "outputs": [
    {
     "data": {
      "text/plain": [
       "1"
      ]
     },
     "execution_count": 8,
     "metadata": {},
     "output_type": "execute_result"
    }
   ],
   "source": [
    "data = (1, 5, 10, 12, 13, 20)\n",
    "min(data)"
   ]
  },
  {
   "cell_type": "markdown",
   "id": "aca72a16",
   "metadata": {},
   "source": [
    "### Calculate quantiles\n",
    "\n",
    "To calculate cut points dividing data in to $n$ intervals of equal probability\n",
    "we can use `statistics.quantiles` which takes an iterable and a number of\n",
    "intervals.\n",
    "\n",
    "````{tip}\n",
    "```\n",
    "statistics.quantiles(data, n)\n",
    "```\n",
    "````\n",
    "\n",
    "For example to calculate the cut points that divide $(1, 5, 10, 12, 13, 20)$ in\n",
    "to 4 intervals of equal probability (in this case the quantiles are called\n",
    "quartiles):"
   ]
  },
  {
   "cell_type": "code",
   "execution_count": 9,
   "id": "a9c87004",
   "metadata": {},
   "outputs": [
    {
     "data": {
      "text/plain": [
       "[4.0, 11.0, 14.75]"
      ]
     },
     "execution_count": 9,
     "metadata": {},
     "output_type": "execute_result"
    }
   ],
   "source": [
    "import statistics as stat\n",
    "\n",
    "data = (1, 5, 10, 12, 13, 20)\n",
    "stat.quantiles(data, n=4)"
   ]
  },
  {
   "cell_type": "markdown",
   "id": "9fcd5471",
   "metadata": {},
   "source": [
    "## Calculate the sample covariance\n",
    "\n",
    "To calculate the sample covariance of two data sets we can use\n",
    "`statistics.covariance` which takes two iterables.\n",
    "\n",
    "````{tip}\n",
    "```\n",
    "statistics.covariance(first_data_set, second_data_set)\n",
    "```\n",
    "````\n",
    "\n",
    "For example to calculate the sample covariance of $x=(1, 5, 10, 12, 13, 20)$\n",
    "and $y=(3, -3, 6, -2, 1, 2)$:"
   ]
  },
  {
   "cell_type": "code",
   "execution_count": 10,
   "id": "7927fcff",
   "metadata": {},
   "outputs": [
    {
     "ename": "AttributeError",
     "evalue": "module 'statistics' has no attribute 'covariance'",
     "output_type": "error",
     "traceback": [
      "\u001b[0;31m---------------------------------------------------------------------------\u001b[0m",
      "\u001b[0;31mAttributeError\u001b[0m                            Traceback (most recent call last)",
      "Cell \u001b[0;32mIn[10], line 5\u001b[0m\n\u001b[1;32m      3\u001b[0m x \u001b[38;5;241m=\u001b[39m (\u001b[38;5;241m1\u001b[39m, \u001b[38;5;241m5\u001b[39m, \u001b[38;5;241m10\u001b[39m, \u001b[38;5;241m12\u001b[39m, \u001b[38;5;241m13\u001b[39m, \u001b[38;5;241m20\u001b[39m)\n\u001b[1;32m      4\u001b[0m y \u001b[38;5;241m=\u001b[39m (\u001b[38;5;241m3\u001b[39m, \u001b[38;5;241m-\u001b[39m\u001b[38;5;241m3\u001b[39m, \u001b[38;5;241m6\u001b[39m, \u001b[38;5;241m-\u001b[39m\u001b[38;5;241m2\u001b[39m, \u001b[38;5;241m1\u001b[39m, \u001b[38;5;241m2\u001b[39m)\n\u001b[0;32m----> 5\u001b[0m \u001b[43mstat\u001b[49m\u001b[38;5;241;43m.\u001b[39;49m\u001b[43mcovariance\u001b[49m(x, y)\n",
      "\u001b[0;31mAttributeError\u001b[0m: module 'statistics' has no attribute 'covariance'"
     ]
    }
   ],
   "source": [
    "import statistics as stat\n",
    "\n",
    "x = (1, 5, 10, 12, 13, 20)\n",
    "y = (3, -3, 6, -2, 1, 2)\n",
    "stat.covariance(x, y)"
   ]
  },
  {
   "cell_type": "markdown",
   "id": "57e9c42e",
   "metadata": {},
   "source": [
    "## Calculate the Pearson correlation coefficient\n",
    "\n",
    "To calculate the correlation coefficient of two data sets we can use\n",
    "`statistics.correlation` which takes two iterables.\n",
    "\n",
    "````{tip}\n",
    "```\n",
    "statistics.correlation(first_data_set, second_data_set)\n",
    "```\n",
    "````\n",
    "\n",
    "For example to calculate the correlation coefficient of $x=(1, 5, 10, 12, 13, 20)$\n",
    "and $y=(3, -3, 6, -2, 1, 2)$:"
   ]
  },
  {
   "cell_type": "code",
   "execution_count": null,
   "id": "d3a3aa2d",
   "metadata": {},
   "outputs": [],
   "source": [
    "import statistics as stat\n",
    "\n",
    "x = (1, 5, 10, 12, 13, 20)\n",
    "y = (3, -3, 6, -2, 1, 2)\n",
    "stat.correlation(x, y)"
   ]
  },
  {
   "cell_type": "markdown",
   "id": "8c216ee2",
   "metadata": {},
   "source": [
    "## Fit a line of best fit\n",
    "\n",
    "To carry out linear regression to fit a line of best fit between two data sets\n",
    "we can use `statistics.linear_regression` which takes two iterables and returns\n",
    "a tuple with the slope and the intercept of the line.\n",
    "\n",
    "````{tip}\n",
    "```\n",
    "statistics.linear_regression(first_data_set, second_data_set)\n",
    "```\n",
    "````\n",
    "\n",
    "For example to calculate the correlation coefficient of $x=(1, 5, 10, 12, 13, 20)$\n",
    "and $y=(-3, -14, -31, -6, -40, -70)$:"
   ]
  },
  {
   "cell_type": "code",
   "execution_count": null,
   "id": "0048a312",
   "metadata": {},
   "outputs": [],
   "source": [
    "import statistics as stat\n",
    "\n",
    "x = (1, 5, 10, 12, 13, 20)\n",
    "y = (-3, -14, -31, -6, -40, -70)\n",
    "stat.linear_regression(x, y)"
   ]
  },
  {
   "cell_type": "code",
   "execution_count": null,
   "id": "e0d3689b",
   "metadata": {
    "tags": [
     "remove-input",
     "style-check-ignore",
     "nbval-ignore-output"
    ]
   },
   "outputs": [],
   "source": [
    "import matplotlib.pyplot as plt\n",
    "import numpy as np\n",
    "\n",
    "x = (1, 5, 10, 12, 13, 20)\n",
    "y = (-3, -14, -31, -6, -40, -70)\n",
    "slope, intercept = stat.linear_regression(x, y)\n",
    "\n",
    "x_range = np.array((np.min(x), np.max(x)))\n",
    "relationship_image = slope * x_range + intercept\n",
    "\n",
    "plt.figure()\n",
    "plt.scatter(x=x, y=y)\n",
    "plt.plot(x_range, relationship_image, color=\"black\")\n",
    "plt.xlabel(\"$x$\")\n",
    "plt.ylabel(\"$y$\")\n",
    "plt.title(f\"Data with fitted line: $y={slope:.2f}x+{intercept:.2f}$\");"
   ]
  },
  {
   "cell_type": "markdown",
   "id": "23bf55d0",
   "metadata": {},
   "source": [
    "## How to create an instance of the normal distribution\n",
    "\n",
    "A normal distribution with mean $\\mu$ and standard deviation $\\sigma$ can be\n",
    "created using `statistics.NormalDist`:\n",
    "\n",
    "````{tip}\n",
    "```\n",
    "statistics.NormalDist(mu, sigma)\n",
    "```\n",
    "````\n",
    "\n",
    "For example to create the normal distribution with $\\mu=3$ and $\\sigma=.5$:"
   ]
  },
  {
   "cell_type": "code",
   "execution_count": null,
   "id": "b3380721",
   "metadata": {},
   "outputs": [],
   "source": [
    "import statistics as stat\n",
    "\n",
    "distribution = stat.NormalDist(mu=3, sigma=.5)\n",
    "distribution"
   ]
  },
  {
   "cell_type": "markdown",
   "id": "c84965bf",
   "metadata": {},
   "source": [
    "## How to use the cumulative distribution function of a normal distribution\n",
    "\n",
    "For an instance of a normal distribution with mean $\\mu$ and $\\sigma$, the\n",
    "cumulative distribution function which gives $F(x)=P(X<x)$ (the probability that\n",
    "the normally distributed random variable is less than $X$) can be accessed using\n",
    "`statistics.NormaDist.cdf`.\n",
    "\n",
    "````{tip}\n",
    "```\n",
    "distribution = statistics.NormalDist(mu, sigma)\n",
    "distribution.cdf(x)\n",
    "```\n",
    "````\n",
    "\n",
    "For example to find the probability that $X<2$ for a normally distributed random\n",
    "variable with $\\mu=3$ and $\\sigma=.5$:"
   ]
  },
  {
   "cell_type": "code",
   "execution_count": null,
   "id": "b752d182",
   "metadata": {},
   "outputs": [],
   "source": [
    "import statistics as stat\n",
    "\n",
    "distribution = stat.NormalDist(mu=3, sigma=.5)\n",
    "distribution.cdf(2)"
   ]
  },
  {
   "cell_type": "markdown",
   "id": "08491fdd",
   "metadata": {},
   "source": [
    "## How to use the inverse cumulative distribution function of a normal distribution\n",
    "\n",
    "For an instance of a normal distribution with mean $\\mu$ and $\\sigma$, the\n",
    "inverse cumulative distribution function which for a given $p$ gives $x$ such that $p=P(X<x)$\n",
    "can be accessed using `statistics.NormaDist.inv_cdf`.\n",
    "\n",
    "````{tip}\n",
    "```\n",
    "distribution = statistics.NormalDist(mu, sigma)\n",
    "distribution.inv_cdf(p)\n",
    "```\n",
    "````\n",
    "\n",
    "For example to find the value of $X$ for which a normally distributed random\n",
    "variable with $\\mu=3$ and $\\sigma=.5$ will be less than with probability $.7$."
   ]
  },
  {
   "cell_type": "code",
   "execution_count": null,
   "id": "510bed55",
   "metadata": {},
   "outputs": [],
   "source": [
    "import statistics as stat\n",
    "\n",
    "distribution = stat.NormalDist(mu=3, sigma=.5)\n",
    "distribution.inv_cdf(.7)"
   ]
  }
 ],
 "metadata": {
  "jupytext": {
   "formats": "ipynb,md:myst",
   "text_representation": {
    "extension": ".md",
    "format_name": "myst",
    "format_version": 0.12,
    "jupytext_version": "1.6.0"
   }
  },
  "kernelspec": {
   "display_name": "Python 3",
   "language": "python",
   "name": "python3"
  },
  "language_info": {
   "codemirror_mode": {
    "name": "ipython",
    "version": 3
   },
   "file_extension": ".py",
   "mimetype": "text/x-python",
   "name": "python",
   "nbconvert_exporter": "python",
   "pygments_lexer": "ipython3",
   "version": "3.8.17"
  },
  "source_map": [
   13,
   32,
   37,
   52,
   57,
   72,
   77,
   92,
   97,
   112,
   117,
   132,
   137,
   151,
   154,
   168,
   171,
   189,
   194,
   210,
   216,
   232,
   238,
   255,
   263,
   282,
   297,
   302,
   321,
   326,
   344
  ]
 },
 "nbformat": 4,
 "nbformat_minor": 5
}