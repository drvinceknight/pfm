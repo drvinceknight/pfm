{
 "cells": [
  {
   "cell_type": "markdown",
   "id": "41cfccf9",
   "metadata": {},
   "source": [
    "(chp:statistics)=\n",
    "\n",
    "# Statistics\n",
    "\n",
    "Statistics is described as:\n",
    "\n",
    "> \"Statistics is the discipline that concerns the collection,\n",
    "> organization, analysis, interpretation, and presentation of data.\"\n",
    "\n",
    "In practice this often means doing some form of analysis of data. This\n",
    "includes processes like taking a mean of a collection of numerical\n",
    "values and checking if particular relationship exists within the data.\n",
    "\n",
    "```{important}\n",
    "In this chapter you will cover:\n",
    "\n",
    "- Calculating measures of central tendency and spread;\n",
    "- Calculating bivariate coefficients;\n",
    "- Fitting a line of best fit; and\n",
    "- Using the Normal distribution.\n",
    "```"
   ]
  }
 ],
 "metadata": {
  "jupytext": {
   "formats": "ipynb,md:myst",
   "text_representation": {
    "extension": ".md",
    "format_name": "myst",
    "format_version": 0.12,
    "jupytext_version": "1.6.0"
   }
  },
  "kernelspec": {
   "display_name": "Python 3",
   "language": "python",
   "name": "python3"
  },
  "language_info": {
   "codemirror_mode": {
    "name": "ipython",
    "version": 3
   },
   "file_extension": ".py",
   "mimetype": "text/x-python",
   "name": "python",
   "nbconvert_exporter": "python",
   "pygments_lexer": "ipython3",
   "version": "3.10.18"
  },
  "source_map": [
   13
  ]
 },
 "nbformat": 4,
 "nbformat_minor": 5
}