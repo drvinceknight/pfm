{
 "cells": [
  {
   "cell_type": "markdown",
   "id": "59c9a514",
   "metadata": {},
   "source": [
    "# Solutions\n",
    "\n",
    "## Question 1\n",
    "\n",
    "> `1`. For each of the following sets of data:\n",
    "\n",
    ">      Calculate:\n",
    "\n",
    ">      - The mean,\n",
    ">      - The median,\n",
    ">      - The max,\n",
    ">      - The min,\n",
    ">      - The population standard deviation,\n",
    ">      - The sample standard deviation,\n",
    ">      - The population variance,\n",
    ">      - The sample variance,\n",
    ">      - The quartiles (the set of $n=4$ quantiles),\n",
    ">      - The deciles (the set of $n=10$ quantiles),\n",
    ">\n",
    "> `1`. `data_set_1 = (...)"
   ]
  },
  {
   "cell_type": "code",
   "execution_count": 1,
   "id": "9ecba99c",
   "metadata": {},
   "outputs": [],
   "source": [
    "import statistics as st\n",
    "\n",
    "data_set_1 = (\n",
    "    74,\n",
    "    -7,\n",
    "    58,\n",
    "    82,\n",
    "    60,\n",
    "    3,\n",
    "    49,\n",
    "    85,\n",
    "    24,\n",
    "    99,\n",
    "    73,\n",
    "    76,\n",
    "    11,\n",
    "    -4,\n",
    "    61,\n",
    "    87,\n",
    "    93,\n",
    "    13,\n",
    "    1,\n",
    "    28,\n",
    ")"
   ]
  },
  {
   "cell_type": "markdown",
   "id": "ab1e3b7b",
   "metadata": {},
   "source": [
    "> - The mean,"
   ]
  },
  {
   "cell_type": "code",
   "execution_count": 2,
   "id": "0bbf2ba1",
   "metadata": {},
   "outputs": [
    {
     "data": {
      "text/plain": [
       "48.3"
      ]
     },
     "execution_count": 2,
     "metadata": {},
     "output_type": "execute_result"
    }
   ],
   "source": [
    "st.mean(data_set_1)"
   ]
  },
  {
   "cell_type": "markdown",
   "id": "e65c66d6",
   "metadata": {},
   "source": [
    "> - The median,"
   ]
  },
  {
   "cell_type": "code",
   "execution_count": 3,
   "id": "cf2643a6",
   "metadata": {},
   "outputs": [
    {
     "data": {
      "text/plain": [
       "59.0"
      ]
     },
     "execution_count": 3,
     "metadata": {},
     "output_type": "execute_result"
    }
   ],
   "source": [
    "st.median(data_set_1)"
   ]
  },
  {
   "cell_type": "markdown",
   "id": "c0c5f80b",
   "metadata": {},
   "source": [
    "> - The max,"
   ]
  },
  {
   "cell_type": "code",
   "execution_count": 4,
   "id": "1a98f479",
   "metadata": {},
   "outputs": [
    {
     "data": {
      "text/plain": [
       "99"
      ]
     },
     "execution_count": 4,
     "metadata": {},
     "output_type": "execute_result"
    }
   ],
   "source": [
    "max(data_set_1)"
   ]
  },
  {
   "cell_type": "markdown",
   "id": "a74af923",
   "metadata": {},
   "source": [
    "> - The min,"
   ]
  },
  {
   "cell_type": "code",
   "execution_count": 5,
   "id": "f77acea0",
   "metadata": {},
   "outputs": [
    {
     "data": {
      "text/plain": [
       "-7"
      ]
     },
     "execution_count": 5,
     "metadata": {},
     "output_type": "execute_result"
    }
   ],
   "source": [
    "min(data_set_1)"
   ]
  },
  {
   "cell_type": "markdown",
   "id": "96501ff0",
   "metadata": {},
   "source": [
    "> - The population standard deviation,"
   ]
  },
  {
   "cell_type": "code",
   "execution_count": 6,
   "id": "ec1c39a9",
   "metadata": {},
   "outputs": [
    {
     "data": {
      "text/plain": [
       "35.1441318003447"
      ]
     },
     "execution_count": 6,
     "metadata": {},
     "output_type": "execute_result"
    }
   ],
   "source": [
    "st.pstdev(data_set_1)"
   ]
  },
  {
   "cell_type": "markdown",
   "id": "f64a995f",
   "metadata": {},
   "source": [
    "> - The sample standard deviation,"
   ]
  },
  {
   "cell_type": "code",
   "execution_count": 7,
   "id": "fa50b826",
   "metadata": {},
   "outputs": [
    {
     "data": {
      "text/plain": [
       "36.05711842998112"
      ]
     },
     "execution_count": 7,
     "metadata": {},
     "output_type": "execute_result"
    }
   ],
   "source": [
    "st.stdev(data_set_1)"
   ]
  },
  {
   "cell_type": "markdown",
   "id": "63c7fba1",
   "metadata": {},
   "source": [
    "> - The population variance,"
   ]
  },
  {
   "cell_type": "code",
   "execution_count": 8,
   "id": "bcd7909d",
   "metadata": {},
   "outputs": [
    {
     "data": {
      "text/plain": [
       "1235.11"
      ]
     },
     "execution_count": 8,
     "metadata": {},
     "output_type": "execute_result"
    }
   ],
   "source": [
    "st.pvariance(data_set_1)"
   ]
  },
  {
   "cell_type": "markdown",
   "id": "82c14b49",
   "metadata": {},
   "source": [
    "> - The sample variance,"
   ]
  },
  {
   "cell_type": "code",
   "execution_count": 9,
   "id": "57cb0565",
   "metadata": {},
   "outputs": [
    {
     "data": {
      "text/plain": [
       "1300.1157894736841"
      ]
     },
     "execution_count": 9,
     "metadata": {},
     "output_type": "execute_result"
    }
   ],
   "source": [
    "st.variance(data_set_1)"
   ]
  },
  {
   "cell_type": "markdown",
   "id": "3250bfa5",
   "metadata": {},
   "source": [
    "> - The quartiles (the set of $n=4$ quantiles),"
   ]
  },
  {
   "cell_type": "code",
   "execution_count": 10,
   "id": "ca12c0ee",
   "metadata": {},
   "outputs": [
    {
     "data": {
      "text/plain": [
       "[11.5, 59.0, 80.5]"
      ]
     },
     "execution_count": 10,
     "metadata": {},
     "output_type": "execute_result"
    }
   ],
   "source": [
    "st.quantiles(data_set_1, n=4)"
   ]
  },
  {
   "cell_type": "markdown",
   "id": "c84c3e08",
   "metadata": {},
   "source": [
    "> - The deciles (the set of $n=10$ quantiles),"
   ]
  },
  {
   "cell_type": "code",
   "execution_count": 11,
   "id": "c8452eeb",
   "metadata": {},
   "outputs": [
    {
     "data": {
      "text/plain": [
       "[-3.5, 4.6, 16.3, 36.4, 59.0, 68.2, 75.4, 84.4, 92.4]"
      ]
     },
     "execution_count": 11,
     "metadata": {},
     "output_type": "execute_result"
    }
   ],
   "source": [
    "st.quantiles(data_set_1, n=10)"
   ]
  },
  {
   "cell_type": "markdown",
   "id": "20aa11a2",
   "metadata": {},
   "source": [
    "> `2`. `data_set_2 = (...)"
   ]
  },
  {
   "cell_type": "code",
   "execution_count": 12,
   "id": "f9ec497b",
   "metadata": {},
   "outputs": [],
   "source": [
    "import statistics as st\n",
    "\n",
    "data_set_2 = (\n",
    "    65,\n",
    "    59,\n",
    "    81,\n",
    "    81,\n",
    "    76,\n",
    "    93,\n",
    "    91,\n",
    "    88,\n",
    "    55,\n",
    "    97,\n",
    "    86,\n",
    "    94,\n",
    "    79,\n",
    "    54,\n",
    "    63,\n",
    "    56,\n",
    "    58,\n",
    "    77,\n",
    "    85,\n",
    "    88,\n",
    ")"
   ]
  },
  {
   "cell_type": "markdown",
   "id": "e1104ea9",
   "metadata": {},
   "source": [
    "> - The mean,"
   ]
  },
  {
   "cell_type": "code",
   "execution_count": 13,
   "id": "6f95ec03",
   "metadata": {},
   "outputs": [
    {
     "data": {
      "text/plain": [
       "76.3"
      ]
     },
     "execution_count": 13,
     "metadata": {},
     "output_type": "execute_result"
    }
   ],
   "source": [
    "st.mean(data_set_2)"
   ]
  },
  {
   "cell_type": "markdown",
   "id": "db364a53",
   "metadata": {},
   "source": [
    "> - The median,"
   ]
  },
  {
   "cell_type": "code",
   "execution_count": 14,
   "id": "85293ee0",
   "metadata": {},
   "outputs": [
    {
     "data": {
      "text/plain": [
       "80.0"
      ]
     },
     "execution_count": 14,
     "metadata": {},
     "output_type": "execute_result"
    }
   ],
   "source": [
    "st.median(data_set_2)"
   ]
  },
  {
   "cell_type": "markdown",
   "id": "8c7a2ea6",
   "metadata": {},
   "source": [
    "> - The max,"
   ]
  },
  {
   "cell_type": "code",
   "execution_count": 15,
   "id": "fa71d187",
   "metadata": {},
   "outputs": [
    {
     "data": {
      "text/plain": [
       "97"
      ]
     },
     "execution_count": 15,
     "metadata": {},
     "output_type": "execute_result"
    }
   ],
   "source": [
    "max(data_set_2)"
   ]
  },
  {
   "cell_type": "markdown",
   "id": "ca83a54f",
   "metadata": {},
   "source": [
    "> - The min,"
   ]
  },
  {
   "cell_type": "code",
   "execution_count": 16,
   "id": "d6e5bdba",
   "metadata": {},
   "outputs": [
    {
     "data": {
      "text/plain": [
       "54"
      ]
     },
     "execution_count": 16,
     "metadata": {},
     "output_type": "execute_result"
    }
   ],
   "source": [
    "min(data_set_2)"
   ]
  },
  {
   "cell_type": "markdown",
   "id": "62884b98",
   "metadata": {},
   "source": [
    "> - The population standard deviation,"
   ]
  },
  {
   "cell_type": "code",
   "execution_count": 17,
   "id": "9aa0c72d",
   "metadata": {},
   "outputs": [
    {
     "data": {
      "text/plain": [
       "14.202464574854606"
      ]
     },
     "execution_count": 17,
     "metadata": {},
     "output_type": "execute_result"
    }
   ],
   "source": [
    "st.pstdev(data_set_2)"
   ]
  },
  {
   "cell_type": "markdown",
   "id": "dd2977a8",
   "metadata": {},
   "source": [
    "> - The sample standard deviation,"
   ]
  },
  {
   "cell_type": "code",
   "execution_count": 18,
   "id": "66b4c167",
   "metadata": {},
   "outputs": [
    {
     "data": {
      "text/plain": [
       "14.571421200057106"
      ]
     },
     "execution_count": 18,
     "metadata": {},
     "output_type": "execute_result"
    }
   ],
   "source": [
    "st.stdev(data_set_2)"
   ]
  },
  {
   "cell_type": "markdown",
   "id": "7e9a51ef",
   "metadata": {},
   "source": [
    "> - The population variance,"
   ]
  },
  {
   "cell_type": "code",
   "execution_count": 19,
   "id": "4af3a941",
   "metadata": {},
   "outputs": [
    {
     "data": {
      "text/plain": [
       "201.71"
      ]
     },
     "execution_count": 19,
     "metadata": {},
     "output_type": "execute_result"
    }
   ],
   "source": [
    "st.pvariance(data_set_2)"
   ]
  },
  {
   "cell_type": "markdown",
   "id": "5c0b9e39",
   "metadata": {},
   "source": [
    "> - The sample variance,"
   ]
  },
  {
   "cell_type": "code",
   "execution_count": 20,
   "id": "25cb7686",
   "metadata": {},
   "outputs": [
    {
     "data": {
      "text/plain": [
       "212.32631578947368"
      ]
     },
     "execution_count": 20,
     "metadata": {},
     "output_type": "execute_result"
    }
   ],
   "source": [
    "st.variance(data_set_2)"
   ]
  },
  {
   "cell_type": "markdown",
   "id": "f4b9e895",
   "metadata": {},
   "source": [
    "> - The quartiles (the set of $n=4$ quantiles),"
   ]
  },
  {
   "cell_type": "code",
   "execution_count": 21,
   "id": "7331ec57",
   "metadata": {},
   "outputs": [
    {
     "data": {
      "text/plain": [
       "[60.0, 80.0, 88.0]"
      ]
     },
     "execution_count": 21,
     "metadata": {},
     "output_type": "execute_result"
    }
   ],
   "source": [
    "st.quantiles(data_set_2, n=4)"
   ]
  },
  {
   "cell_type": "markdown",
   "id": "9eddebb1",
   "metadata": {},
   "source": [
    "> - The deciles (the set of $n=10$ quantiles),"
   ]
  },
  {
   "cell_type": "code",
   "execution_count": 22,
   "id": "8cde412f",
   "metadata": {},
   "outputs": [
    {
     "data": {
      "text/plain": [
       "[55.1, 58.2, 63.6, 76.4, 80.0, 83.4, 87.4, 90.4, 93.9]"
      ]
     },
     "execution_count": 22,
     "metadata": {},
     "output_type": "execute_result"
    }
   ],
   "source": [
    "st.quantiles(data_set_2, n=10)"
   ]
  },
  {
   "cell_type": "markdown",
   "id": "0dea6cec",
   "metadata": {},
   "source": [
    "> `3`. `data_set_3 = (...)"
   ]
  },
  {
   "cell_type": "code",
   "execution_count": 23,
   "id": "66e92f29",
   "metadata": {},
   "outputs": [],
   "source": [
    "import statistics as st\n",
    "\n",
    "data_set_3 = (\n",
    "    0.31,\n",
    "    -0.13,\n",
    "    0.19,\n",
    "    0.46,\n",
    "    -0.27,\n",
    "    -0.06,\n",
    "    0.20,\n",
    "    0.42,\n",
    "    -0.07,\n",
    "    0.11,\n",
    "    -0.11,\n",
    "    -0.43,\n",
    "    -0.36,\n",
    "    0.45,\n",
    "    -0.42,\n",
    "    0.11,\n",
    "    0.08,\n",
    "    0.31,\n",
    "    0.48,\n",
    "    0.17,\n",
    ")"
   ]
  },
  {
   "cell_type": "markdown",
   "id": "73141532",
   "metadata": {},
   "source": [
    "> - The mean,"
   ]
  },
  {
   "cell_type": "code",
   "execution_count": 24,
   "id": "cd50b857",
   "metadata": {},
   "outputs": [
    {
     "data": {
      "text/plain": [
       "0.07200000000000001"
      ]
     },
     "execution_count": 24,
     "metadata": {},
     "output_type": "execute_result"
    }
   ],
   "source": [
    "st.mean(data_set_3)"
   ]
  },
  {
   "cell_type": "markdown",
   "id": "c609d28e",
   "metadata": {},
   "source": [
    "> - The median,"
   ]
  },
  {
   "cell_type": "code",
   "execution_count": 25,
   "id": "071bc24e",
   "metadata": {},
   "outputs": [
    {
     "data": {
      "text/plain": [
       "0.11"
      ]
     },
     "execution_count": 25,
     "metadata": {},
     "output_type": "execute_result"
    }
   ],
   "source": [
    "st.median(data_set_3)"
   ]
  },
  {
   "cell_type": "markdown",
   "id": "bbdc8eda",
   "metadata": {},
   "source": [
    "> - The max,"
   ]
  },
  {
   "cell_type": "code",
   "execution_count": 26,
   "id": "bab5a2a6",
   "metadata": {},
   "outputs": [
    {
     "data": {
      "text/plain": [
       "0.48"
      ]
     },
     "execution_count": 26,
     "metadata": {},
     "output_type": "execute_result"
    }
   ],
   "source": [
    "max(data_set_3)"
   ]
  },
  {
   "cell_type": "markdown",
   "id": "9d5fc1bb",
   "metadata": {},
   "source": [
    "> - The min,"
   ]
  },
  {
   "cell_type": "code",
   "execution_count": 27,
   "id": "03a2817e",
   "metadata": {},
   "outputs": [
    {
     "data": {
      "text/plain": [
       "-0.43"
      ]
     },
     "execution_count": 27,
     "metadata": {},
     "output_type": "execute_result"
    }
   ],
   "source": [
    "min(data_set_3)"
   ]
  },
  {
   "cell_type": "markdown",
   "id": "fa8a0f4b",
   "metadata": {},
   "source": [
    "> - The population standard deviation,"
   ]
  },
  {
   "cell_type": "code",
   "execution_count": 28,
   "id": "1ce64594",
   "metadata": {},
   "outputs": [
    {
     "data": {
      "text/plain": [
       "0.28690765064738166"
      ]
     },
     "execution_count": 28,
     "metadata": {},
     "output_type": "execute_result"
    }
   ],
   "source": [
    "st.pstdev(data_set_3)"
   ]
  },
  {
   "cell_type": "markdown",
   "id": "992628ba",
   "metadata": {},
   "source": [
    "> - The sample standard deviation,"
   ]
  },
  {
   "cell_type": "code",
   "execution_count": 29,
   "id": "39f5f0c7",
   "metadata": {},
   "outputs": [
    {
     "data": {
      "text/plain": [
       "0.2943610386118237"
      ]
     },
     "execution_count": 29,
     "metadata": {},
     "output_type": "execute_result"
    }
   ],
   "source": [
    "st.stdev(data_set_3)"
   ]
  },
  {
   "cell_type": "markdown",
   "id": "a4fe940d",
   "metadata": {},
   "source": [
    "> - The population variance,"
   ]
  },
  {
   "cell_type": "code",
   "execution_count": 30,
   "id": "a34b075f",
   "metadata": {},
   "outputs": [
    {
     "data": {
      "text/plain": [
       "0.082316"
      ]
     },
     "execution_count": 30,
     "metadata": {},
     "output_type": "execute_result"
    }
   ],
   "source": [
    "st.pvariance(data_set_3)"
   ]
  },
  {
   "cell_type": "markdown",
   "id": "11a39c55",
   "metadata": {},
   "source": [
    "> - The sample variance,"
   ]
  },
  {
   "cell_type": "code",
   "execution_count": 31,
   "id": "3479c679",
   "metadata": {},
   "outputs": [
    {
     "data": {
      "text/plain": [
       "0.08664842105263158"
      ]
     },
     "execution_count": 31,
     "metadata": {},
     "output_type": "execute_result"
    }
   ],
   "source": [
    "st.variance(data_set_3)"
   ]
  },
  {
   "cell_type": "markdown",
   "id": "ae4fd3ba",
   "metadata": {},
   "source": [
    "> - The quartiles (the set of $n=4$ quantiles),"
   ]
  },
  {
   "cell_type": "code",
   "execution_count": 32,
   "id": "aee74998",
   "metadata": {},
   "outputs": [
    {
     "data": {
      "text/plain": [
       "[-0.125, 0.11, 0.31]"
      ]
     },
     "execution_count": 32,
     "metadata": {},
     "output_type": "execute_result"
    }
   ],
   "source": [
    "st.quantiles(data_set_3, n=4)"
   ]
  },
  {
   "cell_type": "markdown",
   "id": "37d41039",
   "metadata": {},
   "source": [
    "> - The deciles (the set of $n=10$ quantiles),"
   ]
  },
  {
   "cell_type": "code",
   "execution_count": 33,
   "id": "bc896735",
   "metadata": {},
   "outputs": [
    {
     "data": {
      "text/plain": [
       "[-0.414,\n",
       " -0.242,\n",
       " -0.098,\n",
       " -0.003999999999999998,\n",
       " 0.11000000000000001,\n",
       " 0.18200000000000002,\n",
       " 0.277,\n",
       " 0.398,\n",
       " 0.4590000000000001]"
      ]
     },
     "execution_count": 33,
     "metadata": {},
     "output_type": "execute_result"
    }
   ],
   "source": [
    "st.quantiles(data_set_3, n=10)"
   ]
  },
  {
   "cell_type": "markdown",
   "id": "309f816f",
   "metadata": {},
   "source": [
    "> `4`. `data_set_4 = (...)"
   ]
  },
  {
   "cell_type": "code",
   "execution_count": 34,
   "id": "be7d0b6a",
   "metadata": {},
   "outputs": [],
   "source": [
    "import statistics as st\n",
    "\n",
    "data_set_4 = (\n",
    "    2,\n",
    "    4,\n",
    "    2,\n",
    "    2,\n",
    "    2,\n",
    "    2,\n",
    "    2,\n",
    "    3,\n",
    "    2,\n",
    "    2,\n",
    "    2,\n",
    "    4,\n",
    "    2,\n",
    "    4,\n",
    "    2,\n",
    "    2,\n",
    "    3,\n",
    "    4,\n",
    "    3,\n",
    "    4,\n",
    ")"
   ]
  },
  {
   "cell_type": "markdown",
   "id": "bc14ecf4",
   "metadata": {},
   "source": [
    "> - The mean,"
   ]
  },
  {
   "cell_type": "code",
   "execution_count": 35,
   "id": "f80580ad",
   "metadata": {},
   "outputs": [
    {
     "data": {
      "text/plain": [
       "2.65"
      ]
     },
     "execution_count": 35,
     "metadata": {},
     "output_type": "execute_result"
    }
   ],
   "source": [
    "st.mean(data_set_4)"
   ]
  },
  {
   "cell_type": "markdown",
   "id": "fd9f83ea",
   "metadata": {},
   "source": [
    "> - The median,"
   ]
  },
  {
   "cell_type": "code",
   "execution_count": 36,
   "id": "c69ae89d",
   "metadata": {},
   "outputs": [
    {
     "data": {
      "text/plain": [
       "2.0"
      ]
     },
     "execution_count": 36,
     "metadata": {},
     "output_type": "execute_result"
    }
   ],
   "source": [
    "st.median(data_set_4)"
   ]
  },
  {
   "cell_type": "markdown",
   "id": "9149c7fe",
   "metadata": {},
   "source": [
    "> - The max,"
   ]
  },
  {
   "cell_type": "code",
   "execution_count": 37,
   "id": "ebb0a254",
   "metadata": {},
   "outputs": [
    {
     "data": {
      "text/plain": [
       "4"
      ]
     },
     "execution_count": 37,
     "metadata": {},
     "output_type": "execute_result"
    }
   ],
   "source": [
    "max(data_set_4)"
   ]
  },
  {
   "cell_type": "markdown",
   "id": "5faf8978",
   "metadata": {},
   "source": [
    "> - The min,"
   ]
  },
  {
   "cell_type": "code",
   "execution_count": 38,
   "id": "25ed9d9a",
   "metadata": {},
   "outputs": [
    {
     "data": {
      "text/plain": [
       "2"
      ]
     },
     "execution_count": 38,
     "metadata": {},
     "output_type": "execute_result"
    }
   ],
   "source": [
    "min(data_set_4)"
   ]
  },
  {
   "cell_type": "markdown",
   "id": "1a6d59d6",
   "metadata": {},
   "source": [
    "> - The population standard deviation,"
   ]
  },
  {
   "cell_type": "code",
   "execution_count": 39,
   "id": "849ff5af",
   "metadata": {},
   "outputs": [
    {
     "data": {
      "text/plain": [
       "0.852936105461599"
      ]
     },
     "execution_count": 39,
     "metadata": {},
     "output_type": "execute_result"
    }
   ],
   "source": [
    "st.pstdev(data_set_4)"
   ]
  },
  {
   "cell_type": "markdown",
   "id": "55e7748a",
   "metadata": {},
   "source": [
    "> - The sample standard deviation,"
   ]
  },
  {
   "cell_type": "code",
   "execution_count": 40,
   "id": "3b6e70e4",
   "metadata": {},
   "outputs": [
    {
     "data": {
      "text/plain": [
       "0.8750939799154206"
      ]
     },
     "execution_count": 40,
     "metadata": {},
     "output_type": "execute_result"
    }
   ],
   "source": [
    "st.stdev(data_set_4)"
   ]
  },
  {
   "cell_type": "markdown",
   "id": "77b6e6a9",
   "metadata": {},
   "source": [
    "> - The population variance,"
   ]
  },
  {
   "cell_type": "code",
   "execution_count": 41,
   "id": "0684e075",
   "metadata": {},
   "outputs": [
    {
     "data": {
      "text/plain": [
       "0.7275"
      ]
     },
     "execution_count": 41,
     "metadata": {},
     "output_type": "execute_result"
    }
   ],
   "source": [
    "st.pvariance(data_set_4)"
   ]
  },
  {
   "cell_type": "markdown",
   "id": "18b5dd9f",
   "metadata": {},
   "source": [
    "> - The sample variance,"
   ]
  },
  {
   "cell_type": "code",
   "execution_count": 42,
   "id": "27914d3f",
   "metadata": {},
   "outputs": [
    {
     "data": {
      "text/plain": [
       "0.7657894736842106"
      ]
     },
     "execution_count": 42,
     "metadata": {},
     "output_type": "execute_result"
    }
   ],
   "source": [
    "st.variance(data_set_4)"
   ]
  },
  {
   "cell_type": "markdown",
   "id": "02efa894",
   "metadata": {},
   "source": [
    "> - The quartiles (the set of $n=4$ quantiles),"
   ]
  },
  {
   "cell_type": "code",
   "execution_count": 43,
   "id": "05a9c568",
   "metadata": {},
   "outputs": [
    {
     "data": {
      "text/plain": [
       "[2.0, 2.0, 3.75]"
      ]
     },
     "execution_count": 43,
     "metadata": {},
     "output_type": "execute_result"
    }
   ],
   "source": [
    "st.quantiles(data_set_4, n=4)"
   ]
  },
  {
   "cell_type": "markdown",
   "id": "86395c78",
   "metadata": {},
   "source": [
    "> - The deciles (the set of $n=10$ quantiles),"
   ]
  },
  {
   "cell_type": "code",
   "execution_count": 44,
   "id": "982961d0",
   "metadata": {},
   "outputs": [
    {
     "data": {
      "text/plain": [
       "[2.0, 2.0, 2.0, 2.0, 2.0, 2.6, 3.0, 4.0, 4.0]"
      ]
     },
     "execution_count": 44,
     "metadata": {},
     "output_type": "execute_result"
    }
   ],
   "source": [
    "st.quantiles(data_set_4, n=10)"
   ]
  },
  {
   "cell_type": "markdown",
   "id": "72c13a01",
   "metadata": {},
   "source": [
    "## Question 2\n",
    "\n",
    "> `2`. Calculate the sample covariance and the correlation coefficient for the\n",
    "> following pairs of data sets from question 1:\n",
    "\n",
    "> `1`. `data_set_1` and `data_set_4`"
   ]
  },
  {
   "cell_type": "code",
   "execution_count": 45,
   "id": "eb396666",
   "metadata": {},
   "outputs": [
    {
     "data": {
      "text/plain": [
       "-12.468421052631578"
      ]
     },
     "execution_count": 45,
     "metadata": {},
     "output_type": "execute_result"
    }
   ],
   "source": [
    "st.covariance(data_set_1, data_set_4)"
   ]
  },
  {
   "cell_type": "code",
   "execution_count": 46,
   "id": "6ed3d39d",
   "metadata": {},
   "outputs": [
    {
     "data": {
      "text/plain": [
       "-0.39515342199380205"
      ]
     },
     "execution_count": 46,
     "metadata": {},
     "output_type": "execute_result"
    }
   ],
   "source": [
    "st.correlation(data_set_1, data_set_4)"
   ]
  },
  {
   "cell_type": "markdown",
   "id": "5e8199a8",
   "metadata": {},
   "source": [
    "> `2`. `data_set_3` and `data_set_4`"
   ]
  },
  {
   "cell_type": "code",
   "execution_count": 47,
   "id": "1b9dfbff",
   "metadata": {},
   "outputs": [
    {
     "data": {
      "text/plain": [
       "0.04126315789473684"
      ]
     },
     "execution_count": 47,
     "metadata": {},
     "output_type": "execute_result"
    }
   ],
   "source": [
    "st.covariance(data_set_3, data_set_4)"
   ]
  },
  {
   "cell_type": "code",
   "execution_count": 48,
   "id": "5a45cc6c",
   "metadata": {},
   "outputs": [
    {
     "data": {
      "text/plain": [
       "0.1601870630717755"
      ]
     },
     "execution_count": 48,
     "metadata": {},
     "output_type": "execute_result"
    }
   ],
   "source": [
    "st.correlation(data_set_3, data_set_4)"
   ]
  },
  {
   "cell_type": "markdown",
   "id": "3af122aa",
   "metadata": {},
   "source": [
    "> `3`. `data_set_2` and `data_set_3`"
   ]
  },
  {
   "cell_type": "code",
   "execution_count": 49,
   "id": "3d8938ce",
   "metadata": {},
   "outputs": [
    {
     "data": {
      "text/plain": [
       "0.057263157894736905"
      ]
     },
     "execution_count": 49,
     "metadata": {},
     "output_type": "execute_result"
    }
   ],
   "source": [
    "st.covariance(data_set_2, data_set_3)"
   ]
  },
  {
   "cell_type": "code",
   "execution_count": 50,
   "id": "264db9b6",
   "metadata": {},
   "outputs": [
    {
     "data": {
      "text/plain": [
       "0.013350362425512118"
      ]
     },
     "execution_count": 50,
     "metadata": {},
     "output_type": "execute_result"
    }
   ],
   "source": [
    "st.correlation(data_set_2, data_set_3)"
   ]
  },
  {
   "cell_type": "markdown",
   "id": "f52b37ce",
   "metadata": {},
   "source": [
    "> `4`. `data_set_1` and `data_set_2`"
   ]
  },
  {
   "cell_type": "code",
   "execution_count": 51,
   "id": "9ea5656c",
   "metadata": {},
   "outputs": [
    {
     "data": {
      "text/plain": [
       "77.16842105263159"
      ]
     },
     "execution_count": 51,
     "metadata": {},
     "output_type": "execute_result"
    }
   ],
   "source": [
    "st.covariance(data_set_1, data_set_2)"
   ]
  },
  {
   "cell_type": "code",
   "execution_count": 52,
   "id": "96567622",
   "metadata": {},
   "outputs": [
    {
     "data": {
      "text/plain": [
       "0.1468745962708178"
      ]
     },
     "execution_count": 52,
     "metadata": {},
     "output_type": "execute_result"
    }
   ],
   "source": [
    "st.correlation(data_set_1, data_set_2)"
   ]
  },
  {
   "cell_type": "markdown",
   "id": "8027a936",
   "metadata": {},
   "source": [
    "## Question 3\n",
    "\n",
    "> `3`. For each of the data sets from question 1 obtain the covariance and\n",
    "> correlation coefficient for the data set with itself.\n",
    "\n",
    "> `1`. `data_set_1 = (...)"
   ]
  },
  {
   "cell_type": "code",
   "execution_count": 53,
   "id": "382bdc7b",
   "metadata": {},
   "outputs": [
    {
     "data": {
      "text/plain": [
       "1300.1157894736843"
      ]
     },
     "execution_count": 53,
     "metadata": {},
     "output_type": "execute_result"
    }
   ],
   "source": [
    "st.covariance(data_set_1, data_set_1)"
   ]
  },
  {
   "cell_type": "code",
   "execution_count": 54,
   "id": "6bd9435c",
   "metadata": {},
   "outputs": [
    {
     "data": {
      "text/plain": [
       "1.0"
      ]
     },
     "execution_count": 54,
     "metadata": {},
     "output_type": "execute_result"
    }
   ],
   "source": [
    "st.correlation(data_set_1, data_set_1)"
   ]
  },
  {
   "cell_type": "markdown",
   "id": "6f3b9270",
   "metadata": {},
   "source": [
    "> `2`. `data_set_2 = (...)"
   ]
  },
  {
   "cell_type": "code",
   "execution_count": 55,
   "id": "1a965f0d",
   "metadata": {},
   "outputs": [
    {
     "data": {
      "text/plain": [
       "212.32631578947368"
      ]
     },
     "execution_count": 55,
     "metadata": {},
     "output_type": "execute_result"
    }
   ],
   "source": [
    "st.covariance(data_set_2, data_set_2)"
   ]
  },
  {
   "cell_type": "code",
   "execution_count": 56,
   "id": "e35b02a5",
   "metadata": {},
   "outputs": [
    {
     "data": {
      "text/plain": [
       "1.0"
      ]
     },
     "execution_count": 56,
     "metadata": {},
     "output_type": "execute_result"
    }
   ],
   "source": [
    "st.correlation(data_set_2, data_set_2)"
   ]
  },
  {
   "cell_type": "markdown",
   "id": "c87d3aba",
   "metadata": {},
   "source": [
    "> `3`. `data_set_3 = (...)"
   ]
  },
  {
   "cell_type": "code",
   "execution_count": 57,
   "id": "9e56f95e",
   "metadata": {},
   "outputs": [
    {
     "data": {
      "text/plain": [
       "0.08664842105263158"
      ]
     },
     "execution_count": 57,
     "metadata": {},
     "output_type": "execute_result"
    }
   ],
   "source": [
    "st.covariance(data_set_3, data_set_3)"
   ]
  },
  {
   "cell_type": "code",
   "execution_count": 58,
   "id": "dcbfdf57",
   "metadata": {},
   "outputs": [
    {
     "data": {
      "text/plain": [
       "1.0"
      ]
     },
     "execution_count": 58,
     "metadata": {},
     "output_type": "execute_result"
    }
   ],
   "source": [
    "st.correlation(data_set_3, data_set_3)"
   ]
  },
  {
   "cell_type": "markdown",
   "id": "1db4b316",
   "metadata": {},
   "source": [
    "> `4`. `data_set_4 = (...)"
   ]
  },
  {
   "cell_type": "code",
   "execution_count": 59,
   "id": "dd2a7688",
   "metadata": {},
   "outputs": [
    {
     "data": {
      "text/plain": [
       "0.7657894736842106"
      ]
     },
     "execution_count": 59,
     "metadata": {},
     "output_type": "execute_result"
    }
   ],
   "source": [
    "st.covariance(data_set_4, data_set_4)"
   ]
  },
  {
   "cell_type": "code",
   "execution_count": 60,
   "id": "90837179",
   "metadata": {},
   "outputs": [
    {
     "data": {
      "text/plain": [
       "1.0"
      ]
     },
     "execution_count": 60,
     "metadata": {},
     "output_type": "execute_result"
    }
   ],
   "source": [
    "st.correlation(data_set_4, data_set_4)"
   ]
  },
  {
   "cell_type": "markdown",
   "id": "8f748334",
   "metadata": {},
   "source": [
    "## Question 4\n",
    "\n",
    "> `4`. Obtain a line of best fit for the pairs of data sets from question 2.\n",
    "\n",
    "> `1`. `data_set_1` and `data_set_4`"
   ]
  },
  {
   "cell_type": "code",
   "execution_count": 61,
   "id": "d255d6be",
   "metadata": {},
   "outputs": [
    {
     "data": {
      "text/plain": [
       "LinearRegression(slope=-0.009590238926087555, intercept=3.113208540130029)"
      ]
     },
     "execution_count": 61,
     "metadata": {},
     "output_type": "execute_result"
    }
   ],
   "source": [
    "st.linear_regression(data_set_1, data_set_4)"
   ]
  },
  {
   "cell_type": "markdown",
   "id": "0c9697f1",
   "metadata": {},
   "source": [
    "> `2`. `data_set_3` and `data_set_4`"
   ]
  },
  {
   "cell_type": "code",
   "execution_count": 62,
   "id": "75ca5e08",
   "metadata": {},
   "outputs": [
    {
     "data": {
      "text/plain": [
       "LinearRegression(slope=0.47621361582195443, intercept=2.6157126196608194)"
      ]
     },
     "execution_count": 62,
     "metadata": {},
     "output_type": "execute_result"
    }
   ],
   "source": [
    "st.linear_regression(data_set_3, data_set_4)"
   ]
  },
  {
   "cell_type": "markdown",
   "id": "2a10612d",
   "metadata": {},
   "source": [
    "> `3`. `data_set_2` and `data_set_3`"
   ]
  },
  {
   "cell_type": "code",
   "execution_count": 63,
   "id": "687bf352",
   "metadata": {},
   "outputs": [
    {
     "data": {
      "text/plain": [
       "LinearRegression(slope=0.00026969411531406506, intercept=0.05142233900153683)"
      ]
     },
     "execution_count": 63,
     "metadata": {},
     "output_type": "execute_result"
    }
   ],
   "source": [
    "st.linear_regression(data_set_2, data_set_3)"
   ]
  },
  {
   "cell_type": "markdown",
   "id": "0d0ab294",
   "metadata": {},
   "source": [
    "> `4`. `data_set_1` and `data_set_2`"
   ]
  },
  {
   "cell_type": "code",
   "execution_count": 64,
   "id": "b286424a",
   "metadata": {},
   "outputs": [
    {
     "data": {
      "text/plain": [
       "LinearRegression(slope=0.05935503720316409, intercept=73.43315170308718)"
      ]
     },
     "execution_count": 64,
     "metadata": {},
     "output_type": "execute_result"
    }
   ],
   "source": [
    "st.linear_regression(data_set_1, data_set_2)"
   ]
  },
  {
   "cell_type": "markdown",
   "id": "360a9ba7",
   "metadata": {},
   "source": [
    "## Question 5\n",
    "\n",
    "> `5`. Given a collection of 250 individuals whose height is normally distributed with\n",
    "> mean 165 and standard deviation 5. What is the expected number of individuals\n",
    "> with height between 150 and 160?\n",
    "\n",
    "We start by creating the distribution:"
   ]
  },
  {
   "cell_type": "code",
   "execution_count": 65,
   "id": "f27e9b18",
   "metadata": {},
   "outputs": [
    {
     "data": {
      "text/plain": [
       "NormalDist(mu=165.0, sigma=5.0)"
      ]
     },
     "execution_count": 65,
     "metadata": {},
     "output_type": "execute_result"
    }
   ],
   "source": [
    "distribution = st.NormalDist(165, 5)\n",
    "distribution"
   ]
  },
  {
   "cell_type": "markdown",
   "id": "64deda51",
   "metadata": {},
   "source": [
    "Now let us find the probability of the random variable being between 150 and\n",
    "160:"
   ]
  },
  {
   "cell_type": "code",
   "execution_count": 66,
   "id": "5a84757c",
   "metadata": {},
   "outputs": [
    {
     "data": {
      "text/plain": [
       "0.15730535589982697"
      ]
     },
     "execution_count": 66,
     "metadata": {},
     "output_type": "execute_result"
    }
   ],
   "source": [
    "probability = distribution.cdf(160) - distribution.cdf(150)\n",
    "probability"
   ]
  },
  {
   "cell_type": "markdown",
   "id": "a60cab4d",
   "metadata": {},
   "source": [
    "The expected number of individuals is thus given by:"
   ]
  },
  {
   "cell_type": "code",
   "execution_count": 67,
   "id": "de1fc715",
   "metadata": {},
   "outputs": [
    {
     "data": {
      "text/plain": [
       "39.32633897495674"
      ]
     },
     "execution_count": 67,
     "metadata": {},
     "output_type": "execute_result"
    }
   ],
   "source": [
    "probability * 250"
   ]
  },
  {
   "cell_type": "markdown",
   "id": "c3afd79a",
   "metadata": {},
   "source": [
    "## Question 6\n",
    "\n",
    "> `6`. Consider a class test where the score are normally distributed with mean 65\n",
    "> and standard deviation 5.\n",
    "\n",
    "> `1`. What is the probability of failing the class test (a score less than 40)?\n",
    "\n",
    "We start by creating the distribution:"
   ]
  },
  {
   "cell_type": "code",
   "execution_count": 68,
   "id": "e9bbceb0",
   "metadata": {},
   "outputs": [
    {
     "data": {
      "text/plain": [
       "NormalDist(mu=65.0, sigma=5.0)"
      ]
     },
     "execution_count": 68,
     "metadata": {},
     "output_type": "execute_result"
    }
   ],
   "source": [
    "distribution = st.NormalDist(65, 5)\n",
    "distribution"
   ]
  },
  {
   "cell_type": "markdown",
   "id": "1437f6f7",
   "metadata": {},
   "source": [
    "The probability is given by:"
   ]
  },
  {
   "cell_type": "code",
   "execution_count": 69,
   "id": "1bfd7487",
   "metadata": {},
   "outputs": [
    {
     "data": {
      "text/plain": [
       "2.8665157186802404e-07"
      ]
     },
     "execution_count": 69,
     "metadata": {},
     "output_type": "execute_result"
    }
   ],
   "source": [
    "distribution.cdf(40)"
   ]
  },
  {
   "cell_type": "markdown",
   "id": "79811d94",
   "metadata": {},
   "source": [
    "> `2`. What proportion of the class gets a first class mark (a score above 70)?\n",
    "\n",
    "The probability is given by:"
   ]
  },
  {
   "cell_type": "code",
   "execution_count": 70,
   "id": "ba7272e0",
   "metadata": {},
   "outputs": [
    {
     "data": {
      "text/plain": [
       "0.15865525393145707"
      ]
     },
     "execution_count": 70,
     "metadata": {},
     "output_type": "execute_result"
    }
   ],
   "source": [
    "1 - distribution.cdf(70)"
   ]
  },
  {
   "cell_type": "markdown",
   "id": "f26ca9b8",
   "metadata": {},
   "source": [
    "> `3`. What is the mark that only 5% of the class would expect to get more than?\n",
    "\n",
    "For this, we use the inverse cdf but we need to find the inverse cdf of $.5$: a\n",
    "mark for which 5% of the class gets more than is equivalent to a mark for which\n",
    "95% of the class get less than."
   ]
  },
  {
   "cell_type": "code",
   "execution_count": 71,
   "id": "964cca3c",
   "metadata": {},
   "outputs": [
    {
     "data": {
      "text/plain": [
       "73.22426813475735"
      ]
     },
     "execution_count": 71,
     "metadata": {},
     "output_type": "execute_result"
    }
   ],
   "source": [
    "distribution.inv_cdf(.95)"
   ]
  }
 ],
 "metadata": {
  "jupytext": {
   "formats": "ipynb,md:myst",
   "text_representation": {
    "extension": ".md",
    "format_name": "myst",
    "format_version": 0.12,
    "jupytext_version": "1.6.0"
   }
  },
  "kernelspec": {
   "display_name": "Python 3",
   "language": "python",
   "name": "python3"
  },
  "language_info": {
   "codemirror_mode": {
    "name": "ipython",
    "version": 3
   },
   "file_extension": ".py",
   "mimetype": "text/x-python",
   "name": "python",
   "nbconvert_exporter": "python",
   "pygments_lexer": "ipython3",
   "version": "3.10.13"
  },
  "source_map": [
   13,
   36,
   61,
   65,
   67,
   71,
   73,
   77,
   79,
   83,
   85,
   89,
   91,
   95,
   97,
   101,
   103,
   107,
   109,
   113,
   115,
   119,
   121,
   125,
   150,
   154,
   156,
   160,
   162,
   166,
   168,
   172,
   174,
   178,
   180,
   184,
   186,
   190,
   192,
   196,
   198,
   202,
   204,
   208,
   210,
   214,
   239,
   243,
   245,
   249,
   251,
   255,
   257,
   261,
   263,
   267,
   269,
   273,
   275,
   279,
   281,
   285,
   287,
   291,
   293,
   297,
   299,
   303,
   328,
   332,
   334,
   338,
   340,
   344,
   346,
   350,
   352,
   356,
   358,
   362,
   364,
   368,
   370,
   374,
   376,
   380,
   382,
   386,
   388,
   397,
   401,
   403,
   407,
   411,
   413,
   417,
   421,
   423,
   427,
   431,
   433,
   442,
   446,
   448,
   452,
   456,
   458,
   462,
   466,
   468,
   472,
   476,
   478,
   486,
   488,
   492,
   494,
   498,
   500,
   504,
   506,
   516,
   519,
   524,
   527,
   531,
   533,
   544,
   547,
   551,
   553,
   559,
   561,
   569
  ]
 },
 "nbformat": 4,
 "nbformat_minor": 5
}