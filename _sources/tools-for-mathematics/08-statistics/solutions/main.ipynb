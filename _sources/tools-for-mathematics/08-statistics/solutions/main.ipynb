{
 "cells": [
  {
   "cell_type": "markdown",
   "id": "9ae08030",
   "metadata": {},
   "source": [
    "# Solutions\n",
    "\n",
    "## Question 1\n",
    "\n",
    "> `1`. For each of the following sets of data:\n",
    "\n",
    ">      Calculate:\n",
    "\n",
    ">      - The mean,\n",
    ">      - The median,\n",
    ">      - The max,\n",
    ">      - The min,\n",
    ">      - The population standard deviation,\n",
    ">      - The sample standard deviation,\n",
    ">      - The population variance,\n",
    ">      - The sample variance,\n",
    ">      - The quartiles (the set of $n=4$ quantiles),\n",
    ">      - The deciles (the set of $n=10$ quantiles),\n",
    ">\n",
    "> `1`. `data_set_1 = (...)"
   ]
  },
  {
   "cell_type": "code",
   "execution_count": 1,
   "id": "f3d331c0",
   "metadata": {},
   "outputs": [],
   "source": [
    "import statistics as st\n",
    "\n",
    "data_set_1 = (\n",
    "    74,\n",
    "    -7,\n",
    "    58,\n",
    "    82,\n",
    "    60,\n",
    "    3,\n",
    "    49,\n",
    "    85,\n",
    "    24,\n",
    "    99,\n",
    "    73,\n",
    "    76,\n",
    "    11,\n",
    "    -4,\n",
    "    61,\n",
    "    87,\n",
    "    93,\n",
    "    13,\n",
    "    1,\n",
    "    28,\n",
    ")"
   ]
  },
  {
   "cell_type": "markdown",
   "id": "662efdab",
   "metadata": {},
   "source": [
    "> - The mean,"
   ]
  },
  {
   "cell_type": "code",
   "execution_count": 2,
   "id": "e14288bd",
   "metadata": {},
   "outputs": [
    {
     "data": {
      "text/plain": [
       "48.3"
      ]
     },
     "execution_count": 2,
     "metadata": {},
     "output_type": "execute_result"
    }
   ],
   "source": [
    "st.mean(data_set_1)"
   ]
  },
  {
   "cell_type": "markdown",
   "id": "4083333b",
   "metadata": {},
   "source": [
    "> - The median,"
   ]
  },
  {
   "cell_type": "code",
   "execution_count": 3,
   "id": "8f21726f",
   "metadata": {},
   "outputs": [
    {
     "data": {
      "text/plain": [
       "59.0"
      ]
     },
     "execution_count": 3,
     "metadata": {},
     "output_type": "execute_result"
    }
   ],
   "source": [
    "st.median(data_set_1)"
   ]
  },
  {
   "cell_type": "markdown",
   "id": "6c52ac1a",
   "metadata": {},
   "source": [
    "> - The max,"
   ]
  },
  {
   "cell_type": "code",
   "execution_count": 4,
   "id": "a9631aaf",
   "metadata": {},
   "outputs": [
    {
     "data": {
      "text/plain": [
       "99"
      ]
     },
     "execution_count": 4,
     "metadata": {},
     "output_type": "execute_result"
    }
   ],
   "source": [
    "max(data_set_1)"
   ]
  },
  {
   "cell_type": "markdown",
   "id": "ce932bf9",
   "metadata": {},
   "source": [
    "> - The min,"
   ]
  },
  {
   "cell_type": "code",
   "execution_count": 5,
   "id": "6560b113",
   "metadata": {},
   "outputs": [
    {
     "data": {
      "text/plain": [
       "-7"
      ]
     },
     "execution_count": 5,
     "metadata": {},
     "output_type": "execute_result"
    }
   ],
   "source": [
    "min(data_set_1)"
   ]
  },
  {
   "cell_type": "markdown",
   "id": "a9f38af3",
   "metadata": {},
   "source": [
    "> - The population standard deviation,"
   ]
  },
  {
   "cell_type": "code",
   "execution_count": 6,
   "id": "8e16dea8",
   "metadata": {},
   "outputs": [
    {
     "data": {
      "text/plain": [
       "35.1441318003447"
      ]
     },
     "execution_count": 6,
     "metadata": {},
     "output_type": "execute_result"
    }
   ],
   "source": [
    "st.pstdev(data_set_1)"
   ]
  },
  {
   "cell_type": "markdown",
   "id": "dce7851d",
   "metadata": {},
   "source": [
    "> - The sample standard deviation,"
   ]
  },
  {
   "cell_type": "code",
   "execution_count": 7,
   "id": "dec9f3e9",
   "metadata": {},
   "outputs": [
    {
     "data": {
      "text/plain": [
       "36.05711842998112"
      ]
     },
     "execution_count": 7,
     "metadata": {},
     "output_type": "execute_result"
    }
   ],
   "source": [
    "st.stdev(data_set_1)"
   ]
  },
  {
   "cell_type": "markdown",
   "id": "80a9351e",
   "metadata": {},
   "source": [
    "> - The population variance,"
   ]
  },
  {
   "cell_type": "code",
   "execution_count": 8,
   "id": "92f2d2ef",
   "metadata": {},
   "outputs": [
    {
     "data": {
      "text/plain": [
       "1235.11"
      ]
     },
     "execution_count": 8,
     "metadata": {},
     "output_type": "execute_result"
    }
   ],
   "source": [
    "st.pvariance(data_set_1)"
   ]
  },
  {
   "cell_type": "markdown",
   "id": "89e7c4d2",
   "metadata": {},
   "source": [
    "> - The sample variance,"
   ]
  },
  {
   "cell_type": "code",
   "execution_count": 9,
   "id": "07ec5b29",
   "metadata": {},
   "outputs": [
    {
     "data": {
      "text/plain": [
       "1300.1157894736841"
      ]
     },
     "execution_count": 9,
     "metadata": {},
     "output_type": "execute_result"
    }
   ],
   "source": [
    "st.variance(data_set_1)"
   ]
  },
  {
   "cell_type": "markdown",
   "id": "3795e411",
   "metadata": {},
   "source": [
    "> - The quartiles (the set of $n=4$ quantiles),"
   ]
  },
  {
   "cell_type": "code",
   "execution_count": 10,
   "id": "1ca6af42",
   "metadata": {},
   "outputs": [
    {
     "data": {
      "text/plain": [
       "[11.5, 59.0, 80.5]"
      ]
     },
     "execution_count": 10,
     "metadata": {},
     "output_type": "execute_result"
    }
   ],
   "source": [
    "st.quantiles(data_set_1, n=4)"
   ]
  },
  {
   "cell_type": "markdown",
   "id": "ed6d9df6",
   "metadata": {},
   "source": [
    "> - The deciles (the set of $n=10$ quantiles),"
   ]
  },
  {
   "cell_type": "code",
   "execution_count": 11,
   "id": "cc311d47",
   "metadata": {},
   "outputs": [
    {
     "data": {
      "text/plain": [
       "[-3.5, 4.6, 16.3, 36.4, 59.0, 68.2, 75.4, 84.4, 92.4]"
      ]
     },
     "execution_count": 11,
     "metadata": {},
     "output_type": "execute_result"
    }
   ],
   "source": [
    "st.quantiles(data_set_1, n=10)"
   ]
  },
  {
   "cell_type": "markdown",
   "id": "a0df2576",
   "metadata": {},
   "source": [
    "> `2`. `data_set_2 = (...)"
   ]
  },
  {
   "cell_type": "code",
   "execution_count": 12,
   "id": "ff736b8f",
   "metadata": {},
   "outputs": [],
   "source": [
    "import statistics as st\n",
    "\n",
    "data_set_2 = (\n",
    "    65,\n",
    "    59,\n",
    "    81,\n",
    "    81,\n",
    "    76,\n",
    "    93,\n",
    "    91,\n",
    "    88,\n",
    "    55,\n",
    "    97,\n",
    "    86,\n",
    "    94,\n",
    "    79,\n",
    "    54,\n",
    "    63,\n",
    "    56,\n",
    "    58,\n",
    "    77,\n",
    "    85,\n",
    "    88,\n",
    ")"
   ]
  },
  {
   "cell_type": "markdown",
   "id": "035bb3c1",
   "metadata": {},
   "source": [
    "> - The mean,"
   ]
  },
  {
   "cell_type": "code",
   "execution_count": 13,
   "id": "136c4174",
   "metadata": {},
   "outputs": [
    {
     "data": {
      "text/plain": [
       "76.3"
      ]
     },
     "execution_count": 13,
     "metadata": {},
     "output_type": "execute_result"
    }
   ],
   "source": [
    "st.mean(data_set_2)"
   ]
  },
  {
   "cell_type": "markdown",
   "id": "49b183da",
   "metadata": {},
   "source": [
    "> - The median,"
   ]
  },
  {
   "cell_type": "code",
   "execution_count": 14,
   "id": "335c9bcc",
   "metadata": {},
   "outputs": [
    {
     "data": {
      "text/plain": [
       "80.0"
      ]
     },
     "execution_count": 14,
     "metadata": {},
     "output_type": "execute_result"
    }
   ],
   "source": [
    "st.median(data_set_2)"
   ]
  },
  {
   "cell_type": "markdown",
   "id": "dc5e1bb0",
   "metadata": {},
   "source": [
    "> - The max,"
   ]
  },
  {
   "cell_type": "code",
   "execution_count": 15,
   "id": "d295f618",
   "metadata": {},
   "outputs": [
    {
     "data": {
      "text/plain": [
       "97"
      ]
     },
     "execution_count": 15,
     "metadata": {},
     "output_type": "execute_result"
    }
   ],
   "source": [
    "max(data_set_2)"
   ]
  },
  {
   "cell_type": "markdown",
   "id": "57117ab3",
   "metadata": {},
   "source": [
    "> - The min,"
   ]
  },
  {
   "cell_type": "code",
   "execution_count": 16,
   "id": "b1ce12ea",
   "metadata": {},
   "outputs": [
    {
     "data": {
      "text/plain": [
       "54"
      ]
     },
     "execution_count": 16,
     "metadata": {},
     "output_type": "execute_result"
    }
   ],
   "source": [
    "min(data_set_2)"
   ]
  },
  {
   "cell_type": "markdown",
   "id": "342be689",
   "metadata": {},
   "source": [
    "> - The population standard deviation,"
   ]
  },
  {
   "cell_type": "code",
   "execution_count": 17,
   "id": "717d65a7",
   "metadata": {},
   "outputs": [
    {
     "data": {
      "text/plain": [
       "14.202464574854606"
      ]
     },
     "execution_count": 17,
     "metadata": {},
     "output_type": "execute_result"
    }
   ],
   "source": [
    "st.pstdev(data_set_2)"
   ]
  },
  {
   "cell_type": "markdown",
   "id": "4cd3834c",
   "metadata": {},
   "source": [
    "> - The sample standard deviation,"
   ]
  },
  {
   "cell_type": "code",
   "execution_count": 18,
   "id": "f88c8d1f",
   "metadata": {},
   "outputs": [
    {
     "data": {
      "text/plain": [
       "14.571421200057106"
      ]
     },
     "execution_count": 18,
     "metadata": {},
     "output_type": "execute_result"
    }
   ],
   "source": [
    "st.stdev(data_set_2)"
   ]
  },
  {
   "cell_type": "markdown",
   "id": "27a47a18",
   "metadata": {},
   "source": [
    "> - The population variance,"
   ]
  },
  {
   "cell_type": "code",
   "execution_count": 19,
   "id": "500456f1",
   "metadata": {},
   "outputs": [
    {
     "data": {
      "text/plain": [
       "201.71"
      ]
     },
     "execution_count": 19,
     "metadata": {},
     "output_type": "execute_result"
    }
   ],
   "source": [
    "st.pvariance(data_set_2)"
   ]
  },
  {
   "cell_type": "markdown",
   "id": "57087cd1",
   "metadata": {},
   "source": [
    "> - The sample variance,"
   ]
  },
  {
   "cell_type": "code",
   "execution_count": 20,
   "id": "ce41700e",
   "metadata": {},
   "outputs": [
    {
     "data": {
      "text/plain": [
       "212.32631578947368"
      ]
     },
     "execution_count": 20,
     "metadata": {},
     "output_type": "execute_result"
    }
   ],
   "source": [
    "st.variance(data_set_2)"
   ]
  },
  {
   "cell_type": "markdown",
   "id": "22c41f15",
   "metadata": {},
   "source": [
    "> - The quartiles (the set of $n=4$ quantiles),"
   ]
  },
  {
   "cell_type": "code",
   "execution_count": 21,
   "id": "62fd94ae",
   "metadata": {},
   "outputs": [
    {
     "data": {
      "text/plain": [
       "[60.0, 80.0, 88.0]"
      ]
     },
     "execution_count": 21,
     "metadata": {},
     "output_type": "execute_result"
    }
   ],
   "source": [
    "st.quantiles(data_set_2, n=4)"
   ]
  },
  {
   "cell_type": "markdown",
   "id": "f1a5712f",
   "metadata": {},
   "source": [
    "> - The deciles (the set of $n=10$ quantiles),"
   ]
  },
  {
   "cell_type": "code",
   "execution_count": 22,
   "id": "bdb56b54",
   "metadata": {},
   "outputs": [
    {
     "data": {
      "text/plain": [
       "[55.1, 58.2, 63.6, 76.4, 80.0, 83.4, 87.4, 90.4, 93.9]"
      ]
     },
     "execution_count": 22,
     "metadata": {},
     "output_type": "execute_result"
    }
   ],
   "source": [
    "st.quantiles(data_set_2, n=10)"
   ]
  },
  {
   "cell_type": "markdown",
   "id": "d5433feb",
   "metadata": {},
   "source": [
    "> `3`. `data_set_3 = (...)"
   ]
  },
  {
   "cell_type": "code",
   "execution_count": 23,
   "id": "6ac009a9",
   "metadata": {},
   "outputs": [],
   "source": [
    "import statistics as st\n",
    "\n",
    "data_set_3 = (\n",
    "    0.31,\n",
    "    -0.13,\n",
    "    0.19,\n",
    "    0.46,\n",
    "    -0.27,\n",
    "    -0.06,\n",
    "    0.20,\n",
    "    0.42,\n",
    "    -0.07,\n",
    "    0.11,\n",
    "    -0.11,\n",
    "    -0.43,\n",
    "    -0.36,\n",
    "    0.45,\n",
    "    -0.42,\n",
    "    0.11,\n",
    "    0.08,\n",
    "    0.31,\n",
    "    0.48,\n",
    "    0.17,\n",
    ")"
   ]
  },
  {
   "cell_type": "markdown",
   "id": "a44d02a5",
   "metadata": {},
   "source": [
    "> - The mean,"
   ]
  },
  {
   "cell_type": "code",
   "execution_count": 24,
   "id": "f5cd8f9a",
   "metadata": {},
   "outputs": [
    {
     "data": {
      "text/plain": [
       "0.07200000000000001"
      ]
     },
     "execution_count": 24,
     "metadata": {},
     "output_type": "execute_result"
    }
   ],
   "source": [
    "st.mean(data_set_3)"
   ]
  },
  {
   "cell_type": "markdown",
   "id": "d5d8dc51",
   "metadata": {},
   "source": [
    "> - The median,"
   ]
  },
  {
   "cell_type": "code",
   "execution_count": 25,
   "id": "7a135d2c",
   "metadata": {},
   "outputs": [
    {
     "data": {
      "text/plain": [
       "0.11"
      ]
     },
     "execution_count": 25,
     "metadata": {},
     "output_type": "execute_result"
    }
   ],
   "source": [
    "st.median(data_set_3)"
   ]
  },
  {
   "cell_type": "markdown",
   "id": "84486876",
   "metadata": {},
   "source": [
    "> - The max,"
   ]
  },
  {
   "cell_type": "code",
   "execution_count": 26,
   "id": "98e4ac23",
   "metadata": {},
   "outputs": [
    {
     "data": {
      "text/plain": [
       "0.48"
      ]
     },
     "execution_count": 26,
     "metadata": {},
     "output_type": "execute_result"
    }
   ],
   "source": [
    "max(data_set_3)"
   ]
  },
  {
   "cell_type": "markdown",
   "id": "e533a47b",
   "metadata": {},
   "source": [
    "> - The min,"
   ]
  },
  {
   "cell_type": "code",
   "execution_count": 27,
   "id": "56c20065",
   "metadata": {},
   "outputs": [
    {
     "data": {
      "text/plain": [
       "-0.43"
      ]
     },
     "execution_count": 27,
     "metadata": {},
     "output_type": "execute_result"
    }
   ],
   "source": [
    "min(data_set_3)"
   ]
  },
  {
   "cell_type": "markdown",
   "id": "941c38f1",
   "metadata": {},
   "source": [
    "> - The population standard deviation,"
   ]
  },
  {
   "cell_type": "code",
   "execution_count": 28,
   "id": "059e68de",
   "metadata": {},
   "outputs": [
    {
     "data": {
      "text/plain": [
       "0.28690765064738166"
      ]
     },
     "execution_count": 28,
     "metadata": {},
     "output_type": "execute_result"
    }
   ],
   "source": [
    "st.pstdev(data_set_3)"
   ]
  },
  {
   "cell_type": "markdown",
   "id": "f37421b2",
   "metadata": {},
   "source": [
    "> - The sample standard deviation,"
   ]
  },
  {
   "cell_type": "code",
   "execution_count": 29,
   "id": "45e6950c",
   "metadata": {},
   "outputs": [
    {
     "data": {
      "text/plain": [
       "0.2943610386118237"
      ]
     },
     "execution_count": 29,
     "metadata": {},
     "output_type": "execute_result"
    }
   ],
   "source": [
    "st.stdev(data_set_3)"
   ]
  },
  {
   "cell_type": "markdown",
   "id": "9e8143eb",
   "metadata": {},
   "source": [
    "> - The population variance,"
   ]
  },
  {
   "cell_type": "code",
   "execution_count": 30,
   "id": "024fb461",
   "metadata": {},
   "outputs": [
    {
     "data": {
      "text/plain": [
       "0.082316"
      ]
     },
     "execution_count": 30,
     "metadata": {},
     "output_type": "execute_result"
    }
   ],
   "source": [
    "st.pvariance(data_set_3)"
   ]
  },
  {
   "cell_type": "markdown",
   "id": "bf7dbe95",
   "metadata": {},
   "source": [
    "> - The sample variance,"
   ]
  },
  {
   "cell_type": "code",
   "execution_count": 31,
   "id": "a29f9a0f",
   "metadata": {},
   "outputs": [
    {
     "data": {
      "text/plain": [
       "0.08664842105263158"
      ]
     },
     "execution_count": 31,
     "metadata": {},
     "output_type": "execute_result"
    }
   ],
   "source": [
    "st.variance(data_set_3)"
   ]
  },
  {
   "cell_type": "markdown",
   "id": "915d2c0e",
   "metadata": {},
   "source": [
    "> - The quartiles (the set of $n=4$ quantiles),"
   ]
  },
  {
   "cell_type": "code",
   "execution_count": 32,
   "id": "b60d77a5",
   "metadata": {},
   "outputs": [
    {
     "data": {
      "text/plain": [
       "[-0.125, 0.11, 0.31]"
      ]
     },
     "execution_count": 32,
     "metadata": {},
     "output_type": "execute_result"
    }
   ],
   "source": [
    "st.quantiles(data_set_3, n=4)"
   ]
  },
  {
   "cell_type": "markdown",
   "id": "cbdc11d5",
   "metadata": {},
   "source": [
    "> - The deciles (the set of $n=10$ quantiles),"
   ]
  },
  {
   "cell_type": "code",
   "execution_count": 33,
   "id": "995c3aac",
   "metadata": {},
   "outputs": [
    {
     "data": {
      "text/plain": [
       "[-0.414,\n",
       " -0.242,\n",
       " -0.098,\n",
       " -0.003999999999999998,\n",
       " 0.11000000000000001,\n",
       " 0.18200000000000002,\n",
       " 0.277,\n",
       " 0.398,\n",
       " 0.4590000000000001]"
      ]
     },
     "execution_count": 33,
     "metadata": {},
     "output_type": "execute_result"
    }
   ],
   "source": [
    "st.quantiles(data_set_3, n=10)"
   ]
  },
  {
   "cell_type": "markdown",
   "id": "082f853b",
   "metadata": {},
   "source": [
    "> `4`. `data_set_4 = (...)"
   ]
  },
  {
   "cell_type": "code",
   "execution_count": 34,
   "id": "17f4649d",
   "metadata": {},
   "outputs": [],
   "source": [
    "import statistics as st\n",
    "\n",
    "data_set_4 = (\n",
    "    2,\n",
    "    4,\n",
    "    2,\n",
    "    2,\n",
    "    2,\n",
    "    2,\n",
    "    2,\n",
    "    3,\n",
    "    2,\n",
    "    2,\n",
    "    2,\n",
    "    4,\n",
    "    2,\n",
    "    4,\n",
    "    2,\n",
    "    2,\n",
    "    3,\n",
    "    4,\n",
    "    3,\n",
    "    4,\n",
    ")"
   ]
  },
  {
   "cell_type": "markdown",
   "id": "8a75f897",
   "metadata": {},
   "source": [
    "> - The mean,"
   ]
  },
  {
   "cell_type": "code",
   "execution_count": 35,
   "id": "fd9ea96d",
   "metadata": {},
   "outputs": [
    {
     "data": {
      "text/plain": [
       "2.65"
      ]
     },
     "execution_count": 35,
     "metadata": {},
     "output_type": "execute_result"
    }
   ],
   "source": [
    "st.mean(data_set_4)"
   ]
  },
  {
   "cell_type": "markdown",
   "id": "adaa0776",
   "metadata": {},
   "source": [
    "> - The median,"
   ]
  },
  {
   "cell_type": "code",
   "execution_count": 36,
   "id": "e4757311",
   "metadata": {},
   "outputs": [
    {
     "data": {
      "text/plain": [
       "2.0"
      ]
     },
     "execution_count": 36,
     "metadata": {},
     "output_type": "execute_result"
    }
   ],
   "source": [
    "st.median(data_set_4)"
   ]
  },
  {
   "cell_type": "markdown",
   "id": "f16934cf",
   "metadata": {},
   "source": [
    "> - The max,"
   ]
  },
  {
   "cell_type": "code",
   "execution_count": 37,
   "id": "7dcecb37",
   "metadata": {},
   "outputs": [
    {
     "data": {
      "text/plain": [
       "4"
      ]
     },
     "execution_count": 37,
     "metadata": {},
     "output_type": "execute_result"
    }
   ],
   "source": [
    "max(data_set_4)"
   ]
  },
  {
   "cell_type": "markdown",
   "id": "60db9cf0",
   "metadata": {},
   "source": [
    "> - The min,"
   ]
  },
  {
   "cell_type": "code",
   "execution_count": 38,
   "id": "1d076084",
   "metadata": {},
   "outputs": [
    {
     "data": {
      "text/plain": [
       "2"
      ]
     },
     "execution_count": 38,
     "metadata": {},
     "output_type": "execute_result"
    }
   ],
   "source": [
    "min(data_set_4)"
   ]
  },
  {
   "cell_type": "markdown",
   "id": "202215af",
   "metadata": {},
   "source": [
    "> - The population standard deviation,"
   ]
  },
  {
   "cell_type": "code",
   "execution_count": 39,
   "id": "ab9c9f12",
   "metadata": {},
   "outputs": [
    {
     "data": {
      "text/plain": [
       "0.852936105461599"
      ]
     },
     "execution_count": 39,
     "metadata": {},
     "output_type": "execute_result"
    }
   ],
   "source": [
    "st.pstdev(data_set_4)"
   ]
  },
  {
   "cell_type": "markdown",
   "id": "4d65421e",
   "metadata": {},
   "source": [
    "> - The sample standard deviation,"
   ]
  },
  {
   "cell_type": "code",
   "execution_count": 40,
   "id": "29bc7c72",
   "metadata": {},
   "outputs": [
    {
     "data": {
      "text/plain": [
       "0.8750939799154206"
      ]
     },
     "execution_count": 40,
     "metadata": {},
     "output_type": "execute_result"
    }
   ],
   "source": [
    "st.stdev(data_set_4)"
   ]
  },
  {
   "cell_type": "markdown",
   "id": "74cf069c",
   "metadata": {},
   "source": [
    "> - The population variance,"
   ]
  },
  {
   "cell_type": "code",
   "execution_count": 41,
   "id": "385519d1",
   "metadata": {},
   "outputs": [
    {
     "data": {
      "text/plain": [
       "0.7275"
      ]
     },
     "execution_count": 41,
     "metadata": {},
     "output_type": "execute_result"
    }
   ],
   "source": [
    "st.pvariance(data_set_4)"
   ]
  },
  {
   "cell_type": "markdown",
   "id": "3486cea2",
   "metadata": {},
   "source": [
    "> - The sample variance,"
   ]
  },
  {
   "cell_type": "code",
   "execution_count": 42,
   "id": "fb603255",
   "metadata": {},
   "outputs": [
    {
     "data": {
      "text/plain": [
       "0.7657894736842106"
      ]
     },
     "execution_count": 42,
     "metadata": {},
     "output_type": "execute_result"
    }
   ],
   "source": [
    "st.variance(data_set_4)"
   ]
  },
  {
   "cell_type": "markdown",
   "id": "a9749bf9",
   "metadata": {},
   "source": [
    "> - The quartiles (the set of $n=4$ quantiles),"
   ]
  },
  {
   "cell_type": "code",
   "execution_count": 43,
   "id": "99ad3a0b",
   "metadata": {},
   "outputs": [
    {
     "data": {
      "text/plain": [
       "[2.0, 2.0, 3.75]"
      ]
     },
     "execution_count": 43,
     "metadata": {},
     "output_type": "execute_result"
    }
   ],
   "source": [
    "st.quantiles(data_set_4, n=4)"
   ]
  },
  {
   "cell_type": "markdown",
   "id": "a81d8baa",
   "metadata": {},
   "source": [
    "> - The deciles (the set of $n=10$ quantiles),"
   ]
  },
  {
   "cell_type": "code",
   "execution_count": 44,
   "id": "2c1273d5",
   "metadata": {},
   "outputs": [
    {
     "data": {
      "text/plain": [
       "[2.0, 2.0, 2.0, 2.0, 2.0, 2.6, 3.0, 4.0, 4.0]"
      ]
     },
     "execution_count": 44,
     "metadata": {},
     "output_type": "execute_result"
    }
   ],
   "source": [
    "st.quantiles(data_set_4, n=10)"
   ]
  },
  {
   "cell_type": "markdown",
   "id": "a45334f9",
   "metadata": {},
   "source": [
    "## Question 2\n",
    "\n",
    "> `2`. Calculate the sample covariance and the correlation coefficient for the\n",
    "> following pairs of data sets from question 1:\n",
    "\n",
    "> `1`. `data_set_1` and `data_set_4`"
   ]
  },
  {
   "cell_type": "code",
   "execution_count": 45,
   "id": "bd56453b",
   "metadata": {},
   "outputs": [
    {
     "data": {
      "text/plain": [
       "-12.468421052631578"
      ]
     },
     "execution_count": 45,
     "metadata": {},
     "output_type": "execute_result"
    }
   ],
   "source": [
    "st.covariance(data_set_1, data_set_4)"
   ]
  },
  {
   "cell_type": "code",
   "execution_count": 46,
   "id": "87a0dfa4",
   "metadata": {},
   "outputs": [
    {
     "data": {
      "text/plain": [
       "-0.39515342199380205"
      ]
     },
     "execution_count": 46,
     "metadata": {},
     "output_type": "execute_result"
    }
   ],
   "source": [
    "st.correlation(data_set_1, data_set_4)"
   ]
  },
  {
   "cell_type": "markdown",
   "id": "3faaa5e4",
   "metadata": {},
   "source": [
    "> `2`. `data_set_3` and `data_set_4`"
   ]
  },
  {
   "cell_type": "code",
   "execution_count": 47,
   "id": "30405a0c",
   "metadata": {},
   "outputs": [
    {
     "data": {
      "text/plain": [
       "0.04126315789473684"
      ]
     },
     "execution_count": 47,
     "metadata": {},
     "output_type": "execute_result"
    }
   ],
   "source": [
    "st.covariance(data_set_3, data_set_4)"
   ]
  },
  {
   "cell_type": "code",
   "execution_count": 48,
   "id": "d8e2ce65",
   "metadata": {},
   "outputs": [
    {
     "data": {
      "text/plain": [
       "0.1601870630717755"
      ]
     },
     "execution_count": 48,
     "metadata": {},
     "output_type": "execute_result"
    }
   ],
   "source": [
    "st.correlation(data_set_3, data_set_4)"
   ]
  },
  {
   "cell_type": "markdown",
   "id": "1c8d9d46",
   "metadata": {},
   "source": [
    "> `3`. `data_set_2` and `data_set_3`"
   ]
  },
  {
   "cell_type": "code",
   "execution_count": 49,
   "id": "6af62f73",
   "metadata": {},
   "outputs": [
    {
     "data": {
      "text/plain": [
       "0.057263157894736905"
      ]
     },
     "execution_count": 49,
     "metadata": {},
     "output_type": "execute_result"
    }
   ],
   "source": [
    "st.covariance(data_set_2, data_set_3)"
   ]
  },
  {
   "cell_type": "code",
   "execution_count": 50,
   "id": "0ca6211c",
   "metadata": {},
   "outputs": [
    {
     "data": {
      "text/plain": [
       "0.013350362425512118"
      ]
     },
     "execution_count": 50,
     "metadata": {},
     "output_type": "execute_result"
    }
   ],
   "source": [
    "st.correlation(data_set_2, data_set_3)"
   ]
  },
  {
   "cell_type": "markdown",
   "id": "556f7154",
   "metadata": {},
   "source": [
    "> `4`. `data_set_1` and `data_set_2`"
   ]
  },
  {
   "cell_type": "code",
   "execution_count": 51,
   "id": "380f5fb8",
   "metadata": {},
   "outputs": [
    {
     "data": {
      "text/plain": [
       "77.16842105263159"
      ]
     },
     "execution_count": 51,
     "metadata": {},
     "output_type": "execute_result"
    }
   ],
   "source": [
    "st.covariance(data_set_1, data_set_2)"
   ]
  },
  {
   "cell_type": "code",
   "execution_count": 52,
   "id": "96da74df",
   "metadata": {},
   "outputs": [
    {
     "data": {
      "text/plain": [
       "0.1468745962708178"
      ]
     },
     "execution_count": 52,
     "metadata": {},
     "output_type": "execute_result"
    }
   ],
   "source": [
    "st.correlation(data_set_1, data_set_2)"
   ]
  },
  {
   "cell_type": "markdown",
   "id": "56fd9e9d",
   "metadata": {},
   "source": [
    "## Question 3\n",
    "\n",
    "> `3`. For each of the data sets from question 1 obtain the covariance and\n",
    "> correlation coefficient for the data set with itself.\n",
    "\n",
    "> `1`. `data_set_1 = (...)"
   ]
  },
  {
   "cell_type": "code",
   "execution_count": 53,
   "id": "50f265f7",
   "metadata": {},
   "outputs": [
    {
     "data": {
      "text/plain": [
       "1300.1157894736843"
      ]
     },
     "execution_count": 53,
     "metadata": {},
     "output_type": "execute_result"
    }
   ],
   "source": [
    "st.covariance(data_set_1, data_set_1)"
   ]
  },
  {
   "cell_type": "code",
   "execution_count": 54,
   "id": "ec362d2d",
   "metadata": {},
   "outputs": [
    {
     "data": {
      "text/plain": [
       "1.0"
      ]
     },
     "execution_count": 54,
     "metadata": {},
     "output_type": "execute_result"
    }
   ],
   "source": [
    "st.correlation(data_set_1, data_set_1)"
   ]
  },
  {
   "cell_type": "markdown",
   "id": "d9203a8e",
   "metadata": {},
   "source": [
    "> `2`. `data_set_2 = (...)"
   ]
  },
  {
   "cell_type": "code",
   "execution_count": 55,
   "id": "ed4a1294",
   "metadata": {},
   "outputs": [
    {
     "data": {
      "text/plain": [
       "212.32631578947368"
      ]
     },
     "execution_count": 55,
     "metadata": {},
     "output_type": "execute_result"
    }
   ],
   "source": [
    "st.covariance(data_set_2, data_set_2)"
   ]
  },
  {
   "cell_type": "code",
   "execution_count": 56,
   "id": "de784c60",
   "metadata": {},
   "outputs": [
    {
     "data": {
      "text/plain": [
       "1.0"
      ]
     },
     "execution_count": 56,
     "metadata": {},
     "output_type": "execute_result"
    }
   ],
   "source": [
    "st.correlation(data_set_2, data_set_2)"
   ]
  },
  {
   "cell_type": "markdown",
   "id": "108393f9",
   "metadata": {},
   "source": [
    "> `3`. `data_set_3 = (...)"
   ]
  },
  {
   "cell_type": "code",
   "execution_count": 57,
   "id": "70cf3281",
   "metadata": {},
   "outputs": [
    {
     "data": {
      "text/plain": [
       "0.08664842105263158"
      ]
     },
     "execution_count": 57,
     "metadata": {},
     "output_type": "execute_result"
    }
   ],
   "source": [
    "st.covariance(data_set_3, data_set_3)"
   ]
  },
  {
   "cell_type": "code",
   "execution_count": 58,
   "id": "5d17957e",
   "metadata": {},
   "outputs": [
    {
     "data": {
      "text/plain": [
       "1.0"
      ]
     },
     "execution_count": 58,
     "metadata": {},
     "output_type": "execute_result"
    }
   ],
   "source": [
    "st.correlation(data_set_3, data_set_3)"
   ]
  },
  {
   "cell_type": "markdown",
   "id": "39cf2d7f",
   "metadata": {},
   "source": [
    "> `4`. `data_set_4 = (...)"
   ]
  },
  {
   "cell_type": "code",
   "execution_count": 59,
   "id": "dce3382f",
   "metadata": {},
   "outputs": [
    {
     "data": {
      "text/plain": [
       "0.7657894736842106"
      ]
     },
     "execution_count": 59,
     "metadata": {},
     "output_type": "execute_result"
    }
   ],
   "source": [
    "st.covariance(data_set_4, data_set_4)"
   ]
  },
  {
   "cell_type": "code",
   "execution_count": 60,
   "id": "8412a3b6",
   "metadata": {},
   "outputs": [
    {
     "data": {
      "text/plain": [
       "1.0"
      ]
     },
     "execution_count": 60,
     "metadata": {},
     "output_type": "execute_result"
    }
   ],
   "source": [
    "st.correlation(data_set_4, data_set_4)"
   ]
  },
  {
   "cell_type": "markdown",
   "id": "3df0fadf",
   "metadata": {},
   "source": [
    "## Question 4\n",
    "\n",
    "> `4`. Obtain a line of best fit for the pairs of data sets from question 2.\n",
    "\n",
    "> `1`. `data_set_1` and `data_set_4`"
   ]
  },
  {
   "cell_type": "code",
   "execution_count": 61,
   "id": "b2b0f2d5",
   "metadata": {},
   "outputs": [
    {
     "data": {
      "text/plain": [
       "LinearRegression(slope=-0.009590238926087555, intercept=3.113208540130029)"
      ]
     },
     "execution_count": 61,
     "metadata": {},
     "output_type": "execute_result"
    }
   ],
   "source": [
    "st.linear_regression(data_set_1, data_set_4)"
   ]
  },
  {
   "cell_type": "markdown",
   "id": "db9a911f",
   "metadata": {},
   "source": [
    "> `2`. `data_set_3` and `data_set_4`"
   ]
  },
  {
   "cell_type": "code",
   "execution_count": 62,
   "id": "e3932489",
   "metadata": {},
   "outputs": [
    {
     "data": {
      "text/plain": [
       "LinearRegression(slope=0.47621361582195443, intercept=2.6157126196608194)"
      ]
     },
     "execution_count": 62,
     "metadata": {},
     "output_type": "execute_result"
    }
   ],
   "source": [
    "st.linear_regression(data_set_3, data_set_4)"
   ]
  },
  {
   "cell_type": "markdown",
   "id": "a13a0332",
   "metadata": {},
   "source": [
    "> `3`. `data_set_2` and `data_set_3`"
   ]
  },
  {
   "cell_type": "code",
   "execution_count": 63,
   "id": "436ace9a",
   "metadata": {},
   "outputs": [
    {
     "data": {
      "text/plain": [
       "LinearRegression(slope=0.00026969411531406506, intercept=0.05142233900153683)"
      ]
     },
     "execution_count": 63,
     "metadata": {},
     "output_type": "execute_result"
    }
   ],
   "source": [
    "st.linear_regression(data_set_2, data_set_3)"
   ]
  },
  {
   "cell_type": "markdown",
   "id": "c4d53d43",
   "metadata": {},
   "source": [
    "> `4`. `data_set_1` and `data_set_2`"
   ]
  },
  {
   "cell_type": "code",
   "execution_count": 64,
   "id": "48916577",
   "metadata": {},
   "outputs": [
    {
     "data": {
      "text/plain": [
       "LinearRegression(slope=0.05935503720316409, intercept=73.43315170308718)"
      ]
     },
     "execution_count": 64,
     "metadata": {},
     "output_type": "execute_result"
    }
   ],
   "source": [
    "st.linear_regression(data_set_1, data_set_2)"
   ]
  },
  {
   "cell_type": "markdown",
   "id": "6b6d81a7",
   "metadata": {},
   "source": [
    "## Question 5\n",
    "\n",
    "> `5`. Given a collection of 250 individuals whose height is normally distributed with\n",
    "> mean 165 and standard deviation 5. What is the expected number of individuals\n",
    "> with height between 150 and 160?\n",
    "\n",
    "We start by creating the distribution:"
   ]
  },
  {
   "cell_type": "code",
   "execution_count": 65,
   "id": "c3541409",
   "metadata": {},
   "outputs": [
    {
     "data": {
      "text/plain": [
       "NormalDist(mu=165.0, sigma=5.0)"
      ]
     },
     "execution_count": 65,
     "metadata": {},
     "output_type": "execute_result"
    }
   ],
   "source": [
    "distribution = st.NormalDist(165, 5)\n",
    "distribution"
   ]
  },
  {
   "cell_type": "markdown",
   "id": "a833ec85",
   "metadata": {},
   "source": [
    "Now let us find the probability of the random variable being between 150 and\n",
    "160:"
   ]
  },
  {
   "cell_type": "code",
   "execution_count": 66,
   "id": "e7ea3175",
   "metadata": {},
   "outputs": [
    {
     "data": {
      "text/plain": [
       "0.15730535589982697"
      ]
     },
     "execution_count": 66,
     "metadata": {},
     "output_type": "execute_result"
    }
   ],
   "source": [
    "probability = distribution.cdf(160) - distribution.cdf(150)\n",
    "probability"
   ]
  },
  {
   "cell_type": "markdown",
   "id": "3db9c5b2",
   "metadata": {},
   "source": [
    "The expected number of individuals is thus given by:"
   ]
  },
  {
   "cell_type": "code",
   "execution_count": 67,
   "id": "1dba492e",
   "metadata": {},
   "outputs": [
    {
     "data": {
      "text/plain": [
       "39.32633897495674"
      ]
     },
     "execution_count": 67,
     "metadata": {},
     "output_type": "execute_result"
    }
   ],
   "source": [
    "probability * 250"
   ]
  },
  {
   "cell_type": "markdown",
   "id": "c813995d",
   "metadata": {},
   "source": [
    "## Question 6\n",
    "\n",
    "> `6`. Consider a class test where the score are normally distributed with mean 65\n",
    "> and standard deviation 5.\n",
    "\n",
    "> `1`. What is the probability of failing the class test (a score less than 40)?\n",
    "\n",
    "We start by creating the distribution:"
   ]
  },
  {
   "cell_type": "code",
   "execution_count": 68,
   "id": "3edf247c",
   "metadata": {},
   "outputs": [
    {
     "data": {
      "text/plain": [
       "NormalDist(mu=65.0, sigma=5.0)"
      ]
     },
     "execution_count": 68,
     "metadata": {},
     "output_type": "execute_result"
    }
   ],
   "source": [
    "distribution = st.NormalDist(65, 5)\n",
    "distribution"
   ]
  },
  {
   "cell_type": "markdown",
   "id": "2a7d7ec0",
   "metadata": {},
   "source": [
    "The probability is given by:"
   ]
  },
  {
   "cell_type": "code",
   "execution_count": 69,
   "id": "71d824bb",
   "metadata": {},
   "outputs": [
    {
     "data": {
      "text/plain": [
       "2.8665157186802404e-07"
      ]
     },
     "execution_count": 69,
     "metadata": {},
     "output_type": "execute_result"
    }
   ],
   "source": [
    "distribution.cdf(40)"
   ]
  },
  {
   "cell_type": "markdown",
   "id": "7175a90f",
   "metadata": {},
   "source": [
    "> `2`. What proportion of the class gets a first class mark (a score above 70)?\n",
    "\n",
    "The probability is given by:"
   ]
  },
  {
   "cell_type": "code",
   "execution_count": 70,
   "id": "e071e72e",
   "metadata": {},
   "outputs": [
    {
     "data": {
      "text/plain": [
       "0.15865525393145707"
      ]
     },
     "execution_count": 70,
     "metadata": {},
     "output_type": "execute_result"
    }
   ],
   "source": [
    "1 - distribution.cdf(70)"
   ]
  },
  {
   "cell_type": "markdown",
   "id": "b80b28cf",
   "metadata": {},
   "source": [
    "> `3`. What is the mark that only 5% of the class would expect to get more than?\n",
    "\n",
    "For this, we use the inverse cdf but we need to find the inverse cdf of $.5$: a\n",
    "mark for which 5% of the class gets more than is equivalent to a mark for which\n",
    "95% of the class get less than."
   ]
  },
  {
   "cell_type": "code",
   "execution_count": 71,
   "id": "da20d024",
   "metadata": {},
   "outputs": [
    {
     "data": {
      "text/plain": [
       "73.22426813475735"
      ]
     },
     "execution_count": 71,
     "metadata": {},
     "output_type": "execute_result"
    }
   ],
   "source": [
    "distribution.inv_cdf(.95)"
   ]
  }
 ],
 "metadata": {
  "jupytext": {
   "formats": "ipynb,md:myst",
   "text_representation": {
    "extension": ".md",
    "format_name": "myst",
    "format_version": 0.12,
    "jupytext_version": "1.6.0"
   }
  },
  "kernelspec": {
   "display_name": "Python 3",
   "language": "python",
   "name": "python3"
  },
  "language_info": {
   "codemirror_mode": {
    "name": "ipython",
    "version": 3
   },
   "file_extension": ".py",
   "mimetype": "text/x-python",
   "name": "python",
   "nbconvert_exporter": "python",
   "pygments_lexer": "ipython3",
   "version": "3.10.14"
  },
  "source_map": [
   13,
   36,
   61,
   65,
   67,
   71,
   73,
   77,
   79,
   83,
   85,
   89,
   91,
   95,
   97,
   101,
   103,
   107,
   109,
   113,
   115,
   119,
   121,
   125,
   150,
   154,
   156,
   160,
   162,
   166,
   168,
   172,
   174,
   178,
   180,
   184,
   186,
   190,
   192,
   196,
   198,
   202,
   204,
   208,
   210,
   214,
   239,
   243,
   245,
   249,
   251,
   255,
   257,
   261,
   263,
   267,
   269,
   273,
   275,
   279,
   281,
   285,
   287,
   291,
   293,
   297,
   299,
   303,
   328,
   332,
   334,
   338,
   340,
   344,
   346,
   350,
   352,
   356,
   358,
   362,
   364,
   368,
   370,
   374,
   376,
   380,
   382,
   386,
   388,
   397,
   401,
   403,
   407,
   411,
   413,
   417,
   421,
   423,
   427,
   431,
   433,
   442,
   446,
   448,
   452,
   456,
   458,
   462,
   466,
   468,
   472,
   476,
   478,
   486,
   488,
   492,
   494,
   498,
   500,
   504,
   506,
   516,
   519,
   524,
   527,
   531,
   533,
   544,
   547,
   551,
   553,
   559,
   561,
   569
  ]
 },
 "nbformat": 4,
 "nbformat_minor": 5
}