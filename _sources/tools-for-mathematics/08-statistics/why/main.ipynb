{
 "cells": [
  {
   "cell_type": "markdown",
   "id": "4afee7ef",
   "metadata": {},
   "source": [
    "# Further information\n",
    "\n",
    "## What is the difference between the sample and the population variance and standard deviation?\n",
    "\n",
    "For a given set of $N$ values $x_1, x_2, \\dots, x_N$ with mean $\\bar x$ the sample\n",
    "standard deviation is given by:\n",
    "\n",
    "$$\n",
    "\\sigma = \\sqrt{\\frac{\\sum_{i=1}^N{(x_i - \\bar x) ^ 2}}{N - 1}}\n",
    "$$\n",
    "\n",
    "The sample variance is given by:\n",
    "\n",
    "$$\n",
    "\\sigma ^ 2\n",
    "$$\n",
    "\n",
    "The population standard deviation is given by:\n",
    "\n",
    "$$\n",
    "\\sigma = \\sqrt{\\frac{\\sum_{i=1}^N{(x_i - \\bar x) ^ 2}}{N}}\n",
    "$$\n",
    "\n",
    "The population variance is given by:\n",
    "\n",
    "$$\n",
    "\\sigma ^ 2\n",
    "$$\n",
    "\n",
    "The population standard deviation and/or variance should be used when the data set in question\n",
    "is for the entire population.\n",
    "\n",
    "The sample standard deviation and/or variance should be used when the data set in question is a\n",
    "sample of the entire population. The modification in the calculation is to\n",
    "counteract a potential bias.\n",
    "\n",
    "## How do we plot a line of best fit?\n",
    "\n",
    "The main library for plotting is called `matplotlib` and\n",
    "{ref}`matplotlib` covers things in more detail.\n",
    "\n",
    "However below is some code to plot the data and regression line for two\n",
    "collections of data:"
   ]
  },
  {
   "cell_type": "code",
   "execution_count": 1,
   "id": "d13da3fc",
   "metadata": {},
   "outputs": [
    {
     "data": {
      "text/plain": [
       "Text(0, 0.5, '$y$')"
      ]
     },
     "execution_count": 1,
     "metadata": {},
     "output_type": "execute_result"
    },
    {
     "data": {
      "image/png": "[encoded data removed]",
      "text/plain": [
       "<Figure size 640x480 with 1 Axes>"
      ]
     },
     "metadata": {
      "filenames": {
       "image/png": "/home/runner/work/pfm/pfm/_build/jupyter_execute/tools-for-mathematics/08-statistics/why/main_1_1.png"
      }
     },
     "output_type": "display_data"
    }
   ],
   "source": [
    "import statistics as stat\n",
    "import matplotlib.pyplot as plt\n",
    "\n",
    "x = (0, 2, 2, 3, 4, 5.6)\n",
    "y = (-1, -3, -4, -5, 4, -7)\n",
    "\n",
    "slope, intercept = stat.linear_regression(x, y)\n",
    "\n",
    "start_point, end_point = min(x), max(x)\n",
    "image_start_point = slope * start_point + intercept\n",
    "image_end_point = slope * end_point + intercept\n",
    "\n",
    "plt.figure()\n",
    "plt.scatter(x, y)\n",
    "plt.plot((start_point, end_point), (image_start_point, image_end_point))\n",
    "plt.xlabel(\"$x$\")\n",
    "plt.ylabel(\"$y$\")"
   ]
  },
  {
   "cell_type": "markdown",
   "id": "3f9c4be7",
   "metadata": {},
   "source": [
    "## What other statistics tools exist in Python?\n",
    "\n",
    "The `statsmodels` library allows for a wider breadth of statistical analysis:\n",
    "https://www.statsmodels.org/stable/index.html\n",
    "\n",
    "The `scikit-learn` library is arguably one of the most popular python libraries.\n",
    "It is technically a library for machine learning and not statistics.\n",
    "\n",
    "## What is the difference between machine learning and statistics\n",
    "\n",
    "In a lot of cases the difference here is more question of vocabulary than\n",
    "actual tangible differences.\n",
    "\n",
    "For example the `scikit-learn` library has a tool for linear regression as does\n",
    "the `statsmodels` and the `statistics` library.\n",
    "\n",
    "In practice statistics is often more descriptive, for example using linear\n",
    "regression to understand the relationship between two variables. Whereas machine\n",
    "learning is more predictive, for example using liner regression to predict one\n",
    "variable value from another.\n",
    "\n",
    "A lot of modern applied mathematics using tools such as neural networks which\n",
    "are usually discussed as tools from the machine learning."
   ]
  }
 ],
 "metadata": {
  "jupytext": {
   "formats": "ipynb,md:myst",
   "text_representation": {
    "extension": ".md",
    "format_name": "myst",
    "format_version": 0.12,
    "jupytext_version": "1.6.0"
   }
  },
  "kernelspec": {
   "display_name": "Python 3",
   "language": "python",
   "name": "python3"
  },
  "language_info": {
   "codemirror_mode": {
    "name": "ipython",
    "version": 3
   },
   "file_extension": ".py",
   "mimetype": "text/x-python",
   "name": "python",
   "nbconvert_exporter": "python",
   "pygments_lexer": "ipython3",
   "version": "3.10.14"
  },
  "source_map": [
   13,
   59,
   77
  ]
 },
 "nbformat": 4,
 "nbformat_minor": 5
}