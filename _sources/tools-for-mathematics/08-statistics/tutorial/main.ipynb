{
 "cells": [
  {
   "cell_type": "markdown",
   "id": "c9eaeb7a",
   "metadata": {},
   "source": [
    "# Tutorial\n",
    "\n",
    "You will solve the following problem using a computer to do some of the\n",
    "more tedious calculations.\n",
    "\n",
    "````{admonition} Problem\n",
    "\n",
    "Anna is investigating the relationship between exercise and resting\n",
    "heart rate. She takes a of 19 people in her year group and records for\n",
    "each person\n",
    "\n",
    "-   their resting heart rate, $h$ beats per minute.\n",
    "-   the number of minutes, $m$, spent exercising each week.\n",
    "\n",
    "A table with the data is here:\n",
    "\n",
    "```{list-table} Collected data from Anna's year group.\n",
    ":header-rows: 1\n",
    "\n",
    "* - h\n",
    "  - m\n",
    "* - 76.0\n",
    "  - 5\n",
    "* - 72.0\n",
    "  - 5\n",
    "* - 71.0\n",
    "  - 21\n",
    "* - 74.0\n",
    "  - 30\n",
    "* - 71.0\n",
    "  - 42\n",
    "* - 69.0\n",
    "  - 20\n",
    "* - 68.0\n",
    "  - 20\n",
    "* - 68.0\n",
    "  - 35\n",
    "* - 66\n",
    "  - 80.0\n",
    "* - 64\n",
    "  - 120.0\n",
    "* - 65\n",
    "  - 140.0\n",
    "* - 63\n",
    "  - 180.0\n",
    "* - 63\n",
    "  - 205.0\n",
    "* - 62\n",
    "  - 225.0\n",
    "* - 65\n",
    "  - 237.0\n",
    "* - 63\n",
    "  - 280.0\n",
    "* - 65\n",
    "  - 300.0\n",
    "* - 64\n",
    "  - 356.0\n",
    "* - 64\n",
    "  - 360.0\n",
    "```\n",
    "\n",
    "You can see a scatter plot below.\n",
    "\n",
    "1.  For all collected values of $h$ and $m$ obtain:\n",
    "\n",
    "    -   The mean\n",
    "    -   The median\n",
    "    -   The quartiles\n",
    "    -   The standard deviation\n",
    "    -   The variation\n",
    "    -   The maximum\n",
    "    -   The minimum\n",
    "2.  Obtain the Pearson Coefficient of correlation for the variables $h$\n",
    "    and $m$.\n",
    "3.  Obtain the line of best fit for variables $x$ and $y$ as defined by:\n",
    "    $$\\begin{split}x=\\ln(m)\\qquad y=\\ln(h)\\end{split}$$\n",
    "4.  Using the above obtain a relationship between $m$ and $h$ of the\n",
    "    form: $$\\begin{split}h=cm^k\\end{split}$$\n",
    "````"
   ]
  },
  {
   "cell_type": "code",
   "execution_count": 1,
   "id": "d6c0647d",
   "metadata": {
    "tags": [
     "remove-input",
     "style-check-ignore",
     "nbval-ignore-output"
    ]
   },
   "outputs": [
    {
     "data": {
      "image/png": "[encoded data removed]",
      "text/plain": [
       "<Figure size 640x480 with 1 Axes>"
      ]
     },
     "metadata": {
      "filenames": {
       "image/png": "/home/runner/work/pfm/pfm/_build/jupyter_execute/tools-for-mathematics/08-statistics/tutorial/main_1_0.png"
      }
     },
     "output_type": "display_data"
    }
   ],
   "source": [
    "import matplotlib.pyplot as plt\n",
    "\n",
    "h_data = (\n",
    "    76.0,\n",
    "    72.0,\n",
    "    71.0,\n",
    "    74.0,\n",
    "    71.0,\n",
    "    69.0,\n",
    "    68.0,\n",
    "    68.0,\n",
    "    66.0,\n",
    "    64.0,\n",
    "    65.0,\n",
    "    63.0,\n",
    "    63.0,\n",
    "    62.0,\n",
    "    65.0,\n",
    "    63.0,\n",
    "    65.0,\n",
    "    64.0,\n",
    "    64.0,\n",
    ")\n",
    "m_data = (\n",
    "    5,\n",
    "    5,\n",
    "    21,\n",
    "    30,\n",
    "    42,\n",
    "    20,\n",
    "    20,\n",
    "    35,\n",
    "    80,\n",
    "    120,\n",
    "    140,\n",
    "    180,\n",
    "    205,\n",
    "    225,\n",
    "    237,\n",
    "    280,\n",
    "    300,\n",
    "    356,\n",
    "    360,\n",
    ")\n",
    "\n",
    "plt.figure()\n",
    "plt.scatter(x=m_data, y=h_data)\n",
    "plt.xlabel(\"Minutes of exercise: $m$\")\n",
    "plt.ylabel(\"Resting heart rate: $h$\")\n",
    "plt.title(\"Data collected by Anne\");"
   ]
  },
  {
   "cell_type": "markdown",
   "id": "4260a282",
   "metadata": {},
   "source": [
    "Start by inputting all the data:"
   ]
  },
  {
   "cell_type": "code",
   "execution_count": 2,
   "id": "652affc7",
   "metadata": {},
   "outputs": [],
   "source": [
    "h = (\n",
    "    76.0,\n",
    "    72.0,\n",
    "    71.0,\n",
    "    74.0,\n",
    "    71.0,\n",
    "    69.0,\n",
    "    68.0,\n",
    "    68.0,\n",
    "    66.0,\n",
    "    64.0,\n",
    "    65.0,\n",
    "    63.0,\n",
    "    63.0,\n",
    "    62.0,\n",
    "    65.0,\n",
    "    63.0,\n",
    "    65.0,\n",
    "    64.0,\n",
    "    64.0,\n",
    ")\n",
    "m = (\n",
    "    5,\n",
    "    5,\n",
    "    21,\n",
    "    30,\n",
    "    42,\n",
    "    20,\n",
    "    20,\n",
    "    35,\n",
    "    80,\n",
    "    120,\n",
    "    140,\n",
    "    180,\n",
    "    205,\n",
    "    225,\n",
    "    237,\n",
    "    280,\n",
    "    300,\n",
    "    356,\n",
    "    360,\n",
    ")"
   ]
  },
  {
   "cell_type": "markdown",
   "id": "800a0d2e",
   "metadata": {},
   "source": [
    "The main tool you are going to use for this is `statistics`."
   ]
  },
  {
   "cell_type": "code",
   "execution_count": 3,
   "id": "84b64139",
   "metadata": {},
   "outputs": [],
   "source": [
    "import statistics as st"
   ]
  },
  {
   "cell_type": "markdown",
   "id": "257d9a7e",
   "metadata": {},
   "source": [
    "To calculate the mean:"
   ]
  },
  {
   "cell_type": "code",
   "execution_count": 4,
   "id": "c8d2b87a",
   "metadata": {},
   "outputs": [
    {
     "data": {
      "text/plain": [
       "67.0"
      ]
     },
     "execution_count": 4,
     "metadata": {},
     "output_type": "execute_result"
    }
   ],
   "source": [
    "st.mean(h)"
   ]
  },
  {
   "cell_type": "code",
   "execution_count": 5,
   "id": "2ca098e0",
   "metadata": {},
   "outputs": [
    {
     "data": {
      "text/plain": [
       "140.05263157894737"
      ]
     },
     "execution_count": 5,
     "metadata": {},
     "output_type": "execute_result"
    }
   ],
   "source": [
    "st.mean(m)"
   ]
  },
  {
   "cell_type": "markdown",
   "id": "86f3509a",
   "metadata": {},
   "source": [
    "To calculate the median:"
   ]
  },
  {
   "cell_type": "code",
   "execution_count": 6,
   "id": "b4a2bc02",
   "metadata": {},
   "outputs": [
    {
     "data": {
      "text/plain": [
       "65.0"
      ]
     },
     "execution_count": 6,
     "metadata": {},
     "output_type": "execute_result"
    }
   ],
   "source": [
    "st.median(h)"
   ]
  },
  {
   "cell_type": "code",
   "execution_count": 7,
   "id": "4483a790",
   "metadata": {},
   "outputs": [
    {
     "data": {
      "text/plain": [
       "120"
      ]
     },
     "execution_count": 7,
     "metadata": {},
     "output_type": "execute_result"
    }
   ],
   "source": [
    "st.median(m)"
   ]
  },
  {
   "cell_type": "markdown",
   "id": "d98fe692",
   "metadata": {},
   "source": [
    "To calculate the quartiles, use `statistics.quantiles` and specify that you\n",
    "want to separate the date in to $n=4$ quarters."
   ]
  },
  {
   "cell_type": "code",
   "execution_count": 8,
   "id": "ff69519c",
   "metadata": {},
   "outputs": [
    {
     "data": {
      "text/plain": [
       "[64.0, 65.0, 71.0]"
      ]
     },
     "execution_count": 8,
     "metadata": {},
     "output_type": "execute_result"
    }
   ],
   "source": [
    "st.quantiles(h, n=4)"
   ]
  },
  {
   "cell_type": "code",
   "execution_count": 9,
   "id": "924714cd",
   "metadata": {},
   "outputs": [
    {
     "data": {
      "text/plain": [
       "[21.0, 120.0, 237.0]"
      ]
     },
     "execution_count": 9,
     "metadata": {},
     "output_type": "execute_result"
    }
   ],
   "source": [
    "st.quantiles(m, n=4)"
   ]
  },
  {
   "cell_type": "markdown",
   "id": "e27d12a3",
   "metadata": {},
   "source": [
    "Note that this calculation confirms the median which corresponds to the\n",
    "50% quartile. To calculate the sample standard deviation:"
   ]
  },
  {
   "cell_type": "code",
   "execution_count": 10,
   "id": "627fa4a7",
   "metadata": {},
   "outputs": [
    {
     "data": {
      "text/plain": [
       "4.123105625617661"
      ]
     },
     "execution_count": 10,
     "metadata": {},
     "output_type": "execute_result"
    }
   ],
   "source": [
    "st.stdev(h)"
   ]
  },
  {
   "cell_type": "code",
   "execution_count": 11,
   "id": "95a2c0c7",
   "metadata": {},
   "outputs": [
    {
     "data": {
      "text/plain": [
       "124.46662813970593"
      ]
     },
     "execution_count": 11,
     "metadata": {},
     "output_type": "execute_result"
    }
   ],
   "source": [
    "st.stdev(m)"
   ]
  },
  {
   "cell_type": "markdown",
   "id": "faec6a8d",
   "metadata": {},
   "source": [
    "To calculate the sample variance:"
   ]
  },
  {
   "cell_type": "code",
   "execution_count": 12,
   "id": "c0ba77fe",
   "metadata": {},
   "outputs": [
    {
     "data": {
      "text/plain": [
       "17.0"
      ]
     },
     "execution_count": 12,
     "metadata": {},
     "output_type": "execute_result"
    }
   ],
   "source": [
    "st.variance(h)"
   ]
  },
  {
   "cell_type": "code",
   "execution_count": 13,
   "id": "3a8014e6",
   "metadata": {},
   "outputs": [
    {
     "data": {
      "text/plain": [
       "15491.941520467837"
      ]
     },
     "execution_count": 13,
     "metadata": {},
     "output_type": "execute_result"
    }
   ],
   "source": [
    "st.variance(m)"
   ]
  },
  {
   "cell_type": "markdown",
   "id": "4d2878a7",
   "metadata": {},
   "source": [
    "To compute that maximum:"
   ]
  },
  {
   "cell_type": "code",
   "execution_count": 14,
   "id": "638d5544",
   "metadata": {},
   "outputs": [
    {
     "data": {
      "text/plain": [
       "76.0"
      ]
     },
     "execution_count": 14,
     "metadata": {},
     "output_type": "execute_result"
    }
   ],
   "source": [
    "max(h)"
   ]
  },
  {
   "cell_type": "code",
   "execution_count": 15,
   "id": "99b6c251",
   "metadata": {},
   "outputs": [
    {
     "data": {
      "text/plain": [
       "360"
      ]
     },
     "execution_count": 15,
     "metadata": {},
     "output_type": "execute_result"
    }
   ],
   "source": [
    "max(m)"
   ]
  },
  {
   "cell_type": "markdown",
   "id": "912c55ce",
   "metadata": {},
   "source": [
    "To compute the minimum:"
   ]
  },
  {
   "cell_type": "code",
   "execution_count": 16,
   "id": "28c89a99",
   "metadata": {},
   "outputs": [
    {
     "data": {
      "text/plain": [
       "62.0"
      ]
     },
     "execution_count": 16,
     "metadata": {},
     "output_type": "execute_result"
    }
   ],
   "source": [
    "min(h)"
   ]
  },
  {
   "cell_type": "code",
   "execution_count": 17,
   "id": "21a78ca7",
   "metadata": {},
   "outputs": [
    {
     "data": {
      "text/plain": [
       "5"
      ]
     },
     "execution_count": 17,
     "metadata": {},
     "output_type": "execute_result"
    }
   ],
   "source": [
    "min(m)"
   ]
  },
  {
   "cell_type": "markdown",
   "id": "86c4e39f",
   "metadata": {},
   "source": [
    "In order to compute the Pearson Coefficient of correlation use\n",
    "`statistics.correlation`:"
   ]
  },
  {
   "cell_type": "code",
   "execution_count": 18,
   "id": "0bdaa1a4",
   "metadata": {},
   "outputs": [
    {
     "data": {
      "text/plain": [
       "-0.7686142969026402"
      ]
     },
     "execution_count": 18,
     "metadata": {},
     "output_type": "execute_result"
    }
   ],
   "source": [
    "st.correlation(h, m)"
   ]
  },
  {
   "cell_type": "markdown",
   "id": "d9f80ff2",
   "metadata": {},
   "source": [
    "This negative value indicates a negative correlation between $h$ and $m$,\n",
    "indicating that the more you exercise the lower your heart rate is likely to be.\n",
    "\n",
    "To calculate the line of best fit for the transformed variables we need to first\n",
    "create them. We will do this using a list comprehension. As you are doing\n",
    "everything numerically, we will use `math.log` which by default computes the\n",
    "natural logarithm:"
   ]
  },
  {
   "cell_type": "code",
   "execution_count": 19,
   "id": "c5ac834f",
   "metadata": {},
   "outputs": [],
   "source": [
    "import math\n",
    "x = [math.log(value) for value in m]\n",
    "y = [math.log(value) for value in h]"
   ]
  },
  {
   "cell_type": "markdown",
   "id": "4f36edee",
   "metadata": {},
   "source": [
    "Now to compute the line of best fit use `statistics.linear_regression`:"
   ]
  },
  {
   "cell_type": "code",
   "execution_count": 20,
   "id": "dfe562c8",
   "metadata": {},
   "outputs": [],
   "source": [
    "slope, intercept = st.linear_regression(x, y)"
   ]
  },
  {
   "cell_type": "markdown",
   "id": "94a7d33d",
   "metadata": {},
   "source": [
    "The slope is:"
   ]
  },
  {
   "cell_type": "code",
   "execution_count": 21,
   "id": "94bc31be",
   "metadata": {},
   "outputs": [
    {
     "data": {
      "text/plain": [
       "-0.03854770754231997"
      ]
     },
     "execution_count": 21,
     "metadata": {},
     "output_type": "execute_result"
    }
   ],
   "source": [
    "slope"
   ]
  },
  {
   "cell_type": "markdown",
   "id": "57ea3ef4",
   "metadata": {},
   "source": [
    "The intercept is:"
   ]
  },
  {
   "cell_type": "code",
   "execution_count": 22,
   "id": "d44a698d",
   "metadata": {},
   "outputs": [
    {
     "data": {
      "text/plain": [
       "4.368415819445762"
      ]
     },
     "execution_count": 22,
     "metadata": {},
     "output_type": "execute_result"
    }
   ],
   "source": [
    "intercept"
   ]
  },
  {
   "cell_type": "markdown",
   "id": "3ec2fabf",
   "metadata": {},
   "source": [
    "Recall the transformation of the variables:\n",
    "\n",
    "$$x=\\ln(m)\\qquad y=\\ln(h)$$\n",
    "\n",
    "You now have the relationship:\n",
    "\n",
    "$$y=ax + b$$\n",
    "\n",
    "Where $a$ corresponds to the `slope` and $b$ corresponds to the `intercept`.\n",
    "\n",
    "The question asks for a relationship between $m$ and $h$ of the form:\n",
    "\n",
    "$$h=cm^k$$\n",
    "\n",
    "You can use `sympy` to manipulate the expressions:"
   ]
  },
  {
   "cell_type": "code",
   "execution_count": 23,
   "id": "e1ed02ac",
   "metadata": {},
   "outputs": [],
   "source": [
    "import sympy as sym\n",
    "\n",
    "h = sym.Symbol(\"h\")\n",
    "m = sym.Symbol(\"m\")\n",
    "a = sym.Symbol(\"a\")\n",
    "b = sym.Symbol(\"b\")\n",
    "x = sym.ln(m)\n",
    "y = sym.ln(h)"
   ]
  },
  {
   "cell_type": "markdown",
   "id": "768e19eb",
   "metadata": {},
   "source": [
    "A general line of best fit for $x$ and $y$ can be expressed in terms of $m$ and\n",
    "$h$:"
   ]
  },
  {
   "cell_type": "code",
   "execution_count": 24,
   "id": "159cced3",
   "metadata": {},
   "outputs": [
    {
     "data": {
      "text/latex": [
       "$\\displaystyle \\log{\\left(h \\right)} = a \\log{\\left(m \\right)} + b$"
      ],
      "text/plain": [
       "Eq(log(h), a*log(m) + b)"
      ]
     },
     "execution_count": 24,
     "metadata": {},
     "output_type": "execute_result"
    }
   ],
   "source": [
    "line = sym.Eq(lhs=y, rhs=a * x + b)\n",
    "line"
   ]
  },
  {
   "cell_type": "markdown",
   "id": "b5d17939",
   "metadata": {},
   "source": [
    "Taking the exponential of both sides gives the required relationship:"
   ]
  },
  {
   "cell_type": "code",
   "execution_count": 25,
   "id": "ce484b55",
   "metadata": {},
   "outputs": [
    {
     "data": {
      "text/latex": [
       "$\\displaystyle h$"
      ],
      "text/plain": [
       "h"
      ]
     },
     "execution_count": 25,
     "metadata": {},
     "output_type": "execute_result"
    }
   ],
   "source": [
    "sym.exp(line.lhs)"
   ]
  },
  {
   "cell_type": "code",
   "execution_count": 26,
   "id": "bc4486b1",
   "metadata": {},
   "outputs": [
    {
     "data": {
      "text/latex": [
       "$\\displaystyle e^{b} e^{a \\log{\\left(m \\right)}}$"
      ],
      "text/plain": [
       "exp(b)*exp(a*log(m))"
      ]
     },
     "execution_count": 26,
     "metadata": {},
     "output_type": "execute_result"
    }
   ],
   "source": [
    "sym.expand(sym.exp(line.rhs))"
   ]
  },
  {
   "cell_type": "markdown",
   "id": "54db13e7",
   "metadata": {},
   "source": [
    "Which can be rewritten as:\n",
    "\n",
    "$$\n",
    "e^bm^a\n",
    "$$\n",
    "\n",
    "Substituting our values for the `slope` and `intercept` in to these expressions\n",
    "gives the required relationship:"
   ]
  },
  {
   "cell_type": "code",
   "execution_count": 27,
   "id": "85cf9e31",
   "metadata": {},
   "outputs": [
    {
     "data": {
      "text/latex": [
       "$\\displaystyle \\frac{78.9185114479915}{m^{0.03854770754232}}$"
      ],
      "text/plain": [
       "78.9185114479915/m**0.03854770754232"
      ]
     },
     "execution_count": 27,
     "metadata": {},
     "output_type": "execute_result"
    }
   ],
   "source": [
    "sym.exp(line.rhs).subs({a: slope, b: intercept})"
   ]
  },
  {
   "cell_type": "markdown",
   "id": "be6494b6",
   "metadata": {},
   "source": [
    "Below is a plot that shows this relationship:"
   ]
  },
  {
   "cell_type": "code",
   "execution_count": 28,
   "id": "bbe9b3c7",
   "metadata": {
    "tags": [
     "remove-input",
     "style-check-ignore",
     "nbval-ignore-output"
    ]
   },
   "outputs": [
    {
     "data": {
      "image/png": "[encoded data removed]",
      "text/plain": [
       "<Figure size 640x480 with 1 Axes>"
      ]
     },
     "metadata": {
      "filenames": {
       "image/png": "/home/runner/work/pfm/pfm/_build/jupyter_execute/tools-for-mathematics/08-statistics/tutorial/main_47_0.png"
      }
     },
     "output_type": "display_data"
    }
   ],
   "source": [
    "import matplotlib.pyplot as plt\n",
    "import numpy as np\n",
    "\n",
    "m_range = np.linspace(np.min(m_data), np.max(m_data), 100)\n",
    "relationship_image = np.exp(intercept) * m_range ** (slope)\n",
    "\n",
    "plt.figure()\n",
    "plt.scatter(x=m_data, y=h_data)\n",
    "plt.plot(m_range, relationship_image, color=\"black\")\n",
    "plt.xlabel(\"Minutes of exercise: $m$\")\n",
    "plt.ylabel(\"Resting heart rate: $h$\")\n",
    "plt.title(f\"Data collected by Anne with fitted relationship: $h={np.exp(intercept):.2f}m^{{{slope:.2f}}}$\");"
   ]
  },
  {
   "cell_type": "markdown",
   "id": "65267722",
   "metadata": {},
   "source": [
    "```{important}\n",
    "In this tutorial you have\n",
    "\n",
    "- Calulated values of central tendency and spread;\n",
    "- Calculated some bivariate coefficient;\n",
    "- Fitted a line of best fit.\n",
    "```"
   ]
  }
 ],
 "metadata": {
  "jupytext": {
   "formats": "ipynb,md:myst",
   "text_representation": {
    "extension": ".md",
    "format_name": "myst",
    "format_version": 0.12,
    "jupytext_version": "1.6.0"
   }
  },
  "kernelspec": {
   "display_name": "Python 3",
   "language": "python",
   "name": "python3"
  },
  "language_info": {
   "codemirror_mode": {
    "name": "ipython",
    "version": 3
   },
   "file_extension": ".py",
   "mimetype": "text/x-python",
   "name": "python",
   "nbconvert_exporter": "python",
   "pygments_lexer": "ipython3",
   "version": "3.10.18"
  },
  "source_map": [
   13,
   95,
   148,
   152,
   195,
   199,
   201,
   205,
   209,
   211,
   215,
   219,
   221,
   226,
   230,
   232,
   237,
   241,
   243,
   247,
   251,
   253,
   257,
   261,
   263,
   267,
   271,
   273,
   278,
   280,
   290,
   294,
   298,
   300,
   304,
   306,
   310,
   312,
   330,
   339,
   344,
   347,
   351,
   355,
   357,
   368,
   370,
   374,
   389
  ]
 },
 "nbformat": 4,
 "nbformat_minor": 5
}