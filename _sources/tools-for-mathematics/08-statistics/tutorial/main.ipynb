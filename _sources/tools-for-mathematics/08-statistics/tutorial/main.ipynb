{
 "cells": [
  {
   "cell_type": "markdown",
   "id": "7658fc03",
   "metadata": {},
   "source": [
    "# Tutorial\n",
    "\n",
    "We will solve the following problem using a computer to do some of the more\n",
    "tedious calculations.\n",
    "\n",
    "````{admonition} Problem\n",
    "\n",
    "Anna is investigating the relationship between exercise and resting heart rate.\n",
    "She takes a random sample of 19 people in her year group and records for each person\n",
    "\n",
    "- their resting heart rate, $h$ beats per minute.\n",
    "- the number of minutes, $m$, spent exercising each week.\n",
    "\n",
    "A table with the data is here:\n",
    "\n",
    "```{list-table} Collected dat from Anna's year group.\n",
    ":header-rows: 1\n",
    "\n",
    "* - h\n",
    "  - m\n",
    "* - 76.0\n",
    "  - 5\n",
    "* - 72.0\n",
    "  - 5\n",
    "* - 71.0\n",
    "  - 21\n",
    "* - 74.0\n",
    "  - 30\n",
    "* - 71.0\n",
    "  - 42\n",
    "* - 69.0\n",
    "  - 20\n",
    "* - 68.0\n",
    "  - 20\n",
    "* - 68.0\n",
    "  - 35\n",
    "* - 66\n",
    "  - 80.0\n",
    "* - 64\n",
    "  - 120.0\n",
    "* - 65\n",
    "  - 140.0\n",
    "* - 63\n",
    "  - 180.0\n",
    "* - 63\n",
    "  - 205.0\n",
    "* - 62\n",
    "  - 225.0\n",
    "* - 65\n",
    "  - 237.0\n",
    "* - 63\n",
    "  - 280.0\n",
    "* - 65\n",
    "  - 300.0\n",
    "* - 64\n",
    "  - 356.0\n",
    "* - 64\n",
    "  - 360.0\n",
    "```\n",
    "\n",
    "You can see a scatter plot below.\n",
    "\n",
    "1. For all collected values of $h$ and $m$ obtain:\n",
    "\n",
    "    - The mean\n",
    "    - The median\n",
    "    - The quartiles\n",
    "    - The standard deviation\n",
    "    - The variation\n",
    "    - The maximum\n",
    "    - The minimum\n",
    "\n",
    "2. Obtain the Pearson Coefficient of correlation for the variables $h$ and $m$.\n",
    "3. Obtain the line of best fit for variables $x$ and $y$ as\n",
    "   defined by:\n",
    "\n",
    "   $$x=\\ln(m)\\qquad y=\\ln(h)$$\n",
    "\n",
    "4. Using the above obtain a relationship between $m$ and $h$ of the form:\n",
    "\n",
    "   $$h=am^k$$\n",
    "````"
   ]
  },
  {
   "cell_type": "code",
   "execution_count": 1,
   "id": "28df4e26",
   "metadata": {
    "tags": [
     "remove-input",
     "style-check-ignore",
     "nbval-ignore-output"
    ]
   },
   "outputs": [
    {
     "data": {
      "image/png": "[encoded data removed]",
      "text/plain": [
       "<Figure size 640x480 with 1 Axes>"
      ]
     },
     "metadata": {
      "filenames": {
       "image/png": "/home/runner/work/pfm/pfm/_build/jupyter_execute/tools-for-mathematics/08-statistics/tutorial/main_1_0.png"
      }
     },
     "output_type": "display_data"
    }
   ],
   "source": [
    "import matplotlib.pyplot as plt\n",
    "\n",
    "h_data = (\n",
    "    76.0,\n",
    "    72.0,\n",
    "    71.0,\n",
    "    74.0,\n",
    "    71.0,\n",
    "    69.0,\n",
    "    68.0,\n",
    "    68.0,\n",
    "    66.0,\n",
    "    64.0,\n",
    "    65.0,\n",
    "    63.0,\n",
    "    63.0,\n",
    "    62.0,\n",
    "    65.0,\n",
    "    63.0,\n",
    "    65.0,\n",
    "    64.0,\n",
    "    64.0,\n",
    ")\n",
    "m_data = (\n",
    "    5,\n",
    "    5,\n",
    "    21,\n",
    "    30,\n",
    "    42,\n",
    "    20,\n",
    "    20,\n",
    "    35,\n",
    "    80,\n",
    "    120,\n",
    "    140,\n",
    "    180,\n",
    "    205,\n",
    "    225,\n",
    "    237,\n",
    "    280,\n",
    "    300,\n",
    "    356,\n",
    "    360,\n",
    ")\n",
    "\n",
    "plt.figure()\n",
    "plt.scatter(x=m_data, y=h_data)\n",
    "plt.xlabel(\"Minutes of exercise: $m$\")\n",
    "plt.ylabel(\"Resting heart rate: $h$\")\n",
    "plt.title(\"Data collected by Anne\");"
   ]
  },
  {
   "cell_type": "markdown",
   "id": "ab825ed3",
   "metadata": {},
   "source": [
    "Let us start by inputting all the data:"
   ]
  },
  {
   "cell_type": "code",
   "execution_count": 2,
   "id": "5cdb12d8",
   "metadata": {},
   "outputs": [],
   "source": [
    "h = (\n",
    "    76.0,\n",
    "    72.0,\n",
    "    71.0,\n",
    "    74.0,\n",
    "    71.0,\n",
    "    69.0,\n",
    "    68.0,\n",
    "    68.0,\n",
    "    66.0,\n",
    "    64.0,\n",
    "    65.0,\n",
    "    63.0,\n",
    "    63.0,\n",
    "    62.0,\n",
    "    65.0,\n",
    "    63.0,\n",
    "    65.0,\n",
    "    64.0,\n",
    "    64.0,\n",
    ")\n",
    "m = (\n",
    "    5,\n",
    "    5,\n",
    "    21,\n",
    "    30,\n",
    "    42,\n",
    "    20,\n",
    "    20,\n",
    "    35,\n",
    "    80,\n",
    "    120,\n",
    "    140,\n",
    "    180,\n",
    "    205,\n",
    "    225,\n",
    "    237,\n",
    "    280,\n",
    "    300,\n",
    "    356,\n",
    "    360,\n",
    ")"
   ]
  },
  {
   "cell_type": "markdown",
   "id": "16615299",
   "metadata": {},
   "source": [
    "The main tool we are going to use for this is `statistics`."
   ]
  },
  {
   "cell_type": "code",
   "execution_count": 3,
   "id": "e51f12cf",
   "metadata": {},
   "outputs": [],
   "source": [
    "import statistics as st"
   ]
  },
  {
   "cell_type": "markdown",
   "id": "d502473d",
   "metadata": {},
   "source": [
    "To calculate the mean:"
   ]
  },
  {
   "cell_type": "code",
   "execution_count": 4,
   "id": "93274889",
   "metadata": {},
   "outputs": [
    {
     "data": {
      "text/plain": [
       "67.0"
      ]
     },
     "execution_count": 4,
     "metadata": {},
     "output_type": "execute_result"
    }
   ],
   "source": [
    "st.mean(h)"
   ]
  },
  {
   "cell_type": "code",
   "execution_count": 5,
   "id": "42c8f34b",
   "metadata": {},
   "outputs": [
    {
     "data": {
      "text/plain": [
       "140.05263157894737"
      ]
     },
     "execution_count": 5,
     "metadata": {},
     "output_type": "execute_result"
    }
   ],
   "source": [
    "st.mean(m)"
   ]
  },
  {
   "cell_type": "markdown",
   "id": "48d2d3af",
   "metadata": {},
   "source": [
    "To calculate the median:"
   ]
  },
  {
   "cell_type": "code",
   "execution_count": 6,
   "id": "15fa1123",
   "metadata": {},
   "outputs": [
    {
     "data": {
      "text/plain": [
       "65.0"
      ]
     },
     "execution_count": 6,
     "metadata": {},
     "output_type": "execute_result"
    }
   ],
   "source": [
    "st.median(h)"
   ]
  },
  {
   "cell_type": "code",
   "execution_count": 7,
   "id": "d40d80c1",
   "metadata": {},
   "outputs": [
    {
     "data": {
      "text/plain": [
       "120"
      ]
     },
     "execution_count": 7,
     "metadata": {},
     "output_type": "execute_result"
    }
   ],
   "source": [
    "st.median(m)"
   ]
  },
  {
   "cell_type": "markdown",
   "id": "6d156e35",
   "metadata": {},
   "source": [
    "To calculate the quartiles, we use `statistics.quantiles` and specify that we\n",
    "want to separate the date in to $n=4$ quarters."
   ]
  },
  {
   "cell_type": "code",
   "execution_count": 8,
   "id": "19185882",
   "metadata": {},
   "outputs": [
    {
     "data": {
      "text/plain": [
       "[64.0, 65.0, 71.0]"
      ]
     },
     "execution_count": 8,
     "metadata": {},
     "output_type": "execute_result"
    }
   ],
   "source": [
    "st.quantiles(h, n=4)"
   ]
  },
  {
   "cell_type": "code",
   "execution_count": 9,
   "id": "fa214e21",
   "metadata": {},
   "outputs": [
    {
     "data": {
      "text/plain": [
       "[21.0, 120.0, 237.0]"
      ]
     },
     "execution_count": 9,
     "metadata": {},
     "output_type": "execute_result"
    }
   ],
   "source": [
    "st.quantiles(m, n=4)"
   ]
  },
  {
   "cell_type": "markdown",
   "id": "603ffe78",
   "metadata": {},
   "source": [
    "Note that this calculation confirms the median which corresponds to the 50%\n",
    "quartile.\n",
    "\n",
    "To calculate the sample standard deviation:"
   ]
  },
  {
   "cell_type": "code",
   "execution_count": 10,
   "id": "e929e793",
   "metadata": {},
   "outputs": [
    {
     "data": {
      "text/plain": [
       "4.123105625617661"
      ]
     },
     "execution_count": 10,
     "metadata": {},
     "output_type": "execute_result"
    }
   ],
   "source": [
    "st.stdev(h)"
   ]
  },
  {
   "cell_type": "code",
   "execution_count": 11,
   "id": "dd9a5ac8",
   "metadata": {},
   "outputs": [
    {
     "data": {
      "text/plain": [
       "124.46662813970593"
      ]
     },
     "execution_count": 11,
     "metadata": {},
     "output_type": "execute_result"
    }
   ],
   "source": [
    "st.stdev(m)"
   ]
  },
  {
   "cell_type": "markdown",
   "id": "050b4ea3",
   "metadata": {},
   "source": [
    "To calculate the sample variance:"
   ]
  },
  {
   "cell_type": "code",
   "execution_count": 12,
   "id": "01e1f0da",
   "metadata": {},
   "outputs": [
    {
     "data": {
      "text/plain": [
       "17.0"
      ]
     },
     "execution_count": 12,
     "metadata": {},
     "output_type": "execute_result"
    }
   ],
   "source": [
    "st.variance(h)"
   ]
  },
  {
   "cell_type": "code",
   "execution_count": 13,
   "id": "7d6a65f2",
   "metadata": {},
   "outputs": [
    {
     "data": {
      "text/plain": [
       "15491.941520467835"
      ]
     },
     "execution_count": 13,
     "metadata": {},
     "output_type": "execute_result"
    }
   ],
   "source": [
    "st.variance(m)"
   ]
  },
  {
   "cell_type": "markdown",
   "id": "6a6cb2be",
   "metadata": {},
   "source": [
    "To compute that maximum:"
   ]
  },
  {
   "cell_type": "code",
   "execution_count": 14,
   "id": "0482012c",
   "metadata": {},
   "outputs": [
    {
     "data": {
      "text/plain": [
       "76.0"
      ]
     },
     "execution_count": 14,
     "metadata": {},
     "output_type": "execute_result"
    }
   ],
   "source": [
    "max(h)"
   ]
  },
  {
   "cell_type": "code",
   "execution_count": 15,
   "id": "e00dfa94",
   "metadata": {},
   "outputs": [
    {
     "data": {
      "text/plain": [
       "360"
      ]
     },
     "execution_count": 15,
     "metadata": {},
     "output_type": "execute_result"
    }
   ],
   "source": [
    "max(m)"
   ]
  },
  {
   "cell_type": "markdown",
   "id": "1a00833b",
   "metadata": {},
   "source": [
    "To compute the minimum:"
   ]
  },
  {
   "cell_type": "code",
   "execution_count": 16,
   "id": "fabf378b",
   "metadata": {},
   "outputs": [
    {
     "data": {
      "text/plain": [
       "62.0"
      ]
     },
     "execution_count": 16,
     "metadata": {},
     "output_type": "execute_result"
    }
   ],
   "source": [
    "min(h)"
   ]
  },
  {
   "cell_type": "code",
   "execution_count": 17,
   "id": "caa4c83a",
   "metadata": {},
   "outputs": [
    {
     "data": {
      "text/plain": [
       "5"
      ]
     },
     "execution_count": 17,
     "metadata": {},
     "output_type": "execute_result"
    }
   ],
   "source": [
    "min(m)"
   ]
  },
  {
   "cell_type": "markdown",
   "id": "c53af813",
   "metadata": {},
   "source": [
    "In order to compute the Pearson Coefficient of correlation we use\n",
    "`statistics.correlation`:"
   ]
  },
  {
   "cell_type": "code",
   "execution_count": 18,
   "id": "05cbf468",
   "metadata": {},
   "outputs": [
    {
     "ename": "AttributeError",
     "evalue": "module 'statistics' has no attribute 'correlation'",
     "output_type": "error",
     "traceback": [
      "\u001b[0;31m---------------------------------------------------------------------------\u001b[0m",
      "\u001b[0;31mAttributeError\u001b[0m                            Traceback (most recent call last)",
      "Cell \u001b[0;32mIn[18], line 1\u001b[0m\n\u001b[0;32m----> 1\u001b[0m \u001b[43mst\u001b[49m\u001b[38;5;241;43m.\u001b[39;49m\u001b[43mcorrelation\u001b[49m(h, m)\n",
      "\u001b[0;31mAttributeError\u001b[0m: module 'statistics' has no attribute 'correlation'"
     ]
    }
   ],
   "source": [
    "st.correlation(h, m)"
   ]
  },
  {
   "cell_type": "markdown",
   "id": "f7590e93",
   "metadata": {},
   "source": [
    "This negative value indicates a negative correlation between $h$ and $m$,\n",
    "indicating that the more you exercise the lower your heart rate is likely to be.\n",
    "\n",
    "To calculate the line of best fit for the transformed variables we need to first\n",
    "create them. We will do this using a list comprehension. As we are doing\n",
    "everything numerically, we will use `math.log` which by default computes the\n",
    "natural logarithm:"
   ]
  },
  {
   "cell_type": "code",
   "execution_count": null,
   "id": "ce964c62",
   "metadata": {},
   "outputs": [],
   "source": [
    "import math\n",
    "x = [math.log(value) for value in m]\n",
    "y = [math.log(value) for value in h]"
   ]
  },
  {
   "cell_type": "markdown",
   "id": "e5189a3a",
   "metadata": {},
   "source": [
    "Now to compute the line of best fit we will use `statistics.linear_regression`:"
   ]
  },
  {
   "cell_type": "code",
   "execution_count": null,
   "id": "9e73e665",
   "metadata": {},
   "outputs": [],
   "source": [
    "slope, intercept = st.linear_regression(x, y)"
   ]
  },
  {
   "cell_type": "markdown",
   "id": "a79b40eb",
   "metadata": {},
   "source": [
    "The slope is:"
   ]
  },
  {
   "cell_type": "code",
   "execution_count": null,
   "id": "394cd1bb",
   "metadata": {},
   "outputs": [],
   "source": [
    "slope"
   ]
  },
  {
   "cell_type": "markdown",
   "id": "4af8cb01",
   "metadata": {},
   "source": [
    "The intercept is:"
   ]
  },
  {
   "cell_type": "code",
   "execution_count": null,
   "id": "408c375a",
   "metadata": {},
   "outputs": [],
   "source": [
    "intercept"
   ]
  },
  {
   "cell_type": "markdown",
   "id": "41654999",
   "metadata": {},
   "source": [
    "If we recall the transformation of the variables:\n",
    "\n",
    "$$x=\\ln(m)\\qquad y=\\ln(h)$$\n",
    "\n",
    "We now have the relationship:\n",
    "\n",
    "$$y=ax + b$$\n",
    "\n",
    "We can use `sympy` to manipulate the expressions:"
   ]
  },
  {
   "cell_type": "code",
   "execution_count": null,
   "id": "c6ccca3a",
   "metadata": {},
   "outputs": [],
   "source": [
    "import sympy as sym\n",
    "\n",
    "h = sym.Symbol(\"h\")\n",
    "m = sym.Symbol(\"m\")\n",
    "a = sym.Symbol(\"a\")\n",
    "b = sym.Symbol(\"b\")\n",
    "x = sym.ln(m)\n",
    "y = sym.ln(h)"
   ]
  },
  {
   "cell_type": "markdown",
   "id": "380de125",
   "metadata": {},
   "source": [
    "A general line of best fit for $x$ and $y$ is given by:"
   ]
  },
  {
   "cell_type": "code",
   "execution_count": null,
   "id": "11a30f99",
   "metadata": {},
   "outputs": [],
   "source": [
    "line = sym.Eq(lhs=y, rhs=a * x + b)\n",
    "line"
   ]
  },
  {
   "cell_type": "markdown",
   "id": "d3d7e024",
   "metadata": {},
   "source": [
    "Taking the exponential of both sides gives the required relationship:"
   ]
  },
  {
   "cell_type": "code",
   "execution_count": null,
   "id": "9cceecf3",
   "metadata": {},
   "outputs": [],
   "source": [
    "sym.exp(line.lhs)"
   ]
  },
  {
   "cell_type": "code",
   "execution_count": null,
   "id": "996e1f6c",
   "metadata": {},
   "outputs": [],
   "source": [
    "sym.exp(line.rhs)"
   ]
  },
  {
   "cell_type": "markdown",
   "id": "416d3a80",
   "metadata": {},
   "source": [
    "Which can be rewritten as:\n",
    "\n",
    "$$\n",
    "e^bm^a\n",
    "$$\n",
    "\n",
    "Substituting our values for the `slope` and `intercept` in to these expressions\n",
    "gives the required relationship:"
   ]
  },
  {
   "cell_type": "code",
   "execution_count": null,
   "id": "ec7157f2",
   "metadata": {},
   "outputs": [],
   "source": [
    "sym.exp(line.rhs).subs({a: slope, b: intercept})"
   ]
  },
  {
   "cell_type": "markdown",
   "id": "13dd2de0",
   "metadata": {},
   "source": [
    "Below is a plot that shows this relationship:"
   ]
  },
  {
   "cell_type": "code",
   "execution_count": null,
   "id": "31a72e9b",
   "metadata": {
    "tags": [
     "remove-input",
     "style-check-ignore",
     "nbval-ignore-output"
    ]
   },
   "outputs": [],
   "source": [
    "import matplotlib.pyplot as plt\n",
    "import numpy as np\n",
    "\n",
    "m_range = np.linspace(np.min(m_data), np.max(m_data), 100)\n",
    "relationship_image = np.exp(intercept) * m_range ** (slope)\n",
    "\n",
    "plt.figure()\n",
    "plt.scatter(x=m_data, y=h_data)\n",
    "plt.plot(m_range, relationship_image, color=\"black\")\n",
    "plt.xlabel(\"Minutes of exercise: $m$\")\n",
    "plt.ylabel(\"Resting heart rate: $h$\")\n",
    "plt.title(f\"Data collected by Anne with fitted relationship: $h={np.exp(intercept):.2f}m^{{{slope:.2f}}}$\");"
   ]
  },
  {
   "cell_type": "markdown",
   "id": "e5b54566",
   "metadata": {},
   "source": [
    "```{important}\n",
    "In this tutorial we have\n",
    "\n",
    "- Calulated values of central tendancy and spread\n",
    "- Calculated some bi variate coefficients\n",
    "- Fitted a line of best fit\n",
    "```"
   ]
  }
 ],
 "metadata": {
  "jupytext": {
   "formats": "ipynb,md:myst",
   "text_representation": {
    "extension": ".md",
    "format_name": "myst",
    "format_version": 0.12,
    "jupytext_version": "1.6.0"
   }
  },
  "kernelspec": {
   "display_name": "Python 3",
   "language": "python",
   "name": "python3"
  },
  "language_info": {
   "codemirror_mode": {
    "name": "ipython",
    "version": 3
   },
   "file_extension": ".py",
   "mimetype": "text/x-python",
   "name": "python",
   "nbconvert_exporter": "python",
   "pygments_lexer": "ipython3",
   "version": "3.8.17"
  },
  "source_map": [
   13,
   98,
   151,
   155,
   198,
   202,
   204,
   208,
   212,
   214,
   218,
   222,
   224,
   229,
   233,
   235,
   242,
   246,
   248,
   252,
   256,
   258,
   262,
   266,
   268,
   272,
   276,
   278,
   283,
   285,
   295,
   299,
   303,
   305,
   309,
   311,
   315,
   317,
   329,
   338,
   342,
   345,
   349,
   353,
   355,
   366,
   368,
   372,
   387
  ]
 },
 "nbformat": 4,
 "nbformat_minor": 5
}