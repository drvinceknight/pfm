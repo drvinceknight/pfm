{
 "cells": [
  {
   "cell_type": "markdown",
   "id": "fa742a48",
   "metadata": {},
   "source": [
    "# Solutions\n",
    "\n",
    "## Question 1\n",
    "\n",
    "> `1`. Using recursion, obtain the first 10 terms of the following sequences:\n",
    "\n",
    "> `1`. $\\left\\{\\begin{array}{l}a_1 = 1,\\\\a_n = 3a_{n - 1}, n > 1\\end{array}\\right.$"
   ]
  },
  {
   "cell_type": "code",
   "execution_count": 1,
   "id": "1e2faa04",
   "metadata": {},
   "outputs": [
    {
     "data": {
      "text/plain": [
       "[1, 3, 9, 27, 81, 243, 729, 2187, 6561, 19683]"
      ]
     },
     "execution_count": 1,
     "metadata": {},
     "output_type": "execute_result"
    }
   ],
   "source": [
    "def get_sequence_a(n):\n",
    "    \"\"\"\n",
    "    Return the sequence a.\n",
    "    \"\"\"\n",
    "    if n == 1:\n",
    "        return 1\n",
    "    return 3 * get_sequence_a(n - 1)\n",
    "\n",
    "\n",
    "[get_sequence_a(n) for n in range(1, 11)]"
   ]
  },
  {
   "cell_type": "markdown",
   "id": "5b443982",
   "metadata": {},
   "source": [
    "> `2`. $\\left\\{\\begin{array}{l}b_1 = 3,\\\\b_n = 6b_{n - 1}, n > 1\\end{array}\\right.$"
   ]
  },
  {
   "cell_type": "code",
   "execution_count": 2,
   "id": "c2ddbd29",
   "metadata": {},
   "outputs": [
    {
     "data": {
      "text/plain": [
       "[3, 18, 108, 648, 3888, 23328, 139968, 839808, 5038848, 30233088]"
      ]
     },
     "execution_count": 2,
     "metadata": {},
     "output_type": "execute_result"
    }
   ],
   "source": [
    "def get_sequence_b(n):\n",
    "    \"\"\"\n",
    "    Return the sequence b.\n",
    "    \"\"\"\n",
    "    if n == 1:\n",
    "        return 3\n",
    "    return 6 * get_sequence_b(n - 1)\n",
    "\n",
    "\n",
    "[get_sequence_b(n) for n in range(1, 11)]"
   ]
  },
  {
   "cell_type": "markdown",
   "id": "5c0ed9fe",
   "metadata": {},
   "source": [
    "> `3`. $\\left\\{\\begin{array}{l}c_1 = 3,\\\\c_n = 6c_{n - 1} + 3, n > 1\\end{array}\\right.$"
   ]
  },
  {
   "cell_type": "code",
   "execution_count": 3,
   "id": "9e1a7700",
   "metadata": {},
   "outputs": [
    {
     "data": {
      "text/plain": [
       "[3, 21, 129, 777, 4665, 27993, 167961, 1007769, 6046617, 36279705]"
      ]
     },
     "execution_count": 3,
     "metadata": {},
     "output_type": "execute_result"
    }
   ],
   "source": [
    "def get_sequence_c(n):\n",
    "    \"\"\"\n",
    "    Return the sequence c.\n",
    "    \"\"\"\n",
    "    if n == 1:\n",
    "        return 3\n",
    "    return 6 * get_sequence_c(n - 1) + 3\n",
    "\n",
    "\n",
    "[get_sequence_c(n) for n in range(1, 11)]"
   ]
  },
  {
   "cell_type": "markdown",
   "id": "3cb611fb",
   "metadata": {},
   "source": [
    "> `4`. $\\left\\{\\begin{array}{l}d_0 = 3,\\\\d_n = \\sqrt{d_{n - 1}} + 3, n > 0\\end{array}\\right.$"
   ]
  },
  {
   "cell_type": "code",
   "execution_count": 4,
   "id": "521b029e",
   "metadata": {},
   "outputs": [
    {
     "data": {
      "text/plain": [
       "[sqrt(3) + 3,\n",
       " sqrt(sqrt(3) + 3) + 3,\n",
       " sqrt(sqrt(sqrt(3) + 3) + 3) + 3,\n",
       " sqrt(sqrt(sqrt(sqrt(3) + 3) + 3) + 3) + 3,\n",
       " sqrt(sqrt(sqrt(sqrt(sqrt(3) + 3) + 3) + 3) + 3) + 3,\n",
       " sqrt(sqrt(sqrt(sqrt(sqrt(sqrt(3) + 3) + 3) + 3) + 3) + 3) + 3,\n",
       " sqrt(sqrt(sqrt(sqrt(sqrt(sqrt(sqrt(3) + 3) + 3) + 3) + 3) + 3) + 3) + 3,\n",
       " sqrt(sqrt(sqrt(sqrt(sqrt(sqrt(sqrt(sqrt(3) + 3) + 3) + 3) + 3) + 3) + 3) + 3) + 3,\n",
       " sqrt(sqrt(sqrt(sqrt(sqrt(sqrt(sqrt(sqrt(sqrt(3) + 3) + 3) + 3) + 3) + 3) + 3) + 3) + 3) + 3,\n",
       " sqrt(sqrt(sqrt(sqrt(sqrt(sqrt(sqrt(sqrt(sqrt(sqrt(3) + 3) + 3) + 3) + 3) + 3) + 3) + 3) + 3) + 3) + 3]"
      ]
     },
     "execution_count": 4,
     "metadata": {},
     "output_type": "execute_result"
    }
   ],
   "source": [
    "import sympy as sym\n",
    "\n",
    "\n",
    "def get_sequence_d(n):\n",
    "    \"\"\"\n",
    "    Return the sequence c.\n",
    "    \"\"\"\n",
    "    if n == 0:\n",
    "        return 3\n",
    "    return sym.sqrt(get_sequence_d(n - 1)) + 3\n",
    "\n",
    "\n",
    "[get_sequence_d(n) for n in range(1, 11)]"
   ]
  },
  {
   "cell_type": "markdown",
   "id": "90b5d913",
   "metadata": {},
   "source": [
    "We could use a `sqrt` from a different library. Choosing to use `sympy` as it\n",
    "ensures the result is exact although not necessarily readable. Here is an\n",
    "approximate approach:"
   ]
  },
  {
   "cell_type": "code",
   "execution_count": 5,
   "id": "610602cd",
   "metadata": {},
   "outputs": [
    {
     "data": {
      "text/plain": [
       "[3,\n",
       " 4.732050807568877,\n",
       " 5.175327747161075,\n",
       " 5.2749346687676715,\n",
       " 5.296722592906612,\n",
       " 5.301460969233807,\n",
       " 5.302490167022176,\n",
       " 5.302713652850084,\n",
       " 5.302762178960321,\n",
       " 5.3027727154368325]"
      ]
     },
     "execution_count": 5,
     "metadata": {},
     "output_type": "execute_result"
    }
   ],
   "source": [
    "import math\n",
    "\n",
    "\n",
    "def get_sequence_d(n):\n",
    "    \"\"\"\n",
    "    Return the sequence c.\n",
    "    \"\"\"\n",
    "    if n == 0:\n",
    "        return 3\n",
    "    return math.sqrt(get_sequence_d(n - 1)) + 3\n",
    "\n",
    "\n",
    "[get_sequence_d(n) for n in range(10)]"
   ]
  },
  {
   "cell_type": "markdown",
   "id": "00dbe067",
   "metadata": {},
   "source": [
    "## Question 2\n",
    "\n",
    "> 2. Using recursion, obtain the first 5 terms of the Fibonacci sequence:\n",
    "\n",
    "   $$\n",
    "       \\left\\{\n",
    "       \\begin{array}{l}\n",
    "       a_0 = 0,\\\\\n",
    "       a_1 = 1,\\\\\n",
    "       a_n = a_{n - 1} + a_{n - 2}, n \\geq 2\\end{array}\\right.\n",
    "   $$"
   ]
  },
  {
   "cell_type": "code",
   "execution_count": 6,
   "id": "a84c8169",
   "metadata": {},
   "outputs": [
    {
     "data": {
      "text/plain": [
       "[0, 1, 1, 2, 3, 5, 8, 13, 21, 34]"
      ]
     },
     "execution_count": 6,
     "metadata": {},
     "output_type": "execute_result"
    }
   ],
   "source": [
    "def get_fibonacci(n):\n",
    "    \"\"\"\n",
    "    Return the nth term of the Fibonacci sequence\n",
    "    \"\"\"\n",
    "    if n == 0:\n",
    "        return 0\n",
    "    if n == 1:\n",
    "        return 1\n",
    "    return get_fibonacci(n - 1) + get_fibonacci(n - 2)\n",
    "\n",
    "\n",
    "[get_fibonacci(n) for n in range(10)]"
   ]
  },
  {
   "cell_type": "markdown",
   "id": "12b37602",
   "metadata": {},
   "source": [
    "## Question 3\n",
    "\n",
    "> `3`. A 40 year building programme for new houses began in Oldtown in the year\n",
    "> 1951 (Year 1) and finished in 1990 (Year 40).\n",
    "\n",
    "> The number of houses built each year form an arithmetic sequence with first\n",
    "> term $a$ and common difference $d$.\n",
    "\n",
    "> Given that 2400 new houses were built in 1960 and 600 new houses were built in\n",
    "> 1990, find:\n",
    "\n",
    "> `1`. The value of $d$.\n",
    "\n",
    "An arithmetic sequence with first term $a$ and common difference $d$ is a\n",
    "sequence of the form:\n",
    "\n",
    "$$\n",
    "  \\left\\{\n",
    "    \\begin{array}{l}\n",
    "       a_1 = a,\\\\\n",
    "       a_n = a_{n - 1} + d\n",
    "    \\end{array}\n",
    "  \\right.\n",
    "$$\n",
    "\n",
    "We will write a function to express this:"
   ]
  },
  {
   "cell_type": "code",
   "execution_count": 7,
   "id": "1951ec4d",
   "metadata": {},
   "outputs": [],
   "source": [
    "def get_arithmetic_sequence(n, first_term, common_difference):\n",
    "    \"\"\"\n",
    "    Return the nth term of an arithmetic sequence with give first_term and\n",
    "    common common_difference.\n",
    "    \"\"\"\n",
    "    if n == 1:\n",
    "        return first_term\n",
    "    return (\n",
    "        get_arithmetic_sequence(n - 1, first_term, common_difference)\n",
    "        + common_difference\n",
    "    )"
   ]
  },
  {
   "cell_type": "markdown",
   "id": "b0bc16d4",
   "metadata": {},
   "source": [
    "We know that $a_{10}=2400$ and $a_{40}=600$ we can write down equations that\n",
    "represent this:"
   ]
  },
  {
   "cell_type": "code",
   "execution_count": 8,
   "id": "f128ca6d",
   "metadata": {},
   "outputs": [
    {
     "data": {
      "text/latex": [
       "$\\displaystyle a + 9 d = 2400$"
      ],
      "text/plain": [
       "Eq(a + 9*d, 2400)"
      ]
     },
     "execution_count": 8,
     "metadata": {},
     "output_type": "execute_result"
    }
   ],
   "source": [
    "a = sym.Symbol(\"a\")\n",
    "d = sym.Symbol(\"d\")\n",
    "\n",
    "a_10_equation = sym.Eq(\n",
    "    get_arithmetic_sequence(n=10, first_term=a, common_difference=d), 2400\n",
    ")\n",
    "a_10_equation"
   ]
  },
  {
   "cell_type": "code",
   "execution_count": 9,
   "id": "27c7ba3d",
   "metadata": {},
   "outputs": [
    {
     "data": {
      "text/latex": [
       "$\\displaystyle a + 39 d = 600$"
      ],
      "text/plain": [
       "Eq(a + 39*d, 600)"
      ]
     },
     "execution_count": 9,
     "metadata": {},
     "output_type": "execute_result"
    }
   ],
   "source": [
    "a_40_equation = sym.Eq(\n",
    "    get_arithmetic_sequence(n=40, first_term=a, common_difference=d), 600\n",
    ")\n",
    "a_40_equation"
   ]
  },
  {
   "cell_type": "markdown",
   "id": "030484dc",
   "metadata": {},
   "source": [
    "We will solve the first equation for $a$:"
   ]
  },
  {
   "cell_type": "code",
   "execution_count": 10,
   "id": "d5aadfe5",
   "metadata": {},
   "outputs": [
    {
     "data": {
      "text/latex": [
       "$\\displaystyle \\left\\{2400 - 9 d\\right\\}$"
      ],
      "text/plain": [
       "{2400 - 9*d}"
      ]
     },
     "execution_count": 10,
     "metadata": {},
     "output_type": "execute_result"
    }
   ],
   "source": [
    "sym.solveset(a_10_equation, a)"
   ]
  },
  {
   "cell_type": "markdown",
   "id": "1d68e92b",
   "metadata": {},
   "source": [
    "We substitute this in to the other equation and solve it for $d$:"
   ]
  },
  {
   "cell_type": "code",
   "execution_count": 11,
   "id": "9c8dc0f2",
   "metadata": {},
   "outputs": [
    {
     "data": {
      "text/latex": [
       "$\\displaystyle \\left\\{-60\\right\\}$"
      ],
      "text/plain": [
       "{-60}"
      ]
     },
     "execution_count": 11,
     "metadata": {},
     "output_type": "execute_result"
    }
   ],
   "source": [
    "sym.solveset(a_40_equation.subs({a: 2400 - 9 * d}), d)"
   ]
  },
  {
   "cell_type": "markdown",
   "id": "12c4936a",
   "metadata": {},
   "source": [
    "> `2`. The value of $a$.\n",
    "\n",
    "We can substitute that value for $d$ back in to the expression for $a$:"
   ]
  },
  {
   "cell_type": "code",
   "execution_count": 12,
   "id": "331294a1",
   "metadata": {},
   "outputs": [
    {
     "data": {
      "text/latex": [
       "$\\displaystyle 2940$"
      ],
      "text/plain": [
       "2940"
      ]
     },
     "execution_count": 12,
     "metadata": {},
     "output_type": "execute_result"
    }
   ],
   "source": [
    "(2400 - 9 * d).subs({d: -60})"
   ]
  },
  {
   "cell_type": "markdown",
   "id": "05eea68e",
   "metadata": {},
   "source": [
    "> `3`. The total number of houses built in Oldtown over 40 years."
   ]
  },
  {
   "cell_type": "code",
   "execution_count": 13,
   "id": "0072fe1d",
   "metadata": {},
   "outputs": [
    {
     "data": {
      "text/plain": [
       "70800"
      ]
     },
     "execution_count": 13,
     "metadata": {},
     "output_type": "execute_result"
    }
   ],
   "source": [
    "sum(\n",
    "    get_arithmetic_sequence(n=n, first_term=2940, common_difference=-60)\n",
    "    for n in range(1, 41)\n",
    ")"
   ]
  },
  {
   "cell_type": "markdown",
   "id": "4046223f",
   "metadata": {},
   "source": [
    "## Question 4\n",
    "\n",
    "> `4`. A sequence is given by:\n",
    "\n",
    "   $$\n",
    "       \\left\\{\\begin{array}{l}\n",
    "       x_1 = 1\\\\\n",
    "       x_{n + 1}= x_n(p + x_n), n > 1\n",
    "       \\end{array}\\right.\n",
    "   $$\n",
    "\n",
    "\n",
    "> for $p\\ne0$.\n",
    "\n",
    "> `1`. Find $x_2$ in terms of $p$.\n",
    "\n",
    "We start by defining a function:"
   ]
  },
  {
   "cell_type": "code",
   "execution_count": 14,
   "id": "338cd0b4",
   "metadata": {},
   "outputs": [],
   "source": [
    "def get_sequence(n, p):\n",
    "    \"\"\"\n",
    "    Return the nth term of the sequence x_n for a given value of p\n",
    "    \"\"\"\n",
    "    if n == 1:\n",
    "        return 1\n",
    "    return get_sequence(n - 1, p) * (p + get_sequence(n - 1, p))"
   ]
  },
  {
   "cell_type": "markdown",
   "id": "6f37a6a1",
   "metadata": {},
   "source": [
    "Using this we can answer the question:"
   ]
  },
  {
   "cell_type": "code",
   "execution_count": 15,
   "id": "c7af7d76",
   "metadata": {},
   "outputs": [
    {
     "data": {
      "text/latex": [
       "$\\displaystyle p + 1$"
      ],
      "text/plain": [
       "p + 1"
      ]
     },
     "execution_count": 15,
     "metadata": {},
     "output_type": "execute_result"
    }
   ],
   "source": [
    "p = sym.Symbol(\"p\")\n",
    "\n",
    "x_2 = get_sequence(n=2, p=p)\n",
    "x_2"
   ]
  },
  {
   "cell_type": "markdown",
   "id": "b1a3c956",
   "metadata": {},
   "source": [
    "> `2`. Show that $x_3=1+3p+2p^2$."
   ]
  },
  {
   "cell_type": "code",
   "execution_count": 16,
   "id": "85252219",
   "metadata": {},
   "outputs": [
    {
     "data": {
      "text/latex": [
       "$\\displaystyle 2 p^{2} + 3 p + 1$"
      ],
      "text/plain": [
       "2*p**2 + 3*p + 1"
      ]
     },
     "execution_count": 16,
     "metadata": {},
     "output_type": "execute_result"
    }
   ],
   "source": [
    "p = sym.Symbol(\"p\")\n",
    "\n",
    "x_3 = get_sequence(n=3, p=p)\n",
    "sym.expand(x_3)"
   ]
  },
  {
   "cell_type": "markdown",
   "id": "9ae79b40",
   "metadata": {},
   "source": [
    "> `3`. Given that $x_3=1$, find the value of $p$"
   ]
  },
  {
   "cell_type": "code",
   "execution_count": 17,
   "id": "7df90346",
   "metadata": {},
   "outputs": [
    {
     "data": {
      "text/latex": [
       "$\\displaystyle \\left\\{- \\frac{3}{2}, 0\\right\\}$"
      ],
      "text/plain": [
       "{-3/2, 0}"
      ]
     },
     "execution_count": 17,
     "metadata": {},
     "output_type": "execute_result"
    }
   ],
   "source": [
    "equation = sym.Eq(x_3, 1)\n",
    "sym.solveset(equation, p)"
   ]
  },
  {
   "cell_type": "markdown",
   "id": "b6190dbe",
   "metadata": {},
   "source": [
    "As $p\\ne0$ this gives us that $p=-\\frac{3}{2}$."
   ]
  }
 ],
 "metadata": {
  "jupytext": {
   "formats": "ipynb,md:myst",
   "text_representation": {
    "extension": ".md",
    "format_name": "myst",
    "format_version": 0.12,
    "jupytext_version": "1.6.0"
   }
  },
  "kernelspec": {
   "display_name": "Python 3",
   "language": "python",
   "name": "python3"
  },
  "language_info": {
   "codemirror_mode": {
    "name": "ipython",
    "version": 3
   },
   "file_extension": ".py",
   "mimetype": "text/x-python",
   "name": "python",
   "nbconvert_exporter": "python",
   "pygments_lexer": "ipython3",
   "version": "3.10.13"
  },
  "source_map": [
   13,
   23,
   34,
   38,
   49,
   53,
   64,
   68,
   82,
   88,
   102,
   116,
   129,
   158,
   170,
   175,
   185,
   190,
   194,
   196,
   200,
   202,
   208,
   210,
   214,
   219,
   239,
   247,
   251,
   256,
   260,
   265,
   269,
   272
  ]
 },
 "nbformat": 4,
 "nbformat_minor": 5
}