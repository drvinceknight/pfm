{
 "cells": [
  {
   "cell_type": "markdown",
   "id": "c946afae",
   "metadata": {},
   "source": [
    "# Tutorial\n",
    "\n",
    "You will solve the following problem using a computer using a\n",
    "programming technique called **recursion**.\n",
    "\n",
    "```{admonition} Problem\n",
    "\n",
    "A sequence $a_1, a_2, a_3, …$ is defined by:\n",
    "\n",
    "$$\n",
    "    \\left\\{\n",
    "    \\begin{array}{l}\n",
    "        a_1 = k,\\\\\n",
    "        a_{n + 1} = 2a_n – 7, n \\geq 1,\n",
    "    \\end{array}\n",
    "    \\right.\n",
    "$$\n",
    "\n",
    "where $k$ is a constant.\n",
    "\n",
    "\n",
    "1. Write down an expression for $a_2$ in terms of $k$.\n",
    "2. Show that $a_3 = 4k -21$\n",
    "3. Given that $\\sum_{r=1}^4 a_r = 43$ find the value of $k$.\n",
    "```\n",
    "\n",
    "You will use Python to define a function that reproduces the\n",
    "mathematical definition of $a_k$:"
   ]
  },
  {
   "cell_type": "code",
   "execution_count": 1,
   "id": "6d19449f",
   "metadata": {},
   "outputs": [],
   "source": [
    "def generate_a(k_value, n):\n",
    "    \"\"\"\n",
    "    Uses recursion to return a_n for a given value of k:\n",
    "\n",
    "    a_1 = k\n",
    "    a_n = 2a_{n-1} - 7\n",
    "    \"\"\"\n",
    "    if n == 1:\n",
    "        return k_value\n",
    "    return 2 * generate_a(k_value, n - 1) - 7"
   ]
  },
  {
   "cell_type": "markdown",
   "id": "add7b0d3",
   "metadata": {},
   "source": [
    "```{attention}\n",
    "This is similar to the mathematical definition: the Python definition of\n",
    "the function refers to itself.\n",
    "```\n",
    "\n",
    "You can use this to compute $a_3$ for $k=4$:"
   ]
  },
  {
   "cell_type": "code",
   "execution_count": 2,
   "id": "bf787623",
   "metadata": {},
   "outputs": [
    {
     "data": {
      "text/plain": [
       "-5"
      ]
     },
     "execution_count": 2,
     "metadata": {},
     "output_type": "execute_result"
    }
   ],
   "source": [
    "generate_a(k_value=4, n=3)"
   ]
  },
  {
   "cell_type": "markdown",
   "id": "3fd221fe",
   "metadata": {},
   "source": [
    "You can use this to compute $a_5$ for $k=1$:"
   ]
  },
  {
   "cell_type": "code",
   "execution_count": 3,
   "id": "fd384331",
   "metadata": {},
   "outputs": [
    {
     "data": {
      "text/plain": [
       "-89"
      ]
     },
     "execution_count": 3,
     "metadata": {},
     "output_type": "execute_result"
    }
   ],
   "source": [
    "generate_a(k_value=1, n=5)"
   ]
  },
  {
   "cell_type": "markdown",
   "id": "67bd00d0",
   "metadata": {},
   "source": [
    "Finally it is also possible to pass a symbolic value to `k_value`. This allows\n",
    "you to answer the first question:"
   ]
  },
  {
   "cell_type": "code",
   "execution_count": 4,
   "id": "e56abd11",
   "metadata": {},
   "outputs": [
    {
     "data": {
      "text/latex": [
       "$\\displaystyle 2 k - 7$"
      ],
      "text/plain": [
       "2*k - 7"
      ]
     },
     "execution_count": 4,
     "metadata": {},
     "output_type": "execute_result"
    }
   ],
   "source": [
    "import sympy as sym\n",
    "\n",
    "k = sym.Symbol(\"k\")\n",
    "generate_a(k_value=k, n=2)"
   ]
  },
  {
   "cell_type": "markdown",
   "id": "21b3c69d",
   "metadata": {},
   "source": [
    "Likewise for $a_3$:"
   ]
  },
  {
   "cell_type": "code",
   "execution_count": 5,
   "id": "c290a0f0",
   "metadata": {},
   "outputs": [
    {
     "data": {
      "text/latex": [
       "$\\displaystyle 4 k - 21$"
      ],
      "text/plain": [
       "4*k - 21"
      ]
     },
     "execution_count": 5,
     "metadata": {},
     "output_type": "execute_result"
    }
   ],
   "source": [
    "generate_a(k_value=k, n=3)"
   ]
  },
  {
   "cell_type": "markdown",
   "id": "d0f0674d",
   "metadata": {},
   "source": [
    "For the last question start by computing the sum:\n",
    "\n",
    "$$\n",
    "    \\sum_{r=1}^4 a_r\n",
    "$$"
   ]
  },
  {
   "cell_type": "code",
   "execution_count": 6,
   "id": "47a9941a",
   "metadata": {},
   "outputs": [
    {
     "data": {
      "text/latex": [
       "$\\displaystyle 15 k - 77$"
      ],
      "text/plain": [
       "15*k - 77"
      ]
     },
     "execution_count": 6,
     "metadata": {},
     "output_type": "execute_result"
    }
   ],
   "source": [
    "sum_of_first_four_terms = sum(generate_a(k_value=k, n=r) for r in range(1, 5))\n",
    "sum_of_first_four_terms"
   ]
  },
  {
   "cell_type": "markdown",
   "id": "0e1e2ef9",
   "metadata": {},
   "source": [
    "This allows you to create the given equation and solve it:"
   ]
  },
  {
   "cell_type": "code",
   "execution_count": 7,
   "id": "d11a4a71",
   "metadata": {},
   "outputs": [
    {
     "data": {
      "text/latex": [
       "$\\displaystyle \\left\\{8\\right\\}$"
      ],
      "text/plain": [
       "{8}"
      ]
     },
     "execution_count": 7,
     "metadata": {},
     "output_type": "execute_result"
    }
   ],
   "source": [
    "equation = sym.Eq(sum_of_first_four_terms, 43)\n",
    "sym.solveset(equation, k)"
   ]
  },
  {
   "cell_type": "markdown",
   "id": "affb8aa5",
   "metadata": {},
   "source": [
    "```{important}\n",
    "In this tutorial you have\n",
    "\n",
    "-   Defined a function using recursion.\n",
    "-   Called this function using both numeric and symbolic values.\n",
    "```"
   ]
  }
 ],
 "metadata": {
  "jupytext": {
   "formats": "ipynb,md:myst",
   "text_representation": {
    "extension": ".md",
    "format_name": "myst",
    "format_version": 0.12,
    "jupytext_version": "1.6.0"
   }
  },
  "kernelspec": {
   "display_name": "Python 3",
   "language": "python",
   "name": "python3"
  },
  "language_info": {
   "codemirror_mode": {
    "name": "ipython",
    "version": 3
   },
   "file_extension": ".py",
   "mimetype": "text/x-python",
   "name": "python",
   "nbconvert_exporter": "python",
   "pygments_lexer": "ipython3",
   "version": "3.10.18"
  },
  "source_map": [
   13,
   44,
   55,
   64,
   66,
   70,
   72,
   77,
   82,
   86,
   88,
   96,
   99,
   103,
   106
  ]
 },
 "nbformat": 4,
 "nbformat_minor": 5
}