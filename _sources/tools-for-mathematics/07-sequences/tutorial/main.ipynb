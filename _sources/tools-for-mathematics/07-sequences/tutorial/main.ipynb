{
 "cells": [
  {
   "cell_type": "markdown",
   "id": "c5e61b2c",
   "metadata": {},
   "source": [
    "# Tutorial\n",
    "\n",
    "We will solve the following problem using a computer using a programming\n",
    "technique called **recursion**.\n",
    "\n",
    "```{admonition} Problem\n",
    "\n",
    "A sequence $a_1, a_2, a_3, …$ is defined by:\n",
    "\n",
    "$$\n",
    "    \\left\\{\n",
    "    \\begin{array}{l}\n",
    "        a_1 = k,\\\\\n",
    "        a_{n + 1} = 2a_n – 7, n \\geq 1,\n",
    "    \\end{array}\n",
    "    \\right.\n",
    "$$\n",
    "\n",
    "where $k$ is a constant.\n",
    "\n",
    "\n",
    "1. Write down an expression for $a_2$ in terms of $k$.\n",
    "2. Show that $a_3 = 4k -21$\n",
    "3. Given that $\\sum_{r=1}^4 a_r = 43$ find the value of $k$.\n",
    "```\n",
    "\n",
    "We will use a Python to define a function that reproduces the mathematical\n",
    "definition of $a_k$:"
   ]
  },
  {
   "cell_type": "code",
   "execution_count": 1,
   "id": "bc77bc9e",
   "metadata": {},
   "outputs": [],
   "source": [
    "def generate_a(k_value, n):\n",
    "    \"\"\"\n",
    "    Uses recursion to return a_n for a given value of k:\n",
    "\n",
    "    a_1 = k\n",
    "    a_n = 2a_{n-1} - 7\n",
    "    \"\"\"\n",
    "    if n == 1:\n",
    "        return k_value\n",
    "    return 2 * generate_a(k_value, n - 1) - 7"
   ]
  },
  {
   "cell_type": "markdown",
   "id": "19cb116e",
   "metadata": {},
   "source": [
    "```{attention}\n",
    "This is similar to the mathematical definition the Python definition of\n",
    "the function refers to itself.\n",
    "```\n",
    "\n",
    "We can use this to compute $a_3$ for $k=4$:"
   ]
  },
  {
   "cell_type": "code",
   "execution_count": 2,
   "id": "cb0d2693",
   "metadata": {},
   "outputs": [
    {
     "data": {
      "text/plain": [
       "-5"
      ]
     },
     "execution_count": 2,
     "metadata": {},
     "output_type": "execute_result"
    }
   ],
   "source": [
    "generate_a(k_value=4, n=3)"
   ]
  },
  {
   "cell_type": "markdown",
   "id": "8e38a343",
   "metadata": {},
   "source": [
    "We can use this to compute $a_5$ for $k=1$:"
   ]
  },
  {
   "cell_type": "code",
   "execution_count": 3,
   "id": "55eea4f4",
   "metadata": {},
   "outputs": [
    {
     "data": {
      "text/plain": [
       "-89"
      ]
     },
     "execution_count": 3,
     "metadata": {},
     "output_type": "execute_result"
    }
   ],
   "source": [
    "generate_a(k_value=1, n=5)"
   ]
  },
  {
   "cell_type": "markdown",
   "id": "c9038c3d",
   "metadata": {},
   "source": [
    "Finally it is also possible to pass a symbolic value to `k_value`. This allows\n",
    "us to answer the first question:"
   ]
  },
  {
   "cell_type": "code",
   "execution_count": 4,
   "id": "83845eb0",
   "metadata": {},
   "outputs": [
    {
     "data": {
      "text/latex": [
       "$\\displaystyle 2 k - 7$"
      ],
      "text/plain": [
       "2*k - 7"
      ]
     },
     "execution_count": 4,
     "metadata": {},
     "output_type": "execute_result"
    }
   ],
   "source": [
    "import sympy as sym\n",
    "\n",
    "k = sym.Symbol(\"k\")\n",
    "generate_a(k_value=k, n=2)"
   ]
  },
  {
   "cell_type": "markdown",
   "id": "e6e53480",
   "metadata": {},
   "source": [
    "Likewise for $a_3$:"
   ]
  },
  {
   "cell_type": "code",
   "execution_count": 5,
   "id": "d3431328",
   "metadata": {},
   "outputs": [
    {
     "data": {
      "text/latex": [
       "$\\displaystyle 4 k - 21$"
      ],
      "text/plain": [
       "4*k - 21"
      ]
     },
     "execution_count": 5,
     "metadata": {},
     "output_type": "execute_result"
    }
   ],
   "source": [
    "generate_a(k_value=k, n=3)"
   ]
  },
  {
   "cell_type": "markdown",
   "id": "b50e0963",
   "metadata": {},
   "source": [
    "For the last question we start by computing the sum:\n",
    "\n",
    "$$\n",
    "    \\sum_{r=1}^4 a_r = 43\n",
    "$$"
   ]
  },
  {
   "cell_type": "code",
   "execution_count": 6,
   "id": "6b30fdce",
   "metadata": {},
   "outputs": [
    {
     "data": {
      "text/latex": [
       "$\\displaystyle 15 k - 77$"
      ],
      "text/plain": [
       "15*k - 77"
      ]
     },
     "execution_count": 6,
     "metadata": {},
     "output_type": "execute_result"
    }
   ],
   "source": [
    "sum_of_first_four_terms = sum(generate_a(k_value=k, n=r) for r in range(1, 5))\n",
    "sum_of_first_four_terms"
   ]
  },
  {
   "cell_type": "markdown",
   "id": "55b247d9",
   "metadata": {},
   "source": [
    "This allows us to create the given equation and solve it:"
   ]
  },
  {
   "cell_type": "code",
   "execution_count": 7,
   "id": "3fbf968b",
   "metadata": {},
   "outputs": [
    {
     "data": {
      "text/latex": [
       "$\\displaystyle \\left\\{8\\right\\}$"
      ],
      "text/plain": [
       "{8}"
      ]
     },
     "execution_count": 7,
     "metadata": {},
     "output_type": "execute_result"
    }
   ],
   "source": [
    "equation = sym.Eq(sum_of_first_four_terms, 43)\n",
    "sym.solveset(equation, k)"
   ]
  },
  {
   "cell_type": "markdown",
   "id": "1c87cfcf",
   "metadata": {},
   "source": [
    "```{important}\n",
    "In this tutorial we have\n",
    "\n",
    "- Defined a function using recursion.\n",
    "- Called this function using both numeric and symbolic values.\n",
    "```"
   ]
  }
 ],
 "metadata": {
  "jupytext": {
   "formats": "ipynb,md:myst",
   "text_representation": {
    "extension": ".md",
    "format_name": "myst",
    "format_version": 0.12,
    "jupytext_version": "1.6.0"
   }
  },
  "kernelspec": {
   "display_name": "Python 3",
   "language": "python",
   "name": "python3"
  },
  "language_info": {
   "codemirror_mode": {
    "name": "ipython",
    "version": 3
   },
   "file_extension": ".py",
   "mimetype": "text/x-python",
   "name": "python",
   "nbconvert_exporter": "python",
   "pygments_lexer": "ipython3",
   "version": "3.10.12"
  },
  "source_map": [
   13,
   44,
   55,
   64,
   66,
   70,
   72,
   77,
   82,
   86,
   88,
   96,
   99,
   103,
   106
  ]
 },
 "nbformat": 4,
 "nbformat_minor": 5
}