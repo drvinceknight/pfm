{
 "cells": [
  {
   "cell_type": "markdown",
   "id": "33727ced",
   "metadata": {},
   "source": [
    "# Exercises\n",
    "\n",
    "**After** completing the tutorial attempt the following exercises.\n",
    "\n",
    "**If you are not sure how to do something, have a look at the \"How To\" section.**\n",
    "\n",
    "1. Using recursion, obtain the first 10 terms of the following sequences:\n",
    "   1. $\\left\\{\\begin{array}{l}a_1 = 1,\\\\a_n = 3a_{n - 1}, n > 1\\end{array}\\right.$\n",
    "   2. $\\left\\{\\begin{array}{l}b_1 = 3,\\\\b_n = 6b_{n - 1}, n > 1\\end{array}\\right.$\n",
    "   3. $\\left\\{\\begin{array}{l}c_1 = 3,\\\\c_n = 6c_{n - 1} + 3, n > 1\\end{array}\\right.$\n",
    "   4. $\\left\\{\\begin{array}{l}d_0 = 3,\\\\d_n = \\sqrt{d_{n - 1}} + 3, n > 0\\end{array}\\right.$\n",
    "2. Using recursion, obtain the first 5 terms of the Fibonacci sequence:\n",
    "\n",
    "   $$\n",
    "   \\left\\{\n",
    "       \\begin{array}{l}\n",
    "           a_0 = 0,\\\\\n",
    "           a_1 = 1,\\\\\n",
    "           a_n = a_{n - 1} + a_{n - 2}, n \\geq 2\n",
    "       \\end{array}\n",
    "   \\right.\n",
    "   $$\n",
    "\n",
    "3. A 40 year building programme for new houses began in Oldtown in the year 1951 (Year 1) and finished in 1990 (Year 40).\n",
    "\n",
    "   The number of houses built each year form an arithmetic sequence with first term $a$ and common difference $d$.\n",
    "\n",
    "   Given that 2400 new houses were built in 1960 and 600 new houses were built in 1990, find:\n",
    "\n",
    "   1. The value of $d$.\n",
    "   2. The value of $a$.\n",
    "   3. The total number of houses built in Oldtown over 40 years.\n",
    "\n",
    "4. A sequence is given by:\n",
    "\n",
    "   $$\n",
    "       \\left\\{\\begin{array}{l}\n",
    "       x_1 = 1\\\\\n",
    "       x_{n + 1}= x_n(p + x_n), n > 1\n",
    "       \\end{array}\\right.\n",
    "   $$\n",
    "\n",
    "   for $p\\ne0$.\n",
    "\n",
    "   1. Find $x_2$ in terms of $p$.\n",
    "   2. Show that $x_3=1+3p+2p^2$.\n",
    "   3. Given that $x_3=1$, find the value of $p$"
   ]
  }
 ],
 "metadata": {
  "jupytext": {
   "formats": "ipynb,md:myst",
   "text_representation": {
    "extension": ".md",
    "format_name": "myst",
    "format_version": 0.12,
    "jupytext_version": "1.6.0"
   }
  },
  "kernelspec": {
   "display_name": "Python 3",
   "language": "python",
   "name": "python3"
  },
  "language_info": {
   "codemirror_mode": {
    "name": "ipython",
    "version": 3
   },
   "file_extension": ".py",
   "mimetype": "text/x-python",
   "name": "python",
   "nbconvert_exporter": "python",
   "pygments_lexer": "ipython3",
   "version": "3.10.18"
  },
  "source_map": [
   13
  ]
 },
 "nbformat": 4,
 "nbformat_minor": 5
}