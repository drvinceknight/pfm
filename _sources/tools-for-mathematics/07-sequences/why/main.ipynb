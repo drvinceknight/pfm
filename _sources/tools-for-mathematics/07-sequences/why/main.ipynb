{
 "cells": [
  {
   "cell_type": "markdown",
   "id": "82e204f2",
   "metadata": {},
   "source": [
    "# Further information\n",
    "\n",
    "## What are the differences between recursion and iteration?\n",
    "\n",
    "When giving instructions to a computer it is possible to use recursion to\n",
    "directly implement a common mathematical definition. For example consider the\n",
    "following sequence:\n",
    "\n",
    "$$\n",
    "    \\left\\{\\begin{array}{l}\n",
    "    a_1 = 1\\\\\n",
    "    a_{n + 1}= 3a_n, n > 1\n",
    "    \\end{array}\\right.\n",
    "$$\n",
    "\n",
    "We can define this in Python as follows:"
   ]
  },
  {
   "cell_type": "code",
   "execution_count": 1,
   "id": "df260732",
   "metadata": {},
   "outputs": [],
   "source": [
    "def generate_sequence(n):\n",
    "    \"\"\"\n",
    "    Generate the sequence defined by:\n",
    "\n",
    "    a_1 = 1\n",
    "    a_n = 3 a_{n - 1}\n",
    "\n",
    "    This is done using recursion.\n",
    "    \"\"\"\n",
    "    if n == 1:\n",
    "        return 1\n",
    "    return 3 * generate_sequence(n - 1)"
   ]
  },
  {
   "cell_type": "markdown",
   "id": "cb0f50fd",
   "metadata": {},
   "source": [
    "The first 6 terms:"
   ]
  },
  {
   "cell_type": "code",
   "execution_count": 2,
   "id": "99656469",
   "metadata": {},
   "outputs": [
    {
     "data": {
      "text/plain": [
       "[1, 3, 9, 27, 81, 243]"
      ]
     },
     "execution_count": 2,
     "metadata": {},
     "output_type": "execute_result"
    }
   ],
   "source": [
    "[generate_sequence(n) for n in range(1, 7)]"
   ]
  },
  {
   "cell_type": "markdown",
   "id": "f4b0e540",
   "metadata": {},
   "source": [
    "We note that in this case this corresponds to powers of $3$, and indeed we can\n",
    "prove that: $a_n = 3 ^ {n - 1}$. We will not carry out the proof here but one\n",
    "approach to doing it would be to use proof by induction which is closely related\n",
    "to recursive functions.\n",
    "\n",
    "We can write a different python function that uses this formulae. This is called\n",
    "**iteration**:"
   ]
  },
  {
   "cell_type": "code",
   "execution_count": 3,
   "id": "35431829",
   "metadata": {},
   "outputs": [],
   "source": [
    "def calculate_sequence(n):\n",
    "    \"\"\"\n",
    "    Calculate the nth term of the sequence defined by:\n",
    "\n",
    "    a_1 = 1\n",
    "    a_n = 3 a_{n - 1}\n",
    "\n",
    "    This is done using iteration using the direct formula:\n",
    "\n",
    "    a_n = 3 ^ n\n",
    "    \"\"\"\n",
    "    return 3 ** (n - 1)"
   ]
  },
  {
   "cell_type": "code",
   "execution_count": 4,
   "id": "32a2b7e3",
   "metadata": {},
   "outputs": [
    {
     "data": {
      "text/plain": [
       "[1, 3, 9, 27, 81, 243]"
      ]
     },
     "execution_count": 4,
     "metadata": {},
     "output_type": "execute_result"
    }
   ],
   "source": [
    "[calculate_sequence(n) for n in range(1, 7)]"
   ]
  },
  {
   "cell_type": "markdown",
   "id": "588a76fd",
   "metadata": {},
   "source": [
    "We can in fact use a Jupyter [magic\n",
    "command](https://ipython.readthedocs.io/en/stable/interactive/magics.html) to\n",
    "time the run time of a command. It is clear that recursion is slower."
   ]
  },
  {
   "cell_type": "code",
   "execution_count": 5,
   "id": "4d0e7a81",
   "metadata": {
    "tags": [
     "nbval-ignore-output",
     "style-check-ignore"
    ]
   },
   "outputs": [
    {
     "name": "stdout",
     "output_type": "stream",
     "text": [
      "46.5 µs ± 30.6 ns per loop (mean ± std. dev. of 7 runs, 10,000 loops each)\n"
     ]
    }
   ],
   "source": [
    "%timeit [generate_sequence(n) for n in range(1, 25)]"
   ]
  },
  {
   "cell_type": "code",
   "execution_count": 6,
   "id": "f691dd1c",
   "metadata": {
    "tags": [
     "nbval-ignore-output",
     "style-check-ignore"
    ]
   },
   "outputs": [
    {
     "name": "stdout",
     "output_type": "stream",
     "text": [
      "9.32 µs ± 3.92 ns per loop (mean ± std. dev. of 7 runs, 100,000 loops each)\n"
     ]
    }
   ],
   "source": [
    "%timeit [calculate_sequence(n) for n in range(1, 25)]"
   ]
  },
  {
   "cell_type": "markdown",
   "id": "a0f9d1df",
   "metadata": {},
   "source": [
    "In practice:\n",
    "\n",
    "- Using recursion is powerful as it can be used to directly implement recursive\n",
    "  definitions.\n",
    "- Using iteration is more computationally efficient but it is not always\n",
    "  straightforward to obtain an iterative formula.\n",
    "\n",
    "(what_is_caching)=\n",
    "\n",
    "## What is caching\n",
    "\n",
    "One of the reasons that recursion is computationally inefficient is that it\n",
    "always has to recalculate previously calculated values.\n",
    "\n",
    "For example:\n",
    "\n",
    "$$\n",
    "    \\left\\{\\begin{array}{l}\n",
    "    a_1 = 1\\\\\n",
    "    a_{n + 1}= 3a_n, n > 1\n",
    "    \\end{array}\\right.\n",
    "$$\n",
    "\n",
    "One way to overcome this is to use caching which means that when a function is\n",
    "called for a value it has already computed it remembers the value.\n",
    "\n",
    "Python has a caching tool available in the functools library:"
   ]
  },
  {
   "cell_type": "code",
   "execution_count": 7,
   "id": "a7fa5f6b",
   "metadata": {},
   "outputs": [],
   "source": [
    "import functools\n",
    "\n",
    "\n",
    "def generate_sequence(n):\n",
    "    \"\"\"\n",
    "    Generate the sequence defined by:\n",
    "\n",
    "    a_1 = 1\n",
    "    a_n = 3 a_{n - 1}\n",
    "\n",
    "    This is done using recursion.\n",
    "    \"\"\"\n",
    "    if n == 1:\n",
    "        return 1\n",
    "    return 3 * generate_sequence(n - 1)\n",
    "\n",
    "\n",
    "@functools.lru_cache()\n",
    "def cached_generate_sequence(n):\n",
    "    \"\"\"\n",
    "    Generate the sequence defined by:\n",
    "\n",
    "    a_1 = 1\n",
    "    a_n = 3 a_{n - 1}\n",
    "\n",
    "    This is done using recursion but also includes a cache.\n",
    "    \"\"\"\n",
    "    if n == 1:\n",
    "        return 1\n",
    "    return 3 * cached_generate_sequence(n - 1)"
   ]
  },
  {
   "cell_type": "markdown",
   "id": "75b47317",
   "metadata": {},
   "source": [
    "Timing both these approaches confirms a substantial increase in time for the\n",
    "cached version."
   ]
  },
  {
   "cell_type": "code",
   "execution_count": 8,
   "id": "f24e089b",
   "metadata": {
    "tags": [
     "nbval-ignore-output",
     "style-check-ignore"
    ]
   },
   "outputs": [
    {
     "name": "stdout",
     "output_type": "stream",
     "text": [
      "46.2 µs ± 24 ns per loop (mean ± std. dev. of 7 runs, 10,000 loops each)\n"
     ]
    }
   ],
   "source": [
    "%timeit [generate_sequence(n) for n in range(1, 25)]"
   ]
  },
  {
   "cell_type": "code",
   "execution_count": 9,
   "id": "7edba571",
   "metadata": {
    "tags": [
     "nbval-ignore-output",
     "style-check-ignore"
    ]
   },
   "outputs": [
    {
     "name": "stdout",
     "output_type": "stream",
     "text": [
      "2.74 µs ± 15.6 ns per loop (mean ± std. dev. of 7 runs, 100,000 loops each)\n"
     ]
    }
   ],
   "source": [
    "%timeit [cached_generate_sequence(n) for n in range(1, 25)]"
   ]
  }
 ],
 "metadata": {
  "jupytext": {
   "formats": "ipynb,md:myst",
   "text_representation": {
    "extension": ".md",
    "format_name": "myst",
    "format_version": 0.12,
    "jupytext_version": "1.6.0"
   }
  },
  "kernelspec": {
   "display_name": "Python 3",
   "language": "python",
   "name": "python3"
  },
  "language_info": {
   "codemirror_mode": {
    "name": "ipython",
    "version": 3
   },
   "file_extension": ".py",
   "mimetype": "text/x-python",
   "name": "python",
   "nbconvert_exporter": "python",
   "pygments_lexer": "ipython3",
   "version": "3.10.12"
  },
  "source_map": [
   13,
   32,
   45,
   49,
   51,
   61,
   76,
   78,
   84,
   90,
   94,
   124,
   155,
   160,
   166
  ]
 },
 "nbformat": 4,
 "nbformat_minor": 5
}