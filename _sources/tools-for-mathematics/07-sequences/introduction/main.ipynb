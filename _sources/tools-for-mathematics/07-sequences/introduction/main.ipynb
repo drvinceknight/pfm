{
 "cells": [
  {
   "cell_type": "markdown",
   "id": "b9dd32f8",
   "metadata": {},
   "source": [
    "(chp:sequences)=\n",
    "\n",
    "# Sequences\n",
    "\n",
    "The formal definition of sequences is a collection of ordered objects\n",
    "with potential repetitions. The study of these sequences leads to many\n",
    "interesting results. Here you will concentrate on using recursive\n",
    "definitions to generate the values in a sequence.\n",
    "\n",
    "```{important}\n",
    "In this chapter you will cover:\n",
    "\n",
    "- Using recursion.\n",
    "```"
   ]
  }
 ],
 "metadata": {
  "jupytext": {
   "formats": "ipynb,md:myst",
   "text_representation": {
    "extension": ".md",
    "format_name": "myst",
    "format_version": 0.12,
    "jupytext_version": "1.6.0"
   }
  },
  "kernelspec": {
   "display_name": "Python 3",
   "language": "python",
   "name": "python3"
  },
  "language_info": {
   "codemirror_mode": {
    "name": "ipython",
    "version": 3
   },
   "file_extension": ".py",
   "mimetype": "text/x-python",
   "name": "python",
   "nbconvert_exporter": "python",
   "pygments_lexer": "ipython3",
   "version": "3.10.18"
  },
  "source_map": [
   13
  ]
 },
 "nbformat": 4,
 "nbformat_minor": 5
}