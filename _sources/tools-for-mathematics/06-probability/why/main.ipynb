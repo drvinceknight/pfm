{
 "cells": [
  {
   "cell_type": "markdown",
   "id": "fce5ee65",
   "metadata": {},
   "source": [
    "# Further information\n",
    "\n",
    "(difference_between_a_list_and_a_tuple)=\n",
    "\n",
    "## What is the difference between a Python list and a Python tuple?\n",
    "\n",
    "Two of the most used Python iterables are lists and tuples. In practice\n",
    "they have a number of similarities, they are both ordered collections of\n",
    "objects that can be used in list comprehensions as well as in other\n",
    "ways.\n",
    "\n",
    "- Tuples are **immutable**\n",
    "- Lists are **mutable**\n",
    "\n",
    "This means that once created tuples cannot be changed and lists can.\n",
    "\n",
    "As a general rule of thumb: if you do not need to modify your iterable\n",
    "then use a tuple as they are more computationally efficient.\n",
    "\n",
    "## Why does the sum of booleans count the `True`s?\n",
    "\n",
    "In the tutorial and elsewhere you created a list of booleans and then\n",
    "took the sum. Here are some of the steps:"
   ]
  },
  {
   "cell_type": "code",
   "execution_count": 1,
   "id": "e63e8147",
   "metadata": {},
   "outputs": [],
   "source": [
    "samples = (\"Red\", \"Red\", \"Blue\")"
   ]
  },
  {
   "cell_type": "code",
   "execution_count": 2,
   "id": "6ed1957c",
   "metadata": {},
   "outputs": [
    {
     "data": {
      "text/plain": [
       "[True, True, False]"
      ]
     },
     "execution_count": 2,
     "metadata": {},
     "output_type": "execute_result"
    }
   ],
   "source": [
    "booleans = [sample == \"Red\" for sample in samples]\n",
    "booleans"
   ]
  },
  {
   "cell_type": "markdown",
   "id": "46427699",
   "metadata": {},
   "source": [
    "When you take the `sum` of that list you get a numeric value:"
   ]
  },
  {
   "cell_type": "code",
   "execution_count": 3,
   "id": "eb5827e2",
   "metadata": {},
   "outputs": [
    {
     "data": {
      "text/plain": [
       "2"
      ]
     },
     "execution_count": 3,
     "metadata": {},
     "output_type": "execute_result"
    }
   ],
   "source": [
    "sum(booleans)"
   ]
  },
  {
   "cell_type": "markdown",
   "id": "26cb1ebc",
   "metadata": {},
   "source": [
    "This has in fact counted the `True` values as 1 and the `False` values\n",
    "as 0."
   ]
  },
  {
   "cell_type": "code",
   "execution_count": 4,
   "id": "5bc81f25",
   "metadata": {},
   "outputs": [
    {
     "data": {
      "text/plain": [
       "1"
      ]
     },
     "execution_count": 4,
     "metadata": {},
     "output_type": "execute_result"
    }
   ],
   "source": [
    "int(True)"
   ]
  },
  {
   "cell_type": "code",
   "execution_count": 5,
   "id": "0229a5a0",
   "metadata": {},
   "outputs": [
    {
     "data": {
      "text/plain": [
       "0"
      ]
     },
     "execution_count": 5,
     "metadata": {},
     "output_type": "execute_result"
    }
   ],
   "source": [
    "int(False)"
   ]
  },
  {
   "cell_type": "markdown",
   "id": "d259d8b8",
   "metadata": {},
   "source": [
    "## What is the difference between `print` and `return`?\n",
    "\n",
    "In functions you use the `return` statement. This does two things:\n",
    "\n",
    "1.  Assigns a value to the function run;\n",
    "2.  Ends the function.\n",
    "\n",
    "The `print` statement **only** displays the output.\n",
    "\n",
    "As an example create the following set:\n",
    "\n",
    "$$\n",
    "    S = \\{f(x)\\text{ for }x \\in \\{0, \\pi / 4, \\pi / 2, 3\\pi / 4\\}\\}\n",
    "$$\n",
    "\n",
    "where $f(x)= \\cos^2(x)$.\n",
    "\n",
    "The correct way to do this is:"
   ]
  },
  {
   "cell_type": "code",
   "execution_count": 6,
   "id": "a57ddc9f",
   "metadata": {},
   "outputs": [
    {
     "data": {
      "text/plain": [
       "[1, 1/2, 0, 1/2]"
      ]
     },
     "execution_count": 6,
     "metadata": {},
     "output_type": "execute_result"
    }
   ],
   "source": [
    "import sympy as sym\n",
    "\n",
    "\n",
    "def f(x):\n",
    "    \"\"\"\n",
    "    Return the square of the cosine of x\n",
    "    \"\"\"\n",
    "    return sym.cos(x) ** 2\n",
    "\n",
    "\n",
    "S = [f(x) for x in (0, sym.pi / 4, sym.pi / 2, 3 * sym.pi / 4)]\n",
    "S"
   ]
  },
  {
   "cell_type": "markdown",
   "id": "b6169bf6",
   "metadata": {},
   "source": [
    "If you replaced the `return` statement in the function definition\n",
    "with a `print` you obtain:"
   ]
  },
  {
   "cell_type": "code",
   "execution_count": 7,
   "id": "5fcd04a8",
   "metadata": {},
   "outputs": [
    {
     "name": "stdout",
     "output_type": "stream",
     "text": [
      "1\n",
      "1/2\n",
      "0\n",
      "1/2\n"
     ]
    }
   ],
   "source": [
    "def f(x):\n",
    "    \"\"\"\n",
    "    Return the square of the cosine of x\n",
    "    \"\"\"\n",
    "    print(sym.cos(x) ** 2)\n",
    "\n",
    "\n",
    "S = [f(x) for x in (0, sym.pi / 4, sym.pi / 2, 3 * sym.pi / 4)]"
   ]
  },
  {
   "cell_type": "markdown",
   "id": "6c8d7c3e",
   "metadata": {},
   "source": [
    "The function has been run and it displays the output.\n",
    "\n",
    "**However** if you look at what `S` is you see that the function has not returned\n",
    "anything:"
   ]
  },
  {
   "cell_type": "code",
   "execution_count": 8,
   "id": "4c7a5f8b",
   "metadata": {},
   "outputs": [
    {
     "data": {
      "text/plain": [
       "[None, None, None, None]"
      ]
     },
     "execution_count": 8,
     "metadata": {},
     "output_type": "execute_result"
    }
   ],
   "source": [
    "S"
   ]
  },
  {
   "cell_type": "markdown",
   "id": "734d14de",
   "metadata": {},
   "source": [
    "## How does Python sample randomness?\n",
    "\n",
    "When using the Python random module you are in fact generating a pseudo\n",
    "random process. True randomness is actually not common.\n",
    "\n",
    "Pseudo randomness is an important area of mathematics as strong\n",
    "algorithms that create unpredictable sequences of numbers are vital to\n",
    "cryptographic security.\n",
    "\n",
    "The specific algorithm using in Python for randomness is called the\n",
    "Mersenne twister algorithm is state of the art.\n",
    "\n",
    "You can read more about this here:\n",
    "<https://docs.python.org/3/library/random.html#module-random>.\n",
    "\n",
    "(difference_between_a_docstring_and_a_comment)=\n",
    "\n",
    "## What is the difference between a docstring and a comment\n",
    "\n",
    "In Python it is possible to write statements that are ignored using the\n",
    "`#` symbol. This creates something called a \"comment\". For example:"
   ]
  },
  {
   "cell_type": "code",
   "execution_count": 9,
   "id": "9f83289a",
   "metadata": {},
   "outputs": [],
   "source": [
    "# create a list to represent the tokens in a bag\n",
    "bag = [\"Red\", \"Red\", \"Blue\"]"
   ]
  },
  {
   "cell_type": "markdown",
   "id": "a8692b53",
   "metadata": {},
   "source": [
    "A docstring however is something that is \"attached\"' to a function and\n",
    "can be accessed by Python. If you rewrite the function to sample the\n",
    "experiment of the tutorial without a docstring but using comments you\n",
    "will have:"
   ]
  },
  {
   "cell_type": "code",
   "execution_count": 10,
   "id": "ffc68e80",
   "metadata": {
    "tags": [
     "style-check-ignore"
    ]
   },
   "outputs": [],
   "source": [
    "def sample_experiment(bag):\n",
    "    # Select a token\n",
    "    selected_token = pick_a_token(container=bag)\n",
    "\n",
    "    # If the token is red then the probability of selecting heads is 2/3\n",
    "    if selected_token == \"Red\":\n",
    "        probability_of_selecting_heads = 2 / 3\n",
    "    # Otherwise it is 1 / 2\n",
    "    else:\n",
    "        probability_of_selecting_heads = 1 / 2\n",
    "\n",
    "    # Select a coin according to the probability.\n",
    "    if random.random() < probability_of_selecting_heads:\n",
    "        coin = \"Heads\"\n",
    "    else:\n",
    "        coin = \"Tails\"\n",
    "\n",
    "    # Return both the selected token and the coin.\n",
    "    return selected_token, coin"
   ]
  },
  {
   "cell_type": "markdown",
   "id": "d01e4aa4",
   "metadata": {},
   "source": [
    "Now if you try to access the help for the function you will not get it:"
   ]
  },
  {
   "cell_type": "code",
   "execution_count": 11,
   "id": "33b0ad78",
   "metadata": {},
   "outputs": [
    {
     "name": "stdout",
     "output_type": "stream",
     "text": [
      "Help on function sample_experiment in module __main__:\n",
      "\n",
      "sample_experiment(bag)\n",
      "\n"
     ]
    }
   ],
   "source": [
    "help(sample_experiment)"
   ]
  },
  {
   "cell_type": "markdown",
   "id": "ae6061ec",
   "metadata": {},
   "source": [
    "Furthermore, if you look at the code with comments you will see that\n",
    "because of the choice of variable names the comments are in fact\n",
    "redundant.\n",
    "\n",
    "In software engineering it is generally accepted that comments indicate\n",
    "that your code is not clear and so it is preferable to write clear\n",
    "documentation explaining why something is done through docstrings."
   ]
  },
  {
   "cell_type": "code",
   "execution_count": 12,
   "id": "a1cb302f",
   "metadata": {},
   "outputs": [],
   "source": [
    "def sample_experiment(bag):\n",
    "    \"\"\"\n",
    "    This samples a token from a given bag and then\n",
    "    selects a coin with a given probability.\n",
    "\n",
    "    If the sampled token is red then the probability\n",
    "    of selecting heads is 2/3 otherwise it is 1/2.\n",
    "\n",
    "    This function returns both the selected token\n",
    "    and the coin face.\n",
    "    \"\"\"\n",
    "    selected_token = pick_a_token(container=bag)\n",
    "\n",
    "    if selected_token == \"Red\":\n",
    "        probability_of_selecting_heads = 2 / 3\n",
    "    else:\n",
    "        probability_of_selecting_heads = 1 / 2\n",
    "\n",
    "    if random.random() < probability_of_selecting_heads:\n",
    "        coin = \"Heads\"\n",
    "    else:\n",
    "        coin = \"Tails\"\n",
    "    return selected_token, coin"
   ]
  },
  {
   "cell_type": "markdown",
   "id": "20e182dc",
   "metadata": {},
   "source": [
    "Here are some resources on this:\n",
    "\n",
    "- <https://blog.codinghorror.com/coding-without-comments/>\n",
    "- <https://visualstudiomagazine.com/articles/2013/07/26/why-commenting-code-is-still-bad.aspx>"
   ]
  }
 ],
 "metadata": {
  "jupytext": {
   "formats": "ipynb,md:myst",
   "text_representation": {
    "extension": ".md",
    "format_name": "myst",
    "format_version": 0.12,
    "jupytext_version": "1.6.0"
   }
  },
  "kernelspec": {
   "display_name": "Python 3",
   "language": "python",
   "name": "python3"
  },
  "language_info": {
   "codemirror_mode": {
    "name": "ipython",
    "version": 3
   },
   "file_extension": ".py",
   "mimetype": "text/x-python",
   "name": "python",
   "nbconvert_exporter": "python",
   "pygments_lexer": "ipython3",
   "version": "3.10.18"
  },
  "source_map": [
   13,
   39,
   43,
   46,
   50,
   52,
   57,
   61,
   63,
   84,
   97,
   102,
   111,
   118,
   120,
   144,
   147,
   154,
   176,
   180,
   182,
   192,
   216
  ]
 },
 "nbformat": 4,
 "nbformat_minor": 5
}