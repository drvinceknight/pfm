{
 "cells": [
  {
   "cell_type": "markdown",
   "id": "1bc7b6dc",
   "metadata": {},
   "source": [
    "(chp:probability)=\n",
    "\n",
    "# Probability\n",
    "\n",
    "Probability is the study of random events. Computers are particularly\n",
    "helpful here as they can be used to carry out a number of experiments to\n",
    "confirm and/or explore theoretic results.\n",
    "\n",
    "In practice studying probability will often involve measuring:\n",
    "\n",
    "- expected chances of an event occurring;\n",
    "- the conditional chances of an event occurring given another event\n",
    "  occurring.\n",
    "\n",
    "Here you will see how to instruct a computer to sample such events.\n",
    "\n",
    "```{important}\n",
    "In this chapter you will cover:\n",
    "\n",
    "- Generating random numbers.\n",
    "- Randomly sampling from a given collection of items.\n",
    "- Write python functions to be able to repeat experiments.\n",
    "```"
   ]
  }
 ],
 "metadata": {
  "jupytext": {
   "formats": "ipynb,md:myst",
   "text_representation": {
    "extension": ".md",
    "format_name": "myst",
    "format_version": 0.12,
    "jupytext_version": "1.6.0"
   }
  },
  "kernelspec": {
   "display_name": "Python 3",
   "language": "python",
   "name": "python3"
  },
  "language_info": {
   "codemirror_mode": {
    "name": "ipython",
    "version": 3
   },
   "file_extension": ".py",
   "mimetype": "text/x-python",
   "name": "python",
   "nbconvert_exporter": "python",
   "pygments_lexer": "ipython3",
   "version": "3.10.18"
  },
  "source_map": [
   13
  ]
 },
 "nbformat": 4,
 "nbformat_minor": 5
}