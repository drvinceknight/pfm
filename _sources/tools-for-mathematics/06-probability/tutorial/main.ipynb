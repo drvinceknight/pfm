{
 "cells": [
  {
   "cell_type": "markdown",
   "id": "1f7788d4",
   "metadata": {},
   "source": [
    "# Tutorial\n",
    "\n",
    "You will solve the following problem using a computer to estimate the\n",
    "expected probabilities:\n",
    "\n",
    "```{admonition} Problem\n",
    "\n",
    "An experiment consists of selecting a token from a bag and spinning a\n",
    "coin. The bag contains 5 red tokens and 7 blue tokens. A token is\n",
    "selected at random from the bag, its colour is noted and then the token\n",
    "is returned to the bag.\n",
    "\n",
    "When a red token is selected, a biased coin with probability\n",
    "$\\frac{2}{3}$ of landing heads is spun.\n",
    "\n",
    "When a blue token is selected a fair coin is spun.\n",
    "\n",
    "1.  What is the probability of picking a red token?\n",
    "\n",
    "2.  What is the probability of obtaining Heads?\n",
    "\n",
    "3.  If a heads is obtained, what is the probability of having selected a\n",
    "    red token.\n",
    "```\n",
    "\n",
    "You will use the `random` library from the Python standard library to do\n",
    "this. First start off by building a Python **tuple** to represent the\n",
    "bag with the tokens. Assign this to a variable `bag`:"
   ]
  },
  {
   "cell_type": "code",
   "execution_count": 1,
   "id": "cec2aaa8",
   "metadata": {},
   "outputs": [
    {
     "data": {
      "text/plain": [
       "('Red',\n",
       " 'Red',\n",
       " 'Red',\n",
       " 'Red',\n",
       " 'Red',\n",
       " 'Blue',\n",
       " 'Blue',\n",
       " 'Blue',\n",
       " 'Blue',\n",
       " 'Blue',\n",
       " 'Blue',\n",
       " 'Blue')"
      ]
     },
     "execution_count": 1,
     "metadata": {},
     "output_type": "execute_result"
    }
   ],
   "source": [
    "bag = (\n",
    "    \"Red\",\n",
    "    \"Red\",\n",
    "    \"Red\",\n",
    "    \"Red\",\n",
    "    \"Red\",\n",
    "    \"Blue\",\n",
    "    \"Blue\",\n",
    "    \"Blue\",\n",
    "    \"Blue\",\n",
    "    \"Blue\",\n",
    "    \"Blue\",\n",
    "    \"Blue\",\n",
    ")\n",
    "bag"
   ]
  },
  {
   "cell_type": "markdown",
   "id": "fdd8f121",
   "metadata": {},
   "source": [
    "```{attention}\n",
    "You are using the circular brackets `()` and the quotation marks `\"`.\n",
    "Those are important and cannot be omitted. The choice of brackets `()`\n",
    "as opposed to `{}` or `[]` is important as it instructs Python to do\n",
    "different things. You can use `\"` or `’` interchangeably.\n",
    "```\n",
    "\n",
    "Instead of writing every copy of color you can create a Python **list**\n",
    "which allows you to carry out some basic algebra on the items:\n",
    "\n",
    "- Create a list with 5 `\"Red\"`s.\n",
    "- Create a list with 7 `\"Blue\"`s.\n",
    "- Combine both lists:"
   ]
  },
  {
   "cell_type": "code",
   "execution_count": 2,
   "id": "c261e7bd",
   "metadata": {},
   "outputs": [
    {
     "data": {
      "text/plain": [
       "['Red',\n",
       " 'Red',\n",
       " 'Red',\n",
       " 'Red',\n",
       " 'Red',\n",
       " 'Blue',\n",
       " 'Blue',\n",
       " 'Blue',\n",
       " 'Blue',\n",
       " 'Blue',\n",
       " 'Blue',\n",
       " 'Blue']"
      ]
     },
     "execution_count": 2,
     "metadata": {},
     "output_type": "execute_result"
    }
   ],
   "source": [
    "bag = [\"Red\"] * 5 + [\"Blue\"] * 7\n",
    "bag"
   ]
  },
  {
   "cell_type": "markdown",
   "id": "4465a610",
   "metadata": {},
   "source": [
    "Now to sample from that use the `random` library which has a `choice`\n",
    "command:"
   ]
  },
  {
   "cell_type": "code",
   "execution_count": 3,
   "id": "2f33a2d8",
   "metadata": {
    "tags": [
     "nbval-ignore-output"
    ]
   },
   "outputs": [
    {
     "data": {
      "text/plain": [
       "'Red'"
      ]
     },
     "execution_count": 3,
     "metadata": {},
     "output_type": "execute_result"
    }
   ],
   "source": [
    "import random\n",
    "\n",
    "random.choice(bag)"
   ]
  },
  {
   "cell_type": "markdown",
   "id": "6b607866",
   "metadata": {},
   "source": [
    "If you run this many times you will not always get the same outcome:"
   ]
  },
  {
   "cell_type": "code",
   "execution_count": 4,
   "id": "77e75149",
   "metadata": {
    "tags": [
     "nbval-ignore-output"
    ]
   },
   "outputs": [
    {
     "data": {
      "text/plain": [
       "'Red'"
      ]
     },
     "execution_count": 4,
     "metadata": {},
     "output_type": "execute_result"
    }
   ],
   "source": [
    "random.choice(bag)"
   ]
  },
  {
   "cell_type": "markdown",
   "id": "fd503148",
   "metadata": {},
   "source": [
    "```{attention}\n",
    "The `bag` variable is unchanged:\n",
    "```"
   ]
  },
  {
   "cell_type": "code",
   "execution_count": 5,
   "id": "83ebf515",
   "metadata": {},
   "outputs": [
    {
     "data": {
      "text/plain": [
       "['Red',\n",
       " 'Red',\n",
       " 'Red',\n",
       " 'Red',\n",
       " 'Red',\n",
       " 'Blue',\n",
       " 'Blue',\n",
       " 'Blue',\n",
       " 'Blue',\n",
       " 'Blue',\n",
       " 'Blue',\n",
       " 'Blue']"
      ]
     },
     "execution_count": 5,
     "metadata": {},
     "output_type": "execute_result"
    }
   ],
   "source": [
    "bag"
   ]
  },
  {
   "cell_type": "markdown",
   "id": "2dc5a264",
   "metadata": {},
   "source": [
    "In order to answer the first question (what is the probability of\n",
    "picking a red token) repeat this many times. Do this by defining a\n",
    "Python function (which is akin to a mathematical function) that makes\n",
    "repeating code possible:"
   ]
  },
  {
   "cell_type": "code",
   "execution_count": 6,
   "id": "004ecebd",
   "metadata": {},
   "outputs": [],
   "source": [
    "def pick_a_token(container):\n",
    "    \"\"\"\n",
    "    A function to randomly sample from a `container`.\n",
    "    \"\"\"\n",
    "    return random.choice(container)"
   ]
  },
  {
   "cell_type": "markdown",
   "id": "05b58216",
   "metadata": {},
   "source": [
    "You can then call this function, passing `bag` to it as the `container`\n",
    "from which to pick:"
   ]
  },
  {
   "cell_type": "code",
   "execution_count": 7,
   "id": "141b69c0",
   "metadata": {
    "tags": [
     "nbval-ignore-output"
    ]
   },
   "outputs": [
    {
     "data": {
      "text/plain": [
       "'Blue'"
      ]
     },
     "execution_count": 7,
     "metadata": {},
     "output_type": "execute_result"
    }
   ],
   "source": [
    "pick_a_token(container=bag)"
   ]
  },
  {
   "cell_type": "code",
   "execution_count": 8,
   "id": "6de2c1b0",
   "metadata": {
    "tags": [
     "nbval-ignore-output"
    ]
   },
   "outputs": [
    {
     "data": {
      "text/plain": [
       "'Blue'"
      ]
     },
     "execution_count": 8,
     "metadata": {},
     "output_type": "execute_result"
    }
   ],
   "source": [
    "pick_a_token(container=bag)"
   ]
  },
  {
   "cell_type": "markdown",
   "id": "fdfbd943",
   "metadata": {},
   "source": [
    "In order to measure the probability of picking a red token repeat this\n",
    "not once or twice but tens of thousands of times. You will do this using\n",
    "something called a \"list comprehension\" which is akin to the\n",
    "mathematical notation commonly used to create sets:\n",
    "\n",
    "$$\n",
    "    S_1 = \\{f(x)\\text{ for }x\\text{ in }S_2\\}\n",
    "$$"
   ]
  },
  {
   "cell_type": "code",
   "execution_count": 9,
   "id": "93d4f535",
   "metadata": {
    "tags": [
     "nbval-ignore-output",
     "output_scroll"
    ]
   },
   "outputs": [
    {
     "data": {
      "text/plain": [
       "['Blue',\n",
       " 'Red',\n",
       " 'Blue',\n",
       " 'Blue',\n",
       " 'Blue',\n",
       " 'Blue',\n",
       " 'Blue',\n",
       " 'Blue',\n",
       " 'Red',\n",
       " 'Red',\n",
       " 'Red',\n",
       " 'Blue',\n",
       " 'Blue',\n",
       " 'Blue',\n",
       " 'Blue',\n",
       " 'Blue',\n",
       " 'Red',\n",
       " 'Red',\n",
       " 'Blue',\n",
       " 'Red',\n",
       " 'Blue',\n",
       " 'Red',\n",
       " 'Blue',\n",
       " 'Red',\n",
       " 'Blue',\n",
       " 'Red',\n",
       " 'Red',\n",
       " 'Red',\n",
       " 'Blue',\n",
       " 'Blue',\n",
       " 'Red',\n",
       " 'Red',\n",
       " 'Red',\n",
       " 'Blue',\n",
       " 'Blue',\n",
       " 'Blue',\n",
       " 'Blue',\n",
       " 'Blue',\n",
       " 'Blue',\n",
       " 'Red',\n",
       " 'Red',\n",
       " 'Red',\n",
       " 'Red',\n",
       " 'Blue',\n",
       " 'Blue',\n",
       " 'Blue',\n",
       " 'Red',\n",
       " 'Red',\n",
       " 'Red',\n",
       " 'Blue',\n",
       " 'Blue',\n",
       " 'Blue',\n",
       " 'Blue',\n",
       " 'Red',\n",
       " 'Blue',\n",
       " 'Red',\n",
       " 'Red',\n",
       " 'Red',\n",
       " 'Red',\n",
       " 'Red',\n",
       " 'Red',\n",
       " 'Red',\n",
       " 'Red',\n",
       " 'Blue',\n",
       " 'Red',\n",
       " 'Blue',\n",
       " 'Blue',\n",
       " 'Red',\n",
       " 'Red',\n",
       " 'Red',\n",
       " 'Blue',\n",
       " 'Blue',\n",
       " 'Red',\n",
       " 'Blue',\n",
       " 'Blue',\n",
       " 'Red',\n",
       " 'Blue',\n",
       " 'Blue',\n",
       " 'Blue',\n",
       " 'Blue',\n",
       " 'Blue',\n",
       " 'Red',\n",
       " 'Blue',\n",
       " 'Blue',\n",
       " 'Blue',\n",
       " 'Blue',\n",
       " 'Blue',\n",
       " 'Red',\n",
       " 'Red',\n",
       " 'Red',\n",
       " 'Blue',\n",
       " 'Blue',\n",
       " 'Red',\n",
       " 'Blue',\n",
       " 'Blue',\n",
       " 'Blue',\n",
       " 'Red',\n",
       " 'Red',\n",
       " 'Blue',\n",
       " 'Red',\n",
       " 'Blue',\n",
       " 'Blue',\n",
       " 'Blue',\n",
       " 'Red',\n",
       " 'Red',\n",
       " 'Blue',\n",
       " 'Blue',\n",
       " 'Blue',\n",
       " 'Blue',\n",
       " 'Red',\n",
       " 'Blue',\n",
       " 'Blue',\n",
       " 'Red',\n",
       " 'Red',\n",
       " 'Blue',\n",
       " 'Blue',\n",
       " 'Blue',\n",
       " 'Red',\n",
       " 'Blue',\n",
       " 'Red',\n",
       " 'Red',\n",
       " 'Blue',\n",
       " 'Blue',\n",
       " 'Red',\n",
       " 'Red',\n",
       " 'Blue',\n",
       " 'Red',\n",
       " 'Red',\n",
       " 'Blue',\n",
       " 'Blue',\n",
       " 'Red',\n",
       " 'Blue',\n",
       " 'Red',\n",
       " 'Red',\n",
       " 'Blue',\n",
       " 'Red',\n",
       " 'Blue',\n",
       " 'Blue',\n",
       " 'Blue',\n",
       " 'Blue',\n",
       " 'Red',\n",
       " 'Blue',\n",
       " 'Blue',\n",
       " 'Blue',\n",
       " 'Red',\n",
       " 'Blue',\n",
       " 'Blue',\n",
       " 'Red',\n",
       " 'Blue',\n",
       " 'Red',\n",
       " 'Blue',\n",
       " 'Blue',\n",
       " 'Blue',\n",
       " 'Red',\n",
       " 'Blue',\n",
       " 'Red',\n",
       " 'Red',\n",
       " 'Blue',\n",
       " 'Blue',\n",
       " 'Blue',\n",
       " 'Blue',\n",
       " 'Blue',\n",
       " 'Blue',\n",
       " 'Blue',\n",
       " 'Red',\n",
       " 'Red',\n",
       " 'Red',\n",
       " 'Blue',\n",
       " 'Red',\n",
       " 'Blue',\n",
       " 'Red',\n",
       " 'Blue',\n",
       " 'Red',\n",
       " 'Blue',\n",
       " 'Blue',\n",
       " 'Red',\n",
       " 'Red',\n",
       " 'Blue',\n",
       " 'Red',\n",
       " 'Red',\n",
       " 'Blue',\n",
       " 'Blue',\n",
       " 'Blue',\n",
       " 'Blue',\n",
       " 'Red',\n",
       " 'Red',\n",
       " 'Blue',\n",
       " 'Blue',\n",
       " 'Red',\n",
       " 'Red',\n",
       " 'Red',\n",
       " 'Red',\n",
       " 'Red',\n",
       " 'Blue',\n",
       " 'Blue',\n",
       " 'Blue',\n",
       " 'Blue',\n",
       " 'Blue',\n",
       " 'Red',\n",
       " 'Red',\n",
       " 'Red',\n",
       " 'Red',\n",
       " 'Red',\n",
       " 'Blue',\n",
       " 'Blue',\n",
       " 'Red',\n",
       " 'Blue',\n",
       " 'Blue',\n",
       " 'Blue',\n",
       " 'Blue',\n",
       " 'Blue',\n",
       " 'Red',\n",
       " 'Red',\n",
       " 'Blue',\n",
       " 'Red',\n",
       " 'Blue',\n",
       " 'Blue',\n",
       " 'Blue',\n",
       " 'Blue',\n",
       " 'Red',\n",
       " 'Blue',\n",
       " 'Red',\n",
       " 'Blue',\n",
       " 'Blue',\n",
       " 'Blue',\n",
       " 'Red',\n",
       " 'Red',\n",
       " 'Blue',\n",
       " 'Blue',\n",
       " 'Blue',\n",
       " 'Blue',\n",
       " 'Blue',\n",
       " 'Blue',\n",
       " 'Red',\n",
       " 'Red',\n",
       " 'Blue',\n",
       " 'Blue',\n",
       " 'Blue',\n",
       " 'Red',\n",
       " 'Blue',\n",
       " 'Red',\n",
       " 'Blue',\n",
       " 'Red',\n",
       " 'Blue',\n",
       " 'Blue',\n",
       " 'Blue',\n",
       " 'Red',\n",
       " 'Blue',\n",
       " 'Blue',\n",
       " 'Red',\n",
       " 'Red',\n",
       " 'Red',\n",
       " 'Blue',\n",
       " 'Red',\n",
       " 'Blue',\n",
       " 'Red',\n",
       " 'Blue',\n",
       " 'Red',\n",
       " 'Blue',\n",
       " 'Red',\n",
       " 'Blue',\n",
       " 'Blue',\n",
       " 'Blue',\n",
       " 'Blue',\n",
       " 'Red',\n",
       " 'Blue',\n",
       " 'Red',\n",
       " 'Red',\n",
       " 'Blue',\n",
       " 'Blue',\n",
       " 'Blue',\n",
       " 'Blue',\n",
       " 'Red',\n",
       " 'Red',\n",
       " 'Red',\n",
       " 'Blue',\n",
       " 'Blue',\n",
       " 'Red',\n",
       " 'Red',\n",
       " 'Blue',\n",
       " 'Blue',\n",
       " 'Red',\n",
       " 'Blue',\n",
       " 'Blue',\n",
       " 'Red',\n",
       " 'Blue',\n",
       " 'Blue',\n",
       " 'Blue',\n",
       " 'Blue',\n",
       " 'Red',\n",
       " 'Blue',\n",
       " 'Blue',\n",
       " 'Blue',\n",
       " 'Red',\n",
       " 'Red',\n",
       " 'Red',\n",
       " 'Blue',\n",
       " 'Blue',\n",
       " 'Blue',\n",
       " 'Blue',\n",
       " 'Blue',\n",
       " 'Blue',\n",
       " 'Blue',\n",
       " 'Red',\n",
       " 'Blue',\n",
       " 'Blue',\n",
       " 'Red',\n",
       " 'Red',\n",
       " 'Blue',\n",
       " 'Blue',\n",
       " 'Red',\n",
       " 'Blue',\n",
       " 'Blue',\n",
       " 'Blue',\n",
       " 'Red',\n",
       " 'Red',\n",
       " 'Red',\n",
       " 'Blue',\n",
       " 'Blue',\n",
       " 'Blue',\n",
       " 'Blue',\n",
       " 'Blue',\n",
       " 'Red',\n",
       " 'Blue',\n",
       " 'Red',\n",
       " 'Red',\n",
       " 'Blue',\n",
       " 'Blue',\n",
       " 'Blue',\n",
       " 'Blue',\n",
       " 'Red',\n",
       " 'Blue',\n",
       " 'Red',\n",
       " 'Red',\n",
       " 'Red',\n",
       " 'Red',\n",
       " 'Red',\n",
       " 'Red',\n",
       " 'Red',\n",
       " 'Blue',\n",
       " 'Blue',\n",
       " 'Blue',\n",
       " 'Blue',\n",
       " 'Red',\n",
       " 'Blue',\n",
       " 'Blue',\n",
       " 'Blue',\n",
       " 'Blue',\n",
       " 'Red',\n",
       " 'Blue',\n",
       " 'Red',\n",
       " 'Blue',\n",
       " 'Red',\n",
       " 'Blue',\n",
       " 'Red',\n",
       " 'Red',\n",
       " 'Blue',\n",
       " 'Blue',\n",
       " 'Blue',\n",
       " 'Blue',\n",
       " 'Blue',\n",
       " 'Blue',\n",
       " 'Blue',\n",
       " 'Blue',\n",
       " 'Blue',\n",
       " 'Blue',\n",
       " 'Blue',\n",
       " 'Red',\n",
       " 'Red',\n",
       " 'Red',\n",
       " 'Red',\n",
       " 'Blue',\n",
       " 'Red',\n",
       " 'Red',\n",
       " 'Blue',\n",
       " 'Red',\n",
       " 'Blue',\n",
       " 'Blue',\n",
       " 'Blue',\n",
       " 'Blue',\n",
       " 'Blue',\n",
       " 'Blue',\n",
       " 'Blue',\n",
       " 'Blue',\n",
       " 'Red',\n",
       " 'Blue',\n",
       " 'Red',\n",
       " 'Blue',\n",
       " 'Red',\n",
       " 'Red',\n",
       " 'Blue',\n",
       " 'Red',\n",
       " 'Blue',\n",
       " 'Red',\n",
       " 'Blue',\n",
       " 'Blue',\n",
       " 'Blue',\n",
       " 'Red',\n",
       " 'Blue',\n",
       " 'Red',\n",
       " 'Blue',\n",
       " 'Red',\n",
       " 'Red',\n",
       " 'Blue',\n",
       " 'Blue',\n",
       " 'Red',\n",
       " 'Blue',\n",
       " 'Red',\n",
       " 'Blue',\n",
       " 'Blue',\n",
       " 'Red',\n",
       " 'Red',\n",
       " 'Red',\n",
       " 'Blue',\n",
       " 'Blue',\n",
       " 'Blue',\n",
       " 'Blue',\n",
       " 'Blue',\n",
       " 'Blue',\n",
       " 'Blue',\n",
       " 'Blue',\n",
       " 'Red',\n",
       " 'Red',\n",
       " 'Red',\n",
       " 'Blue',\n",
       " 'Blue',\n",
       " 'Blue',\n",
       " 'Red',\n",
       " 'Red',\n",
       " 'Red',\n",
       " 'Blue',\n",
       " 'Blue',\n",
       " 'Red',\n",
       " 'Blue',\n",
       " 'Red',\n",
       " 'Red',\n",
       " 'Red',\n",
       " 'Blue',\n",
       " 'Red',\n",
       " 'Red',\n",
       " 'Blue',\n",
       " 'Blue',\n",
       " 'Blue',\n",
       " 'Blue',\n",
       " 'Blue',\n",
       " 'Blue',\n",
       " 'Blue',\n",
       " 'Blue',\n",
       " 'Red',\n",
       " 'Red',\n",
       " 'Blue',\n",
       " 'Red',\n",
       " 'Red',\n",
       " 'Red',\n",
       " 'Blue',\n",
       " 'Blue',\n",
       " 'Blue',\n",
       " 'Red',\n",
       " 'Blue',\n",
       " 'Blue',\n",
       " 'Red',\n",
       " 'Red',\n",
       " 'Red',\n",
       " 'Red',\n",
       " 'Red',\n",
       " 'Blue',\n",
       " 'Blue',\n",
       " 'Blue',\n",
       " 'Blue',\n",
       " 'Red',\n",
       " 'Blue',\n",
       " 'Blue',\n",
       " 'Red',\n",
       " 'Blue',\n",
       " 'Red',\n",
       " 'Red',\n",
       " 'Red',\n",
       " 'Blue',\n",
       " 'Red',\n",
       " 'Blue',\n",
       " 'Blue',\n",
       " 'Blue',\n",
       " 'Blue',\n",
       " 'Red',\n",
       " 'Blue',\n",
       " 'Red',\n",
       " 'Blue',\n",
       " 'Blue',\n",
       " 'Blue',\n",
       " 'Red',\n",
       " 'Blue',\n",
       " 'Blue',\n",
       " 'Blue',\n",
       " 'Blue',\n",
       " 'Red',\n",
       " 'Red',\n",
       " 'Blue',\n",
       " 'Blue',\n",
       " 'Blue',\n",
       " 'Blue',\n",
       " 'Blue',\n",
       " 'Red',\n",
       " 'Blue',\n",
       " 'Red',\n",
       " 'Blue',\n",
       " 'Blue',\n",
       " 'Blue',\n",
       " 'Blue',\n",
       " 'Blue',\n",
       " 'Blue',\n",
       " 'Blue',\n",
       " 'Blue',\n",
       " 'Blue',\n",
       " 'Red',\n",
       " 'Blue',\n",
       " 'Blue',\n",
       " 'Red',\n",
       " 'Blue',\n",
       " 'Blue',\n",
       " 'Blue',\n",
       " 'Red',\n",
       " 'Red',\n",
       " 'Red',\n",
       " 'Blue',\n",
       " 'Blue',\n",
       " 'Blue',\n",
       " 'Blue',\n",
       " 'Blue',\n",
       " 'Blue',\n",
       " 'Red',\n",
       " 'Blue',\n",
       " 'Blue',\n",
       " 'Blue',\n",
       " 'Blue',\n",
       " 'Red',\n",
       " 'Red',\n",
       " 'Red',\n",
       " 'Red',\n",
       " 'Blue',\n",
       " 'Blue',\n",
       " 'Red',\n",
       " 'Red',\n",
       " 'Red',\n",
       " 'Red',\n",
       " 'Blue',\n",
       " 'Red',\n",
       " 'Blue',\n",
       " 'Red',\n",
       " 'Blue',\n",
       " 'Blue',\n",
       " 'Blue',\n",
       " 'Red',\n",
       " 'Blue',\n",
       " 'Red',\n",
       " 'Blue',\n",
       " 'Blue',\n",
       " 'Blue',\n",
       " 'Red',\n",
       " 'Blue',\n",
       " 'Blue',\n",
       " 'Red',\n",
       " 'Red',\n",
       " 'Blue',\n",
       " 'Blue',\n",
       " 'Blue',\n",
       " 'Blue',\n",
       " 'Red',\n",
       " 'Red',\n",
       " 'Blue',\n",
       " 'Blue',\n",
       " 'Red',\n",
       " 'Red',\n",
       " 'Red',\n",
       " 'Blue',\n",
       " 'Blue',\n",
       " 'Red',\n",
       " 'Blue',\n",
       " 'Blue',\n",
       " 'Blue',\n",
       " 'Blue',\n",
       " 'Red',\n",
       " 'Red',\n",
       " 'Red',\n",
       " 'Blue',\n",
       " 'Blue',\n",
       " 'Blue',\n",
       " 'Red',\n",
       " 'Red',\n",
       " 'Red',\n",
       " 'Blue',\n",
       " 'Red',\n",
       " 'Red',\n",
       " 'Blue',\n",
       " 'Blue',\n",
       " 'Blue',\n",
       " 'Blue',\n",
       " 'Blue',\n",
       " 'Red',\n",
       " 'Red',\n",
       " 'Red',\n",
       " 'Red',\n",
       " 'Red',\n",
       " 'Red',\n",
       " 'Blue',\n",
       " 'Blue',\n",
       " 'Red',\n",
       " 'Red',\n",
       " 'Blue',\n",
       " 'Blue',\n",
       " 'Blue',\n",
       " 'Blue',\n",
       " 'Red',\n",
       " 'Red',\n",
       " 'Blue',\n",
       " 'Blue',\n",
       " 'Blue',\n",
       " 'Blue',\n",
       " 'Red',\n",
       " 'Blue',\n",
       " 'Blue',\n",
       " 'Blue',\n",
       " 'Blue',\n",
       " 'Red',\n",
       " 'Blue',\n",
       " 'Blue',\n",
       " 'Blue',\n",
       " 'Red',\n",
       " 'Red',\n",
       " 'Blue',\n",
       " 'Red',\n",
       " 'Red',\n",
       " 'Blue',\n",
       " 'Blue',\n",
       " 'Red',\n",
       " 'Blue',\n",
       " 'Blue',\n",
       " 'Blue',\n",
       " 'Blue',\n",
       " 'Red',\n",
       " 'Red',\n",
       " 'Blue',\n",
       " 'Blue',\n",
       " 'Blue',\n",
       " 'Blue',\n",
       " 'Blue',\n",
       " 'Blue',\n",
       " 'Red',\n",
       " 'Red',\n",
       " 'Blue',\n",
       " 'Red',\n",
       " 'Red',\n",
       " 'Blue',\n",
       " 'Blue',\n",
       " 'Blue',\n",
       " 'Red',\n",
       " 'Blue',\n",
       " 'Blue',\n",
       " 'Red',\n",
       " 'Blue',\n",
       " 'Blue',\n",
       " 'Blue',\n",
       " 'Blue',\n",
       " 'Blue',\n",
       " 'Blue',\n",
       " 'Red',\n",
       " 'Red',\n",
       " 'Red',\n",
       " 'Red',\n",
       " 'Red',\n",
       " 'Red',\n",
       " 'Red',\n",
       " 'Red',\n",
       " 'Red',\n",
       " 'Red',\n",
       " 'Blue',\n",
       " 'Blue',\n",
       " 'Red',\n",
       " 'Red',\n",
       " 'Red',\n",
       " 'Blue',\n",
       " 'Blue',\n",
       " 'Blue',\n",
       " 'Blue',\n",
       " 'Blue',\n",
       " 'Blue',\n",
       " 'Red',\n",
       " 'Red',\n",
       " 'Blue',\n",
       " 'Blue',\n",
       " 'Blue',\n",
       " 'Blue',\n",
       " 'Red',\n",
       " 'Red',\n",
       " 'Red',\n",
       " 'Blue',\n",
       " 'Red',\n",
       " 'Blue',\n",
       " 'Red',\n",
       " 'Blue',\n",
       " 'Red',\n",
       " 'Blue',\n",
       " 'Red',\n",
       " 'Red',\n",
       " 'Red',\n",
       " 'Red',\n",
       " 'Red',\n",
       " 'Blue',\n",
       " 'Red',\n",
       " 'Red',\n",
       " 'Red',\n",
       " 'Blue',\n",
       " 'Blue',\n",
       " 'Red',\n",
       " 'Blue',\n",
       " 'Blue',\n",
       " 'Blue',\n",
       " 'Red',\n",
       " 'Blue',\n",
       " 'Red',\n",
       " 'Blue',\n",
       " 'Red',\n",
       " 'Blue',\n",
       " 'Blue',\n",
       " 'Red',\n",
       " 'Blue',\n",
       " 'Blue',\n",
       " 'Red',\n",
       " 'Red',\n",
       " 'Red',\n",
       " 'Blue',\n",
       " 'Blue',\n",
       " 'Blue',\n",
       " 'Blue',\n",
       " 'Red',\n",
       " 'Red',\n",
       " 'Red',\n",
       " 'Blue',\n",
       " 'Red',\n",
       " 'Blue',\n",
       " 'Red',\n",
       " 'Red',\n",
       " 'Blue',\n",
       " 'Blue',\n",
       " 'Red',\n",
       " 'Red',\n",
       " 'Red',\n",
       " 'Blue',\n",
       " 'Blue',\n",
       " 'Red',\n",
       " 'Blue',\n",
       " 'Blue',\n",
       " 'Blue',\n",
       " 'Red',\n",
       " 'Blue',\n",
       " 'Red',\n",
       " 'Blue',\n",
       " 'Blue',\n",
       " 'Blue',\n",
       " 'Red',\n",
       " 'Red',\n",
       " 'Blue',\n",
       " 'Blue',\n",
       " 'Blue',\n",
       " 'Red',\n",
       " 'Red',\n",
       " 'Blue',\n",
       " 'Blue',\n",
       " 'Blue',\n",
       " 'Red',\n",
       " 'Blue',\n",
       " 'Blue',\n",
       " 'Red',\n",
       " 'Red',\n",
       " 'Red',\n",
       " 'Blue',\n",
       " 'Blue',\n",
       " 'Blue',\n",
       " 'Blue',\n",
       " 'Red',\n",
       " 'Blue',\n",
       " 'Blue',\n",
       " 'Blue',\n",
       " 'Blue',\n",
       " 'Red',\n",
       " 'Blue',\n",
       " 'Red',\n",
       " 'Blue',\n",
       " 'Blue',\n",
       " 'Blue',\n",
       " 'Red',\n",
       " 'Red',\n",
       " 'Red',\n",
       " 'Blue',\n",
       " 'Blue',\n",
       " 'Red',\n",
       " 'Blue',\n",
       " 'Red',\n",
       " 'Red',\n",
       " 'Red',\n",
       " 'Blue',\n",
       " 'Red',\n",
       " 'Red',\n",
       " 'Blue',\n",
       " 'Red',\n",
       " 'Blue',\n",
       " 'Red',\n",
       " 'Blue',\n",
       " 'Blue',\n",
       " 'Blue',\n",
       " 'Blue',\n",
       " 'Blue',\n",
       " 'Blue',\n",
       " 'Blue',\n",
       " 'Blue',\n",
       " 'Blue',\n",
       " 'Blue',\n",
       " 'Blue',\n",
       " 'Blue',\n",
       " 'Blue',\n",
       " 'Blue',\n",
       " 'Blue',\n",
       " 'Blue',\n",
       " 'Red',\n",
       " 'Blue',\n",
       " 'Red',\n",
       " 'Red',\n",
       " 'Red',\n",
       " 'Red',\n",
       " 'Blue',\n",
       " 'Red',\n",
       " 'Blue',\n",
       " 'Blue',\n",
       " 'Blue',\n",
       " 'Blue',\n",
       " 'Blue',\n",
       " 'Blue',\n",
       " 'Red',\n",
       " 'Red',\n",
       " 'Blue',\n",
       " 'Red',\n",
       " 'Red',\n",
       " 'Blue',\n",
       " 'Blue',\n",
       " 'Blue',\n",
       " 'Blue',\n",
       " 'Red',\n",
       " 'Red',\n",
       " 'Blue',\n",
       " 'Blue',\n",
       " 'Red',\n",
       " 'Red',\n",
       " 'Blue',\n",
       " 'Red',\n",
       " 'Red',\n",
       " 'Red',\n",
       " 'Red',\n",
       " 'Red',\n",
       " 'Blue',\n",
       " 'Red',\n",
       " 'Blue',\n",
       " 'Blue',\n",
       " 'Red',\n",
       " 'Blue',\n",
       " 'Red',\n",
       " 'Red',\n",
       " 'Red',\n",
       " 'Red',\n",
       " 'Blue',\n",
       " 'Blue',\n",
       " 'Blue',\n",
       " 'Blue',\n",
       " 'Red',\n",
       " 'Red',\n",
       " 'Blue',\n",
       " 'Red',\n",
       " 'Blue',\n",
       " 'Blue',\n",
       " 'Red',\n",
       " 'Blue',\n",
       " 'Blue',\n",
       " 'Blue',\n",
       " 'Red',\n",
       " 'Blue',\n",
       " 'Blue',\n",
       " 'Red',\n",
       " 'Blue',\n",
       " 'Blue',\n",
       " 'Red',\n",
       " 'Blue',\n",
       " 'Blue',\n",
       " 'Blue',\n",
       " 'Blue',\n",
       " 'Blue',\n",
       " 'Blue',\n",
       " 'Blue',\n",
       " 'Red',\n",
       " 'Blue',\n",
       " 'Blue',\n",
       " 'Blue',\n",
       " 'Red',\n",
       " 'Blue',\n",
       " 'Blue',\n",
       " 'Blue',\n",
       " 'Blue',\n",
       " 'Blue',\n",
       " 'Blue',\n",
       " 'Blue',\n",
       " 'Red',\n",
       " 'Blue',\n",
       " 'Blue',\n",
       " 'Blue',\n",
       " 'Blue',\n",
       " 'Red',\n",
       " 'Red',\n",
       " 'Red',\n",
       " 'Blue',\n",
       " 'Blue',\n",
       " 'Red',\n",
       " 'Blue',\n",
       " 'Blue',\n",
       " 'Red',\n",
       " 'Blue',\n",
       " 'Blue',\n",
       " 'Red',\n",
       " 'Red',\n",
       " 'Blue',\n",
       " 'Blue',\n",
       " 'Blue',\n",
       " 'Blue',\n",
       " 'Red',\n",
       " 'Red',\n",
       " 'Red',\n",
       " 'Blue',\n",
       " 'Red',\n",
       " 'Blue',\n",
       " 'Blue',\n",
       " 'Blue',\n",
       " 'Blue',\n",
       " 'Blue',\n",
       " 'Blue',\n",
       " 'Blue',\n",
       " 'Blue',\n",
       " 'Blue',\n",
       " 'Blue',\n",
       " 'Red',\n",
       " 'Red',\n",
       " 'Red',\n",
       " 'Blue',\n",
       " 'Blue',\n",
       " 'Red',\n",
       " 'Red',\n",
       " 'Blue',\n",
       " 'Blue',\n",
       " 'Red',\n",
       " 'Blue',\n",
       " 'Blue',\n",
       " 'Red',\n",
       " 'Red',\n",
       " 'Red',\n",
       " 'Blue',\n",
       " 'Blue',\n",
       " 'Blue',\n",
       " 'Red',\n",
       " 'Blue',\n",
       " 'Red',\n",
       " 'Red',\n",
       " 'Red',\n",
       " 'Blue',\n",
       " 'Blue',\n",
       " 'Blue',\n",
       " 'Blue',\n",
       " 'Blue',\n",
       " 'Blue',\n",
       " 'Blue',\n",
       " 'Blue',\n",
       " 'Blue',\n",
       " 'Red',\n",
       " 'Red',\n",
       " 'Red',\n",
       " 'Blue',\n",
       " 'Blue',\n",
       " 'Blue',\n",
       " 'Red',\n",
       " 'Blue',\n",
       " 'Blue',\n",
       " 'Blue',\n",
       " 'Blue',\n",
       " 'Blue',\n",
       " 'Red',\n",
       " 'Red',\n",
       " 'Red',\n",
       " 'Blue',\n",
       " 'Red',\n",
       " 'Red',\n",
       " 'Blue',\n",
       " 'Blue',\n",
       " 'Blue',\n",
       " 'Blue',\n",
       " 'Blue',\n",
       " 'Blue',\n",
       " ...]"
      ]
     },
     "execution_count": 9,
     "metadata": {},
     "output_type": "execute_result"
    }
   ],
   "source": [
    "number_of_repetitions = 10000\n",
    "samples = [pick_a_token(container=bag) for repetition in range(number_of_repetitions)]\n",
    "samples"
   ]
  },
  {
   "cell_type": "markdown",
   "id": "8500b17f",
   "metadata": {},
   "source": [
    "You can confirm that you have the correct number of samples:"
   ]
  },
  {
   "cell_type": "code",
   "execution_count": 10,
   "id": "5735300d",
   "metadata": {},
   "outputs": [
    {
     "data": {
      "text/plain": [
       "10000"
      ]
     },
     "execution_count": 10,
     "metadata": {},
     "output_type": "execute_result"
    }
   ],
   "source": [
    "len(samples)"
   ]
  },
  {
   "cell_type": "markdown",
   "id": "ea3b54c8",
   "metadata": {},
   "source": [
    "```{attention}\n",
    "`len` is the Python tool to get the length of a given Python iterable.\n",
    "```\n",
    "\n",
    "Using this we can now use `==` (double `=`) to check how many of those samples are `Red`:"
   ]
  },
  {
   "cell_type": "code",
   "execution_count": 11,
   "id": "e140c8a8",
   "metadata": {
    "tags": [
     "nbval-ignore-output"
    ]
   },
   "outputs": [
    {
     "data": {
      "text/plain": [
       "0.4107"
      ]
     },
     "execution_count": 11,
     "metadata": {},
     "output_type": "execute_result"
    }
   ],
   "source": [
    "sum(token == \"Red\" for token in samples) / number_of_repetitions"
   ]
  },
  {
   "cell_type": "markdown",
   "id": "16e5d0e6",
   "metadata": {},
   "source": [
    "You have sampled a probability of around .41. The theoretic value is\n",
    "$\\frac{5}{5 + 7}$:"
   ]
  },
  {
   "cell_type": "code",
   "execution_count": 12,
   "id": "252be886",
   "metadata": {
    "tags": [
     "nbval-ignore-output"
    ]
   },
   "outputs": [
    {
     "data": {
      "text/plain": [
       "0.4166666666666667"
      ]
     },
     "execution_count": 12,
     "metadata": {},
     "output_type": "execute_result"
    }
   ],
   "source": [
    "5 / (5 + 7)"
   ]
  },
  {
   "cell_type": "markdown",
   "id": "ca686838",
   "metadata": {},
   "source": [
    "To answer the second question (What is the probability of obtaining\n",
    "Heads?) You need to make use of another Python tool: an `if` statement.\n",
    "This will let you write a function that does precisely what is described\n",
    "in the problem:\n",
    "\n",
    "- Choose a token;\n",
    "- Set the probability of flipping a given coin;\n",
    "- Select that coin.\n",
    "\n",
    "```{attention}\n",
    "For the second random selection (flipping a coin) you will not choose\n",
    "from a list but instead select a random number between 0 and 1.\n",
    "```"
   ]
  },
  {
   "cell_type": "code",
   "execution_count": 13,
   "id": "ee4d6921",
   "metadata": {},
   "outputs": [],
   "source": [
    "import random\n",
    "\n",
    "\n",
    "def sample_experiment(bag):\n",
    "    \"\"\"\n",
    "    This samples a token from a given bag and then\n",
    "    selects a coin with a given probability.\n",
    "\n",
    "    If the sampled token is red then the probability\n",
    "    of selecting heads is 2/3 otherwise it is 1/2.\n",
    "\n",
    "    This function returns both the selected token\n",
    "    and the coin face.\n",
    "    \"\"\"\n",
    "    selected_token = pick_a_token(container=bag)\n",
    "\n",
    "    if selected_token == \"Red\":\n",
    "        probability_of_selecting_heads = 2 / 3\n",
    "    else:\n",
    "        probability_of_selecting_heads = 1 / 2\n",
    "\n",
    "    if random.random() < probability_of_selecting_heads:\n",
    "        coin = \"Heads\"\n",
    "    else:\n",
    "        coin = \"Tails\"\n",
    "    return selected_token, coin"
   ]
  },
  {
   "cell_type": "markdown",
   "id": "b896ae6a",
   "metadata": {},
   "source": [
    "Using this you can sample according to the problem description:"
   ]
  },
  {
   "cell_type": "code",
   "execution_count": 14,
   "id": "1a9d0c99",
   "metadata": {
    "tags": [
     "nbval-ignore-output"
    ]
   },
   "outputs": [
    {
     "data": {
      "text/plain": [
       "('Blue', 'Tails')"
      ]
     },
     "execution_count": 14,
     "metadata": {},
     "output_type": "execute_result"
    }
   ],
   "source": [
    "sample_experiment(bag=bag)"
   ]
  },
  {
   "cell_type": "code",
   "execution_count": 15,
   "id": "3b4ea011",
   "metadata": {
    "tags": [
     "nbval-ignore-output"
    ]
   },
   "outputs": [
    {
     "data": {
      "text/plain": [
       "('Red', 'Tails')"
      ]
     },
     "execution_count": 15,
     "metadata": {},
     "output_type": "execute_result"
    }
   ],
   "source": [
    "sample_experiment(bag=bag)"
   ]
  },
  {
   "cell_type": "markdown",
   "id": "9a33b03d",
   "metadata": {},
   "source": [
    "You can now find out the probability of selecting heads by carrying out\n",
    "a large number of repetitions and checking which ones have a coin that\n",
    "is heads:"
   ]
  },
  {
   "cell_type": "code",
   "execution_count": 16,
   "id": "101205c8",
   "metadata": {
    "tags": [
     "nbval-ignore-output"
    ]
   },
   "outputs": [
    {
     "data": {
      "text/plain": [
       "0.5773"
      ]
     },
     "execution_count": 16,
     "metadata": {},
     "output_type": "execute_result"
    }
   ],
   "source": [
    "samples = [sample_experiment(bag=bag) for repetition in range(number_of_repetitions)]\n",
    "sum(coin == \"Heads\" for token, coin in samples) / number_of_repetitions"
   ]
  },
  {
   "cell_type": "markdown",
   "id": "a6ec0def",
   "metadata": {},
   "source": [
    "You can compute this theoretically as well, the expected probability is:"
   ]
  },
  {
   "cell_type": "code",
   "execution_count": 17,
   "id": "6ed023a3",
   "metadata": {},
   "outputs": [
    {
     "data": {
      "text/latex": [
       "$\\displaystyle \\frac{41}{72}$"
      ],
      "text/plain": [
       "41/72"
      ]
     },
     "execution_count": 17,
     "metadata": {},
     "output_type": "execute_result"
    }
   ],
   "source": [
    "import sympy as sym\n",
    "\n",
    "sym.S(5) / (12) * sym.S(2) / 3 + sym.S(7) / (12) * sym.S(1) / 2"
   ]
  },
  {
   "cell_type": "code",
   "execution_count": 18,
   "id": "e26a8d4d",
   "metadata": {
    "tags": [
     "nbval-ignore-output"
    ]
   },
   "outputs": [
    {
     "data": {
      "text/plain": [
       "0.5694444444444444"
      ]
     },
     "execution_count": 18,
     "metadata": {},
     "output_type": "execute_result"
    }
   ],
   "source": [
    "41 / 72"
   ]
  },
  {
   "cell_type": "markdown",
   "id": "beb847a3",
   "metadata": {},
   "source": [
    "You can also use the samples to calculate the conditional probability\n",
    "that a token was read if the coin is heads. This is done again using the\n",
    "list comprehension notation but including an `if` statement which\n",
    "emulates the mathematical notation:\n",
    "\n",
    "$$\n",
    "    S_3 = \\{x \\in S_1  | \\text{ if some property of \\(x\\) holds}\\}\n",
    "$$"
   ]
  },
  {
   "cell_type": "code",
   "execution_count": 19,
   "id": "61dccb3d",
   "metadata": {
    "tags": [
     "nbval-ignore-output"
    ]
   },
   "outputs": [
    {
     "data": {
      "text/plain": [
       "0.49731508747618225"
      ]
     },
     "execution_count": 19,
     "metadata": {},
     "output_type": "execute_result"
    }
   ],
   "source": [
    "samples_with_heads = [(token, coin) for token, coin in samples if coin == \"Heads\"]\n",
    "sum(token == \"Red\" for token, coin in samples_with_heads) / len(samples_with_heads)"
   ]
  },
  {
   "cell_type": "markdown",
   "id": "b8aa05b0",
   "metadata": {},
   "source": [
    "Using Bayes' theorem this is given theoretically by:\n",
    "\n",
    "$$\n",
    "    P(\\text{Red}|\\text{Heads}) = \\frac{P(\\text{Heads} | \\text{Red})P(\\text{Red})}{P(\\text{Heads})}\n",
    "$$"
   ]
  },
  {
   "cell_type": "code",
   "execution_count": 20,
   "id": "c3349775",
   "metadata": {},
   "outputs": [
    {
     "data": {
      "text/latex": [
       "$\\displaystyle \\frac{20}{41}$"
      ],
      "text/plain": [
       "20/41"
      ]
     },
     "execution_count": 20,
     "metadata": {},
     "output_type": "execute_result"
    }
   ],
   "source": [
    "(sym.S(2) / 3 * sym.S(5) / 12) / (sym.S(41) / 72)"
   ]
  },
  {
   "cell_type": "code",
   "execution_count": 21,
   "id": "3af65b97",
   "metadata": {
    "tags": [
     "nbval-ignore-output"
    ]
   },
   "outputs": [
    {
     "data": {
      "text/plain": [
       "0.4878048780487805"
      ]
     },
     "execution_count": 21,
     "metadata": {},
     "output_type": "execute_result"
    }
   ],
   "source": [
    "20 / 41"
   ]
  },
  {
   "cell_type": "markdown",
   "id": "456a9e0f",
   "metadata": {},
   "source": [
    "```{important}\n",
    "In this tutorial you have\n",
    "\n",
    "-   Randomly sampled from an iterable.\n",
    "-   Randomly sampled a number between 0 and 1.\n",
    "-   Written a function to represent a random experiment.\n",
    "-   Created a list using list comprehensions.\n",
    "-   Counted outcomes of random experiments.\n",
    "```"
   ]
  }
 ],
 "metadata": {
  "jupytext": {
   "formats": "ipynb,md:myst",
   "text_representation": {
    "extension": ".md",
    "format_name": "myst",
    "format_version": 0.12,
    "jupytext_version": "1.6.0"
   }
  },
  "kernelspec": {
   "display_name": "Python 3",
   "language": "python",
   "name": "python3"
  },
  "language_info": {
   "codemirror_mode": {
    "name": "ipython",
    "version": 3
   },
   "file_extension": ".py",
   "mimetype": "text/x-python",
   "name": "python",
   "nbconvert_exporter": "python",
   "pygments_lexer": "ipython3",
   "version": "3.10.18"
  },
  "source_map": [
   13,
   44,
   60,
   76,
   79,
   84,
   90,
   94,
   98,
   104,
   106,
   113,
   119,
   124,
   130,
   134,
   145,
   151,
   155,
   157,
   165,
   169,
   174,
   178,
   194,
   221,
   225,
   231,
   235,
   241,
   246,
   250,
   256,
   260,
   271,
   276,
   284,
   288,
   292
  ]
 },
 "nbformat": 4,
 "nbformat_minor": 5
}