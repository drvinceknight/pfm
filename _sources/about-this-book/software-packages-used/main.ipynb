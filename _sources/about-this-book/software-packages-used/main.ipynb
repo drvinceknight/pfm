{
 "cells": [
  {
   "cell_type": "markdown",
   "id": "5151009d",
   "metadata": {},
   "source": [
    "# List of software packages used\n",
    "\n",
    "The python version using in this book is:"
   ]
  },
  {
   "cell_type": "code",
   "execution_count": 1,
   "id": "35eca028",
   "metadata": {
    "tags": [
     "remove-input",
     "style-check-ignore",
     "nbval-ignore-output"
    ]
   },
   "outputs": [
    {
     "name": "stdout",
     "output_type": "stream",
     "text": [
      "3.10.18\n"
     ]
    }
   ],
   "source": [
    "import platform\n",
    "\n",
    "print(platform.python_version())"
   ]
  },
  {
   "cell_type": "markdown",
   "id": "0c63baa5",
   "metadata": {},
   "source": [
    "The following Python libraries and the specific versions are used in this book:"
   ]
  },
  {
   "cell_type": "code",
   "execution_count": 2,
   "id": "6eee2c67",
   "metadata": {
    "tags": [
     "remove-input",
     "style-check-ignore",
     "nbval-ignore-output"
    ]
   },
   "outputs": [
    {
     "name": "stdout",
     "output_type": "stream",
     "text": [
      "jupyter version: 1.1.1\n",
      "matching version: 1.4.3\n",
      "matplotlib version: 3.10.3\n",
      "numpy version: 2.2.6\n",
      "scipy version: 1.15.3\n",
      "sympy version: 1.14.0\n"
     ]
    }
   ],
   "source": [
    "import pathlib\n",
    "from importlib.metadata import version, PackageNotFoundError\n",
    "\n",
    "requirements_path = pathlib.Path(\"../../../requirements.txt\")\n",
    "libraries = requirements_path.read_text().split(\"\\n\")\n",
    "\n",
    "for library in filter(lambda line: \"#\" not in line, libraries):\n",
    "    try:\n",
    "        if library != \"\":\n",
    "            print(f\"{library} version: {version(library)}\")\n",
    "    except PackageNotFoundError:\n",
    "        pass"
   ]
  }
 ],
 "metadata": {
  "jupytext": {
   "formats": "ipynb,md:myst",
   "text_representation": {
    "extension": ".md",
    "format_name": "myst",
    "format_version": 0.12,
    "jupytext_version": "1.6.0"
   }
  },
  "kernelspec": {
   "display_name": "Python 3",
   "language": "python",
   "name": "python3"
  },
  "language_info": {
   "codemirror_mode": {
    "name": "ipython",
    "version": 3
   },
   "file_extension": ".py",
   "mimetype": "text/x-python",
   "name": "python",
   "nbconvert_exporter": "python",
   "pygments_lexer": "ipython3",
   "version": "3.10.18"
  },
  "source_map": [
   13,
   19,
   25,
   29
  ]
 },
 "nbformat": 4,
 "nbformat_minor": 5
}