{
 "cells": [
  {
   "cell_type": "markdown",
   "id": "a7f9ecd7",
   "metadata": {},
   "source": [
    "# List of software packages used\n",
    "\n",
    "The python version using in this book is:"
   ]
  },
  {
   "cell_type": "code",
   "execution_count": 1,
   "id": "120c521c",
   "metadata": {
    "tags": [
     "remove-input",
     "style-check-ignore",
     "nbval-ignore-output"
    ]
   },
   "outputs": [
    {
     "name": "stdout",
     "output_type": "stream",
     "text": [
      "3.10.13\n"
     ]
    }
   ],
   "source": [
    "import platform\n",
    "\n",
    "print(platform.python_version())"
   ]
  },
  {
   "cell_type": "markdown",
   "id": "f9076a4d",
   "metadata": {},
   "source": [
    "The following Python libraries and the specific versions are used in this book:"
   ]
  },
  {
   "cell_type": "code",
   "execution_count": 2,
   "id": "f8d76e2c",
   "metadata": {
    "tags": [
     "remove-input",
     "style-check-ignore",
     "nbval-ignore-output"
    ]
   },
   "outputs": [
    {
     "name": "stdout",
     "output_type": "stream",
     "text": [
      "jupyter version: 1.0.0\n",
      "matching version: 1.4.2\n",
      "matplotlib version: 3.8.0\n",
      "numpy version: 1.26.0\n",
      "scipy version: 1.11.2\n",
      "sympy version: 1.12\n"
     ]
    }
   ],
   "source": [
    "import pathlib\n",
    "from importlib.metadata import version, PackageNotFoundError\n",
    "\n",
    "requirements_path = pathlib.Path(\"../../../requirements.txt\")\n",
    "libraries = requirements_path.read_text().split(\"\\n\")\n",
    "\n",
    "for library in filter(lambda line: \"#\" not in line, libraries):\n",
    "    try:\n",
    "        if library != \"\":\n",
    "            print(f\"{library} version: {version(library)}\")\n",
    "    except PackageNotFoundError:\n",
    "        pass"
   ]
  }
 ],
 "metadata": {
  "jupytext": {
   "formats": "ipynb,md:myst",
   "text_representation": {
    "extension": ".md",
    "format_name": "myst",
    "format_version": 0.12,
    "jupytext_version": "1.6.0"
   }
  },
  "kernelspec": {
   "display_name": "Python 3",
   "language": "python",
   "name": "python3"
  },
  "language_info": {
   "codemirror_mode": {
    "name": "ipython",
    "version": 3
   },
   "file_extension": ".py",
   "mimetype": "text/x-python",
   "name": "python",
   "nbconvert_exporter": "python",
   "pygments_lexer": "ipython3",
   "version": "3.10.13"
  },
  "source_map": [
   13,
   19,
   25,
   29
  ]
 },
 "nbformat": 4,
 "nbformat_minor": 5
}