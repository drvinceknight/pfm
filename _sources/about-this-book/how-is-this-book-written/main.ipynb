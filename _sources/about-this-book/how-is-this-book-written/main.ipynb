{
 "cells": [
  {
   "cell_type": "markdown",
   "id": "457fd32e",
   "metadata": {},
   "source": [
    "# How this book is written\n",
    "\n",
    "## Jupyterbook\n",
    "\n",
    "The book is written using Jupyterbook: <https://jupyterbook.org/>.\n",
    "\n",
    "The source files are written in the myst format\n",
    "(<https://myst-nb.readthedocs.io/>) which is a plain text format for\n",
    "Jupyter notebooks. This ensures:\n",
    "\n",
    "- That the notebooks are version controlled effectively.\n",
    "- The output of the code is an actual computation.\n",
    "\n",
    "## Continuous integration\n",
    "\n",
    "The source files of the book are hosted on GitHub\n",
    "<https://github.com/drvinceknight/pfm> and any contribution is tested using\n",
    "Github Actions which runs a full set of tests.\n",
    "\n",
    "### Proselint\n",
    "\n",
    "The proselint <http://proselint.com> tool is used to check various common\n",
    "suggestions about the prose in text.\n",
    "\n",
    "### Alex\n",
    "\n",
    "The alex <https://github.com/get-alex/alex> tool is used to catch insensitive\n",
    "and/or inconsiderate language.\n",
    "\n",
    "This does not ensure that all writing could not be made more inclusive and\n",
    "suggestions are actively encouraged in this domain.\n",
    "\n",
    "### Spell check\n",
    "\n",
    "The aspell <http://aspell.net> spell checker is used to check the spelling of\n",
    "the text.\n",
    "\n",
    "<!--alex disable black-->\n",
    "\n",
    "(black)=\n",
    "\n",
    "### Black\n",
    "\n",
    "All code in book is checked using the `black` code formatter\n",
    "<https://github.com/psf/black> this ensures that not only PEP8 is followed but\n",
    "that a specific consistent formatting convention is used.\n",
    "\n",
    "<!--alex enable black-->\n",
    "\n",
    "### Isort\n",
    "\n",
    "All imports are sorted using the `isort`\n",
    "<https://github.com/PyCQA/isort> tool. Similarly to {ref}`black` this ensures\n",
    "that all code follows a given convention.\n",
    "\n",
    "### Nbval\n",
    "\n",
    "All myst format files are backed up to a Jupyter notebook which includes the\n",
    "output as well as the input. The Continuous Integration then installs up to\n",
    "date versions of all libraries used and validates the outputs using\n",
    "<https://nbval.readthedocs.io/en/latest/>. This ensures that the outputs are not\n",
    "giving unexpected results as a result of an update of a library."
   ]
  }
 ],
 "metadata": {
  "jupytext": {
   "formats": "ipynb,md:myst",
   "text_representation": {
    "extension": ".md",
    "format_name": "myst",
    "format_version": 0.12,
    "jupytext_version": "1.6.0"
   }
  },
  "kernelspec": {
   "display_name": "Python 3",
   "language": "python",
   "name": "python3"
  },
  "language_info": {
   "codemirror_mode": {
    "name": "ipython",
    "version": 3
   },
   "file_extension": ".py",
   "mimetype": "text/x-python",
   "name": "python",
   "nbconvert_exporter": "python",
   "pygments_lexer": "ipython3",
   "version": "3.8.16"
  },
  "source_map": [
   13
  ]
 },
 "nbformat": 4,
 "nbformat_minor": 5
}