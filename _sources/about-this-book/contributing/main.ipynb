{
 "cells": [
  {
   "cell_type": "markdown",
   "id": "f78470b0",
   "metadata": {},
   "source": [
    "# Contributing\n",
    "\n",
    "A full contribution guide will be written here including a code of conduct. In\n",
    "the meantime: feel free to open an issue on the github repository to discuss\n",
    "potential contributions."
   ]
  }
 ],
 "metadata": {
  "jupytext": {
   "formats": "ipynb,md:myst",
   "text_representation": {
    "extension": ".md",
    "format_name": "myst",
    "format_version": 0.12,
    "jupytext_version": "1.6.0"
   }
  },
  "kernelspec": {
   "display_name": "Python 3",
   "language": "python",
   "name": "python3"
  },
  "language_info": {
   "codemirror_mode": {
    "name": "ipython",
    "version": 3
   },
   "file_extension": ".py",
   "mimetype": "text/x-python",
   "name": "python",
   "nbconvert_exporter": "python",
   "pygments_lexer": "ipython3",
   "version": "3.10.13"
  },
  "source_map": [
   13
  ]
 },
 "nbformat": 4,
 "nbformat_minor": 5
}