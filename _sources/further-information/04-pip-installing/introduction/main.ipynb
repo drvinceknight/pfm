{
 "cells": [
  {
   "cell_type": "markdown",
   "id": "48d07bb9",
   "metadata": {},
   "source": [
    "(installing_libraries)=\n",
    "# Installing libraries\n",
    "\n",
    "The recommended Python distribution for this book is the Anaconda distribution.\n",
    "This is because it includes a number of libraries well suited to mathematics:\n",
    "such as `sympy` and `numpy`. However there are a number of libraries that are\n",
    "part of the Python ecosystem that are not included in the Anaconda distribution.\n",
    "In this chapter we will give an overview of how to install them,\n",
    "\n",
    "```{important}\n",
    "In this chapter we will cover:\n",
    "\n",
    "- The Python package index (PyPi).\n",
    "- Using `pip`.\n",
    "```"
   ]
  }
 ],
 "metadata": {
  "jupytext": {
   "formats": "ipynb,md:myst",
   "text_representation": {
    "extension": ".md",
    "format_name": "myst",
    "format_version": 0.12,
    "jupytext_version": "1.6.0"
   }
  },
  "kernelspec": {
   "display_name": "Python 3",
   "language": "python",
   "name": "python3"
  },
  "language_info": {
   "codemirror_mode": {
    "name": "ipython",
    "version": 3
   },
   "file_extension": ".py",
   "mimetype": "text/x-python",
   "name": "python",
   "nbconvert_exporter": "python",
   "pygments_lexer": "ipython3",
   "version": "3.10.12"
  },
  "source_map": [
   13
  ]
 },
 "nbformat": 4,
 "nbformat_minor": 5
}