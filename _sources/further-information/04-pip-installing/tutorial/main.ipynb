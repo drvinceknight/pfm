{
 "cells": [
  {
   "cell_type": "markdown",
   "id": "b99e3ab1",
   "metadata": {},
   "source": [
    "# Tutorial\n",
    "\n",
    "We are going to solve a particular mathematical problem using a well suited\n",
    "python library that is not part of the Anaconda distribution.\n",
    "\n",
    "````{admonition} Problem\n",
    "Consider 2 sets of pilots and co-pilots. The airline needs to pair every pilot\n",
    "with a co-pilot. For various reasons every pilot and co-pilot has a preference\n",
    "of who they fly with.\n",
    "\n",
    "Before assigning the pairings, the airline asks everyone to list their preferred\n",
    "rankings of who they would like to work with:\n",
    "\n",
    "```{list-table} Pilots and their preferences\n",
    ":header-rows: 1\n",
    "\n",
    "* - Pilot\n",
    "  - 1st Preference\n",
    "  - 2nd Preference\n",
    "  - 3rd Preference\n",
    "  - 4th Preference\n",
    "  - 5th Preference\n",
    "* - Olivia\n",
    "  - Emily\n",
    "  - Mia\n",
    "  - Grace\n",
    "  - Poppy\n",
    "  - Ella\n",
    "* - Amelia\n",
    "  - Emily\n",
    "  - Grace\n",
    "  - Poppy\n",
    "  - Ella\n",
    "  - Mia\n",
    "* - Isla\n",
    "  - Emily\n",
    "  - Grace\n",
    "  - Poppy\n",
    "  - Ella\n",
    "  - Mia\n",
    "* - Ava\n",
    "  - Poppy\n",
    "  - Grace\n",
    "  - Emily\n",
    "  - Ella\n",
    "  - Mia\n",
    "* - Sophia\n",
    "  - Ella\n",
    "  - Emily\n",
    "  - Mia\n",
    "  - Poppy\n",
    "  - Grace\n",
    "```\n",
    "\n",
    "```{list-table} Co-pilots and their preferences\n",
    ":header-rows: 1\n",
    "\n",
    "* - Co-pilot\n",
    "  - 1st Preference\n",
    "  - 2nd Preference\n",
    "  - 3rd Preference\n",
    "  - 4th Preference\n",
    "  - 5th Preference\n",
    "* - Emily\n",
    "  - Olivia\n",
    "  - Amelia\n",
    "  - Sophia\n",
    "  - Ava\n",
    "  - Isla\n",
    "* - Grace\n",
    "  - Olivia\n",
    "  - Amelia\n",
    "  - Sophia\n",
    "  - Ava\n",
    "  - Isla\n",
    "* - Mia\n",
    "  - Olivia\n",
    "  - Sophia\n",
    "  - Amelia\n",
    "  - Ava\n",
    "  - Isla\n",
    "* - Poppy\n",
    "  - Sophia\n",
    "  - Ava\n",
    "  - Amelia\n",
    "  - Isla\n",
    "  - Olivia\n",
    "* - Ella\n",
    "  - Isla\n",
    "  - Sophia\n",
    "  - Ava\n",
    "  - Amelia\n",
    "  - Olivia\n",
    "```\n",
    "\n",
    "The airline wants to create a pairing such that no pilot or co-pilot could ask\n",
    "to be paired with someone they prefer who also prefers them.\n",
    "\n",
    "For example, if we paired Emily with Ava, and Mia with Olivia. Then both Emily\n",
    "and Olivia would rather be paired with each other.\n",
    "\n",
    "````\n",
    "\n",
    "This problem is an example of a type of game theoretic problem called a\n",
    "\"matching game\" {cite}`gusfield1989stable` and there is a Python library that is\n",
    "designed to solve these problems called `matching` {cite}`matching-project`.\n",
    "\n",
    "**You can read the full\n",
    "documentation for the project here: <https://matching.readthedocs.io/>.**\n",
    "\n",
    "The `matching` library is not included in the Anaconda distribution and the\n",
    "first thing we need to do to use it is to install it. We follow the instructions\n",
    "in the documentation and write the following in the command line:\n",
    "\n",
    "```bash\n",
    "$ python -m pip install matching\n",
    "```\n",
    "\n",
    "Once this is done we can follow the instructions in the documentation for the\n",
    "library.\n",
    "\n",
    "Here we adapt the tutorial to create the pilots and co-pilots:"
   ]
  },
  {
   "cell_type": "code",
   "execution_count": 1,
   "id": "92472655",
   "metadata": {},
   "outputs": [],
   "source": [
    "from matching import Player\n",
    "\n",
    "olivia = Player(name=\"Olivia\")\n",
    "amelia = Player(name=\"Amelia\")\n",
    "isla = Player(name=\"Isla\")\n",
    "ava = Player(name=\"Ava\")\n",
    "sophia = Player(name=\"Sophia\")\n",
    "pilots = [olivia, amelia, isla, ava, sophia]\n",
    "\n",
    "emily = Player(name=\"Emily\")\n",
    "grace = Player(name=\"Grace\")\n",
    "mia = Player(name=\"Mia\")\n",
    "poppy = Player(name=\"Poppy\")\n",
    "ella = Player(name=\"Ella\")\n",
    "copilots = [emily, grace, mia, poppy, ella]"
   ]
  },
  {
   "cell_type": "markdown",
   "id": "188d112f",
   "metadata": {},
   "source": [
    "Now we set their preferences:"
   ]
  },
  {
   "cell_type": "code",
   "execution_count": 2,
   "id": "4227c18a",
   "metadata": {
    "tags": [
     "nbval-skip"
    ]
   },
   "outputs": [],
   "source": [
    "olivia.set_prefs([emily, mia, grace, poppy, ella])\n",
    "amelia.set_prefs([emily, grace, poppy, ella, mia])\n",
    "isla.set_prefs([emily, grace, poppy, ella, mia])\n",
    "ava.set_prefs([poppy, grace, emily, ella, mia])\n",
    "sophia.set_prefs([ella, emily, mia, poppy, grace])\n",
    "\n",
    "emily.set_prefs([olivia, amelia, sophia, ava, isla])\n",
    "grace.set_prefs([olivia, amelia, sophia, ava, isla])\n",
    "mia.set_prefs([olivia, sophia, amelia, ava, isla])\n",
    "poppy.set_prefs([sophia, ava, amelia, isla, olivia])\n",
    "ella.set_prefs([isla, sophia, ava, amelia, olivia])"
   ]
  },
  {
   "cell_type": "markdown",
   "id": "f10bb3a6",
   "metadata": {},
   "source": [
    "Finally we solve the problem and find a pairing:"
   ]
  },
  {
   "cell_type": "code",
   "execution_count": 3,
   "id": "1ada97e5",
   "metadata": {
    "tags": [
     "nbval-skip"
    ]
   },
   "outputs": [
    {
     "data": {
      "text/plain": [
       "{Olivia: Emily, Amelia: Grace, Isla: Ella, Ava: Poppy, Sophia: Mia}"
      ]
     },
     "execution_count": 3,
     "metadata": {},
     "output_type": "execute_result"
    }
   ],
   "source": [
    "from matching.games import StableMarriage\n",
    "\n",
    "game = StableMarriage(pilots, copilots)\n",
    "game.solve()"
   ]
  },
  {
   "cell_type": "markdown",
   "id": "7cacb6af",
   "metadata": {},
   "source": [
    "As discussed, this particular pairing will pair any pilots or co-pilots that\n",
    "would rather be paired with someone who would rather be paired with them.\n",
    "\n",
    "The `matching` library has an excellent documentation that includes\n",
    "a theoretic overview of the mathematics used.\n",
    "\n",
    "```{important}\n",
    "In this tutorial we have\n",
    "\n",
    "- Seen how to install a library\n",
    "```"
   ]
  }
 ],
 "metadata": {
  "jupytext": {
   "formats": "ipynb,md:myst",
   "text_representation": {
    "extension": ".md",
    "format_name": "myst",
    "format_version": 0.12,
    "jupytext_version": "1.6.0"
   }
  },
  "kernelspec": {
   "display_name": "Python 3",
   "language": "python",
   "name": "python3"
  },
  "language_info": {
   "codemirror_mode": {
    "name": "ipython",
    "version": 3
   },
   "file_extension": ".py",
   "mimetype": "text/x-python",
   "name": "python",
   "nbconvert_exporter": "python",
   "pygments_lexer": "ipython3",
   "version": "3.10.14"
  },
  "source_map": [
   13,
   138,
   154,
   158,
   172,
   176,
   183
  ]
 },
 "nbformat": 4,
 "nbformat_minor": 5
}