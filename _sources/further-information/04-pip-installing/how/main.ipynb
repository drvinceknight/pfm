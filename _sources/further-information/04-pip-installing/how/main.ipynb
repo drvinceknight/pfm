{
 "cells": [
  {
   "cell_type": "markdown",
   "id": "d17aec57",
   "metadata": {},
   "source": [
    "# How\n",
    "\n",
    "## How to pip install a library.\n",
    "\n",
    "To install a Python library from the Python Package index we use `pip` by typing\n",
    "the following at the command line.\n",
    "\n",
    "````{tip}\n",
    "```\n",
    "$ python -m pip install <library>\n",
    "```\n",
    "````\n",
    "\n",
    "For example to install `ciw` a library used to study queuing systems:\n",
    "\n",
    "```\n",
    "$ python -m pip install ciw\n",
    "```\n",
    "\n",
    "```{attention}\n",
    "Well documented libraries will always have installation instructions. It is\n",
    "recommended to read those before installing a library.\n",
    "\n",
    "```"
   ]
  }
 ],
 "metadata": {
  "jupytext": {
   "formats": "ipynb,md:myst",
   "text_representation": {
    "extension": ".md",
    "format_name": "myst",
    "format_version": 0.12,
    "jupytext_version": "1.6.0"
   }
  },
  "kernelspec": {
   "display_name": "Python 3",
   "language": "python",
   "name": "python3"
  },
  "language_info": {
   "codemirror_mode": {
    "name": "ipython",
    "version": 3
   },
   "file_extension": ".py",
   "mimetype": "text/x-python",
   "name": "python",
   "nbconvert_exporter": "python",
   "pygments_lexer": "ipython3",
   "version": "3.10.14"
  },
  "source_map": [
   13
  ]
 },
 "nbformat": 4,
 "nbformat_minor": 5
}