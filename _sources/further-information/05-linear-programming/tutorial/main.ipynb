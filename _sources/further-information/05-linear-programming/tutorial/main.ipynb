{
 "cells": [
  {
   "cell_type": "markdown",
   "id": "05b8d7c5",
   "metadata": {},
   "source": [
    "# Tutorial\n",
    "\n",
    "We will consider the following problem taken from {cite}`knight2022applied`.\n",
    "\n",
    "```{admonition} Problem\n",
    "\"£50 of profit can be made on each\n",
    "tonne of paint A produced, and £60 profit on each tonne of paint B\n",
    "produced. A tonne of paint A needs 4 tonnes of component X and 5 tonnes of\n",
    "component Y. A tonne of paint B needs 6 tonnes of component X and 4 tonnes of\n",
    "component Y. Only 24 tonnes of X and 20 tonnes of Y are available per day. How\n",
    "much of paint A and paint B should be produced to maximise profit?\"\n",
    "```\n",
    "\n",
    "As discussed in {cite}`knight2022applied` this can be written in the following\n",
    "form:\n",
    "\n",
    "$$\n",
    "\\begin{align}\n",
    "\\text{Maximise: } 50 A + 60 B &  \\\\\n",
    "\\text{Subject to: } & \\nonumber \\\\\n",
    "4 A + 6 B &\\leq 24  \\\\\n",
    "5 A + 4 B &\\leq 20\n",
    "\\end{align}\n",
    "$$\n",
    "\n",
    "This can be represented using the following matrices and vectors:\n",
    "\n",
    "$$\n",
    "\\begin{align}\n",
    "\\text{minimise: } c^t x&  \\\\\n",
    "\\text{subject to: } & \\nonumber \\\\\n",
    "A_{\\text{ub}}x&\\leq b_{\\text{ub}}\\\\\n",
    "\\end{align}\n",
    "$$\n",
    "\n",
    "with:\n",
    "\n",
    "$$\n",
    "c=\\begin{pmatrix}-50, -60\\end{pmatrix}\\qquad\n",
    "A_{\\text{ub}}=\\begin{pmatrix}4 & 6\\\\ 5 & 4\\end{pmatrix}\\qquad b_{\\text{ub}}=\\begin{pmatrix}24, 20\\end{pmatrix}\n",
    "$$\n",
    "\n",
    "and $x=(A, B)$\n",
    "\n",
    "Problems in this format can be solved using `scipy`. First let us create the\n",
    "matrices and vectors as {ref}`numpy` arrays:"
   ]
  },
  {
   "cell_type": "code",
   "execution_count": 1,
   "id": "8275ce5f",
   "metadata": {},
   "outputs": [],
   "source": [
    "import numpy as np\n",
    "\n",
    "c = np.array((-50, -60))\n",
    "A_ub = np.array(((4, 6), (5, 4)))\n",
    "b_ub = np.array((24, 20))"
   ]
  },
  {
   "cell_type": "markdown",
   "id": "30ca3808",
   "metadata": {},
   "source": [
    "Now we can solve the linear program:"
   ]
  },
  {
   "cell_type": "code",
   "execution_count": 2,
   "id": "cd6a2ebe",
   "metadata": {},
   "outputs": [
    {
     "data": {
      "text/plain": [
       "        message: Optimization terminated successfully. (HiGHS Status 7: Optimal)\n",
       "        success: True\n",
       "         status: 0\n",
       "            fun: -257.14285714285717\n",
       "              x: [ 1.714e+00  2.857e+00]\n",
       "            nit: 2\n",
       "          lower:  residual: [ 1.714e+00  2.857e+00]\n",
       "                 marginals: [ 0.000e+00  0.000e+00]\n",
       "          upper:  residual: [       inf        inf]\n",
       "                 marginals: [ 0.000e+00  0.000e+00]\n",
       "          eqlin:  residual: []\n",
       "                 marginals: []\n",
       "        ineqlin:  residual: [ 0.000e+00  0.000e+00]\n",
       "                 marginals: [-7.143e+00 -4.286e+00]\n",
       " mip_node_count: 0\n",
       " mip_dual_bound: 0.0\n",
       "        mip_gap: 0.0"
      ]
     },
     "execution_count": 2,
     "metadata": {},
     "output_type": "execute_result"
    }
   ],
   "source": [
    "import scipy.optimize\n",
    "\n",
    "result = scipy.optimize.linprog(c=c, A_ub=A_ub, b_ub=b_ub)\n",
    "result"
   ]
  },
  {
   "cell_type": "markdown",
   "id": "10fe497e",
   "metadata": {},
   "source": [
    "The specific solution can be accessed directly:"
   ]
  },
  {
   "cell_type": "code",
   "execution_count": 3,
   "id": "c38284fd",
   "metadata": {},
   "outputs": [
    {
     "data": {
      "text/plain": [
       "array([1.71428571, 2.85714286])"
      ]
     },
     "execution_count": 3,
     "metadata": {},
     "output_type": "execute_result"
    }
   ],
   "source": [
    "result.x"
   ]
  },
  {
   "cell_type": "markdown",
   "id": "593226d3",
   "metadata": {},
   "source": [
    "Indeed, it can be shown theoretically that the optimal result if $A=\\frac{12}{7}\\approx 1.714$ and $B=\\frac{20}{7}\\approx 2.857$.\n",
    "\n",
    "```{important}\n",
    "In this chapter we have:\n",
    "\n",
    "- Plotted a scatter plot.\n",
    "- Add a plot of a line to our scatter plot.\n",
    "```"
   ]
  }
 ],
 "metadata": {
  "jupytext": {
   "formats": "ipynb,md:myst",
   "text_representation": {
    "extension": ".md",
    "format_name": "myst",
    "format_version": 0.12,
    "jupytext_version": "1.6.0"
   }
  },
  "kernelspec": {
   "display_name": "Python 3",
   "language": "python",
   "name": "python3"
  },
  "language_info": {
   "codemirror_mode": {
    "name": "ipython",
    "version": 3
   },
   "file_extension": ".py",
   "mimetype": "text/x-python",
   "name": "python",
   "nbconvert_exporter": "python",
   "pygments_lexer": "ipython3",
   "version": "3.10.13"
  },
  "source_map": [
   13,
   62,
   68,
   72,
   77,
   81,
   83
  ]
 },
 "nbformat": 4,
 "nbformat_minor": 5
}