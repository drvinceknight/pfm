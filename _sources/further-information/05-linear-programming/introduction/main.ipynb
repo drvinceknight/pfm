{
 "cells": [
  {
   "cell_type": "markdown",
   "id": "4bc008c5",
   "metadata": {},
   "source": [
    "(linear_programmign)=\n",
    "\n",
    "# Linear Programming\n",
    "\n",
    "Linear programming is a mathematical technique used to optimize a linear objective function, subject to constraints represented\n",
    "by linear equations or inequalities. It helps find the best combination of resources to achieve a goal while satisfying\n",
    "limitations, like a puzzle where you have to find the best way to use limited pieces to solve it.\n",
    "\n",
    "```{important}\n",
    "In this chapter we will cover:\n",
    "\n",
    "- How to use `scipy` to solve linear programming problems.\n",
    "```"
   ]
  }
 ],
 "metadata": {
  "jupytext": {
   "formats": "ipynb,md:myst",
   "text_representation": {
    "extension": ".md",
    "format_name": "myst",
    "format_version": 0.12,
    "jupytext_version": "1.6.0"
   }
  },
  "kernelspec": {
   "display_name": "Python 3",
   "language": "python",
   "name": "python3"
  },
  "language_info": {
   "codemirror_mode": {
    "name": "ipython",
    "version": 3
   },
   "file_extension": ".py",
   "mimetype": "text/x-python",
   "name": "python",
   "nbconvert_exporter": "python",
   "pygments_lexer": "ipython3",
   "version": "3.10.18"
  },
  "source_map": [
   13
  ]
 },
 "nbformat": 4,
 "nbformat_minor": 5
}