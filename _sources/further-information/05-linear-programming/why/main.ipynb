{
 "cells": [
  {
   "cell_type": "markdown",
   "id": "16ef9f57",
   "metadata": {},
   "source": [
    "# Further information.\n",
    "\n",
    "## Other tools\n",
    "\n",
    "A popular tool for linear programming with python is Pulp: [https://coin-or.github.io/pulp/](https://coin-or.github.io/pulp/)\n",
    "\n",
    "Other tools that can tackle problems of which linear programming are a subset\n",
    "include:\n",
    "\n",
    "- Pyomo [http://www.pyomo.org](http://www.pyomo.org)\n",
    "- cvxopt [https://cvxopt.org](https://cvxopt.org)"
   ]
  }
 ],
 "metadata": {
  "jupytext": {
   "formats": "ipynb,md:myst",
   "text_representation": {
    "extension": ".md",
    "format_name": "myst",
    "format_version": 0.12,
    "jupytext_version": "1.6.0"
   }
  },
  "kernelspec": {
   "display_name": "Python 3",
   "language": "python",
   "name": "python3"
  },
  "language_info": {
   "codemirror_mode": {
    "name": "ipython",
    "version": 3
   },
   "file_extension": ".py",
   "mimetype": "text/x-python",
   "name": "python",
   "nbconvert_exporter": "python",
   "pygments_lexer": "ipython3",
   "version": "3.10.18"
  },
  "source_map": [
   13
  ]
 },
 "nbformat": 4,
 "nbformat_minor": 5
}