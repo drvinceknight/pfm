{
 "cells": [
  {
   "cell_type": "markdown",
   "id": "e51bdc70",
   "metadata": {},
   "source": [
    "# How\n",
    "\n",
    "## How to solve a linear program using `scipy`\n",
    "\n",
    "A general linear program of the form\n",
    "\n",
    "$$\n",
    "\\begin{align}\n",
    "\\text{minimise: } c^t x&  \\\\\n",
    "\\text{subject to: } & \\nonumber \\\\\n",
    "A_{\\text{ub}}x&\\leq b_{\\text{ub}}\\\\\n",
    "A_{\\text{eq}}x&= b_{\\text{eq}}\\\\\n",
    "\\end{align}\n",
    "$$\n",
    "\n",
    "can be solved using:\n",
    "\n",
    "````{tip}\n",
    "```\n",
    "scipy.optimize.linprog(c, A_ub, b_ub, A_eq, b_eq)\n",
    "```\n",
    "````\n",
    "\n",
    "For example:"
   ]
  },
  {
   "cell_type": "code",
   "execution_count": 1,
   "id": "3856d43c",
   "metadata": {},
   "outputs": [
    {
     "data": {
      "text/plain": [
       "        message: Optimization terminated successfully. (HiGHS Status 7: Optimal)\n",
       "        success: True\n",
       "         status: 0\n",
       "            fun: -1.8000000000000005\n",
       "              x: [ 6.000e-01  0.000e+00  2.000e-01  0.000e+00]\n",
       "            nit: 2\n",
       "          lower:  residual: [ 6.000e-01  0.000e+00  2.000e-01  0.000e+00]\n",
       "                 marginals: [ 0.000e+00  2.000e-01  0.000e+00  6.000e-01]\n",
       "          upper:  residual: [       inf        inf        inf        inf]\n",
       "                 marginals: [ 0.000e+00  0.000e+00  0.000e+00  0.000e+00]\n",
       "          eqlin:  residual: [ 0.000e+00]\n",
       "                 marginals: [-1.400e+00]\n",
       "        ineqlin:  residual: [ 2.400e+00  0.000e+00  2.000e+00]\n",
       "                 marginals: [-0.000e+00 -2.000e-01 -0.000e+00]\n",
       " mip_node_count: 0\n",
       " mip_dual_bound: 0.0\n",
       "        mip_gap: 0.0"
      ]
     },
     "execution_count": 1,
     "metadata": {},
     "output_type": "execute_result"
    }
   ],
   "source": [
    "import numpy as np\n",
    "import scipy.optimize\n",
    "\n",
    "c = np.array((-2, -2, -3, -1))\n",
    "A_ub = np.array(\n",
    "        [[2, -3, -3, 1], [3, 4, 1, 1], [-2, 1, 1, 1]]\n",
    "    )\n",
    "b_ub = np.array([[3], [2], [1]])\n",
    "A_eq = np.array([[1, 1, 2, 1]])\n",
    "b_eq = np.array([1])\n",
    "\n",
    "scipy.optimize.linprog(c=c, A_ub=A_ub, b_ub=b_ub, A_eq=A_eq, b_eq=b_eq)"
   ]
  }
 ],
 "metadata": {
  "jupytext": {
   "formats": "ipynb,md:myst",
   "text_representation": {
    "extension": ".md",
    "format_name": "myst",
    "format_version": 0.12,
    "jupytext_version": "1.6.0"
   }
  },
  "kernelspec": {
   "display_name": "Python 3",
   "language": "python",
   "name": "python3"
  },
  "language_info": {
   "codemirror_mode": {
    "name": "ipython",
    "version": 3
   },
   "file_extension": ".py",
   "mimetype": "text/x-python",
   "name": "python",
   "nbconvert_exporter": "python",
   "pygments_lexer": "ipython3",
   "version": "3.10.13"
  },
  "source_map": [
   13,
   40
  ]
 },
 "nbformat": 4,
 "nbformat_minor": 5
}