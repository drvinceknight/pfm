{
 "cells": [
  {
   "cell_type": "markdown",
   "id": "b372e4a5",
   "metadata": {},
   "source": [
    "(working_with_files)=\n",
    "\n",
    "# Working with files\n",
    "\n",
    "When using a computer to carry out mathematical tasks with a computer there is\n",
    "often a need to make use of stored information. This could be sequences of\n",
    "numbers, empirical data or indeed lists of prime numbers. On computers, this\n",
    "information is stored in files.\n",
    "\n",
    "```{important}\n",
    "In this chapter we will cover:\n",
    "\n",
    "- How to use the python standard library to read and write to files.\n",
    "```"
   ]
  }
 ],
 "metadata": {
  "jupytext": {
   "formats": "ipynb,md:myst",
   "text_representation": {
    "extension": ".md",
    "format_name": "myst",
    "format_version": 0.12,
    "jupytext_version": "1.6.0"
   }
  },
  "kernelspec": {
   "display_name": "Python 3",
   "language": "python",
   "name": "python3"
  },
  "language_info": {
   "codemirror_mode": {
    "name": "ipython",
    "version": 3
   },
   "file_extension": ".py",
   "mimetype": "text/x-python",
   "name": "python",
   "nbconvert_exporter": "python",
   "pygments_lexer": "ipython3",
   "version": "3.10.18"
  },
  "source_map": [
   13
  ]
 },
 "nbformat": 4,
 "nbformat_minor": 5
}