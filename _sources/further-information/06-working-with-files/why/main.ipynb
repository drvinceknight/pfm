{
 "cells": [
  {
   "cell_type": "markdown",
   "id": "0b8a39e6",
   "metadata": {},
   "source": [
    "# Further information.\n",
    "\n",
    "## What is a context manager\n",
    "\n",
    "Instead of using the approach shown in [How to write to a file](how_to_write_to_a_file) it is\n",
    "possible to write to a file using the following:"
   ]
  },
  {
   "cell_type": "code",
   "execution_count": 1,
   "id": "e2185de6",
   "metadata": {},
   "outputs": [],
   "source": [
    "f = open(\"squares.csv\", \"w\")\n",
    "for n in range(1, 101):\n",
    "    f.write(f\"{n}, {n ** 2}\\n\")\n",
    "f.close()"
   ]
  },
  {
   "cell_type": "markdown",
   "id": "87e58b97",
   "metadata": {},
   "source": [
    "However, when doing so it is important to `close` the file. Without this the\n",
    "file remains inaccessible for other purposes.\n",
    "\n",
    "Thus, it is preferred to use:"
   ]
  },
  {
   "cell_type": "code",
   "execution_count": 2,
   "id": "d68e6245",
   "metadata": {},
   "outputs": [],
   "source": [
    "with open(\"squares.csv\", \"w\") as f:\n",
    "    for n in range(1, 101):\n",
    "        f.write(f\"{n}, {n ** 2}\\n\")"
   ]
  },
  {
   "cell_type": "markdown",
   "id": "c6442dd1",
   "metadata": {},
   "source": [
    "In this case, the indented block after `with open(\"squares.csv\", \"w\") as f:` is\n",
    "the context within which the file `f` is open. It will be closed outside of that\n",
    "indented block.\n",
    "\n",
    "This is an example of a _context manager_. There are other examples of this in\n",
    "Python such as `try` and `except` loops.\n",
    "\n",
    "## Working with files with `numpy`\n",
    "\n",
    "It is possible to write a [`numpy`](numpy) array to a file using the `savetxt` function. For\n",
    "example:"
   ]
  },
  {
   "cell_type": "code",
   "execution_count": 3,
   "id": "39d76143",
   "metadata": {},
   "outputs": [],
   "source": [
    "import numpy as np\n",
    "\n",
    "A = np.array(\n",
    "    (\n",
    "        (1, 5, 3),\n",
    "        (8, 1, 2),\n",
    "        (3, 5, 1),\n",
    "    )\n",
    ")\n",
    "np.savetxt(\"array.txt\", A)"
   ]
  },
  {
   "cell_type": "markdown",
   "id": "2cb3f109",
   "metadata": {},
   "source": [
    "It is possible read a file in to a numpy array using the `loadtxt` function:"
   ]
  },
  {
   "cell_type": "code",
   "execution_count": 4,
   "id": "8d4d033a",
   "metadata": {},
   "outputs": [
    {
     "data": {
      "text/plain": [
       "array([[1., 5., 3.],\n",
       "       [8., 1., 2.],\n",
       "       [3., 5., 1.]])"
      ]
     },
     "execution_count": 4,
     "metadata": {},
     "output_type": "execute_result"
    }
   ],
   "source": [
    "A = np.loadtxt(\"array.txt\")\n",
    "A"
   ]
  },
  {
   "cell_type": "markdown",
   "id": "e9bec449",
   "metadata": {},
   "source": [
    "## Working with files with pathlib\n",
    "\n",
    "The `pathlib` library is a powerful tool for reading, writing and manipulating\n",
    "files.\n",
    "\n",
    "The documentation for `pathlib` is available here: [docs.python.org/3/library/pathlib.html](https://docs.python.org/3/library/pathlib.html)"
   ]
  }
 ],
 "metadata": {
  "jupytext": {
   "formats": "ipynb,md:myst",
   "text_representation": {
    "extension": ".md",
    "format_name": "myst",
    "format_version": 0.12,
    "jupytext_version": "1.6.0"
   }
  },
  "kernelspec": {
   "display_name": "Python 3",
   "language": "python",
   "name": "python3"
  },
  "language_info": {
   "codemirror_mode": {
    "name": "ipython",
    "version": 3
   },
   "file_extension": ".py",
   "mimetype": "text/x-python",
   "name": "python",
   "nbconvert_exporter": "python",
   "pygments_lexer": "ipython3",
   "version": "3.10.14"
  },
  "source_map": [
   13,
   22,
   27,
   34,
   38,
   52,
   63,
   67,
   70
  ]
 },
 "nbformat": 4,
 "nbformat_minor": 5
}