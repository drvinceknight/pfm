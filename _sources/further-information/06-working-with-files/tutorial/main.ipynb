{
 "cells": [
  {
   "cell_type": "markdown",
   "id": "3d5bd129",
   "metadata": {},
   "source": [
    "# Tutorial\n",
    "\n",
    "We will consider the following problem.\n",
    "\n",
    "```{admonition} Problem\n",
    "An Alternating Sign Matrix (ASM) of size $n$ is a square matrix with entries:\n",
    "$0, 1$ or $-1$ such that:\n",
    "\n",
    "- The sum of all rows and columns is 1.\n",
    "- The non zero entries in each row and column alternate in sign.\n",
    "\n",
    "For example there are 7 alternating sign matrices of size $n=3$\n",
    "\n",
    "$$\n",
    "\\begin{pmatrix}\n",
    "1 & 0 & 0\\\\\n",
    "0 & 1 & 0\\\\\n",
    "0 & 0 & 1\\\\\n",
    "\\end{pmatrix}\n",
    "\\qquad\n",
    "\\begin{pmatrix}\n",
    "1 & 0 & 0\\\\\n",
    "0 & 0 & 1\\\\\n",
    "0 & 1 & 0\\\\\n",
    "\\end{pmatrix}\n",
    "$$\n",
    "$$\n",
    "\\begin{pmatrix}\n",
    "0 & 1 & 0\\\\\n",
    "0 & 0 & 1\\\\\n",
    "1 & 0 & 0\\\\\n",
    "\\end{pmatrix}\n",
    "\\qquad\n",
    "\\begin{pmatrix}\n",
    "0 & 0 & 1\\\\\n",
    "1 & 0 & 0\\\\\n",
    "0 & 1 & 0\\\\\n",
    "\\end{pmatrix}\n",
    "$$\n",
    "$$\n",
    "\\begin{pmatrix}\n",
    "0 & 1 & 0\\\\\n",
    "1 & 0 & 0\\\\\n",
    "0 & 0 & 1\\\\\n",
    "\\end{pmatrix}\n",
    "\\qquad\n",
    "\\begin{pmatrix}\n",
    "0 & 0 & 1\\\\\n",
    "0 & 1 & 0\\\\\n",
    "1 & 0 & 0\\\\\n",
    "\\end{pmatrix}\n",
    "$$\n",
    "$$\n",
    "\\begin{pmatrix}\n",
    "0 & 1 & 0\\\\\n",
    "1 & -1 & 1\\\\\n",
    "0 & 1 & 0\\\\\n",
    "\\end{pmatrix}\n",
    "$$\n",
    "\n",
    "The number of Alternating Sign Matrices of size $n$ is given by the following\n",
    "formula {cite}`bressoud1999proofs`:\n",
    "\n",
    "$$\n",
    "A_n = \\prod_{i=0}^{n-1}\\frac{(3i+1)!}{(n + i)!}\n",
    "$$\n",
    "\n",
    "The file available at [10.5281/zenodo.11121413](https://zenodo.org/records/11121414/files/main.txt?download=1) is believed to contain the number $A_n$ for $1\\leq n\\leq 20$.\n",
    "\n",
    "1. Confirm that the values in the file are correct.\n",
    "2. Create a new file with the values of $A_n$ for $1\\leq n \\leq 500$.\n",
    "```\n",
    "\n",
    "First let us write a function to generate $A_n$ from the formula:"
   ]
  },
  {
   "cell_type": "code",
   "execution_count": 1,
   "id": "76cba67d",
   "metadata": {},
   "outputs": [],
   "source": [
    "import sympy as sym\n",
    "\n",
    "def get_A_n(n):\n",
    "    \"\"\"\n",
    "    Return the number of Alternating Sign Matrices of size n as given by\n",
    "\n",
    "    A_n = \\prod_{i=0}^{n-1}\\frac{(3i+1)!}{(n + i)!}\n",
    "\n",
    "    Parameters\n",
    "    ----------\n",
    "    n : int\n",
    "        The size\n",
    "\n",
    "    Returns\n",
    "    -------\n",
    "    int\n",
    "        The number of Alternating Sign Matrices\n",
    "    \"\"\"\n",
    "    return sym.prod(sym.factorial(3 * i + 1) / sym.factorial(n + i) for i in range(n))"
   ]
  },
  {
   "cell_type": "markdown",
   "id": "b6bbb177",
   "metadata": {},
   "source": [
    "Note that we choose to use `sympy` here to handle the integer division without\n",
    "any numeric approximation.\n",
    "\n",
    "Let us confirm the number of $n=3$:"
   ]
  },
  {
   "cell_type": "code",
   "execution_count": 2,
   "id": "4ec81422",
   "metadata": {},
   "outputs": [
    {
     "data": {
      "text/latex": [
       "$\\displaystyle 7$"
      ],
      "text/plain": [
       "7"
      ]
     },
     "execution_count": 2,
     "metadata": {},
     "output_type": "execute_result"
    }
   ],
   "source": [
    "get_A_n(n=3)"
   ]
  },
  {
   "cell_type": "markdown",
   "id": "4212f42b",
   "metadata": {},
   "source": [
    "Next, let us read the data file after downloading it:"
   ]
  },
  {
   "cell_type": "code",
   "execution_count": 3,
   "id": "137e53c1",
   "metadata": {},
   "outputs": [],
   "source": [
    "with open(\"main.txt\", \"r\") as f:\n",
    "    data_as_string = f.read()"
   ]
  },
  {
   "cell_type": "markdown",
   "id": "84194911",
   "metadata": {},
   "source": [
    "This reads the contents of the data file as a string:"
   ]
  },
  {
   "cell_type": "code",
   "execution_count": 4,
   "id": "685afb96",
   "metadata": {},
   "outputs": [
    {
     "data": {
      "text/plain": [
       "'1\\n2\\n7\\n42\\n429\\n7436\\n218348\\n10850216\\n911835460\\n129534272700\\n31095744852375\\n12611311859677500\\n8639383518297652500\\n9995541355448167482000\\n19529076234661277104897200\\n64427185703425689356896743840\\n358869201916137601447486156417296\\n3374860639258750562269514491522925456\\n53580350833984348888878646149709092313244\\n1436038934715538200913155682637051204376827212'"
      ]
     },
     "execution_count": 4,
     "metadata": {},
     "output_type": "execute_result"
    }
   ],
   "source": [
    "data_as_string"
   ]
  },
  {
   "cell_type": "markdown",
   "id": "a6c72c24",
   "metadata": {},
   "source": [
    "Note the `\\n` character which indicates a line break. We can create a list from\n",
    "this string by splitting on that character:"
   ]
  },
  {
   "cell_type": "code",
   "execution_count": 5,
   "id": "a17afe9c",
   "metadata": {},
   "outputs": [
    {
     "data": {
      "text/plain": [
       "['1',\n",
       " '2',\n",
       " '7',\n",
       " '42',\n",
       " '429',\n",
       " '7436',\n",
       " '218348',\n",
       " '10850216',\n",
       " '911835460',\n",
       " '129534272700',\n",
       " '31095744852375',\n",
       " '12611311859677500',\n",
       " '8639383518297652500',\n",
       " '9995541355448167482000',\n",
       " '19529076234661277104897200',\n",
       " '64427185703425689356896743840',\n",
       " '358869201916137601447486156417296',\n",
       " '3374860639258750562269514491522925456',\n",
       " '53580350833984348888878646149709092313244',\n",
       " '1436038934715538200913155682637051204376827212']"
      ]
     },
     "execution_count": 5,
     "metadata": {},
     "output_type": "execute_result"
    }
   ],
   "source": [
    "data_as_strings_as_list = data_as_string.split(\"\\n\")\n",
    "data_as_strings_as_list"
   ]
  },
  {
   "cell_type": "markdown",
   "id": "643c30b1",
   "metadata": {},
   "source": [
    "Finally we create a list by converting each substring to an `int`."
   ]
  },
  {
   "cell_type": "code",
   "execution_count": 6,
   "id": "e1c70016",
   "metadata": {},
   "outputs": [
    {
     "data": {
      "text/plain": [
       "[1,\n",
       " 2,\n",
       " 7,\n",
       " 42,\n",
       " 429,\n",
       " 7436,\n",
       " 218348,\n",
       " 10850216,\n",
       " 911835460,\n",
       " 129534272700,\n",
       " 31095744852375,\n",
       " 12611311859677500,\n",
       " 8639383518297652500,\n",
       " 9995541355448167482000,\n",
       " 19529076234661277104897200,\n",
       " 64427185703425689356896743840,\n",
       " 358869201916137601447486156417296,\n",
       " 3374860639258750562269514491522925456,\n",
       " 53580350833984348888878646149709092313244,\n",
       " 1436038934715538200913155682637051204376827212]"
      ]
     },
     "execution_count": 6,
     "metadata": {},
     "output_type": "execute_result"
    }
   ],
   "source": [
    "data = [int(item) for item in data_as_strings_as_list]\n",
    "data"
   ]
  },
  {
   "cell_type": "markdown",
   "id": "d1b0c94c",
   "metadata": {},
   "source": [
    "First let us confirm that the data is correct."
   ]
  },
  {
   "cell_type": "code",
   "execution_count": 7,
   "id": "f724ede3",
   "metadata": {},
   "outputs": [
    {
     "data": {
      "text/plain": [
       "True"
      ]
     },
     "execution_count": 7,
     "metadata": {},
     "output_type": "execute_result"
    }
   ],
   "source": [
    "check = all(get_A_n(n=i + 1) == value for i, value in enumerate(data))\n",
    "check"
   ]
  },
  {
   "cell_type": "markdown",
   "id": "16815948",
   "metadata": {},
   "source": [
    "Now, let us write a new file with $A_n$ for $1\\leq n \\leq 200$:"
   ]
  },
  {
   "cell_type": "code",
   "execution_count": 8,
   "id": "d4962311",
   "metadata": {},
   "outputs": [],
   "source": [
    "with open(\"data.txt\", \"w\") as f:\n",
    "    for n in range(1, 101):\n",
    "        A_n = get_A_n(n=n)\n",
    "        f.write(f\"{A_n}\\n\")"
   ]
  },
  {
   "cell_type": "markdown",
   "id": "a2792423",
   "metadata": {},
   "source": [
    "```{important}\n",
    "In this chapter we have:\n",
    "\n",
    "- Read information stored in a file.\n",
    "- Write information to a file.\n",
    "```"
   ]
  }
 ],
 "metadata": {
  "jupytext": {
   "formats": "ipynb,md:myst",
   "text_representation": {
    "extension": ".md",
    "format_name": "myst",
    "format_version": 0.12,
    "jupytext_version": "1.6.0"
   }
  },
  "kernelspec": {
   "display_name": "Python 3",
   "language": "python",
   "name": "python3"
  },
  "language_info": {
   "codemirror_mode": {
    "name": "ipython",
    "version": 3
   },
   "file_extension": ".py",
   "mimetype": "text/x-python",
   "name": "python",
   "nbconvert_exporter": "python",
   "pygments_lexer": "ipython3",
   "version": "3.10.18"
  },
  "source_map": [
   13,
   90,
   110,
   117,
   119,
   123,
   126,
   130,
   132,
   137,
   140,
   144,
   147,
   151,
   154,
   158,
   163
  ]
 },
 "nbformat": 4,
 "nbformat_minor": 5
}