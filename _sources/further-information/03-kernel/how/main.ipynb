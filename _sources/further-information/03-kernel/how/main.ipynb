{
 "cells": [
  {
   "cell_type": "markdown",
   "id": "cc2be6a7",
   "metadata": {},
   "source": [
    "# How\n",
    "\n",
    "## How to restart the kernel\n",
    "\n",
    "To restart the kernel: click on `Kernel` and then `Restart`."
   ]
  }
 ],
 "metadata": {
  "jupytext": {
   "formats": "ipynb,md:myst",
   "text_representation": {
    "extension": ".md",
    "format_name": "myst",
    "format_version": 0.12,
    "jupytext_version": "1.6.0"
   }
  },
  "kernelspec": {
   "display_name": "Python 3",
   "language": "python",
   "name": "python3"
  },
  "language_info": {
   "codemirror_mode": {
    "name": "ipython",
    "version": 3
   },
   "file_extension": ".py",
   "mimetype": "text/x-python",
   "name": "python",
   "nbconvert_exporter": "python",
   "pygments_lexer": "ipython3",
   "version": "3.8.17"
  },
  "source_map": [
   13
  ]
 },
 "nbformat": 4,
 "nbformat_minor": 5
}