{
 "cells": [
  {
   "cell_type": "markdown",
   "id": "95439d3c",
   "metadata": {},
   "source": [
    "# How\n",
    "\n",
    "`numpy` is a large library with incredible functionality all of which will not be\n",
    "listed here. Instead some specific tools will be described so as to give a\n",
    "sufficient understanding of the capabilities of the library.\n",
    "\n",
    "## How to create an array\n",
    "\n",
    "To create a `numpy` array we use the `numpy.array` tool which takes any iterable.\n",
    "\n",
    "````{tip}\n",
    "```\n",
    "numpy.array(iterable)\n",
    "```\n",
    "````\n",
    "\n",
    "For example:"
   ]
  },
  {
   "cell_type": "code",
   "execution_count": 1,
   "id": "746e3938",
   "metadata": {},
   "outputs": [
    {
     "data": {
      "text/plain": [
       "array([ 0, 12,  3,  1])"
      ]
     },
     "execution_count": 1,
     "metadata": {},
     "output_type": "execute_result"
    }
   ],
   "source": [
    "import numpy as np\n",
    "\n",
    "array = np.array((0, 12, 3, 1))\n",
    "array"
   ]
  },
  {
   "cell_type": "markdown",
   "id": "97169742",
   "metadata": {},
   "source": [
    "(how-to-create-a-given-number-of-values-between-two-bounds)=\n",
    "\n",
    "## How to create a given number of values between two bounds\n",
    "\n",
    "`numpy` has a popular tool to create a linear space: `numpy.linspace` which take\n",
    "a lower bound, an upper bounds and a number. It returns the given number of points\n",
    "uniformly spaced between the bounds.\n",
    "\n",
    "````{tip}\n",
    "```\n",
    "numpy.linspace(lower_bound, upper_bound, number)\n",
    "```\n",
    "````\n",
    "\n",
    "For example:"
   ]
  },
  {
   "cell_type": "code",
   "execution_count": 2,
   "id": "fa7b8874",
   "metadata": {},
   "outputs": [
    {
     "data": {
      "text/plain": [
       "array([ 10., 140., 270., 400.])"
      ]
     },
     "execution_count": 2,
     "metadata": {},
     "output_type": "execute_result"
    }
   ],
   "source": [
    "import numpy as np\n",
    "\n",
    "np.linspace(10, 400, 4)"
   ]
  },
  {
   "cell_type": "markdown",
   "id": "367279d1",
   "metadata": {},
   "source": [
    "## How to create an array of zeros\n",
    "\n",
    "To create an array of zeros we can use the `numpy.zeros` tool. It takes an\n",
    "argument for the dimension of the array. This can either be a single number in\n",
    "which case a single dimensional array is created or a tuple with multiple\n",
    "dimensions.\n",
    "\n",
    "````{tip}\n",
    "```\n",
    "numpy.zeros(size)\n",
    "```\n",
    "````\n",
    "\n",
    "For example:"
   ]
  },
  {
   "cell_type": "code",
   "execution_count": 3,
   "id": "54bf7ab6",
   "metadata": {},
   "outputs": [
    {
     "data": {
      "text/plain": [
       "array([0., 0., 0., 0.])"
      ]
     },
     "execution_count": 3,
     "metadata": {},
     "output_type": "execute_result"
    }
   ],
   "source": [
    "import numpy as np\n",
    "\n",
    "np.zeros(4)"
   ]
  },
  {
   "cell_type": "markdown",
   "id": "399a1eb2",
   "metadata": {},
   "source": [
    "Or:"
   ]
  },
  {
   "cell_type": "code",
   "execution_count": 4,
   "id": "09dca614",
   "metadata": {},
   "outputs": [
    {
     "data": {
      "text/plain": [
       "array([[0., 0., 0., 0., 0.],\n",
       "       [0., 0., 0., 0., 0.],\n",
       "       [0., 0., 0., 0., 0.]])"
      ]
     },
     "execution_count": 4,
     "metadata": {},
     "output_type": "execute_result"
    }
   ],
   "source": [
    "np.zeros((3, 5))"
   ]
  },
  {
   "cell_type": "markdown",
   "id": "910c08be",
   "metadata": {},
   "source": [
    "## How to generate random arrays\n",
    "\n",
    "`numpy` has a powerful random number generator. It can be accessed from\n",
    "`numpy.random` and has multiple tools. The simplest of which is\n",
    "`numpy.random.random`. This takes an optional argument that is the dimension of\n",
    "the array.\n",
    "\n",
    "````{tip}\n",
    "```\n",
    "numpy.random.random(size)\n",
    "```\n",
    "````\n",
    "\n",
    "For example:"
   ]
  },
  {
   "cell_type": "code",
   "execution_count": 5,
   "id": "20a26b4d",
   "metadata": {
    "tags": [
     "nbval-ignore-output"
    ]
   },
   "outputs": [
    {
     "data": {
      "text/plain": [
       "0.4119499478378448"
      ]
     },
     "execution_count": 5,
     "metadata": {},
     "output_type": "execute_result"
    }
   ],
   "source": [
    "import numpy as np\n",
    "\n",
    "np.random.random()"
   ]
  },
  {
   "cell_type": "markdown",
   "id": "c102225f",
   "metadata": {},
   "source": [
    "Or:"
   ]
  },
  {
   "cell_type": "code",
   "execution_count": 6,
   "id": "0935e2d9",
   "metadata": {
    "tags": [
     "nbval-ignore-output"
    ]
   },
   "outputs": [
    {
     "data": {
      "text/plain": [
       "array([[0.48550024, 0.83721442, 0.11388948, 0.73772053, 0.09913961],\n",
       "       [0.28504286, 0.00886852, 0.08277997, 0.13109425, 0.44137731],\n",
       "       [0.52597413, 0.12439983, 0.57146501, 0.02017404, 0.68874612]])"
      ]
     },
     "execution_count": 6,
     "metadata": {},
     "output_type": "execute_result"
    }
   ],
   "source": [
    "import numpy as np\n",
    "\n",
    "np.random.random((3, 5))"
   ]
  },
  {
   "cell_type": "markdown",
   "id": "76986d1f",
   "metadata": {},
   "source": [
    "## How to index arrays\n",
    "\n",
    "Multiple dimensional arrays can be indexed in a natural mathematical way using\n",
    "`array[position]`.\n",
    "\n",
    "````{tip}\n",
    "```\n",
    "array[position]\n",
    "```\n",
    "````\n",
    "\n",
    "For example:"
   ]
  },
  {
   "cell_type": "code",
   "execution_count": 7,
   "id": "21502ee9",
   "metadata": {},
   "outputs": [
    {
     "data": {
      "text/plain": [
       "6"
      ]
     },
     "execution_count": 7,
     "metadata": {},
     "output_type": "execute_result"
    }
   ],
   "source": [
    "import numpy as np\n",
    "\n",
    "array = np.array(((1, 2, 3), (4, 5, 6)))\n",
    "array[1, 2]"
   ]
  },
  {
   "cell_type": "markdown",
   "id": "e154238e",
   "metadata": {},
   "source": [
    "## How to do arithmetic on arrays\n",
    "\n",
    "It is possible to directly do arithmetic on arrays in a mathematical way.\n",
    "\n",
    "````{tip}\n",
    "```\n",
    "array1 + array2\n",
    "```\n",
    "````\n",
    "\n",
    "For example to do element wise multiplication:"
   ]
  },
  {
   "cell_type": "code",
   "execution_count": 8,
   "id": "c3e1c647",
   "metadata": {},
   "outputs": [
    {
     "data": {
      "text/plain": [
       "array([ 2.,  0., -3.,  2.])"
      ]
     },
     "execution_count": 8,
     "metadata": {},
     "output_type": "execute_result"
    }
   ],
   "source": [
    "array1 = np.array((1, 2, 3, 4))\n",
    "array2 = np.array((2, 0, -1, 0.5))\n",
    "array1 * array2"
   ]
  },
  {
   "cell_type": "markdown",
   "id": "6c755212",
   "metadata": {},
   "source": [
    "## How to invert a matrix\n",
    "\n",
    "`numpy` can invert a matrix using `np.linalg.inv`. There are numerous other\n",
    "linear algebraic tools available in `np.linalg`.\n",
    "\n",
    "````{tip}\n",
    "```\n",
    "np.linalg.inv(array)\n",
    "```\n",
    "````\n",
    "\n",
    "For example:"
   ]
  },
  {
   "cell_type": "code",
   "execution_count": 9,
   "id": "db350ec5",
   "metadata": {},
   "outputs": [
    {
     "data": {
      "text/plain": [
       "array([[-0.2,  0.4],\n",
       "       [ 0.6, -0.2]])"
      ]
     },
     "execution_count": 9,
     "metadata": {},
     "output_type": "execute_result"
    }
   ],
   "source": [
    "import numpy as np\n",
    "\n",
    "matrix = np.array(((1, 2), (3, 1)))\n",
    "matrix_inverse = np.linalg.inv(matrix)\n",
    "matrix_inverse"
   ]
  },
  {
   "cell_type": "markdown",
   "id": "1b25ecf9",
   "metadata": {},
   "source": [
    "We can confirm the expected result:"
   ]
  },
  {
   "cell_type": "code",
   "execution_count": 10,
   "id": "10e6ecef",
   "metadata": {},
   "outputs": [
    {
     "data": {
      "text/plain": [
       "array([[1., 0.],\n",
       "       [0., 1.]])"
      ]
     },
     "execution_count": 10,
     "metadata": {},
     "output_type": "execute_result"
    }
   ],
   "source": [
    "matrix @ matrix_inverse"
   ]
  },
  {
   "cell_type": "markdown",
   "id": "d714da0b",
   "metadata": {},
   "source": [
    "## How to raise a matrix to a power\n",
    "\n",
    "Using the usual operator for exponentiation `**` with a `numpy` array carries\n",
    "out element wise exponentiation. To raise a matrix to a power we use\n",
    "`np.linalg.matrix_power`. This takes an array and the exponent.\n",
    "\n",
    "````{tip}\n",
    "```\n",
    "np.linalg.ing(array, exponent)\n",
    "```\n",
    "````\n",
    "\n",
    "For example:"
   ]
  },
  {
   "cell_type": "code",
   "execution_count": 11,
   "id": "8121e694",
   "metadata": {},
   "outputs": [
    {
     "data": {
      "text/plain": [
       "array([[19, 18],\n",
       "       [27, 19]])"
      ]
     },
     "execution_count": 11,
     "metadata": {},
     "output_type": "execute_result"
    }
   ],
   "source": [
    "import numpy as np\n",
    "\n",
    "matrix = np.array(((1, 2), (3, 1)))\n",
    "np.linalg.matrix_power(matrix, 3)"
   ]
  },
  {
   "cell_type": "markdown",
   "id": "2e7a898a",
   "metadata": {},
   "source": [
    "## How to fit a line of best fit\n",
    "\n",
    "`numpy` can be used to fit polynomials to a points. This is done with the\n",
    "`numpy.polyfit` tool. This takes an array of x values, an array of y values and\n",
    "a degree. It returns the coefficients of a polynomial of given degree that best\n",
    "approximates $f(x)=y$.\n",
    "\n",
    "````{tip}\n",
    "```\n",
    "np.polyfit(x, y, degree)\n",
    "```\n",
    "````\n",
    "\n",
    "For example, the code below creates `y` using a quadratic and recovers the\n",
    "coefficients of the quadratic:"
   ]
  },
  {
   "cell_type": "code",
   "execution_count": 12,
   "id": "4e198876",
   "metadata": {
    "tags": [
     "nbval-ignore-output"
    ]
   },
   "outputs": [
    {
     "data": {
      "text/plain": [
       "(2.0000000000000004, 3.0000000000000013, 1.0000000000000036)"
      ]
     },
     "execution_count": 12,
     "metadata": {},
     "output_type": "execute_result"
    }
   ],
   "source": [
    "x = np.array((1, 2, 3, 4))\n",
    "y = 2 * x ** 2 + 3 * x + 1\n",
    "a, b, c = np.polyfit(x, y, 2)\n",
    "a, b, c"
   ]
  }
 ],
 "metadata": {
  "jupytext": {
   "formats": "ipynb,md:myst",
   "text_representation": {
    "extension": ".md",
    "format_name": "myst",
    "format_version": 0.12,
    "jupytext_version": "1.6.0"
   }
  },
  "kernelspec": {
   "display_name": "Python 3",
   "language": "python",
   "name": "python3"
  },
  "language_info": {
   "codemirror_mode": {
    "name": "ipython",
    "version": 3
   },
   "file_extension": ".py",
   "mimetype": "text/x-python",
   "name": "python",
   "nbconvert_exporter": "python",
   "pygments_lexer": "ipython3",
   "version": "3.10.14"
  },
  "source_map": [
   13,
   33,
   38,
   56,
   60,
   77,
   81,
   85,
   87,
   104,
   110,
   114,
   120,
   135,
   140,
   154,
   158,
   173,
   179,
   183,
   185,
   201,
   206,
   224
  ]
 },
 "nbformat": 4,
 "nbformat_minor": 5
}