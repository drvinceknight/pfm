{
 "cells": [
  {
   "cell_type": "markdown",
   "id": "ce65fdeb",
   "metadata": {},
   "source": [
    "(numpy)=\n",
    "\n",
    "# Numpy\n",
    "\n",
    "One of the most popular Python libraries for scientific computing is `numpy`.\n",
    "Python is not renowned for its run speed but its speed of writing.\n",
    "`numpy` helps with this at is brings fast numeric computations to Python. It is\n",
    "also powerful tool for linear algebra (matrices) although it cannot handle\n",
    "symbolic variables.\n",
    "\n",
    "```{important}\n",
    "In this chapter we will cover:\n",
    "\n",
    "- How to create and manipulate `numpy` arrays.\n",
    "- How to create specific `numpy` arrays like linear spaces.\n",
    "- How to use `numpy`'s random number generator.\n",
    "- How to invert a matrix.\n",
    "- How to fit a polynomial to data.\n",
    "```"
   ]
  }
 ],
 "metadata": {
  "jupytext": {
   "formats": "ipynb,md:myst",
   "text_representation": {
    "extension": ".md",
    "format_name": "myst",
    "format_version": 0.12,
    "jupytext_version": "1.6.0"
   }
  },
  "kernelspec": {
   "display_name": "Python 3",
   "language": "python",
   "name": "python3"
  },
  "language_info": {
   "codemirror_mode": {
    "name": "ipython",
    "version": 3
   },
   "file_extension": ".py",
   "mimetype": "text/x-python",
   "name": "python",
   "nbconvert_exporter": "python",
   "pygments_lexer": "ipython3",
   "version": "3.10.13"
  },
  "source_map": [
   13
  ]
 },
 "nbformat": 4,
 "nbformat_minor": 5
}