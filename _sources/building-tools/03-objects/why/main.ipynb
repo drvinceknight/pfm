{
 "cells": [
  {
   "cell_type": "markdown",
   "id": "c7584867",
   "metadata": {},
   "source": [
    "# Further information\n",
    "\n",
    "## How to pronounce the double underscore?\n",
    "\n",
    "The double underscore used in magic methods like `__init__` or `__repr__` is\n",
    "pronounced \"dunder\".\n",
    "\n",
    "## What is the `self` variable for?\n",
    "\n",
    "In methods the first variable is used to refer to the instance of a given class.\n",
    "It is conventional to use `self`.\n",
    "\n",
    "As an example let us consider this class:"
   ]
  },
  {
   "cell_type": "code",
   "execution_count": 1,
   "id": "41685a8e",
   "metadata": {},
   "outputs": [],
   "source": [
    "class PetDog:\n",
    "    \"\"\"\n",
    "    A class for a Pet.\n",
    "\n",
    "    Has two methods:\n",
    "        - `bark` which returns \"Woof\" as a string.\n",
    "        - `give_toy` which gives a toy to the dog in question. This updates the\n",
    "          `toys` attribute.\n",
    "    \"\"\"\n",
    "\n",
    "    def __init__(self):\n",
    "        self.toys = []\n",
    "\n",
    "    def bark(self):\n",
    "        \"\"\"\n",
    "        Returns the string Woof.\n",
    "        \"\"\"\n",
    "        return \"Woof\"\n",
    "\n",
    "    def give_toy(self, toy):\n",
    "        \"\"\"\n",
    "        Updates the instances toys list.\n",
    "        \"\"\"\n",
    "        self.toys.append(toy)"
   ]
  },
  {
   "cell_type": "markdown",
   "id": "b9e0886a",
   "metadata": {},
   "source": [
    "If we now create two dogs:"
   ]
  },
  {
   "cell_type": "code",
   "execution_count": 2,
   "id": "248c39a5",
   "metadata": {},
   "outputs": [],
   "source": [
    "auraya = PetDog()\n",
    "riggins = PetDog()"
   ]
  },
  {
   "cell_type": "markdown",
   "id": "7f3733ea",
   "metadata": {},
   "source": [
    "Both have no toys:"
   ]
  },
  {
   "cell_type": "code",
   "execution_count": 3,
   "id": "2007cef1",
   "metadata": {},
   "outputs": [
    {
     "data": {
      "text/plain": [
       "[]"
      ]
     },
     "execution_count": 3,
     "metadata": {},
     "output_type": "execute_result"
    }
   ],
   "source": [
    "auraya.toys"
   ]
  },
  {
   "cell_type": "code",
   "execution_count": 4,
   "id": "22b13e33",
   "metadata": {},
   "outputs": [
    {
     "data": {
      "text/plain": [
       "[]"
      ]
     },
     "execution_count": 4,
     "metadata": {},
     "output_type": "execute_result"
    }
   ],
   "source": [
    "riggins.toys"
   ]
  },
  {
   "cell_type": "markdown",
   "id": "8c19cafb",
   "metadata": {},
   "source": [
    "Now when we want to give `riggins` a toy we need to specify which of those two\n",
    "empty lists to update:"
   ]
  },
  {
   "cell_type": "code",
   "execution_count": 5,
   "id": "b6a34b44",
   "metadata": {},
   "outputs": [
    {
     "data": {
      "text/plain": [
       "['ball']"
      ]
     },
     "execution_count": 5,
     "metadata": {},
     "output_type": "execute_result"
    }
   ],
   "source": [
    "riggins.give_toy(\"ball\")\n",
    "riggins.toys"
   ]
  },
  {
   "cell_type": "markdown",
   "id": "9ba13920",
   "metadata": {},
   "source": [
    "However `auraya` still has no toys:"
   ]
  },
  {
   "cell_type": "code",
   "execution_count": 6,
   "id": "0c11e12c",
   "metadata": {},
   "outputs": [
    {
     "data": {
      "text/plain": [
       "[]"
      ]
     },
     "execution_count": 6,
     "metadata": {},
     "output_type": "execute_result"
    }
   ],
   "source": [
    "auraya.toys"
   ]
  },
  {
   "cell_type": "markdown",
   "id": "ec82cf79",
   "metadata": {},
   "source": [
    "When running `riggins.give_toy(\"ball\")`, internally the `give_toy` method is\n",
    "taking `self` to be `riggins` and so the\n",
    "line `self.toys.append(toy)` in fact is running as `riggins.toys.append(toy)`.\n",
    "\n",
    "The variable name `self` is a convention and not a functional requirement.\n",
    "If we modify it (using {ref}`inheritance <how_to_use_inheritance>`):"
   ]
  },
  {
   "cell_type": "code",
   "execution_count": 7,
   "id": "11ed362c",
   "metadata": {},
   "outputs": [],
   "source": [
    "class OtherPetDog(PetDog):\n",
    "    \"\"\"\n",
    "    A class for a Pet.\n",
    "\n",
    "    Has two methods:\n",
    "        - `bark` which returns \"Woof\" as a string.\n",
    "        - `give_toy` which gives a toy to the dog in question. This updates the\n",
    "          `toys` attribute.\n",
    "    \"\"\"\n",
    "\n",
    "    def give_toy(the_dog_in_question, toy):\n",
    "        \"\"\"\n",
    "        Updates the instances toys list.\n",
    "        \"\"\"\n",
    "        the_dog_in_question.toys.append(toy)"
   ]
  },
  {
   "cell_type": "markdown",
   "id": "d14f3054",
   "metadata": {},
   "source": [
    "Then we get the same outcome:"
   ]
  },
  {
   "cell_type": "code",
   "execution_count": 8,
   "id": "11ba2712",
   "metadata": {},
   "outputs": [
    {
     "data": {
      "text/plain": [
       "[]"
      ]
     },
     "execution_count": 8,
     "metadata": {},
     "output_type": "execute_result"
    }
   ],
   "source": [
    "riggins = OtherPetDog()\n",
    "riggins.toys"
   ]
  },
  {
   "cell_type": "code",
   "execution_count": 9,
   "id": "f3c14d4e",
   "metadata": {},
   "outputs": [
    {
     "data": {
      "text/plain": [
       "['ball']"
      ]
     },
     "execution_count": 9,
     "metadata": {},
     "output_type": "execute_result"
    }
   ],
   "source": [
    "riggins.give_toy(\"ball\")\n",
    "riggins.toys"
   ]
  },
  {
   "cell_type": "markdown",
   "id": "a7d2aaf4",
   "metadata": {},
   "source": [
    "Indeed the line `the_dog_in_question.toys.append(toy)` is run as\n",
    "`riggins.toys.append(toy)`.\n",
    "\n",
    "You should however use `self` as it is convention and helps with readability of\n",
    "your code.\n",
    "\n",
    "## Why do we use `CamelCase` for classes but `snake_case` for functions?\n",
    "\n",
    "This is specified by the Python convention:\n",
    "<https://www.python.org/dev/peps/pep-0008/>\n",
    "\n",
    "These conventions are important as it helps with readability of code.\n",
    "\n",
    "## What is the difference between a method and a function?\n",
    "\n",
    "A method is a function defined on a class and always takes a first argument\n",
    "which is the specific instance from which the method is called.\n",
    "\n",
    "## Other resources on objects\n",
    "\n",
    "- A non programmers tutorial for Python: Object Oriented Programming:\n",
    "  <https://en.wikibooks.org/wiki/Non-Programmer%27s_Tutorial_for_Python_3/Intro_to_Object_Oriented_Programming_in_Python_3>\n",
    "- A tutorial based on a role playing game:\n",
    "  <https://inventwithpython.com/blog/2014/12/02/why-is-object-oriented-programming-useful-with-a-role-playing-game-example/>\n",
    "- A video: <https://www.youtube.com/watch?v=trOZBgZ8F_c>"
   ]
  }
 ],
 "metadata": {
  "jupytext": {
   "formats": "ipynb,md:myst",
   "text_representation": {
    "extension": ".md",
    "format_name": "myst",
    "format_version": 0.12,
    "jupytext_version": "1.6.0"
   }
  },
  "kernelspec": {
   "display_name": "Python 3",
   "language": "python",
   "name": "python3"
  },
  "language_info": {
   "codemirror_mode": {
    "name": "ipython",
    "version": 3
   },
   "file_extension": ".py",
   "mimetype": "text/x-python",
   "name": "python",
   "nbconvert_exporter": "python",
   "pygments_lexer": "ipython3",
   "version": "3.10.13"
  },
  "source_map": [
   13,
   29,
   54,
   58,
   61,
   65,
   69,
   71,
   76,
   79,
   83,
   85,
   94,
   110,
   114,
   119,
   122
  ]
 },
 "nbformat": 4,
 "nbformat_minor": 5
}