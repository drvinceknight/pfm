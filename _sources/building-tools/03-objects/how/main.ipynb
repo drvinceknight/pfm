{
 "cells": [
  {
   "cell_type": "markdown",
   "id": "28bbef51",
   "metadata": {},
   "source": [
    "# How\n",
    "\n",
    "## How to define a class\n",
    "\n",
    "We define a class using the `class` keyword:\n",
    "\n",
    "````{tip}\n",
    "```\n",
    "class Name:\n",
    "    \"\"\"\n",
    "    A docstring between triple quotation to describe what the class represents\n",
    "    \"\"\"\n",
    "    INDENTED BLOCKS OF CODE\n",
    "```\n",
    "````\n",
    "\n",
    "For example to create a class for a country:"
   ]
  },
  {
   "cell_type": "code",
   "execution_count": 1,
   "id": "af021257",
   "metadata": {},
   "outputs": [],
   "source": [
    "class Country:\n",
    "    \"\"\"\n",
    "    A class to represent a country\n",
    "    \"\"\""
   ]
  },
  {
   "cell_type": "markdown",
   "id": "f3bb446e",
   "metadata": {},
   "source": [
    "## How to create an instance of the class\n",
    "\n",
    "Once a class is defined we call it using the `()`:\n",
    "\n",
    "````{tip}\n",
    "```\n",
    "Name()\n",
    "```\n",
    "````\n",
    "\n",
    "For example:"
   ]
  },
  {
   "cell_type": "code",
   "execution_count": 2,
   "id": "d91c425e",
   "metadata": {
    "tags": [
     "nbval-ignore-output"
    ]
   },
   "outputs": [
    {
     "data": {
      "text/plain": [
       "<__main__.Country at 0x7eff1c091cf0>"
      ]
     },
     "execution_count": 2,
     "metadata": {},
     "output_type": "execute_result"
    }
   ],
   "source": [
    "first_country = Country()\n",
    "first_country"
   ]
  },
  {
   "cell_type": "code",
   "execution_count": 3,
   "id": "91555e2e",
   "metadata": {
    "tags": [
     "nbval-ignore-output"
    ]
   },
   "outputs": [
    {
     "data": {
      "text/plain": [
       "<__main__.Country at 0x7eff1c091780>"
      ]
     },
     "execution_count": 3,
     "metadata": {},
     "output_type": "execute_result"
    }
   ],
   "source": [
    "second_country = Country()\n",
    "second_country"
   ]
  },
  {
   "cell_type": "markdown",
   "id": "03bf91ee",
   "metadata": {},
   "source": [
    "The at … is a pointer to the location of the instance in memory. If you re run\n",
    "the code that location will change.\n",
    "\n",
    "## How to create an attribute\n",
    "\n",
    "Attributes are variables that belong to instances of classes. There can be\n",
    "created and accessed using `.name_of_variable`.\n",
    "\n",
    "For example, the following creates the attributes:"
   ]
  },
  {
   "cell_type": "code",
   "execution_count": 4,
   "id": "55e2aa70",
   "metadata": {},
   "outputs": [],
   "source": [
    "first_country.name = \"Narnia\"\n",
    "first_country.amount_of_magic = 500"
   ]
  },
  {
   "cell_type": "markdown",
   "id": "22c4add0",
   "metadata": {},
   "source": [
    "We can access them:"
   ]
  },
  {
   "cell_type": "code",
   "execution_count": 5,
   "id": "f4f170a8",
   "metadata": {},
   "outputs": [
    {
     "data": {
      "text/plain": [
       "'Narnia'"
      ]
     },
     "execution_count": 5,
     "metadata": {},
     "output_type": "execute_result"
    }
   ],
   "source": [
    "first_country.name"
   ]
  },
  {
   "cell_type": "code",
   "execution_count": 6,
   "id": "aab5f180",
   "metadata": {},
   "outputs": [
    {
     "data": {
      "text/plain": [
       "500"
      ]
     },
     "execution_count": 6,
     "metadata": {},
     "output_type": "execute_result"
    }
   ],
   "source": [
    "first_country.amount_of_magic"
   ]
  },
  {
   "cell_type": "markdown",
   "id": "8475ae79",
   "metadata": {},
   "source": [
    "We can manipulate them in place:"
   ]
  },
  {
   "cell_type": "code",
   "execution_count": 7,
   "id": "ef990bb5",
   "metadata": {},
   "outputs": [
    {
     "data": {
      "text/plain": [
       "600"
      ]
     },
     "execution_count": 7,
     "metadata": {},
     "output_type": "execute_result"
    }
   ],
   "source": [
    "first_country.amount_of_magic += 100\n",
    "first_country.amount_of_magic"
   ]
  },
  {
   "cell_type": "markdown",
   "id": "bf00d502",
   "metadata": {},
   "source": [
    "## How to create and call a method\n",
    "\n",
    "Methods are functions that belong to classes. We define a function using the\n",
    "`def` keyword (short for define). The first variable of a method is always the\n",
    "specific instance that will call the method (it is passed implicitly).\n",
    "\n",
    "````{tip}\n",
    "```\n",
    "class Name:\n",
    "    \"\"\"\n",
    "    A docstring between triple quotation to describe what the class represents\n",
    "    \"\"\"\n",
    "    def name(self, variable1, variable2, …):\n",
    "        \"\"\"\n",
    "        A docstring between triple quotation to describe what is happening\n",
    "        \"\"\"\n",
    "        INDENTED BLOCK OF CODE\n",
    "        return output\n",
    "```\n",
    "````\n",
    "\n",
    "For example let us create a class for a country that has the ability to \"spend\"\n",
    "magic:"
   ]
  },
  {
   "cell_type": "code",
   "execution_count": 8,
   "id": "336c0aa7",
   "metadata": {},
   "outputs": [],
   "source": [
    "class Country:\n",
    "    \"\"\"\n",
    "    A class to represent a country\n",
    "    \"\"\"\n",
    "\n",
    "    def spend_magic(self, amount_spent):\n",
    "        \"\"\"Updates the magic attribute by subtracting amount_spent\"\"\"\n",
    "        self.amount_of_magic -= amount_spent"
   ]
  },
  {
   "cell_type": "markdown",
   "id": "7f8b6492",
   "metadata": {},
   "source": [
    "Now we can use it:"
   ]
  },
  {
   "cell_type": "code",
   "execution_count": 9,
   "id": "caae614e",
   "metadata": {},
   "outputs": [
    {
     "data": {
      "text/plain": [
       "400"
      ]
     },
     "execution_count": 9,
     "metadata": {},
     "output_type": "execute_result"
    }
   ],
   "source": [
    "first_country = Country()\n",
    "first_country.name = \"Narnia\"\n",
    "first_country.amount_of_magic = 500\n",
    "first_country.spend_magic(amount_spent=100)\n",
    "first_country.amount_of_magic"
   ]
  },
  {
   "cell_type": "markdown",
   "id": "a42b7c01",
   "metadata": {},
   "source": [
    "```{attention}\n",
    "Even though the method is defined as taking two variables as inputs: `self` and\n",
    "`amount_spent` we only have to explicitly pass it `amount_spent`. The first\n",
    "variable in a method definition always corresponds to the instance on which the\n",
    "method exists.\n",
    "```\n",
    "\n",
    "(how_to_create_and_call_magic_methods)=\n",
    "\n",
    "## How to create and call magic methods\n",
    "\n",
    "Some methods can be called in certain situations:\n",
    "\n",
    "- When creating an instance.\n",
    "- When wanting to display an instance.\n",
    "\n",
    "This are referred to as dunder methods as they are all in between two\n",
    "underscores: `__`.\n",
    "\n",
    "The method that is called when an instance is created is called `__init__` (for\n",
    "initialised). For example:"
   ]
  },
  {
   "cell_type": "code",
   "execution_count": 10,
   "id": "bc48ea1a",
   "metadata": {},
   "outputs": [],
   "source": [
    "class Country:\n",
    "    \"\"\"\n",
    "    A class to represent a country\n",
    "    \"\"\"\n",
    "\n",
    "    def __init__(self, name, amount_of_magic):\n",
    "        self.name = name\n",
    "        self.amount_of_magic = amount_of_magic"
   ]
  },
  {
   "cell_type": "markdown",
   "id": "dc63c54f",
   "metadata": {},
   "source": [
    "Now instead of creating an instance and then creating the attributes we can do\n",
    "those two things at the same time, by passing the variables to the class itself\n",
    "(which in turn passes them to the `__init__` method):"
   ]
  },
  {
   "cell_type": "code",
   "execution_count": 11,
   "id": "a54223c3",
   "metadata": {},
   "outputs": [
    {
     "data": {
      "text/plain": [
       "'Narnia'"
      ]
     },
     "execution_count": 11,
     "metadata": {},
     "output_type": "execute_result"
    }
   ],
   "source": [
    "first_country = Country(\"Narnia\", 500)\n",
    "first_country.name"
   ]
  },
  {
   "cell_type": "code",
   "execution_count": 12,
   "id": "deaa40dd",
   "metadata": {},
   "outputs": [
    {
     "data": {
      "text/plain": [
       "500"
      ]
     },
     "execution_count": 12,
     "metadata": {},
     "output_type": "execute_result"
    }
   ],
   "source": [
    "first_country.amount_of_magic"
   ]
  },
  {
   "cell_type": "markdown",
   "id": "b5777e8b",
   "metadata": {},
   "source": [
    "The method that returns a representation of an instance is `__repr__`. For\n",
    "example:"
   ]
  },
  {
   "cell_type": "code",
   "execution_count": 13,
   "id": "a733a0f7",
   "metadata": {},
   "outputs": [],
   "source": [
    "class Country:\n",
    "    \"\"\"\n",
    "    A class to represent a country\n",
    "    \"\"\"\n",
    "\n",
    "    def __init__(self, name, amount_of_magic):\n",
    "        self.name = name\n",
    "        self.amount_of_magic = amount_of_magic\n",
    "\n",
    "    def __repr__(self):\n",
    "        \"\"\"Returns a string representation of the instance\"\"\"\n",
    "        return f\"{self.name} with {self.amount_of_magic} magic.\""
   ]
  },
  {
   "cell_type": "code",
   "execution_count": 14,
   "id": "f6bb057f",
   "metadata": {},
   "outputs": [
    {
     "data": {
      "text/plain": [
       "Narnia with 500 magic."
      ]
     },
     "execution_count": 14,
     "metadata": {},
     "output_type": "execute_result"
    }
   ],
   "source": [
    "first_country = Country(\"Narnia\", 500)\n",
    "first_country"
   ]
  },
  {
   "cell_type": "markdown",
   "id": "801631ba",
   "metadata": {},
   "source": [
    "There are numerous other magic methods, such as the `__add__` one used in\n",
    "{ref}`objects_tutorial`.\n",
    "\n",
    "(how_to_use_inheritance)=\n",
    "## How to use inheritance\n",
    "\n",
    "Inheritance is a tool that allows us to create one class based on another. This\n",
    "is done by passing the `Old` class to the `New` class.\n",
    "\n",
    "````{tip}\n",
    "```\n",
    "class New(Old)\n",
    "```\n",
    "````\n",
    "\n",
    "For example let us create a class of `MuggleCountry` that overwrites the\n",
    "`__init__` method but keeps the `__rep__` method of the `Country` class written\n",
    "in {ref}`how_to_create_and_call_magic_methods`:"
   ]
  },
  {
   "cell_type": "code",
   "execution_count": 15,
   "id": "52b31389",
   "metadata": {},
   "outputs": [],
   "source": [
    "class MuggleCountry(Country):\n",
    "    \"\"\"\n",
    "    A class to represent a country with no magic. It only requires the name on\n",
    "    initialisation.\n",
    "    \"\"\"\n",
    "\n",
    "    def __init__(self, name):\n",
    "        self.name = name\n",
    "        self.amount_of_magic = 0"
   ]
  },
  {
   "cell_type": "markdown",
   "id": "9a632842",
   "metadata": {},
   "source": [
    "This has replaced the `__init__` method but the `__repr__` method is the same:"
   ]
  },
  {
   "cell_type": "code",
   "execution_count": 16,
   "id": "47c1e5ae",
   "metadata": {},
   "outputs": [
    {
     "data": {
      "text/plain": [
       "Wales with 0 magic."
      ]
     },
     "execution_count": 16,
     "metadata": {},
     "output_type": "execute_result"
    }
   ],
   "source": [
    "other_country = MuggleCountry(\"Wales\")\n",
    "other_country"
   ]
  }
 ],
 "metadata": {
  "jupytext": {
   "formats": "ipynb,md:myst",
   "text_representation": {
    "extension": ".md",
    "format_name": "myst",
    "format_version": 0.12,
    "jupytext_version": "1.6.0"
   }
  },
  "kernelspec": {
   "display_name": "Python 3",
   "language": "python",
   "name": "python3"
  },
  "language_info": {
   "codemirror_mode": {
    "name": "ipython",
    "version": 3
   },
   "file_extension": ".py",
   "mimetype": "text/x-python",
   "name": "python",
   "nbconvert_exporter": "python",
   "pygments_lexer": "ipython3",
   "version": "3.10.13"
  },
  "source_map": [
   13,
   33,
   38,
   52,
   59,
   64,
   76,
   79,
   83,
   87,
   89,
   93,
   96,
   122,
   131,
   135,
   141,
   165,
   174,
   180,
   185,
   187,
   192,
   207,
   210,
   231,
   241,
   245
  ]
 },
 "nbformat": 4,
 "nbformat_minor": 5
}