{
 "cells": [
  {
   "cell_type": "markdown",
   "id": "11a8d3c1",
   "metadata": {},
   "source": [
    "# How\n",
    "\n",
    "## How to define a class\n",
    "\n",
    "We define a class using the `class` keyword:\n",
    "\n",
    "````{tip}\n",
    "```\n",
    "class Name:\n",
    "    \"\"\"\n",
    "    A docstring between triple quotation to describe what the class represents\n",
    "    \"\"\"\n",
    "    INDENTED BLOCKS OF CODE\n",
    "```\n",
    "````\n",
    "\n",
    "For example to create a class for a country:"
   ]
  },
  {
   "cell_type": "code",
   "execution_count": 1,
   "id": "78e7595a",
   "metadata": {},
   "outputs": [],
   "source": [
    "class Country:\n",
    "    \"\"\"\n",
    "    A class to represent a country\n",
    "    \"\"\""
   ]
  },
  {
   "cell_type": "markdown",
   "id": "d6d77e52",
   "metadata": {},
   "source": [
    "## How to create an instance of the class\n",
    "\n",
    "Once a class is defined we call it using the `()`:\n",
    "\n",
    "````{tip}\n",
    "```\n",
    "Name()\n",
    "```\n",
    "````\n",
    "\n",
    "For example:"
   ]
  },
  {
   "cell_type": "code",
   "execution_count": 2,
   "id": "8fef8109",
   "metadata": {
    "tags": [
     "nbval-ignore-output"
    ]
   },
   "outputs": [
    {
     "data": {
      "text/plain": [
       "<__main__.Country at 0x7f22a8f76e00>"
      ]
     },
     "execution_count": 2,
     "metadata": {},
     "output_type": "execute_result"
    }
   ],
   "source": [
    "first_country = Country()\n",
    "first_country"
   ]
  },
  {
   "cell_type": "code",
   "execution_count": 3,
   "id": "f4ca3659",
   "metadata": {
    "tags": [
     "nbval-ignore-output"
    ]
   },
   "outputs": [
    {
     "data": {
      "text/plain": [
       "<__main__.Country at 0x7f22a8f76e30>"
      ]
     },
     "execution_count": 3,
     "metadata": {},
     "output_type": "execute_result"
    }
   ],
   "source": [
    "second_country = Country()\n",
    "second_country"
   ]
  },
  {
   "cell_type": "markdown",
   "id": "d9e08a7f",
   "metadata": {},
   "source": [
    "The at … is a pointer to the location of the instance in memory. If you re run\n",
    "the code that location will change.\n",
    "\n",
    "## How to create an attribute\n",
    "\n",
    "Attributes are variables that belong to instances of classes. There can be\n",
    "created and accessed using `.name_of_variable`.\n",
    "\n",
    "For example, the following creates the attributes:"
   ]
  },
  {
   "cell_type": "code",
   "execution_count": 4,
   "id": "b10c71bb",
   "metadata": {},
   "outputs": [],
   "source": [
    "first_country.name = \"Narnia\"\n",
    "first_country.amount_of_magic = 500"
   ]
  },
  {
   "cell_type": "markdown",
   "id": "8edaccf5",
   "metadata": {},
   "source": [
    "We can access them:"
   ]
  },
  {
   "cell_type": "code",
   "execution_count": 5,
   "id": "113f2745",
   "metadata": {},
   "outputs": [
    {
     "data": {
      "text/plain": [
       "'Narnia'"
      ]
     },
     "execution_count": 5,
     "metadata": {},
     "output_type": "execute_result"
    }
   ],
   "source": [
    "first_country.name"
   ]
  },
  {
   "cell_type": "code",
   "execution_count": 6,
   "id": "95dd9260",
   "metadata": {},
   "outputs": [
    {
     "data": {
      "text/plain": [
       "500"
      ]
     },
     "execution_count": 6,
     "metadata": {},
     "output_type": "execute_result"
    }
   ],
   "source": [
    "first_country.amount_of_magic"
   ]
  },
  {
   "cell_type": "markdown",
   "id": "1bf6680a",
   "metadata": {},
   "source": [
    "We can manipulate them in place:"
   ]
  },
  {
   "cell_type": "code",
   "execution_count": 7,
   "id": "41d60cd8",
   "metadata": {},
   "outputs": [
    {
     "data": {
      "text/plain": [
       "600"
      ]
     },
     "execution_count": 7,
     "metadata": {},
     "output_type": "execute_result"
    }
   ],
   "source": [
    "first_country.amount_of_magic += 100\n",
    "first_country.amount_of_magic"
   ]
  },
  {
   "cell_type": "markdown",
   "id": "bf36a0d8",
   "metadata": {},
   "source": [
    "## How to create and call a method\n",
    "\n",
    "Methods are functions that belong to classes. We define a function using the\n",
    "`def` keyword (short for define). The first variable of a method is always the\n",
    "specific instance that will call the method (it is passed implicitly).\n",
    "\n",
    "````{tip}\n",
    "```\n",
    "class Name:\n",
    "    \"\"\"\n",
    "    A docstring between triple quotation to describe what the class represents\n",
    "    \"\"\"\n",
    "    def name(self, parameter1, parameter2, …):\n",
    "        \"\"\"\n",
    "        <A description of what the method is.>\n",
    "\n",
    "        Parameters\n",
    "        ----------\n",
    "        parameter1 : <type of parameter1>\n",
    "            <description of parameter1>\n",
    "        parameter2 : <type of parameter2>\n",
    "            <description of parameter2>\n",
    "        ...\n",
    "\n",
    "        Returns\n",
    "        -------\n",
    "        <type of what the function returns>\n",
    "            <description of what the function returns>\n",
    "\n",
    "        \"\"\"\n",
    "        INDENTED BLOCK OF CODE\n",
    "        return output\n",
    "```\n",
    "````\n",
    "\n",
    "For example let us create a class for a country that has the ability to \"spend\"\n",
    "magic:"
   ]
  },
  {
   "cell_type": "code",
   "execution_count": 8,
   "id": "cbad7b48",
   "metadata": {},
   "outputs": [],
   "source": [
    "class Country:\n",
    "    \"\"\"\n",
    "    A class to represent a country\n",
    "    \"\"\"\n",
    "\n",
    "    def spend_magic(self, amount_spent):\n",
    "        \"\"\"\n",
    "        Updates the magic attribute by subtracting amount_spent\n",
    "\n",
    "        Parameters\n",
    "        ----------\n",
    "        amount_spent : float\n",
    "            The amount of mana used.\n",
    "        \"\"\"\n",
    "        self.amount_of_magic -= amount_spent"
   ]
  },
  {
   "cell_type": "markdown",
   "id": "7c859559",
   "metadata": {},
   "source": [
    "Now we can use it:"
   ]
  },
  {
   "cell_type": "code",
   "execution_count": 9,
   "id": "4be22b69",
   "metadata": {},
   "outputs": [
    {
     "data": {
      "text/plain": [
       "400"
      ]
     },
     "execution_count": 9,
     "metadata": {},
     "output_type": "execute_result"
    }
   ],
   "source": [
    "first_country = Country()\n",
    "first_country.name = \"Narnia\"\n",
    "first_country.amount_of_magic = 500\n",
    "first_country.spend_magic(amount_spent=100)\n",
    "first_country.amount_of_magic"
   ]
  },
  {
   "cell_type": "markdown",
   "id": "09b75334",
   "metadata": {},
   "source": [
    "```{attention}\n",
    "Even though the method is defined as taking two variables as inputs: `self` and\n",
    "`amount_spent` we only have to explicitly pass it `amount_spent`. The first\n",
    "variable in a method definition always corresponds to the instance on which the\n",
    "method exists.\n",
    "```\n",
    "\n",
    "(how_to_create_and_call_magic_methods)=\n",
    "\n",
    "## How to create and call magic methods\n",
    "\n",
    "Some methods can be called in certain situations:\n",
    "\n",
    "- When creating an instance.\n",
    "- When wanting to display an instance.\n",
    "\n",
    "This are referred to as dunder methods as they are all in between two\n",
    "underscores: `__`.\n",
    "\n",
    "The method that is called when an instance is created is called `__init__` (for\n",
    "initialised). For example:"
   ]
  },
  {
   "cell_type": "code",
   "execution_count": 10,
   "id": "d7a6bf3e",
   "metadata": {},
   "outputs": [],
   "source": [
    "class Country:\n",
    "    \"\"\"\n",
    "    A class to represent a country\n",
    "    \"\"\"\n",
    "\n",
    "    def __init__(self, name, amount_of_magic):\n",
    "        self.name = name\n",
    "        self.amount_of_magic = amount_of_magic"
   ]
  },
  {
   "cell_type": "markdown",
   "id": "d76de3fe",
   "metadata": {},
   "source": [
    "Now instead of creating an instance and then creating the attributes we can do\n",
    "those two things at the same time, by passing the variables to the class itself\n",
    "(which in turn passes them to the `__init__` method):"
   ]
  },
  {
   "cell_type": "code",
   "execution_count": 11,
   "id": "e071e801",
   "metadata": {},
   "outputs": [
    {
     "data": {
      "text/plain": [
       "'Narnia'"
      ]
     },
     "execution_count": 11,
     "metadata": {},
     "output_type": "execute_result"
    }
   ],
   "source": [
    "first_country = Country(\"Narnia\", 500)\n",
    "first_country.name"
   ]
  },
  {
   "cell_type": "code",
   "execution_count": 12,
   "id": "2849e821",
   "metadata": {},
   "outputs": [
    {
     "data": {
      "text/plain": [
       "500"
      ]
     },
     "execution_count": 12,
     "metadata": {},
     "output_type": "execute_result"
    }
   ],
   "source": [
    "first_country.amount_of_magic"
   ]
  },
  {
   "cell_type": "markdown",
   "id": "94c33db4",
   "metadata": {},
   "source": [
    "The method that returns a representation of an instance is `__repr__`. For\n",
    "example:"
   ]
  },
  {
   "cell_type": "code",
   "execution_count": 13,
   "id": "c5555eca",
   "metadata": {},
   "outputs": [],
   "source": [
    "class Country:\n",
    "    \"\"\"\n",
    "    A class to represent a country\n",
    "    \"\"\"\n",
    "\n",
    "    def __init__(self, name, amount_of_magic):\n",
    "        self.name = name\n",
    "        self.amount_of_magic = amount_of_magic\n",
    "\n",
    "    def __repr__(self):\n",
    "        \"\"\"Returns a string representation of the instance\"\"\"\n",
    "        return f\"{self.name} with {self.amount_of_magic} magic.\""
   ]
  },
  {
   "cell_type": "code",
   "execution_count": 14,
   "id": "b1f51087",
   "metadata": {},
   "outputs": [
    {
     "data": {
      "text/plain": [
       "Narnia with 500 magic."
      ]
     },
     "execution_count": 14,
     "metadata": {},
     "output_type": "execute_result"
    }
   ],
   "source": [
    "first_country = Country(\"Narnia\", 500)\n",
    "first_country"
   ]
  },
  {
   "cell_type": "markdown",
   "id": "6b865e29",
   "metadata": {},
   "source": [
    "There are numerous other magic methods, such as the `__add__` one used in\n",
    "{ref}`objects_tutorial`.\n",
    "\n",
    "(how_to_use_inheritance)=\n",
    "\n",
    "## How to use inheritance\n",
    "\n",
    "Inheritance is a tool that allows us to create one class based on another. This\n",
    "is done by passing the `Old` class to the `New` class.\n",
    "\n",
    "````{tip}\n",
    "```\n",
    "class New(Old)\n",
    "```\n",
    "````\n",
    "\n",
    "For example let us create a class of `MuggleCountry` that overwrites the\n",
    "`__init__` method but keeps the `__rep__` method of the `Country` class written\n",
    "in {ref}`how_to_create_and_call_magic_methods`:"
   ]
  },
  {
   "cell_type": "code",
   "execution_count": 15,
   "id": "f8b04ac5",
   "metadata": {},
   "outputs": [],
   "source": [
    "class MuggleCountry(Country):\n",
    "    \"\"\"\n",
    "    A class to represent a country with no magic. It only requires the name on\n",
    "    initialisation.\n",
    "    \"\"\"\n",
    "\n",
    "    def __init__(self, name):\n",
    "        self.name = name\n",
    "        self.amount_of_magic = 0"
   ]
  },
  {
   "cell_type": "markdown",
   "id": "ac74fa1e",
   "metadata": {},
   "source": [
    "This has replaced the `__init__` method but the `__repr__` method is the same:"
   ]
  },
  {
   "cell_type": "code",
   "execution_count": 16,
   "id": "fa5e8b21",
   "metadata": {},
   "outputs": [
    {
     "data": {
      "text/plain": [
       "Wales with 0 magic."
      ]
     },
     "execution_count": 16,
     "metadata": {},
     "output_type": "execute_result"
    }
   ],
   "source": [
    "other_country = MuggleCountry(\"Wales\")\n",
    "other_country"
   ]
  }
 ],
 "metadata": {
  "jupytext": {
   "formats": "ipynb,md:myst",
   "text_representation": {
    "extension": ".md",
    "format_name": "myst",
    "format_version": 0.12,
    "jupytext_version": "1.6.0"
   }
  },
  "kernelspec": {
   "display_name": "Python 3",
   "language": "python",
   "name": "python3"
  },
  "language_info": {
   "codemirror_mode": {
    "name": "ipython",
    "version": 3
   },
   "file_extension": ".py",
   "mimetype": "text/x-python",
   "name": "python",
   "nbconvert_exporter": "python",
   "pygments_lexer": "ipython3",
   "version": "3.10.14"
  },
  "source_map": [
   13,
   33,
   38,
   52,
   59,
   64,
   76,
   79,
   83,
   87,
   89,
   93,
   96,
   136,
   152,
   156,
   162,
   186,
   195,
   201,
   206,
   208,
   213,
   228,
   231,
   253,
   263,
   267
  ]
 },
 "nbformat": 4,
 "nbformat_minor": 5
}