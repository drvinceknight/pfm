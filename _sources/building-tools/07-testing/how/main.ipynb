{
 "cells": [
  {
   "cell_type": "markdown",
   "id": "505b1ae5",
   "metadata": {},
   "source": [
    "# How\n",
    "\n",
    "## How to write an `assert` statement?\n",
    "\n",
    "An `assert` statement is followed by 2 values: a boolean and an optional\n",
    "string that gets returned if the boolean is `False`.\n",
    "\n",
    "````{tip}\n",
    "```\n",
    "assert boolean, string\n",
    "```\n",
    "````\n",
    "\n",
    "For example, given a function that adds one to a variable:"
   ]
  },
  {
   "cell_type": "code",
   "execution_count": 1,
   "id": "3f2d7821",
   "metadata": {},
   "outputs": [],
   "source": [
    "def add_one(a):\n",
    "    \"\"\"\n",
    "    Returns a + 1\n",
    "    \"\"\"\n",
    "    return a + 1"
   ]
  },
  {
   "cell_type": "markdown",
   "id": "23b22415",
   "metadata": {},
   "source": [
    "We can assert that we have the expected behaviour:"
   ]
  },
  {
   "cell_type": "code",
   "execution_count": 2,
   "id": "ea32053c",
   "metadata": {},
   "outputs": [],
   "source": [
    "assert add_one(5) == 6, \"The function gave the wrong answer.\""
   ]
  },
  {
   "cell_type": "markdown",
   "id": "3d6c7d1c",
   "metadata": {},
   "source": [
    "Note that if we change the function to include an error for example here adding\n",
    "2 and not 1, and run the same assert\n",
    "we get an error as well as the specific string,"
   ]
  },
  {
   "cell_type": "code",
   "execution_count": 3,
   "id": "7196e71f",
   "metadata": {
    "tags": [
     "raises-exception"
    ]
   },
   "outputs": [
    {
     "ename": "AssertionError",
     "evalue": "The function gave the wrong answer.",
     "output_type": "error",
     "traceback": [
      "\u001b[0;31m---------------------------------------------------------------------------\u001b[0m",
      "\u001b[0;31mAssertionError\u001b[0m                            Traceback (most recent call last)",
      "Cell \u001b[0;32mIn[3], line 8\u001b[0m\n\u001b[1;32m      2\u001b[0m \u001b[38;5;250m    \u001b[39m\u001b[38;5;124;03m\"\"\"\u001b[39;00m\n\u001b[1;32m      3\u001b[0m \u001b[38;5;124;03m    Returns a + 1\u001b[39;00m\n\u001b[1;32m      4\u001b[0m \u001b[38;5;124;03m    \"\"\"\u001b[39;00m\n\u001b[1;32m      5\u001b[0m     \u001b[38;5;28;01mreturn\u001b[39;00m a \u001b[38;5;241m+\u001b[39m \u001b[38;5;241m2\u001b[39m\n\u001b[0;32m----> 8\u001b[0m \u001b[38;5;28;01massert\u001b[39;00m add_one(\u001b[38;5;241m5\u001b[39m) \u001b[38;5;241m==\u001b[39m \u001b[38;5;241m6\u001b[39m, \u001b[38;5;124m\"\u001b[39m\u001b[38;5;124mThe function gave the wrong answer.\u001b[39m\u001b[38;5;124m\"\u001b[39m\n",
      "\u001b[0;31mAssertionError\u001b[0m: The function gave the wrong answer."
     ]
    }
   ],
   "source": [
    "def add_one(a):\n",
    "    \"\"\"\n",
    "    Returns a + 1\n",
    "    \"\"\"\n",
    "    return a + 2\n",
    "\n",
    "\n",
    "assert add_one(5) == 6, \"The function gave the wrong answer.\""
   ]
  },
  {
   "cell_type": "markdown",
   "id": "022ecc16",
   "metadata": {},
   "source": [
    "## How to write `assert` statements for code that acts randomly?\n",
    "\n",
    "When making an assertion about code that behaves in a random manner, we use\n",
    "seeding as described in {ref}`reproduce_random_events`.\n",
    "\n",
    "For example:"
   ]
  },
  {
   "cell_type": "code",
   "execution_count": 4,
   "id": "d1ec53c7",
   "metadata": {},
   "outputs": [],
   "source": [
    "import random\n",
    "\n",
    "\n",
    "def roll_a_dice():\n",
    "    \"\"\"\n",
    "    Pick a random integer between 1 and 6 (inclusive)\n",
    "    \"\"\"\n",
    "    return random.choice(range(1, 7))"
   ]
  },
  {
   "cell_type": "markdown",
   "id": "e903edb7",
   "metadata": {},
   "source": [
    "To test this we can include a number of seeded assertions:"
   ]
  },
  {
   "cell_type": "code",
   "execution_count": 5,
   "id": "a692165b",
   "metadata": {},
   "outputs": [],
   "source": [
    "random.seed(0)\n",
    "assert roll_a_dice() == 4, \"The 0 seed did not give the expected result\"\n",
    "random.seed(1)\n",
    "assert roll_a_dice() == 2, \"The 1 seed did not give the expected result\"\n",
    "random.seed(2)\n",
    "assert roll_a_dice() == 1, \"The 2 seed did not give the expected result\"\n",
    "random.seed(3)\n",
    "assert roll_a_dice() == 2, \"The 3 seed did not give the expected result\""
   ]
  },
  {
   "cell_type": "markdown",
   "id": "da4fcd3f",
   "metadata": {},
   "source": [
    "We can also check behaviour over a number of repetitions:"
   ]
  },
  {
   "cell_type": "code",
   "execution_count": 6,
   "id": "798bff87",
   "metadata": {
    "tags": [
     "style-check-ignore"
    ]
   },
   "outputs": [],
   "source": [
    "random.seed(0)\n",
    "samples = [roll_a_dice() for repetition in range(1000)]\n",
    "all_values = {1, 2, 3, 4, 5, 6}\n",
    "assert set(samples) == all_values, \"Not all values have been obtained over 1000 repetitions\""
   ]
  },
  {
   "cell_type": "markdown",
   "id": "53318b30",
   "metadata": {},
   "source": [
    "We can also confirm that the count of a given value is in an expected range:"
   ]
  },
  {
   "cell_type": "code",
   "execution_count": 7,
   "id": "b1039926",
   "metadata": {},
   "outputs": [],
   "source": [
    "assert [samples.count(k) for k in range(1, 7)] == [193, 150, 166, 170, 152, 169], \"The count of the values is not giving the expected count\""
   ]
  },
  {
   "cell_type": "markdown",
   "id": "aa0ef850",
   "metadata": {},
   "source": [
    "```{tip}\n",
    "The last assertion used the `count` method on a list that counts a given number\n",
    "of items in a list.\n",
    "```\n",
    "\n",
    "## How to write a test file?\n",
    "\n",
    "To write tests assertion statement can be put in to a file separate to the code\n",
    "in functions.\n",
    "\n",
    "For example, if the `dice.py` file contained:\n",
    "\n",
    "```python\n",
    "import random\n",
    "\n",
    "\n",
    "def roll_a_dice():\n",
    "    \"\"\"\n",
    "    Pick a random integer between 1 and 6 (inclusive)\n",
    "    \"\"\"\n",
    "    return random.choice(range(1, 7))\n",
    "```\n",
    "\n",
    "Then a separate `test_dice.py` file with the following would be written:\n",
    "\n",
    "```py\n",
    "import dice\n",
    "\n",
    "\n",
    "def test_roll_a_dice_with_specific_values():\n",
    "    \"\"\"\n",
    "    Check the roll a dice function gives specific numbers for a number of seeds.\n",
    "    \"\"\"\n",
    "    random.seed(0)\n",
    "    assert dice.roll_a_dice() == 4, \"The 0 seed did not give the expected result\"\n",
    "    random.seed(1)\n",
    "    assert dice.roll_a_dice() == 2, \"The 1 seed did not give the expected result\"\n",
    "    random.seed(2)\n",
    "    assert dice.roll_a_dice() == 1, \"The 2 seed did not give the expected result\"\n",
    "    random.seed(3)\n",
    "    assert dice.roll_a_dice() == 2, \"The 3 seed did not give the expected result\"\n",
    "\n",
    "\n",
    "def test_roll_a_dice_for_a_large_sample():\n",
    "    \"\"\"\n",
    "    Collect a sample of 1000 rolls and confirm that we have expected results.\n",
    "    \"\"\"\n",
    "    random.seed(0)\n",
    "    samples = [dice.roll_a_dice() for repetition in range(1000)]\n",
    "    all_values = {1, 2, 3, 4, 5, 6}\n",
    "    assert set(samples) == all_values, \"Not all values have been obtained over 1000 repetitions\"\n",
    "    expected_counts = [193, 150, 166, 170, 152, 169]\n",
    "    assert [samples.count(k) for k in range(1, 7)] == expected_counts, \"The count of the values is not giving the expected count\"\n",
    "\n",
    "test_roll_a_dice_with_specific_values()\n",
    "test_roll_a_dice_for_a_large_sample()\n",
    "```\n",
    "\n",
    "To run the tests we would then type the following at the command line:\n",
    "\n",
    "```bash\n",
    "$ python test_dice.py\n",
    "```\n",
    "\n",
    "## How to format doc tests?\n",
    "\n",
    "When writing code in documentation if we write it using a specific format then\n",
    "python can be used to confirm that the code and its output is correct.\n",
    "\n",
    "````{tip}\n",
    "```\n",
    ">>> <python_code>\n",
    "<expected_output\n",
    ">>> <python_code_over_multiples_lines>\n",
    "... <python_code_over_multiple_lines>\n",
    "<expected_output>\n",
    "```\n",
    "````\n",
    "\n",
    "- `>>>` is marks the start of a python statement.\n",
    "- `...` is used if the statement is multiple lines.\n",
    "- The expected output is written after the python statements.\n",
    "\n",
    "For example if we were documenting the following code written in a `dice.py`\n",
    "file:\n",
    "\n",
    "```python\n",
    "import random\n",
    "\n",
    "\n",
    "def roll_a_dice():\n",
    "    \"\"\"\n",
    "    Pick a random integer between 1 and 6 (inclusive)\n",
    "    \"\"\"\n",
    "    return random.choice(range(1, 7))\n",
    "```\n",
    "\n",
    "We would write:\n",
    "\n",
    "```\n",
    ">>> import dice\n",
    ">>> random.seed(0)\n",
    ">>> dice.roll_a_dice()\n",
    "4\n",
    "\n",
    "```\n",
    "\n",
    "## How to run doctests?\n",
    "\n",
    "Given a <file> with doctests to run them we type the following at the\n",
    "command line:\n",
    "\n",
    "````{tip}\n",
    "```\n",
    "$ python -m doctest <file>\n",
    "```\n",
    "````\n",
    "\n",
    "For example:\n",
    "\n",
    "```bash\n",
    "python -m doctest README.md\n",
    "```"
   ]
  }
 ],
 "metadata": {
  "jupytext": {
   "formats": "ipynb,md:myst",
   "text_representation": {
    "extension": ".md",
    "format_name": "myst",
    "format_version": 0.12,
    "jupytext_version": "1.6.0"
   }
  },
  "kernelspec": {
   "display_name": "Python 3",
   "language": "python",
   "name": "python3"
  },
  "language_info": {
   "codemirror_mode": {
    "name": "ipython",
    "version": 3
   },
   "file_extension": ".py",
   "mimetype": "text/x-python",
   "name": "python",
   "nbconvert_exporter": "python",
   "pygments_lexer": "ipython3",
   "version": "3.10.14"
  },
  "source_map": [
   13,
   30,
   36,
   40,
   42,
   48,
   59,
   68,
   77,
   81,
   90,
   94,
   101,
   105,
   107
  ]
 },
 "nbformat": 4,
 "nbformat_minor": 5
}