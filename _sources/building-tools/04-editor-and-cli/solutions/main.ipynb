{
 "cells": [
  {
   "cell_type": "markdown",
   "id": "238d12db",
   "metadata": {},
   "source": [
    "# Solutions\n",
    "\n",
    "## Question 1\n",
    "\n",
    "> `1`. Use the REPL (read eval print loop) to carry out the following calculations:\n",
    "\n",
    "> `1`. $3 + 8$\n",
    "\n",
    "> `2`. $3 / 7$\n",
    "\n",
    "> `3`. $456 / 21$\n",
    "\n",
    "> `4`. $\\frac{4 ^ 3 + 2}{2\\times 5} - 5 ^ {\\frac{1}{2}}$\n",
    "\n",
    "![](./img/using_the_repl/main.png)\n",
    "\n",
    "Click the toggle (\"Click to Show\") to see a demo of this:\n",
    "\n",
    "```{toggle}\n",
    "![](./img/using_the_repl_animation/main.gif)\n",
    "```\n",
    "\n",
    "## Question 2\n",
    "\n",
    "> `2`.. Install the Python plugin for VScode.\n",
    "\n",
    "The [How to install VScode plugins section](how_to_install_a_vscode_plugin)\n",
    "describes how to do this and includes an animation with a demonstration.\n",
    "\n",
    "## Question 3\n",
    "\n",
    "> `3`. Use the command line and a python script written in VScode to solve the\n",
    "> following problems:\n",
    "\n",
    "> `1`. Find the solutions to the following equation: $x ^ 2 - 3 x + 2 = 1$.\n",
    "\n",
    "The code to do this:"
   ]
  },
  {
   "cell_type": "code",
   "execution_count": 1,
   "id": "971e3dda",
   "metadata": {},
   "outputs": [
    {
     "name": "stdout",
     "output_type": "stream",
     "text": [
      "{3/2 - sqrt(5)/2, sqrt(5)/2 + 3/2}\n"
     ]
    }
   ],
   "source": [
    "import sympy as sym\n",
    "\n",
    "x = sym.Symbol(\"x\")\n",
    "equation = sym.Eq(x ** 2 - 3 * x + 2, 1)\n",
    "print(sym.solveset(equation))"
   ]
  },
  {
   "cell_type": "markdown",
   "id": "ca5fb924",
   "metadata": {},
   "source": [
    "Click the toggle (\"Click to Show\") to see a demo running this:\n",
    "\n",
    "```{toggle}\n",
    "![](./img/using_vscode_question_1/main.gif)\n",
    "```\n",
    "\n",
    "> `2`. Differentiate the following function: $f(x) = \\cos(x) / 4$"
   ]
  },
  {
   "cell_type": "code",
   "execution_count": 2,
   "id": "11850c60",
   "metadata": {},
   "outputs": [
    {
     "name": "stdout",
     "output_type": "stream",
     "text": [
      "-sin(x)/4\n"
     ]
    }
   ],
   "source": [
    "import sympy as sym\n",
    "\n",
    "x = sym.Symbol(\"x\")\n",
    "f = sym.cos(x) / 4\n",
    "print(sym.diff(f, x))"
   ]
  },
  {
   "cell_type": "markdown",
   "id": "ff889c62",
   "metadata": {},
   "source": [
    "Click the toggle (\"Click to Show\") to see a demo running this:\n",
    "\n",
    "```{toggle}\n",
    "![](./img/using_vscode_question_2/main.gif)\n",
    "```\n",
    "\n",
    "> `3`. Find the determinant of $A = \\begin{pmatrix} 1 / 5 & 1\\\\1 & 1\\end{pmatrix}$."
   ]
  },
  {
   "cell_type": "code",
   "execution_count": 3,
   "id": "4305c7cb",
   "metadata": {},
   "outputs": [
    {
     "name": "stdout",
     "output_type": "stream",
     "text": [
      "-4/5\n"
     ]
    }
   ],
   "source": [
    "import sympy as sym\n",
    "\n",
    "A = sym.Matrix([[sym.S(1) / 5, 1], [1, 1]])\n",
    "print(sym.det(A))"
   ]
  },
  {
   "cell_type": "markdown",
   "id": "c6f44f78",
   "metadata": {},
   "source": [
    "Click the toggle (\"Click to Show\") to see a demo running this:\n",
    "\n",
    "```{toggle}\n",
    "![](./img/using_vscode_question_3/main.gif)\n",
    "```\n",
    "\n",
    "> `4`. Count the number of ways of picking 2 letters from \"ABCD\" where order\n",
    "\n",
    "      does not matter."
   ]
  },
  {
   "cell_type": "code",
   "execution_count": 4,
   "id": "830b9180",
   "metadata": {},
   "outputs": [
    {
     "name": "stdout",
     "output_type": "stream",
     "text": [
      "6\n"
     ]
    }
   ],
   "source": [
    "import itertools\n",
    "\n",
    "combinations = tuple(itertools.combinations(\"ABCD\", r=2))\n",
    "print(len(combinations))"
   ]
  },
  {
   "cell_type": "markdown",
   "id": "706f7500",
   "metadata": {},
   "source": [
    "Click the toggle (\"Click to Show\") to see a demo running this:\n",
    "\n",
    "```{toggle}\n",
    "![](./img/using_vscode_question_4/main.gif)\n",
    "```\n",
    "\n",
    "> `5`. Simulate the probability of picking a red token from a bag with 3 red\n",
    "\n",
    "      rokens, 5 blue tokens and a yellow token."
   ]
  },
  {
   "cell_type": "code",
   "execution_count": 5,
   "id": "4da169c9",
   "metadata": {},
   "outputs": [
    {
     "name": "stdout",
     "output_type": "stream",
     "text": [
      "0.3349\n"
     ]
    }
   ],
   "source": [
    "import random\n",
    "\n",
    "\n",
    "def pick_token():\n",
    "    \"\"\"\n",
    "    Pick a token from a bag with 3 red and 5 blue and a yellow\n",
    "\n",
    "    Returns\n",
    "    -------\n",
    "    str\n",
    "        Either \"Red\", \"Blue\" or \"Yellow\"\n",
    "    \"\"\"\n",
    "    bag = [\"Red\"] * 3 + [\"Blue\"] * 5 + [\"Yellow\"]\n",
    "    return random.choice(bag)\n",
    "\n",
    "\n",
    "number_of_repetitions = 10000\n",
    "random.seed(0)\n",
    "selections_with_red = [\n",
    "    pick_token() == \"Red\" for repetition in range(number_of_repetitions)\n",
    "]\n",
    "print(sum(selections_with_red) / number_of_repetitions)"
   ]
  },
  {
   "cell_type": "markdown",
   "id": "50fadaa8",
   "metadata": {},
   "source": [
    "Click the toggle (\"Click to Show\") to see a demo running this:\n",
    "\n",
    "```{toggle}\n",
    "![](./img/using_vscode_question_5/main.gif)\n",
    "```\n",
    "\n",
    "> `6`. Obtain the first 5 terms of the sequence defined by:\n",
    "\n",
    "> $$\n",
    "\n",
    "        \\left\\{\n",
    "            \\begin{array}{l}\n",
    "              a_0 = 0,\\\\\n",
    "              a_1 = 2,\\\\\n",
    "              a_n = 3 a_{n - 1} + a_{n - 2}, n \\geq 2\n",
    "            \\end{array}\n",
    "        \\right.\n",
    "      $$"
   ]
  },
  {
   "cell_type": "code",
   "execution_count": 6,
   "id": "2107ac39",
   "metadata": {},
   "outputs": [
    {
     "name": "stdout",
     "output_type": "stream",
     "text": [
      "0\n",
      "2\n",
      "6\n",
      "20\n",
      "66\n"
     ]
    }
   ],
   "source": [
    "def get_sequence(n):\n",
    "    \"\"\"\n",
    "    A function to give the nth term of the sequence using the recursive\n",
    "    definition.\n",
    "\n",
    "    Parameters\n",
    "    ----------\n",
    "    n: int\n",
    "        The index of the number\n",
    "\n",
    "    Returns\n",
    "    -------\n",
    "    int\n",
    "        The nth term of the sequence number\n",
    "    \"\"\"\n",
    "    if n == 0:\n",
    "        return 0\n",
    "    if n == 1:\n",
    "        return 2\n",
    "    return 3 * get_sequence(n - 1) + get_sequence(n - 2)\n",
    "\n",
    "\n",
    "for n in range(5):\n",
    "    print(get_sequence(n=n))"
   ]
  },
  {
   "cell_type": "markdown",
   "id": "617a34d8",
   "metadata": {},
   "source": [
    "Click the toggle (\"Click to Show\") to see a demo running this:\n",
    "\n",
    "```{toggle}\n",
    "![](./img/using_vscode_question_6/main.gif)\n",
    "```\n",
    "\n",
    "## Question 4\n",
    "\n",
    "> `4`. Install the `Markdown all in one` plugin for markdown in VScode and then:\n",
    "\n",
    "> `1`. Create a new file `main.md`.\n",
    "\n",
    "> `2`. Write some basic markdown in it.\n",
    "\n",
    "> `3`. Use the plugin to preview the rendered markdown.\n",
    "\n",
    "- Go to `Code > Preferences > Extensions`.\n",
    "- Search for `Markdown` and click `Install` on `Markdown all in one`.\n",
    "- Create a new file, write some markdown and click on save to save it as\n",
    "  `main.md`\n",
    "- Click on the `Open Preview to the Side` icon in the top right.\n",
    "\n",
    "Click the toggle (\"Click to Show\") to see a demo of this:\n",
    "\n",
    "```{toggle}\n",
    "![](./img/install_markdown_all_in_one/main.gif)\n",
    "```"
   ]
  }
 ],
 "metadata": {
  "jupytext": {
   "formats": "ipynb,md:myst",
   "text_representation": {
    "extension": ".md",
    "format_name": "myst",
    "format_version": 0.12,
    "jupytext_version": "1.6.0"
   }
  },
  "kernelspec": {
   "display_name": "Python 3",
   "language": "python",
   "name": "python3"
  },
  "language_info": {
   "codemirror_mode": {
    "name": "ipython",
    "version": 3
   },
   "file_extension": ".py",
   "mimetype": "text/x-python",
   "name": "python",
   "nbconvert_exporter": "python",
   "pygments_lexer": "ipython3",
   "version": "3.10.13"
  },
  "source_map": [
   13,
   53,
   59,
   69,
   75,
   85,
   90,
   102,
   107,
   119,
   142,
   163,
   188
  ]
 },
 "nbformat": 4,
 "nbformat_minor": 5
}