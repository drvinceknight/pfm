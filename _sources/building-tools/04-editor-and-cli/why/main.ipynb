{
 "cells": [
  {
   "cell_type": "markdown",
   "id": "af93eedd",
   "metadata": {},
   "source": [
    "# Further information\n",
    "\n",
    "## Why do you need to use the `print` function with an editor?\n",
    "\n",
    "When using a Jupyter notebook, the last line of a cell corresponds to the\n",
    "output of the cell and is automatically displayed.\n",
    "When running code written in an editor directly through the Python interpreter\n",
    "there is nowhere for code to be output to. Thus, you need to specifically tell it\n",
    "to display the code which is what the `print` statement does.\n",
    "\n",
    "## Can you use a Python plugin to run my code from inside my editor?\n",
    "\n",
    "When using the Python plugin buttons become available that let you run code\n",
    "without using the command line. Before using those buttons it is good to become comfortable using a\n",
    "command line tool to fully understand what the underlying process is. Furthermore,\n",
    "at times when debugging sometimes the user interface might be at fault.\n",
    "\n",
    "## Can you open a Jupyter notebook inside vscode?\n",
    "\n",
    "When using the Python plugin it is possible to use Jupyter notebooks\n",
    "from within VScode.\n",
    "\n",
    "The notebooks will not look exactly the same but have the same functionality.\n",
    "\n",
    "```{figure} ./img/notebook_in_vscode/main.png\n",
    "---\n",
    "width: 75%\n",
    "name: fig:notebook_in_vscode\n",
    "---\n",
    "A notebook in vscode\n",
    "```\n",
    "\n",
    "## What is the difference between an Integrated Development Environment and an editor?\n",
    "\n",
    "An *I*ntegrated *D*evelopment *E*nvironment or IDE is another type of tool used\n",
    "to write code. A popular one for Python is PyCharm\n",
    "<https://www.jetbrains.com/pycharm/>.\n",
    "\n",
    "Generally IDEs are powerful tools designed for one specific language whereas\n",
    "editors are supposedly lightweight and designed to be flexible to be used with\n",
    "many languages.\n",
    "\n",
    "I recommend experimenting with IDEs and/or editors to find what you prefer but\n",
    "throughout this book we will use VScode.\n",
    "\n",
    "## Why can I not use `\\\\(` and `\\\\)` for markdown in VScode.\n",
    "\n",
    "When using Jupyter notebooks or the markdown preview feature in VScode the\n",
    "single `$` and `$$` must be used as delimiters for mathematics. (See\n",
    "{ref}`why_do_we_use_brackets_instead_of_dollars_for_latex`)."
   ]
  }
 ],
 "metadata": {
  "jupytext": {
   "formats": "ipynb,md:myst",
   "text_representation": {
    "extension": ".md",
    "format_name": "myst",
    "format_version": 0.12,
    "jupytext_version": "1.6.0"
   }
  },
  "kernelspec": {
   "display_name": "Python 3",
   "language": "python",
   "name": "python3"
  },
  "language_info": {
   "codemirror_mode": {
    "name": "ipython",
    "version": 3
   },
   "file_extension": ".py",
   "mimetype": "text/x-python",
   "name": "python",
   "nbconvert_exporter": "python",
   "pygments_lexer": "ipython3",
   "version": "3.10.18"
  },
  "source_map": [
   13
  ]
 },
 "nbformat": 4,
 "nbformat_minor": 5
}