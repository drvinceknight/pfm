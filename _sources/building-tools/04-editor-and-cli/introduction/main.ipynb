{
 "cells": [
  {
   "cell_type": "markdown",
   "id": "c354de35",
   "metadata": {},
   "source": [
    "# Using a command line and an editor\n",
    "\n",
    "In the first part of this book we used Jupyter notebooks as an interface to\n",
    "Python. This has a number of advantages, the strongest of which is the ability\n",
    "to include both code and prose in the same document. From this part of the book\n",
    "onwards we will explore another approach to use Python which is to use the\n",
    "command line as a direct interface to your operating system and a code editor.\n",
    "\n",
    "```{important}\n",
    "In this chapter we will cover:\n",
    "\n",
    "- Using the cli.\n",
    "- Using an editor.\n",
    "```"
   ]
  }
 ],
 "metadata": {
  "jupytext": {
   "formats": "ipynb,md:myst",
   "text_representation": {
    "extension": ".md",
    "format_name": "myst",
    "format_version": 0.12,
    "jupytext_version": "1.6.0"
   }
  },
  "kernelspec": {
   "display_name": "Python 3",
   "language": "python",
   "name": "python3"
  },
  "language_info": {
   "codemirror_mode": {
    "name": "ipython",
    "version": 3
   },
   "file_extension": ".py",
   "mimetype": "text/x-python",
   "name": "python",
   "nbconvert_exporter": "python",
   "pygments_lexer": "ipython3",
   "version": "3.10.13"
  },
  "source_map": [
   13
  ]
 },
 "nbformat": 4,
 "nbformat_minor": 5
}