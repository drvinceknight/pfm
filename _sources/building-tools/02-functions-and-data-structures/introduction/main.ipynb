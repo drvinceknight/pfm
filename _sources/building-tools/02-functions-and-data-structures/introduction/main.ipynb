{
 "cells": [
  {
   "cell_type": "markdown",
   "id": "31e26e6c",
   "metadata": {},
   "source": [
    "(chp:functions_and_data_structures)=\n",
    "\n",
    "# Functions and data structures\n",
    "\n",
    "In the previous chapters you have explored a number of tools that allow us to use\n",
    "our mathematical knowledge more efficiently. In this chapter you\n",
    "continue to gain the knowledge necessary to build these tools covering the\n",
    "following topics:\n",
    "\n",
    "```{important}\n",
    "In this chapter you will cover:\n",
    "\n",
    "- Defining and using functions.\n",
    "- Defining and using various data structures.\n",
    "```"
   ]
  }
 ],
 "metadata": {
  "jupytext": {
   "formats": "ipynb,md:myst",
   "text_representation": {
    "extension": ".md",
    "format_name": "myst",
    "format_version": 0.12,
    "jupytext_version": "1.6.0"
   }
  },
  "kernelspec": {
   "display_name": "Python 3",
   "language": "python",
   "name": "python3"
  },
  "language_info": {
   "codemirror_mode": {
    "name": "ipython",
    "version": 3
   },
   "file_extension": ".py",
   "mimetype": "text/x-python",
   "name": "python",
   "nbconvert_exporter": "python",
   "pygments_lexer": "ipython3",
   "version": "3.10.18"
  },
  "source_map": [
   13
  ]
 },
 "nbformat": 4,
 "nbformat_minor": 5
}