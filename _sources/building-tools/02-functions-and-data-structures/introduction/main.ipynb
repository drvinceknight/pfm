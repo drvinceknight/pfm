{
 "cells": [
  {
   "cell_type": "markdown",
   "id": "18610b30",
   "metadata": {},
   "source": [
    "# Functions and data structures\n",
    "\n",
    "In the previous chapters we have explored a number of tools that allow us to use\n",
    "our mathematical knowledge more efficiently. In this chapter as we\n",
    "continue to gain the knowledge necessary to build these tools we will cover the\n",
    "following topics:\n",
    "\n",
    "```{important}\n",
    "In this chapter we will cover:\n",
    "\n",
    "- Defining and using functions\n",
    "- Defining and using two new data structures:\n",
    "    - Sets;\n",
    "    - Dictionaries.\n",
    "```"
   ]
  }
 ],
 "metadata": {
  "jupytext": {
   "formats": "ipynb,md:myst",
   "text_representation": {
    "extension": ".md",
    "format_name": "myst",
    "format_version": 0.12,
    "jupytext_version": "1.6.0"
   }
  },
  "kernelspec": {
   "display_name": "Python 3",
   "language": "python",
   "name": "python3"
  },
  "language_info": {
   "codemirror_mode": {
    "name": "ipython",
    "version": 3
   },
   "file_extension": ".py",
   "mimetype": "text/x-python",
   "name": "python",
   "nbconvert_exporter": "python",
   "pygments_lexer": "ipython3",
   "version": "3.10.13"
  },
  "source_map": [
   13
  ]
 },
 "nbformat": 4,
 "nbformat_minor": 5
}