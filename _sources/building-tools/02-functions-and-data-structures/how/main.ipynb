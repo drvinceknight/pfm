{
 "cells": [
  {
   "cell_type": "markdown",
   "id": "eba6c771",
   "metadata": {},
   "source": [
    "# How\n",
    "\n",
    "Two important data structures have already been seen in previous chapters:\n",
    "\n",
    "- Tuples: [Combinatorics: How to create a tuple](create_a_tuple).\n",
    "- Lists: [Probability: How to create a list](create_a_list).\n",
    "\n",
    "## How to define a function\n",
    "\n",
    "See: [Probability: How to define a function](define_a_function).\n",
    "\n",
    "(how_to_write_a_docstring)=\n",
    "\n",
    "## How to write a docstring\n",
    "\n",
    "A docstring is an attribute of a function that describes what it is. This can\n",
    "describe what it does, how it does it and/or why it does it.\n",
    "Here is how to write a docstring for a function that takes variables and returns\n",
    "a value.\n",
    "\n",
    "````{tip}\n",
    "```\n",
    "def name(parameter1, parameter2, ...):\n",
    "    \"\"\"\n",
    "    <A description of what the function is.>\n",
    "\n",
    "    Parameters\n",
    "    ----------\n",
    "    parameter1 : <type of parameter1>\n",
    "        <description of parameter1>\n",
    "    parameter2 : <type of parameter2>\n",
    "        <description of parameter2>\n",
    "    ...\n",
    "\n",
    "    Returns\n",
    "    -------\n",
    "    <type of what the function returns>\n",
    "        <description of what the function returns>\n",
    "\n",
    "    \"\"\"\n",
    "    INDENTED BLOCK OF CODE\n",
    "    return output\n",
    "```\n",
    "````\n",
    "\n",
    "For example, here is how to write a function that returns $x ^ 3$ for a given\n",
    "$x$:"
   ]
  },
  {
   "cell_type": "code",
   "execution_count": 1,
   "id": "00119967",
   "metadata": {},
   "outputs": [],
   "source": [
    "def x_cubed(x):\n",
    "    \"\"\"\n",
    "    Calculates and returns the cube of x. Does this by using Python\n",
    "    exponentiation.\n",
    "\n",
    "    Parameters\n",
    "    ----------\n",
    "    x : float\n",
    "        The value of x to be raised to the power 3\n",
    "\n",
    "    Returns\n",
    "    -------\n",
    "    float\n",
    "        The cube.\n",
    "    \"\"\"\n",
    "    return x ** 3"
   ]
  },
  {
   "cell_type": "markdown",
   "id": "79fd4ba9",
   "metadata": {},
   "source": [
    "## Create a tuple\n",
    "\n",
    "See [Combinatorics: How to create a tuple](create_a_tuple).\n",
    "\n",
    "## Create a list\n",
    "\n",
    "See [Probability: How to create a list](create_a_list).\n",
    "\n",
    "## Create a list using a list comprehension\n",
    "\n",
    "See [Probability: Create a list using a list comprehension](create_a_list_using_a_list_comprehension).\n",
    "\n",
    "## Combine lists\n",
    "\n",
    "Given two lists it is possible to combine them to create a new list using the `+` operator:\n",
    "\n",
    "````{tip}\n",
    "```\n",
    "first_list + other_list\n",
    "```\n",
    "````\n",
    "\n",
    "Here is an example a single list from two separate lists:"
   ]
  },
  {
   "cell_type": "code",
   "execution_count": 2,
   "id": "38be6793",
   "metadata": {},
   "outputs": [
    {
     "data": {
      "text/plain": [
       "[1, 2, 3, 5, 6, 100]"
      ]
     },
     "execution_count": 2,
     "metadata": {},
     "output_type": "execute_result"
    }
   ],
   "source": [
    "first_list = [1, 2, 3]\n",
    "other_list = [5, 6, 100]\n",
    "combined_list = first_list + other_list\n",
    "combined_list"
   ]
  },
  {
   "cell_type": "markdown",
   "id": "1354dcf6",
   "metadata": {},
   "source": [
    "## Append an element to a list\n",
    "\n",
    "Appending an element to a list is done using the `append` method.\n",
    "\n",
    "````{tip}\n",
    "```\n",
    "a_list.append(element)\n",
    "```\n",
    "````\n",
    "\n",
    "Here is an example where we append a new string to a list of strings:"
   ]
  },
  {
   "cell_type": "code",
   "execution_count": 3,
   "id": "0d16de31",
   "metadata": {},
   "outputs": [
    {
     "data": {
      "text/plain": [
       "['Vince', 'Zoe', 'Julien', 'Kaitlynn', 'Riggins']"
      ]
     },
     "execution_count": 3,
     "metadata": {},
     "output_type": "execute_result"
    }
   ],
   "source": [
    "names = [\"Vince\", \"Zoe\", \"Julien\", \"Kaitlynn\"]\n",
    "names.append(\"Riggins\")\n",
    "names"
   ]
  },
  {
   "cell_type": "markdown",
   "id": "64d051c0",
   "metadata": {},
   "source": [
    "```{attention}\n",
    "It is not possible to do this with a `tuple` as a `tuple` **immutable**](difference_between_a_list_and_a_tuple).\n",
    "```\n",
    "\n",
    "## Remove an element from a list\n",
    "\n",
    "To remove a given element from a list use the `remove` method.\n",
    "\n",
    "````{tip}\n",
    "```\n",
    "a_list.remove(element)\n",
    "```\n",
    "````\n",
    "\n",
    "Here is an example where we remove a number from a list of numbers:"
   ]
  },
  {
   "cell_type": "code",
   "execution_count": 4,
   "id": "2ad4b663",
   "metadata": {},
   "outputs": [
    {
     "data": {
      "text/plain": [
       "[1, 94, 202, 5]"
      ]
     },
     "execution_count": 4,
     "metadata": {},
     "output_type": "execute_result"
    }
   ],
   "source": [
    "numbers = [1, 94, 23, 202, 5]\n",
    "numbers.remove(23)\n",
    "numbers"
   ]
  },
  {
   "cell_type": "markdown",
   "id": "539fb717",
   "metadata": {},
   "source": [
    "```{attention}\n",
    "It is not possible to remove an element from a `tuple` as a `tuple` **immutable**](difference_between_a_list_and_a_tuple).\n",
    "```\n",
    "\n",
    "## Sort a list\n",
    "\n",
    "To sort a list use the `sort` method.\n",
    "\n",
    "````{tip}\n",
    "```\n",
    "a_list.sort()\n",
    "```\n",
    "````\n",
    "\n",
    "Here is an example:"
   ]
  },
  {
   "cell_type": "code",
   "execution_count": 5,
   "id": "eeba4ca8",
   "metadata": {},
   "outputs": [
    {
     "data": {
      "text/plain": [
       "['Julien', 'Kaitlynn', 'Vince', 'Zoe']"
      ]
     },
     "execution_count": 5,
     "metadata": {},
     "output_type": "execute_result"
    }
   ],
   "source": [
    "names = [\"Vince\", \"Zoe\", \"Kaitlynn\", \"Julien\"]\n",
    "names.sort()\n",
    "names"
   ]
  },
  {
   "cell_type": "markdown",
   "id": "a5789da0",
   "metadata": {},
   "source": [
    "To sort a list in reverse order use the `sort` method with the `reverse=True`\n",
    "parameter."
   ]
  },
  {
   "cell_type": "code",
   "execution_count": 6,
   "id": "87f73ad0",
   "metadata": {},
   "outputs": [
    {
     "data": {
      "text/plain": [
       "['Zoe', 'Vince', 'Kaitlynn', 'Julien']"
      ]
     },
     "execution_count": 6,
     "metadata": {},
     "output_type": "execute_result"
    }
   ],
   "source": [
    "names.sort(reverse=True)\n",
    "names"
   ]
  },
  {
   "cell_type": "markdown",
   "id": "4c0b3b67",
   "metadata": {},
   "source": [
    "```{attention}\n",
    "It is not possible to sort a `tuple` as a `tuple` is [**immutable**](difference_between_a_list_and_a_tuple).\n",
    "```\n",
    "\n",
    "## Create a sorted list from an iterable\n",
    "\n",
    "To create a sorted list from an iterable use the `sorted` function.\n",
    "\n",
    "````{tip}\n",
    "```\n",
    "sorted(iterable)\n",
    "```\n",
    "````\n",
    "\n",
    "Here is an example:"
   ]
  },
  {
   "cell_type": "code",
   "execution_count": 7,
   "id": "088d70c1",
   "metadata": {},
   "outputs": [
    {
     "data": {
      "text/plain": [
       "[1, 6, 10, 20, 50, 50, 105]"
      ]
     },
     "execution_count": 7,
     "metadata": {},
     "output_type": "execute_result"
    }
   ],
   "source": [
    "tuple_of_numbers = (20, 50, 10, 6, 1, 50, 105)\n",
    "sorted(tuple_of_numbers)"
   ]
  },
  {
   "cell_type": "markdown",
   "id": "51379c6c",
   "metadata": {},
   "source": [
    "## Access an element of an iterable\n",
    "\n",
    "See: [Combinatorics: How to access particular elements in a tuple](how_to_access_particular_elements_in_a_tuple).\n",
    "\n",
    "## Find the index of an element in an iterable\n",
    "\n",
    "To identify the position of an element in an iterable use the `index` method.\n",
    "\n",
    "````{tip}\n",
    "```\n",
    "iterable.index(element)\n",
    "```\n",
    "````\n",
    "\n",
    "Here is an example:"
   ]
  },
  {
   "cell_type": "code",
   "execution_count": 8,
   "id": "cbea9db6",
   "metadata": {},
   "outputs": [
    {
     "data": {
      "text/plain": [
       "2"
      ]
     },
     "execution_count": 8,
     "metadata": {},
     "output_type": "execute_result"
    }
   ],
   "source": [
    "numbers = [1, 94, 23, 202, 5]\n",
    "numbers.index(23)"
   ]
  },
  {
   "cell_type": "markdown",
   "id": "f2315fa9",
   "metadata": {},
   "source": [
    "```{attention}\n",
    "Recall that python uses `0`-based indexing. The first element in an iterable has\n",
    "index `0`.\n",
    "```\n",
    "\n",
    "(access_an_element_using_negative_indexing)=\n",
    "\n",
    "## Access an element of an iterable using negative indexing\n",
    "\n",
    "It is possible to access an element of an iterable by counting from the end of\n",
    "the iterable using negative indexing.\n",
    "\n",
    "````{tip}\n",
    "```\n",
    "iterable[-index_from_end]\n",
    "```\n",
    "````\n",
    "\n",
    "Here is an example showing how to access the penultimate element in a tuple:"
   ]
  },
  {
   "cell_type": "code",
   "execution_count": 9,
   "id": "9675ed5b",
   "metadata": {},
   "outputs": [
    {
     "data": {
      "text/plain": [
       "'Juice'"
      ]
     },
     "execution_count": 9,
     "metadata": {},
     "output_type": "execute_result"
    }
   ],
   "source": [
    "basket = (\"Carrots\", \"Potatoes\", \"Strawberries\", \"Juice\", \"Ice cream\")\n",
    "basket[-2]"
   ]
  },
  {
   "cell_type": "markdown",
   "id": "8b152ea7",
   "metadata": {},
   "source": [
    "(slice_an_iterable)=\n",
    "\n",
    "## Slice an iterable\n",
    "\n",
    "To create a new iterable from an iterable use `[]` and specify a start\n",
    "(inclusive) and end (exclusive) pair of indices.\n",
    "\n",
    "````{tip}\n",
    "```\n",
    "iterable[include_start_index: exclusive_end_index]\n",
    "```\n",
    "````\n",
    "\n",
    "For example:"
   ]
  },
  {
   "cell_type": "code",
   "execution_count": 10,
   "id": "49f7590a",
   "metadata": {},
   "outputs": [
    {
     "data": {
      "text/plain": [
       "('Strawberries', 'Juice', 'Ice cream')"
      ]
     },
     "execution_count": 10,
     "metadata": {},
     "output_type": "execute_result"
    }
   ],
   "source": [
    "basket = (\"Carrots\", \"Potatoes\", \"Strawberries\", \"Juice\", \"Ice cream\")\n",
    "basket[2: 5]"
   ]
  },
  {
   "cell_type": "markdown",
   "id": "62c11f6a",
   "metadata": {},
   "source": [
    "(find_the_number_of_elements_in_an_iterable)=\n",
    "\n",
    "## Find the number of elements in an iterable\n",
    "\n",
    "To count the number of elements in an iterable use `len`:\n",
    "\n",
    "````{tip}\n",
    "```\n",
    "len(iterable)\n",
    "```\n",
    "````\n",
    "\n",
    "For example:"
   ]
  },
  {
   "cell_type": "code",
   "execution_count": 11,
   "id": "70ed1274",
   "metadata": {},
   "outputs": [
    {
     "data": {
      "text/plain": [
       "5"
      ]
     },
     "execution_count": 11,
     "metadata": {},
     "output_type": "execute_result"
    }
   ],
   "source": [
    "basket = (\"Carrots\", \"Potatoes\", \"Strawberries\", \"Juice\", \"Ice cream\")\n",
    "len(basket)"
   ]
  },
  {
   "cell_type": "markdown",
   "id": "9e60afc0",
   "metadata": {},
   "source": [
    "## Create a set\n",
    "\n",
    "A set is a collection of distinct objects. This can be created in Python using\n",
    "the `set` command on any iterable. If there are non distinct objects in the\n",
    "iterable then this is an efficient way to remove duplicates.\n",
    "\n",
    "````{tip}\n",
    "```\n",
    "set(iterable)\n",
    "```\n",
    "````\n",
    "\n",
    "Here is an example of creating a set:"
   ]
  },
  {
   "cell_type": "code",
   "execution_count": 12,
   "id": "9a2fa35c",
   "metadata": {},
   "outputs": [
    {
     "data": {
      "text/plain": [
       "{1, 2, 3, 4, 10}"
      ]
     },
     "execution_count": 12,
     "metadata": {},
     "output_type": "execute_result"
    }
   ],
   "source": [
    "iterable = (1, 1, 3, 4, 4, 3, 2, 1, 10)\n",
    "unique_values = set(iterable)\n",
    "unique_values"
   ]
  },
  {
   "cell_type": "markdown",
   "id": "57f06b0d",
   "metadata": {},
   "source": [
    "## Do set operations\n",
    "\n",
    "Set operations between two sets can be done using Python:\n",
    "\n",
    "- $S_1 \\cup S_2$: `set_1 | set_2`\n",
    "- $S_1 \\cap S_2$: `set_1 & set_2`\n",
    "- $S_1 \\setminus S_2$: `set_1 - set_2`\n",
    "- $S_1 \\subseteq S_2$ (checking if $S_1$ is a subset of $S_2$): `set_1 <= set_2`\n",
    "\n",
    "Here are some examples of carrying out the above:"
   ]
  },
  {
   "cell_type": "code",
   "execution_count": 13,
   "id": "577ac3c6",
   "metadata": {},
   "outputs": [
    {
     "data": {
      "text/plain": [
       "{1, 2, 3, 4, 5, 6, 7, 8, 9}"
      ]
     },
     "execution_count": 13,
     "metadata": {},
     "output_type": "execute_result"
    }
   ],
   "source": [
    "set_1 = set((1, 2, 3, 4, 5))\n",
    "set_2 = set((4, 5, 6, 7, 8, 9))\n",
    "\n",
    "set_1 | set_2"
   ]
  },
  {
   "cell_type": "code",
   "execution_count": 14,
   "id": "ace8622e",
   "metadata": {},
   "outputs": [
    {
     "data": {
      "text/plain": [
       "{4, 5}"
      ]
     },
     "execution_count": 14,
     "metadata": {},
     "output_type": "execute_result"
    }
   ],
   "source": [
    "set_1 & set_2"
   ]
  },
  {
   "cell_type": "code",
   "execution_count": 15,
   "id": "88398679",
   "metadata": {},
   "outputs": [
    {
     "data": {
      "text/plain": [
       "{1, 2, 3}"
      ]
     },
     "execution_count": 15,
     "metadata": {},
     "output_type": "execute_result"
    }
   ],
   "source": [
    "set_1 - set_2"
   ]
  },
  {
   "cell_type": "code",
   "execution_count": 16,
   "id": "da620689",
   "metadata": {},
   "outputs": [
    {
     "data": {
      "text/plain": [
       "False"
      ]
     },
     "execution_count": 16,
     "metadata": {},
     "output_type": "execute_result"
    }
   ],
   "source": [
    "set_1 <= set_2"
   ]
  },
  {
   "cell_type": "markdown",
   "id": "9420f6b3",
   "metadata": {},
   "source": [
    "(create_hash_tables) =\n",
    "\n",
    "## Create hash tables\n",
    "\n",
    "Lists and tuples allow us to immediately recover a value given its position.\n",
    "Hash tables allow us to create arbitrary `key` `value` pairs so that given any\n",
    "`key` we can immediately recover the value. This is called a dictionary in\n",
    "Python and is created using `{}` which takes a collection of `key: value`\n",
    "pairs.\n",
    "\n",
    "````{tip}\n",
    "```\n",
    "{key_1: value, key_2: value, …}\n",
    "```\n",
    "````\n",
    "\n",
    "For example the following dictionary maps pet names to their ages:"
   ]
  },
  {
   "cell_type": "code",
   "execution_count": 17,
   "id": "a895e04f",
   "metadata": {},
   "outputs": [
    {
     "data": {
      "text/plain": [
       "{'Riggins': 4, 'Chick': 7, 'Duck': 7}"
      ]
     },
     "execution_count": 17,
     "metadata": {},
     "output_type": "execute_result"
    }
   ],
   "source": [
    "ages = {\"Riggins\": 4, \"Chick\": 7, \"Duck\": 7}\n",
    "ages"
   ]
  },
  {
   "cell_type": "markdown",
   "id": "1871e043",
   "metadata": {},
   "source": [
    "To recover a value we pass the key to the dictionary using `[]`.\n",
    "\n",
    "For example:"
   ]
  },
  {
   "cell_type": "code",
   "execution_count": 18,
   "id": "de375af8",
   "metadata": {},
   "outputs": [
    {
     "data": {
      "text/plain": [
       "4"
      ]
     },
     "execution_count": 18,
     "metadata": {},
     "output_type": "execute_result"
    }
   ],
   "source": [
    "ages[\"Riggins\"]"
   ]
  },
  {
   "cell_type": "markdown",
   "id": "6aef2a30",
   "metadata": {},
   "source": [
    "```{attention}\n",
    "If a key is used to recover the value with `[]` but the key is not in the dictionary then\n",
    "an error will be raised.\n",
    "```\n",
    "\n",
    "## Access element in a hash table\n",
    "\n",
    "As described [here](create_hash_tables) to access the value of a `key` in a hash\n",
    "table use `[]`.\n",
    "\n",
    "````{tip}\n",
    "```\n",
    "dictionary[key]\n",
    "```\n",
    "````\n",
    "\n",
    "It is also possible to use the `get` method.\n",
    "The `get` method can also be passed the value of a `default` variable to return when the\n",
    "`key` is not in the hash table:\n",
    "\n",
    "````{tip}\n",
    "```\n",
    "dictionary.get(key, default)\n",
    "```\n",
    "````\n",
    "\n",
    "For example:"
   ]
  },
  {
   "cell_type": "code",
   "execution_count": 19,
   "id": "7c42d757",
   "metadata": {},
   "outputs": [
    {
     "data": {
      "text/plain": [
       "-1"
      ]
     },
     "execution_count": 19,
     "metadata": {},
     "output_type": "execute_result"
    }
   ],
   "source": [
    "ages = {\"Riggins\": 4, \"Chick\": 7, \"Duck\": 7}\n",
    "ages.get(\"Vince\", -1)"
   ]
  },
  {
   "cell_type": "markdown",
   "id": "a5220c4c",
   "metadata": {},
   "source": [
    "## Iterate over keys in a hash table\n",
    "\n",
    "To iterate over the keys in a hash table use the `keys()` method:\n",
    "\n",
    "````{tip}\n",
    "```\n",
    "dictionary.keys()\n",
    "```\n",
    "````\n",
    "\n",
    "For example:"
   ]
  },
  {
   "cell_type": "code",
   "execution_count": 20,
   "id": "9ce3f24e",
   "metadata": {},
   "outputs": [
    {
     "data": {
      "text/plain": [
       "dict_items([('Riggins', 4), ('Chick', 7), ('Duck', 7)])"
      ]
     },
     "execution_count": 20,
     "metadata": {},
     "output_type": "execute_result"
    }
   ],
   "source": [
    "ages = {\"Riggins\": 4, \"Chick\": 7, \"Duck\": 7}\n",
    "ages.items()"
   ]
  },
  {
   "cell_type": "markdown",
   "id": "2d16ec8c",
   "metadata": {},
   "source": [
    "## Iterate over values in a hash table\n",
    "\n",
    "To iterate over the values in a hash table use the `values()` method:\n",
    "\n",
    "````{tip}\n",
    "```\n",
    "dictionary.values()\n",
    "```\n",
    "````\n",
    "\n",
    "For example:"
   ]
  },
  {
   "cell_type": "code",
   "execution_count": 21,
   "id": "4f8280cc",
   "metadata": {},
   "outputs": [
    {
     "data": {
      "text/plain": [
       "dict_values([4, 7, 7])"
      ]
     },
     "execution_count": 21,
     "metadata": {},
     "output_type": "execute_result"
    }
   ],
   "source": [
    "ages = {\"Riggins\": 4, \"Chick\": 7, \"Duck\": 7}\n",
    "ages.values()"
   ]
  },
  {
   "cell_type": "markdown",
   "id": "50acb5ba",
   "metadata": {},
   "source": [
    "## Iterate over pairs of keys and value in a hash table\n",
    "\n",
    "To iterate over pairs of keys and values in a hash table use the `items()` method:\n",
    "\n",
    "````{tip}\n",
    "```\n",
    "dictionary.items()\n",
    "```\n",
    "````\n",
    "\n",
    "For example:"
   ]
  },
  {
   "cell_type": "code",
   "execution_count": 22,
   "id": "8fc0e033",
   "metadata": {},
   "outputs": [
    {
     "data": {
      "text/plain": [
       "dict_items([('Riggins', 4), ('Chick', 7), ('Duck', 7)])"
      ]
     },
     "execution_count": 22,
     "metadata": {},
     "output_type": "execute_result"
    }
   ],
   "source": [
    "ages = {\"Riggins\": 4, \"Chick\": 7, \"Duck\": 7}\n",
    "ages.items()"
   ]
  }
 ],
 "metadata": {
  "jupytext": {
   "formats": "ipynb,md:myst",
   "text_representation": {
    "extension": ".md",
    "format_name": "myst",
    "format_version": 0.12,
    "jupytext_version": "1.6.0"
   }
  },
  "kernelspec": {
   "display_name": "Python 3",
   "language": "python",
   "name": "python3"
  },
  "language_info": {
   "codemirror_mode": {
    "name": "ipython",
    "version": 3
   },
   "file_extension": ".py",
   "mimetype": "text/x-python",
   "name": "python",
   "nbconvert_exporter": "python",
   "pygments_lexer": "ipython3",
   "version": "3.10.14"
  },
  "source_map": [
   13,
   63,
   80,
   106,
   111,
   125,
   129,
   147,
   151,
   169,
   173,
   178,
   181,
   199,
   202,
   220,
   223,
   245,
   248,
   265,
   268,
   284,
   287,
   303,
   307,
   320,
   327,
   331,
   335,
   337,
   357,
   360,
   366,
   368,
   398,
   401,
   415,
   418,
   432,
   435,
   449
  ]
 },
 "nbformat": 4,
 "nbformat_minor": 5
}