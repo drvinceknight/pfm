{
 "cells": [
  {
   "cell_type": "markdown",
   "id": "99006672",
   "metadata": {},
   "source": [
    "# How\n",
    "\n",
    "Two important data structures have already been seen in previous chapters:\n",
    "\n",
    "- Tuples: [Combinatorics: How to create a tuple](create_a_tuple).\n",
    "- Lists: [Probability: How to create a list](create_a_list).\n",
    "\n",
    "We covered functions in a previous chapter as well: [Probability: How to define\n",
    "a function](define_a_function).\n",
    "\n",
    "## Create a set\n",
    "\n",
    "A set is a collection of distinct objects. This can be created in Python using\n",
    "the `set` command on any iterable. If there are non distinct objects in the\n",
    "iterable then this is an efficient way to remove duplicates.\n",
    "\n",
    "````{tip}\n",
    "```\n",
    "set(iterable)\n",
    "```\n",
    "````\n",
    "\n",
    "Here is an example of creating a set:"
   ]
  },
  {
   "cell_type": "code",
   "execution_count": 1,
   "id": "451d59ec",
   "metadata": {},
   "outputs": [
    {
     "data": {
      "text/plain": [
       "{1, 2, 3, 4, 10}"
      ]
     },
     "execution_count": 1,
     "metadata": {},
     "output_type": "execute_result"
    }
   ],
   "source": [
    "iterable = (1, 1, 3, 4, 4, 3, 2, 1, 10)\n",
    "unique_values = set(iterable)\n",
    "unique_values"
   ]
  },
  {
   "cell_type": "markdown",
   "id": "990e8126",
   "metadata": {},
   "source": [
    "## Do set operations\n",
    "\n",
    "Set operations between two sets can be done using Python:\n",
    "\n",
    "- $S_1 \\cup S_2$: `set_1 | set_2`\n",
    "- $S_1 \\cap S_2$: `set_1 & set_2`\n",
    "- $S_1 \\setminus S_2$: `set_1 - set_2`\n",
    "- $S_1 \\subseteq S_2$ (checking if $S_1$ is a subset of $S_2$): `set_1 <= set_2`\n",
    "\n",
    "Here are some examples of carrying out the above:"
   ]
  },
  {
   "cell_type": "code",
   "execution_count": 2,
   "id": "334b5570",
   "metadata": {},
   "outputs": [
    {
     "data": {
      "text/plain": [
       "{1, 2, 3, 4, 5, 6, 7, 8, 9}"
      ]
     },
     "execution_count": 2,
     "metadata": {},
     "output_type": "execute_result"
    }
   ],
   "source": [
    "set_1 = set((1, 2, 3, 4, 5))\n",
    "set_2 = set((4, 5, 6, 7, 8, 9))\n",
    "\n",
    "set_1 | set_2"
   ]
  },
  {
   "cell_type": "code",
   "execution_count": 3,
   "id": "dd00f9e6",
   "metadata": {},
   "outputs": [
    {
     "data": {
      "text/plain": [
       "{4, 5}"
      ]
     },
     "execution_count": 3,
     "metadata": {},
     "output_type": "execute_result"
    }
   ],
   "source": [
    "set_1 & set_2"
   ]
  },
  {
   "cell_type": "code",
   "execution_count": 4,
   "id": "7bf09ae4",
   "metadata": {},
   "outputs": [
    {
     "data": {
      "text/plain": [
       "{1, 2, 3}"
      ]
     },
     "execution_count": 4,
     "metadata": {},
     "output_type": "execute_result"
    }
   ],
   "source": [
    "set_1 - set_2"
   ]
  },
  {
   "cell_type": "code",
   "execution_count": 5,
   "id": "04d1f7de",
   "metadata": {},
   "outputs": [
    {
     "data": {
      "text/plain": [
       "False"
      ]
     },
     "execution_count": 5,
     "metadata": {},
     "output_type": "execute_result"
    }
   ],
   "source": [
    "set_1 <= set_2"
   ]
  },
  {
   "cell_type": "markdown",
   "id": "de7d6157",
   "metadata": {},
   "source": [
    "## Using hash tables\n",
    "\n",
    "Lists and tuples allow us to immediately recover a value given its position.\n",
    "Hash tables allow us to create arbitrary `key` `value` pairs so that given any\n",
    "`key` we can immediately recover the value. This is called a dictionary in\n",
    "Python and is created using `{}` which takes a collection of `key: value`\n",
    "pairs.\n",
    "\n",
    "````{tip}\n",
    "```\n",
    "{key_1: value, key_2: value, …}\n",
    "```\n",
    "````\n",
    "\n",
    "For example the following dictionary maps pet names to their ages:"
   ]
  },
  {
   "cell_type": "code",
   "execution_count": 6,
   "id": "ab3590c1",
   "metadata": {},
   "outputs": [
    {
     "data": {
      "text/plain": [
       "{'Riggins': 4, 'Chick': 7, 'Duck': 7}"
      ]
     },
     "execution_count": 6,
     "metadata": {},
     "output_type": "execute_result"
    }
   ],
   "source": [
    "ages = {\"Riggins\": 4, \"Chick\": 7, \"Duck\": 7}\n",
    "ages"
   ]
  },
  {
   "cell_type": "markdown",
   "id": "1de5c28b",
   "metadata": {},
   "source": [
    "To recover a value we pass the key to the dictionary using `[]`.\n",
    "\n",
    "For example:"
   ]
  },
  {
   "cell_type": "code",
   "execution_count": 7,
   "id": "8fb60e1d",
   "metadata": {},
   "outputs": [
    {
     "data": {
      "text/plain": [
       "4"
      ]
     },
     "execution_count": 7,
     "metadata": {},
     "output_type": "execute_result"
    }
   ],
   "source": [
    "ages[\"Riggins\"]"
   ]
  },
  {
   "cell_type": "markdown",
   "id": "355288a6",
   "metadata": {},
   "source": [
    "```{attention}\n",
    "If a key is used to recover the value but the key is not in the dictionary then\n",
    "an error will be raised.\n",
    "```"
   ]
  }
 ],
 "metadata": {
  "jupytext": {
   "formats": "ipynb,md:myst",
   "text_representation": {
    "extension": ".md",
    "format_name": "myst",
    "format_version": 0.12,
    "jupytext_version": "1.6.0"
   }
  },
  "kernelspec": {
   "display_name": "Python 3",
   "language": "python",
   "name": "python3"
  },
  "language_info": {
   "codemirror_mode": {
    "name": "ipython",
    "version": 3
   },
   "file_extension": ".py",
   "mimetype": "text/x-python",
   "name": "python",
   "nbconvert_exporter": "python",
   "pygments_lexer": "ipython3",
   "version": "3.8.16"
  },
  "source_map": [
   13,
   39,
   43,
   56,
   63,
   67,
   71,
   73,
   91,
   94,
   100,
   102
  ]
 },
 "nbformat": 4,
 "nbformat_minor": 5
}