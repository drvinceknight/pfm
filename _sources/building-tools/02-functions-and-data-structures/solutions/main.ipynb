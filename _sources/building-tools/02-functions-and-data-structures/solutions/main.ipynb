{
 "cells": [
  {
   "cell_type": "markdown",
   "id": "47b8948c",
   "metadata": {},
   "source": [
    "# Solutions\n",
    "\n",
    "## Question 1\n",
    "\n",
    "> `1`. Write a function that generates $n!$.\n",
    "\n",
    "There are two approaches to do this, the first is to use recursion:"
   ]
  },
  {
   "cell_type": "code",
   "execution_count": 1,
   "id": "6842edbf",
   "metadata": {},
   "outputs": [],
   "source": [
    "def generate_n_factorial(n):\n",
    "    \"\"\"\n",
    "    Return n! using recursion.\n",
    "    \"\"\"\n",
    "    if n == 0:\n",
    "        return 1\n",
    "    return n * generate_n_factorial(n - 1)"
   ]
  },
  {
   "cell_type": "markdown",
   "id": "115c58ce",
   "metadata": {},
   "source": [
    "We can use this:"
   ]
  },
  {
   "cell_type": "code",
   "execution_count": 2,
   "id": "422dbabb",
   "metadata": {},
   "outputs": [
    {
     "data": {
      "text/plain": [
       "120"
      ]
     },
     "execution_count": 2,
     "metadata": {},
     "output_type": "execute_result"
    }
   ],
   "source": [
    "generate_n_factorial(5)"
   ]
  },
  {
   "cell_type": "markdown",
   "id": "739aecd4",
   "metadata": {},
   "source": [
    "Here is another approach, to use iteration and making use of the actual\n",
    "expression for $n!$:\n",
    "\n",
    "$$\n",
    "    n! = \\prod_{i=1}^ni\n",
    "$$"
   ]
  },
  {
   "cell_type": "code",
   "execution_count": 3,
   "id": "1a8d7e0a",
   "metadata": {},
   "outputs": [],
   "source": [
    "def generate_n_factorial_using_iteration(n):\n",
    "    \"\"\"\n",
    "    Return n! using iteration\n",
    "    \"\"\"\n",
    "    cumulative_product = 1\n",
    "    for i in range(1, n + 1):\n",
    "        cumulative_product *= i\n",
    "    return cumulative_product"
   ]
  },
  {
   "cell_type": "markdown",
   "id": "c351965e",
   "metadata": {},
   "source": [
    "We can use this:"
   ]
  },
  {
   "cell_type": "code",
   "execution_count": 4,
   "id": "fb618b30",
   "metadata": {},
   "outputs": [
    {
     "data": {
      "text/plain": [
       "120"
      ]
     },
     "execution_count": 4,
     "metadata": {},
     "output_type": "execute_result"
    }
   ],
   "source": [
    "generate_n_factorial_using_iteration(5)"
   ]
  },
  {
   "cell_type": "markdown",
   "id": "03c4389e",
   "metadata": {},
   "source": [
    "## Question 2\n",
    "\n",
    "> `2`. Write a function that generates the $n$th triangular numbers defined by:\n",
    "> $ T_n = \\frac{n(n+1)}{2} $"
   ]
  },
  {
   "cell_type": "code",
   "execution_count": 5,
   "id": "f083b099",
   "metadata": {},
   "outputs": [],
   "source": [
    "def generate_triangular_numbers(n):\n",
    "    \"\"\"\n",
    "    Return the nth triangular number\n",
    "    \"\"\"\n",
    "    return n * (n + 1) / 2"
   ]
  },
  {
   "cell_type": "markdown",
   "id": "969598d3",
   "metadata": {},
   "source": [
    "## Question 3\n",
    "\n",
    "> `3`. Verify the following that the following identify holds for positive integer\n",
    "> values $n\\leq 500$:\n",
    "> $ \\sum_{i=0}^n T_i = \\frac{n(n+1)(n+2)}{6} $\n",
    "\n",
    "We will write a function to check the equality:"
   ]
  },
  {
   "cell_type": "code",
   "execution_count": 6,
   "id": "61764524",
   "metadata": {},
   "outputs": [],
   "source": [
    "def check_inequality(n):\n",
    "    \"\"\"\n",
    "    Returns a boolean variable whether or not the equality is true for a given n\n",
    "    \"\"\"\n",
    "    lhs = sum(generate_triangular_numbers(i) for i in range(n + 1))\n",
    "    rhs = n * (n + 1) * (n + 2) / 6\n",
    "    return lhs == rhs"
   ]
  },
  {
   "cell_type": "markdown",
   "id": "f123db6e",
   "metadata": {},
   "source": [
    "Using this we can check all the values of $n$ as required:"
   ]
  },
  {
   "cell_type": "code",
   "execution_count": 7,
   "id": "075b0628",
   "metadata": {},
   "outputs": [
    {
     "data": {
      "text/plain": [
       "True"
      ]
     },
     "execution_count": 7,
     "metadata": {},
     "output_type": "execute_result"
    }
   ],
   "source": [
    "all([check_inequality(n) for n in range(1, 501)])"
   ]
  },
  {
   "cell_type": "markdown",
   "id": "def71518",
   "metadata": {},
   "source": [
    "Note that we can also use `all` directly without creating the list first (this\n",
    "is similar to `sum`):"
   ]
  },
  {
   "cell_type": "code",
   "execution_count": 8,
   "id": "61071562",
   "metadata": {},
   "outputs": [
    {
     "data": {
      "text/plain": [
       "True"
      ]
     },
     "execution_count": 8,
     "metadata": {},
     "output_type": "execute_result"
    }
   ],
   "source": [
    "all(check_inequality(n) for n in range(1, 501))"
   ]
  },
  {
   "cell_type": "markdown",
   "id": "dc432217",
   "metadata": {},
   "source": [
    "## Question 4\n",
    "\n",
    "> `4`. Consider the [Monty Hall\n",
    "> problem](https://en.wikipedia.org/wiki/Monty_Hall_problem):\n",
    "`1`. Write a\n",
    "> function that simulates the play of the game when you 'stick' with the initial\n",
    "> choice.\n",
    "\n",
    "\n",
    "This corresponds to sampling from a list of three choices:"
   ]
  },
  {
   "cell_type": "code",
   "execution_count": 9,
   "id": "19a736f8",
   "metadata": {},
   "outputs": [],
   "source": [
    "import random\n",
    "\n",
    "\n",
    "def play_monty_hall_with_stick():\n",
    "    \"\"\"\n",
    "    Instead of picking a random element we will shuffle it and return the first\n",
    "    element.\n",
    "\n",
    "    We make use of `random.shuffle` to shuffle and `pop()` to remove the first\n",
    "    element of a list (and return it).\n",
    "    \"\"\"\n",
    "    doors = [\"goat\", \"goat\", \"car\"]\n",
    "    random.shuffle(doors)\n",
    "    return doors.pop()"
   ]
  },
  {
   "cell_type": "markdown",
   "id": "90b21077",
   "metadata": {},
   "source": [
    "We can check that this gives expected behaviour:"
   ]
  },
  {
   "cell_type": "code",
   "execution_count": 10,
   "id": "dc00840d",
   "metadata": {},
   "outputs": [
    {
     "data": {
      "text/plain": [
       "'goat'"
      ]
     },
     "execution_count": 10,
     "metadata": {},
     "output_type": "execute_result"
    }
   ],
   "source": [
    "random.seed(0)\n",
    "\n",
    "play_monty_hall_with_stick()"
   ]
  },
  {
   "cell_type": "code",
   "execution_count": 11,
   "id": "78f07268",
   "metadata": {},
   "outputs": [
    {
     "data": {
      "text/plain": [
       "'goat'"
      ]
     },
     "execution_count": 11,
     "metadata": {},
     "output_type": "execute_result"
    }
   ],
   "source": [
    "play_monty_hall_with_stick()"
   ]
  },
  {
   "cell_type": "code",
   "execution_count": 12,
   "id": "1d03d035",
   "metadata": {},
   "outputs": [
    {
     "data": {
      "text/plain": [
       "'car'"
      ]
     },
     "execution_count": 12,
     "metadata": {},
     "output_type": "execute_result"
    }
   ],
   "source": [
    "play_monty_hall_with_stick()"
   ]
  },
  {
   "cell_type": "markdown",
   "id": "cdec0a82",
   "metadata": {},
   "source": [
    "> `2`. Write a function that simulates the play of the game when you 'change'\n",
    ">  your choice.\n",
    "\n",
    "\n",
    "This corresponds to sampling from a list of three choices, removing that choice\n",
    "and then sampling again:"
   ]
  },
  {
   "cell_type": "code",
   "execution_count": 13,
   "id": "16268958",
   "metadata": {},
   "outputs": [],
   "source": [
    "def play_monty_hall_with_switch():\n",
    "    \"\"\"\n",
    "    Instead of picking a random element we will shuffle it and return the first\n",
    "    element.\n",
    "\n",
    "    We make use of `random.shuffle` to shuffle and `pop()` to remove the first\n",
    "    element of a list. We then use `remove()` to remove an element from a list.\n",
    "    We then pop the first\n",
    "    element of the remaining list (and return it).\n",
    "    \"\"\"\n",
    "    doors = [\"goat\", \"goat\", \"car\"]\n",
    "    random.shuffle(doors)\n",
    "    doors.pop()\n",
    "    doors.remove(\"goat\")\n",
    "    return doors.pop()"
   ]
  },
  {
   "cell_type": "code",
   "execution_count": 14,
   "id": "e99ccd47",
   "metadata": {},
   "outputs": [
    {
     "data": {
      "text/plain": [
       "'car'"
      ]
     },
     "execution_count": 14,
     "metadata": {},
     "output_type": "execute_result"
    }
   ],
   "source": [
    "random.seed(0)\n",
    "\n",
    "play_monty_hall_with_switch()"
   ]
  },
  {
   "cell_type": "code",
   "execution_count": 15,
   "id": "bbf0ebd5",
   "metadata": {},
   "outputs": [
    {
     "data": {
      "text/plain": [
       "'car'"
      ]
     },
     "execution_count": 15,
     "metadata": {},
     "output_type": "execute_result"
    }
   ],
   "source": [
    "play_monty_hall_with_switch()"
   ]
  },
  {
   "cell_type": "code",
   "execution_count": 16,
   "id": "e168ebb1",
   "metadata": {},
   "outputs": [
    {
     "data": {
      "text/plain": [
       "'goat'"
      ]
     },
     "execution_count": 16,
     "metadata": {},
     "output_type": "execute_result"
    }
   ],
   "source": [
    "play_monty_hall_with_switch()"
   ]
  },
  {
   "cell_type": "markdown",
   "id": "05d30ef1",
   "metadata": {},
   "source": [
    "> `3`. Repeat the play of the game using both those functions and compare the\n",
    "> probability of winning.\n",
    "\n",
    "We can calculate the probability of winning the car when we stick:"
   ]
  },
  {
   "cell_type": "code",
   "execution_count": 17,
   "id": "c4563cd5",
   "metadata": {},
   "outputs": [
    {
     "data": {
      "text/plain": [
       "0.33317"
      ]
     },
     "execution_count": 17,
     "metadata": {},
     "output_type": "execute_result"
    }
   ],
   "source": [
    "repetitions = 100000\n",
    "count_of_winning_with_stick = sum(\n",
    "    play_monty_hall_with_stick() == \"car\" for repetition in range(repetitions)\n",
    ")\n",
    "probability_of_winning_with_stick = count_of_winning_with_stick / repetitions\n",
    "probability_of_winning_with_stick"
   ]
  },
  {
   "cell_type": "markdown",
   "id": "56059958",
   "metadata": {},
   "source": [
    "We can calculate the probability of winning the car when we switch:"
   ]
  },
  {
   "cell_type": "code",
   "execution_count": 18,
   "id": "7a124c57",
   "metadata": {},
   "outputs": [
    {
     "data": {
      "text/plain": [
       "0.66627"
      ]
     },
     "execution_count": 18,
     "metadata": {},
     "output_type": "execute_result"
    }
   ],
   "source": [
    "count_of_winning_with_switch = sum(\n",
    "    play_monty_hall_with_switch() == \"car\" for repetition in range(repetitions)\n",
    ")\n",
    "probability_of_winning_with_switch = count_of_winning_with_switch / repetitions\n",
    "probability_of_winning_with_switch"
   ]
  }
 ],
 "metadata": {
  "jupytext": {
   "formats": "ipynb,md:myst",
   "text_representation": {
    "extension": ".md",
    "format_name": "myst",
    "format_version": 0.12,
    "jupytext_version": "1.6.0"
   }
  },
  "kernelspec": {
   "display_name": "Python 3",
   "language": "python",
   "name": "python3"
  },
  "language_info": {
   "codemirror_mode": {
    "name": "ipython",
    "version": 3
   },
   "file_extension": ".py",
   "mimetype": "text/x-python",
   "name": "python",
   "nbconvert_exporter": "python",
   "pygments_lexer": "ipython3",
   "version": "3.8.17"
  },
  "source_map": [
   13,
   23,
   31,
   35,
   37,
   46,
   55,
   59,
   61,
   68,
   74,
   85,
   93,
   97,
   99,
   104,
   106,
   120,
   135,
   139,
   145,
   149,
   151,
   160,
   178,
   184,
   188,
   190,
   197,
   204,
   208
  ]
 },
 "nbformat": 4,
 "nbformat_minor": 5
}