{
 "cells": [
  {
   "cell_type": "markdown",
   "id": "f90fef9f",
   "metadata": {},
   "source": [
    "# Further information\n",
    "\n",
    "## A part from removing duplicates and set operations what are they advantages to using `set`?\n",
    "\n",
    "One valuable uses of `set` is to efficiently identify is an element\n",
    "is in a given iterable or not:"
   ]
  },
  {
   "cell_type": "code",
   "execution_count": 1,
   "id": "96b44c54",
   "metadata": {
    "tags": [
     "nbval-ignore-output",
     "style-check-ignore"
    ]
   },
   "outputs": [
    {
     "name": "stdout",
     "output_type": "stream",
     "text": [
      "1.66 ms ± 1.52 µs per loop (mean ± std. dev. of 7 runs, 1,000 loops each)\n"
     ]
    }
   ],
   "source": [
    "numbers = list(range(100000))\n",
    "%timeit 100000 in numbers"
   ]
  },
  {
   "cell_type": "code",
   "execution_count": 2,
   "id": "006e142d",
   "metadata": {
    "tags": [
     "nbval-ignore-output",
     "style-check-ignore"
    ]
   },
   "outputs": [
    {
     "name": "stdout",
     "output_type": "stream",
     "text": [
      "43.6 ns ± 0.14 ns per loop (mean ± std. dev. of 7 runs, 10,000,000 loops each)\n"
     ]
    }
   ],
   "source": [
    "numbers = set(range(100000))\n",
    "%timeit 100000 in numbers"
   ]
  }
 ],
 "metadata": {
  "jupytext": {
   "formats": "ipynb,md:myst",
   "text_representation": {
    "extension": ".md",
    "format_name": "myst",
    "format_version": 0.12,
    "jupytext_version": "1.6.0"
   }
  },
  "kernelspec": {
   "display_name": "Python 3",
   "language": "python",
   "name": "python3"
  },
  "language_info": {
   "codemirror_mode": {
    "name": "ipython",
    "version": 3
   },
   "file_extension": ".py",
   "mimetype": "text/x-python",
   "name": "python",
   "nbconvert_exporter": "python",
   "pygments_lexer": "ipython3",
   "version": "3.10.13"
  },
  "source_map": [
   13,
   22,
   29
  ]
 },
 "nbformat": 4,
 "nbformat_minor": 5
}