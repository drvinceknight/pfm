{
 "cells": [
  {
   "cell_type": "markdown",
   "id": "37d3018d",
   "metadata": {},
   "source": [
    "# Further information\n",
    "\n",
    "## What formats can be used to write a docstring?\n",
    "\n",
    "The format used to write a docstring described in {ref}`how_to_write_a_docstring` is the one specified\n",
    "by the Numpy project.\n",
    "\n",
    "Amongst other things you can see how to specify further functionality:\n",
    "\n",
    "- How to indicate if a parameter is optional.\n",
    "- How to specify what types of errors might be raised by a function.\n",
    "- How to specify when a function is a generator.\n",
    "\n",
    "## Are there tools available to assist with writing docstrings?\n",
    "\n",
    "The `darglint` library can be used\n",
    "to check if docstrings match a given format.\n",
    "\n",
    "## A part from removing duplicates and set operations what are they advantages to using `set`?\n",
    "\n",
    "One valuable uses of `set` is to efficiently identify if an element\n",
    "is in a given iterable or not:"
   ]
  },
  {
   "cell_type": "code",
   "execution_count": 1,
   "id": "fb312fd4",
   "metadata": {
    "tags": [
     "nbval-ignore-output",
     "style-check-ignore"
    ]
   },
   "outputs": [
    {
     "name": "stdout",
     "output_type": "stream",
     "text": [
      "737 μs ± 7 μs per loop (mean ± std. dev. of 7 runs, 1,000 loops each)\n"
     ]
    }
   ],
   "source": [
    "numbers = list(range(100000))\n",
    "%timeit 100000 in numbers"
   ]
  },
  {
   "cell_type": "code",
   "execution_count": 2,
   "id": "e71d9a5e",
   "metadata": {
    "tags": [
     "nbval-ignore-output",
     "style-check-ignore"
    ]
   },
   "outputs": [
    {
     "name": "stdout",
     "output_type": "stream",
     "text": [
      "22.9 ns ± 0.577 ns per loop (mean ± std. dev. of 7 runs, 10,000,000 loops each)\n"
     ]
    }
   ],
   "source": [
    "numbers = set(range(100000))\n",
    "%timeit 100000 in numbers"
   ]
  }
 ],
 "metadata": {
  "jupytext": {
   "formats": "ipynb,md:myst",
   "text_representation": {
    "extension": ".md",
    "format_name": "myst",
    "format_version": 0.12,
    "jupytext_version": "1.6.0"
   }
  },
  "kernelspec": {
   "display_name": "Python 3",
   "language": "python",
   "name": "python3"
  },
  "language_info": {
   "codemirror_mode": {
    "name": "ipython",
    "version": 3
   },
   "file_extension": ".py",
   "mimetype": "text/x-python",
   "name": "python",
   "nbconvert_exporter": "python",
   "pygments_lexer": "ipython3",
   "version": "3.10.18"
  },
  "source_map": [
   13,
   38,
   45
  ]
 },
 "nbformat": 4,
 "nbformat_minor": 5
}