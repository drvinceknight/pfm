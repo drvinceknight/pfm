{
 "cells": [
  {
   "cell_type": "markdown",
   "id": "74e2c042",
   "metadata": {},
   "source": [
    "(documentation_exercises)=\n",
    "# Exercises\n",
    "\n",
    "**After** completing the tutorial attempt the following exercises.\n",
    "\n",
    "**If you are not sure how to do something, have a look at the \"How To\" section.**\n",
    "\n",
    "Write documentation for the `statistics.py` file written in the exercises of\n",
    "[Modularisation Exercises](modularisation_exercises)."
   ]
  }
 ],
 "metadata": {
  "jupytext": {
   "formats": "ipynb,md:myst",
   "text_representation": {
    "extension": ".md",
    "format_name": "myst",
    "format_version": 0.12,
    "jupytext_version": "1.6.0"
   }
  },
  "kernelspec": {
   "display_name": "Python 3",
   "language": "python",
   "name": "python3"
  },
  "language_info": {
   "codemirror_mode": {
    "name": "ipython",
    "version": 3
   },
   "file_extension": ".py",
   "mimetype": "text/x-python",
   "name": "python",
   "nbconvert_exporter": "python",
   "pygments_lexer": "ipython3",
   "version": "3.8.17"
  },
  "source_map": [
   13
  ]
 },
 "nbformat": 4,
 "nbformat_minor": 5
}