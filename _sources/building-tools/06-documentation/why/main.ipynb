{
 "cells": [
  {
   "cell_type": "markdown",
   "id": "3068bf6f",
   "metadata": {},
   "source": [
    "(documentation_further_information)=\n",
    "\n",
    "# Further information\n",
    "\n",
    "## What is documentation\n",
    "\n",
    "Documentation can have many different interpretations. A good definition is\n",
    "given in {cite}`martraire2019living`:\n",
    "\n",
    "> The process of transferring valuable knowledge to other people now and also to\n",
    "> people in the future.\n",
    "\n",
    "```{note}\n",
    "It is important to realise that the target of the documentation can be the\n",
    "writer of the software itself at a future date.\n",
    "```\n",
    "\n",
    "There are two types of documentation:\n",
    "\n",
    "- **Internal documentation** which includes things like docstrings and a good\n",
    "  choice of variable name.\n",
    "- **External documentation** which includes things like `README.md` and other\n",
    "  separate documentation.\n",
    "\n",
    "For a software project to be well documented it needs **both** internal and\n",
    "external documentation.\n",
    "\n",
    "In {cite}`martraire2019living` there are 4 properties of documentation:\n",
    "\n",
    "- Reliable: it needs to be accurate.\n",
    "- Low effort: it should require minimal effort when changes are made to the code\n",
    "  base.\n",
    "- Collaborative: it should be a tool from which collaboration can occur.\n",
    "- Insightful: it should give information not only to be able to use the code but\n",
    "  also to understand specific reasons why certain decisions have been made as to\n",
    "  its design.\n",
    "\n",
    "## What is the purpose of the four separate sections in documentation\n",
    "\n",
    "As discussed in <https://documentation.divio.com>:\n",
    "\n",
    "> \"Tutorials are lessons that take the reader by the hand through a series of\n",
    "> steps to complete a project of some kind. They are what your project needs in\n",
    "> order to show a beginner that they can achieve something with it.\"\n",
    "\n",
    "> \"How-to guides take the reader through the steps required to solve a\n",
    "> real-world problem\"\n",
    "\n",
    "> \"Reference guides are technical descriptions of the machinery and how to\n",
    "> operate it.\"\n",
    "\n",
    "> \"Explanation, or discussions, clarify and illuminate a particular topic. They\n",
    "> broaden the documentation’s coverage of a topic.\"\n",
    "\n",
    "It is natural when describing a project for the boundaries between these four\n",
    "topics to become fuzzy. Thus, having them explicitly in four separate sections\n",
    "ensures the reader is able to specifically find what they need.\n",
    "\n",
    "## What alternatives are there to writing documentation in `README.md`\n",
    "\n",
    "A single `README.md` file is a good way to start documenting code. However as a\n",
    "project grows it could be beneficial to use some other tools. One such example\n",
    "of this is to use `sphinx`: <https://www.sphinx-doc.org/en/>. This uses a\n",
    "different markup language called _restructured text_\n",
    "<https://docutils.sourceforge.io/rst.html> and helps build more complex\n",
    "documents but also interfaces to the code itself if necessary. So for example it\n",
    "is possible to include the code docstrings directly in the documentation (a good\n",
    "way of adding to the reference section)."
   ]
  }
 ],
 "metadata": {
  "jupytext": {
   "formats": "ipynb,md:myst",
   "text_representation": {
    "extension": ".md",
    "format_name": "myst",
    "format_version": 0.12,
    "jupytext_version": "1.6.0"
   }
  },
  "kernelspec": {
   "display_name": "Python 3",
   "language": "python",
   "name": "python3"
  },
  "language_info": {
   "codemirror_mode": {
    "name": "ipython",
    "version": 3
   },
   "file_extension": ".py",
   "mimetype": "text/x-python",
   "name": "python",
   "nbconvert_exporter": "python",
   "pygments_lexer": "ipython3",
   "version": "3.10.13"
  },
  "source_map": [
   13
  ]
 },
 "nbformat": 4,
 "nbformat_minor": 5
}