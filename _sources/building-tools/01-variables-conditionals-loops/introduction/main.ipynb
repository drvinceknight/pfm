{
 "cells": [
  {
   "cell_type": "markdown",
   "id": "7f894b9e",
   "metadata": {},
   "source": [
    "(chp:variables_conditionals_and_loops)=\n",
    "\n",
    "# Variables, conditionals and loops\n",
    "\n",
    "In the previous chapters you have explored a number of tools that allow you to use\n",
    "mathematical knowledge more efficiently. In this part of the book you will\n",
    "start to gain the knowledge necessary to build these tools.\n",
    "\n",
    "```{important}\n",
    "In this chapter you will cover:\n",
    "\n",
    "- Creating variables.\n",
    "- Run code depending on a given condition.\n",
    "- Repeat code as long as a given condition is met.\n",
    "- Repeat code over a given set.\n",
    "```"
   ]
  }
 ],
 "metadata": {
  "jupytext": {
   "formats": "ipynb,md:myst",
   "text_representation": {
    "extension": ".md",
    "format_name": "myst",
    "format_version": 0.12,
    "jupytext_version": "1.6.0"
   }
  },
  "kernelspec": {
   "display_name": "Python 3",
   "language": "python",
   "name": "python3"
  },
  "language_info": {
   "codemirror_mode": {
    "name": "ipython",
    "version": 3
   },
   "file_extension": ".py",
   "mimetype": "text/x-python",
   "name": "python",
   "nbconvert_exporter": "python",
   "pygments_lexer": "ipython3",
   "version": "3.10.18"
  },
  "source_map": [
   13
  ]
 },
 "nbformat": 4,
 "nbformat_minor": 5
}