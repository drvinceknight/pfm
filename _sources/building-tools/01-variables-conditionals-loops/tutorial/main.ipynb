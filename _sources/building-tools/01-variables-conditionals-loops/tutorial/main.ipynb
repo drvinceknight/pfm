{
 "cells": [
  {
   "cell_type": "markdown",
   "id": "84f296d3",
   "metadata": {},
   "source": [
    "# Tutorial\n",
    "\n",
    "We will here use a computer to gain some evidence to help tackle the following\n",
    "problem.\n",
    "\n",
    "```{admonition} Problem\n",
    "\n",
    "Consider the following polynomial:\n",
    "\n",
    "$$\n",
    "    p(n) = n ^ 2 + n + 41\n",
    "$$\n",
    "\n",
    "1. Verify that $p(n)$ is prime for $n\\in \\mathbb{Z}$ up until $n=20$.\n",
    "2. What is the smallest value of $n$ for which $p(n)$ is no longer prime?\n",
    "\n",
    "```\n",
    "\n",
    "We will start by defining a function for $p(n)$:"
   ]
  },
  {
   "cell_type": "code",
   "execution_count": 1,
   "id": "d2d69eca",
   "metadata": {},
   "outputs": [],
   "source": [
    "def p(n):\n",
    "    \"\"\"\n",
    "    Return the value of n ^ 2 + n + 41 for a given value of n.\n",
    "    \"\"\"\n",
    "    return n ** 2 + n + 41"
   ]
  },
  {
   "cell_type": "markdown",
   "id": "1e312bcc",
   "metadata": {},
   "source": [
    "We will use `sympy` to check if a number is prime."
   ]
  },
  {
   "cell_type": "code",
   "execution_count": 2,
   "id": "c00752f9",
   "metadata": {},
   "outputs": [
    {
     "data": {
      "text/plain": [
       "True"
      ]
     },
     "execution_count": 2,
     "metadata": {},
     "output_type": "execute_result"
    }
   ],
   "source": [
    "import sympy as sym\n",
    "\n",
    "sym.isprime(3)"
   ]
  },
  {
   "cell_type": "code",
   "execution_count": 3,
   "id": "8de718cb",
   "metadata": {},
   "outputs": [
    {
     "data": {
      "text/plain": [
       "False"
      ]
     },
     "execution_count": 3,
     "metadata": {},
     "output_type": "execute_result"
    }
   ],
   "source": [
    "sym.isprime(4)"
   ]
  },
  {
   "cell_type": "markdown",
   "id": "fc37816b",
   "metadata": {},
   "source": [
    "Now to answer the first question we will use a list comprehension to create a\n",
    "list of boolean variables that confirm if $p(n)$ is prime.\n",
    "\n",
    "```{tip}\n",
    "This is similar to what we did in {ref}`probability`.\n",
    "```"
   ]
  },
  {
   "cell_type": "code",
   "execution_count": 4,
   "id": "8bc15ad8",
   "metadata": {},
   "outputs": [
    {
     "data": {
      "text/plain": [
       "[True,\n",
       " True,\n",
       " True,\n",
       " True,\n",
       " True,\n",
       " True,\n",
       " True,\n",
       " True,\n",
       " True,\n",
       " True,\n",
       " True,\n",
       " True,\n",
       " True,\n",
       " True,\n",
       " True,\n",
       " True,\n",
       " True,\n",
       " True,\n",
       " True,\n",
       " True,\n",
       " True]"
      ]
     },
     "execution_count": 4,
     "metadata": {},
     "output_type": "execute_result"
    }
   ],
   "source": [
    "checks = [sym.isprime(p(n)) for n in range(21)]\n",
    "checks"
   ]
  },
  {
   "cell_type": "markdown",
   "id": "5456f1d8",
   "metadata": {},
   "source": [
    "We can use the `all` tool to check if all the boolean values are true:"
   ]
  },
  {
   "cell_type": "code",
   "execution_count": 5,
   "id": "090d307a",
   "metadata": {},
   "outputs": [
    {
     "data": {
      "text/plain": [
       "True"
      ]
     },
     "execution_count": 5,
     "metadata": {},
     "output_type": "execute_result"
    }
   ],
   "source": [
    "all(checks)"
   ]
  },
  {
   "cell_type": "markdown",
   "id": "cbc62d47",
   "metadata": {},
   "source": [
    "```{attention}\n",
    "Using list comprehensions is a mathematical way of repeating code but at times\n",
    "it might prove useful to repeat code in a different way using a standard `for`\n",
    "statement.\n",
    "```\n",
    "\n",
    "In that case we can essentially repeat the previous exercise using:"
   ]
  },
  {
   "cell_type": "code",
   "execution_count": 6,
   "id": "1664c06b",
   "metadata": {},
   "outputs": [
    {
     "data": {
      "text/plain": [
       "True"
      ]
     },
     "execution_count": 6,
     "metadata": {},
     "output_type": "execute_result"
    }
   ],
   "source": [
    "checks = []\n",
    "for n in range(21):\n",
    "    value = p(n)\n",
    "    is_prime = sym.isprime(value)\n",
    "    checks.append(is_prime)\n",
    "all(checks)"
   ]
  },
  {
   "cell_type": "markdown",
   "id": "af15c106",
   "metadata": {},
   "source": [
    "The main difference between the two approaches is that we can include multiple\n",
    "lines of indented code to be repeated for every value of `n` in `range(21)`.\n",
    "\n",
    "```{attention}\n",
    "A `for` loop or a list comprehension should be used when we know how many\n",
    "repetitions we want to make.\n",
    "```\n",
    "\n",
    "To answer the second question we will repeat the code until the value of $p(n)$\n",
    "is no longer prime."
   ]
  },
  {
   "cell_type": "code",
   "execution_count": 7,
   "id": "be1f870a",
   "metadata": {},
   "outputs": [
    {
     "data": {
      "text/plain": [
       "40"
      ]
     },
     "execution_count": 7,
     "metadata": {},
     "output_type": "execute_result"
    }
   ],
   "source": [
    "n = 0\n",
    "while sym.isprime(p(n)):\n",
    "    n += 1\n",
    "n"
   ]
  },
  {
   "cell_type": "markdown",
   "id": "8a5fb662",
   "metadata": {},
   "source": [
    "```{attention}\n",
    "A `while` loop should be used when we do not know how many times a repetition\n",
    "should be made **but** we know under what conditions is should be made\n",
    "```\n",
    "\n",
    "Indeed for that value of $n$ we have:"
   ]
  },
  {
   "cell_type": "code",
   "execution_count": 8,
   "id": "b812e2a9",
   "metadata": {},
   "outputs": [
    {
     "data": {
      "text/plain": [
       "1681"
      ]
     },
     "execution_count": 8,
     "metadata": {},
     "output_type": "execute_result"
    }
   ],
   "source": [
    "p(n)"
   ]
  },
  {
   "cell_type": "markdown",
   "id": "63bf5333",
   "metadata": {},
   "source": [
    "and"
   ]
  },
  {
   "cell_type": "code",
   "execution_count": 9,
   "id": "247dee48",
   "metadata": {},
   "outputs": [
    {
     "data": {
      "text/plain": [
       "False"
      ]
     },
     "execution_count": 9,
     "metadata": {},
     "output_type": "execute_result"
    }
   ],
   "source": [
    "sym.isprime(p(n))"
   ]
  },
  {
   "cell_type": "markdown",
   "id": "4636e475",
   "metadata": {},
   "source": [
    "`sympy` can also factor the number for us:"
   ]
  },
  {
   "cell_type": "code",
   "execution_count": 10,
   "id": "bf07b6e9",
   "metadata": {},
   "outputs": [
    {
     "data": {
      "text/plain": [
       "{41: 2}"
      ]
     },
     "execution_count": 10,
     "metadata": {},
     "output_type": "execute_result"
    }
   ],
   "source": [
    "sym.factorint(p(n))"
   ]
  },
  {
   "cell_type": "markdown",
   "id": "cd072474",
   "metadata": {},
   "source": [
    "Indeed:"
   ]
  },
  {
   "cell_type": "code",
   "execution_count": 11,
   "id": "f77304a0",
   "metadata": {},
   "outputs": [
    {
     "data": {
      "text/plain": [
       "1681"
      ]
     },
     "execution_count": 11,
     "metadata": {},
     "output_type": "execute_result"
    }
   ],
   "source": [
    "41 ** 2"
   ]
  }
 ],
 "metadata": {
  "jupytext": {
   "formats": "ipynb,md:myst",
   "text_representation": {
    "extension": ".md",
    "format_name": "myst",
    "format_version": 0.12,
    "jupytext_version": "1.6.0"
   }
  },
  "kernelspec": {
   "display_name": "Python 3",
   "language": "python",
   "name": "python3"
  },
  "language_info": {
   "codemirror_mode": {
    "name": "ipython",
    "version": 3
   },
   "file_extension": ".py",
   "mimetype": "text/x-python",
   "name": "python",
   "nbconvert_exporter": "python",
   "pygments_lexer": "ipython3",
   "version": "3.10.13"
  },
  "source_map": [
   13,
   35,
   41,
   45,
   51,
   53,
   62,
   65,
   69,
   71,
   81,
   88,
   101,
   106,
   115,
   117,
   121,
   123,
   127,
   129,
   133
  ]
 },
 "nbformat": 4,
 "nbformat_minor": 5
}