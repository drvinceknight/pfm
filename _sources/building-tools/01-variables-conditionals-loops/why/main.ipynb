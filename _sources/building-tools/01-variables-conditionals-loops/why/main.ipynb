{
 "cells": [
  {
   "cell_type": "markdown",
   "id": "ee331fd3",
   "metadata": {},
   "source": [
    "# Further information\n",
    "\n",
    "## Why can I not only use a `while` loop\n",
    "\n",
    "The `for` loop allows us to iterate over any selection of objects. Some\n",
    "languages do not have a generic `for` loop like this. In some cases it is only\n",
    "possible to iterate over a set of integers (similar to the `for i in range(n)`\n",
    "pattern) or to only use a `while` loop.\n",
    "\n",
    "Because of this, it is often the case that you will see code that uses `while`\n",
    "loops instead of `for` loops. For example:"
   ]
  },
  {
   "cell_type": "code",
   "execution_count": 1,
   "id": "823753d7",
   "metadata": {},
   "outputs": [
    {
     "name": "stdout",
     "output_type": "stream",
     "text": [
      "Winter\n",
      "Spring\n",
      "Summer\n",
      "Autumn\n"
     ]
    }
   ],
   "source": [
    "seasons = (\"Winter\", \"Spring\", \"Summer\", \"Autumn\")\n",
    "\n",
    "number_of_seasons = len(seasons)\n",
    "i = 0\n",
    "while i < number_of_seasons:\n",
    "    season = seasons[i]\n",
    "    print(season)\n",
    "    i += 1"
   ]
  },
  {
   "cell_type": "markdown",
   "id": "386a5119",
   "metadata": {},
   "source": [
    "The above code is equivalent to:"
   ]
  },
  {
   "cell_type": "code",
   "execution_count": 2,
   "id": "3c7d6d57",
   "metadata": {},
   "outputs": [
    {
     "name": "stdout",
     "output_type": "stream",
     "text": [
      "Winter\n",
      "Spring\n",
      "Summer\n",
      "Autumn\n"
     ]
    }
   ],
   "source": [
    "seasons = (\"Winter\", \"Spring\", \"Summer\", \"Autumn\")\n",
    "for season in seasons:\n",
    "    print(season)"
   ]
  },
  {
   "cell_type": "markdown",
   "id": "fe7b9470",
   "metadata": {},
   "source": [
    "While it is possible to use a `while` loop instead of a `for` loop there are no\n",
    "advantages to doing that and in fact only disadvantages:\n",
    "\n",
    "- Using the `while` loop requires iterating over the iterable twice: the first\n",
    "  time when counting the length of it using [`len`](find_the_number_of_elements_in_an_iterable) and the second time during the\n",
    "  `while` statement itself.\n",
    "- There is more potential for error in the code: it would not be unlikely to\n",
    "  have an off by one error in the boolean condition.\n",
    "- It is less readable.\n",
    "\n",
    "The following is a good guideline:\n",
    "\n",
    "- Use a `for` loop when you know what you are iterating over.\n",
    "- Use a `while` loop when only know a specific condition under which you should\n",
    "  iterate.\n",
    "\n",
    "## Why should I not check if a boolean is equal to `True` or `False`\n",
    "\n",
    "It is possible to create a boolean by comparing another boolean to `True` or\n",
    "`False` for example:"
   ]
  },
  {
   "cell_type": "code",
   "execution_count": 3,
   "id": "5da4e5a1",
   "metadata": {},
   "outputs": [
    {
     "data": {
      "text/plain": [
       "False"
      ]
     },
     "execution_count": 3,
     "metadata": {},
     "output_type": "execute_result"
    }
   ],
   "source": [
    "boolean = False\n",
    "boolean == True"
   ]
  },
  {
   "cell_type": "markdown",
   "id": "8ee52acf",
   "metadata": {},
   "source": [
    "Thus when using `if` or `while` statements you might sometimes see things like\n",
    "the following:"
   ]
  },
  {
   "cell_type": "code",
   "execution_count": 4,
   "id": "de8f3f76",
   "metadata": {},
   "outputs": [
    {
     "data": {
      "text/plain": [
       "2"
      ]
     },
     "execution_count": 4,
     "metadata": {},
     "output_type": "execute_result"
    }
   ],
   "source": [
    "import random\n",
    "\n",
    "random.seed(4)\n",
    "selected_integer = random.randint(0, 10)\n",
    "number_of_selections = 1\n",
    "while (selected_integer % 2 == 1) == True:\n",
    "    selected_integer = random.randint(0, 10)\n",
    "    number_of_selections += 1\n",
    "number_of_selections"
   ]
  },
  {
   "cell_type": "markdown",
   "id": "98282040",
   "metadata": {},
   "source": [
    "or:"
   ]
  },
  {
   "cell_type": "code",
   "execution_count": 5,
   "id": "192e887f",
   "metadata": {},
   "outputs": [
    {
     "data": {
      "text/plain": [
       "2"
      ]
     },
     "execution_count": 5,
     "metadata": {},
     "output_type": "execute_result"
    }
   ],
   "source": [
    "random.seed(4)\n",
    "selected_integer = random.randint(0, 10)\n",
    "number_of_selections = 1\n",
    "while (selected_integer % 2 == 1):\n",
    "    selected_integer = random.randint(0, 10)\n",
    "    number_of_selections += 1\n",
    "number_of_selections"
   ]
  },
  {
   "cell_type": "markdown",
   "id": "d9e9b074",
   "metadata": {},
   "source": [
    "However this is not best practice. A better approach is to use `is` instead of\n",
    "`==`:"
   ]
  },
  {
   "cell_type": "code",
   "execution_count": 6,
   "id": "1de8644a",
   "metadata": {},
   "outputs": [
    {
     "data": {
      "text/plain": [
       "2"
      ]
     },
     "execution_count": 6,
     "metadata": {},
     "output_type": "execute_result"
    }
   ],
   "source": [
    "import random\n",
    "\n",
    "random.seed(4)\n",
    "selected_integer = random.randint(0, 10)\n",
    "number_of_selections = 1\n",
    "while (selected_integer % 2 == 1) is True:\n",
    "    selected_integer = random.randint(0, 10)\n",
    "    number_of_selections += 1\n",
    "number_of_selections"
   ]
  },
  {
   "cell_type": "markdown",
   "id": "3c35695c",
   "metadata": {},
   "source": [
    "This is due to the fact that when using `==` variables that are not booleans\n",
    "will be converted to booleans and this might not be the expected behaviour.\n",
    "\n",
    "For example:"
   ]
  },
  {
   "cell_type": "code",
   "execution_count": 7,
   "id": "129859fe",
   "metadata": {},
   "outputs": [
    {
     "data": {
      "text/plain": [
       "True"
      ]
     },
     "execution_count": 7,
     "metadata": {},
     "output_type": "execute_result"
    }
   ],
   "source": [
    "number = 0\n",
    "number == False"
   ]
  },
  {
   "cell_type": "markdown",
   "id": "5291e3c6",
   "metadata": {},
   "source": [
    "however:"
   ]
  },
  {
   "cell_type": "code",
   "execution_count": 8,
   "id": "9c393cc7",
   "metadata": {},
   "outputs": [
    {
     "data": {
      "text/plain": [
       "False"
      ]
     },
     "execution_count": 8,
     "metadata": {},
     "output_type": "execute_result"
    }
   ],
   "source": [
    "number is False"
   ]
  }
 ],
 "metadata": {
  "jupytext": {
   "formats": "ipynb,md:myst",
   "text_representation": {
    "extension": ".md",
    "format_name": "myst",
    "format_version": 0.12,
    "jupytext_version": "1.6.0"
   }
  },
  "kernelspec": {
   "display_name": "Python 3",
   "language": "python",
   "name": "python3"
  },
  "language_info": {
   "codemirror_mode": {
    "name": "ipython",
    "version": 3
   },
   "file_extension": ".py",
   "mimetype": "text/x-python",
   "name": "python",
   "nbconvert_exporter": "python",
   "pygments_lexer": "ipython3",
   "version": "3.10.14"
  },
  "source_map": [
   13,
   27,
   36,
   40,
   44,
   67,
   70,
   75,
   85,
   89,
   98,
   103,
   113,
   120,
   123,
   127
  ]
 },
 "nbformat": 4,
 "nbformat_minor": 5
}