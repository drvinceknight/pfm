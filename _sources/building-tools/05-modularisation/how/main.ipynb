{
 "cells": [
  {
   "cell_type": "markdown",
   "id": "53fb8f43",
   "metadata": {},
   "source": [
    "# How\n",
    "\n",
    "## How to import code from python files\n",
    "\n",
    "Given a `<file.py>` file in a directory any other python process in the same\n",
    "directory can import that file as it would a normal library.\n",
    "\n",
    "````{tip}\n",
    "```\n",
    "import <file>\n",
    "```\n",
    "````\n",
    "\n",
    "At that stage it is possible to uses any python object (a `function`, a `class`, a\n",
    "`variable`) by referring to the `<file.py>` as library:\n",
    "\n",
    "```\n",
    "<file>.function\n",
    "<file>.class\n",
    "<file>.variable\n",
    "```\n",
    "\n",
    "See the {ref}`modularisation_tutorial` for examples of this.\n",
    "\n",
    "## How to break up code in to modular components\n",
    "\n",
    "When modularising code aim to identify specific components of the code that can\n",
    "be isolated from the rest.\n",
    "\n",
    "In practice this means writing multiple functions that use the correct inputs\n",
    "and outputs in chain for an overall goal.\n",
    "\n",
    "Often this allows us to write a more comprehensive docstring that explains\n",
    "specific parts of the implemented process.\n",
    "\n",
    "As an example, consider the problem of wanting to pay a shared bill after\n",
    "applying a tip, the following function will do this:"
   ]
  },
  {
   "cell_type": "code",
   "execution_count": 1,
   "id": "a8ed7476",
   "metadata": {},
   "outputs": [],
   "source": [
    "def add_tip_and_get_bill_share(total, tip_proportion, number_of_payers):\n",
    "    \"\"\"\n",
    "    This returns the share of a bill to be paid by `number_of_payers`\n",
    "    ensuring the total paid includes a tip.\n",
    "    \"\"\"\n",
    "    tip_amount = tip_proportion * total\n",
    "    total += tip_amount\n",
    "    return total / number_of_payers"
   ]
  },
  {
   "cell_type": "markdown",
   "id": "dc5b09f9",
   "metadata": {},
   "source": [
    "We can check that this works:"
   ]
  },
  {
   "cell_type": "code",
   "execution_count": 2,
   "id": "b89d0ae5",
   "metadata": {},
   "outputs": [
    {
     "data": {
      "text/plain": [
       "20.0"
      ]
     },
     "execution_count": 2,
     "metadata": {},
     "output_type": "execute_result"
    }
   ],
   "source": [
    "add_tip_and_get_bill_share(total=100, tip_proportion=0.2, number_of_payers=6)"
   ]
  },
  {
   "cell_type": "markdown",
   "id": "cd04fdf5",
   "metadata": {},
   "source": [
    "An improvement of the above would be:"
   ]
  },
  {
   "cell_type": "code",
   "execution_count": 3,
   "id": "0f5f6510",
   "metadata": {},
   "outputs": [],
   "source": [
    "def add_tip(total, tip_proportion):\n",
    "    \"\"\"\n",
    "    This adds the given proportion to a bill total.\n",
    "\n",
    "    Note that tip_proportion is a number between 0 and 1. A tip_proportion of 0\n",
    "    corresponds to no tip and a tip_proportion of 1 corresponds to paying the\n",
    "    total twice.\n",
    "    \"\"\"\n",
    "    tip_amount = tip_proportion * total\n",
    "    return total + tip_amount\n",
    "\n",
    "\n",
    "def get_bill_share(total, number_of_payers):\n",
    "    \"\"\"\n",
    "    This returns the share of a bill by dividing the total by the number of\n",
    "    payers.\n",
    "    \"\"\"\n",
    "    return total / number_of_payers"
   ]
  },
  {
   "cell_type": "markdown",
   "id": "c7415ec5",
   "metadata": {},
   "source": [
    "Then to use the above we would be able to explicitly write out each step which\n",
    "ensures that there is clarity in what is being done:"
   ]
  },
  {
   "cell_type": "code",
   "execution_count": 4,
   "id": "e1275aff",
   "metadata": {},
   "outputs": [
    {
     "data": {
      "text/plain": [
       "20.0"
      ]
     },
     "execution_count": 4,
     "metadata": {},
     "output_type": "execute_result"
    }
   ],
   "source": [
    "total = add_tip(total=100, tip_proportion=0.2)\n",
    "get_bill_share(total=total, number_of_payers=6)"
   ]
  },
  {
   "cell_type": "markdown",
   "id": "8d416f23",
   "metadata": {},
   "source": [
    "You can read more and find reference texts about\n",
    "modularisation at {ref}`why_modularise`."
   ]
  }
 ],
 "metadata": {
  "jupytext": {
   "formats": "ipynb,md:myst",
   "text_representation": {
    "extension": ".md",
    "format_name": "myst",
    "format_version": 0.12,
    "jupytext_version": "1.6.0"
   }
  },
  "kernelspec": {
   "display_name": "Python 3",
   "language": "python",
   "name": "python3"
  },
  "language_info": {
   "codemirror_mode": {
    "name": "ipython",
    "version": 3
   },
   "file_extension": ".py",
   "mimetype": "text/x-python",
   "name": "python",
   "nbconvert_exporter": "python",
   "pygments_lexer": "ipython3",
   "version": "3.10.13"
  },
  "source_map": [
   13,
   53,
   62,
   66,
   68,
   72,
   91,
   96,
   99
  ]
 },
 "nbformat": 4,
 "nbformat_minor": 5
}