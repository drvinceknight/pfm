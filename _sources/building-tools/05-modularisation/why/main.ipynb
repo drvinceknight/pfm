{
 "cells": [
  {
   "cell_type": "markdown",
   "id": "c42155d4",
   "metadata": {},
   "source": [
    "# Further information\n",
    "\n",
    "(why_modularise)=\n",
    "\n",
    "## Why modularise?\n",
    "\n",
    "Best practice when writing code is to break up code in to modular parts. One\n",
    "guiding principle described in {cite}`fowler2018refactoring`:\n",
    "\n",
    "<!--alex disable obvious-->\n",
    "<!--alex disable easy-->\n",
    "\n",
    "> \"Code should be obvious. When someone needs to make a change, they should be\n",
    "> able to find the code to be changed easily and make the change quickly without\n",
    "> introducing any errors.\"\n",
    "\n",
    "<!--alex enable easy-->\n",
    "<!--alex enable obvious-->\n",
    "\n",
    "Whilst this guiding principle is ambiguous and all concepts related to clean\n",
    "code writing and refactoring are not things that can be covered in this book one\n",
    "specific principle is the one referred to in {cite}`martin2009clean`:\n",
    "\n",
    "> \"Functions should do one thing. They should do it well. They should do it\n",
    "> only.\"\n",
    "\n",
    "```{note}\n",
    "In some texts on code architecture you will see arbitrary rules about how many\n",
    "lines of code should be in a given function. Having a function with 10 or more\n",
    "lines of could might indicate that it can be modularised. **However**, I do not\n",
    "recommend following such rules as sometimes they might add more complexity than\n",
    "they remove. I recommend you stick to the principles of making your code clear and\n",
    "ensuring your functions do one thing well and one thing only.\n",
    "```\n",
    "\n",
    "## Why do I get an import error?\n",
    "\n",
    "The most probable explanation for this is that you are importing a file that is\n",
    "not in the same directory or that you have not imported the file with the\n",
    "correct name.\n",
    "\n",
    "If we assume that your code is in a `library.py` directory but that your\n",
    "notebook is in a **different** directory then you will get an error as shown\n",
    "below:"
   ]
  },
  {
   "cell_type": "code",
   "execution_count": 1,
   "id": "63f06407",
   "metadata": {
    "tags": [
     "raises-exception"
    ]
   },
   "outputs": [
    {
     "ename": "ModuleNotFoundError",
     "evalue": "No module named 'library'",
     "output_type": "error",
     "traceback": [
      "\u001b[0;31m---------------------------------------------------------------------------\u001b[0m",
      "\u001b[0;31mModuleNotFoundError\u001b[0m                       Traceback (most recent call last)",
      "Cell \u001b[0;32mIn[1], line 1\u001b[0m\n\u001b[0;32m----> 1\u001b[0m \u001b[38;5;28;01mimport\u001b[39;00m \u001b[38;5;21;01mlibrary\u001b[39;00m\n",
      "\u001b[0;31mModuleNotFoundError\u001b[0m: No module named 'library'"
     ]
    }
   ],
   "source": [
    "import library"
   ]
  },
  {
   "cell_type": "markdown",
   "id": "c3fde8e6",
   "metadata": {},
   "source": [
    "Similarly if you perhaps incorrectly saved your `library.py` file with a typo in\n",
    "the name such as: `librery.py` then you would get the same error.\n",
    "\n",
    "## How do I make my file importable from other directories?\n",
    "\n",
    "This falls under the subject matter of \"packaging\". We will not cover this in\n",
    "this book but some good information on the practice is available at the\n",
    "following:\n",
    "\n",
    "- <https://the-hitchhikers-guide-to-packaging.readthedocs.io/en/latest/>\n",
    "- <https://packaging.python.org>\n",
    "- <https://packaging.python.org/overview/>\n",
    "- <https://python-packaging-tutorial.readthedocs.io/en/latest/setup_py.html>"
   ]
  }
 ],
 "metadata": {
  "jupytext": {
   "formats": "ipynb,md:myst",
   "text_representation": {
    "extension": ".md",
    "format_name": "myst",
    "format_version": 0.12,
    "jupytext_version": "1.6.0"
   }
  },
  "kernelspec": {
   "display_name": "Python 3",
   "language": "python",
   "name": "python3"
  },
  "language_info": {
   "codemirror_mode": {
    "name": "ipython",
    "version": 3
   },
   "file_extension": ".py",
   "mimetype": "text/x-python",
   "name": "python",
   "nbconvert_exporter": "python",
   "pygments_lexer": "ipython3",
   "version": "3.10.13"
  },
  "source_map": [
   13,
   60,
   65
  ]
 },
 "nbformat": 4,
 "nbformat_minor": 5
}