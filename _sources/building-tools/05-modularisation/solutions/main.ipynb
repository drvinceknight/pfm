{
 "cells": [
  {
   "cell_type": "markdown",
   "id": "2a944b64",
   "metadata": {},
   "source": [
    "# Solutions\n",
    "\n",
    "## Question 1\n",
    "\n",
    "> `1`. Use the code written in the [Modularisation Tutorial](modularisation_tutorial) to obtain the average time\n",
    "   until absorption from the first state of the Markov chains with the following transition matrices:\n",
    "\n",
    "**After making sure the `absorption.py` file written in the [Modularisation\n",
    "Tutorial](modularisation_tutorial) is in the same directory as our notebook we\n",
    "can answer the questions:**\n",
    "\n",
    "> `1`. $P = \\begin{pmatrix}1/2 & 1/2 \\\\ 0 & 1 \\end{pmatrix}$\n",
    "\n",
    "We will use `numpy` for our matrices:"
   ]
  },
  {
   "cell_type": "code",
   "execution_count": 1,
   "id": "c5a9ac51",
   "metadata": {},
   "outputs": [],
   "source": [
    "import numpy as np"
   ]
  },
  {
   "cell_type": "markdown",
   "id": "61718612",
   "metadata": {},
   "source": [
    "and we import the `absorption.py` file:"
   ]
  },
  {
   "cell_type": "code",
   "execution_count": 2,
   "id": "a7c14681",
   "metadata": {},
   "outputs": [],
   "source": [
    "import absorption"
   ]
  },
  {
   "cell_type": "markdown",
   "id": "d6a94057",
   "metadata": {},
   "source": [
    "Now we use it:"
   ]
  },
  {
   "cell_type": "code",
   "execution_count": 3,
   "id": "1b45575e",
   "metadata": {},
   "outputs": [
    {
     "data": {
      "text/plain": [
       "2.0"
      ]
     },
     "execution_count": 3,
     "metadata": {},
     "output_type": "execute_result"
    }
   ],
   "source": [
    "P = np.array(((1 / 2, 1 / 2), (0, 1)))\n",
    "t = absorption.compute_t(P)\n",
    "t[0]"
   ]
  },
  {
   "cell_type": "markdown",
   "id": "a06d4a0a",
   "metadata": {},
   "source": [
    "> `2`. $P = \\begin{pmatrix}1/2 & 1/4 & 1/4\\\\ 1/3 & 1/3 & 1/3  \\\\0 & 0 & 1 \\end{pmatrix}$"
   ]
  },
  {
   "cell_type": "code",
   "execution_count": 4,
   "id": "82e7a97a",
   "metadata": {},
   "outputs": [
    {
     "data": {
      "text/plain": [
       "3.666666666666666"
      ]
     },
     "execution_count": 4,
     "metadata": {},
     "output_type": "execute_result"
    }
   ],
   "source": [
    "P = np.array(((1 / 2, 1 / 4, 1 / 4), (1 / 3, 1 / 3, 1 / 3), (0, 0, 1)))\n",
    "t = absorption.compute_t(P)\n",
    "t[0]"
   ]
  },
  {
   "cell_type": "markdown",
   "id": "b8b4962f",
   "metadata": {},
   "source": [
    "> `3`. $P = \\begin{pmatrix}1 & 0 \\\\ 1/2 & 1/2 \\end{pmatrix}$"
   ]
  },
  {
   "cell_type": "code",
   "execution_count": 5,
   "id": "51abd07d",
   "metadata": {},
   "outputs": [
    {
     "data": {
      "text/plain": [
       "2.0"
      ]
     },
     "execution_count": 5,
     "metadata": {},
     "output_type": "execute_result"
    }
   ],
   "source": [
    "P = np.array(((1, 0), (1 / 2, 1 / 2)))\n",
    "t = absorption.compute_t(P)\n",
    "t[0]"
   ]
  },
  {
   "cell_type": "markdown",
   "id": "f46d2e4f",
   "metadata": {},
   "source": [
    "> `4`. $P = \\begin{pmatrix}1/2 & 1/4 & 1/4\\\\ 1/3 & 1/3 & 1/3  \\\\1/5 & 0 & 4/5 \\end{pmatrix}$"
   ]
  },
  {
   "cell_type": "code",
   "execution_count": 6,
   "id": "bcc20a32",
   "metadata": {
    "tags": [
     "nbval-ignore-output"
    ]
   },
   "outputs": [
    {
     "data": {
      "text/plain": [
       "-6.244991483287086e+16"
      ]
     },
     "execution_count": 6,
     "metadata": {},
     "output_type": "execute_result"
    }
   ],
   "source": [
    "P = np.array(((1 / 2, 1 / 4, 1 / 4), (1 / 3, 1 / 3, 1 / 3), (1 / 5, 0, 4 / 5)))\n",
    "t = absorption.compute_t(P)\n",
    "t[0]"
   ]
  },
  {
   "cell_type": "markdown",
   "id": "38546e2a",
   "metadata": {},
   "source": [
    "We see here that we get a large negative number which is nonsensical as an\n",
    "average time till absorption. **However** the matrix given is not absorbing (it\n",
    "has no diagonal entry with value 1).\n",
    "\n",
    "## Question 2\n",
    "\n",
    "> 2. Modularise the following code by creating a function `flip_coin` that takes a\n",
    "   `probability_of_selecting_heads` variable.\n",
    "\n",
    ">   ```\n",
    ">   def sample_experiment(bag):\n",
    ">       \"\"\"\n",
    ">       This samples a token from a given bag and then\n",
    ">       selects a coin with a given probability.\n",
    ">\n",
    ">       If the sampled token is red then the probability\n",
    ">       of selecting heads is 4/5 otherwise it is 2/5.\n",
    ">\n",
    ">       This function returns both the selected token\n",
    ">       and the coin face.\n",
    ">       \"\"\"\n",
    ">       selected_token = pick_a_token(container=bag)\n",
    ">\n",
    ">       if selected_token == \"Red\":\n",
    ">           probability_of_selecting_heads = 4 / 5\n",
    ">       else:\n",
    ">           probability_of_selecting_heads = 2 / 5\n",
    ">\n",
    ">       if random.random() < probability_of_selecting_heads:\n",
    ">           coin = \"Heads\"\n",
    ">       else:\n",
    ">           coin = \"Tails\"\n",
    ">       return selected_token, coin\n",
    ">   ```"
   ]
  },
  {
   "cell_type": "code",
   "execution_count": 7,
   "id": "9b2f52b9",
   "metadata": {
    "tags": [
     "remove-input"
    ]
   },
   "outputs": [],
   "source": [
    "def pick_a_token(container):\n",
    "    \"\"\"\n",
    "    A function to randomly sample from a `container`.\n",
    "    \"\"\"\n",
    "    return random.choice(container)"
   ]
  },
  {
   "cell_type": "code",
   "execution_count": 8,
   "id": "fccb5f4d",
   "metadata": {},
   "outputs": [],
   "source": [
    "import random\n",
    "\n",
    "\n",
    "def flip_coin(probability_of_selecting_heads):\n",
    "    \"\"\"\n",
    "    This flips a coin with a given probability of selecting heads.\n",
    "    \"\"\"\n",
    "    if random.random() < probability_of_selecting_heads:\n",
    "        return \"Heads\"\n",
    "    return \"Tails\""
   ]
  },
  {
   "cell_type": "markdown",
   "id": "f2027ef0",
   "metadata": {},
   "source": [
    "Now the above function becomes:"
   ]
  },
  {
   "cell_type": "code",
   "execution_count": 9,
   "id": "666fa9dd",
   "metadata": {},
   "outputs": [],
   "source": [
    "def sample_experiment(bag):\n",
    "    \"\"\"\n",
    "    This samples a token from a given bag and then\n",
    "    selects a coin with a given probability.\n",
    "\n",
    "    If the sampled token is red then the probability\n",
    "    of selecting heads is 4/5 otherwise it is 2/5.\n",
    "\n",
    "    This function returns both the selected token\n",
    "    and the coin face.\n",
    "    \"\"\"\n",
    "    selected_token = pick_a_token(container=bag)\n",
    "\n",
    "    if selected_token == \"Red\":\n",
    "        return selected_token, flip_coin(probability_of_selecting_heads=4 / 5)\n",
    "    return selected_token, flip_coin(probability_of_selecting_heads=2 / 5)"
   ]
  },
  {
   "cell_type": "markdown",
   "id": "fa55553a",
   "metadata": {},
   "source": [
    "## Question 3\n",
    "\n",
    "> 3. Modularise the following code by writing 2 further functions:\n",
    "\n",
    ">   - `get_potential_divisors`: A function to return the integers between 2 and\n",
    "     $\\sqrt{N}$ for a given $N$.\n",
    ">   - `is_divisor`: A function to check if $n | N$ (\"$n$ divides $N$\") for given\n",
    "     $n, N$.\n",
    "\n",
    ">   ```\n",
    ">   import math\n",
    ">\n",
    ">   def is_prime(N):\n",
    ">        \"\"\"\n",
    ">       Checks if a number N is prime by checking all that positive integers\n",
    ">       numbers less sqrt(N) than it that divide it.\n",
    ">\n",
    ">       Note that if N is not a positive integer great than 1 then it does not\n",
    ">       check: it returns False.\n",
    ">       \"\"\"\n",
    ">       if N <= 1 or type(N) is not int:\n",
    ">           return False\n",
    ">       for potential_divisor in range(2, int(math.sqrt(N)) + 1):\n",
    ">           if (N % potential_divisor) == 0:\n",
    ">               return False\n",
    ">       return True\n",
    ">   ```"
   ]
  },
  {
   "cell_type": "code",
   "execution_count": 10,
   "id": "2dd45df9",
   "metadata": {},
   "outputs": [],
   "source": [
    "def get_potential_divisors(N):\n",
    "    \"\"\"\n",
    "    Returns the integers between 2 and $\\sqrt{N}$.\n",
    "    \"\"\"\n",
    "    return range(2, int(math.sqrt(N) + 1))"
   ]
  },
  {
   "cell_type": "code",
   "execution_count": 11,
   "id": "ba68f423",
   "metadata": {},
   "outputs": [],
   "source": [
    "def is_divisor(N, n):\n",
    "    \"\"\"\n",
    "    Returns a boolean whether or not n divides N\n",
    "    \"\"\"\n",
    "    return N % n == 0"
   ]
  },
  {
   "cell_type": "markdown",
   "id": "226f46b3",
   "metadata": {},
   "source": [
    "Now the `is_prime` function can be written as:"
   ]
  },
  {
   "cell_type": "code",
   "execution_count": 12,
   "id": "bdfc7175",
   "metadata": {},
   "outputs": [],
   "source": [
    "import math\n",
    "\n",
    "\n",
    "def is_prime(N):\n",
    "    \"\"\"\n",
    "    Checks if a number N is prime by checking all that positive integers\n",
    "    numbers less sqrt(N) than it that divide it.\n",
    "\n",
    "    Note that if N is not a positive integer great than 1 then it does not\n",
    "    check: it returns False.\n",
    "    \"\"\"\n",
    "    if N <= 1 or type(N) is not int:\n",
    "        return False\n",
    "\n",
    "    for potential_divisor in get_potential_divisors(N):\n",
    "        if is_divisor(N, potential_divisor):\n",
    "            return False\n",
    "    return True"
   ]
  },
  {
   "cell_type": "markdown",
   "id": "e7f76af0",
   "metadata": {},
   "source": [
    ">   Confirm your work by comparing to the results of using `sympy.isprime`.\n",
    "\n",
    "We see that `sympy.isprime` and `isprime` give the same value for the first 100\n",
    "possible values:"
   ]
  },
  {
   "cell_type": "code",
   "execution_count": 13,
   "id": "b564fa6a",
   "metadata": {
    "tags": [
     "output_scroll"
    ]
   },
   "outputs": [
    {
     "name": "stdout",
     "output_type": "stream",
     "text": [
      "True\n",
      "True\n",
      "True\n",
      "True\n",
      "True\n",
      "True\n",
      "True\n",
      "True\n",
      "True\n",
      "True\n",
      "True\n",
      "True\n",
      "True\n",
      "True\n",
      "True\n",
      "True\n",
      "True\n",
      "True\n",
      "True\n",
      "True\n",
      "True\n",
      "True\n",
      "True\n",
      "True\n",
      "True\n",
      "True\n",
      "True\n",
      "True\n",
      "True\n",
      "True\n",
      "True\n",
      "True\n",
      "True\n",
      "True\n",
      "True\n",
      "True\n",
      "True\n",
      "True\n",
      "True\n",
      "True\n",
      "True\n",
      "True\n",
      "True\n",
      "True\n",
      "True\n",
      "True\n",
      "True\n",
      "True\n",
      "True\n",
      "True\n",
      "True\n",
      "True\n",
      "True\n",
      "True\n",
      "True\n",
      "True\n",
      "True\n",
      "True\n",
      "True\n",
      "True\n",
      "True\n",
      "True\n",
      "True\n",
      "True\n",
      "True\n",
      "True\n",
      "True\n",
      "True\n",
      "True\n",
      "True\n",
      "True\n",
      "True\n",
      "True\n",
      "True\n",
      "True\n",
      "True\n",
      "True\n",
      "True\n",
      "True\n",
      "True\n",
      "True\n",
      "True\n",
      "True\n",
      "True\n",
      "True\n",
      "True\n",
      "True\n",
      "True\n",
      "True\n",
      "True\n",
      "True\n",
      "True\n",
      "True\n",
      "True\n",
      "True\n",
      "True\n",
      "True\n",
      "True\n",
      "True\n",
      "True\n",
      "True\n"
     ]
    }
   ],
   "source": [
    "import sympy as sym\n",
    "\n",
    "for N in range(101):\n",
    "    print(sym.isprime(N) == is_prime(N))"
   ]
  },
  {
   "cell_type": "markdown",
   "id": "1cba9398",
   "metadata": {},
   "source": [
    "## Question 4\n",
    "\n",
    "> 4. Write a `stats.py` file with two functions to implement the calculations of\n",
    ">    mean and population variance.\n",
    "\n",
    "We place the following code in a `stats.py` file:"
   ]
  },
  {
   "cell_type": "code",
   "execution_count": 14,
   "id": "71cd5a7c",
   "metadata": {},
   "outputs": [],
   "source": [
    "def get_mean(iterable):\n",
    "    \"\"\"\n",
    "    Returns the mean of a given iterable which is defined as the sum divided by\n",
    "    the number of items.\n",
    "    \"\"\"\n",
    "    return sum(iterable) / len(iterable)\n",
    "\n",
    "\n",
    "def get_population_variance(iterable):\n",
    "    \"\"\"\n",
    "    Returns the population variance of a given iterable which is defined as the\n",
    "    mean square of the differences from the mean.\n",
    "    \"\"\"\n",
    "    mean = get_mean(iterable)\n",
    "    squares_of_differences = [(value - mean) ** 2 for value in iterable]\n",
    "    return get_mean(squares_of_differences)"
   ]
  },
  {
   "cell_type": "markdown",
   "id": "15e62ef3",
   "metadata": {},
   "source": [
    ">    Use your functions to compute the mean and population variance of the following\n",
    ">    collections of numbers:\n",
    "\n",
    ">    1. $S_1=(1, 2, 3, 4, 4, 4, 4, 4)$"
   ]
  },
  {
   "cell_type": "code",
   "execution_count": 15,
   "id": "bd8b2cdc",
   "metadata": {},
   "outputs": [
    {
     "data": {
      "text/plain": [
       "3.142857142857143"
      ]
     },
     "execution_count": 15,
     "metadata": {},
     "output_type": "execute_result"
    }
   ],
   "source": [
    "import stats\n",
    "\n",
    "s1 = (1, 2, 3, 4, 4, 4, 4)\n",
    "stats.get_mean(iterable=s1)"
   ]
  },
  {
   "cell_type": "code",
   "execution_count": 16,
   "id": "ed151be3",
   "metadata": {},
   "outputs": [
    {
     "data": {
      "text/plain": [
       "1.2653061224489794"
      ]
     },
     "execution_count": 16,
     "metadata": {},
     "output_type": "execute_result"
    }
   ],
   "source": [
    "stats.get_population_variance(iterable=s1)"
   ]
  },
  {
   "cell_type": "markdown",
   "id": "919e7a38",
   "metadata": {},
   "source": [
    ">    2. $S_1=(1)$"
   ]
  },
  {
   "cell_type": "code",
   "execution_count": 17,
   "id": "007ba0be",
   "metadata": {},
   "outputs": [
    {
     "data": {
      "text/plain": [
       "1.0"
      ]
     },
     "execution_count": 17,
     "metadata": {},
     "output_type": "execute_result"
    }
   ],
   "source": [
    "s2 = (1,)\n",
    "stats.get_mean(iterable=s2)"
   ]
  },
  {
   "cell_type": "code",
   "execution_count": 18,
   "id": "e0340f6c",
   "metadata": {},
   "outputs": [
    {
     "data": {
      "text/plain": [
       "0.0"
      ]
     },
     "execution_count": 18,
     "metadata": {},
     "output_type": "execute_result"
    }
   ],
   "source": [
    "stats.get_population_variance(iterable=s2)"
   ]
  },
  {
   "cell_type": "markdown",
   "id": "33cba4df",
   "metadata": {},
   "source": [
    ">    3. $S_1=(1, 1, 1, 2, 3, 4, 4, 4, 4, 4)$"
   ]
  },
  {
   "cell_type": "code",
   "execution_count": 19,
   "id": "055d420e",
   "metadata": {},
   "outputs": [
    {
     "data": {
      "text/plain": [
       "2.8"
      ]
     },
     "execution_count": 19,
     "metadata": {},
     "output_type": "execute_result"
    }
   ],
   "source": [
    "s3 = (1, 1, 1, 2, 3, 4, 4, 4, 4, 4)\n",
    "stats.get_mean(iterable=s3)"
   ]
  },
  {
   "cell_type": "code",
   "execution_count": 20,
   "id": "8de1d466",
   "metadata": {},
   "outputs": [
    {
     "data": {
      "text/plain": [
       "1.7600000000000005"
      ]
     },
     "execution_count": 20,
     "metadata": {},
     "output_type": "execute_result"
    }
   ],
   "source": [
    "stats.get_population_variance(iterable=s3)"
   ]
  },
  {
   "cell_type": "markdown",
   "id": "24231fd9",
   "metadata": {},
   "source": [
    ">    Compare your results to the results of using the `statistics.mean`,\n",
    ">     and `statistics.pvariance`. Note: the `statistics` library\n",
    ">    is part of the standard python library."
   ]
  },
  {
   "cell_type": "code",
   "execution_count": 21,
   "id": "1aa8a8d6",
   "metadata": {},
   "outputs": [
    {
     "data": {
      "text/plain": [
       "3.142857142857143"
      ]
     },
     "execution_count": 21,
     "metadata": {},
     "output_type": "execute_result"
    }
   ],
   "source": [
    "import statistics\n",
    "\n",
    "statistics.mean(s1)"
   ]
  },
  {
   "cell_type": "code",
   "execution_count": 22,
   "id": "dbab3b54",
   "metadata": {},
   "outputs": [
    {
     "data": {
      "text/plain": [
       "1.2653061224489797"
      ]
     },
     "execution_count": 22,
     "metadata": {},
     "output_type": "execute_result"
    }
   ],
   "source": [
    "statistics.pvariance(s1)"
   ]
  },
  {
   "cell_type": "code",
   "execution_count": 23,
   "id": "1f14e95d",
   "metadata": {},
   "outputs": [
    {
     "data": {
      "text/plain": [
       "1"
      ]
     },
     "execution_count": 23,
     "metadata": {},
     "output_type": "execute_result"
    }
   ],
   "source": [
    "statistics.mean(s2)"
   ]
  },
  {
   "cell_type": "code",
   "execution_count": 24,
   "id": "20026ad2",
   "metadata": {},
   "outputs": [
    {
     "data": {
      "text/plain": [
       "0"
      ]
     },
     "execution_count": 24,
     "metadata": {},
     "output_type": "execute_result"
    }
   ],
   "source": [
    "statistics.pvariance(s2)"
   ]
  },
  {
   "cell_type": "code",
   "execution_count": 25,
   "id": "dac18698",
   "metadata": {},
   "outputs": [
    {
     "data": {
      "text/plain": [
       "2.8"
      ]
     },
     "execution_count": 25,
     "metadata": {},
     "output_type": "execute_result"
    }
   ],
   "source": [
    "statistics.mean(s3)"
   ]
  },
  {
   "cell_type": "code",
   "execution_count": 26,
   "id": "52a8a066",
   "metadata": {},
   "outputs": [
    {
     "data": {
      "text/plain": [
       "1.76"
      ]
     },
     "execution_count": 26,
     "metadata": {},
     "output_type": "execute_result"
    }
   ],
   "source": [
    "statistics.pvariance(s3)"
   ]
  }
 ],
 "metadata": {
  "jupytext": {
   "formats": "ipynb,md:myst",
   "text_representation": {
    "extension": ".md",
    "format_name": "myst",
    "format_version": 0.12,
    "jupytext_version": "1.6.0"
   }
  },
  "kernelspec": {
   "display_name": "Python 3",
   "language": "python",
   "name": "python3"
  },
  "language_info": {
   "codemirror_mode": {
    "name": "ipython",
    "version": 3
   },
   "file_extension": ".py",
   "mimetype": "text/x-python",
   "name": "python",
   "nbconvert_exporter": "python",
   "pygments_lexer": "ipython3",
   "version": "3.10.13"
  },
  "source_map": [
   13,
   30,
   32,
   36,
   38,
   42,
   46,
   50,
   54,
   58,
   62,
   67,
   73,
   110,
   120,
   131,
   135,
   152,
   182,
   190,
   196,
   200,
   219,
   226,
   233,
   242,
   259,
   266,
   273,
   275,
   279,
   284,
   286,
   289,
   294,
   296,
   303,
   309,
   313,
   317,
   321,
   325
  ]
 },
 "nbformat": 4,
 "nbformat_minor": 5
}